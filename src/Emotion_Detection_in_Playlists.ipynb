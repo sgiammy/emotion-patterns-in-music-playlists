{
 "cells": [
  {
   "cell_type": "markdown",
   "metadata": {},
   "source": [
    "# Emotion Patterns in Music Playlists\n",
    "\n",
    "Please refer to [https://github.com/sgiammy/emotion-patterns-in-music-playlists](https://github.com/sgiammy/emotion-patterns-in-music-playlists) for more details on the code which is used in this notebook."
   ]
  },
  {
   "cell_type": "code",
   "execution_count": 1,
   "metadata": {
    "ExecuteTime": {
     "end_time": "2018-04-17T10:41:05.552845Z",
     "start_time": "2018-04-17T10:41:04.158780Z"
    }
   },
   "outputs": [],
   "source": [
    "import spacy\n",
    "import os\n",
    "import sys\n",
    "\n",
    "import numpy as np\n",
    "import pandas as pd\n",
    "\n",
    "from sklearn.preprocessing import LabelEncoder\n",
    "\n",
    "from sklearn.model_selection import cross_val_score\n",
    "from sklearn.model_selection import GridSearchCV\n",
    "\n",
    "from sklearn.metrics import confusion_matrix\n",
    "\n",
    "from sklearn.decomposition import PCA\n",
    "\n",
    "import seaborn as sns\n",
    "sns.set()\n",
    "import matplotlib.pyplot as plt\n",
    "\n",
    "from utils.datasets import load_dataset_from_path, split_train_validation\n",
    "\n",
    "lyrics_path = './ml_lyrics'\n",
    "\n",
    "emotion_labels = ['happy', 'sad', 'relaxed', 'angry']"
   ]
  },
  {
   "cell_type": "code",
   "execution_count": 2,
   "metadata": {
    "ExecuteTime": {
     "end_time": "2018-04-17T10:41:05.568629Z",
     "start_time": "2018-04-17T10:41:05.555838Z"
    }
   },
   "outputs": [],
   "source": [
    "def parameters_grid_search(classifier, params, x, y, cv=10, verbose=False):\n",
    "    \"\"\"\n",
    "    Grid Search to find best parameters for a certain classifier whose\n",
    "    performances are evaluated using cross-validation\n",
    "    \"\"\"\n",
    "    gs = GridSearchCV(classifier(), params, cv=cv, n_jobs=-1, verbose=verbose)\n",
    "    gs.fit(x, y)    \n",
    "    return (gs.best_estimator_, gs.best_params_)"
   ]
  },
  {
   "cell_type": "markdown",
   "metadata": {},
   "source": [
    "This notebook has the sole purpose of providing us an experimental environment in which we can quickly test our intuitions and ideas. Therefore, even though for the final algorithm we plan to use FastText, for this notebook we will use a pre-trainend language model available in spaCy containing 685k unique vectors trained on Common Crawl.\n",
    "\n",
    "For more information about the language model we are using, please refer to [this](https://spacy.io/models/en) link."
   ]
  },
  {
   "cell_type": "code",
   "execution_count": 3,
   "metadata": {
    "ExecuteTime": {
     "end_time": "2018-04-17T10:41:16.470279Z",
     "start_time": "2018-04-17T10:41:05.571274Z"
    }
   },
   "outputs": [],
   "source": [
    "# For this notebook we will use a simple spacy vocabulary\n",
    "# because we just need to do some experiments\n",
    "spacy_lang = 'en_core_web_lg'\n",
    "nlp = spacy.load(spacy_lang)"
   ]
  },
  {
   "cell_type": "code",
   "execution_count": 4,
   "metadata": {
    "ExecuteTime": {
     "end_time": "2018-04-17T10:41:20.439340Z",
     "start_time": "2018-04-17T10:41:16.472641Z"
    }
   },
   "outputs": [
    {
     "data": {
      "text/plain": [
       "12"
      ]
     },
     "execution_count": 4,
     "metadata": {},
     "output_type": "execute_result"
    }
   ],
   "source": [
    "# The language model we are using has some issues with stop words.\n",
    "# Basically we need to grab stopwords from the 'en' language model\n",
    "# and add them back to the model we are using.\n",
    "# https://github.com/explosion/spaCy/issues/922\n",
    "nlp.vocab.add_flag(lambda s: s.lower() in spacy.lang.en.stop_words.STOP_WORDS, spacy.attrs.IS_STOP)"
   ]
  },
  {
   "cell_type": "markdown",
   "metadata": {
    "toc": true
   },
   "source": [
    "<h1>Table of Contents<span class=\"tocSkip\"></span></h1>\n",
    "<div class=\"toc\"><ul class=\"toc-item\"><li><span><a href=\"#Emotion-Patterns-in-Music-Playlists\" data-toc-modified-id=\"Emotion-Patterns-in-Music-Playlists-1\"><span class=\"toc-item-num\">1&nbsp;&nbsp;</span>Emotion Patterns in Music Playlists</a></span></li><li><span><a href=\"#The-Dataset:-MoodyLyrics\" data-toc-modified-id=\"The-Dataset:-MoodyLyrics-2\"><span class=\"toc-item-num\">2&nbsp;&nbsp;</span>The Dataset: MoodyLyrics</a></span></li><li><span><a href=\"#Lyrics-Preprocessing\" data-toc-modified-id=\"Lyrics-Preprocessing-3\"><span class=\"toc-item-num\">3&nbsp;&nbsp;</span>Lyrics Preprocessing</a></span><ul class=\"toc-item\"><li><span><a href=\"#Lyrics-Download\" data-toc-modified-id=\"Lyrics-Download-3.1\"><span class=\"toc-item-num\">3.1&nbsp;&nbsp;</span>Lyrics Download</a></span></li><li><span><a href=\"#Stopwords-deletion\" data-toc-modified-id=\"Stopwords-deletion-3.2\"><span class=\"toc-item-num\">3.2&nbsp;&nbsp;</span>Stopwords deletion</a></span></li><li><span><a href=\"#Preprocessing-Function\" data-toc-modified-id=\"Preprocessing-Function-3.3\"><span class=\"toc-item-num\">3.3&nbsp;&nbsp;</span>Preprocessing Function</a></span></li></ul></li><li><span><a href=\"#Feature-Engineering\" data-toc-modified-id=\"Feature-Engineering-4\"><span class=\"toc-item-num\">4&nbsp;&nbsp;</span>Feature Engineering</a></span><ul class=\"toc-item\"><li><span><a href=\"#Principal-Component-Analysis\" data-toc-modified-id=\"Principal-Component-Analysis-4.1\"><span class=\"toc-item-num\">4.1&nbsp;&nbsp;</span>Principal Component Analysis</a></span></li><li><span><a href=\"#Feature-Engineering-Function\" data-toc-modified-id=\"Feature-Engineering-Function-4.2\"><span class=\"toc-item-num\">4.2&nbsp;&nbsp;</span>Feature Engineering Function</a></span></li></ul></li><li><span><a href=\"#Classifiers-on-Lyrics-Content\" data-toc-modified-id=\"Classifiers-on-Lyrics-Content-5\"><span class=\"toc-item-num\">5&nbsp;&nbsp;</span>Classifiers on Lyrics Content</a></span><ul class=\"toc-item\"><li><span><a href=\"#Supervised-K-Means\" data-toc-modified-id=\"Supervised-K-Means-5.1\"><span class=\"toc-item-num\">5.1&nbsp;&nbsp;</span>Supervised K-Means</a></span></li><li><span><a href=\"#k-Nearest-Neighbour\" data-toc-modified-id=\"k-Nearest-Neighbour-5.2\"><span class=\"toc-item-num\">5.2&nbsp;&nbsp;</span>k-Nearest Neighbour</a></span></li><li><span><a href=\"#SVM\" data-toc-modified-id=\"SVM-5.3\"><span class=\"toc-item-num\">5.3&nbsp;&nbsp;</span>SVM</a></span></li><li><span><a href=\"#Gradient-Boost\" data-toc-modified-id=\"Gradient-Boost-5.4\"><span class=\"toc-item-num\">5.4&nbsp;&nbsp;</span>Gradient Boost</a></span></li><li><span><a href=\"#Artifical-Neural-Network\" data-toc-modified-id=\"Artifical-Neural-Network-5.5\"><span class=\"toc-item-num\">5.5&nbsp;&nbsp;</span>Artifical Neural Network</a></span></li></ul></li><li><span><a href=\"#What-if-we-just-consider-the-song-title?\" data-toc-modified-id=\"What-if-we-just-consider-the-song-title?-6\"><span class=\"toc-item-num\">6&nbsp;&nbsp;</span>What if we just consider the song title?</a></span><ul class=\"toc-item\"><li><span><a href=\"#SVM-with-title-only\" data-toc-modified-id=\"SVM-with-title-only-6.1\"><span class=\"toc-item-num\">6.1&nbsp;&nbsp;</span>SVM with title only</a></span></li><li><span><a href=\"#Gradient-Boost-with-title-only\" data-toc-modified-id=\"Gradient-Boost-with-title-only-6.2\"><span class=\"toc-item-num\">6.2&nbsp;&nbsp;</span>Gradient Boost with title only</a></span></li><li><span><a href=\"#Artificial-Neural-Network-with-title-only\" data-toc-modified-id=\"Artificial-Neural-Network-with-title-only-6.3\"><span class=\"toc-item-num\">6.3&nbsp;&nbsp;</span>Artificial Neural Network with title only</a></span></li></ul></li><li><span><a href=\"#Song-Content-+-Song-Title\" data-toc-modified-id=\"Song-Content-+-Song-Title-7\"><span class=\"toc-item-num\">7&nbsp;&nbsp;</span>Song Content + Song Title</a></span><ul class=\"toc-item\"><li><span><a href=\"#SVM\" data-toc-modified-id=\"SVM-7.1\"><span class=\"toc-item-num\">7.1&nbsp;&nbsp;</span>SVM</a></span></li><li><span><a href=\"#Artificial-Neural-Network\" data-toc-modified-id=\"Artificial-Neural-Network-7.2\"><span class=\"toc-item-num\">7.2&nbsp;&nbsp;</span>Artificial Neural Network</a></span></li></ul></li></ul></div>"
   ]
  },
  {
   "cell_type": "markdown",
   "metadata": {},
   "source": [
    "# The Dataset: MoodyLyrics\n",
    "\n",
    "In the followign section we will provide some interesting statistics on the dataset we will be using throughtout the notebook: MoodyLyrics.<br>\n",
    "ModdyLyrics has the following header: <br>\n",
    "*<Index, Artist, Song, Emotion>*\n",
    "where:\n",
    "<ul>\n",
    "    <li>*Index*: monotonically increasing ID</li>\n",
    "    <li>*Artist*: name of the artist</li>\n",
    "    <li>*Song*: title of the song</li>\n",
    "    <li>*Emotion*: one between ['happy', 'sad', 'relaxed', 'angry']</li>\n",
    "</ul>"
   ]
  },
  {
   "cell_type": "markdown",
   "metadata": {},
   "source": [
    "Firstly, let's see how many rows we have in our dataset."
   ]
  },
  {
   "cell_type": "code",
   "execution_count": 5,
   "metadata": {
    "ExecuteTime": {
     "end_time": "2018-04-17T10:41:20.463191Z",
     "start_time": "2018-04-17T10:41:20.444118Z"
    }
   },
   "outputs": [
    {
     "name": "stdout",
     "output_type": "stream",
     "text": [
      "(2595, 4)\n"
     ]
    }
   ],
   "source": [
    "moodyLyricsDF = pd.read_csv('./datasets/moodylyrics_raw.csv')\n",
    "print(moodyLyricsDF.shape)"
   ]
  },
  {
   "cell_type": "markdown",
   "metadata": {},
   "source": [
    "So we have 2596 rows, but the first one of course is the header. <br>"
   ]
  },
  {
   "cell_type": "markdown",
   "metadata": {},
   "source": [
    "In MoodyLyrics we have 4 different emotion labels for our songs: happy, sad, relaxed and angry. Let's see how those 4 classes are distributed."
   ]
  },
  {
   "cell_type": "code",
   "execution_count": 18,
   "metadata": {
    "ExecuteTime": {
     "end_time": "2018-04-16T08:55:36.239656Z",
     "start_time": "2018-04-16T08:55:36.209988Z"
    }
   },
   "outputs": [
    {
     "data": {
      "text/html": [
       "<div>\n",
       "<style scoped>\n",
       "    .dataframe tbody tr th:only-of-type {\n",
       "        vertical-align: middle;\n",
       "    }\n",
       "\n",
       "    .dataframe tbody tr th {\n",
       "        vertical-align: top;\n",
       "    }\n",
       "\n",
       "    .dataframe thead th {\n",
       "        text-align: right;\n",
       "    }\n",
       "</style>\n",
       "<table border=\"1\" class=\"dataframe\">\n",
       "  <thead>\n",
       "    <tr style=\"text-align: right;\">\n",
       "      <th></th>\n",
       "      <th>Index</th>\n",
       "      <th>Artist</th>\n",
       "      <th>Song</th>\n",
       "      <th>Emotion</th>\n",
       "    </tr>\n",
       "  </thead>\n",
       "  <tbody>\n",
       "    <tr>\n",
       "      <th>count</th>\n",
       "      <td>2595</td>\n",
       "      <td>2595</td>\n",
       "      <td>2595</td>\n",
       "      <td>2595</td>\n",
       "    </tr>\n",
       "    <tr>\n",
       "      <th>unique</th>\n",
       "      <td>2595</td>\n",
       "      <td>1672</td>\n",
       "      <td>2229</td>\n",
       "      <td>4</td>\n",
       "    </tr>\n",
       "    <tr>\n",
       "      <th>top</th>\n",
       "      <td>ML825</td>\n",
       "      <td>The Beatles</td>\n",
       "      <td>Silent Night</td>\n",
       "      <td>happy</td>\n",
       "    </tr>\n",
       "    <tr>\n",
       "      <th>freq</th>\n",
       "      <td>1</td>\n",
       "      <td>52</td>\n",
       "      <td>24</td>\n",
       "      <td>819</td>\n",
       "    </tr>\n",
       "  </tbody>\n",
       "</table>\n",
       "</div>"
      ],
      "text/plain": [
       "        Index       Artist          Song Emotion\n",
       "count    2595         2595          2595    2595\n",
       "unique   2595         1672          2229       4\n",
       "top     ML825  The Beatles  Silent Night   happy\n",
       "freq        1           52            24     819"
      ]
     },
     "execution_count": 18,
     "metadata": {},
     "output_type": "execute_result"
    }
   ],
   "source": [
    "moodyLyricsDF.describe()"
   ]
  },
  {
   "cell_type": "markdown",
   "metadata": {},
   "source": [
    "We can notice something weird! Some songs, such as \"Silent Night\" appear more than once.<br>\n",
    "Let's check if this is because there are duplicated rows or just because there are songs with the same title but different artist. "
   ]
  },
  {
   "cell_type": "code",
   "execution_count": 19,
   "metadata": {
    "ExecuteTime": {
     "end_time": "2018-04-16T08:55:37.552786Z",
     "start_time": "2018-04-16T08:55:37.519176Z"
    }
   },
   "outputs": [
    {
     "name": "stdout",
     "output_type": "stream",
     "text": [
      "(2509, 3)\n",
      "(82, 3)\n"
     ]
    },
    {
     "data": {
      "text/html": [
       "<div>\n",
       "<style scoped>\n",
       "    .dataframe tbody tr th:only-of-type {\n",
       "        vertical-align: middle;\n",
       "    }\n",
       "\n",
       "    .dataframe tbody tr th {\n",
       "        vertical-align: top;\n",
       "    }\n",
       "\n",
       "    .dataframe thead th {\n",
       "        text-align: right;\n",
       "    }\n",
       "</style>\n",
       "<table border=\"1\" class=\"dataframe\">\n",
       "  <thead>\n",
       "    <tr style=\"text-align: right;\">\n",
       "      <th></th>\n",
       "      <th>Index</th>\n",
       "      <th>Artist</th>\n",
       "      <th>Song</th>\n",
       "      <th>Emotion</th>\n",
       "    </tr>\n",
       "  </thead>\n",
       "  <tbody>\n",
       "    <tr>\n",
       "      <th>653</th>\n",
       "      <td>ML654</td>\n",
       "      <td>Akon</td>\n",
       "      <td>Don't Matter</td>\n",
       "      <td>angry</td>\n",
       "    </tr>\n",
       "    <tr>\n",
       "      <th>961</th>\n",
       "      <td>ML962</td>\n",
       "      <td>Akon</td>\n",
       "      <td>Lonely</td>\n",
       "      <td>sad</td>\n",
       "    </tr>\n",
       "    <tr>\n",
       "      <th>2417</th>\n",
       "      <td>ML2418</td>\n",
       "      <td>Akon</td>\n",
       "      <td>Lonely</td>\n",
       "      <td>sad</td>\n",
       "    </tr>\n",
       "    <tr>\n",
       "      <th>2538</th>\n",
       "      <td>ML2539</td>\n",
       "      <td>Akon</td>\n",
       "      <td>Don't Matter</td>\n",
       "      <td>angry</td>\n",
       "    </tr>\n",
       "  </tbody>\n",
       "</table>\n",
       "</div>"
      ],
      "text/plain": [
       "       Index Artist          Song Emotion\n",
       "653    ML654   Akon  Don't Matter   angry\n",
       "961    ML962   Akon        Lonely     sad\n",
       "2417  ML2418   Akon        Lonely     sad\n",
       "2538  ML2539   Akon  Don't Matter   angry"
      ]
     },
     "execution_count": 19,
     "metadata": {},
     "output_type": "execute_result"
    }
   ],
   "source": [
    "#print(moodyLyricsDF.Song.value_counts()[:10])\n",
    "duplicatedCheck = moodyLyricsDF.groupby(['Artist','Song']).size().reset_index(name='count')\n",
    "print(duplicatedCheck.shape)\n",
    "duplicatedRows = duplicatedCheck [(duplicatedCheck ['count']>1)]\n",
    "print(duplicatedRows.shape)\n",
    "moodyLyricsDF[(moodyLyricsDF['Artist']=='Akon')]"
   ]
  },
  {
   "cell_type": "markdown",
   "metadata": {},
   "source": [
    "There are 82 duplicated rows. <br>\n",
    "We now group by 'Artist' and 'Song', and we label each song with the most frequent emotion."
   ]
  },
  {
   "cell_type": "code",
   "execution_count": 20,
   "metadata": {
    "ExecuteTime": {
     "end_time": "2018-04-16T08:55:39.741672Z",
     "start_time": "2018-04-16T08:55:38.303602Z"
    }
   },
   "outputs": [
    {
     "name": "stdout",
     "output_type": "stream",
     "text": [
      "(2509, 3)\n"
     ]
    },
    {
     "data": {
      "text/html": [
       "<div>\n",
       "<style scoped>\n",
       "    .dataframe tbody tr th:only-of-type {\n",
       "        vertical-align: middle;\n",
       "    }\n",
       "\n",
       "    .dataframe tbody tr th {\n",
       "        vertical-align: top;\n",
       "    }\n",
       "\n",
       "    .dataframe thead th {\n",
       "        text-align: right;\n",
       "    }\n",
       "</style>\n",
       "<table border=\"1\" class=\"dataframe\">\n",
       "  <thead>\n",
       "    <tr style=\"text-align: right;\">\n",
       "      <th></th>\n",
       "      <th>Artist</th>\n",
       "      <th>Song</th>\n",
       "      <th>Emotion</th>\n",
       "    </tr>\n",
       "  </thead>\n",
       "  <tbody>\n",
       "    <tr>\n",
       "      <th>34</th>\n",
       "      <td>Akon</td>\n",
       "      <td>Don't Matter</td>\n",
       "      <td>angry</td>\n",
       "    </tr>\n",
       "    <tr>\n",
       "      <th>35</th>\n",
       "      <td>Akon</td>\n",
       "      <td>Lonely</td>\n",
       "      <td>sad</td>\n",
       "    </tr>\n",
       "  </tbody>\n",
       "</table>\n",
       "</div>"
      ],
      "text/plain": [
       "   Artist          Song Emotion\n",
       "34   Akon  Don't Matter   angry\n",
       "35   Akon        Lonely     sad"
      ]
     },
     "execution_count": 20,
     "metadata": {},
     "output_type": "execute_result"
    }
   ],
   "source": [
    "moodyLyricsDF = moodyLyricsDF.groupby(['Artist','Song'],as_index=False)['Emotion'].agg(lambda x:x.value_counts().index[0])\n",
    "print(moodyLyricsDF.shape)\n",
    "moodyLyricsDF[(moodyLyricsDF['Artist']==\"Akon\")]"
   ]
  },
  {
   "cell_type": "code",
   "execution_count": 21,
   "metadata": {
    "ExecuteTime": {
     "end_time": "2018-04-16T08:55:40.038198Z",
     "start_time": "2018-04-16T08:55:39.744082Z"
    }
   },
   "outputs": [
    {
     "name": "stdout",
     "output_type": "stream",
     "text": [
      "happy      790\n",
      "sad        584\n",
      "relaxed    579\n",
      "angry      556\n",
      "Name: Emotion, dtype: int64\n"
     ]
    },
    {
     "data": {
      "image/png": "[encoded data removed]",
      "text/plain": [
       "<Figure size 432x288 with 1 Axes>"
      ]
     },
     "metadata": {},
     "output_type": "display_data"
    }
   ],
   "source": [
    "emotionDistribution = moodyLyricsDF.Emotion.value_counts()\n",
    "print(emotionDistribution)\n",
    "ax = sns.barplot(x=np.array(range(4)),y=emotionDistribution,palette='magma')\n",
    "ax.set_title('Emotion distribution',fontsize=20)\n",
    "ax.set_xticklabels(emotion_labels)\n",
    "plt.show()"
   ]
  },
  {
   "cell_type": "markdown",
   "metadata": {},
   "source": [
    "As we can see our lyrics are quite balanced among the 4 different classes. Only the happy class has some more lyrics with respect to the other threes. However we believe that it is not going to be a problem as the different between happy and other lyrics should not be too relevant."
   ]
  },
  {
   "cell_type": "markdown",
   "metadata": {},
   "source": [
    "Let's save the cleaned dataset into a csv file."
   ]
  },
  {
   "cell_type": "code",
   "execution_count": 22,
   "metadata": {
    "ExecuteTime": {
     "end_time": "2018-04-16T08:55:41.279957Z",
     "start_time": "2018-04-16T08:55:41.258075Z"
    }
   },
   "outputs": [],
   "source": [
    "moodyLyricsDF.to_csv('./datasets/moodylyrics_cleaned.csv')"
   ]
  },
  {
   "cell_type": "markdown",
   "metadata": {},
   "source": [
    "# Lyrics Preprocessing\n",
    "\n",
    "Now we will move on analyzing several techniques for lyrics preprocessing, eventually evaluating their effects and their performances."
   ]
  },
  {
   "cell_type": "markdown",
   "metadata": {},
   "source": [
    "## Lyrics Download"
   ]
  },
  {
   "cell_type": "markdown",
   "metadata": {},
   "source": [
    "First, let's download the lyrics from lyricwikia"
   ]
  },
  {
   "cell_type": "code",
   "execution_count": 12,
   "metadata": {
    "ExecuteTime": {
     "end_time": "2018-04-11T21:04:53.614882Z",
     "start_time": "2018-04-11T21:04:53.352578Z"
    }
   },
   "outputs": [],
   "source": [
    "import lyricwikia\n",
    "import argparse\n",
    "import sys\n",
    "import os\n",
    "import shutil\n",
    "\n",
    "from utils.progress import progress\n",
    "\n",
    "def download_lyrics(input,output,skipHeader=True):\n",
    "\n",
    "    def songs_count(path):\n",
    "        with open(path) as f:\n",
    "            count = len(f.readlines()) - 1\n",
    "            if skipHeader:\n",
    "                count -= 1\n",
    "            return count\n",
    "\n",
    "    # Generator function which reads the lyrics from a csv file line by line\n",
    "    def lyric_entries_generator(path):\n",
    "        with open(path) as lp:\n",
    "            l = lp.readline()\n",
    "            if skipHeader:\n",
    "                l = lp.readline()\n",
    "            while l:\n",
    "                yield l.rstrip().split(',')\n",
    "                l = lp.readline()\n",
    "\n",
    "    def create_output_dir(path):\n",
    "        if os.path.exists(path) and os.path.isdir(path):\n",
    "            shutil.rmtree(path)\n",
    "        os.makedirs(path)\n",
    "\n",
    "\n",
    "    LOG_FILE = '.'.join([input, 'log'])\n",
    "    try:\n",
    "        os.remove(os.path.join('.', LOG_FILE))\n",
    "    except OSError:\n",
    "      # Log file did not exists...not too bad\n",
    "        pass\n",
    "\n",
    "    def err(msg):\n",
    "        with open(os.path.join('.', LOG_FILE), 'a') as log:\n",
    "            log.write(msg)\n",
    "            log.write('\\n')\n",
    "\n",
    "    def download_lyric(song):\n",
    "        try:\n",
    "            lyric = lyricwikia.get_lyrics(song[1], song[2])\n",
    "            filename = '_'.join([song[3], song[1], song[2]])\n",
    "            filename = filename.replace('/', '-') # The '/' should never appear\n",
    "            with open(os.path.join(output, filename), 'w') as sfile:\n",
    "                sfile.write(lyric)\n",
    "                return True\n",
    "        except lyricwikia.LyricsNotFound:\n",
    "            err('Could not download {}'.format(song))\n",
    "            return False\n",
    "\n",
    "\n",
    "    # Get the number of songs we are going to download\n",
    "    totalSongs = songs_count(input)\n",
    "\n",
    "    # Create output directory\n",
    "    create_output_dir(output)\n",
    "\n",
    "    # Download songs\n",
    "    count = 0 \n",
    "    errCount = 0\n",
    "    for lyric in lyric_entries_generator(input):\n",
    "        progress(count, totalSongs, 'Errors encountered: {}'.format(errCount))\n",
    "        if not download_lyric(lyric):\n",
    "            errCount += 1\n",
    "        count += 1"
   ]
  },
  {
   "cell_type": "code",
   "execution_count": 17,
   "metadata": {
    "ExecuteTime": {
     "end_time": "2018-04-11T21:12:41.509559Z",
     "start_time": "2018-04-11T21:12:41.503423Z"
    }
   },
   "outputs": [],
   "source": [
    "inputCsv = './datasets/moodylyrics_cleaned.csv'\n",
    "outputDir = './ml_lyrics'\n",
    "if os.path.exists(outputDir) and os.path.isdir(outputDir):\n",
    "    pass\n",
    "else:\n",
    "    download_lyrics(inputCsv,outputDir)"
   ]
  },
  {
   "cell_type": "markdown",
   "metadata": {},
   "source": [
    "Now let's see how many lyrics we have actually downloaded."
   ]
  },
  {
   "cell_type": "code",
   "execution_count": 18,
   "metadata": {
    "ExecuteTime": {
     "end_time": "2018-04-11T21:12:42.648587Z",
     "start_time": "2018-04-11T21:12:42.589695Z"
    }
   },
   "outputs": [
    {
     "name": "stdout",
     "output_type": "stream",
     "text": [
      "2453\n"
     ]
    }
   ],
   "source": [
    "%%bash\n",
    "ls -1 ml_lyrics/ | wc -l"
   ]
  },
  {
   "cell_type": "markdown",
   "metadata": {},
   "source": [
    "And let's analyse the emotion distribution considering only the song for which we have downloaded the lyrics."
   ]
  },
  {
   "cell_type": "code",
   "execution_count": 19,
   "metadata": {
    "ExecuteTime": {
     "end_time": "2018-04-11T21:12:43.386279Z",
     "start_time": "2018-04-11T21:12:43.365503Z"
    }
   },
   "outputs": [],
   "source": [
    "count = dict(list(zip(emotion_labels, [0 for x in range(len(emotion_labels))])))\n",
    "\n",
    "# Traverse the dataset directory\n",
    "for root, dirs, files in os.walk(lyrics_path):\n",
    "    for f in files:\n",
    "        fields = f.split('_')\n",
    "        if len(fields) > 0:\n",
    "            count[fields[0]] += 1"
   ]
  },
  {
   "cell_type": "code",
   "execution_count": 20,
   "metadata": {
    "ExecuteTime": {
     "end_time": "2018-04-11T21:12:44.892814Z",
     "start_time": "2018-04-11T21:12:44.683312Z"
    }
   },
   "outputs": [
    {
     "data": {
      "image/png": "[encoded data removed]",
      "text/plain": [
       "<Figure size 432x288 with 1 Axes>"
      ]
     },
     "metadata": {},
     "output_type": "display_data"
    }
   ],
   "source": [
    "# Plot the obtained counts\n",
    "# Plot\n",
    "fig, ax = plt.subplots()\n",
    "#fig.set_size_inches(10, 7)\n",
    "ax = sns.barplot(x=list(count.keys()), y=list(count.values()), ax=ax,palette='magma')\n",
    "ax.set_title('Amount of lyrics for each emotion',fontsize=20)\n",
    "plt.tight_layout()\n",
    "plt.show()"
   ]
  },
  {
   "cell_type": "markdown",
   "metadata": {},
   "source": [
    "We can see that the emotion distribution looks alike the previous one.  "
   ]
  },
  {
   "cell_type": "markdown",
   "metadata": {},
   "source": [
    "## Stopwords deletion\n",
    "\n",
    "In one of our meetings for our project an interesting question was raised: does it really make sense to remove stopwords from lyrics? Would we have enough words after removing stopwords? Let's see what is the percentage change in the amount of words in our lyrics after removing stopwords. "
   ]
  },
  {
   "cell_type": "code",
   "execution_count": 6,
   "metadata": {
    "ExecuteTime": {
     "end_time": "2018-04-17T10:41:20.473838Z",
     "start_time": "2018-04-17T10:41:20.466625Z"
    }
   },
   "outputs": [],
   "source": [
    "def remove_stopwords(doc):\n",
    "    tks = list(filter(lambda tk: not tk.is_stop, doc))\n",
    "    return spacy.tokens.Doc(nlp.vocab, words=[tk.text for tk in tks])"
   ]
  },
  {
   "cell_type": "code",
   "execution_count": 98,
   "metadata": {
    "ExecuteTime": {
     "end_time": "2018-04-16T09:58:33.941710Z",
     "start_time": "2018-04-16T09:54:31.929012Z"
    },
    "scrolled": true
   },
   "outputs": [
    {
     "name": "stdout",
     "output_type": "stream",
     "text": [
      "                                               Lyric  Word_Count  \\\n",
      "0  /home/mario/dev/emotion-patterns-in-music-play...         161   \n",
      "1  /home/mario/dev/emotion-patterns-in-music-play...        1151   \n",
      "2  /home/mario/dev/emotion-patterns-in-music-play...         391   \n",
      "3  /home/mario/dev/emotion-patterns-in-music-play...         297   \n",
      "4  /home/mario/dev/emotion-patterns-in-music-play...         759   \n",
      "\n",
      "   Word_Count_After  Percentage_Change  \n",
      "0                85          47.204969  \n",
      "1               562          51.172893  \n",
      "2               245          37.340153  \n",
      "3               186          37.373737  \n",
      "4               417          45.059289  \n"
     ]
    }
   ],
   "source": [
    "paths = load_dataset_from_path(lyrics_path)['Lyric_Path'].as_matrix()\n",
    "\n",
    "# Build a dataframe with the following schema:\n",
    "# <Song, word_count, words_after_stopwords_removal, percentage_change>\n",
    "rows = list()\n",
    "\n",
    "for path in paths:\n",
    "    with open(path, 'r') as f:\n",
    "        doc = nlp(f.read())\n",
    "        n_words_before = len(doc)\n",
    "        doc = remove_stopwords(doc)\n",
    "        n_words_after = len(doc)\n",
    "        perc = (n_words_before - n_words_after) / n_words_before * 100\n",
    "        row = (path, n_words_before, n_words_after, perc)\n",
    "        rows.append(row)\n",
    "\n",
    "# Create a dataframe with the found information\n",
    "df = pd.DataFrame(rows, columns=['Lyric', 'Word_Count', \n",
    "                  'Word_Count_After', 'Percentage_Change'])\n",
    "print(df[:5])"
   ]
  },
  {
   "cell_type": "code",
   "execution_count": 181,
   "metadata": {
    "ExecuteTime": {
     "end_time": "2018-04-09T21:08:06.633245Z",
     "start_time": "2018-04-09T21:08:06.530430Z"
    }
   },
   "outputs": [
    {
     "name": "stdout",
     "output_type": "stream",
     "text": [
      "Percentage of change in lyrics after removing stopwords:\n",
      "                0     1\n",
      "0            < 25   225\n",
      "1  >= 25 and < 30    74\n",
      "2  >= 30 and < 40   495\n",
      "3  >= 40 and < 50  1009\n",
      "4  >= 50 and < 60   585\n",
      "5  >= 60 and < 75    59\n",
      "6           >= 75     0\n"
     ]
    }
   ],
   "source": [
    "# Print some statistics\n",
    "percs = [ 25, 30, 40, 50, 60, 75 ]\n",
    "print('Percentage of change in lyrics after removing stopwords:')\n",
    "it = enumerate(percs)\n",
    "plt_data = list()\n",
    "for (i, perc) in it:\n",
    "    if i == 0: \n",
    "        count = len(df[df['Percentage_Change'] < perc])\n",
    "        #print(' - < {}:\\t\\t\\t{}'.format(perc, count))\n",
    "        plt_data.append(('< {}'.format(perc), count))\n",
    "    elif i == len(percs) - 1:\n",
    "        prev_p = percs[i-1]\n",
    "        count = len(df[(df['Percentage_Change'] >= prev_p) & (df['Percentage_Change'] < perc)])\n",
    "        #print(' - between {} and {}:\\t{}'.format(prev_p, perc, count))\n",
    "        plt_data.append(('>= {} and < {}'.format(prev_p, perc, count), count))\n",
    "        \n",
    "        count = len(df[df['Percentage_Change'] >= perc])\n",
    "        #print(' - >= {}:\\t\\t\\t{}'.format(perc, count))\n",
    "        plt_data.append(('>= {}'.format(perc), count))\n",
    "    else:\n",
    "        prev_p = percs[i-1]\n",
    "        count = len(df[(df['Percentage_Change'] >= prev_p) & (df['Percentage_Change'] < perc)])\n",
    "        #print(' - between {} and {}:\\t{}'.format(prev_p, perc, count))\n",
    "        plt_data.append(('>= {} and < {}'.format(prev_p, perc, count), count))\n",
    "\n",
    "pltDf = pd.DataFrame(plt_data)\n",
    "print(pltDf)"
   ]
  },
  {
   "cell_type": "code",
   "execution_count": 183,
   "metadata": {
    "ExecuteTime": {
     "end_time": "2018-04-09T21:08:13.872095Z",
     "start_time": "2018-04-09T21:08:13.482903Z"
    }
   },
   "outputs": [
    {
     "data": {
      "image/png": "[encoded data removed]",
      "text/plain": [
       "<matplotlib.figure.Figure at 0x1a12b7d9e8>"
      ]
     },
     "metadata": {},
     "output_type": "display_data"
    }
   ],
   "source": [
    "# Plot\n",
    "fig, ax = plt.subplots()\n",
    "fig.set_size_inches(10, 7)\n",
    "ax = sns.barplot(pltDf[0], pltDf[1], ax=ax, palette='magma')\n",
    "ax.set_title('Percentage change in number of words after stopwords pruning')\n",
    "plt.tight_layout()\n",
    "plt.show()"
   ]
  },
  {
   "cell_type": "markdown",
   "metadata": {},
   "source": [
    "As we can see from the above plot, there is a minimum (but still relevant to our purpose) impact on lyrics, which still have a large number of words to be analyzed. Very few songs reduced their size of more then the 50% and for those songs we may probably have some issues. However this is a really small amount of lyrics that does not prevent us from saying that stopword deletion can be used as a good pre-processing technique for our model."
   ]
  },
  {
   "cell_type": "markdown",
   "metadata": {},
   "source": [
    "## Preprocessing Function\n",
    "Now that we have defined which kind of preprocessing is good to apply to the text of our songs, let's define a function which will be used throughout the notebook to perform lyrics preprocessing."
   ]
  },
  {
   "cell_type": "code",
   "execution_count": 7,
   "metadata": {
    "ExecuteTime": {
     "end_time": "2018-04-17T10:41:20.482537Z",
     "start_time": "2018-04-17T10:41:20.477898Z"
    }
   },
   "outputs": [],
   "source": [
    "def doc_preprocess(doc):\n",
    "    d = remove_stopwords(doc)\n",
    "    return d"
   ]
  },
  {
   "cell_type": "markdown",
   "metadata": {},
   "source": [
    "# Feature Engineering\n",
    "We will now move on trying to extract some interesting feature from our dataset. \n",
    "\n",
    "An important thing we need to state before starting analyzing this section, is that, by using spaCy's language model, each document has a word vector of length 300. SpaCy's language model has vectors of length 300 because it uses [GloVe](https://nlp.stanford.edu/projects/glove/) to train its models which is based on word2vec and assigns vectors of length 300 to each word."
   ]
  },
  {
   "cell_type": "markdown",
   "metadata": {},
   "source": [
    "## Principal Component Analysis\n",
    "As we already said, the language model we are usin assigns word vectors of length 300 to documents and words. However this dimension may be too huge for our problem. In fact it is possible that, by performing some dimensionality reduction, we could still obtain good results from our model.\n",
    "\n",
    "First of all we will perform PCA with 2 components, just because we want to visualize the effect of dimensionality reduction on our dataset."
   ]
  },
  {
   "cell_type": "code",
   "execution_count": 92,
   "metadata": {
    "ExecuteTime": {
     "end_time": "2018-04-16T09:53:52.732337Z",
     "start_time": "2018-04-16T09:49:56.314769Z"
    }
   },
   "outputs": [],
   "source": [
    "# Read dataset into pandas dataframe\n",
    "pca_dataset = load_dataset_from_path(lyrics_path)\n",
    "\n",
    "# Turn emotion labels into numerical features\n",
    "mapping = dict(zip(emotion_labels, range(len(emotion_labels)))) # { 'happy' : 0, 'sad': 1, 'relaxed': 2, 'angry': 3 }\n",
    "pca_dataset['Emotion'] = pca_dataset['Emotion'].map(mapping)\n",
    "\n",
    "# Make the dataset to follow this scema:\n",
    "# <Lyric_Path, Emotion, Vector, Vector_Norm>\n",
    "rows = list()\n",
    "pca_dataset['Vector'] = np.nan\n",
    "for index, row in pca_dataset.iterrows():\n",
    "    lyric = row['Lyric_Path']\n",
    "    emotion = row['Emotion']\n",
    "    with open(lyric, 'r') as lyric_file: \n",
    "        doc = nlp(lyric_file.read())\n",
    "        doc = doc_preprocess(doc)\n",
    "        # Consider only those vectors with the same length\n",
    "        # This will be avoided when we will have proper PCA\n",
    "        if len(doc.vector) == 300:\n",
    "            rows.append((\n",
    "                emotion, doc.vector\n",
    "            ))\n",
    "pca_dataset = pd.DataFrame(rows, columns=['Emotion', 'Vector'])"
   ]
  },
  {
   "cell_type": "code",
   "execution_count": 93,
   "metadata": {
    "ExecuteTime": {
     "end_time": "2018-04-16T09:53:52.753299Z",
     "start_time": "2018-04-16T09:53:52.738507Z"
    }
   },
   "outputs": [],
   "source": [
    "pca_X_vect = pca_dataset['Vector'].as_matrix()\n",
    "pca_X_vect = np.array([np.array(x) for x in pca_X_vect])\n",
    "pca_y = pca_dataset['Emotion'].as_matrix()"
   ]
  },
  {
   "cell_type": "code",
   "execution_count": 8,
   "metadata": {
    "ExecuteTime": {
     "end_time": "2018-04-17T10:41:26.204219Z",
     "start_time": "2018-04-17T10:41:26.198083Z"
    }
   },
   "outputs": [],
   "source": [
    "def pca(n_components):\n",
    "    pca = PCA(n_components=n_components)\n",
    "    pca.fit(pca_X_vect)\n",
    "    return pca.transform(pca_X_vect)"
   ]
  },
  {
   "cell_type": "code",
   "execution_count": 95,
   "metadata": {
    "ExecuteTime": {
     "end_time": "2018-04-16T09:53:52.858949Z",
     "start_time": "2018-04-16T09:53:52.774285Z"
    }
   },
   "outputs": [],
   "source": [
    "components = pca(2)"
   ]
  },
  {
   "cell_type": "code",
   "execution_count": 96,
   "metadata": {
    "ExecuteTime": {
     "end_time": "2018-04-16T09:53:52.879266Z",
     "start_time": "2018-04-16T09:53:52.867771Z"
    }
   },
   "outputs": [],
   "source": [
    "# Put reduced components and labels together for plotting\n",
    "comps = list(zip(components, pca_y))\n",
    "pca_df = pd.DataFrame(comps, columns=['Vector', 'Emotion'])"
   ]
  },
  {
   "cell_type": "code",
   "execution_count": 103,
   "metadata": {
    "ExecuteTime": {
     "end_time": "2018-04-16T09:59:43.347161Z",
     "start_time": "2018-04-16T09:59:43.051173Z"
    }
   },
   "outputs": [
    {
     "data": {
      "image/png": "[encoded data removed]",
      "text/plain": [
       "<Figure size 432x288 with 1 Axes>"
      ]
     },
     "metadata": {},
     "output_type": "display_data"
    }
   ],
   "source": [
    "# Plot points for each class\n",
    "for i in range(4):\n",
    "    emo_df = pca_df[pca_df['Emotion'] == i]\n",
    "    x = emo_df['Vector'].as_matrix()\n",
    "    x = np.array([np.array(k) for k in x])\n",
    "    plt.scatter(x[:,0], x[:,1])\n",
    "plt.legend(emotion_labels)\n",
    "plt.show()"
   ]
  },
  {
   "cell_type": "markdown",
   "metadata": {},
   "source": [
    "Of course we were not expecting to obtain fantastic results. However we believed that doing a PCA with two components could have been great, especially because of the arousal-valence based songs classification model which was used in MoodyLyrics. \n",
    "\n",
    "We will abandon PCA for now."
   ]
  },
  {
   "cell_type": "markdown",
   "metadata": {},
   "source": [
    "## Feature Engineering Function\n",
    "Now that we have defined which kind of feature engineering we want to, let's define a function which will be used throughout the notebook to perform the desired operations on the dataset."
   ]
  },
  {
   "cell_type": "code",
   "execution_count": 9,
   "metadata": {
    "ExecuteTime": {
     "end_time": "2018-04-17T10:41:29.515590Z",
     "start_time": "2018-04-17T10:41:29.511438Z"
    }
   },
   "outputs": [],
   "source": [
    "# TODO: we still have to properly define which feature \n",
    "# engineering we want to perform\n",
    "def feature_engineer(dataset):\n",
    "    return dataset"
   ]
  },
  {
   "cell_type": "markdown",
   "metadata": {},
   "source": [
    "# Classifiers on Lyrics Content\n",
    "In the next sections we will provide the implementation of several classification algorithms we used. Those classifiers work on the 300-shaped vector assigned by our language model to the lyrics of each song.\n",
    "\n",
    "First, let's prepare the data for those classifiers."
   ]
  },
  {
   "cell_type": "code",
   "execution_count": 10,
   "metadata": {
    "ExecuteTime": {
     "end_time": "2018-04-17T10:41:37.192455Z",
     "start_time": "2018-04-17T10:41:37.138837Z"
    }
   },
   "outputs": [],
   "source": [
    "def load_dataset(lyrics_path):\n",
    "    # Read dataset into pandas dataframe\n",
    "    dataset = load_dataset_from_path(lyrics_path)\n",
    "\n",
    "    # Turn emotion labels into numerical features\n",
    "    mapping = dict(zip(emotion_labels, range(len(emotion_labels)))) # { 'happy' : 0, 'sad': 1, 'relaxed': 2, 'angry': 3 }\n",
    "    dataset['Emotion'] = dataset['Emotion'].map(mapping)\n",
    "\n",
    "    # Make the dataset to follow this scema:\n",
    "    # <Lyric_Path, Emotion, Vector, Vector_Norm>\n",
    "    rows = list()\n",
    "    dataset['Vector'] = np.nan\n",
    "    dataset['Vector_Norm'] = np.nan\n",
    "    for index, row in dataset.iterrows():\n",
    "        lyric = row['Lyric_Path']\n",
    "        emotion = row['Emotion']\n",
    "        with open(lyric, 'r') as lyric_file: \n",
    "            doc = nlp(lyric_file.read())\n",
    "            doc = doc_preprocess(doc) # Preprocessing step\n",
    "            # Consider only those vectors with the same length\n",
    "            # This will be avoided when we will have proper PCA\n",
    "            if len(doc.vector) == 300:\n",
    "                rows.append((\n",
    "                    lyric,\n",
    "                    emotion, doc.vector,\n",
    "                    doc.vector_norm\n",
    "                ))\n",
    "    dataset = pd.DataFrame(rows, columns=['Lyric_Path', 'Emotion', 'Vector', 'Vector_Norm'])\n",
    "    #dataset = feature_engineer(dataset) # Do feature engineering\n",
    "    return dataset"
   ]
  },
  {
   "cell_type": "code",
   "execution_count": 11,
   "metadata": {
    "ExecuteTime": {
     "end_time": "2018-04-17T10:45:18.376403Z",
     "start_time": "2018-04-17T10:41:40.292210Z"
    },
    "scrolled": true
   },
   "outputs": [
    {
     "data": {
      "text/html": [
       "<div>\n",
       "<style scoped>\n",
       "    .dataframe tbody tr th:only-of-type {\n",
       "        vertical-align: middle;\n",
       "    }\n",
       "\n",
       "    .dataframe tbody tr th {\n",
       "        vertical-align: top;\n",
       "    }\n",
       "\n",
       "    .dataframe thead th {\n",
       "        text-align: right;\n",
       "    }\n",
       "</style>\n",
       "<table border=\"1\" class=\"dataframe\">\n",
       "  <thead>\n",
       "    <tr style=\"text-align: right;\">\n",
       "      <th></th>\n",
       "      <th>Lyric_Path</th>\n",
       "      <th>Emotion</th>\n",
       "      <th>Vector</th>\n",
       "      <th>Vector_Norm</th>\n",
       "    </tr>\n",
       "  </thead>\n",
       "  <tbody>\n",
       "    <tr>\n",
       "      <th>0</th>\n",
       "      <td>/home/mario/dev/emotion-patterns-in-music-play...</td>\n",
       "      <td>3</td>\n",
       "      <td>[0.0574794, 0.185014, -0.141049, -0.0462526, 0...</td>\n",
       "      <td>2.859903</td>\n",
       "    </tr>\n",
       "    <tr>\n",
       "      <th>1</th>\n",
       "      <td>/home/mario/dev/emotion-patterns-in-music-play...</td>\n",
       "      <td>0</td>\n",
       "      <td>[-0.0134395, 0.177813, -0.158519, -0.020895, 0...</td>\n",
       "      <td>2.633056</td>\n",
       "    </tr>\n",
       "    <tr>\n",
       "      <th>2</th>\n",
       "      <td>/home/mario/dev/emotion-patterns-in-music-play...</td>\n",
       "      <td>0</td>\n",
       "      <td>[-0.0307511, 0.310463, -0.151425, -0.0138566, ...</td>\n",
       "      <td>3.019833</td>\n",
       "    </tr>\n",
       "    <tr>\n",
       "      <th>3</th>\n",
       "      <td>/home/mario/dev/emotion-patterns-in-music-play...</td>\n",
       "      <td>1</td>\n",
       "      <td>[0.0625424, 0.0874376, -0.0896016, -0.096178, ...</td>\n",
       "      <td>2.446515</td>\n",
       "    </tr>\n",
       "    <tr>\n",
       "      <th>4</th>\n",
       "      <td>/home/mario/dev/emotion-patterns-in-music-play...</td>\n",
       "      <td>3</td>\n",
       "      <td>[-0.0777918, 0.17095, -0.165166, -0.0325069, 0...</td>\n",
       "      <td>2.737937</td>\n",
       "    </tr>\n",
       "  </tbody>\n",
       "</table>\n",
       "</div>"
      ],
      "text/plain": [
       "                                          Lyric_Path  Emotion  \\\n",
       "0  /home/mario/dev/emotion-patterns-in-music-play...        3   \n",
       "1  /home/mario/dev/emotion-patterns-in-music-play...        0   \n",
       "2  /home/mario/dev/emotion-patterns-in-music-play...        0   \n",
       "3  /home/mario/dev/emotion-patterns-in-music-play...        1   \n",
       "4  /home/mario/dev/emotion-patterns-in-music-play...        3   \n",
       "\n",
       "                                              Vector  Vector_Norm  \n",
       "0  [0.0574794, 0.185014, -0.141049, -0.0462526, 0...     2.859903  \n",
       "1  [-0.0134395, 0.177813, -0.158519, -0.020895, 0...     2.633056  \n",
       "2  [-0.0307511, 0.310463, -0.151425, -0.0138566, ...     3.019833  \n",
       "3  [0.0625424, 0.0874376, -0.0896016, -0.096178, ...     2.446515  \n",
       "4  [-0.0777918, 0.17095, -0.165166, -0.0325069, 0...     2.737937  "
      ]
     },
     "execution_count": 11,
     "metadata": {},
     "output_type": "execute_result"
    }
   ],
   "source": [
    "dataset = load_dataset(lyrics_path)\n",
    "# Show some dataset's values\n",
    "dataset.head()"
   ]
  },
  {
   "cell_type": "code",
   "execution_count": 12,
   "metadata": {
    "ExecuteTime": {
     "end_time": "2018-04-17T10:45:18.420976Z",
     "start_time": "2018-04-17T10:45:18.384990Z"
    }
   },
   "outputs": [],
   "source": [
    "# Prepare array for sklearn classifiers\n",
    "X_vect = dataset['Vector'].as_matrix().T\n",
    "X_vect = np.array([np.array(x) for x in X_vect])\n",
    "X_norm = dataset['Vector_Norm'].as_matrix()\n",
    "y = dataset['Emotion'].as_matrix()"
   ]
  },
  {
   "cell_type": "code",
   "execution_count": 27,
   "metadata": {
    "ExecuteTime": {
     "end_time": "2018-04-16T09:00:43.017200Z",
     "start_time": "2018-04-16T09:00:42.992566Z"
    },
    "scrolled": false
   },
   "outputs": [
    {
     "name": "stdout",
     "output_type": "stream",
     "text": [
      "(2453, 300)\n",
      "(2453,)\n"
     ]
    }
   ],
   "source": [
    "print(np.shape(X_vect))\n",
    "print(np.shape(y))"
   ]
  },
  {
   "cell_type": "markdown",
   "metadata": {},
   "source": [
    "Here we provide a function to perform some additional tests."
   ]
  },
  {
   "cell_type": "code",
   "execution_count": 90,
   "metadata": {
    "ExecuteTime": {
     "end_time": "2018-04-16T09:48:51.851065Z",
     "start_time": "2018-04-16T09:48:51.694047Z"
    }
   },
   "outputs": [],
   "source": [
    "import lyricwikia\n",
    "\n",
    "def extra_test(classifier):\n",
    "    songs = [\n",
    "        ('Bobby McFerrin', 'Don\\'t Worry, Be Happy', 'happy'),\n",
    "        ('Queen', 'Don\\'t Stop me Now', 'happy'),\n",
    "        ('Pharrell Williams', 'Happy', 'happy'),\n",
    "        ('The Monkees', 'I\\'m a believer', 'happy'),\n",
    "        \n",
    "        ('R.E.M.', 'Everybody Hurts', 'sad'),\n",
    "        ('Adele', 'Someone Like You', 'sad'),\n",
    "        ('Pink Floyd', 'Wish you were here', 'sad'),\n",
    "        ('Johnny Cash', 'Hurt', 'sad'),\n",
    "        ('Nirvana', 'Smells like teen spirit', 'sad'),\n",
    "        \n",
    "        ('Rage Against the Machine', 'Killing in the name', 'angry'),\n",
    "        ('Kanye West', 'Stronger', 'angry'),\n",
    "        ('Smash Mouth', 'All Star', 'angry'),\n",
    "        ('Bloodhound Gang', 'The Ballad of Chasey Lain', 'angry'),\n",
    "        \n",
    "        ('Blur', 'Song 2', 'relaxed') # I'm not quite confident about this labeling\n",
    "    ]\n",
    "\n",
    "    count_correct = 0\n",
    "    for s in songs:\n",
    "        # Download the lyric\n",
    "        lyric = lyricwikia.get_lyrics(s[0], s[1])\n",
    "        # Convert lyric to spacy Doc and preproces it\n",
    "        doc = nlp(lyric)\n",
    "        doc = doc_preprocess(doc)\n",
    "        # Classify\n",
    "        vect = np.array([doc.vector])\n",
    "        label = classifier.predict(vect)\n",
    "        if emotion_labels[label[0]] == s[2]:\n",
    "            count_correct += 1\n",
    "        print(s, '->', emotion_labels[label[0]], '(was supposed to be {})'.format(s[2]))\n",
    "    print('We got {} predictions our of {} songs'.format(count_correct, len(songs)))\n",
    "    print('Accuracy: %0.2f' % (count_correct / len(songs)))"
   ]
  },
  {
   "cell_type": "markdown",
   "metadata": {},
   "source": [
    "## Supervised K-Means\n",
    "This is the first and the easieast classifier idea we came up. We used this idea just to verify what we could do and if we were on the right path. \n",
    "\n",
    "The name we gave to this classifier could sound ambiguous but we believe that, once its functioning is explained, the name will sound more decent.\n",
    "\n",
    "The idea behind this classifier is quite simple. The first thing we do is to compute the centroids for each emotion class. Then, to classify a lyric, we simply compare its word vector norm to the 4 centroids. At the end we will assign our lyric with the label of the closest \"cluster\"."
   ]
  },
  {
   "cell_type": "code",
   "execution_count": 165,
   "metadata": {
    "ExecuteTime": {
     "end_time": "2018-04-11T09:40:02.719222Z",
     "start_time": "2018-04-11T09:39:36.344927Z"
    }
   },
   "outputs": [
    {
     "name": "stdout",
     "output_type": "stream",
     "text": [
      "Accuracy: 0.31\n"
     ]
    }
   ],
   "source": [
    "from classifier.LyricsSupervisedKMeans import LyricsSupervisedKMeans\n",
    "\n",
    "clf = LyricsSupervisedKMeans()\n",
    "clf.set_lang(nlp)\n",
    "\n",
    "# Split dataset into training and test sets\n",
    "trainDf, testDf = split_train_validation(dataset)\n",
    "\n",
    "X_sup_kmeans_train = trainDf['Vector_Norm'].as_matrix().T\n",
    "X_sup_kmeans_train = np.array([np.array(x) for x in X_sup_kmeans_train])\n",
    "\n",
    "y_sup_kmeans_train = trainDf['Emotion'].as_matrix()\n",
    "\n",
    "# Train our model\n",
    "clf.train(X_sup_kmeans_train, y_sup_kmeans_train)\n",
    "\n",
    "# Evaluate accuracy\n",
    "acc = clf.score(testDf)\n",
    "print('Accuracy: %0.2f' % (acc))"
   ]
  },
  {
   "cell_type": "markdown",
   "metadata": {},
   "source": [
    "For this model we did not even implement cross-validation. We just split the dataset into a training set (90%) and a test set (10%) and we evaluated the classification accuracy on that test set. We decided not to implement cross-validation for this classifier as we believe it is not worth to spend time on it."
   ]
  },
  {
   "cell_type": "markdown",
   "metadata": {},
   "source": [
    "We were expecting poor results from this classifier but at least it served to the purpose of giving us a hint of which direction to follow. "
   ]
  },
  {
   "cell_type": "markdown",
   "metadata": {},
   "source": [
    "## k-Nearest Neighbour\n",
    "We will now build a k-NN model which is basically a generalization of what we called \"Supervised K-Means\". We will evaluate our model for several different k values. The parameters passed to our model are quite self-explicative."
   ]
  },
  {
   "cell_type": "code",
   "execution_count": 162,
   "metadata": {
    "ExecuteTime": {
     "end_time": "2018-04-11T09:37:07.317982Z",
     "start_time": "2018-04-11T09:36:41.271097Z"
    },
    "scrolled": true
   },
   "outputs": [
    {
     "name": "stdout",
     "output_type": "stream",
     "text": [
      "Accuracy for k=1: 0.81 (+/- 0.04)\n",
      "Accuracy for k=3: 0.81 (+/- 0.05)\n",
      "Accuracy for k=5: 0.81 (+/- 0.05)\n",
      "Accuracy for k=7: 0.81 (+/- 0.05)\n",
      "Accuracy for k=9: 0.82 (+/- 0.05)\n",
      "Accuracy for k=11: 0.81 (+/- 0.04)\n",
      "Accuracy for k=13: 0.82 (+/- 0.04)\n",
      "Accuracy for k=15: 0.81 (+/- 0.04)\n",
      "Accuracy for k=17: 0.81 (+/- 0.06)\n",
      "Accuracy for k=19: 0.81 (+/- 0.06)\n",
      "Accuracy for k=21: 0.81 (+/- 0.06)\n"
     ]
    }
   ],
   "source": [
    "from sklearn.neighbors import KNeighborsClassifier\n",
    "\n",
    "ks = [1, 3, 5, 7, 9, 11, 13, 15, 17, 19, 21]\n",
    "\n",
    "for k in ks:\n",
    "    # Build model\n",
    "    clf = KNeighborsClassifier(n_neighbors=k, algorithm='auto', \n",
    "                           metric='euclidean', n_jobs=-1)\n",
    "    # Evaluate accuracy\n",
    "    scores = cross_val_score(clf, X_vect, y, cv=10)\n",
    "    print('Accuracy for k=%d: %0.2f (+/- %0.2f)' % (k, scores.mean(), scores.std() * 1.96))"
   ]
  },
  {
   "cell_type": "markdown",
   "metadata": {},
   "source": [
    "The k-NN algorithm produced unexpectedly good results. As we can see the algorithm never reaches an accuracy value higher than 82%. From our observations we can conclude that `k=9` could be an good parameter for that model.\n",
    "\n",
    "An interesting thing we noticed while running our experiments is that, when we read our dataset without preprocessing our lyrics, the accuracy was around 10% lower.\n",
    "\n",
    "Let's do some more tests and see if this classifier is really that good. We will now try to classify some very popular songs which were labelled according to our personal tastes and to [IBM Tone Analyzer](https://tone-analyzer-demo.ng.bluemix.net/?cm_mc_uid=56761301373215210511228&cm_mc_sid_50200000=91001461523311389617&cm_mc_sid_52640000=29317781523311389622) ones. Those songs we are trying to classify are not available in MoodyLyrics."
   ]
  },
  {
   "cell_type": "code",
   "execution_count": 164,
   "metadata": {
    "ExecuteTime": {
     "end_time": "2018-04-11T09:38:22.907601Z",
     "start_time": "2018-04-11T09:38:13.799310Z"
    }
   },
   "outputs": [
    {
     "name": "stdout",
     "output_type": "stream",
     "text": [
      "('Bobby McFerrin', \"Don't Worry, Be Happy\", 'happy') -> happy (was supposed to be happy)\n",
      "('Queen', \"Don't Stop me Now\", 'happy') -> sad (was supposed to be happy)\n",
      "('Pharrell Williams', 'Happy', 'happy') -> happy (was supposed to be happy)\n",
      "('The Monkees', \"I'm a believer\", 'happy') -> happy (was supposed to be happy)\n",
      "('R.E.M.', 'Everybody Hurts', 'sad') -> sad (was supposed to be sad)\n",
      "('Adele', 'Someone Like You', 'sad') -> angry (was supposed to be sad)\n",
      "('Pink Floyd', 'Wish you were here', 'sad') -> angry (was supposed to be sad)\n",
      "('Johnny Cash', 'Hurt', 'sad') -> sad (was supposed to be sad)\n",
      "('Nirvana', 'Smells like teen spirit', 'sad') -> relaxed (was supposed to be sad)\n",
      "('Rage Against the Machine', 'Killing in the name', 'angry') -> angry (was supposed to be angry)\n",
      "('Kanye West', 'Stronger', 'angry') -> angry (was supposed to be angry)\n",
      "('Smash Mouth', 'All Star', 'angry') -> angry (was supposed to be angry)\n",
      "('Bloodhound Gang', 'The Ballad of Chasey Lain', 'angry') -> sad (was supposed to be angry)\n",
      "('Blur', 'Song 2', 'relaxed') -> relaxed (was supposed to be relaxed)\n",
      "We got 9 predictions our of 14 songs\n",
      "Accuracy: 0.64\n"
     ]
    }
   ],
   "source": [
    "clf = KNeighborsClassifier(n_neighbors=9, algorithm='auto', \n",
    "                           metric='euclidean', n_jobs=-1)\n",
    "clf.fit(X_vect, y)\n",
    "extra_test(clf)"
   ]
  },
  {
   "cell_type": "markdown",
   "metadata": {},
   "source": [
    "Those results are encouraging and make us believe that we can certainly do even better."
   ]
  },
  {
   "cell_type": "markdown",
   "metadata": {},
   "source": [
    "## SVM\n",
    "We will now train a Support Vector Machine using the algorithm available in sklearn. For this first experiment we did not change the default parameters of the SVM algorithm provided in sklearn."
   ]
  },
  {
   "cell_type": "code",
   "execution_count": 203,
   "metadata": {
    "ExecuteTime": {
     "end_time": "2018-04-09T21:15:16.369778Z",
     "start_time": "2018-04-09T21:14:50.158328Z"
    }
   },
   "outputs": [
    {
     "name": "stdout",
     "output_type": "stream",
     "text": [
      "Accuracy: 0.59 (+/- 0.08)\n"
     ]
    }
   ],
   "source": [
    "from sklearn.svm import SVC\n",
    "\n",
    "# Build model\n",
    "clf = SVC()\n",
    "# Evaluate accuracy\n",
    "scores = cross_val_score(clf, X_vect, y, cv=10)\n",
    "print('Accuracy: %0.2f (+/- %0.2f)' % (scores.mean(), scores.std() * 1.96))"
   ]
  },
  {
   "cell_type": "markdown",
   "metadata": {},
   "source": [
    "Now let's see if we can improve our model's accuracy just my properly tuning our parameters. We will perform a [Grid Search](http://scikit-learn.org/stable/modules/grid_search.html) to properly tune our model using a cross validation approach to evaluating accuracy. We will operate on both the kernel function and the penalty parameter C.\n",
    "\n",
    "Beware that the below cell takes quite a long time to run as the `SVC` train function complexity is more than quadratic and, having to run it several times, is quite expensive."
   ]
  },
  {
   "cell_type": "code",
   "execution_count": 205,
   "metadata": {
    "ExecuteTime": {
     "end_time": "2018-04-09T21:22:15.533515Z",
     "start_time": "2018-04-09T21:15:21.742694Z"
    }
   },
   "outputs": [
    {
     "name": "stdout",
     "output_type": "stream",
     "text": [
      "Fitting 10 folds for each of 29 candidates, totalling 290 fits\n"
     ]
    },
    {
     "name": "stderr",
     "output_type": "stream",
     "text": [
      "[Parallel(n_jobs=-1)]: Done  42 tasks      | elapsed:   37.4s\n",
      "[Parallel(n_jobs=-1)]: Done 192 tasks      | elapsed:  4.4min\n",
      "[Parallel(n_jobs=-1)]: Done 290 out of 290 | elapsed:  5.6min finished\n"
     ]
    },
    {
     "name": "stdout",
     "output_type": "stream",
     "text": [
      "Parameters: {'C': 10, 'kernel': 'linear'}\n"
     ]
    }
   ],
   "source": [
    "# Define the set of parameters we want to test on\n",
    "params = [\n",
    "    { 'kernel': ['linear'], 'C': [ 0.01, 0.05, 1, 10, 100 ]},\n",
    "    { 'kernel': ['rbf', 'sigmoid'], 'C': [ 0.01, 0.05, 0.1, 0.3, 0.8, 1, 3, 10, 50, 100, 150, 200 ] }\n",
    "]\n",
    "\n",
    "# Perform grid search\n",
    "svm_best, best_params = parameters_grid_search(SVC, params, X_vect, y, verbose=1)\n",
    "print('Parameters:', best_params)"
   ]
  },
  {
   "cell_type": "code",
   "execution_count": 206,
   "metadata": {
    "ExecuteTime": {
     "end_time": "2018-04-09T21:22:26.843539Z",
     "start_time": "2018-04-09T21:22:20.992884Z"
    },
    "scrolled": true
   },
   "outputs": [
    {
     "name": "stdout",
     "output_type": "stream",
     "text": [
      "Accuracy: 0.90 (+/- 0.04)\n"
     ]
    }
   ],
   "source": [
    "scores = cross_val_score(svm_best, X_vect, y, cv=10)\n",
    "print('Accuracy: %0.2f (+/- %0.2f)' % (scores.mean(), scores.std() * 1.96))"
   ]
  },
  {
   "cell_type": "markdown",
   "metadata": {},
   "source": [
    "Honestly we were not expecting the SVM model to be so good. Let's see how our optimal SVM performs on the extra test set as we did earlier."
   ]
  },
  {
   "cell_type": "code",
   "execution_count": 208,
   "metadata": {
    "ExecuteTime": {
     "end_time": "2018-04-09T22:14:54.516665Z",
     "start_time": "2018-04-09T22:14:36.130397Z"
    }
   },
   "outputs": [
    {
     "name": "stdout",
     "output_type": "stream",
     "text": [
      "('Bobby McFerrin', \"Don't Worry, Be Happy\", 'happy') -> angry (was supposed to be happy)\n",
      "('Queen', \"Don't Stop me Now\", 'happy') -> sad (was supposed to be happy)\n",
      "('Pharrell Williams', 'Happy', 'happy') -> happy (was supposed to be happy)\n",
      "('The Monkees', \"I'm a believer\", 'happy') -> angry (was supposed to be happy)\n",
      "('R.E.M.', 'Everybody Hurts', 'sad') -> angry (was supposed to be sad)\n",
      "('Adele', 'Someone Like You', 'sad') -> angry (was supposed to be sad)\n",
      "('Pink Floyd', 'Wish you were here', 'sad') -> sad (was supposed to be sad)\n",
      "('Johnny Cash', 'Hurt', 'sad') -> angry (was supposed to be sad)\n",
      "('Nirvana', 'Smells like teen spirit', 'sad') -> sad (was supposed to be sad)\n",
      "('Rage Against the Machine', 'Killing in the name', 'angry') -> sad (was supposed to be angry)\n",
      "('Kanye West', 'Stronger', 'angry') -> sad (was supposed to be angry)\n",
      "('Smash Mouth', 'All Star', 'angry') -> sad (was supposed to be angry)\n",
      "('Bloodhound Gang', 'The Ballad of Chasey Lain', 'angry') -> happy (was supposed to be angry)\n",
      "('Blur', 'Song 2', 'relaxed') -> sad (was supposed to be relaxed)\n",
      "We got 3 predictions our of 14 songs\n",
      "Accuracy: 0.21\n"
     ]
    }
   ],
   "source": [
    "extra_test(svm_best)"
   ]
  },
  {
   "cell_type": "markdown",
   "metadata": {},
   "source": [
    "That's not properly what we would expect from a predictor having 91% accuracy. Probably (you don't say?) we are overfitting. In fact, we would get better results even by using a random classifier instead of our \"optimal\" SVM.\n",
    "\n",
    "One interesting thing we can notice is that a \"Don't Worry, Be Happy\" is labelled as angry. However it is quite explicit from the title (and also from the lyrics) that the song is about happiness. This obeservation suggests us that we should probably be considering also the song's title when computing our word vectors.\n",
    "\n",
    "Let's now move on to some ensemble methods which are supposed to be even better."
   ]
  },
  {
   "cell_type": "markdown",
   "metadata": {},
   "source": [
    "## Gradient Boost\n",
    "Gradient boosting is a machine learning technique for regression and classification problems, which produces a prediction model in the form of an ensemble of weak prediction models, typically decision trees. It builds the model in a stage-wise fashion like other boosting methods do, and it generalizes them by allowing optimization of an arbitrary differentiable loss function ([reference link](https://en.wikipedia.org/wiki/Gradient_boosting)).\n",
    "\n",
    "Since we already obtained great results using our SVM model, we will omit any grid search for parameters tuning on this model. In fact, a grid search on a Gradient Boosting Classifier would be quite expensive and would slow down our experiments a lot. Instead, some manual tuning is done."
   ]
  },
  {
   "cell_type": "code",
   "execution_count": 209,
   "metadata": {
    "ExecuteTime": {
     "end_time": "2018-04-09T21:26:35.695954Z",
     "start_time": "2018-04-09T21:22:32.508973Z"
    }
   },
   "outputs": [
    {
     "name": "stdout",
     "output_type": "stream",
     "text": [
      "Accuracy: 0.86 (+/- 0.05)\n"
     ]
    }
   ],
   "source": [
    "from sklearn.ensemble import GradientBoostingClassifier\n",
    "\n",
    "# Build model\n",
    "clf = GradientBoostingClassifier(learning_rate=0.7, n_estimators=200)\n",
    "# Evaluate accuracy\n",
    "scores = cross_val_score(clf, X_vect, y, cv=10)\n",
    "print('Accuracy: %0.2f (+/- %0.2f)' % (scores.mean(), scores.std() * 1.96))"
   ]
  },
  {
   "cell_type": "markdown",
   "metadata": {},
   "source": [
    "After several attempts we did never succeed in obtaining higher accuracy values w.r.t. our SVM model. Therefore, given the slow training time for the GradientBoostingClassifier algorithm, we will keep using the SVM model.\n",
    "\n",
    "However, let's have a look on Gradient Boost performances on our \"extra\" test set."
   ]
  },
  {
   "cell_type": "code",
   "execution_count": 210,
   "metadata": {
    "ExecuteTime": {
     "end_time": "2018-04-09T21:57:55.163898Z",
     "start_time": "2018-04-09T21:57:26.262125Z"
    }
   },
   "outputs": [
    {
     "data": {
      "text/plain": [
       "GradientBoostingClassifier(criterion='friedman_mse', init=None,\n",
       "              learning_rate=0.7, loss='deviance', max_depth=3,\n",
       "              max_features=None, max_leaf_nodes=None,\n",
       "              min_impurity_decrease=0.0, min_impurity_split=None,\n",
       "              min_samples_leaf=1, min_samples_split=2,\n",
       "              min_weight_fraction_leaf=0.0, n_estimators=200,\n",
       "              presort='auto', random_state=None, subsample=1.0, verbose=0,\n",
       "              warm_start=False)"
      ]
     },
     "execution_count": 210,
     "metadata": {},
     "output_type": "execute_result"
    }
   ],
   "source": [
    "clf.fit(X_vect, y)"
   ]
  },
  {
   "cell_type": "code",
   "execution_count": 211,
   "metadata": {
    "ExecuteTime": {
     "end_time": "2018-04-09T22:16:54.795941Z",
     "start_time": "2018-04-09T22:16:43.952136Z"
    }
   },
   "outputs": [
    {
     "name": "stdout",
     "output_type": "stream",
     "text": [
      "('Bobby McFerrin', \"Don't Worry, Be Happy\", 'happy') -> happy (was supposed to be happy)\n",
      "('Queen', \"Don't Stop me Now\", 'happy') -> angry (was supposed to be happy)\n",
      "('Pharrell Williams', 'Happy', 'happy') -> happy (was supposed to be happy)\n",
      "('The Monkees', \"I'm a believer\", 'happy') -> angry (was supposed to be happy)\n",
      "('R.E.M.', 'Everybody Hurts', 'sad') -> angry (was supposed to be sad)\n",
      "('Adele', 'Someone Like You', 'sad') -> sad (was supposed to be sad)\n",
      "('Pink Floyd', 'Wish you were here', 'sad') -> sad (was supposed to be sad)\n",
      "('Johnny Cash', 'Hurt', 'sad') -> angry (was supposed to be sad)\n",
      "('Nirvana', 'Smells like teen spirit', 'sad') -> angry (was supposed to be sad)\n",
      "('Rage Against the Machine', 'Killing in the name', 'angry') -> angry (was supposed to be angry)\n",
      "('Kanye West', 'Stronger', 'angry') -> angry (was supposed to be angry)\n",
      "('Smash Mouth', 'All Star', 'angry') -> sad (was supposed to be angry)\n",
      "('Bloodhound Gang', 'The Ballad of Chasey Lain', 'angry') -> sad (was supposed to be angry)\n",
      "('Blur', 'Song 2', 'relaxed') -> angry (was supposed to be relaxed)\n",
      "We got 6 predictions our of 14 songs\n",
      "Accuracy: 0.43\n"
     ]
    }
   ],
   "source": [
    "extra_test(clf)"
   ]
  },
  {
   "cell_type": "markdown",
   "metadata": {},
   "source": [
    "Thst's definitivelly better but we still need to improve a lot."
   ]
  },
  {
   "cell_type": "markdown",
   "metadata": {},
   "source": [
    "## Artifical Neural Network\n",
    "Additionally to what we have already done we will now try to tune, train and evaluate an artificial neural network model with two hidden layers."
   ]
  },
  {
   "cell_type": "code",
   "execution_count": 20,
   "metadata": {
    "ExecuteTime": {
     "end_time": "2018-04-11T13:11:48.673849Z",
     "start_time": "2018-04-11T13:11:48.667411Z"
    }
   },
   "outputs": [],
   "source": [
    "#1 Splitting the dataset into the Training set and Test set\n",
    "from sklearn.model_selection import train_test_split\n",
    "X_train, X_test, y_train, y_test = train_test_split(X_vect, y, test_size = 0.2, random_state = 0)"
   ]
  },
  {
   "cell_type": "code",
   "execution_count": 21,
   "metadata": {
    "ExecuteTime": {
     "end_time": "2018-04-11T13:11:53.657745Z",
     "start_time": "2018-04-11T13:11:50.677108Z"
    }
   },
   "outputs": [
    {
     "name": "stderr",
     "output_type": "stream",
     "text": [
      "Using TensorFlow backend.\n"
     ]
    }
   ],
   "source": [
    "# y_nn should be a vector (len(X_vect),4), with a 1 in the right class\n",
    "from keras.utils import np_utils\n",
    "\n",
    "encoder = LabelEncoder()\n",
    "encoder.fit(y_train)\n",
    "encoded_Y = encoder.transform(y_train)\n",
    "y_nn = np_utils.to_categorical(encoded_Y)"
   ]
  },
  {
   "cell_type": "code",
   "execution_count": 22,
   "metadata": {
    "ExecuteTime": {
     "end_time": "2018-04-11T13:11:55.794676Z",
     "start_time": "2018-04-11T13:11:55.783221Z"
    }
   },
   "outputs": [],
   "source": [
    "#2 Feature Scaling\n",
    "from sklearn.preprocessing import StandardScaler\n",
    "sc = StandardScaler()\n",
    "# we need to scale because we don't want one feature to predomine the others\n",
    "# Standardize features by removing the mean and scaling to unit variance\n",
    "X_train = sc.fit_transform(X_train)\n",
    "X_test = sc.transform(X_test)"
   ]
  },
  {
   "cell_type": "code",
   "execution_count": 113,
   "metadata": {
    "ExecuteTime": {
     "end_time": "2018-04-16T10:03:20.840116Z",
     "start_time": "2018-04-16T10:03:20.812700Z"
    },
    "scrolled": true
   },
   "outputs": [],
   "source": [
    "#1 Importing the Keras libraries and packages\n",
    "import keras\n",
    "# Sequential module is required to initialize our ANN\n",
    "from keras.models import Sequential\n",
    "# Dense module is required to create the layers\n",
    "from keras.layers import Dense, Dropout\n",
    "    \n",
    "def build_ann(optimizer='adam', input_size=300):\n",
    "    classifier = Sequential()\n",
    "    #2 Adding first hidden layer\n",
    "    classifier.add(Dense(units = 60, kernel_initializer = 'random_normal', activation = 'sigmoid', input_dim = input_size))\n",
    "    classifier.add(Dropout(0.5))\n",
    "\n",
    "    # Adding second hidden layer\n",
    "    classifier.add(Dense(units = 60, kernel_initializer = 'random_normal', activation = 'sigmoid'))\n",
    "    classifier.add(Dropout(0.5))\n",
    "\n",
    "    # Adding output layer\n",
    "    classifier.add(Dense(units = 4, kernel_initializer = 'random_normal', activation = 'softmax'))\n",
    "\n",
    "    #3 Compiling the ANN\n",
    "    classifier.compile(optimizer=optimizer, loss = 'categorical_crossentropy', metrics = ['accuracy'])\n",
    "\n",
    "    return classifier"
   ]
  },
  {
   "cell_type": "code",
   "execution_count": 28,
   "metadata": {
    "ExecuteTime": {
     "end_time": "2018-04-11T13:14:47.269277Z",
     "start_time": "2018-04-11T13:14:41.410764Z"
    },
    "scrolled": true
   },
   "outputs": [
    {
     "name": "stdout",
     "output_type": "stream",
     "text": [
      "Epoch 1/50\n",
      "1962/1962 [==============================] - 0s 199us/step - loss: 1.3823 - acc: 0.3012\n",
      "Epoch 2/50\n",
      "1962/1962 [==============================] - 0s 49us/step - loss: 1.2945 - acc: 0.4154\n",
      "Epoch 3/50\n",
      "1962/1962 [==============================] - 0s 50us/step - loss: 1.1512 - acc: 0.5377\n",
      "Epoch 4/50\n",
      "1962/1962 [==============================] - 0s 56us/step - loss: 0.9740 - acc: 0.6055\n",
      "Epoch 5/50\n",
      "1962/1962 [==============================] - 0s 48us/step - loss: 0.8528 - acc: 0.6519\n",
      "Epoch 6/50\n",
      "1962/1962 [==============================] - 0s 50us/step - loss: 0.7660 - acc: 0.7130\n",
      "Epoch 7/50\n",
      "1962/1962 [==============================] - 0s 49us/step - loss: 0.6951 - acc: 0.7543\n",
      "Epoch 8/50\n",
      "1962/1962 [==============================] - 0s 44us/step - loss: 0.6213 - acc: 0.7803\n",
      "Epoch 9/50\n",
      "1962/1962 [==============================] - 0s 50us/step - loss: 0.5755 - acc: 0.8109\n",
      "Epoch 10/50\n",
      "1962/1962 [==============================] - 0s 48us/step - loss: 0.5100 - acc: 0.8318\n",
      "Epoch 11/50\n",
      "1962/1962 [==============================] - 0s 51us/step - loss: 0.4745 - acc: 0.8486\n",
      "Epoch 12/50\n",
      "1962/1962 [==============================] - 0s 52us/step - loss: 0.4406 - acc: 0.8527\n",
      "Epoch 13/50\n",
      "1962/1962 [==============================] - 0s 60us/step - loss: 0.4139 - acc: 0.8665\n",
      "Epoch 14/50\n",
      "1962/1962 [==============================] - 0s 52us/step - loss: 0.3953 - acc: 0.8726\n",
      "Epoch 15/50\n",
      "1962/1962 [==============================] - 0s 52us/step - loss: 0.3587 - acc: 0.8818\n",
      "Epoch 16/50\n",
      "1962/1962 [==============================] - 0s 51us/step - loss: 0.3432 - acc: 0.8930\n",
      "Epoch 17/50\n",
      "1962/1962 [==============================] - 0s 53us/step - loss: 0.3293 - acc: 0.8976\n",
      "Epoch 18/50\n",
      "1962/1962 [==============================] - 0s 57us/step - loss: 0.3127 - acc: 0.8991\n",
      "Epoch 19/50\n",
      "1962/1962 [==============================] - 0s 51us/step - loss: 0.3098 - acc: 0.9006\n",
      "Epoch 20/50\n",
      "1962/1962 [==============================] - 0s 48us/step - loss: 0.3080 - acc: 0.8950\n",
      "Epoch 21/50\n",
      "1962/1962 [==============================] - 0s 49us/step - loss: 0.2885 - acc: 0.9042\n",
      "Epoch 22/50\n",
      "1962/1962 [==============================] - 0s 48us/step - loss: 0.2715 - acc: 0.9103\n",
      "Epoch 23/50\n",
      "1962/1962 [==============================] - 0s 49us/step - loss: 0.2692 - acc: 0.9128\n",
      "Epoch 24/50\n",
      "1962/1962 [==============================] - 0s 51us/step - loss: 0.2673 - acc: 0.9164\n",
      "Epoch 25/50\n",
      "1962/1962 [==============================] - 0s 48us/step - loss: 0.2523 - acc: 0.9169\n",
      "Epoch 26/50\n",
      "1962/1962 [==============================] - 0s 52us/step - loss: 0.2416 - acc: 0.9286\n",
      "Epoch 27/50\n",
      "1962/1962 [==============================] - 0s 50us/step - loss: 0.2272 - acc: 0.9251\n",
      "Epoch 28/50\n",
      "1962/1962 [==============================] - 0s 44us/step - loss: 0.2322 - acc: 0.9185\n",
      "Epoch 29/50\n",
      "1962/1962 [==============================] - 0s 47us/step - loss: 0.2254 - acc: 0.9256\n",
      "Epoch 30/50\n",
      "1962/1962 [==============================] - 0s 51us/step - loss: 0.2307 - acc: 0.9235\n",
      "Epoch 31/50\n",
      "1962/1962 [==============================] - 0s 48us/step - loss: 0.2202 - acc: 0.9297\n",
      "Epoch 32/50\n",
      "1962/1962 [==============================] - 0s 49us/step - loss: 0.2059 - acc: 0.9373\n",
      "Epoch 33/50\n",
      "1962/1962 [==============================] - 0s 53us/step - loss: 0.2096 - acc: 0.9358\n",
      "Epoch 34/50\n",
      "1962/1962 [==============================] - 0s 47us/step - loss: 0.2119 - acc: 0.9276\n",
      "Epoch 35/50\n",
      "1962/1962 [==============================] - 0s 50us/step - loss: 0.2090 - acc: 0.9348\n",
      "Epoch 36/50\n",
      "1962/1962 [==============================] - 0s 50us/step - loss: 0.2114 - acc: 0.9327\n",
      "Epoch 37/50\n",
      "1962/1962 [==============================] - 0s 48us/step - loss: 0.1957 - acc: 0.9353\n",
      "Epoch 38/50\n",
      "1962/1962 [==============================] - 0s 49us/step - loss: 0.2027 - acc: 0.9353\n",
      "Epoch 39/50\n",
      "1962/1962 [==============================] - 0s 48us/step - loss: 0.1775 - acc: 0.9383\n",
      "Epoch 40/50\n",
      "1962/1962 [==============================] - 0s 49us/step - loss: 0.1895 - acc: 0.9343\n",
      "Epoch 41/50\n",
      "1962/1962 [==============================] - 0s 48us/step - loss: 0.1883 - acc: 0.9429\n",
      "Epoch 42/50\n",
      "1962/1962 [==============================] - 0s 49us/step - loss: 0.1765 - acc: 0.9501\n",
      "Epoch 43/50\n",
      "1962/1962 [==============================] - 0s 49us/step - loss: 0.1676 - acc: 0.9485\n",
      "Epoch 44/50\n",
      "1962/1962 [==============================] - 0s 48us/step - loss: 0.1706 - acc: 0.9424\n",
      "Epoch 45/50\n",
      "1962/1962 [==============================] - 0s 42us/step - loss: 0.1737 - acc: 0.9439\n",
      "Epoch 46/50\n",
      "1962/1962 [==============================] - 0s 50us/step - loss: 0.1677 - acc: 0.9490\n",
      "Epoch 47/50\n",
      "1962/1962 [==============================] - 0s 47us/step - loss: 0.1596 - acc: 0.9465\n",
      "Epoch 48/50\n",
      "1962/1962 [==============================] - 0s 50us/step - loss: 0.1670 - acc: 0.9465\n",
      "Epoch 49/50\n",
      "1962/1962 [==============================] - 0s 47us/step - loss: 0.1608 - acc: 0.9501\n",
      "Epoch 50/50\n",
      "1962/1962 [==============================] - 0s 49us/step - loss: 0.1721 - acc: 0.9460\n"
     ]
    }
   ],
   "source": [
    "classifier = build_ann('adam')\n",
    "classifier.fit(X_train, y_nn, batch_size = 64, epochs = 50)\n",
    "\n",
    "#1 Predicting the Test set results\n",
    "y_pred = classifier.predict(X_test)\n",
    "y_pred1 = np.argmax(y_pred,axis=1)\n",
    "\n",
    "encoder = LabelEncoder()\n",
    "encoder.fit(y_test)\n",
    "encoded_Y = encoder.transform(y_test)\n",
    "y_nn_pred = np_utils.to_categorical(encoded_Y)"
   ]
  },
  {
   "cell_type": "code",
   "execution_count": 31,
   "metadata": {
    "ExecuteTime": {
     "end_time": "2018-04-11T13:16:21.039165Z",
     "start_time": "2018-04-11T13:16:21.033560Z"
    },
    "scrolled": false
   },
   "outputs": [],
   "source": [
    "cm = confusion_matrix(y_pred1, y_nn_pred.argmax(axis=1))"
   ]
  },
  {
   "cell_type": "code",
   "execution_count": 33,
   "metadata": {
    "ExecuteTime": {
     "end_time": "2018-04-11T13:16:30.264689Z",
     "start_time": "2018-04-11T13:16:30.258757Z"
    }
   },
   "outputs": [
    {
     "name": "stdout",
     "output_type": "stream",
     "text": [
      "Accuracy: 92.87\n"
     ]
    }
   ],
   "source": [
    "accuracy = (sum([cm[i,i] for i in range(len(cm))])) / len(y_nn_pred)\n",
    "print('Accuracy: %0.2f' % (accuracy*100))"
   ]
  },
  {
   "cell_type": "code",
   "execution_count": 34,
   "metadata": {
    "ExecuteTime": {
     "end_time": "2018-04-11T13:19:02.350499Z",
     "start_time": "2018-04-11T13:16:44.656541Z"
    }
   },
   "outputs": [
    {
     "name": "stdout",
     "output_type": "stream",
     "text": [
      "Accuracy: 90.06\n"
     ]
    }
   ],
   "source": [
    "from keras.wrappers.scikit_learn import KerasClassifier\n",
    "\n",
    "keras_classifier = KerasClassifier(build_fn=build_ann)\n",
    "parameters = {'batch_size': [64, 128],\n",
    "              'epochs': [25, 50],\n",
    "              'optimizer': ['adam', 'rmsprop']}\n",
    "grid_search = GridSearchCV(estimator = keras_classifier,\n",
    "                           param_grid = parameters,\n",
    "                           scoring = 'accuracy',\n",
    "                           cv = 5)\n",
    "grid_search = grid_search.fit(X_train, y_train, verbose=0)\n",
    "best_parameters = grid_search.best_params_\n",
    "best_accuracy = grid_search.best_score_\n",
    "best_classifier = grid_search.best_estimator_\n",
    "print('Accuracy: %0.2f' % (best_accuracy*100))"
   ]
  },
  {
   "cell_type": "code",
   "execution_count": 120,
   "metadata": {
    "ExecuteTime": {
     "end_time": "2018-04-16T10:05:50.598608Z",
     "start_time": "2018-04-16T10:05:50.547601Z"
    }
   },
   "outputs": [],
   "source": [
    "def extra_test_ann(classifier):\n",
    "    songs = [\n",
    "        ('Bobby McFerrin', 'Don\\'t Worry, Be Happy', 'happy'),\n",
    "        ('Queen', 'Don\\'t Stop me Now', 'happy'),\n",
    "        ('Pharrell Williams', 'Happy', 'happy'),\n",
    "        ('The Monkees', 'I\\'m a believer', 'happy'),\n",
    "        \n",
    "        ('R.E.M.', 'Everybody Hurts', 'sad'),\n",
    "        ('Adele', 'Someone Like You', 'sad'),\n",
    "        ('Pink Floyd', 'Wish you were here', 'sad'),\n",
    "        ('Johnny Cash', 'Hurt', 'sad'),\n",
    "        ('Nirvana', 'Smells like teen spirit', 'sad'),\n",
    "        \n",
    "        ('Rage Against the Machine', 'Killing in the name', 'angry'),\n",
    "        ('Kanye West', 'Stronger', 'angry'),\n",
    "        ('Smash Mouth', 'All Star', 'angry'),\n",
    "        ('Bloodhound Gang', 'The Ballad of Chasey Lain', 'angry'),\n",
    "        \n",
    "        ('Blur', 'Song 2', 'relaxed') # I'm not quite confident about this labeling\n",
    "    ]\n",
    "\n",
    "    count_correct = 0\n",
    "    for s in songs:\n",
    "        # Download the lyric\n",
    "        lyric = lyricwikia.get_lyrics(s[0], s[1])\n",
    "        # Convert lyric to spacy Doc and preproces it\n",
    "        doc = nlp(lyric)\n",
    "        doc = doc_preprocess(doc)\n",
    "        # Classify\n",
    "        vect = np.array([doc.vector])\n",
    "        label = classifier.predict(sc.transform(vect))\n",
    "        lbl = np.argmax(label[0])\n",
    "        if emotion_labels[lbl] == s[2]:\n",
    "            count_correct += 1\n",
    "        print(s, '->', emotion_labels[lbl], '(was supposed to be {})'.format(s[2]))\n",
    "    print('We got {} predictions our of {} songs'.format(count_correct, len(songs)))\n",
    "    print('Accuracy: %0.2f' % (count_correct / len(songs)))"
   ]
  },
  {
   "cell_type": "code",
   "execution_count": 51,
   "metadata": {
    "ExecuteTime": {
     "end_time": "2018-04-11T13:27:57.894355Z",
     "start_time": "2018-04-11T13:27:51.751289Z"
    },
    "scrolled": false
   },
   "outputs": [
    {
     "name": "stdout",
     "output_type": "stream",
     "text": [
      "('Bobby McFerrin', \"Don't Worry, Be Happy\", 'happy') -> happy (was supposed to be happy)\n",
      "('Queen', \"Don't Stop me Now\", 'happy') -> sad (was supposed to be happy)\n",
      "('Pharrell Williams', 'Happy', 'happy') -> happy (was supposed to be happy)\n",
      "('The Monkees', \"I'm a believer\", 'happy') -> happy (was supposed to be happy)\n",
      "('R.E.M.', 'Everybody Hurts', 'sad') -> sad (was supposed to be sad)\n",
      "('Adele', 'Someone Like You', 'sad') -> angry (was supposed to be sad)\n",
      "('Pink Floyd', 'Wish you were here', 'sad') -> sad (was supposed to be sad)\n",
      "('Johnny Cash', 'Hurt', 'sad') -> sad (was supposed to be sad)\n",
      "('Nirvana', 'Smells like teen spirit', 'sad') -> relaxed (was supposed to be sad)\n",
      "('Rage Against the Machine', 'Killing in the name', 'angry') -> angry (was supposed to be angry)\n",
      "('Kanye West', 'Stronger', 'angry') -> sad (was supposed to be angry)\n",
      "('Smash Mouth', 'All Star', 'angry') -> sad (was supposed to be angry)\n",
      "('Bloodhound Gang', 'The Ballad of Chasey Lain', 'angry') -> happy (was supposed to be angry)\n",
      "('Blur', 'Song 2', 'relaxed') -> sad (was supposed to be relaxed)\n",
      "We got 4 predictions our of 14 songs\n",
      "Accuracy: 0.29\n"
     ]
    }
   ],
   "source": [
    "extra_test_ann(best_classifier)"
   ]
  },
  {
   "cell_type": "markdown",
   "metadata": {},
   "source": [
    "# What if we just consider the song title? \n",
    "Now let's try to perform the classification just considering the song title. We'll try SVM, Gradient Boost and an ANN to compare the accuracy."
   ]
  },
  {
   "cell_type": "code",
   "execution_count": 212,
   "metadata": {},
   "outputs": [
    {
     "name": "stdout",
     "output_type": "stream",
     "text": [
      "              Artist                Song  Emotion\n",
      "0        .38 Special        Fantasy Girl  relaxed\n",
      "1        .38 Special       Second Chance    happy\n",
      "2             22-20s             Hold On    angry\n",
      "3  3 Inches Of Blood  Trial Of Champions    angry\n"
     ]
    }
   ],
   "source": [
    "print(moodyLyricsDF[:4])"
   ]
  },
  {
   "cell_type": "code",
   "execution_count": 166,
   "metadata": {
    "ExecuteTime": {
     "end_time": "2018-04-11T09:51:56.618732Z",
     "start_time": "2018-04-11T09:51:56.604426Z"
    }
   },
   "outputs": [
    {
     "name": "stdout",
     "output_type": "stream",
     "text": [
      "              Artist                Song  Emotion\n",
      "0        .38 Special        Fantasy Girl        2\n",
      "1        .38 Special       Second Chance        0\n",
      "2             22-20s             Hold On        3\n",
      "3  3 Inches Of Blood  Trial Of Champions        3\n"
     ]
    }
   ],
   "source": [
    "# First we map the emotion labels into number: Happy=0, Sad=1, Relaxed=2, Angry=3\n",
    "mapping = dict(zip(emotion_labels, range(len(emotion_labels)))) \n",
    "moodyLyricsDF['Emotion'] = moodyLyricsDF['Emotion'].map(mapping)\n",
    "print(moodyLyricsDF[:4])"
   ]
  },
  {
   "cell_type": "code",
   "execution_count": 167,
   "metadata": {
    "ExecuteTime": {
     "end_time": "2018-04-11T09:52:37.477954Z",
     "start_time": "2018-04-11T09:51:57.740621Z"
    }
   },
   "outputs": [],
   "source": [
    "# Then we transform the Song title with spaCy\n",
    "rows = list()\n",
    "for index,row in moodyLyricsDF.iterrows():\n",
    "    doc = nlp(row['Song'])\n",
    "    rows.append((\n",
    "                    row['Artist'],\n",
    "                    row['Song'],\n",
    "                    row['Emotion'], doc.vector,\n",
    "                    doc.vector_norm\n",
    "                ))\n",
    "\n",
    "dataset = pd.DataFrame(rows, columns=['Artist', 'Song', 'Emotion','Vector', 'Vector_Norm'])"
   ]
  },
  {
   "cell_type": "code",
   "execution_count": 168,
   "metadata": {
    "ExecuteTime": {
     "end_time": "2018-04-11T09:52:37.534393Z",
     "start_time": "2018-04-11T09:52:37.509879Z"
    }
   },
   "outputs": [
    {
     "name": "stdout",
     "output_type": "stream",
     "text": [
      "        Artist           Song  Emotion  \\\n",
      "0  .38 Special   Fantasy Girl        2   \n",
      "1  .38 Special  Second Chance        0   \n",
      "\n",
      "                                              Vector  Vector_Norm  \n",
      "0  [-0.1325517, 0.070274994, -0.353215, 0.0470585...     5.674618  \n",
      "1  [-0.02172, 0.336335, -0.17991, 0.38281, 0.1225...     4.670355  \n"
     ]
    }
   ],
   "source": [
    "print(dataset[:2])"
   ]
  },
  {
   "cell_type": "code",
   "execution_count": 169,
   "metadata": {
    "ExecuteTime": {
     "end_time": "2018-04-11T09:52:37.569952Z",
     "start_time": "2018-04-11T09:52:37.541928Z"
    }
   },
   "outputs": [],
   "source": [
    "# Prepare array for sklearn classifiers\n",
    "X_vect_name = dataset['Vector'].as_matrix().T\n",
    "X_vect_name = np.array([np.array(x) for x in X_vect])\n",
    "X_norm_name = dataset['Vector_Norm'].as_matrix()\n",
    "y_name = dataset['Emotion'].as_matrix()"
   ]
  },
  {
   "cell_type": "markdown",
   "metadata": {},
   "source": [
    "## SVM with title only"
   ]
  },
  {
   "cell_type": "code",
   "execution_count": 230,
   "metadata": {},
   "outputs": [
    {
     "name": "stdout",
     "output_type": "stream",
     "text": [
      "Fitting 10 folds for each of 29 candidates, totalling 290 fits\n"
     ]
    },
    {
     "name": "stderr",
     "output_type": "stream",
     "text": [
      "[Parallel(n_jobs=-1)]: Done  42 tasks      | elapsed:  1.7min\n",
      "[Parallel(n_jobs=-1)]: Done 192 tasks      | elapsed:  6.9min\n",
      "[Parallel(n_jobs=-1)]: Done 290 out of 290 | elapsed:  9.0min finished\n"
     ]
    },
    {
     "name": "stdout",
     "output_type": "stream",
     "text": [
      "Parameters: {'C': 100, 'kernel': 'sigmoid'}\n",
      "Accuracy: 0.67 (+/- 0.05)\n"
     ]
    }
   ],
   "source": [
    "# Define the set of parameters we want to test on\n",
    "params = [\n",
    "    { 'kernel': ['linear'], 'C': [ 0.01, 0.05, 1, 10, 100 ]},\n",
    "    { 'kernel': ['rbf', 'sigmoid'], 'C': [ 0.01, 0.05, 0.1, 0.3, 0.8, 1, 3, 10, 50, 100, 150, 200 ] }\n",
    "]\n",
    "\n",
    "# Perform grid search\n",
    "svm_best, best_params = parameters_grid_search(SVC, params, X_vect_name, y_name, verbose=1)\n",
    "print('Parameters:', best_params)\n",
    "scores = cross_val_score(svm_best, X_vect_name, y_name, cv=10)\n",
    "print('Accuracy: %0.2f (+/- %0.2f)' % (scores.mean(), scores.std() * 1.96))"
   ]
  },
  {
   "cell_type": "code",
   "execution_count": 231,
   "metadata": {},
   "outputs": [
    {
     "name": "stdout",
     "output_type": "stream",
     "text": [
      "('Bobby McFerrin', \"Don't Worry, Be Happy\", 'happy') -> happy (was supposed to be happy)\n",
      "('Queen', \"Don't Stop me Now\", 'happy') -> sad (was supposed to be happy)\n",
      "('Pharrell Williams', 'Happy', 'happy') -> sad (was supposed to be happy)\n",
      "('The Monkees', \"I'm a believer\", 'happy') -> happy (was supposed to be happy)\n",
      "('R.E.M.', 'Everybody Hurts', 'sad') -> sad (was supposed to be sad)\n",
      "('Adele', 'Someone Like You', 'sad') -> sad (was supposed to be sad)\n",
      "('Pink Floyd', 'Wish you were here', 'sad') -> angry (was supposed to be sad)\n",
      "('Johnny Cash', 'Hurt', 'sad') -> sad (was supposed to be sad)\n",
      "('Nirvana', 'Smells like teen spirit', 'sad') -> relaxed (was supposed to be sad)\n",
      "('Rage Against the Machine', 'Killing in the name', 'angry') -> angry (was supposed to be angry)\n",
      "('Kanye West', 'Stronger', 'angry') -> sad (was supposed to be angry)\n",
      "('Smash Mouth', 'All Star', 'angry') -> sad (was supposed to be angry)\n",
      "('Bloodhound Gang', 'The Ballad of Chasey Lain', 'angry') -> sad (was supposed to be angry)\n",
      "('Blur', 'Song 2', 'relaxed') -> sad (was supposed to be relaxed)\n",
      "We got 6 predictions our of 14 songs\n",
      "Accuracy: 0.43\n"
     ]
    }
   ],
   "source": [
    "extra_test(svm_best)"
   ]
  },
  {
   "cell_type": "markdown",
   "metadata": {},
   "source": [
    "## Gradient Boost with title only"
   ]
  },
  {
   "cell_type": "code",
   "execution_count": 235,
   "metadata": {},
   "outputs": [
    {
     "name": "stdout",
     "output_type": "stream",
     "text": [
      "Accuracy: 0.65 (+/- 0.05)\n"
     ]
    }
   ],
   "source": [
    "# Build model\n",
    "clf = GradientBoostingClassifier(learning_rate=0.7, n_estimators=50)\n",
    "# Evaluate accuracy\n",
    "scores = cross_val_score(clf, X_vect_name, y_name, cv=10)\n",
    "print('Accuracy: %0.2f (+/- %0.2f)' % (scores.mean(), scores.std() * 1.96))"
   ]
  },
  {
   "cell_type": "code",
   "execution_count": 236,
   "metadata": {},
   "outputs": [
    {
     "data": {
      "text/plain": [
       "GradientBoostingClassifier(criterion='friedman_mse', init=None,\n",
       "              learning_rate=0.7, loss='deviance', max_depth=3,\n",
       "              max_features=None, max_leaf_nodes=None,\n",
       "              min_impurity_decrease=0.0, min_impurity_split=None,\n",
       "              min_samples_leaf=1, min_samples_split=2,\n",
       "              min_weight_fraction_leaf=0.0, n_estimators=50,\n",
       "              presort='auto', random_state=None, subsample=1.0, verbose=0,\n",
       "              warm_start=False)"
      ]
     },
     "execution_count": 236,
     "metadata": {},
     "output_type": "execute_result"
    }
   ],
   "source": [
    "clf.fit(X_vect_name, y_name)"
   ]
  },
  {
   "cell_type": "code",
   "execution_count": 237,
   "metadata": {
    "scrolled": false
   },
   "outputs": [
    {
     "name": "stdout",
     "output_type": "stream",
     "text": [
      "('Bobby McFerrin', \"Don't Worry, Be Happy\", 'happy') -> happy (was supposed to be happy)\n",
      "('Queen', \"Don't Stop me Now\", 'happy') -> sad (was supposed to be happy)\n",
      "('Pharrell Williams', 'Happy', 'happy') -> happy (was supposed to be happy)\n",
      "('The Monkees', \"I'm a believer\", 'happy') -> happy (was supposed to be happy)\n",
      "('R.E.M.', 'Everybody Hurts', 'sad') -> relaxed (was supposed to be sad)\n",
      "('Adele', 'Someone Like You', 'sad') -> angry (was supposed to be sad)\n",
      "('Pink Floyd', 'Wish you were here', 'sad') -> sad (was supposed to be sad)\n",
      "('Johnny Cash', 'Hurt', 'sad') -> angry (was supposed to be sad)\n",
      "('Nirvana', 'Smells like teen spirit', 'sad') -> relaxed (was supposed to be sad)\n",
      "('Rage Against the Machine', 'Killing in the name', 'angry') -> angry (was supposed to be angry)\n",
      "('Kanye West', 'Stronger', 'angry') -> angry (was supposed to be angry)\n",
      "('Smash Mouth', 'All Star', 'angry') -> happy (was supposed to be angry)\n",
      "('Bloodhound Gang', 'The Ballad of Chasey Lain', 'angry') -> happy (was supposed to be angry)\n",
      "('Blur', 'Song 2', 'relaxed') -> sad (was supposed to be relaxed)\n",
      "We got 6 predictions our of 14 songs\n",
      "Accuracy: 0.43\n"
     ]
    }
   ],
   "source": [
    "extra_test(clf)"
   ]
  },
  {
   "cell_type": "markdown",
   "metadata": {},
   "source": [
    "## Artificial Neural Network with title only"
   ]
  },
  {
   "cell_type": "code",
   "execution_count": 37,
   "metadata": {
    "ExecuteTime": {
     "end_time": "2018-04-11T13:20:34.555233Z",
     "start_time": "2018-04-11T13:20:34.542863Z"
    }
   },
   "outputs": [],
   "source": [
    "sc = StandardScaler()\n",
    "# we need to scale because we don't want one feature to predomine the others\n",
    "# Standardize features by removing the mean and scaling to unit variance\n",
    "X_vect = sc.fit_transform(X_vect_name)"
   ]
  },
  {
   "cell_type": "code",
   "execution_count": 38,
   "metadata": {
    "ExecuteTime": {
     "end_time": "2018-04-11T13:20:35.754648Z",
     "start_time": "2018-04-11T13:20:35.749380Z"
    }
   },
   "outputs": [],
   "source": [
    "encoder = LabelEncoder()\n",
    "encoder.fit(y_name)\n",
    "encoded_Y = encoder.transform(y_name)\n",
    "y_nn = np_utils.to_categorical(encoded_Y)"
   ]
  },
  {
   "cell_type": "code",
   "execution_count": 39,
   "metadata": {
    "ExecuteTime": {
     "end_time": "2018-04-11T13:21:24.980277Z",
     "start_time": "2018-04-11T13:20:51.361745Z"
    },
    "scrolled": true
   },
   "outputs": [
    {
     "name": "stdout",
     "output_type": "stream",
     "text": [
      "Epoch 1/50\n",
      "1962/1962 [==============================] - 2s 814us/step - loss: 1.3902 - acc: 0.2732\n",
      "Epoch 2/50\n",
      "1962/1962 [==============================] - 0s 37us/step - loss: 1.3482 - acc: 0.3430\n",
      "Epoch 3/50\n",
      "1962/1962 [==============================] - 0s 38us/step - loss: 1.3003 - acc: 0.4062\n",
      "Epoch 4/50\n",
      "1962/1962 [==============================] - 0s 42us/step - loss: 1.2210 - acc: 0.4954\n",
      "Epoch 5/50\n",
      "1962/1962 [==============================] - 0s 39us/step - loss: 1.1190 - acc: 0.5591\n",
      "Epoch 6/50\n",
      "1962/1962 [==============================] - 0s 36us/step - loss: 1.0033 - acc: 0.6081\n",
      "Epoch 7/50\n",
      "1962/1962 [==============================] - 0s 34us/step - loss: 0.8989 - acc: 0.6606\n",
      "Epoch 8/50\n",
      "1962/1962 [==============================] - 0s 36us/step - loss: 0.8277 - acc: 0.6896\n",
      "Epoch 9/50\n",
      "1962/1962 [==============================] - 0s 39us/step - loss: 0.7522 - acc: 0.7380\n",
      "Epoch 10/50\n",
      "1962/1962 [==============================] - 0s 37us/step - loss: 0.6978 - acc: 0.7589\n",
      "Epoch 11/50\n",
      "1962/1962 [==============================] - 0s 39us/step - loss: 0.6499 - acc: 0.7808\n",
      "Epoch 12/50\n",
      "1962/1962 [==============================] - 0s 35us/step - loss: 0.6027 - acc: 0.7977\n",
      "Epoch 13/50\n",
      "1962/1962 [==============================] - 0s 39us/step - loss: 0.5577 - acc: 0.8354\n",
      "Epoch 14/50\n",
      "1962/1962 [==============================] - 0s 37us/step - loss: 0.5277 - acc: 0.8303\n",
      "Epoch 15/50\n",
      "1962/1962 [==============================] - 0s 36us/step - loss: 0.4814 - acc: 0.8563\n",
      "Epoch 16/50\n",
      "1962/1962 [==============================] - 0s 41us/step - loss: 0.4587 - acc: 0.8558\n",
      "Epoch 17/50\n",
      "1962/1962 [==============================] - 0s 38us/step - loss: 0.4372 - acc: 0.8573\n",
      "Epoch 18/50\n",
      "1962/1962 [==============================] - 0s 38us/step - loss: 0.4214 - acc: 0.8629\n",
      "Epoch 19/50\n",
      "1962/1962 [==============================] - 0s 43us/step - loss: 0.3976 - acc: 0.8710\n",
      "Epoch 20/50\n",
      "1962/1962 [==============================] - 0s 43us/step - loss: 0.3877 - acc: 0.8828\n",
      "Epoch 21/50\n",
      "1962/1962 [==============================] - 0s 36us/step - loss: 0.3647 - acc: 0.8823\n",
      "Epoch 22/50\n",
      "1962/1962 [==============================] - 0s 35us/step - loss: 0.3541 - acc: 0.8863\n",
      "Epoch 23/50\n",
      "1962/1962 [==============================] - 0s 35us/step - loss: 0.3493 - acc: 0.8889\n",
      "Epoch 24/50\n",
      "1962/1962 [==============================] - 0s 36us/step - loss: 0.3338 - acc: 0.8940\n",
      "Epoch 25/50\n",
      "1962/1962 [==============================] - 0s 36us/step - loss: 0.3437 - acc: 0.8914\n",
      "Epoch 26/50\n",
      "1962/1962 [==============================] - 0s 39us/step - loss: 0.3061 - acc: 0.9093\n",
      "Epoch 27/50\n",
      "1962/1962 [==============================] - 0s 40us/step - loss: 0.3012 - acc: 0.9103\n",
      "Epoch 28/50\n",
      "1962/1962 [==============================] - 0s 36us/step - loss: 0.2902 - acc: 0.9154\n",
      "Epoch 29/50\n",
      "1962/1962 [==============================] - 0s 36us/step - loss: 0.3025 - acc: 0.9067\n",
      "Epoch 30/50\n",
      "1962/1962 [==============================] - 0s 35us/step - loss: 0.2851 - acc: 0.9093\n",
      "Epoch 31/50\n",
      "1962/1962 [==============================] - 0s 43us/step - loss: 0.2758 - acc: 0.9190\n",
      "Epoch 32/50\n",
      "1962/1962 [==============================] - 0s 40us/step - loss: 0.2821 - acc: 0.9052\n",
      "Epoch 33/50\n",
      "1962/1962 [==============================] - 0s 41us/step - loss: 0.2775 - acc: 0.9159\n",
      "Epoch 34/50\n",
      "1962/1962 [==============================] - 0s 40us/step - loss: 0.2663 - acc: 0.9149\n",
      "Epoch 35/50\n",
      "1962/1962 [==============================] - 0s 34us/step - loss: 0.2691 - acc: 0.9134\n",
      "Epoch 36/50\n",
      "1962/1962 [==============================] - 0s 38us/step - loss: 0.2628 - acc: 0.9169\n",
      "Epoch 37/50\n",
      "1962/1962 [==============================] - 0s 35us/step - loss: 0.2436 - acc: 0.9225\n",
      "Epoch 38/50\n",
      "1962/1962 [==============================] - 0s 35us/step - loss: 0.2427 - acc: 0.9246\n",
      "Epoch 39/50\n",
      "1962/1962 [==============================] - 0s 36us/step - loss: 0.2499 - acc: 0.9205\n",
      "Epoch 40/50\n",
      "1962/1962 [==============================] - 0s 37us/step - loss: 0.2409 - acc: 0.9256\n",
      "Epoch 41/50\n",
      "1962/1962 [==============================] - 0s 36us/step - loss: 0.2400 - acc: 0.9281\n",
      "Epoch 42/50\n",
      "1962/1962 [==============================] - 0s 44us/step - loss: 0.2359 - acc: 0.9241\n",
      "Epoch 43/50\n",
      "1962/1962 [==============================] - 0s 41us/step - loss: 0.2425 - acc: 0.9251\n",
      "Epoch 44/50\n",
      "1962/1962 [==============================] - 0s 37us/step - loss: 0.2280 - acc: 0.9286\n",
      "Epoch 45/50\n",
      "1962/1962 [==============================] - 0s 39us/step - loss: 0.2226 - acc: 0.9266\n",
      "Epoch 46/50\n",
      "1962/1962 [==============================] - 0s 37us/step - loss: 0.2263 - acc: 0.9266\n",
      "Epoch 47/50\n",
      "1962/1962 [==============================] - 0s 41us/step - loss: 0.2166 - acc: 0.9297\n",
      "Epoch 48/50\n",
      "1962/1962 [==============================] - 0s 37us/step - loss: 0.1992 - acc: 0.9373\n",
      "Epoch 49/50\n",
      "1962/1962 [==============================] - 0s 44us/step - loss: 0.2110 - acc: 0.9286\n",
      "Epoch 50/50\n",
      "1962/1962 [==============================] - 0s 39us/step - loss: 0.2097 - acc: 0.9353\n",
      "491/491 [==============================] - 1s 1ms/step\n",
      "Epoch 1/50\n",
      "1962/1962 [==============================] - 2s 921us/step - loss: 1.3811 - acc: 0.3002\n",
      "Epoch 2/50\n",
      "1962/1962 [==============================] - 0s 36us/step - loss: 1.3396 - acc: 0.3665\n",
      "Epoch 3/50\n",
      "1962/1962 [==============================] - 0s 41us/step - loss: 1.2770 - acc: 0.4526\n",
      "Epoch 4/50\n",
      "1962/1962 [==============================] - 0s 39us/step - loss: 1.1811 - acc: 0.5194\n",
      "Epoch 5/50\n",
      "1962/1962 [==============================] - 0s 39us/step - loss: 1.0741 - acc: 0.5617\n",
      "Epoch 6/50\n",
      "1962/1962 [==============================] - 0s 40us/step - loss: 0.9659 - acc: 0.6009\n",
      "Epoch 7/50\n",
      "1962/1962 [==============================] - 0s 38us/step - loss: 0.8902 - acc: 0.6330\n",
      "Epoch 8/50\n",
      "1962/1962 [==============================] - 0s 39us/step - loss: 0.8259 - acc: 0.6549\n",
      "Epoch 9/50\n",
      "1962/1962 [==============================] - 0s 34us/step - loss: 0.7707 - acc: 0.6962\n",
      "Epoch 10/50\n",
      "1962/1962 [==============================] - 0s 43us/step - loss: 0.7299 - acc: 0.7125\n",
      "Epoch 11/50\n",
      "1962/1962 [==============================] - 0s 56us/step - loss: 0.6799 - acc: 0.7528\n",
      "Epoch 12/50\n",
      "1962/1962 [==============================] - 0s 45us/step - loss: 0.6439 - acc: 0.7696\n",
      "Epoch 13/50\n",
      "1962/1962 [==============================] - 0s 51us/step - loss: 0.6004 - acc: 0.7890\n",
      "Epoch 14/50\n",
      "1962/1962 [==============================] - 0s 51us/step - loss: 0.5652 - acc: 0.8053\n",
      "Epoch 15/50\n",
      "1962/1962 [==============================] - 0s 61us/step - loss: 0.5228 - acc: 0.8298\n",
      "Epoch 16/50\n",
      "1962/1962 [==============================] - 0s 50us/step - loss: 0.5083 - acc: 0.8231\n",
      "Epoch 17/50\n",
      "1962/1962 [==============================] - 0s 45us/step - loss: 0.4677 - acc: 0.8502\n",
      "Epoch 18/50\n",
      "1962/1962 [==============================] - 0s 53us/step - loss: 0.4483 - acc: 0.8512\n",
      "Epoch 19/50\n",
      "1962/1962 [==============================] - 0s 48us/step - loss: 0.4335 - acc: 0.8609\n",
      "Epoch 20/50\n",
      "1962/1962 [==============================] - 0s 47us/step - loss: 0.4016 - acc: 0.8670\n",
      "Epoch 21/50\n",
      "1962/1962 [==============================] - 0s 50us/step - loss: 0.3956 - acc: 0.8700\n",
      "Epoch 22/50\n",
      "1962/1962 [==============================] - 0s 48us/step - loss: 0.3755 - acc: 0.8797\n",
      "Epoch 23/50\n",
      "1962/1962 [==============================] - 0s 55us/step - loss: 0.3663 - acc: 0.8823\n",
      "Epoch 24/50\n",
      "1962/1962 [==============================] - 0s 45us/step - loss: 0.3441 - acc: 0.8899\n",
      "Epoch 25/50\n",
      "1962/1962 [==============================] - 0s 47us/step - loss: 0.3501 - acc: 0.8828\n",
      "Epoch 26/50\n",
      "1962/1962 [==============================] - 0s 46us/step - loss: 0.3218 - acc: 0.8940\n",
      "Epoch 27/50\n",
      "1962/1962 [==============================] - 0s 58us/step - loss: 0.3145 - acc: 0.8955\n",
      "Epoch 28/50\n",
      "1962/1962 [==============================] - 0s 49us/step - loss: 0.2994 - acc: 0.9037\n",
      "Epoch 29/50\n",
      "1962/1962 [==============================] - 0s 51us/step - loss: 0.2968 - acc: 0.9103\n",
      "Epoch 30/50\n",
      "1962/1962 [==============================] - 0s 42us/step - loss: 0.3003 - acc: 0.9011\n",
      "Epoch 31/50\n",
      "1962/1962 [==============================] - 0s 41us/step - loss: 0.2903 - acc: 0.9062\n",
      "Epoch 32/50\n",
      "1962/1962 [==============================] - 0s 46us/step - loss: 0.2821 - acc: 0.9083\n",
      "Epoch 33/50\n",
      "1962/1962 [==============================] - 0s 44us/step - loss: 0.2630 - acc: 0.9118\n",
      "Epoch 34/50\n",
      "1962/1962 [==============================] - 0s 41us/step - loss: 0.2666 - acc: 0.9103\n",
      "Epoch 35/50\n",
      "1962/1962 [==============================] - 0s 39us/step - loss: 0.2491 - acc: 0.9185\n",
      "Epoch 36/50\n",
      "1962/1962 [==============================] - 0s 35us/step - loss: 0.2541 - acc: 0.9246\n",
      "Epoch 37/50\n",
      "1962/1962 [==============================] - 0s 37us/step - loss: 0.2408 - acc: 0.9261\n",
      "Epoch 38/50\n",
      "1962/1962 [==============================] - 0s 37us/step - loss: 0.2431 - acc: 0.9210\n",
      "Epoch 39/50\n",
      "1962/1962 [==============================] - 0s 48us/step - loss: 0.2369 - acc: 0.9251\n",
      "Epoch 40/50\n",
      "1962/1962 [==============================] - 0s 43us/step - loss: 0.2265 - acc: 0.9281\n",
      "Epoch 41/50\n",
      "1962/1962 [==============================] - 0s 40us/step - loss: 0.2245 - acc: 0.9210\n",
      "Epoch 42/50\n",
      "1962/1962 [==============================] - 0s 46us/step - loss: 0.2287 - acc: 0.9266\n",
      "Epoch 43/50\n",
      "1962/1962 [==============================] - 0s 31us/step - loss: 0.2190 - acc: 0.9276\n",
      "Epoch 44/50\n",
      "1962/1962 [==============================] - 0s 46us/step - loss: 0.2147 - acc: 0.9343\n",
      "Epoch 45/50\n",
      "1962/1962 [==============================] - 0s 46us/step - loss: 0.2221 - acc: 0.9235\n",
      "Epoch 46/50\n",
      "1962/1962 [==============================] - 0s 52us/step - loss: 0.2143 - acc: 0.9358\n",
      "Epoch 47/50\n",
      "1962/1962 [==============================] - 0s 51us/step - loss: 0.2129 - acc: 0.9343\n",
      "Epoch 48/50\n",
      "1962/1962 [==============================] - 0s 46us/step - loss: 0.2036 - acc: 0.9358\n",
      "Epoch 49/50\n",
      "1962/1962 [==============================] - 0s 45us/step - loss: 0.1973 - acc: 0.9343\n",
      "Epoch 50/50\n",
      "1962/1962 [==============================] - 0s 48us/step - loss: 0.1926 - acc: 0.9414\n",
      "491/491 [==============================] - 1s 2ms/step\n",
      "Epoch 1/50\n",
      "1962/1962 [==============================] - 2s 820us/step - loss: 1.3825 - acc: 0.2910\n",
      "Epoch 2/50\n",
      "1962/1962 [==============================] - 0s 40us/step - loss: 1.3487 - acc: 0.3547\n",
      "Epoch 3/50\n",
      "1962/1962 [==============================] - 0s 38us/step - loss: 1.2911 - acc: 0.4332\n",
      "Epoch 4/50\n",
      "1962/1962 [==============================] - 0s 38us/step - loss: 1.2062 - acc: 0.5076\n",
      "Epoch 5/50\n",
      "1962/1962 [==============================] - 0s 38us/step - loss: 1.0976 - acc: 0.5505\n",
      "Epoch 6/50\n",
      "1962/1962 [==============================] - 0s 36us/step - loss: 0.9831 - acc: 0.5810\n",
      "Epoch 7/50\n",
      "1962/1962 [==============================] - 0s 37us/step - loss: 0.9014 - acc: 0.6264\n",
      "Epoch 8/50\n",
      "1962/1962 [==============================] - 0s 39us/step - loss: 0.8331 - acc: 0.6616\n",
      "Epoch 9/50\n",
      "1962/1962 [==============================] - 0s 39us/step - loss: 0.7809 - acc: 0.7029\n",
      "Epoch 10/50\n",
      "1962/1962 [==============================] - 0s 40us/step - loss: 0.7447 - acc: 0.7090\n",
      "Epoch 11/50\n",
      "1962/1962 [==============================] - 0s 42us/step - loss: 0.6919 - acc: 0.7401\n",
      "Epoch 12/50\n",
      "1962/1962 [==============================] - 0s 36us/step - loss: 0.6593 - acc: 0.7706\n",
      "Epoch 13/50\n",
      "1962/1962 [==============================] - 0s 42us/step - loss: 0.6259 - acc: 0.7701\n",
      "Epoch 14/50\n",
      "1962/1962 [==============================] - 0s 39us/step - loss: 0.5765 - acc: 0.8063\n",
      "Epoch 15/50\n",
      "1962/1962 [==============================] - 0s 45us/step - loss: 0.5394 - acc: 0.8216\n",
      "Epoch 16/50\n",
      "1962/1962 [==============================] - 0s 48us/step - loss: 0.5219 - acc: 0.8308\n",
      "Epoch 17/50\n",
      "1962/1962 [==============================] - 0s 44us/step - loss: 0.5042 - acc: 0.8293\n",
      "Epoch 18/50\n",
      "1962/1962 [==============================] - 0s 46us/step - loss: 0.4702 - acc: 0.8456\n",
      "Epoch 19/50\n",
      "1962/1962 [==============================] - 0s 39us/step - loss: 0.4519 - acc: 0.8568\n",
      "Epoch 20/50\n",
      "1962/1962 [==============================] - 0s 40us/step - loss: 0.4194 - acc: 0.8660\n",
      "Epoch 21/50\n",
      "1962/1962 [==============================] - 0s 40us/step - loss: 0.4082 - acc: 0.8614\n",
      "Epoch 22/50\n",
      "1962/1962 [==============================] - 0s 39us/step - loss: 0.3893 - acc: 0.8741\n",
      "Epoch 23/50\n",
      "1962/1962 [==============================] - 0s 37us/step - loss: 0.3835 - acc: 0.8756\n",
      "Epoch 24/50\n",
      "1962/1962 [==============================] - 0s 37us/step - loss: 0.3637 - acc: 0.8848\n",
      "Epoch 25/50\n",
      "1962/1962 [==============================] - 0s 43us/step - loss: 0.3534 - acc: 0.8746\n",
      "Epoch 26/50\n",
      "1962/1962 [==============================] - 0s 39us/step - loss: 0.3391 - acc: 0.8996\n",
      "Epoch 27/50\n",
      "1962/1962 [==============================] - 0s 36us/step - loss: 0.3315 - acc: 0.8909\n",
      "Epoch 28/50\n",
      "1962/1962 [==============================] - 0s 36us/step - loss: 0.3158 - acc: 0.8976\n",
      "Epoch 29/50\n",
      "1962/1962 [==============================] - 0s 42us/step - loss: 0.3012 - acc: 0.9027\n",
      "Epoch 30/50\n",
      "1962/1962 [==============================] - 0s 40us/step - loss: 0.3026 - acc: 0.9103\n",
      "Epoch 31/50\n",
      "1962/1962 [==============================] - 0s 41us/step - loss: 0.2853 - acc: 0.9098\n",
      "Epoch 32/50\n",
      "1962/1962 [==============================] - 0s 43us/step - loss: 0.2759 - acc: 0.9169\n",
      "Epoch 33/50\n",
      "1962/1962 [==============================] - 0s 37us/step - loss: 0.2823 - acc: 0.9057\n",
      "Epoch 34/50\n",
      "1962/1962 [==============================] - 0s 43us/step - loss: 0.2629 - acc: 0.9113\n",
      "Epoch 35/50\n",
      "1962/1962 [==============================] - 0s 39us/step - loss: 0.2609 - acc: 0.9179\n",
      "Epoch 36/50\n",
      "1962/1962 [==============================] - 0s 44us/step - loss: 0.2539 - acc: 0.9251\n",
      "Epoch 37/50\n",
      "1962/1962 [==============================] - 0s 43us/step - loss: 0.2506 - acc: 0.9205\n",
      "Epoch 38/50\n",
      "1962/1962 [==============================] - 0s 36us/step - loss: 0.2491 - acc: 0.9220\n",
      "Epoch 39/50\n",
      "1962/1962 [==============================] - 0s 37us/step - loss: 0.2342 - acc: 0.9286\n",
      "Epoch 40/50\n",
      "1962/1962 [==============================] - 0s 43us/step - loss: 0.2357 - acc: 0.9246\n",
      "Epoch 41/50\n",
      "1962/1962 [==============================] - 0s 37us/step - loss: 0.2426 - acc: 0.9169\n",
      "Epoch 42/50\n",
      "1962/1962 [==============================] - 0s 36us/step - loss: 0.2328 - acc: 0.9241\n",
      "Epoch 43/50\n",
      "1962/1962 [==============================] - 0s 44us/step - loss: 0.2223 - acc: 0.9317\n",
      "Epoch 44/50\n",
      "1962/1962 [==============================] - 0s 40us/step - loss: 0.2293 - acc: 0.9276\n",
      "Epoch 45/50\n",
      "1962/1962 [==============================] - 0s 38us/step - loss: 0.2268 - acc: 0.9220\n",
      "Epoch 46/50\n",
      "1962/1962 [==============================] - 0s 36us/step - loss: 0.2011 - acc: 0.9327\n",
      "Epoch 47/50\n",
      "1962/1962 [==============================] - 0s 38us/step - loss: 0.1949 - acc: 0.9414\n",
      "Epoch 48/50\n",
      "1962/1962 [==============================] - 0s 38us/step - loss: 0.2048 - acc: 0.9348\n",
      "Epoch 49/50\n",
      "1962/1962 [==============================] - 0s 52us/step - loss: 0.2005 - acc: 0.9383\n",
      "Epoch 50/50\n",
      "1962/1962 [==============================] - 0s 45us/step - loss: 0.2096 - acc: 0.9337\n",
      "491/491 [==============================] - 1s 1ms/step\n",
      "Epoch 1/50\n",
      "1963/1963 [==============================] - 2s 835us/step - loss: 1.3825 - acc: 0.2990\n",
      "Epoch 2/50\n",
      "1963/1963 [==============================] - 0s 41us/step - loss: 1.3426 - acc: 0.3530\n",
      "Epoch 3/50\n",
      "1963/1963 [==============================] - 0s 42us/step - loss: 1.2782 - acc: 0.4350\n",
      "Epoch 4/50\n",
      "1963/1963 [==============================] - 0s 35us/step - loss: 1.1848 - acc: 0.5150\n",
      "Epoch 5/50\n",
      "1963/1963 [==============================] - 0s 52us/step - loss: 1.0738 - acc: 0.5690\n",
      "Epoch 6/50\n",
      "1963/1963 [==============================] - 0s 47us/step - loss: 0.9590 - acc: 0.6322\n",
      "Epoch 7/50\n",
      "1963/1963 [==============================] - 0s 37us/step - loss: 0.8744 - acc: 0.6510\n",
      "Epoch 8/50\n",
      "1963/1963 [==============================] - 0s 38us/step - loss: 0.8142 - acc: 0.7025\n",
      "Epoch 9/50\n",
      "1963/1963 [==============================] - 0s 38us/step - loss: 0.7454 - acc: 0.7417\n",
      "Epoch 10/50\n",
      "1963/1963 [==============================] - 0s 37us/step - loss: 0.6922 - acc: 0.7652\n",
      "Epoch 11/50\n",
      "1963/1963 [==============================] - 0s 40us/step - loss: 0.6389 - acc: 0.7799\n",
      "Epoch 12/50\n",
      "1963/1963 [==============================] - 0s 37us/step - loss: 0.5814 - acc: 0.8085\n",
      "Epoch 13/50\n",
      "1963/1963 [==============================] - 0s 39us/step - loss: 0.5466 - acc: 0.8161\n",
      "Epoch 14/50\n"
     ]
    },
    {
     "name": "stdout",
     "output_type": "stream",
     "text": [
      "1963/1963 [==============================] - 0s 39us/step - loss: 0.5059 - acc: 0.8375\n",
      "Epoch 15/50\n",
      "1963/1963 [==============================] - 0s 37us/step - loss: 0.4830 - acc: 0.8451\n",
      "Epoch 16/50\n",
      "1963/1963 [==============================] - 0s 36us/step - loss: 0.4534 - acc: 0.8538\n",
      "Epoch 17/50\n",
      "1963/1963 [==============================] - 0s 35us/step - loss: 0.4277 - acc: 0.8645\n",
      "Epoch 18/50\n",
      "1963/1963 [==============================] - 0s 35us/step - loss: 0.4065 - acc: 0.8742\n",
      "Epoch 19/50\n",
      "1963/1963 [==============================] - 0s 47us/step - loss: 0.4010 - acc: 0.8675\n",
      "Epoch 20/50\n",
      "1963/1963 [==============================] - 0s 42us/step - loss: 0.3924 - acc: 0.8691\n",
      "Epoch 21/50\n",
      "1963/1963 [==============================] - 0s 36us/step - loss: 0.3699 - acc: 0.8828\n",
      "Epoch 22/50\n",
      "1963/1963 [==============================] - 0s 34us/step - loss: 0.3478 - acc: 0.8961\n",
      "Epoch 23/50\n",
      "1963/1963 [==============================] - 0s 36us/step - loss: 0.3459 - acc: 0.8818\n",
      "Epoch 24/50\n",
      "1963/1963 [==============================] - 0s 34us/step - loss: 0.3316 - acc: 0.8915\n",
      "Epoch 25/50\n",
      "1963/1963 [==============================] - 0s 35us/step - loss: 0.3363 - acc: 0.8976\n",
      "Epoch 26/50\n",
      "1963/1963 [==============================] - 0s 35us/step - loss: 0.3311 - acc: 0.8900\n",
      "Epoch 27/50\n",
      "1963/1963 [==============================] - 0s 34us/step - loss: 0.3048 - acc: 0.9042\n",
      "Epoch 28/50\n",
      "1963/1963 [==============================] - 0s 36us/step - loss: 0.2985 - acc: 0.9032\n",
      "Epoch 29/50\n",
      "1963/1963 [==============================] - 0s 36us/step - loss: 0.2951 - acc: 0.9032\n",
      "Epoch 30/50\n",
      "1963/1963 [==============================] - 0s 34us/step - loss: 0.3035 - acc: 0.9032\n",
      "Epoch 31/50\n",
      "1963/1963 [==============================] - 0s 35us/step - loss: 0.2706 - acc: 0.9088\n",
      "Epoch 32/50\n",
      "1963/1963 [==============================] - 0s 36us/step - loss: 0.2729 - acc: 0.9098\n",
      "Epoch 33/50\n",
      "1963/1963 [==============================] - 0s 34us/step - loss: 0.2616 - acc: 0.9251\n",
      "Epoch 34/50\n",
      "1963/1963 [==============================] - 0s 35us/step - loss: 0.2788 - acc: 0.9119\n",
      "Epoch 35/50\n",
      "1963/1963 [==============================] - 0s 38us/step - loss: 0.2553 - acc: 0.9226\n",
      "Epoch 36/50\n",
      "1963/1963 [==============================] - 0s 35us/step - loss: 0.2582 - acc: 0.9159\n",
      "Epoch 37/50\n",
      "1963/1963 [==============================] - 0s 40us/step - loss: 0.2477 - acc: 0.9149\n",
      "Epoch 38/50\n",
      "1963/1963 [==============================] - 0s 34us/step - loss: 0.2497 - acc: 0.9180\n",
      "Epoch 39/50\n",
      "1963/1963 [==============================] - 0s 37us/step - loss: 0.2430 - acc: 0.9210\n",
      "Epoch 40/50\n",
      "1963/1963 [==============================] - 0s 35us/step - loss: 0.2451 - acc: 0.9180\n",
      "Epoch 41/50\n",
      "1963/1963 [==============================] - 0s 35us/step - loss: 0.2371 - acc: 0.9246\n",
      "Epoch 42/50\n",
      "1963/1963 [==============================] - 0s 36us/step - loss: 0.2356 - acc: 0.9251\n",
      "Epoch 43/50\n",
      "1963/1963 [==============================] - 0s 36us/step - loss: 0.2377 - acc: 0.9256\n",
      "Epoch 44/50\n",
      "1963/1963 [==============================] - 0s 37us/step - loss: 0.2282 - acc: 0.9256\n",
      "Epoch 45/50\n",
      "1963/1963 [==============================] - 0s 36us/step - loss: 0.2271 - acc: 0.9307\n",
      "Epoch 46/50\n",
      "1963/1963 [==============================] - 0s 36us/step - loss: 0.2136 - acc: 0.9353\n",
      "Epoch 47/50\n",
      "1963/1963 [==============================] - 0s 35us/step - loss: 0.2180 - acc: 0.9358\n",
      "Epoch 48/50\n",
      "1963/1963 [==============================] - 0s 36us/step - loss: 0.2046 - acc: 0.9379\n",
      "Epoch 49/50\n",
      "1963/1963 [==============================] - 0s 38us/step - loss: 0.2059 - acc: 0.9322\n",
      "Epoch 50/50\n",
      "1963/1963 [==============================] - 0s 39us/step - loss: 0.1995 - acc: 0.9394\n",
      "490/490 [==============================] - 1s 1ms/step\n",
      "Epoch 1/50\n",
      "1963/1963 [==============================] - 2s 844us/step - loss: 1.3858 - acc: 0.2909\n",
      "Epoch 2/50\n",
      "1963/1963 [==============================] - 0s 36us/step - loss: 1.3464 - acc: 0.3535\n",
      "Epoch 3/50\n",
      "1963/1963 [==============================] - 0s 39us/step - loss: 1.2919 - acc: 0.4187\n",
      "Epoch 4/50\n",
      "1963/1963 [==============================] - 0s 34us/step - loss: 1.1944 - acc: 0.5166\n",
      "Epoch 5/50\n",
      "1963/1963 [==============================] - 0s 36us/step - loss: 1.0791 - acc: 0.5690\n",
      "Epoch 6/50\n",
      "1963/1963 [==============================] - 0s 35us/step - loss: 0.9627 - acc: 0.6052\n",
      "Epoch 7/50\n",
      "1963/1963 [==============================] - 0s 35us/step - loss: 0.8743 - acc: 0.6470\n",
      "Epoch 8/50\n",
      "1963/1963 [==============================] - 0s 34us/step - loss: 0.8026 - acc: 0.6735\n",
      "Epoch 9/50\n",
      "1963/1963 [==============================] - 0s 37us/step - loss: 0.7413 - acc: 0.7208\n",
      "Epoch 10/50\n",
      "1963/1963 [==============================] - 0s 37us/step - loss: 0.6970 - acc: 0.7320\n",
      "Epoch 11/50\n",
      "1963/1963 [==============================] - 0s 39us/step - loss: 0.6431 - acc: 0.7590\n",
      "Epoch 12/50\n",
      "1963/1963 [==============================] - 0s 35us/step - loss: 0.6001 - acc: 0.7947\n",
      "Epoch 13/50\n",
      "1963/1963 [==============================] - 0s 38us/step - loss: 0.5738 - acc: 0.7937\n",
      "Epoch 14/50\n",
      "1963/1963 [==============================] - 0s 37us/step - loss: 0.5374 - acc: 0.8141\n",
      "Epoch 15/50\n",
      "1963/1963 [==============================] - 0s 38us/step - loss: 0.5034 - acc: 0.8334\n",
      "Epoch 16/50\n",
      "1963/1963 [==============================] - 0s 36us/step - loss: 0.4667 - acc: 0.8507\n",
      "Epoch 17/50\n",
      "1963/1963 [==============================] - 0s 37us/step - loss: 0.4458 - acc: 0.8574\n",
      "Epoch 18/50\n",
      "1963/1963 [==============================] - 0s 36us/step - loss: 0.4349 - acc: 0.8569\n",
      "Epoch 19/50\n",
      "1963/1963 [==============================] - 0s 38us/step - loss: 0.4111 - acc: 0.8681\n",
      "Epoch 20/50\n",
      "1963/1963 [==============================] - 0s 35us/step - loss: 0.3948 - acc: 0.8670\n",
      "Epoch 21/50\n",
      "1963/1963 [==============================] - 0s 35us/step - loss: 0.3651 - acc: 0.8793\n",
      "Epoch 22/50\n",
      "1963/1963 [==============================] - 0s 37us/step - loss: 0.3607 - acc: 0.8828\n",
      "Epoch 23/50\n",
      "1963/1963 [==============================] - 0s 36us/step - loss: 0.3437 - acc: 0.8895\n",
      "Epoch 24/50\n",
      "1963/1963 [==============================] - 0s 35us/step - loss: 0.3221 - acc: 0.8986\n",
      "Epoch 25/50\n",
      "1963/1963 [==============================] - 0s 36us/step - loss: 0.3355 - acc: 0.8910\n",
      "Epoch 26/50\n",
      "1963/1963 [==============================] - 0s 40us/step - loss: 0.3167 - acc: 0.8986\n",
      "Epoch 27/50\n",
      "1963/1963 [==============================] - 0s 39us/step - loss: 0.3160 - acc: 0.8930\n",
      "Epoch 28/50\n",
      "1963/1963 [==============================] - 0s 34us/step - loss: 0.2869 - acc: 0.9088\n",
      "Epoch 29/50\n",
      "1963/1963 [==============================] - 0s 34us/step - loss: 0.2810 - acc: 0.9129\n",
      "Epoch 30/50\n",
      "1963/1963 [==============================] - 0s 38us/step - loss: 0.2863 - acc: 0.9058\n",
      "Epoch 31/50\n",
      "1963/1963 [==============================] - 0s 35us/step - loss: 0.2782 - acc: 0.9170\n",
      "Epoch 32/50\n",
      "1963/1963 [==============================] - 0s 36us/step - loss: 0.2762 - acc: 0.9088\n",
      "Epoch 33/50\n",
      "1963/1963 [==============================] - 0s 36us/step - loss: 0.2581 - acc: 0.9170\n",
      "Epoch 34/50\n",
      "1963/1963 [==============================] - 0s 35us/step - loss: 0.2595 - acc: 0.9190\n",
      "Epoch 35/50\n",
      "1963/1963 [==============================] - 0s 38us/step - loss: 0.2402 - acc: 0.9256\n",
      "Epoch 36/50\n",
      "1963/1963 [==============================] - 0s 36us/step - loss: 0.2468 - acc: 0.9159\n",
      "Epoch 37/50\n",
      "1963/1963 [==============================] - 0s 35us/step - loss: 0.2405 - acc: 0.9185\n",
      "Epoch 38/50\n",
      "1963/1963 [==============================] - 0s 36us/step - loss: 0.2316 - acc: 0.9241\n",
      "Epoch 39/50\n",
      "1963/1963 [==============================] - 0s 37us/step - loss: 0.2371 - acc: 0.9200\n",
      "Epoch 40/50\n",
      "1963/1963 [==============================] - 0s 33us/step - loss: 0.2281 - acc: 0.9256\n",
      "Epoch 41/50\n",
      "1963/1963 [==============================] - 0s 36us/step - loss: 0.2300 - acc: 0.9246\n",
      "Epoch 42/50\n",
      "1963/1963 [==============================] - 0s 37us/step - loss: 0.2166 - acc: 0.9379\n",
      "Epoch 43/50\n",
      "1963/1963 [==============================] - 0s 36us/step - loss: 0.2251 - acc: 0.9282\n",
      "Epoch 44/50\n",
      "1963/1963 [==============================] - 0s 36us/step - loss: 0.2055 - acc: 0.9358\n",
      "Epoch 45/50\n",
      "1963/1963 [==============================] - 0s 37us/step - loss: 0.2085 - acc: 0.9373\n",
      "Epoch 46/50\n",
      "1963/1963 [==============================] - 0s 36us/step - loss: 0.1938 - acc: 0.9353\n",
      "Epoch 47/50\n",
      "1963/1963 [==============================] - 0s 37us/step - loss: 0.2048 - acc: 0.9353\n",
      "Epoch 48/50\n",
      "1963/1963 [==============================] - 0s 39us/step - loss: 0.2044 - acc: 0.9353\n",
      "Epoch 49/50\n",
      "1963/1963 [==============================] - 0s 34us/step - loss: 0.2062 - acc: 0.9348\n",
      "Epoch 50/50\n",
      "1963/1963 [==============================] - 0s 35us/step - loss: 0.1893 - acc: 0.9414\n",
      "490/490 [==============================] - 1s 1ms/step\n"
     ]
    }
   ],
   "source": [
    "kclf = KerasClassifier(build_fn = build_ann, batch_size = 128, epochs = 50)\n",
    "accuracies = cross_val_score(estimator = kclf, X = X_vect_name, y = y_nn, cv = 5, n_jobs = 1)"
   ]
  },
  {
   "cell_type": "code",
   "execution_count": 41,
   "metadata": {
    "ExecuteTime": {
     "end_time": "2018-04-11T13:21:47.769961Z",
     "start_time": "2018-04-11T13:21:47.763085Z"
    }
   },
   "outputs": [
    {
     "name": "stdout",
     "output_type": "stream",
     "text": [
      "Mean Accuracy: 0.8976665730848788\n",
      "Standard Deviation: 0.012339559335223823\n"
     ]
    }
   ],
   "source": [
    "print('Mean Accuracy:', accuracies.mean())\n",
    "print('Standard Deviation:', accuracies.std())"
   ]
  },
  {
   "cell_type": "code",
   "execution_count": 42,
   "metadata": {
    "ExecuteTime": {
     "end_time": "2018-04-11T13:21:51.440556Z",
     "start_time": "2018-04-11T13:21:51.431707Z"
    }
   },
   "outputs": [],
   "source": [
    "X_vect_name = dataset['Vector'].as_matrix().T\n",
    "X_vect_name = np.array([np.array(x) for x in X_vect])"
   ]
  },
  {
   "cell_type": "code",
   "execution_count": 43,
   "metadata": {
    "ExecuteTime": {
     "end_time": "2018-04-11T13:21:59.853022Z",
     "start_time": "2018-04-11T13:21:52.837102Z"
    },
    "scrolled": true
   },
   "outputs": [
    {
     "name": "stdout",
     "output_type": "stream",
     "text": [
      "Epoch 1/50\n",
      "2453/2453 [==============================] - 2s 759us/step - loss: 1.3868 - acc: 0.2951\n",
      "Epoch 2/50\n",
      "2453/2453 [==============================] - 0s 38us/step - loss: 1.3854 - acc: 0.3004\n",
      "Epoch 3/50\n",
      "2453/2453 [==============================] - 0s 40us/step - loss: 1.3816 - acc: 0.3033\n",
      "Epoch 4/50\n",
      "2453/2453 [==============================] - 0s 41us/step - loss: 1.3721 - acc: 0.3229\n",
      "Epoch 5/50\n",
      "2453/2453 [==============================] - 0s 40us/step - loss: 1.3556 - acc: 0.3424\n",
      "Epoch 6/50\n",
      "2453/2453 [==============================] - 0s 39us/step - loss: 1.3475 - acc: 0.3624\n",
      "Epoch 7/50\n",
      "2453/2453 [==============================] - 0s 40us/step - loss: 1.3283 - acc: 0.3702\n",
      "Epoch 8/50\n",
      "2453/2453 [==============================] - 0s 41us/step - loss: 1.2993 - acc: 0.3946\n",
      "Epoch 9/50\n",
      "2453/2453 [==============================] - 0s 40us/step - loss: 1.2595 - acc: 0.4350\n",
      "Epoch 10/50\n",
      "2453/2453 [==============================] - 0s 40us/step - loss: 1.1994 - acc: 0.4721\n",
      "Epoch 11/50\n",
      "2453/2453 [==============================] - 0s 45us/step - loss: 1.1424 - acc: 0.4974\n",
      "Epoch 12/50\n",
      "2453/2453 [==============================] - 0s 43us/step - loss: 1.0777 - acc: 0.5145\n",
      "Epoch 13/50\n",
      "2453/2453 [==============================] - 0s 39us/step - loss: 1.0243 - acc: 0.5218\n",
      "Epoch 14/50\n",
      "2453/2453 [==============================] - 0s 41us/step - loss: 0.9653 - acc: 0.5495\n",
      "Epoch 15/50\n",
      "2453/2453 [==============================] - 0s 40us/step - loss: 0.9282 - acc: 0.5850\n",
      "Epoch 16/50\n",
      "2453/2453 [==============================] - 0s 41us/step - loss: 0.9024 - acc: 0.5879\n",
      "Epoch 17/50\n",
      "2453/2453 [==============================] - 0s 38us/step - loss: 0.8899 - acc: 0.5874\n",
      "Epoch 18/50\n",
      "2453/2453 [==============================] - 0s 37us/step - loss: 0.8595 - acc: 0.6254\n",
      "Epoch 19/50\n",
      "2453/2453 [==============================] - 0s 36us/step - loss: 0.8498 - acc: 0.6066\n",
      "Epoch 20/50\n",
      "2453/2453 [==============================] - 0s 39us/step - loss: 0.8249 - acc: 0.6249\n",
      "Epoch 21/50\n",
      "2453/2453 [==============================] - 0s 38us/step - loss: 0.8121 - acc: 0.6298\n",
      "Epoch 22/50\n",
      "2453/2453 [==============================] - 0s 38us/step - loss: 0.8135 - acc: 0.6343\n",
      "Epoch 23/50\n",
      "2453/2453 [==============================] - 0s 37us/step - loss: 0.7859 - acc: 0.6592\n",
      "Epoch 24/50\n",
      "2453/2453 [==============================] - 0s 39us/step - loss: 0.7881 - acc: 0.6478\n",
      "Epoch 25/50\n",
      "2453/2453 [==============================] - 0s 40us/step - loss: 0.7707 - acc: 0.6572\n",
      "Epoch 26/50\n",
      "2453/2453 [==============================] - 0s 39us/step - loss: 0.7652 - acc: 0.6690\n",
      "Epoch 27/50\n",
      "2453/2453 [==============================] - 0s 40us/step - loss: 0.7590 - acc: 0.6657\n",
      "Epoch 28/50\n",
      "2453/2453 [==============================] - 0s 41us/step - loss: 0.7464 - acc: 0.6869\n",
      "Epoch 29/50\n",
      "2453/2453 [==============================] - 0s 38us/step - loss: 0.7368 - acc: 0.6747\n",
      "Epoch 30/50\n",
      "2453/2453 [==============================] - 0s 42us/step - loss: 0.7434 - acc: 0.6596\n",
      "Epoch 31/50\n",
      "2453/2453 [==============================] - 0s 39us/step - loss: 0.7171 - acc: 0.6918\n",
      "Epoch 32/50\n",
      "2453/2453 [==============================] - 0s 37us/step - loss: 0.7176 - acc: 0.6869\n",
      "Epoch 33/50\n",
      "2453/2453 [==============================] - 0s 41us/step - loss: 0.7054 - acc: 0.6967\n",
      "Epoch 34/50\n",
      "2453/2453 [==============================] - 0s 39us/step - loss: 0.6939 - acc: 0.6983\n",
      "Epoch 35/50\n",
      "2453/2453 [==============================] - 0s 39us/step - loss: 0.7085 - acc: 0.6918\n",
      "Epoch 36/50\n",
      "2453/2453 [==============================] - 0s 37us/step - loss: 0.6823 - acc: 0.7110\n",
      "Epoch 37/50\n",
      "2453/2453 [==============================] - 0s 35us/step - loss: 0.6822 - acc: 0.7008\n",
      "Epoch 38/50\n",
      "2453/2453 [==============================] - 0s 37us/step - loss: 0.6705 - acc: 0.7199\n",
      "Epoch 39/50\n",
      "2453/2453 [==============================] - 0s 38us/step - loss: 0.6731 - acc: 0.7142\n",
      "Epoch 40/50\n",
      "2453/2453 [==============================] - 0s 36us/step - loss: 0.6603 - acc: 0.7256\n",
      "Epoch 41/50\n",
      "2453/2453 [==============================] - 0s 40us/step - loss: 0.6549 - acc: 0.7195\n",
      "Epoch 42/50\n",
      "2453/2453 [==============================] - 0s 39us/step - loss: 0.6368 - acc: 0.7415\n",
      "Epoch 43/50\n",
      "2453/2453 [==============================] - 0s 36us/step - loss: 0.6409 - acc: 0.7419\n",
      "Epoch 44/50\n",
      "2453/2453 [==============================] - 0s 38us/step - loss: 0.6265 - acc: 0.7428\n",
      "Epoch 45/50\n",
      "2453/2453 [==============================] - 0s 38us/step - loss: 0.6412 - acc: 0.7395\n",
      "Epoch 46/50\n",
      "2453/2453 [==============================] - 0s 38us/step - loss: 0.6030 - acc: 0.7546\n",
      "Epoch 47/50\n",
      "2453/2453 [==============================] - 0s 40us/step - loss: 0.6057 - acc: 0.7583\n",
      "Epoch 48/50\n",
      "2453/2453 [==============================] - 0s 35us/step - loss: 0.6158 - acc: 0.7534\n",
      "Epoch 49/50\n",
      "2453/2453 [==============================] - 0s 37us/step - loss: 0.6147 - acc: 0.7538\n",
      "Epoch 50/50\n",
      "2453/2453 [==============================] - 0s 40us/step - loss: 0.5900 - acc: 0.7664\n"
     ]
    },
    {
     "data": {
      "text/plain": [
       "<keras.callbacks.History at 0x7fbda0fe07b8>"
      ]
     },
     "execution_count": 43,
     "metadata": {},
     "output_type": "execute_result"
    }
   ],
   "source": [
    "ann = build_ann()\n",
    "ann.fit(X_vect_name, y_nn, batch_size = 128, epochs = 50)"
   ]
  },
  {
   "cell_type": "code",
   "execution_count": 57,
   "metadata": {
    "ExecuteTime": {
     "end_time": "2018-04-11T13:35:07.076109Z",
     "start_time": "2018-04-11T13:34:59.611822Z"
    },
    "scrolled": false
   },
   "outputs": [
    {
     "name": "stdout",
     "output_type": "stream",
     "text": [
      "('Bobby McFerrin', \"Don't Worry, Be Happy\", 'happy') -> happy (was supposed to be happy)\n",
      "('Queen', \"Don't Stop me Now\", 'happy') -> sad (was supposed to be happy)\n",
      "('Pharrell Williams', 'Happy', 'happy') -> happy (was supposed to be happy)\n",
      "('The Monkees', \"I'm a believer\", 'happy') -> happy (was supposed to be happy)\n",
      "('R.E.M.', 'Everybody Hurts', 'sad') -> sad (was supposed to be sad)\n",
      "('Adele', 'Someone Like You', 'sad') -> sad (was supposed to be sad)\n",
      "('Pink Floyd', 'Wish you were here', 'sad') -> sad (was supposed to be sad)\n",
      "('Johnny Cash', 'Hurt', 'sad') -> sad (was supposed to be sad)\n",
      "('Nirvana', 'Smells like teen spirit', 'sad') -> sad (was supposed to be sad)\n",
      "('Rage Against the Machine', 'Killing in the name', 'angry') -> sad (was supposed to be angry)\n",
      "('Kanye West', 'Stronger', 'angry') -> sad (was supposed to be angry)\n",
      "('Smash Mouth', 'All Star', 'angry') -> sad (was supposed to be angry)\n",
      "('Bloodhound Gang', 'The Ballad of Chasey Lain', 'angry') -> sad (was supposed to be angry)\n",
      "('Blur', 'Song 2', 'relaxed') -> sad (was supposed to be relaxed)\n",
      "We got 8 predictions our of 14 songs\n",
      "Accuracy: 0.57\n"
     ]
    }
   ],
   "source": [
    "extra_test_ann(ann)"
   ]
  },
  {
   "cell_type": "markdown",
   "metadata": {},
   "source": [
    "# Song Content + Song Title\n",
    "Here we propose an approach which is a sort of combination of the previous two. We will build classifiers which will receive as input 5 dimensional points. Those dimensions will be the 4 principal components of the song lyric + the vector norm of the song's title.\n",
    "\n",
    "We already understood that the best classifiers for our purpose are the SVM and the ANN so we will just use them.\n",
    "\n",
    "First of all we will do our feature engineering, and then we will proceed to the classification."
   ]
  },
  {
   "cell_type": "code",
   "execution_count": 13,
   "metadata": {
    "ExecuteTime": {
     "end_time": "2018-04-17T10:46:19.075885Z",
     "start_time": "2018-04-17T10:45:39.050995Z"
    }
   },
   "outputs": [],
   "source": [
    "# Prepare array for sklearn classifiers\n",
    "X_vect_pca = dataset['Vector'].as_matrix()\n",
    "X_vect_pca = np.array([np.array(x) for x in X_vect_pca])\n",
    "\n",
    "#X_vect_title\n",
    "pca = PCA(n_components=4)\n",
    "pca.fit(X_vect_pca)\n",
    "X_vect_comb = pca.transform(X_vect_pca)\n",
    "\n",
    "X_vect_nl = list()\n",
    "\n",
    "for (i, (index,row)) in enumerate(dataset.iterrows()):\n",
    "    song_title = row['Lyric_Path'].split('_')[-1]\n",
    "    title_doc = nlp(song_title)\n",
    "    title_comp = title_doc.vector_norm\n",
    "    \n",
    "    X_vect_nl.append(np.concatenate((X_vect_comb[i], [title_comp])))\n",
    "X_vect_nl = np.array(X_vect_nl)"
   ]
  },
  {
   "cell_type": "markdown",
   "metadata": {},
   "source": [
    "## SVM\n",
    "We will repeat the same operations with did eariler. If you want more detailed explainations, please refer to the \"Classifiers on Lyrics Content\" section."
   ]
  },
  {
   "cell_type": "code",
   "execution_count": 86,
   "metadata": {
    "ExecuteTime": {
     "end_time": "2018-04-16T09:41:36.554935Z",
     "start_time": "2018-04-16T09:41:31.849343Z"
    }
   },
   "outputs": [
    {
     "name": "stdout",
     "output_type": "stream",
     "text": [
      "Accuracy: 0.62 (+/- 0.04)\n"
     ]
    }
   ],
   "source": [
    "from sklearn.svm import SVC\n",
    "\n",
    "# Build model\n",
    "clf = SVC()\n",
    "# Evaluate accuracy\n",
    "scores = cross_val_score(clf, X_vect_nl, y, cv=10)\n",
    "print('Accuracy: %0.2f (+/- %0.2f)' % (scores.mean(), scores.std() * 1.96))"
   ]
  },
  {
   "cell_type": "code",
   "execution_count": 87,
   "metadata": {
    "ExecuteTime": {
     "end_time": "2018-04-16T09:48:32.689482Z",
     "start_time": "2018-04-16T09:41:53.212272Z"
    }
   },
   "outputs": [
    {
     "name": "stdout",
     "output_type": "stream",
     "text": [
      "Fitting 10 folds for each of 29 candidates, totalling 290 fits\n"
     ]
    },
    {
     "name": "stderr",
     "output_type": "stream",
     "text": [
      "[Parallel(n_jobs=-1)]: Done  42 tasks      | elapsed:   42.4s\n",
      "[Parallel(n_jobs=-1)]: Done 192 tasks      | elapsed:  5.3min\n",
      "[Parallel(n_jobs=-1)]: Done 290 out of 290 | elapsed:  6.6min finished\n"
     ]
    },
    {
     "name": "stdout",
     "output_type": "stream",
     "text": [
      "Parameters: {'kernel': 'linear', 'C': 10}\n"
     ]
    }
   ],
   "source": [
    "# Define the set of parameters we want to test on\n",
    "params = [\n",
    "    { 'kernel': ['linear'], 'C': [ 0.01, 0.05, 1, 10, 100 ]},\n",
    "    { 'kernel': ['rbf', 'sigmoid'], 'C': [ 0.01, 0.05, 0.1, 0.3, 0.8, 1, 3, 10, 50, 100, 150, 200 ] }\n",
    "]\n",
    "\n",
    "# Perform grid search\n",
    "svm_best, best_params = parameters_grid_search(SVC, params, X_vect, y, verbose=1)\n",
    "print('Parameters:', best_params)"
   ]
  },
  {
   "cell_type": "code",
   "execution_count": 88,
   "metadata": {
    "ExecuteTime": {
     "end_time": "2018-04-16T09:48:38.543238Z",
     "start_time": "2018-04-16T09:48:32.693937Z"
    }
   },
   "outputs": [
    {
     "name": "stdout",
     "output_type": "stream",
     "text": [
      "Accuracy: 0.91 (+/- 0.03)\n"
     ]
    }
   ],
   "source": [
    "scores = cross_val_score(svm_best, X_vect, y, cv=10)\n",
    "print('Accuracy: %0.2f (+/- %0.2f)' % (scores.mean(), scores.std() * 1.96))"
   ]
  },
  {
   "cell_type": "code",
   "execution_count": 91,
   "metadata": {
    "ExecuteTime": {
     "end_time": "2018-04-16T09:49:06.896711Z",
     "start_time": "2018-04-16T09:48:55.571082Z"
    }
   },
   "outputs": [
    {
     "name": "stdout",
     "output_type": "stream",
     "text": [
      "('Bobby McFerrin', \"Don't Worry, Be Happy\", 'happy') -> angry (was supposed to be happy)\n",
      "('Queen', \"Don't Stop me Now\", 'happy') -> sad (was supposed to be happy)\n",
      "('Pharrell Williams', 'Happy', 'happy') -> happy (was supposed to be happy)\n",
      "('The Monkees', \"I'm a believer\", 'happy') -> angry (was supposed to be happy)\n",
      "('R.E.M.', 'Everybody Hurts', 'sad') -> angry (was supposed to be sad)\n",
      "('Adele', 'Someone Like You', 'sad') -> angry (was supposed to be sad)\n",
      "('Pink Floyd', 'Wish you were here', 'sad') -> sad (was supposed to be sad)\n",
      "('Johnny Cash', 'Hurt', 'sad') -> angry (was supposed to be sad)\n",
      "('Nirvana', 'Smells like teen spirit', 'sad') -> sad (was supposed to be sad)\n",
      "('Rage Against the Machine', 'Killing in the name', 'angry') -> sad (was supposed to be angry)\n",
      "('Kanye West', 'Stronger', 'angry') -> sad (was supposed to be angry)\n",
      "('Smash Mouth', 'All Star', 'angry') -> sad (was supposed to be angry)\n",
      "('Bloodhound Gang', 'The Ballad of Chasey Lain', 'angry') -> happy (was supposed to be angry)\n",
      "('Blur', 'Song 2', 'relaxed') -> sad (was supposed to be relaxed)\n",
      "We got 3 predictions our of 14 songs\n",
      "Accuracy: 0.21\n"
     ]
    }
   ],
   "source": [
    "extra_test(svm_best)"
   ]
  },
  {
   "cell_type": "markdown",
   "metadata": {},
   "source": [
    "## Artificial Neural Network\n",
    "Again, if you want more detailed information on what we will be doing in this section, please refer to what we wrote above."
   ]
  },
  {
   "cell_type": "code",
   "execution_count": 14,
   "metadata": {
    "ExecuteTime": {
     "end_time": "2018-04-17T10:46:23.376529Z",
     "start_time": "2018-04-17T10:46:23.368981Z"
    }
   },
   "outputs": [],
   "source": [
    "from sklearn.preprocessing import MinMaxScaler\n",
    "sc = MinMaxScaler()\n",
    "# we need to scale because we don't want one feature to predomine the others\n",
    "# Standardize features by removing the mean and scaling to unit variance\n",
    "X_vect_nl_ann = sc.fit_transform(X_vect_nl)"
   ]
  },
  {
   "cell_type": "code",
   "execution_count": 22,
   "metadata": {
    "ExecuteTime": {
     "end_time": "2018-04-17T10:46:57.420427Z",
     "start_time": "2018-04-17T10:46:57.410467Z"
    },
    "scrolled": true
   },
   "outputs": [],
   "source": [
    "from keras.utils import np_utils\n",
    "from keras.models import Sequential\n",
    "from keras.layers import Dense, Dropout\n",
    "\n",
    "encoder = LabelEncoder()\n",
    "encoder.fit(y)\n",
    "encoded_Y = encoder.transform(y)\n",
    "y_nn = np_utils.to_categorical(encoded_Y)"
   ]
  },
  {
   "cell_type": "code",
   "execution_count": 23,
   "metadata": {
    "ExecuteTime": {
     "end_time": "2018-04-17T10:46:57.612070Z",
     "start_time": "2018-04-17T10:46:57.559586Z"
    }
   },
   "outputs": [],
   "source": [
    "def build_ann(optimizer='adam', input_size=300):\n",
    "    classifier = Sequential()\n",
    "    #2 Adding first hidden layer\n",
    "    classifier.add(Dense(units = 50, kernel_initializer = 'random_normal', activation = 'sigmoid', input_dim = input_size))\n",
    "    classifier.add(Dropout(0.5))\n",
    "\n",
    "    # Adding hidden layers\n",
    "    classifier.add(Dense(units = 35, kernel_initializer = 'random_normal', activation = 'sigmoid'))\n",
    "    classifier.add(Dropout(0.5))\n",
    "\n",
    "    classifier.add(Dense(units = 15, kernel_initializer = 'random_normal', activation = 'sigmoid'))\n",
    "    classifier.add(Dropout(0.5))\n",
    "    \n",
    "    classifier.add(Dense(units = 10, kernel_initializer = 'random_normal', activation = 'sigmoid'))\n",
    "    classifier.add(Dropout(0.5))\n",
    "    \n",
    "    # Adding output layer\n",
    "    classifier.add(Dense(units = 4, kernel_initializer = 'random_normal', activation = 'softmax'))\n",
    "\n",
    "    #3 Compiling the ANN\n",
    "    classifier.compile(optimizer=optimizer, loss = 'categorical_crossentropy', metrics = ['accuracy'])\n",
    "\n",
    "    return classifier"
   ]
  },
  {
   "cell_type": "code",
   "execution_count": 26,
   "metadata": {
    "ExecuteTime": {
     "end_time": "2018-04-17T10:48:07.212092Z",
     "start_time": "2018-04-17T10:47:38.062883Z"
    },
    "scrolled": true
   },
   "outputs": [
    {
     "name": "stdout",
     "output_type": "stream",
     "text": [
      "Epoch 1/100\n",
      "1962/1962 [==============================] - 1s 399us/step - loss: 1.3888 - acc: 0.2472\n",
      "Epoch 2/100\n",
      "1962/1962 [==============================] - 0s 34us/step - loss: 1.3840 - acc: 0.2829\n",
      "Epoch 3/100\n",
      "1962/1962 [==============================] - 0s 25us/step - loss: 1.3813 - acc: 0.2951\n",
      "Epoch 4/100\n",
      "1962/1962 [==============================] - 0s 20us/step - loss: 1.3803 - acc: 0.3129\n",
      "Epoch 5/100\n",
      "1962/1962 [==============================] - 0s 22us/step - loss: 1.3775 - acc: 0.3119\n",
      "Epoch 6/100\n",
      "1962/1962 [==============================] - 0s 24us/step - loss: 1.3759 - acc: 0.3191\n",
      "Epoch 7/100\n",
      "1962/1962 [==============================] - 0s 22us/step - loss: 1.3740 - acc: 0.3175\n",
      "Epoch 8/100\n",
      "1962/1962 [==============================] - 0s 25us/step - loss: 1.3774 - acc: 0.3150\n",
      "Epoch 9/100\n",
      "1962/1962 [==============================] - 0s 23us/step - loss: 1.3746 - acc: 0.3180\n",
      "Epoch 10/100\n",
      "1962/1962 [==============================] - 0s 37us/step - loss: 1.3774 - acc: 0.3180\n",
      "Epoch 11/100\n",
      "1962/1962 [==============================] - 0s 24us/step - loss: 1.3735 - acc: 0.3180\n",
      "Epoch 12/100\n",
      "1962/1962 [==============================] - 0s 32us/step - loss: 1.3764 - acc: 0.3191\n",
      "Epoch 13/100\n",
      "1962/1962 [==============================] - 0s 26us/step - loss: 1.3758 - acc: 0.3175\n",
      "Epoch 14/100\n",
      "1962/1962 [==============================] - 0s 22us/step - loss: 1.3774 - acc: 0.3170\n",
      "Epoch 15/100\n",
      "1962/1962 [==============================] - 0s 18us/step - loss: 1.3748 - acc: 0.3180\n",
      "Epoch 16/100\n",
      "1962/1962 [==============================] - 0s 25us/step - loss: 1.3744 - acc: 0.3180\n",
      "Epoch 17/100\n",
      "1962/1962 [==============================] - 0s 19us/step - loss: 1.3763 - acc: 0.3186\n",
      "Epoch 18/100\n",
      "1962/1962 [==============================] - 0s 25us/step - loss: 1.3744 - acc: 0.3180\n",
      "Epoch 19/100\n",
      "1962/1962 [==============================] - 0s 18us/step - loss: 1.3737 - acc: 0.3180\n",
      "Epoch 20/100\n",
      "1962/1962 [==============================] - 0s 18us/step - loss: 1.3739 - acc: 0.3180\n",
      "Epoch 21/100\n",
      "1962/1962 [==============================] - 0s 23us/step - loss: 1.3762 - acc: 0.3180\n",
      "Epoch 22/100\n",
      "1962/1962 [==============================] - 0s 18us/step - loss: 1.3780 - acc: 0.3180\n",
      "Epoch 23/100\n",
      "1962/1962 [==============================] - 0s 19us/step - loss: 1.3766 - acc: 0.3180\n",
      "Epoch 24/100\n",
      "1962/1962 [==============================] - 0s 21us/step - loss: 1.3769 - acc: 0.3180\n",
      "Epoch 25/100\n",
      "1962/1962 [==============================] - 0s 19us/step - loss: 1.3750 - acc: 0.3180\n",
      "Epoch 26/100\n",
      "1962/1962 [==============================] - 0s 22us/step - loss: 1.3746 - acc: 0.3180\n",
      "Epoch 27/100\n",
      "1962/1962 [==============================] - 0s 24us/step - loss: 1.3764 - acc: 0.3180\n",
      "Epoch 28/100\n",
      "1962/1962 [==============================] - 0s 27us/step - loss: 1.3761 - acc: 0.3180\n",
      "Epoch 29/100\n",
      "1962/1962 [==============================] - 0s 30us/step - loss: 1.3757 - acc: 0.3180\n",
      "Epoch 30/100\n",
      "1962/1962 [==============================] - 0s 31us/step - loss: 1.3772 - acc: 0.3180\n",
      "Epoch 31/100\n",
      "1962/1962 [==============================] - 0s 28us/step - loss: 1.3757 - acc: 0.3180\n",
      "Epoch 32/100\n",
      "1962/1962 [==============================] - 0s 23us/step - loss: 1.3732 - acc: 0.3180\n",
      "Epoch 33/100\n",
      "1962/1962 [==============================] - 0s 23us/step - loss: 1.3736 - acc: 0.3180\n",
      "Epoch 34/100\n",
      "1962/1962 [==============================] - 0s 24us/step - loss: 1.3758 - acc: 0.3180\n",
      "Epoch 35/100\n",
      "1962/1962 [==============================] - 0s 21us/step - loss: 1.3739 - acc: 0.3180\n",
      "Epoch 36/100\n",
      "1962/1962 [==============================] - 0s 22us/step - loss: 1.3738 - acc: 0.3180\n",
      "Epoch 37/100\n",
      "1962/1962 [==============================] - 0s 20us/step - loss: 1.3752 - acc: 0.3180\n",
      "Epoch 38/100\n",
      "1962/1962 [==============================] - 0s 23us/step - loss: 1.3750 - acc: 0.3180\n",
      "Epoch 39/100\n",
      "1962/1962 [==============================] - 0s 27us/step - loss: 1.3730 - acc: 0.3180\n",
      "Epoch 40/100\n",
      "1962/1962 [==============================] - 0s 23us/step - loss: 1.3749 - acc: 0.3180\n",
      "Epoch 41/100\n",
      "1962/1962 [==============================] - 0s 23us/step - loss: 1.3745 - acc: 0.3180\n",
      "Epoch 42/100\n",
      "1962/1962 [==============================] - 0s 24us/step - loss: 1.3745 - acc: 0.3180\n",
      "Epoch 43/100\n",
      "1962/1962 [==============================] - 0s 21us/step - loss: 1.3729 - acc: 0.3180\n",
      "Epoch 44/100\n",
      "1962/1962 [==============================] - 0s 20us/step - loss: 1.3751 - acc: 0.3180\n",
      "Epoch 45/100\n",
      "1962/1962 [==============================] - 0s 26us/step - loss: 1.3743 - acc: 0.3180\n",
      "Epoch 46/100\n",
      "1962/1962 [==============================] - 0s 26us/step - loss: 1.3737 - acc: 0.3180\n",
      "Epoch 47/100\n",
      "1962/1962 [==============================] - 0s 23us/step - loss: 1.3749 - acc: 0.3180\n",
      "Epoch 48/100\n",
      "1962/1962 [==============================] - 0s 18us/step - loss: 1.3735 - acc: 0.3180\n",
      "Epoch 49/100\n",
      "1962/1962 [==============================] - 0s 22us/step - loss: 1.3740 - acc: 0.3180\n",
      "Epoch 50/100\n",
      "1962/1962 [==============================] - 0s 24us/step - loss: 1.3746 - acc: 0.3180\n",
      "Epoch 51/100\n",
      "1962/1962 [==============================] - 0s 25us/step - loss: 1.3747 - acc: 0.3180\n",
      "Epoch 52/100\n",
      "1962/1962 [==============================] - 0s 31us/step - loss: 1.3719 - acc: 0.3180\n",
      "Epoch 53/100\n",
      "1962/1962 [==============================] - 0s 22us/step - loss: 1.3745 - acc: 0.3180\n",
      "Epoch 54/100\n",
      "1962/1962 [==============================] - 0s 23us/step - loss: 1.3733 - acc: 0.3180\n",
      "Epoch 55/100\n",
      "1962/1962 [==============================] - 0s 31us/step - loss: 1.3751 - acc: 0.3180\n",
      "Epoch 56/100\n",
      "1962/1962 [==============================] - 0s 26us/step - loss: 1.3743 - acc: 0.3180\n",
      "Epoch 57/100\n",
      "1962/1962 [==============================] - 0s 25us/step - loss: 1.3742 - acc: 0.3180\n",
      "Epoch 58/100\n",
      "1962/1962 [==============================] - 0s 35us/step - loss: 1.3740 - acc: 0.3180\n",
      "Epoch 59/100\n",
      "1962/1962 [==============================] - 0s 30us/step - loss: 1.3741 - acc: 0.3180\n",
      "Epoch 60/100\n",
      "1962/1962 [==============================] - 0s 23us/step - loss: 1.3743 - acc: 0.3180\n",
      "Epoch 61/100\n",
      "1962/1962 [==============================] - 0s 24us/step - loss: 1.3739 - acc: 0.3180\n",
      "Epoch 62/100\n",
      "1962/1962 [==============================] - 0s 34us/step - loss: 1.3745 - acc: 0.3180\n",
      "Epoch 63/100\n",
      "1962/1962 [==============================] - 0s 21us/step - loss: 1.3744 - acc: 0.3180\n",
      "Epoch 64/100\n",
      "1962/1962 [==============================] - 0s 18us/step - loss: 1.3739 - acc: 0.3180\n",
      "Epoch 65/100\n",
      "1962/1962 [==============================] - 0s 17us/step - loss: 1.3731 - acc: 0.3180\n",
      "Epoch 66/100\n",
      "1962/1962 [==============================] - 0s 19us/step - loss: 1.3743 - acc: 0.3180\n",
      "Epoch 67/100\n",
      "1962/1962 [==============================] - 0s 19us/step - loss: 1.3740 - acc: 0.3180\n",
      "Epoch 68/100\n",
      "1962/1962 [==============================] - 0s 21us/step - loss: 1.3737 - acc: 0.3180\n",
      "Epoch 69/100\n",
      "1962/1962 [==============================] - 0s 19us/step - loss: 1.3732 - acc: 0.3180\n",
      "Epoch 70/100\n",
      "1962/1962 [==============================] - 0s 22us/step - loss: 1.3737 - acc: 0.3180\n",
      "Epoch 71/100\n",
      "1962/1962 [==============================] - 0s 26us/step - loss: 1.3732 - acc: 0.3180\n",
      "Epoch 72/100\n",
      "1962/1962 [==============================] - 0s 22us/step - loss: 1.3756 - acc: 0.3180\n",
      "Epoch 73/100\n",
      "1962/1962 [==============================] - 0s 20us/step - loss: 1.3750 - acc: 0.3180\n",
      "Epoch 74/100\n",
      "1962/1962 [==============================] - 0s 19us/step - loss: 1.3752 - acc: 0.3180\n",
      "Epoch 75/100\n",
      "1962/1962 [==============================] - 0s 21us/step - loss: 1.3737 - acc: 0.3180\n",
      "Epoch 76/100\n",
      "1962/1962 [==============================] - 0s 18us/step - loss: 1.3731 - acc: 0.3180\n",
      "Epoch 77/100\n",
      "1962/1962 [==============================] - 0s 19us/step - loss: 1.3738 - acc: 0.3180\n",
      "Epoch 78/100\n",
      "1962/1962 [==============================] - 0s 18us/step - loss: 1.3735 - acc: 0.3180\n",
      "Epoch 79/100\n",
      "1962/1962 [==============================] - 0s 18us/step - loss: 1.3744 - acc: 0.3180\n",
      "Epoch 80/100\n",
      "1962/1962 [==============================] - 0s 17us/step - loss: 1.3732 - acc: 0.3180\n",
      "Epoch 81/100\n",
      "1962/1962 [==============================] - 0s 18us/step - loss: 1.3743 - acc: 0.3180\n",
      "Epoch 82/100\n",
      "1962/1962 [==============================] - 0s 20us/step - loss: 1.3733 - acc: 0.3180\n",
      "Epoch 83/100\n"
     ]
    },
    {
     "name": "stdout",
     "output_type": "stream",
     "text": [
      "1962/1962 [==============================] - 0s 20us/step - loss: 1.3726 - acc: 0.3180\n",
      "Epoch 84/100\n",
      "1962/1962 [==============================] - 0s 18us/step - loss: 1.3736 - acc: 0.3180\n",
      "Epoch 85/100\n",
      "1962/1962 [==============================] - 0s 20us/step - loss: 1.3745 - acc: 0.3180\n",
      "Epoch 86/100\n",
      "1962/1962 [==============================] - 0s 19us/step - loss: 1.3739 - acc: 0.3180\n",
      "Epoch 87/100\n",
      "1962/1962 [==============================] - 0s 19us/step - loss: 1.3752 - acc: 0.3180\n",
      "Epoch 88/100\n",
      "1962/1962 [==============================] - 0s 19us/step - loss: 1.3733 - acc: 0.3180\n",
      "Epoch 89/100\n",
      "1962/1962 [==============================] - 0s 20us/step - loss: 1.3744 - acc: 0.3180\n",
      "Epoch 90/100\n",
      "1962/1962 [==============================] - 0s 22us/step - loss: 1.3742 - acc: 0.3180\n",
      "Epoch 91/100\n",
      "1962/1962 [==============================] - 0s 23us/step - loss: 1.3749 - acc: 0.3180\n",
      "Epoch 92/100\n",
      "1962/1962 [==============================] - 0s 20us/step - loss: 1.3747 - acc: 0.3180\n",
      "Epoch 93/100\n",
      "1962/1962 [==============================] - 0s 19us/step - loss: 1.3745 - acc: 0.3180\n",
      "Epoch 94/100\n",
      "1962/1962 [==============================] - 0s 23us/step - loss: 1.3733 - acc: 0.3180\n",
      "Epoch 95/100\n",
      "1962/1962 [==============================] - 0s 16us/step - loss: 1.3735 - acc: 0.3180\n",
      "Epoch 96/100\n",
      "1962/1962 [==============================] - 0s 19us/step - loss: 1.3743 - acc: 0.3180\n",
      "Epoch 97/100\n",
      "1962/1962 [==============================] - 0s 21us/step - loss: 1.3744 - acc: 0.3180\n",
      "Epoch 98/100\n",
      "1962/1962 [==============================] - 0s 20us/step - loss: 1.3743 - acc: 0.3180\n",
      "Epoch 99/100\n",
      "1962/1962 [==============================] - 0s 20us/step - loss: 1.3743 - acc: 0.3180\n",
      "Epoch 100/100\n",
      "1962/1962 [==============================] - 0s 20us/step - loss: 1.3745 - acc: 0.3180\n",
      "491/491 [==============================] - 0s 479us/step\n",
      "Epoch 1/100\n",
      "1962/1962 [==============================] - 1s 356us/step - loss: 1.3918 - acc: 0.2421\n",
      "Epoch 2/100\n",
      "1962/1962 [==============================] - 0s 22us/step - loss: 1.3837 - acc: 0.2645\n",
      "Epoch 3/100\n",
      "1962/1962 [==============================] - 0s 18us/step - loss: 1.3855 - acc: 0.2655\n",
      "Epoch 4/100\n",
      "1962/1962 [==============================] - 0s 18us/step - loss: 1.3810 - acc: 0.3007\n",
      "Epoch 5/100\n",
      "1962/1962 [==============================] - 0s 19us/step - loss: 1.3783 - acc: 0.3053\n",
      "Epoch 6/100\n",
      "1962/1962 [==============================] - 0s 17us/step - loss: 1.3785 - acc: 0.3084\n",
      "Epoch 7/100\n",
      "1962/1962 [==============================] - 0s 18us/step - loss: 1.3761 - acc: 0.3104\n",
      "Epoch 8/100\n",
      "1962/1962 [==============================] - 0s 16us/step - loss: 1.3758 - acc: 0.3084\n",
      "Epoch 9/100\n",
      "1962/1962 [==============================] - 0s 17us/step - loss: 1.3776 - acc: 0.3089\n",
      "Epoch 10/100\n",
      "1962/1962 [==============================] - 0s 18us/step - loss: 1.3798 - acc: 0.3099\n",
      "Epoch 11/100\n",
      "1962/1962 [==============================] - 0s 20us/step - loss: 1.3802 - acc: 0.3094\n",
      "Epoch 12/100\n",
      "1962/1962 [==============================] - 0s 21us/step - loss: 1.3788 - acc: 0.3094\n",
      "Epoch 13/100\n",
      "1962/1962 [==============================] - 0s 21us/step - loss: 1.3793 - acc: 0.3094\n",
      "Epoch 14/100\n",
      "1962/1962 [==============================] - 0s 16us/step - loss: 1.3801 - acc: 0.3094\n",
      "Epoch 15/100\n",
      "1962/1962 [==============================] - 0s 18us/step - loss: 1.3773 - acc: 0.3094\n",
      "Epoch 16/100\n",
      "1962/1962 [==============================] - 0s 18us/step - loss: 1.3802 - acc: 0.3094\n",
      "Epoch 17/100\n",
      "1962/1962 [==============================] - 0s 20us/step - loss: 1.3813 - acc: 0.3094\n",
      "Epoch 18/100\n",
      "1962/1962 [==============================] - 0s 17us/step - loss: 1.3792 - acc: 0.3094\n",
      "Epoch 19/100\n",
      "1962/1962 [==============================] - 0s 17us/step - loss: 1.3791 - acc: 0.3094\n",
      "Epoch 20/100\n",
      "1962/1962 [==============================] - 0s 17us/step - loss: 1.3776 - acc: 0.3094\n",
      "Epoch 21/100\n",
      "1962/1962 [==============================] - 0s 18us/step - loss: 1.3772 - acc: 0.3094\n",
      "Epoch 22/100\n",
      "1962/1962 [==============================] - 0s 19us/step - loss: 1.3790 - acc: 0.3094\n",
      "Epoch 23/100\n",
      "1962/1962 [==============================] - 0s 19us/step - loss: 1.3777 - acc: 0.3094\n",
      "Epoch 24/100\n",
      "1962/1962 [==============================] - 0s 17us/step - loss: 1.3778 - acc: 0.3094\n",
      "Epoch 25/100\n",
      "1962/1962 [==============================] - 0s 18us/step - loss: 1.3780 - acc: 0.3094\n",
      "Epoch 26/100\n",
      "1962/1962 [==============================] - 0s 17us/step - loss: 1.3767 - acc: 0.3094\n",
      "Epoch 27/100\n",
      "1962/1962 [==============================] - 0s 19us/step - loss: 1.3780 - acc: 0.3094\n",
      "Epoch 28/100\n",
      "1962/1962 [==============================] - 0s 17us/step - loss: 1.3788 - acc: 0.3094\n",
      "Epoch 29/100\n",
      "1962/1962 [==============================] - 0s 17us/step - loss: 1.3788 - acc: 0.3094\n",
      "Epoch 30/100\n",
      "1962/1962 [==============================] - 0s 16us/step - loss: 1.3780 - acc: 0.3094\n",
      "Epoch 31/100\n",
      "1962/1962 [==============================] - 0s 18us/step - loss: 1.3778 - acc: 0.3094\n",
      "Epoch 32/100\n",
      "1962/1962 [==============================] - 0s 16us/step - loss: 1.3786 - acc: 0.3094\n",
      "Epoch 33/100\n",
      "1962/1962 [==============================] - 0s 19us/step - loss: 1.3796 - acc: 0.3094\n",
      "Epoch 34/100\n",
      "1962/1962 [==============================] - 0s 19us/step - loss: 1.3780 - acc: 0.3094\n",
      "Epoch 35/100\n",
      "1962/1962 [==============================] - 0s 17us/step - loss: 1.3778 - acc: 0.3094\n",
      "Epoch 36/100\n",
      "1962/1962 [==============================] - 0s 19us/step - loss: 1.3782 - acc: 0.3094\n",
      "Epoch 37/100\n",
      "1962/1962 [==============================] - 0s 18us/step - loss: 1.3778 - acc: 0.3094\n",
      "Epoch 38/100\n",
      "1962/1962 [==============================] - 0s 20us/step - loss: 1.3774 - acc: 0.3094\n",
      "Epoch 39/100\n",
      "1962/1962 [==============================] - 0s 18us/step - loss: 1.3778 - acc: 0.3094\n",
      "Epoch 40/100\n",
      "1962/1962 [==============================] - 0s 18us/step - loss: 1.3782 - acc: 0.3094\n",
      "Epoch 41/100\n",
      "1962/1962 [==============================] - 0s 16us/step - loss: 1.3786 - acc: 0.3094\n",
      "Epoch 42/100\n",
      "1962/1962 [==============================] - 0s 17us/step - loss: 1.3753 - acc: 0.3094\n",
      "Epoch 43/100\n",
      "1962/1962 [==============================] - 0s 18us/step - loss: 1.3792 - acc: 0.3094\n",
      "Epoch 44/100\n",
      "1962/1962 [==============================] - 0s 15us/step - loss: 1.3784 - acc: 0.3094\n",
      "Epoch 45/100\n",
      "1962/1962 [==============================] - 0s 15us/step - loss: 1.3778 - acc: 0.3094\n",
      "Epoch 46/100\n",
      "1962/1962 [==============================] - 0s 18us/step - loss: 1.3773 - acc: 0.3094\n",
      "Epoch 47/100\n",
      "1962/1962 [==============================] - 0s 17us/step - loss: 1.3786 - acc: 0.3094\n",
      "Epoch 48/100\n",
      "1962/1962 [==============================] - 0s 17us/step - loss: 1.3779 - acc: 0.3094\n",
      "Epoch 49/100\n",
      "1962/1962 [==============================] - 0s 17us/step - loss: 1.3776 - acc: 0.3094\n",
      "Epoch 50/100\n",
      "1962/1962 [==============================] - 0s 18us/step - loss: 1.3781 - acc: 0.3094\n",
      "Epoch 51/100\n",
      "1962/1962 [==============================] - 0s 18us/step - loss: 1.3766 - acc: 0.3094\n",
      "Epoch 52/100\n",
      "1962/1962 [==============================] - 0s 16us/step - loss: 1.3782 - acc: 0.3094\n",
      "Epoch 53/100\n",
      "1962/1962 [==============================] - 0s 15us/step - loss: 1.3775 - acc: 0.3094\n",
      "Epoch 54/100\n",
      "1962/1962 [==============================] - 0s 19us/step - loss: 1.3768 - acc: 0.3094\n",
      "Epoch 55/100\n",
      "1962/1962 [==============================] - 0s 19us/step - loss: 1.3761 - acc: 0.3094\n",
      "Epoch 56/100\n",
      "1962/1962 [==============================] - 0s 22us/step - loss: 1.3764 - acc: 0.3094\n",
      "Epoch 57/100\n",
      "1962/1962 [==============================] - 0s 23us/step - loss: 1.3785 - acc: 0.3094\n",
      "Epoch 58/100\n",
      "1962/1962 [==============================] - 0s 18us/step - loss: 1.3771 - acc: 0.3094\n",
      "Epoch 59/100\n",
      "1962/1962 [==============================] - 0s 17us/step - loss: 1.3762 - acc: 0.3094\n",
      "Epoch 60/100\n",
      "1962/1962 [==============================] - 0s 16us/step - loss: 1.3772 - acc: 0.3094\n",
      "Epoch 61/100\n",
      "1962/1962 [==============================] - 0s 18us/step - loss: 1.3774 - acc: 0.3094\n",
      "Epoch 62/100\n",
      "1962/1962 [==============================] - 0s 16us/step - loss: 1.3775 - acc: 0.3094\n",
      "Epoch 63/100\n",
      "1962/1962 [==============================] - 0s 15us/step - loss: 1.3773 - acc: 0.3094\n",
      "Epoch 64/100\n",
      "1962/1962 [==============================] - 0s 21us/step - loss: 1.3778 - acc: 0.3094\n",
      "Epoch 65/100\n",
      "1962/1962 [==============================] - 0s 17us/step - loss: 1.3776 - acc: 0.3094\n",
      "Epoch 66/100\n",
      "1962/1962 [==============================] - 0s 17us/step - loss: 1.3786 - acc: 0.3094\n",
      "Epoch 67/100\n",
      "1962/1962 [==============================] - 0s 21us/step - loss: 1.3775 - acc: 0.3094\n",
      "Epoch 68/100\n",
      "1962/1962 [==============================] - 0s 21us/step - loss: 1.3778 - acc: 0.3094\n",
      "Epoch 69/100\n",
      "1962/1962 [==============================] - 0s 18us/step - loss: 1.3763 - acc: 0.3094\n",
      "Epoch 70/100\n",
      "1962/1962 [==============================] - 0s 22us/step - loss: 1.3781 - acc: 0.3094\n",
      "Epoch 71/100\n",
      "1962/1962 [==============================] - 0s 21us/step - loss: 1.3780 - acc: 0.3094\n",
      "Epoch 72/100\n",
      "1962/1962 [==============================] - 0s 21us/step - loss: 1.3770 - acc: 0.3094\n",
      "Epoch 73/100\n",
      "1962/1962 [==============================] - 0s 20us/step - loss: 1.3775 - acc: 0.3094\n",
      "Epoch 74/100\n",
      "1962/1962 [==============================] - 0s 19us/step - loss: 1.3782 - acc: 0.3094\n",
      "Epoch 75/100\n",
      "1962/1962 [==============================] - 0s 20us/step - loss: 1.3774 - acc: 0.3094\n",
      "Epoch 76/100\n",
      "1962/1962 [==============================] - 0s 21us/step - loss: 1.3777 - acc: 0.3094\n",
      "Epoch 77/100\n",
      "1962/1962 [==============================] - 0s 18us/step - loss: 1.3777 - acc: 0.3094\n",
      "Epoch 78/100\n",
      "1962/1962 [==============================] - 0s 17us/step - loss: 1.3772 - acc: 0.3094\n",
      "Epoch 79/100\n",
      "1962/1962 [==============================] - 0s 21us/step - loss: 1.3779 - acc: 0.3094\n",
      "Epoch 80/100\n",
      "1962/1962 [==============================] - 0s 18us/step - loss: 1.3779 - acc: 0.3094\n",
      "Epoch 81/100\n",
      "1962/1962 [==============================] - 0s 21us/step - loss: 1.3771 - acc: 0.3094\n",
      "Epoch 82/100\n",
      "1962/1962 [==============================] - 0s 21us/step - loss: 1.3791 - acc: 0.3094\n",
      "Epoch 83/100\n",
      "1962/1962 [==============================] - 0s 22us/step - loss: 1.3775 - acc: 0.3094\n",
      "Epoch 84/100\n",
      "1962/1962 [==============================] - 0s 21us/step - loss: 1.3768 - acc: 0.3094\n",
      "Epoch 85/100\n",
      "1962/1962 [==============================] - 0s 20us/step - loss: 1.3773 - acc: 0.3094\n",
      "Epoch 86/100\n",
      "1962/1962 [==============================] - 0s 21us/step - loss: 1.3761 - acc: 0.3094\n",
      "Epoch 87/100\n",
      "1962/1962 [==============================] - 0s 20us/step - loss: 1.3765 - acc: 0.3094\n",
      "Epoch 88/100\n",
      "1962/1962 [==============================] - 0s 19us/step - loss: 1.3773 - acc: 0.3094\n",
      "Epoch 89/100\n",
      "1962/1962 [==============================] - 0s 18us/step - loss: 1.3775 - acc: 0.3094\n",
      "Epoch 90/100\n",
      "1962/1962 [==============================] - 0s 19us/step - loss: 1.3767 - acc: 0.3094\n",
      "Epoch 91/100\n",
      "1962/1962 [==============================] - 0s 17us/step - loss: 1.3772 - acc: 0.3094\n",
      "Epoch 92/100\n",
      "1962/1962 [==============================] - 0s 18us/step - loss: 1.3767 - acc: 0.3094\n",
      "Epoch 93/100\n",
      "1962/1962 [==============================] - 0s 18us/step - loss: 1.3772 - acc: 0.3094\n",
      "Epoch 94/100\n",
      "1962/1962 [==============================] - 0s 19us/step - loss: 1.3775 - acc: 0.3094\n",
      "Epoch 95/100\n",
      "1962/1962 [==============================] - 0s 19us/step - loss: 1.3765 - acc: 0.3094\n",
      "Epoch 96/100\n",
      "1962/1962 [==============================] - 0s 18us/step - loss: 1.3770 - acc: 0.3094\n",
      "Epoch 97/100\n",
      "1962/1962 [==============================] - 0s 19us/step - loss: 1.3771 - acc: 0.3094\n",
      "Epoch 98/100\n",
      "1962/1962 [==============================] - 0s 17us/step - loss: 1.3774 - acc: 0.3094\n",
      "Epoch 99/100\n",
      "1962/1962 [==============================] - 0s 18us/step - loss: 1.3767 - acc: 0.3094\n",
      "Epoch 100/100\n",
      "1962/1962 [==============================] - 0s 18us/step - loss: 1.3774 - acc: 0.3094\n",
      "491/491 [==============================] - 0s 526us/step\n",
      "Epoch 1/100\n",
      "1962/1962 [==============================] - 1s 376us/step - loss: 1.3881 - acc: 0.2564\n",
      "Epoch 2/100\n",
      "1962/1962 [==============================] - 0s 18us/step - loss: 1.3836 - acc: 0.2768\n",
      "Epoch 3/100\n",
      "1962/1962 [==============================] - 0s 17us/step - loss: 1.3844 - acc: 0.2885\n",
      "Epoch 4/100\n",
      "1962/1962 [==============================] - 0s 18us/step - loss: 1.3805 - acc: 0.3022\n",
      "Epoch 5/100\n",
      "1962/1962 [==============================] - 0s 19us/step - loss: 1.3832 - acc: 0.2971\n",
      "Epoch 6/100\n",
      "1962/1962 [==============================] - 0s 16us/step - loss: 1.3823 - acc: 0.3017\n",
      "Epoch 7/100\n",
      "1962/1962 [==============================] - 0s 17us/step - loss: 1.3796 - acc: 0.3053\n",
      "Epoch 8/100\n",
      "1962/1962 [==============================] - 0s 17us/step - loss: 1.3818 - acc: 0.2982\n",
      "Epoch 9/100\n",
      "1962/1962 [==============================] - 0s 18us/step - loss: 1.3815 - acc: 0.3048\n",
      "Epoch 10/100\n",
      "1962/1962 [==============================] - 0s 17us/step - loss: 1.3800 - acc: 0.3053\n",
      "Epoch 11/100\n",
      "1962/1962 [==============================] - 0s 16us/step - loss: 1.3810 - acc: 0.3017\n",
      "Epoch 12/100\n",
      "1962/1962 [==============================] - 0s 15us/step - loss: 1.3805 - acc: 0.3043\n",
      "Epoch 13/100\n",
      "1962/1962 [==============================] - 0s 17us/step - loss: 1.3809 - acc: 0.3017\n",
      "Epoch 14/100\n",
      "1962/1962 [==============================] - 0s 15us/step - loss: 1.3803 - acc: 0.3068\n",
      "Epoch 15/100\n",
      "1962/1962 [==============================] - 0s 19us/step - loss: 1.3808 - acc: 0.3033\n",
      "Epoch 16/100\n",
      "1962/1962 [==============================] - 0s 17us/step - loss: 1.3800 - acc: 0.3043\n",
      "Epoch 17/100\n",
      "1962/1962 [==============================] - 0s 20us/step - loss: 1.3800 - acc: 0.3043\n",
      "Epoch 18/100\n",
      "1962/1962 [==============================] - 0s 17us/step - loss: 1.3792 - acc: 0.3038\n",
      "Epoch 19/100\n",
      "1962/1962 [==============================] - 0s 15us/step - loss: 1.3803 - acc: 0.3028\n",
      "Epoch 20/100\n",
      "1962/1962 [==============================] - 0s 18us/step - loss: 1.3798 - acc: 0.3043\n",
      "Epoch 21/100\n",
      "1962/1962 [==============================] - 0s 18us/step - loss: 1.3806 - acc: 0.3043\n",
      "Epoch 22/100\n",
      "1962/1962 [==============================] - 0s 18us/step - loss: 1.3792 - acc: 0.3043\n",
      "Epoch 23/100\n",
      "1962/1962 [==============================] - 0s 20us/step - loss: 1.3794 - acc: 0.3043\n",
      "Epoch 24/100\n",
      "1962/1962 [==============================] - 0s 18us/step - loss: 1.3795 - acc: 0.3043\n",
      "Epoch 25/100\n",
      "1962/1962 [==============================] - 0s 17us/step - loss: 1.3805 - acc: 0.3043\n",
      "Epoch 26/100\n",
      "1962/1962 [==============================] - 0s 18us/step - loss: 1.3786 - acc: 0.3043\n",
      "Epoch 27/100\n",
      "1962/1962 [==============================] - 0s 16us/step - loss: 1.3814 - acc: 0.3043\n",
      "Epoch 28/100\n",
      "1962/1962 [==============================] - 0s 18us/step - loss: 1.3792 - acc: 0.3043\n",
      "Epoch 29/100\n",
      "1962/1962 [==============================] - 0s 17us/step - loss: 1.3786 - acc: 0.3043\n",
      "Epoch 30/100\n",
      "1962/1962 [==============================] - 0s 20us/step - loss: 1.3790 - acc: 0.3043\n",
      "Epoch 31/100\n",
      "1962/1962 [==============================] - 0s 18us/step - loss: 1.3785 - acc: 0.3043\n",
      "Epoch 32/100\n",
      "1962/1962 [==============================] - 0s 16us/step - loss: 1.3795 - acc: 0.3043\n",
      "Epoch 33/100\n",
      "1962/1962 [==============================] - 0s 20us/step - loss: 1.3796 - acc: 0.3043\n",
      "Epoch 34/100\n",
      "1962/1962 [==============================] - 0s 19us/step - loss: 1.3801 - acc: 0.3043\n",
      "Epoch 35/100\n",
      "1962/1962 [==============================] - 0s 32us/step - loss: 1.3807 - acc: 0.3043\n",
      "Epoch 36/100\n",
      "1962/1962 [==============================] - 0s 18us/step - loss: 1.3784 - acc: 0.3043\n",
      "Epoch 37/100\n",
      "1962/1962 [==============================] - 0s 19us/step - loss: 1.3797 - acc: 0.3043\n",
      "Epoch 38/100\n",
      "1962/1962 [==============================] - 0s 20us/step - loss: 1.3803 - acc: 0.3043\n",
      "Epoch 39/100\n",
      "1962/1962 [==============================] - 0s 21us/step - loss: 1.3794 - acc: 0.3043\n",
      "Epoch 40/100\n",
      "1962/1962 [==============================] - 0s 17us/step - loss: 1.3789 - acc: 0.3043\n",
      "Epoch 41/100\n",
      "1962/1962 [==============================] - 0s 23us/step - loss: 1.3800 - acc: 0.3043\n",
      "Epoch 42/100\n",
      "1962/1962 [==============================] - 0s 18us/step - loss: 1.3810 - acc: 0.3043\n",
      "Epoch 43/100\n",
      "1962/1962 [==============================] - 0s 23us/step - loss: 1.3792 - acc: 0.3043\n",
      "Epoch 44/100\n",
      "1962/1962 [==============================] - 0s 19us/step - loss: 1.3808 - acc: 0.3043\n",
      "Epoch 45/100\n"
     ]
    },
    {
     "name": "stdout",
     "output_type": "stream",
     "text": [
      "1962/1962 [==============================] - 0s 19us/step - loss: 1.3804 - acc: 0.3043\n",
      "Epoch 46/100\n",
      "1962/1962 [==============================] - 0s 18us/step - loss: 1.3790 - acc: 0.3043\n",
      "Epoch 47/100\n",
      "1962/1962 [==============================] - 0s 23us/step - loss: 1.3795 - acc: 0.3043\n",
      "Epoch 48/100\n",
      "1962/1962 [==============================] - 0s 17us/step - loss: 1.3790 - acc: 0.3043\n",
      "Epoch 49/100\n",
      "1962/1962 [==============================] - 0s 20us/step - loss: 1.3796 - acc: 0.3043\n",
      "Epoch 50/100\n",
      "1962/1962 [==============================] - 0s 20us/step - loss: 1.3786 - acc: 0.3043\n",
      "Epoch 51/100\n",
      "1962/1962 [==============================] - 0s 19us/step - loss: 1.3803 - acc: 0.3043\n",
      "Epoch 52/100\n",
      "1962/1962 [==============================] - 0s 19us/step - loss: 1.3799 - acc: 0.3043\n",
      "Epoch 53/100\n",
      "1962/1962 [==============================] - 0s 21us/step - loss: 1.3805 - acc: 0.3043\n",
      "Epoch 54/100\n",
      "1962/1962 [==============================] - 0s 18us/step - loss: 1.3797 - acc: 0.3043\n",
      "Epoch 55/100\n",
      "1962/1962 [==============================] - 0s 22us/step - loss: 1.3793 - acc: 0.3043\n",
      "Epoch 56/100\n",
      "1962/1962 [==============================] - 0s 17us/step - loss: 1.3791 - acc: 0.3043\n",
      "Epoch 57/100\n",
      "1962/1962 [==============================] - 0s 22us/step - loss: 1.3788 - acc: 0.3043\n",
      "Epoch 58/100\n",
      "1962/1962 [==============================] - 0s 19us/step - loss: 1.3798 - acc: 0.3043\n",
      "Epoch 59/100\n",
      "1962/1962 [==============================] - 0s 22us/step - loss: 1.3799 - acc: 0.3043\n",
      "Epoch 60/100\n",
      "1962/1962 [==============================] - 0s 20us/step - loss: 1.3772 - acc: 0.3043\n",
      "Epoch 61/100\n",
      "1962/1962 [==============================] - 0s 21us/step - loss: 1.3791 - acc: 0.3043\n",
      "Epoch 62/100\n",
      "1962/1962 [==============================] - 0s 22us/step - loss: 1.3791 - acc: 0.3043\n",
      "Epoch 63/100\n",
      "1962/1962 [==============================] - 0s 21us/step - loss: 1.3788 - acc: 0.3043\n",
      "Epoch 64/100\n",
      "1962/1962 [==============================] - 0s 19us/step - loss: 1.3789 - acc: 0.3043\n",
      "Epoch 65/100\n",
      "1962/1962 [==============================] - 0s 19us/step - loss: 1.3798 - acc: 0.3043\n",
      "Epoch 66/100\n",
      "1962/1962 [==============================] - 0s 19us/step - loss: 1.3804 - acc: 0.3043\n",
      "Epoch 67/100\n",
      "1962/1962 [==============================] - 0s 22us/step - loss: 1.3781 - acc: 0.3043\n",
      "Epoch 68/100\n",
      "1962/1962 [==============================] - 0s 20us/step - loss: 1.3786 - acc: 0.3043\n",
      "Epoch 69/100\n",
      "1962/1962 [==============================] - 0s 21us/step - loss: 1.3784 - acc: 0.3043\n",
      "Epoch 70/100\n",
      "1962/1962 [==============================] - 0s 20us/step - loss: 1.3795 - acc: 0.3043\n",
      "Epoch 71/100\n",
      "1962/1962 [==============================] - 0s 21us/step - loss: 1.3803 - acc: 0.3043\n",
      "Epoch 72/100\n",
      "1962/1962 [==============================] - 0s 20us/step - loss: 1.3778 - acc: 0.3043\n",
      "Epoch 73/100\n",
      "1962/1962 [==============================] - 0s 19us/step - loss: 1.3784 - acc: 0.3043\n",
      "Epoch 74/100\n",
      "1962/1962 [==============================] - 0s 19us/step - loss: 1.3789 - acc: 0.3043\n",
      "Epoch 75/100\n",
      "1962/1962 [==============================] - 0s 21us/step - loss: 1.3784 - acc: 0.3043\n",
      "Epoch 76/100\n",
      "1962/1962 [==============================] - 0s 20us/step - loss: 1.3797 - acc: 0.3043\n",
      "Epoch 77/100\n",
      "1962/1962 [==============================] - 0s 19us/step - loss: 1.3788 - acc: 0.3043\n",
      "Epoch 78/100\n",
      "1962/1962 [==============================] - 0s 22us/step - loss: 1.3793 - acc: 0.3043\n",
      "Epoch 79/100\n",
      "1962/1962 [==============================] - 0s 21us/step - loss: 1.3795 - acc: 0.3043\n",
      "Epoch 80/100\n",
      "1962/1962 [==============================] - 0s 18us/step - loss: 1.3780 - acc: 0.3043\n",
      "Epoch 81/100\n",
      "1962/1962 [==============================] - 0s 21us/step - loss: 1.3794 - acc: 0.3043\n",
      "Epoch 82/100\n",
      "1962/1962 [==============================] - 0s 18us/step - loss: 1.3790 - acc: 0.3043\n",
      "Epoch 83/100\n",
      "1962/1962 [==============================] - 0s 21us/step - loss: 1.3788 - acc: 0.3043\n",
      "Epoch 84/100\n",
      "1962/1962 [==============================] - 0s 25us/step - loss: 1.3790 - acc: 0.3043\n",
      "Epoch 85/100\n",
      "1962/1962 [==============================] - 0s 21us/step - loss: 1.3791 - acc: 0.3043\n",
      "Epoch 86/100\n",
      "1962/1962 [==============================] - 0s 19us/step - loss: 1.3788 - acc: 0.3043\n",
      "Epoch 87/100\n",
      "1962/1962 [==============================] - 0s 24us/step - loss: 1.3797 - acc: 0.3043\n",
      "Epoch 88/100\n",
      "1962/1962 [==============================] - 0s 20us/step - loss: 1.3786 - acc: 0.3043\n",
      "Epoch 89/100\n",
      "1962/1962 [==============================] - 0s 18us/step - loss: 1.3795 - acc: 0.3043\n",
      "Epoch 90/100\n",
      "1962/1962 [==============================] - 0s 20us/step - loss: 1.3791 - acc: 0.3043\n",
      "Epoch 91/100\n",
      "1962/1962 [==============================] - 0s 22us/step - loss: 1.3793 - acc: 0.3043\n",
      "Epoch 92/100\n",
      "1962/1962 [==============================] - 0s 19us/step - loss: 1.3788 - acc: 0.3043\n",
      "Epoch 93/100\n",
      "1962/1962 [==============================] - 0s 21us/step - loss: 1.3796 - acc: 0.3043\n",
      "Epoch 94/100\n",
      "1962/1962 [==============================] - 0s 19us/step - loss: 1.3795 - acc: 0.3043\n",
      "Epoch 95/100\n",
      "1962/1962 [==============================] - 0s 18us/step - loss: 1.3791 - acc: 0.3043\n",
      "Epoch 96/100\n",
      "1962/1962 [==============================] - 0s 21us/step - loss: 1.3791 - acc: 0.3043\n",
      "Epoch 97/100\n",
      "1962/1962 [==============================] - 0s 21us/step - loss: 1.3789 - acc: 0.3043\n",
      "Epoch 98/100\n",
      "1962/1962 [==============================] - 0s 23us/step - loss: 1.3793 - acc: 0.3043\n",
      "Epoch 99/100\n",
      "1962/1962 [==============================] - 0s 18us/step - loss: 1.3791 - acc: 0.3043\n",
      "Epoch 100/100\n",
      "1962/1962 [==============================] - 0s 20us/step - loss: 1.3788 - acc: 0.3043\n",
      "491/491 [==============================] - 0s 575us/step\n",
      "Epoch 1/100\n",
      "1963/1963 [==============================] - 1s 497us/step - loss: 1.3905 - acc: 0.2292\n",
      "Epoch 2/100\n",
      "1963/1963 [==============================] - 0s 19us/step - loss: 1.3863 - acc: 0.2593\n",
      "Epoch 3/100\n",
      "1963/1963 [==============================] - 0s 20us/step - loss: 1.3826 - acc: 0.2914\n",
      "Epoch 4/100\n",
      "1963/1963 [==============================] - 0s 21us/step - loss: 1.3823 - acc: 0.3001\n",
      "Epoch 5/100\n",
      "1963/1963 [==============================] - 0s 19us/step - loss: 1.3795 - acc: 0.3016\n",
      "Epoch 6/100\n",
      "1963/1963 [==============================] - 0s 21us/step - loss: 1.3793 - acc: 0.3107\n",
      "Epoch 7/100\n",
      "1963/1963 [==============================] - 0s 22us/step - loss: 1.3767 - acc: 0.3072\n",
      "Epoch 8/100\n",
      "1963/1963 [==============================] - 0s 18us/step - loss: 1.3786 - acc: 0.3092\n",
      "Epoch 9/100\n",
      "1963/1963 [==============================] - 0s 20us/step - loss: 1.3795 - acc: 0.3102\n",
      "Epoch 10/100\n",
      "1963/1963 [==============================] - 0s 20us/step - loss: 1.3800 - acc: 0.3113\n",
      "Epoch 11/100\n",
      "1963/1963 [==============================] - 0s 19us/step - loss: 1.3785 - acc: 0.3113\n",
      "Epoch 12/100\n",
      "1963/1963 [==============================] - 0s 18us/step - loss: 1.3787 - acc: 0.3102\n",
      "Epoch 13/100\n",
      "1963/1963 [==============================] - 0s 20us/step - loss: 1.3777 - acc: 0.3118\n",
      "Epoch 14/100\n",
      "1963/1963 [==============================] - 0s 17us/step - loss: 1.3786 - acc: 0.3102\n",
      "Epoch 15/100\n",
      "1963/1963 [==============================] - 0s 19us/step - loss: 1.3764 - acc: 0.3113\n",
      "Epoch 16/100\n",
      "1963/1963 [==============================] - 0s 20us/step - loss: 1.3780 - acc: 0.3102\n",
      "Epoch 17/100\n",
      "1963/1963 [==============================] - 0s 20us/step - loss: 1.3776 - acc: 0.3107\n",
      "Epoch 18/100\n",
      "1963/1963 [==============================] - 0s 17us/step - loss: 1.3773 - acc: 0.3107\n",
      "Epoch 19/100\n",
      "1963/1963 [==============================] - 0s 18us/step - loss: 1.3776 - acc: 0.3107\n",
      "Epoch 20/100\n",
      "1963/1963 [==============================] - 0s 19us/step - loss: 1.3782 - acc: 0.3107\n",
      "Epoch 21/100\n",
      "1963/1963 [==============================] - 0s 17us/step - loss: 1.3786 - acc: 0.3107\n",
      "Epoch 22/100\n",
      "1963/1963 [==============================] - 0s 21us/step - loss: 1.3786 - acc: 0.3107\n",
      "Epoch 23/100\n",
      "1963/1963 [==============================] - 0s 21us/step - loss: 1.3799 - acc: 0.3107\n",
      "Epoch 24/100\n",
      "1963/1963 [==============================] - 0s 21us/step - loss: 1.3775 - acc: 0.3107\n",
      "Epoch 25/100\n",
      "1963/1963 [==============================] - 0s 19us/step - loss: 1.3774 - acc: 0.3107\n",
      "Epoch 26/100\n",
      "1963/1963 [==============================] - 0s 20us/step - loss: 1.3764 - acc: 0.3107\n",
      "Epoch 27/100\n",
      "1963/1963 [==============================] - 0s 18us/step - loss: 1.3778 - acc: 0.3107\n",
      "Epoch 28/100\n",
      "1963/1963 [==============================] - 0s 22us/step - loss: 1.3784 - acc: 0.3107\n",
      "Epoch 29/100\n",
      "1963/1963 [==============================] - 0s 18us/step - loss: 1.3773 - acc: 0.3107\n",
      "Epoch 30/100\n",
      "1963/1963 [==============================] - 0s 21us/step - loss: 1.3788 - acc: 0.3107\n",
      "Epoch 31/100\n",
      "1963/1963 [==============================] - 0s 23us/step - loss: 1.3787 - acc: 0.3107\n",
      "Epoch 32/100\n",
      "1963/1963 [==============================] - 0s 28us/step - loss: 1.3778 - acc: 0.3107\n",
      "Epoch 33/100\n",
      "1963/1963 [==============================] - 0s 22us/step - loss: 1.3786 - acc: 0.3107\n",
      "Epoch 34/100\n",
      "1963/1963 [==============================] - 0s 26us/step - loss: 1.3767 - acc: 0.3107\n",
      "Epoch 35/100\n",
      "1963/1963 [==============================] - 0s 21us/step - loss: 1.3760 - acc: 0.3107\n",
      "Epoch 36/100\n",
      "1963/1963 [==============================] - 0s 23us/step - loss: 1.3791 - acc: 0.3107\n",
      "Epoch 37/100\n",
      "1963/1963 [==============================] - 0s 21us/step - loss: 1.3788 - acc: 0.3107\n",
      "Epoch 38/100\n",
      "1963/1963 [==============================] - 0s 18us/step - loss: 1.3778 - acc: 0.3107\n",
      "Epoch 39/100\n",
      "1963/1963 [==============================] - 0s 19us/step - loss: 1.3786 - acc: 0.3107\n",
      "Epoch 40/100\n",
      "1963/1963 [==============================] - 0s 22us/step - loss: 1.3786 - acc: 0.3107\n",
      "Epoch 41/100\n",
      "1963/1963 [==============================] - 0s 20us/step - loss: 1.3781 - acc: 0.3107\n",
      "Epoch 42/100\n",
      "1963/1963 [==============================] - 0s 19us/step - loss: 1.3768 - acc: 0.3107\n",
      "Epoch 43/100\n",
      "1963/1963 [==============================] - 0s 22us/step - loss: 1.3780 - acc: 0.3107\n",
      "Epoch 44/100\n",
      "1963/1963 [==============================] - 0s 27us/step - loss: 1.3771 - acc: 0.3107\n",
      "Epoch 45/100\n",
      "1963/1963 [==============================] - 0s 22us/step - loss: 1.3767 - acc: 0.3107\n",
      "Epoch 46/100\n",
      "1963/1963 [==============================] - 0s 20us/step - loss: 1.3773 - acc: 0.3107\n",
      "Epoch 47/100\n",
      "1963/1963 [==============================] - 0s 21us/step - loss: 1.3791 - acc: 0.3107\n",
      "Epoch 48/100\n",
      "1963/1963 [==============================] - 0s 22us/step - loss: 1.3766 - acc: 0.3107\n",
      "Epoch 49/100\n",
      "1963/1963 [==============================] - 0s 23us/step - loss: 1.3771 - acc: 0.3107\n",
      "Epoch 50/100\n",
      "1963/1963 [==============================] - 0s 24us/step - loss: 1.3771 - acc: 0.3107\n",
      "Epoch 51/100\n",
      "1963/1963 [==============================] - 0s 25us/step - loss: 1.3786 - acc: 0.3107\n",
      "Epoch 52/100\n",
      "1963/1963 [==============================] - 0s 24us/step - loss: 1.3774 - acc: 0.3107\n",
      "Epoch 53/100\n",
      "1963/1963 [==============================] - 0s 19us/step - loss: 1.3782 - acc: 0.3107\n",
      "Epoch 54/100\n",
      "1963/1963 [==============================] - 0s 18us/step - loss: 1.3781 - acc: 0.3107\n",
      "Epoch 55/100\n",
      "1963/1963 [==============================] - 0s 17us/step - loss: 1.3779 - acc: 0.3107\n",
      "Epoch 56/100\n",
      "1963/1963 [==============================] - 0s 17us/step - loss: 1.3771 - acc: 0.3107\n",
      "Epoch 57/100\n",
      "1963/1963 [==============================] - 0s 22us/step - loss: 1.3764 - acc: 0.3107\n",
      "Epoch 58/100\n",
      "1963/1963 [==============================] - 0s 19us/step - loss: 1.3775 - acc: 0.3107\n",
      "Epoch 59/100\n",
      "1963/1963 [==============================] - 0s 22us/step - loss: 1.3776 - acc: 0.3107\n",
      "Epoch 60/100\n",
      "1963/1963 [==============================] - 0s 20us/step - loss: 1.3775 - acc: 0.3107\n",
      "Epoch 61/100\n",
      "1963/1963 [==============================] - 0s 18us/step - loss: 1.3773 - acc: 0.3107\n",
      "Epoch 62/100\n",
      "1963/1963 [==============================] - 0s 19us/step - loss: 1.3775 - acc: 0.3107\n",
      "Epoch 63/100\n",
      "1963/1963 [==============================] - 0s 18us/step - loss: 1.3770 - acc: 0.3107\n",
      "Epoch 64/100\n",
      "1963/1963 [==============================] - 0s 19us/step - loss: 1.3762 - acc: 0.3107\n",
      "Epoch 65/100\n",
      "1963/1963 [==============================] - 0s 19us/step - loss: 1.3781 - acc: 0.3107\n",
      "Epoch 66/100\n",
      "1963/1963 [==============================] - 0s 20us/step - loss: 1.3770 - acc: 0.3107\n",
      "Epoch 67/100\n",
      "1963/1963 [==============================] - 0s 19us/step - loss: 1.3761 - acc: 0.3107\n",
      "Epoch 68/100\n",
      "1963/1963 [==============================] - 0s 20us/step - loss: 1.3766 - acc: 0.3107\n",
      "Epoch 69/100\n",
      "1963/1963 [==============================] - 0s 22us/step - loss: 1.3768 - acc: 0.3107\n",
      "Epoch 70/100\n",
      "1963/1963 [==============================] - 0s 19us/step - loss: 1.3776 - acc: 0.3107\n",
      "Epoch 71/100\n",
      "1963/1963 [==============================] - 0s 18us/step - loss: 1.3772 - acc: 0.3107\n",
      "Epoch 72/100\n",
      "1963/1963 [==============================] - 0s 18us/step - loss: 1.3771 - acc: 0.3107\n",
      "Epoch 73/100\n",
      "1963/1963 [==============================] - 0s 18us/step - loss: 1.3774 - acc: 0.3107\n",
      "Epoch 74/100\n",
      "1963/1963 [==============================] - 0s 18us/step - loss: 1.3768 - acc: 0.3107\n",
      "Epoch 75/100\n",
      "1963/1963 [==============================] - 0s 22us/step - loss: 1.3775 - acc: 0.3107\n",
      "Epoch 76/100\n",
      "1963/1963 [==============================] - 0s 20us/step - loss: 1.3769 - acc: 0.3107\n",
      "Epoch 77/100\n",
      "1963/1963 [==============================] - 0s 18us/step - loss: 1.3785 - acc: 0.3107\n",
      "Epoch 78/100\n",
      "1963/1963 [==============================] - 0s 20us/step - loss: 1.3772 - acc: 0.3107\n",
      "Epoch 79/100\n",
      "1963/1963 [==============================] - 0s 18us/step - loss: 1.3769 - acc: 0.3107\n",
      "Epoch 80/100\n",
      "1963/1963 [==============================] - 0s 16us/step - loss: 1.3768 - acc: 0.3107\n",
      "Epoch 81/100\n",
      "1963/1963 [==============================] - 0s 17us/step - loss: 1.3773 - acc: 0.3107\n",
      "Epoch 82/100\n",
      "1963/1963 [==============================] - 0s 21us/step - loss: 1.3775 - acc: 0.3107\n",
      "Epoch 83/100\n",
      "1963/1963 [==============================] - 0s 20us/step - loss: 1.3764 - acc: 0.3107\n",
      "Epoch 84/100\n",
      "1963/1963 [==============================] - 0s 19us/step - loss: 1.3770 - acc: 0.3107\n",
      "Epoch 85/100\n",
      "1963/1963 [==============================] - 0s 18us/step - loss: 1.3768 - acc: 0.3107\n",
      "Epoch 86/100\n",
      "1963/1963 [==============================] - 0s 17us/step - loss: 1.3773 - acc: 0.3107\n",
      "Epoch 87/100\n",
      "1963/1963 [==============================] - 0s 18us/step - loss: 1.3773 - acc: 0.3107\n",
      "Epoch 88/100\n",
      "1963/1963 [==============================] - 0s 20us/step - loss: 1.3775 - acc: 0.3107\n",
      "Epoch 89/100\n",
      "1963/1963 [==============================] - 0s 19us/step - loss: 1.3756 - acc: 0.3107\n",
      "Epoch 90/100\n",
      "1963/1963 [==============================] - 0s 20us/step - loss: 1.3758 - acc: 0.3107\n",
      "Epoch 91/100\n",
      "1963/1963 [==============================] - 0s 18us/step - loss: 1.3762 - acc: 0.3107\n",
      "Epoch 92/100\n",
      "1963/1963 [==============================] - 0s 17us/step - loss: 1.3783 - acc: 0.3107\n",
      "Epoch 93/100\n",
      "1963/1963 [==============================] - 0s 18us/step - loss: 1.3780 - acc: 0.3107\n",
      "Epoch 94/100\n",
      "1963/1963 [==============================] - 0s 17us/step - loss: 1.3783 - acc: 0.3107\n",
      "Epoch 95/100\n",
      "1963/1963 [==============================] - 0s 17us/step - loss: 1.3780 - acc: 0.3107\n",
      "Epoch 96/100\n",
      "1963/1963 [==============================] - 0s 16us/step - loss: 1.3774 - acc: 0.3107\n",
      "Epoch 97/100\n",
      "1963/1963 [==============================] - 0s 18us/step - loss: 1.3778 - acc: 0.3107\n",
      "Epoch 98/100\n",
      "1963/1963 [==============================] - 0s 19us/step - loss: 1.3769 - acc: 0.3107\n",
      "Epoch 99/100\n",
      "1963/1963 [==============================] - 0s 16us/step - loss: 1.3772 - acc: 0.3107\n",
      "Epoch 100/100\n",
      "1963/1963 [==============================] - 0s 18us/step - loss: 1.3773 - acc: 0.3107\n",
      "490/490 [==============================] - 0s 539us/step\n",
      "Epoch 1/100\n",
      "1963/1963 [==============================] - 1s 416us/step - loss: 1.3987 - acc: 0.2338\n",
      "Epoch 2/100\n",
      "1963/1963 [==============================] - 0s 16us/step - loss: 1.3900 - acc: 0.2471\n",
      "Epoch 3/100\n",
      "1963/1963 [==============================] - 0s 16us/step - loss: 1.3868 - acc: 0.2685\n",
      "Epoch 4/100\n",
      "1963/1963 [==============================] - 0s 19us/step - loss: 1.3819 - acc: 0.2868\n",
      "Epoch 5/100\n",
      "1963/1963 [==============================] - 0s 17us/step - loss: 1.3797 - acc: 0.2919\n",
      "Epoch 6/100\n",
      "1963/1963 [==============================] - 0s 18us/step - loss: 1.3786 - acc: 0.3092\n",
      "Epoch 7/100\n"
     ]
    },
    {
     "name": "stdout",
     "output_type": "stream",
     "text": [
      "1963/1963 [==============================] - 0s 20us/step - loss: 1.3796 - acc: 0.3199\n",
      "Epoch 8/100\n",
      "1963/1963 [==============================] - 0s 20us/step - loss: 1.3796 - acc: 0.3133\n",
      "Epoch 9/100\n",
      "1963/1963 [==============================] - 0s 17us/step - loss: 1.3776 - acc: 0.3169\n",
      "Epoch 10/100\n",
      "1963/1963 [==============================] - 0s 22us/step - loss: 1.3743 - acc: 0.3179\n",
      "Epoch 11/100\n",
      "1963/1963 [==============================] - 0s 16us/step - loss: 1.3763 - acc: 0.3164\n",
      "Epoch 12/100\n",
      "1963/1963 [==============================] - 0s 18us/step - loss: 1.3757 - acc: 0.3189\n",
      "Epoch 13/100\n",
      "1963/1963 [==============================] - 0s 19us/step - loss: 1.3764 - acc: 0.3179\n",
      "Epoch 14/100\n",
      "1963/1963 [==============================] - 0s 18us/step - loss: 1.3762 - acc: 0.3189\n",
      "Epoch 15/100\n",
      "1963/1963 [==============================] - 0s 18us/step - loss: 1.3755 - acc: 0.3194\n",
      "Epoch 16/100\n",
      "1963/1963 [==============================] - 0s 18us/step - loss: 1.3753 - acc: 0.3179\n",
      "Epoch 17/100\n",
      "1963/1963 [==============================] - 0s 18us/step - loss: 1.3758 - acc: 0.3179\n",
      "Epoch 18/100\n",
      "1963/1963 [==============================] - 0s 17us/step - loss: 1.3786 - acc: 0.3189\n",
      "Epoch 19/100\n",
      "1963/1963 [==============================] - 0s 17us/step - loss: 1.3755 - acc: 0.3189\n",
      "Epoch 20/100\n",
      "1963/1963 [==============================] - 0s 18us/step - loss: 1.3766 - acc: 0.3189\n",
      "Epoch 21/100\n",
      "1963/1963 [==============================] - 0s 18us/step - loss: 1.3737 - acc: 0.3189\n",
      "Epoch 22/100\n",
      "1963/1963 [==============================] - 0s 17us/step - loss: 1.3760 - acc: 0.3189\n",
      "Epoch 23/100\n",
      "1963/1963 [==============================] - 0s 17us/step - loss: 1.3772 - acc: 0.3189\n",
      "Epoch 24/100\n",
      "1963/1963 [==============================] - 0s 21us/step - loss: 1.3754 - acc: 0.3189\n",
      "Epoch 25/100\n",
      "1963/1963 [==============================] - 0s 17us/step - loss: 1.3753 - acc: 0.3189\n",
      "Epoch 26/100\n",
      "1963/1963 [==============================] - 0s 19us/step - loss: 1.3746 - acc: 0.3189\n",
      "Epoch 27/100\n",
      "1963/1963 [==============================] - 0s 16us/step - loss: 1.3755 - acc: 0.3189\n",
      "Epoch 28/100\n",
      "1963/1963 [==============================] - 0s 17us/step - loss: 1.3751 - acc: 0.3189\n",
      "Epoch 29/100\n",
      "1963/1963 [==============================] - 0s 19us/step - loss: 1.3754 - acc: 0.3189\n",
      "Epoch 30/100\n",
      "1963/1963 [==============================] - 0s 17us/step - loss: 1.3738 - acc: 0.3189\n",
      "Epoch 31/100\n",
      "1963/1963 [==============================] - 0s 19us/step - loss: 1.3736 - acc: 0.3189\n",
      "Epoch 32/100\n",
      "1963/1963 [==============================] - 0s 17us/step - loss: 1.3764 - acc: 0.3189\n",
      "Epoch 33/100\n",
      "1963/1963 [==============================] - 0s 17us/step - loss: 1.3756 - acc: 0.3189\n",
      "Epoch 34/100\n",
      "1963/1963 [==============================] - 0s 15us/step - loss: 1.3773 - acc: 0.3189\n",
      "Epoch 35/100\n",
      "1963/1963 [==============================] - 0s 16us/step - loss: 1.3744 - acc: 0.3189\n",
      "Epoch 36/100\n",
      "1963/1963 [==============================] - 0s 20us/step - loss: 1.3755 - acc: 0.3189\n",
      "Epoch 37/100\n",
      "1963/1963 [==============================] - 0s 19us/step - loss: 1.3763 - acc: 0.3189\n",
      "Epoch 38/100\n",
      "1963/1963 [==============================] - 0s 17us/step - loss: 1.3754 - acc: 0.3189\n",
      "Epoch 39/100\n",
      "1963/1963 [==============================] - 0s 19us/step - loss: 1.3735 - acc: 0.3189\n",
      "Epoch 40/100\n",
      "1963/1963 [==============================] - 0s 16us/step - loss: 1.3739 - acc: 0.3189\n",
      "Epoch 41/100\n",
      "1963/1963 [==============================] - 0s 18us/step - loss: 1.3756 - acc: 0.3189\n",
      "Epoch 42/100\n",
      "1963/1963 [==============================] - 0s 17us/step - loss: 1.3747 - acc: 0.3189\n",
      "Epoch 43/100\n",
      "1963/1963 [==============================] - 0s 15us/step - loss: 1.3749 - acc: 0.3189\n",
      "Epoch 44/100\n",
      "1963/1963 [==============================] - 0s 20us/step - loss: 1.3743 - acc: 0.3189\n",
      "Epoch 45/100\n",
      "1963/1963 [==============================] - 0s 16us/step - loss: 1.3744 - acc: 0.3189\n",
      "Epoch 46/100\n",
      "1963/1963 [==============================] - 0s 17us/step - loss: 1.3760 - acc: 0.3189\n",
      "Epoch 47/100\n",
      "1963/1963 [==============================] - 0s 17us/step - loss: 1.3736 - acc: 0.3189\n",
      "Epoch 48/100\n",
      "1963/1963 [==============================] - 0s 16us/step - loss: 1.3742 - acc: 0.3189\n",
      "Epoch 49/100\n",
      "1963/1963 [==============================] - 0s 16us/step - loss: 1.3739 - acc: 0.3189\n",
      "Epoch 50/100\n",
      "1963/1963 [==============================] - 0s 16us/step - loss: 1.3756 - acc: 0.3189\n",
      "Epoch 51/100\n",
      "1963/1963 [==============================] - 0s 17us/step - loss: 1.3760 - acc: 0.3189\n",
      "Epoch 52/100\n",
      "1963/1963 [==============================] - 0s 17us/step - loss: 1.3760 - acc: 0.3189\n",
      "Epoch 53/100\n",
      "1963/1963 [==============================] - 0s 17us/step - loss: 1.3747 - acc: 0.3189\n",
      "Epoch 54/100\n",
      "1963/1963 [==============================] - 0s 17us/step - loss: 1.3760 - acc: 0.3189\n",
      "Epoch 55/100\n",
      "1963/1963 [==============================] - 0s 17us/step - loss: 1.3752 - acc: 0.3189\n",
      "Epoch 56/100\n",
      "1963/1963 [==============================] - 0s 17us/step - loss: 1.3748 - acc: 0.3189\n",
      "Epoch 57/100\n",
      "1963/1963 [==============================] - 0s 16us/step - loss: 1.3756 - acc: 0.3189\n",
      "Epoch 58/100\n",
      "1963/1963 [==============================] - 0s 16us/step - loss: 1.3743 - acc: 0.3189\n",
      "Epoch 59/100\n",
      "1963/1963 [==============================] - 0s 17us/step - loss: 1.3747 - acc: 0.3189\n",
      "Epoch 60/100\n",
      "1963/1963 [==============================] - 0s 18us/step - loss: 1.3740 - acc: 0.3189\n",
      "Epoch 61/100\n",
      "1963/1963 [==============================] - 0s 15us/step - loss: 1.3734 - acc: 0.3189\n",
      "Epoch 62/100\n",
      "1963/1963 [==============================] - 0s 17us/step - loss: 1.3748 - acc: 0.3189\n",
      "Epoch 63/100\n",
      "1963/1963 [==============================] - 0s 17us/step - loss: 1.3762 - acc: 0.3189\n",
      "Epoch 64/100\n",
      "1963/1963 [==============================] - 0s 17us/step - loss: 1.3734 - acc: 0.3189\n",
      "Epoch 65/100\n",
      "1963/1963 [==============================] - 0s 17us/step - loss: 1.3755 - acc: 0.3189\n",
      "Epoch 66/100\n",
      "1963/1963 [==============================] - 0s 20us/step - loss: 1.3748 - acc: 0.3189\n",
      "Epoch 67/100\n",
      "1963/1963 [==============================] - 0s 18us/step - loss: 1.3741 - acc: 0.3189\n",
      "Epoch 68/100\n",
      "1963/1963 [==============================] - 0s 19us/step - loss: 1.3748 - acc: 0.3189\n",
      "Epoch 69/100\n",
      "1963/1963 [==============================] - 0s 17us/step - loss: 1.3739 - acc: 0.3189\n",
      "Epoch 70/100\n",
      "1963/1963 [==============================] - 0s 17us/step - loss: 1.3750 - acc: 0.3189\n",
      "Epoch 71/100\n",
      "1963/1963 [==============================] - 0s 20us/step - loss: 1.3738 - acc: 0.3189\n",
      "Epoch 72/100\n",
      "1963/1963 [==============================] - 0s 17us/step - loss: 1.3759 - acc: 0.3189\n",
      "Epoch 73/100\n",
      "1963/1963 [==============================] - 0s 18us/step - loss: 1.3759 - acc: 0.3189\n",
      "Epoch 74/100\n",
      "1963/1963 [==============================] - 0s 17us/step - loss: 1.3753 - acc: 0.3189\n",
      "Epoch 75/100\n",
      "1963/1963 [==============================] - 0s 17us/step - loss: 1.3746 - acc: 0.3189\n",
      "Epoch 76/100\n",
      "1963/1963 [==============================] - 0s 17us/step - loss: 1.3745 - acc: 0.3189\n",
      "Epoch 77/100\n",
      "1963/1963 [==============================] - 0s 16us/step - loss: 1.3752 - acc: 0.3189\n",
      "Epoch 78/100\n",
      "1963/1963 [==============================] - 0s 16us/step - loss: 1.3740 - acc: 0.3189\n",
      "Epoch 79/100\n",
      "1963/1963 [==============================] - 0s 21us/step - loss: 1.3748 - acc: 0.3189\n",
      "Epoch 80/100\n",
      "1963/1963 [==============================] - 0s 17us/step - loss: 1.3741 - acc: 0.3189\n",
      "Epoch 81/100\n",
      "1963/1963 [==============================] - 0s 15us/step - loss: 1.3746 - acc: 0.3189\n",
      "Epoch 82/100\n",
      "1963/1963 [==============================] - 0s 16us/step - loss: 1.3757 - acc: 0.3189\n",
      "Epoch 83/100\n",
      "1963/1963 [==============================] - 0s 16us/step - loss: 1.3743 - acc: 0.3189\n",
      "Epoch 84/100\n",
      "1963/1963 [==============================] - 0s 16us/step - loss: 1.3751 - acc: 0.3189\n",
      "Epoch 85/100\n",
      "1963/1963 [==============================] - 0s 16us/step - loss: 1.3746 - acc: 0.3189\n",
      "Epoch 86/100\n",
      "1963/1963 [==============================] - 0s 17us/step - loss: 1.3741 - acc: 0.3189\n",
      "Epoch 87/100\n",
      "1963/1963 [==============================] - 0s 19us/step - loss: 1.3754 - acc: 0.3189\n",
      "Epoch 88/100\n",
      "1963/1963 [==============================] - 0s 17us/step - loss: 1.3744 - acc: 0.3189\n",
      "Epoch 89/100\n"
     ]
    },
    {
     "name": "stdout",
     "output_type": "stream",
     "text": [
      "1963/1963 [==============================] - 0s 17us/step - loss: 1.3737 - acc: 0.3189\n",
      "Epoch 90/100\n",
      "1963/1963 [==============================] - 0s 18us/step - loss: 1.3741 - acc: 0.3189\n",
      "Epoch 91/100\n",
      "1963/1963 [==============================] - 0s 21us/step - loss: 1.3747 - acc: 0.3189\n",
      "Epoch 92/100\n",
      "1963/1963 [==============================] - 0s 14us/step - loss: 1.3751 - acc: 0.3189\n",
      "Epoch 93/100\n",
      "1963/1963 [==============================] - 0s 22us/step - loss: 1.3753 - acc: 0.3189\n",
      "Epoch 94/100\n",
      "1963/1963 [==============================] - 0s 22us/step - loss: 1.3749 - acc: 0.3189\n",
      "Epoch 95/100\n",
      "1963/1963 [==============================] - 0s 18us/step - loss: 1.3745 - acc: 0.3189\n",
      "Epoch 96/100\n",
      "1963/1963 [==============================] - 0s 15us/step - loss: 1.3737 - acc: 0.3189\n",
      "Epoch 97/100\n",
      "1963/1963 [==============================] - 0s 18us/step - loss: 1.3744 - acc: 0.3189\n",
      "Epoch 98/100\n",
      "1963/1963 [==============================] - 0s 15us/step - loss: 1.3751 - acc: 0.3189\n",
      "Epoch 99/100\n",
      "1963/1963 [==============================] - 0s 16us/step - loss: 1.3742 - acc: 0.3189\n",
      "Epoch 100/100\n",
      "1963/1963 [==============================] - 0s 18us/step - loss: 1.3744 - acc: 0.3189\n",
      "490/490 [==============================] - 0s 590us/step\n"
     ]
    }
   ],
   "source": [
    "from keras.wrappers.scikit_learn import KerasClassifier\n",
    "\n",
    "kclf = KerasClassifier(build_fn = build_ann, batch_size = 256, epochs = 100, input_size=5)\n",
    "accuracies = cross_val_score(estimator = kclf, X = X_vect_nl_ann, y = y_nn, cv = 5, n_jobs = 1)"
   ]
  },
  {
   "cell_type": "code",
   "execution_count": 27,
   "metadata": {
    "ExecuteTime": {
     "end_time": "2018-04-17T10:48:31.071867Z",
     "start_time": "2018-04-17T10:48:31.067732Z"
    }
   },
   "outputs": [
    {
     "name": "stdout",
     "output_type": "stream",
     "text": [
      "Mean Accuracy: 0.312262358417\n",
      "Standard Deviation: 0.0220326678423\n"
     ]
    }
   ],
   "source": [
    "print('Mean Accuracy:', accuracies.mean())\n",
    "print('Standard Deviation:', accuracies.std())"
   ]
  },
  {
   "cell_type": "markdown",
   "metadata": {},
   "source": [
    "We have very bad performances also on the training set. There is no reason in attempting any further tests."
   ]
  }
 ],
 "metadata": {
  "kernelspec": {
   "display_name": "Python 3",
   "language": "python",
   "name": "python3"
  },
  "language_info": {
   "codemirror_mode": {
    "name": "ipython",
    "version": 3
   },
   "file_extension": ".py",
   "mimetype": "text/x-python",
   "name": "python",
   "nbconvert_exporter": "python",
   "pygments_lexer": "ipython3",
   "version": "3.5.2"
  },
  "notify_time": "5",
  "toc": {
   "base_numbering": "1",
   "nav_menu": {
    "height": "260px",
    "width": "346px"
   },
   "number_sections": true,
   "sideBar": true,
   "skip_h1_title": false,
   "title_cell": "Table of Contents",
   "title_sidebar": "Contents",
   "toc_cell": true,
   "toc_position": {
    "height": "500px",
    "left": "45px",
    "top": "111px",
    "width": "295px"
   },
   "toc_section_display": true,
   "toc_window_display": true
  }
 },
 "nbformat": 4,
 "nbformat_minor": 2
}
