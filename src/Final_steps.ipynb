{
 "cells": [
  {
   "cell_type": "code",
   "execution_count": 1,
   "metadata": {},
   "outputs": [
    {
     "name": "stderr",
     "output_type": "stream",
     "text": [
      "/Users/saragiammusso/anaconda3/lib/python3.6/site-packages/h5py/__init__.py:36: FutureWarning: Conversion of the second argument of issubdtype from `float` to `np.floating` is deprecated. In future, it will be treated as `np.float64 == np.dtype(float).type`.\n",
      "  from ._conv import register_converters as _register_converters\n",
      "Using TensorFlow backend.\n"
     ]
    }
   ],
   "source": [
    "import spacy\n",
    "import numpy as np\n",
    "import pandas as pd\n",
    "import csv \n",
    "import sys\n",
    "import os\n",
    "\n",
    "from sklearn.preprocessing import LabelEncoder\n",
    "from sklearn.model_selection import cross_val_score, train_test_split\n",
    "from sklearn.model_selection import GridSearchCV\n",
    "from sklearn.metrics import confusion_matrix\n",
    "from sklearn.metrics import accuracy_score\n",
    "from sklearn.decomposition import PCA\n",
    "\n",
    "from keras.models import load_model\n",
    "\n",
    "import matplotlib.pyplot as plt\n",
    "import seaborn as sns\n",
    "sns.set_style(\"whitegrid\")\n",
    "sns.set_color_codes()\n"
   ]
  },
  {
   "cell_type": "markdown",
   "metadata": {},
   "source": [
    "# Model Selection"
   ]
  },
  {
   "cell_type": "code",
   "execution_count": 2,
   "metadata": {},
   "outputs": [],
   "source": [
    "# Reading both original datasets (<Artist, Song, Emotion>)\n",
    "moodyLyrics4QDF = pd.read_csv('./datasets/MoodyLyrics4Q.csv')\n",
    "moodyLyricsDF   = pd.read_csv('./datasets/moodylyrics_cleaned.csv')\n",
    "# and featurized ones (<Lyrics + features>)\n",
    "moodyLyrics4QFeat = pd.read_csv('./datasets/moodylyrics4q_featurized.csv')\n",
    "moodyLyricsFeat = pd.read_csv('./datasets/moodylyrics_featurized.csv')"
   ]
  },
  {
   "cell_type": "code",
   "execution_count": 3,
   "metadata": {},
   "outputs": [],
   "source": [
    "selected_columns = [\n",
    "   'LYRICS_VECTOR',\n",
    "   #'WORD_COUNT', \n",
    "   'ECHOISMS',\n",
    "   #'SELFISH_DEGREE', \n",
    "   'DUPLICATE_LINES', 'IS_TITLE_IN_LYRICS', \n",
    "   'VERB_PRESENT', \n",
    "   'VERB_PAST', 'VERB_FUTURE', 'ADJ_FREQUENCIES',\n",
    "   'PUNCT_FREQUENCIES',\n",
    "   'SENTIMENT', 'SUBJECTIVITY',\n",
    "   'EMOTION'\n",
    "]\n",
    "# Reduced dataset\n",
    "r_moodyLyrics4QFeat = moodyLyrics4QFeat[selected_columns]\n",
    "r_moodyLyricsFeat = moodyLyricsFeat[selected_columns]"
   ]
  },
  {
   "cell_type": "code",
   "execution_count": 22,
   "metadata": {},
   "outputs": [],
   "source": [
    "# Function to get X and y of the correct shape \n",
    "# X = (..., 310)\n",
    "# y = (...,)\n",
    "def get_X_y(dataset, emotion=True):\n",
    "    if emotion is True:\n",
    "        tmp_df = dataset.drop(['EMOTION'], axis=1)\n",
    "    else:\n",
    "        tmp_df = dataset\n",
    "    X = list()\n",
    "    for (i, row) in tmp_df.iterrows():\n",
    "        sub_list = list()\n",
    "        for field in row:\n",
    "            if type(field) == str:\n",
    "                field = field[1:-1].split()\n",
    "                sub_list += [float(x.replace('\\n','')) for x in field]\n",
    "            else:\n",
    "                sub_list.append(field)\n",
    "        X.append(np.array(sub_list))\n",
    "    X = np.array(X)\n",
    "    if emotion is True:\n",
    "        y = dataset['EMOTION'].as_matrix().T\n",
    "        return X, y\n",
    "    else:\n",
    "        return X\n",
    "\n",
    "# Get X and y for Neural Network\n",
    "# X_nn = (..., 310) but scaled\n",
    "# y_nn = (..., 4)\n",
    "def get_Xnn_ynn(X, y):\n",
    "    encoder = LabelEncoder()\n",
    "    encoded_y = encoder.fit_transform(y)\n",
    "    print(encoder.inverse_transform([0, 1, 2, 3]))\n",
    "    y_nn = np_utils.to_categorical(encoded_y)\n",
    "\n",
    "    sc = StandardScaler()\n",
    "    X_nn = sc.fit_transform(X)\n",
    "    return X_nn, y_nn"
   ]
  },
  {
   "cell_type": "markdown",
   "metadata": {},
   "source": [
    "## The model"
   ]
  },
  {
   "cell_type": "code",
   "execution_count": 5,
   "metadata": {},
   "outputs": [],
   "source": [
    "import keras\n",
    "from keras.models import Sequential\n",
    "from keras.layers import Dense, Dropout\n",
    "from keras.optimizers import SGD\n",
    "from sklearn.preprocessing import StandardScaler, MinMaxScaler\n",
    "from sklearn.model_selection import train_test_split\n",
    "from keras.utils import np_utils\n",
    "from keras.callbacks import EarlyStopping\n",
    "from sklearn.utils import class_weight\n",
    "    \n",
    "def build_ann(optimizer='adam', input_size=310):\n",
    "    classifier = Sequential()\n",
    "    \n",
    "    # Add input layer\n",
    "    classifier = Sequential()\n",
    "    # Add input layer\n",
    "    classifier.add(Dense(units = 175, kernel_initializer = 'random_normal', activation = 'sigmoid', input_dim = input_size))\n",
    "    classifier.add(Dropout(0.1))  \n",
    "    # Add hidden layers\n",
    "    classifier.add(Dense(units = 175, kernel_initializer = 'random_normal', activation = 'sigmoid'))\n",
    "    classifier.add(Dropout(0.1))             \n",
    "    #classifier.add(Dense(units = 150, kernel_initializer = 'random_normal', activation = 'sigmoid'))\n",
    "    #classifier.add(Dropout(0.5))  \n",
    "    # Add output layer\n",
    "    classifier.add(Dense(units = 4, kernel_initializer = 'random_normal', activation = 'softmax'))\n",
    "    \n",
    "    # Compiling the ANN\n",
    "    classifier.compile(optimizer=optimizer, loss = 'categorical_crossentropy', metrics = ['accuracy'])\n",
    "\n",
    "    return classifier"
   ]
  },
  {
   "cell_type": "markdown",
   "metadata": {},
   "source": [
    "## First Attempt: TRAIN:moodyLyrics TEST:moodyLyrics4Q"
   ]
  },
  {
   "cell_type": "code",
   "execution_count": 23,
   "metadata": {},
   "outputs": [
    {
     "name": "stderr",
     "output_type": "stream",
     "text": [
      "/Users/saragiammusso/anaconda3/lib/python3.6/site-packages/sklearn/preprocessing/label.py:151: DeprecationWarning: The truth value of an empty array is ambiguous. Returning False, but in future this will result in an error. Use `array.size > 0` to check that an array is not empty.\n",
      "  if diff:\n"
     ]
    },
    {
     "name": "stdout",
     "output_type": "stream",
     "text": [
      "['angry' 'happy' 'relaxed' 'sad']\n"
     ]
    },
    {
     "name": "stderr",
     "output_type": "stream",
     "text": [
      "/Users/saragiammusso/anaconda3/lib/python3.6/site-packages/sklearn/preprocessing/label.py:151: DeprecationWarning: The truth value of an empty array is ambiguous. Returning False, but in future this will result in an error. Use `array.size > 0` to check that an array is not empty.\n",
      "  if diff:\n"
     ]
    },
    {
     "name": "stdout",
     "output_type": "stream",
     "text": [
      "['angry' 'happy' 'relaxed' 'sad']\n",
      "Accuracy: 40.36\n",
      "Classifier saved to ./models/train_ml_test_ml4q.h5\n"
     ]
    }
   ],
   "source": [
    "'''\n",
    "Here we try to use moodyLyricsFeat as training set\n",
    "and moodyLyrics4QFeat as test set \n",
    "'''\n",
    "X_train, y_train = get_X_y(r_moodyLyricsFeat)\n",
    "X_train_nn, y_train_nn = get_Xnn_ynn(X_train, y_train)\n",
    "\n",
    "X_test, y_test = get_X_y(r_moodyLyrics4QFeat)\n",
    "X_test_nn, y_test_nn = get_Xnn_ynn(X_test,y_test)\n",
    "\n",
    "#labels = encoder.inverse_transform([0, 1, 2, 3])\n",
    "classifier = build_ann('adam')\n",
    "classifier.fit(X_train_nn, y_train_nn, batch_size = 128, epochs = 50, \n",
    "               validation_split=0.1, verbose=False)\n",
    "\n",
    "y_pred = classifier.predict(X_test_nn)\n",
    "y_pred = np.argmax(y_pred,axis=1)\n",
    "\n",
    "y_true = np.argmax(y_test_nn,axis=1)\n",
    "\n",
    "accuracy = accuracy_score(y_true, y_pred)\n",
    "print('Accuracy: %0.2f' % (accuracy*100))\n",
    "\n",
    "filename = './models/train_ml_test_ml4q.h5'\n",
    "classifier.save(filename)\n",
    "print('Classifier saved to', filename)"
   ]
  },
  {
   "cell_type": "markdown",
   "metadata": {},
   "source": [
    "## Second Attempt: TRAIN: moodyLyrics4Q, TEST: moodyLyrics"
   ]
  },
  {
   "cell_type": "code",
   "execution_count": 24,
   "metadata": {},
   "outputs": [
    {
     "name": "stderr",
     "output_type": "stream",
     "text": [
      "/Users/saragiammusso/anaconda3/lib/python3.6/site-packages/sklearn/preprocessing/label.py:151: DeprecationWarning: The truth value of an empty array is ambiguous. Returning False, but in future this will result in an error. Use `array.size > 0` to check that an array is not empty.\n",
      "  if diff:\n"
     ]
    },
    {
     "name": "stdout",
     "output_type": "stream",
     "text": [
      "['angry' 'happy' 'relaxed' 'sad']\n"
     ]
    },
    {
     "name": "stderr",
     "output_type": "stream",
     "text": [
      "/Users/saragiammusso/anaconda3/lib/python3.6/site-packages/sklearn/preprocessing/label.py:151: DeprecationWarning: The truth value of an empty array is ambiguous. Returning False, but in future this will result in an error. Use `array.size > 0` to check that an array is not empty.\n",
      "  if diff:\n"
     ]
    },
    {
     "name": "stdout",
     "output_type": "stream",
     "text": [
      "['angry' 'happy' 'relaxed' 'sad']\n",
      "Accuracy: 47.81\n",
      "Classifier saved to ./models/train_ml4q_test_ml.h5\n"
     ]
    }
   ],
   "source": [
    "'''\n",
    "Here we try to use moodyLyrics4QFeat as training set\n",
    "and moodyLyricsFeat as test set \n",
    "'''\n",
    "X_train, y_train = get_X_y(r_moodyLyrics4QFeat)\n",
    "X_train_nn, y_train_nn = get_Xnn_ynn(X_train, y_train)\n",
    "\n",
    "X_test, y_test = get_X_y(r_moodyLyricsFeat)\n",
    "X_test_nn, y_test_nn = get_Xnn_ynn(X_test,y_test)\n",
    "\n",
    "#labels = encoder.inverse_transform([0, 1, 2, 3])\n",
    "classifier = build_ann('adam')\n",
    "classifier.fit(X_train_nn, y_train_nn, batch_size = 128, epochs = 50, \n",
    "               validation_split=0.1, verbose=False)\n",
    "\n",
    "y_pred = classifier.predict(X_test_nn)\n",
    "y_pred = np.argmax(y_pred,axis=1)\n",
    "\n",
    "y_true = np.argmax(y_test_nn,axis=1)\n",
    "\n",
    "accuracy = accuracy_score(y_true, y_pred)\n",
    "print('Accuracy: %0.2f' % (accuracy*100))\n",
    "\n",
    "filename = './models/train_ml4q_test_ml.h5'\n",
    "classifier.save(filename)\n",
    "print('Classifier saved to', filename)"
   ]
  },
  {
   "cell_type": "markdown",
   "metadata": {},
   "source": [
    "## Third Attempt: MoodyLyrics Alone"
   ]
  },
  {
   "cell_type": "code",
   "execution_count": 25,
   "metadata": {},
   "outputs": [
    {
     "name": "stderr",
     "output_type": "stream",
     "text": [
      "/Users/saragiammusso/anaconda3/lib/python3.6/site-packages/sklearn/preprocessing/label.py:151: DeprecationWarning: The truth value of an empty array is ambiguous. Returning False, but in future this will result in an error. Use `array.size > 0` to check that an array is not empty.\n",
      "  if diff:\n"
     ]
    },
    {
     "name": "stdout",
     "output_type": "stream",
     "text": [
      "['angry' 'happy' 'relaxed' 'sad']\n",
      "Accuracy: 86.75\n",
      "Classifier saved to ./models/ml_alone.h5\n"
     ]
    }
   ],
   "source": [
    "'''\n",
    "Here we try to use moodyLyricsFeat alone, both for training and for test\n",
    "'''\n",
    "X, y = get_X_y(r_moodyLyricsFeat)\n",
    "X_nn, y_nn = get_Xnn_ynn(X, y)\n",
    "\n",
    "X_train_nn, X_test_nn,  y_train_nn, y_test_nn = train_test_split(X_nn, y_nn, test_size = 0.2)\n",
    "\n",
    "#labels = encoder.inverse_transform([0, 1, 2, 3])\n",
    "classifier = build_ann('adam')\n",
    "classifier.fit(X_train_nn, y_train_nn, batch_size = 128, epochs = 50, \n",
    "               validation_split=0.1, verbose=False)\n",
    "\n",
    "y_pred = classifier.predict(X_test_nn)\n",
    "y_pred = np.argmax(y_pred,axis=1)\n",
    "\n",
    "y_true = np.argmax(y_test_nn,axis=1)\n",
    "\n",
    "accuracy = accuracy_score(y_true, y_pred)\n",
    "print('Accuracy: %0.2f' % (accuracy*100))\n",
    "filename = './models/ml_alone.h5'\n",
    "classifier.save(filename)\n",
    "print('Classifier saved to', filename)"
   ]
  },
  {
   "cell_type": "markdown",
   "metadata": {},
   "source": [
    "## Fourth attempt: MoodyLyrics4Q alone"
   ]
  },
  {
   "cell_type": "code",
   "execution_count": 114,
   "metadata": {},
   "outputs": [
    {
     "name": "stdout",
     "output_type": "stream",
     "text": [
      "Accuracy: 56.07\n",
      "Classifier saved to ./models/ml4q_alone.h5\n"
     ]
    }
   ],
   "source": [
    "'''\n",
    "Here we try to use moodyLyrics4QFeat alone, both for training and for test\n",
    "'''\n",
    "X, y = get_X_y(r_moodyLyrics4QFeat)\n",
    "X_nn, y_nn = get_Xnn_ynn(X, y)\n",
    "\n",
    "X_train_nn, X_test_nn,  y_train_nn, y_test_nn = train_test_split(X_nn, y_nn, test_size = 0.2)\n",
    "\n",
    "#labels = encoder.inverse_transform([0, 1, 2, 3])\n",
    "classifier = build_ann('adam')\n",
    "classifier.fit(X_train_nn, y_train_nn, batch_size = 512, epochs = 100, \n",
    "               validation_split=0.3, verbose=False)\n",
    "\n",
    "y_pred = classifier.predict(X_test_nn)\n",
    "y_pred = np.argmax(y_pred,axis=1)\n",
    "\n",
    "y_true = np.argmax(y_test_nn,axis=1)\n",
    "\n",
    "accuracy = accuracy_score(y_true, y_pred)\n",
    "print('Accuracy: %0.2f' % (accuracy*100))\n",
    "\n",
    "filename = './models/ml4q_alone.h5'\n",
    "classifier.save(filename)\n",
    "print('Classifier saved to', filename)"
   ]
  },
  {
   "cell_type": "markdown",
   "metadata": {},
   "source": [
    "## Fifth Attempt: Together"
   ]
  },
  {
   "cell_type": "code",
   "execution_count": 115,
   "metadata": {},
   "outputs": [
    {
     "name": "stdout",
     "output_type": "stream",
     "text": [
      "Accuracy: 68.93\n",
      "Classifier saved to ./models/ml_ml4q.h5\n"
     ]
    }
   ],
   "source": [
    "'''\n",
    "Here we try to use moodyLyricsFeat + moodyLyrics4QFeat together\n",
    "'''\n",
    "\n",
    "joint_dataset = pd.concat([r_moodyLyricsFeat , r_moodyLyrics4QFeat])\n",
    "X, y = get_X_y(joint_dataset)\n",
    "X_nn, y_nn = get_Xnn_ynn(X, y)\n",
    "\n",
    "X_train_nn, X_test_nn,  y_train_nn, y_test_nn = train_test_split(X_nn, y_nn, test_size = 0.2)\n",
    "\n",
    "#labels = encoder.inverse_transform([0, 1, 2, 3])\n",
    "classifier = build_ann('adam')\n",
    "classifier.fit(X_train_nn, y_train_nn, batch_size = 128, epochs = 50, \n",
    "               validation_split=0.1, verbose=False)\n",
    "\n",
    "y_pred = classifier.predict(X_test_nn)\n",
    "y_pred = np.argmax(y_pred,axis=1)\n",
    "\n",
    "y_true = np.argmax(y_test_nn,axis=1)\n",
    "\n",
    "accuracy = accuracy_score(y_true, y_pred)\n",
    "print('Accuracy: %0.2f' % (accuracy*100))\n",
    "\n",
    "filename = './models/ml_ml4q.h5'\n",
    "classifier.save(filename)\n",
    "print('Classifier saved to', filename)"
   ]
  },
  {
   "cell_type": "markdown",
   "metadata": {},
   "source": [
    "# Playlist Test File"
   ]
  },
  {
   "cell_type": "code",
   "execution_count": 10,
   "metadata": {},
   "outputs": [],
   "source": [
    "emotion_labels = {'^rage!': 'angry', 'crying$': 'sad', 'party!': 'happy', 'sleeping':'relaxed'}\n",
    "path = './datasets/silver_standard/'\n",
    "\n",
    "playlist_test = list()\n",
    "songs = list()\n",
    "\n",
    "for dir in os.listdir(path):\n",
    "    if dir in emotion_labels:\n",
    "        for filename in os.listdir(os.path.join(path,dir)):\n",
    "            # Create a list with <Playlist_PID, Playlist_Emotion>\n",
    "            ppid = filename.split('.')[0]\n",
    "            pemotion = emotion_labels[dir]\n",
    "            playlist_test.append((ppid, pemotion))\n",
    "            # Create a list with <Playlist_PID, TrackName, ArtistName>\n",
    "            f = open(os.path.join(path, dir+'/'+filename), 'r')\n",
    "            reader = csv.reader(f)\n",
    "            headers = next(reader, None)\n",
    "            for row in reader:\n",
    "                songs.append((ppid, row[2], row[4]))\n",
    "\n",
    "playlist_testDF = pd.DataFrame(playlist_test, columns=['PID','Emotion'])\n",
    "songs_testDF = pd.DataFrame(songs, columns=['Pid','Title','Artist'])          \n",
    "\n",
    "playlist_testDF.to_csv(os.path.join(path, 'playlist_test.csv'))\n",
    "songs_testDF.to_csv(os.path.join(path, 'songs_test.csv'))"
   ]
  },
  {
   "cell_type": "code",
   "execution_count": 11,
   "metadata": {},
   "outputs": [
    {
     "data": {
      "text/html": [
       "<div>\n",
       "<style scoped>\n",
       "    .dataframe tbody tr th:only-of-type {\n",
       "        vertical-align: middle;\n",
       "    }\n",
       "\n",
       "    .dataframe tbody tr th {\n",
       "        vertical-align: top;\n",
       "    }\n",
       "\n",
       "    .dataframe thead th {\n",
       "        text-align: right;\n",
       "    }\n",
       "</style>\n",
       "<table border=\"1\" class=\"dataframe\">\n",
       "  <thead>\n",
       "    <tr style=\"text-align: right;\">\n",
       "      <th></th>\n",
       "      <th>PID</th>\n",
       "      <th>Emotion</th>\n",
       "    </tr>\n",
       "  </thead>\n",
       "  <tbody>\n",
       "    <tr>\n",
       "      <th>0</th>\n",
       "      <td>130767</td>\n",
       "      <td>angry</td>\n",
       "    </tr>\n",
       "    <tr>\n",
       "      <th>1</th>\n",
       "      <td>176336</td>\n",
       "      <td>angry</td>\n",
       "    </tr>\n",
       "    <tr>\n",
       "      <th>2</th>\n",
       "      <td>213226</td>\n",
       "      <td>angry</td>\n",
       "    </tr>\n",
       "    <tr>\n",
       "      <th>3</th>\n",
       "      <td>2466</td>\n",
       "      <td>angry</td>\n",
       "    </tr>\n",
       "    <tr>\n",
       "      <th>4</th>\n",
       "      <td>317182</td>\n",
       "      <td>angry</td>\n",
       "    </tr>\n",
       "  </tbody>\n",
       "</table>\n",
       "</div>"
      ],
      "text/plain": [
       "      PID Emotion\n",
       "0  130767   angry\n",
       "1  176336   angry\n",
       "2  213226   angry\n",
       "3    2466   angry\n",
       "4  317182   angry"
      ]
     },
     "execution_count": 11,
     "metadata": {},
     "output_type": "execute_result"
    }
   ],
   "source": [
    "playlist_testDF.head(5)"
   ]
  },
  {
   "cell_type": "code",
   "execution_count": 12,
   "metadata": {},
   "outputs": [
    {
     "data": {
      "text/html": [
       "<div>\n",
       "<style scoped>\n",
       "    .dataframe tbody tr th:only-of-type {\n",
       "        vertical-align: middle;\n",
       "    }\n",
       "\n",
       "    .dataframe tbody tr th {\n",
       "        vertical-align: top;\n",
       "    }\n",
       "\n",
       "    .dataframe thead th {\n",
       "        text-align: right;\n",
       "    }\n",
       "</style>\n",
       "<table border=\"1\" class=\"dataframe\">\n",
       "  <thead>\n",
       "    <tr style=\"text-align: right;\">\n",
       "      <th></th>\n",
       "      <th>Pid</th>\n",
       "      <th>Title</th>\n",
       "      <th>Artist</th>\n",
       "    </tr>\n",
       "  </thead>\n",
       "  <tbody>\n",
       "    <tr>\n",
       "      <th>0</th>\n",
       "      <td>130767</td>\n",
       "      <td>This Girl (Kungs Vs. Cookin' On 3 Burners) - K...</td>\n",
       "      <td>Kungs</td>\n",
       "    </tr>\n",
       "    <tr>\n",
       "      <th>1</th>\n",
       "      <td>130767</td>\n",
       "      <td>Cocaine Model</td>\n",
       "      <td>ZHU</td>\n",
       "    </tr>\n",
       "    <tr>\n",
       "      <th>2</th>\n",
       "      <td>130767</td>\n",
       "      <td>Middle</td>\n",
       "      <td>DJ Snake</td>\n",
       "    </tr>\n",
       "    <tr>\n",
       "      <th>3</th>\n",
       "      <td>130767</td>\n",
       "      <td>This Is What You Came For</td>\n",
       "      <td>Calvin Harris</td>\n",
       "    </tr>\n",
       "    <tr>\n",
       "      <th>4</th>\n",
       "      <td>130767</td>\n",
       "      <td>Clarity</td>\n",
       "      <td>Zedd</td>\n",
       "    </tr>\n",
       "  </tbody>\n",
       "</table>\n",
       "</div>"
      ],
      "text/plain": [
       "      Pid                                              Title         Artist\n",
       "0  130767  This Girl (Kungs Vs. Cookin' On 3 Burners) - K...          Kungs\n",
       "1  130767                                      Cocaine Model            ZHU\n",
       "2  130767                                             Middle       DJ Snake\n",
       "3  130767                          This Is What You Came For  Calvin Harris\n",
       "4  130767                                            Clarity           Zedd"
      ]
     },
     "execution_count": 12,
     "metadata": {},
     "output_type": "execute_result"
    }
   ],
   "source": [
    "songs_testDF.head(5)"
   ]
  },
  {
   "cell_type": "markdown",
   "metadata": {},
   "source": [
    "# Classify Playlist"
   ]
  },
  {
   "cell_type": "markdown",
   "metadata": {},
   "source": [
    "## Generate featurized song DF"
   ]
  },
  {
   "cell_type": "markdown",
   "metadata": {},
   "source": [
    "### Download lyrics"
   ]
  },
  {
   "cell_type": "code",
   "execution_count": 109,
   "metadata": {},
   "outputs": [
    {
     "name": "stdout",
     "output_type": "stream",
     "text": [
      "1538/2081543 errors over 2081\n"
     ]
    }
   ],
   "source": [
    "import lyricwikia \n",
    "path = './datasets/silver_standard/lyrics'\n",
    "count = 0\n",
    "errors = 0\n",
    "total = len(songs_testDF)\n",
    "for idx, row in songs_testDF.iterrows():\n",
    "    try: \n",
    "        lyric = lyricwikia.get_lyrics(row['Artist'], row['Title'])\n",
    "        filename = row['PID'] + '_' + row['Artist'] + '_' + row['Title'] + '.txt'\n",
    "        filename = filename.replace(\"/\", \" \")\n",
    "        with open(os.path.join(path, filename), 'w') as sfile:\n",
    "            sfile.write(lyric)\n",
    "        count += 1\n",
    "        sys.stdout.write(\"\\r\" + str(count) + '/' + str(total))\n",
    "        sys.stdout.flush()\n",
    "    except lyricwikia.LyricsNotFound:\n",
    "        errors += 1\n",
    "        #print('Could not download', row['Artist'], row['Title'])\n",
    "        \n",
    "print(errors, 'errors over', len(songs_testDF))"
   ]
  },
  {
   "cell_type": "markdown",
   "metadata": {},
   "source": [
    "## Song Classification"
   ]
  },
  {
   "cell_type": "code",
   "execution_count": 13,
   "metadata": {},
   "outputs": [
    {
     "name": "stdout",
     "output_type": "stream",
     "text": [
      "Total songs in the dataset 1536 instead of 2081\n"
     ]
    }
   ],
   "source": [
    "'''\n",
    "First we have to create a new dataset with the songs for which\n",
    "we succeed in downloading the lyrics\n",
    "'''\n",
    "path = './datasets/silver_standard/lyrics'\n",
    "songs = list()\n",
    "for song in os.listdir(path):\n",
    "    row = song.split('_')\n",
    "    if len(row) == 3:\n",
    "        pid, artist, title = row\n",
    "        title = title.split('.')[0]\n",
    "        songs.append((pid,title,artist))\n",
    "\n",
    "songsDF = pd.DataFrame(data = songs, columns = ['PID','Title','Artist'])\n",
    "print('Total songs in the dataset', len(songsDF),'instead of', len(songs_testDF))"
   ]
  },
  {
   "cell_type": "code",
   "execution_count": 15,
   "metadata": {},
   "outputs": [],
   "source": [
    "songsDF.to_csv('./datasets/silver_standard/songsDF.csv')"
   ]
  },
  {
   "cell_type": "code",
   "execution_count": 223,
   "metadata": {},
   "outputs": [
    {
     "name": "stdout",
     "output_type": "stream",
     "text": [
      "There were 40 playlists.\n",
      "Now, there are 38 playlists.\n"
     ]
    },
    {
     "data": {
      "image/png": "[encoded data removed]",
      "text/plain": [
       "<matplotlib.figure.Figure at 0x1a3806ce48>"
      ]
     },
     "metadata": {},
     "output_type": "display_data"
    }
   ],
   "source": [
    "'''\n",
    "Since we know that we weren't able to download all the lyrics\n",
    "we want to see how this has impacted our playlists \n",
    "'''\n",
    "\n",
    "before = songs_testDF['Pid'].value_counts().sort_index()\n",
    "after = songsDF['PID'].value_counts().sort_index()\n",
    "df = pd.concat([before, after], axis=1)\n",
    "df.columns = ['Before','After']\n",
    "df = df.sort_values(by = 'Before', ascending=False)\n",
    "\n",
    "print('There were', len(before), 'playlists.')\n",
    "print('Now, there are',len(after),'playlists.')\n",
    "plt.figure(figsize=(10,4 ))\n",
    "plt.title('Really available songs for playlist',fontsize=20, fontweight='bold')\n",
    "ax = sns.barplot(x=np.array(range(len(df))),y=df['Before'], palette='Blues_r', label='Before')\n",
    "ax = sns.barplot(x=np.array(range(len(df))),y=df['After'], ax=ax, palette='Greens', label='After')\n",
    "plt.legend()\n",
    "b = ax.set_xlabel('Playlist PID',fontsize=13, fontweight='bold')\n",
    "b = ax.set_ylabel('Song count',fontsize=13, fontweight='bold')"
   ]
  },
  {
   "cell_type": "code",
   "execution_count": 226,
   "metadata": {},
   "outputs": [
    {
     "data": {
      "image/png": "[encoded data removed]",
      "text/plain": [
       "<matplotlib.figure.Figure at 0x1a3bba2f98>"
      ]
     },
     "metadata": {},
     "output_type": "display_data"
    }
   ],
   "source": [
    "percentage = df['After']/df['Before'] * 100\n",
    "percentage = percentage.sort_values(ascending=False)\n",
    "plt.figure(figsize=(10,4 ))\n",
    "plt.title('Percentage of available songs per playlist',fontsize=20, fontweight='bold')\n",
    "ax = sns.barplot(x=np.array(range(len(before))),y=percentage, palette='Blues_r')\n",
    "b = ax.set_xlabel('Playlist PID',fontsize=13, fontweight='bold')\n",
    "b = ax.set_ylabel('Percentage',fontsize=13, fontweight='bold')\n"
   ]
  },
  {
   "cell_type": "code",
   "execution_count": 18,
   "metadata": {},
   "outputs": [],
   "source": [
    "'''\n",
    "Now we want to featurize our song dataset\n",
    "\n",
    "FIRST: we load the spaCy model\n",
    "\n",
    "'''\n",
    "import spacy\n",
    "from utils.dataset_parsing import *\n",
    "import utils.sentiment_analysis as sa\n",
    "import io\n",
    "\n",
    "nlp = spacy.load('en_core_web_lg')\n",
    "nlp.vocab.add_flag(lambda s: s.lower() in spacy.lang.en.stop_words.STOP_WORDS, spacy.attrs.IS_STOP)\n",
    "path = './datasets/silver_standard/lyrics'\n",
    "count = 0\n"
   ]
  },
  {
   "cell_type": "code",
   "execution_count": 20,
   "metadata": {},
   "outputs": [
    {
     "name": "stdout",
     "output_type": "stream",
     "text": [
      "1461/1536"
     ]
    }
   ],
   "source": [
    "'''\n",
    "SECOND: we featurize the dataset \n",
    "'''\n",
    "rows = list() \n",
    "for idx, row in songsDF.iterrows():\n",
    "    fname = row['PID'] + '_' + row['Artist'] + '_' + row['Title'] + '.txt'\n",
    "    fname = os.path.join(path, fname)\n",
    "    if os.path.lexists(fname):\n",
    "        with io.open(fname, 'r', encoding='utf-8', errors='replace') as f:\n",
    "            content = f.read()\n",
    "            lyric_doc = nlp(content)\n",
    "            title_doc = nlp(row['Title'])\n",
    "\n",
    "            lyric = preprocess(content)#lyric_doc.text)\n",
    "            features = feature_extraction(lyric, row['Title'])\n",
    "\n",
    "            freq = features['frequencies'] \n",
    "\n",
    "            sentiment = sa.analyse(content)\n",
    "\n",
    "            elem = (\n",
    "              row['PID'],\n",
    "              row['Artist'], row['Title'],\n",
    "              lyric_doc.vector, title_doc.vector,\n",
    "              features['line_count'], features['word_count'],#get_line_count(lyric), get_word_count(lyric),\n",
    "              #get_slang_counts(lyric),\n",
    "              features['echoisms'], features['selfish'],#get_echoisms(lyric), get_selfish_degree(lyric),\n",
    "              count_duplicate_lines(lyric), features['is_title_in_lyrics'],# (row['Song'], lyric),\n",
    "              features['rhymes'],#get_rhymes(lyric),\n",
    "              features['verb_tenses']['present'], features['verb_tenses']['past'], features['verb_tenses']['future'], #verb_freq['present'], verb_freq['past'], verb_freq['future'],\n",
    "              freq['ADJ'], freq['ADP'], freq['ADV'], freq['AUX'], freq['CONJ'], \n",
    "              freq['CCONJ'], freq['DET'], freq['INTJ'], freq['NOUN'], freq['NUM'],\n",
    "              freq['PART'], freq['PRON'], freq['PROPN'], freq['PUNCT'], freq['SCONJ'],\n",
    "              freq['SYM'], freq['VERB'], freq['X'], freq['SPACE'],\n",
    "              # Sentiment analysis stuff\n",
    "              sentiment[0], sentiment[1]\n",
    "            )\n",
    "\n",
    "            rows.append(elem)\n",
    "            count += 1\n",
    "            sys.stdout.write(\"\\r\" + str(count) + '/' + str(len(songsDF)))\n",
    "            sys.stdout.flush()\n",
    "            \n",
    "            \n",
    "songsFeat = pd.DataFrame(rows)\n",
    "songsFeat.columns = ['PLAYLIST_PID', 'ARTIST', 'SONG_TITLE', 'LYRICS_VECTOR', 'TITLE_VECTOR', \n",
    "        'LINE_COUNT', 'WORD_COUNT', 'ECHOISMS', 'SELFISH_DEGREE', \n",
    "        'DUPLICATE_LINES', 'IS_TITLE_IN_LYRICS', 'RHYMES', 'VERB_PRESENT', \n",
    "        'VERB_PAST', 'VERB_FUTURE', 'ADJ_FREQUENCIES', 'CONJUCTION_FREQUENCIES', \n",
    "        'ADV_FREQUENCIES', 'AUX_FREQUENCIES', 'CONJ_FREQUENCIES', 'CCONJ_FREQUENCIES', \n",
    "        'DETERMINER_FREQUENCIES', 'INTERJECTION_FREQUENCIES', 'NOUN_FREQUENCIES', \n",
    "        'NUM_FREQUENCIES', 'PART_FREQUENCIES', 'PRON_FREQUENCIES', 'PROPN_FREQUENCIES', \n",
    "        'PUNCT_FREQUENCIES', 'SCONJ_FREQUENCIES', 'SYM_FREQUENCIES', 'VERB_FREQUENCIES',\n",
    "        'X_FREQUENCIES', 'SPACE_FREQUENCIES', \n",
    "        'SENTIMENT', 'SUBJECTIVITY'\n",
    "  ]"
   ]
  },
  {
   "cell_type": "markdown",
   "metadata": {},
   "source": [
    "For some reason we only featurized 1461 songs instead of 1536"
   ]
  },
  {
   "cell_type": "code",
   "execution_count": 21,
   "metadata": {},
   "outputs": [
    {
     "name": "stdout",
     "output_type": "stream",
     "text": [
      "(1461, 36)\n"
     ]
    }
   ],
   "source": [
    "songsFeat.to_csv('./datasets/silver_standard/songs_featurized2.csv')\n",
    "print(songsFeat.shape)"
   ]
  },
  {
   "cell_type": "code",
   "execution_count": 28,
   "metadata": {},
   "outputs": [],
   "source": [
    "'''\n",
    "Now we can finally classify songs \n",
    "\n",
    "'''\n",
    "songsFeat = pd.read_csv('./datasets/silver_standard/songs_featurized2.csv')\n",
    "path = './models'\n",
    "selected_columns = [\n",
    "   'PLAYLIST_PID',\n",
    "   'LYRICS_VECTOR',\n",
    "   #'WORD_COUNT', \n",
    "   'ECHOISMS',\n",
    "   #'SELFISH_DEGREE', \n",
    "   'DUPLICATE_LINES', 'IS_TITLE_IN_LYRICS', \n",
    "   'VERB_PRESENT', \n",
    "   'VERB_PAST', 'VERB_FUTURE', 'ADJ_FREQUENCIES',\n",
    "   'PUNCT_FREQUENCIES',\n",
    "   'SENTIMENT', 'SUBJECTIVITY'\n",
    "]\n",
    "r_songsFeat = songsFeat[selected_columns]\n",
    "X = get_X_y(r_songsFeat.drop('PLAYLIST_PID',axis=1), emotion=False)\n",
    "sc = StandardScaler()\n",
    "X_nn = sc.fit_transform(X)\n",
    "'''\n",
    "At the end we just have 3 models:\n",
    "    - MoodyLyrics alone\n",
    "    - MoodyLyrics4Q alone\n",
    "    - both together\n",
    "'''\n",
    "n_models = 3\n",
    "\n",
    "predictions = np.ones((n_models, len(X), 4))\n",
    "models = ['ml_alone.h5','ml4q_alone.h5', 'ml_ml4q.h5']\n",
    "i = 0\n",
    "\n",
    "for filename in models:\n",
    "    model = load_model(os.path.join(path,filename))\n",
    "    y_pred = model.predict(X_nn)\n",
    "    predictions[i,:,:] = y_pred\n",
    "    i += 1"
   ]
  },
  {
   "cell_type": "code",
   "execution_count": 36,
   "metadata": {},
   "outputs": [],
   "source": [
    "'''\n",
    "Now we want to append the Emotion columns (4), to SongFeat\n",
    "considering the 3 different models. \n",
    "Let's start with the first --- ml_alone.h5\n",
    "'''\n",
    "\n",
    "predictionsDF = pd.DataFrame(data = predictions[0], columns = ['angry', 'happy','relaxed' ,'sad'])\n",
    "songsFeat_ml_alone = pd.concat([songsFeat, predictionsDF], axis=1)\n",
    "\n",
    "'''\n",
    "Now the second --- ml4q_alone.h5\n",
    "'''\n",
    "predictionsDF = pd.DataFrame(data = predictions[1], columns = ['angry', 'happy','relaxed' ,'sad'])\n",
    "songsFeat_ml4q_alone = pd.concat([songsFeat, predictionsDF], axis=1)\n",
    "\n",
    "\n",
    "'''\n",
    "And the third --- ml_ml4q.h5\n",
    "'''\n",
    "predictionsDF = pd.DataFrame(data = predictions[2], columns = ['angry', 'happy','relaxed' ,'sad'])\n",
    "songsFeat_ml_ml4q = pd.concat([songsFeat, predictionsDF], axis=1)\n"
   ]
  },
  {
   "cell_type": "markdown",
   "metadata": {},
   "source": [
    "## Playlist Classification\n",
    "\n",
    "Now we are ready to classify playlists.<br>\n",
    "First step: we want to create a dataframe with 'Playlist_pid, playlist_emotion_vector', where 'emotion_vector' is the mean of the emotion vectors of the songs in that playlist."
   ]
  },
  {
   "cell_type": "code",
   "execution_count": 93,
   "metadata": {},
   "outputs": [
    {
     "data": {
      "text/html": [
       "<div>\n",
       "<style scoped>\n",
       "    .dataframe tbody tr th:only-of-type {\n",
       "        vertical-align: middle;\n",
       "    }\n",
       "\n",
       "    .dataframe tbody tr th {\n",
       "        vertical-align: top;\n",
       "    }\n",
       "\n",
       "    .dataframe thead th {\n",
       "        text-align: right;\n",
       "    }\n",
       "</style>\n",
       "<table border=\"1\" class=\"dataframe\">\n",
       "  <thead>\n",
       "    <tr style=\"text-align: right;\">\n",
       "      <th></th>\n",
       "      <th>PLAYLIST_PID</th>\n",
       "      <th>angry</th>\n",
       "      <th>happy</th>\n",
       "      <th>relaxed</th>\n",
       "      <th>sad</th>\n",
       "      <th>PID</th>\n",
       "      <th>Emotion</th>\n",
       "    </tr>\n",
       "  </thead>\n",
       "  <tbody>\n",
       "    <tr>\n",
       "      <th>0</th>\n",
       "      <td>2100</td>\n",
       "      <td>0.274648</td>\n",
       "      <td>0.253071</td>\n",
       "      <td>0.266036</td>\n",
       "      <td>0.206246</td>\n",
       "      <td>2100</td>\n",
       "      <td>happy</td>\n",
       "    </tr>\n",
       "    <tr>\n",
       "      <th>1</th>\n",
       "      <td>2466</td>\n",
       "      <td>0.675195</td>\n",
       "      <td>0.102375</td>\n",
       "      <td>0.035419</td>\n",
       "      <td>0.187011</td>\n",
       "      <td>2466</td>\n",
       "      <td>angry</td>\n",
       "    </tr>\n",
       "    <tr>\n",
       "      <th>2</th>\n",
       "      <td>2575</td>\n",
       "      <td>0.000026</td>\n",
       "      <td>0.065398</td>\n",
       "      <td>0.934437</td>\n",
       "      <td>0.000138</td>\n",
       "      <td>2575</td>\n",
       "      <td>happy</td>\n",
       "    </tr>\n",
       "    <tr>\n",
       "      <th>3</th>\n",
       "      <td>3529</td>\n",
       "      <td>0.206754</td>\n",
       "      <td>0.242471</td>\n",
       "      <td>0.470642</td>\n",
       "      <td>0.080132</td>\n",
       "      <td>3529</td>\n",
       "      <td>relaxed</td>\n",
       "    </tr>\n",
       "    <tr>\n",
       "      <th>4</th>\n",
       "      <td>3553</td>\n",
       "      <td>0.311585</td>\n",
       "      <td>0.189980</td>\n",
       "      <td>0.262325</td>\n",
       "      <td>0.236111</td>\n",
       "      <td>3553</td>\n",
       "      <td>happy</td>\n",
       "    </tr>\n",
       "    <tr>\n",
       "      <th>5</th>\n",
       "      <td>6721</td>\n",
       "      <td>0.079163</td>\n",
       "      <td>0.510674</td>\n",
       "      <td>0.257736</td>\n",
       "      <td>0.152427</td>\n",
       "      <td>6721</td>\n",
       "      <td>relaxed</td>\n",
       "    </tr>\n",
       "    <tr>\n",
       "      <th>6</th>\n",
       "      <td>8570</td>\n",
       "      <td>0.447677</td>\n",
       "      <td>0.128973</td>\n",
       "      <td>0.186982</td>\n",
       "      <td>0.236368</td>\n",
       "      <td>8570</td>\n",
       "      <td>happy</td>\n",
       "    </tr>\n",
       "    <tr>\n",
       "      <th>7</th>\n",
       "      <td>8658</td>\n",
       "      <td>0.154163</td>\n",
       "      <td>0.404654</td>\n",
       "      <td>0.291073</td>\n",
       "      <td>0.150110</td>\n",
       "      <td>8658</td>\n",
       "      <td>happy</td>\n",
       "    </tr>\n",
       "    <tr>\n",
       "      <th>8</th>\n",
       "      <td>9655</td>\n",
       "      <td>0.062331</td>\n",
       "      <td>0.226563</td>\n",
       "      <td>0.197215</td>\n",
       "      <td>0.513890</td>\n",
       "      <td>9655</td>\n",
       "      <td>happy</td>\n",
       "    </tr>\n",
       "    <tr>\n",
       "      <th>9</th>\n",
       "      <td>10224</td>\n",
       "      <td>0.313787</td>\n",
       "      <td>0.146255</td>\n",
       "      <td>0.246128</td>\n",
       "      <td>0.293831</td>\n",
       "      <td>10224</td>\n",
       "      <td>happy</td>\n",
       "    </tr>\n",
       "  </tbody>\n",
       "</table>\n",
       "</div>"
      ],
      "text/plain": [
       "   PLAYLIST_PID     angry     happy   relaxed       sad    PID  Emotion\n",
       "0          2100  0.274648  0.253071  0.266036  0.206246   2100    happy\n",
       "1          2466  0.675195  0.102375  0.035419  0.187011   2466    angry\n",
       "2          2575  0.000026  0.065398  0.934437  0.000138   2575    happy\n",
       "3          3529  0.206754  0.242471  0.470642  0.080132   3529  relaxed\n",
       "4          3553  0.311585  0.189980  0.262325  0.236111   3553    happy\n",
       "5          6721  0.079163  0.510674  0.257736  0.152427   6721  relaxed\n",
       "6          8570  0.447677  0.128973  0.186982  0.236368   8570    happy\n",
       "7          8658  0.154163  0.404654  0.291073  0.150110   8658    happy\n",
       "8          9655  0.062331  0.226563  0.197215  0.513890   9655    happy\n",
       "9         10224  0.313787  0.146255  0.246128  0.293831  10224    happy"
      ]
     },
     "execution_count": 93,
     "metadata": {},
     "output_type": "execute_result"
    }
   ],
   "source": [
    "'''\n",
    "FIRST:\n",
    "For each model we want to create a dataframe with \n",
    "        < Playlist_PID, emotion_vector > \n",
    "where <emotion_vector> is the \"mean\" of the emotion vectors of the songs in that playlist\n",
    "'''\n",
    "emotion_labels = ['angry', 'happy','relaxed' ,'sad']\n",
    "map_mean = dict()\n",
    "for emotion in emotion_labels:\n",
    "    map_mean[emotion] = 'mean'\n",
    "    \n",
    "playlistDf_ml_alone = songsFeat_ml_alone.groupby(by='PLAYLIST_PID',as_index=False).agg(map_mean)\n",
    "playlistDf_ml4q_alone = songsFeat_ml4q_alone.groupby(by='PLAYLIST_PID',as_index=False).agg(map_mean)\n",
    "playlistDf_ml_ml4q = songsFeat_ml_ml4q.groupby(by='PLAYLIST_PID',as_index=False).agg(map_mean)\n",
    "\n",
    "'''\n",
    "SECOND:\n",
    "we join the previous dataframes with the real predictions\n",
    "\n",
    "'''\n",
    "\n",
    "playlist_testDF.PID = playlist_testDF.PID.astype(int)\n",
    "predictions_ml_alone = pd.merge(playlistDf_ml_alone, playlist_testDF,left_on=['PLAYLIST_PID'], right_on=[ 'PID']) \n",
    "predictions_ml4q_alone = pd.merge(playlistDf_ml4q_alone, playlist_testDF,left_on=['PLAYLIST_PID'], right_on=[ 'PID'])\n",
    "predictions_ml_ml4q = pd.merge(playlistDf_ml_ml4q, playlist_testDF,left_on=['PLAYLIST_PID'], right_on=[ 'PID']) \n",
    "\n",
    "predictions_ml_alone.head(10)"
   ]
  },
  {
   "cell_type": "code",
   "execution_count": 111,
   "metadata": {},
   "outputs": [
    {
     "name": "stdout",
     "output_type": "stream",
     "text": [
      "Accuracies...\n",
      "First model: MoodyLyrics alone 0.34\n",
      "Second model: MoodyLyrics4Q alone 0.55\n",
      "Third model: ML + ML4Q 0.47\n"
     ]
    }
   ],
   "source": [
    "'''\n",
    "Now let's see the accuracies...\n",
    "'''\n",
    "y_true_labels = [x[6] for x in predictions_ml_alone.values]\n",
    "encoder = LabelEncoder()\n",
    "y_true = encoder.fit_transform(y_true_labels)\n",
    "y_pred = np.argmax(np.array([x[1:5] for x in predictions_ml_alone.values]), axis=1)\n",
    "print('Accuracies...')\n",
    "print('First model: MoodyLyrics alone', round(accuracy_score(y_true, y_pred),2))\n",
    "\n",
    "'''\n",
    "SECOND MODEL: MoodyLyrics4q alone\n",
    "'''\n",
    "y_pred = np.argmax(np.array([x[1:5] for x in predictions_ml4q_alone.values]), axis=1)\n",
    "print('Second model: MoodyLyrics4Q alone', round(accuracy_score(y_true, y_pred),2))\n",
    "\n",
    "'''\n",
    "THIRD MODEL: MoodyLyrics + MoodyLyrics4Q\n",
    "'''\n",
    "y_pred = np.argmax(np.array([x[1:5] for x in predictions_ml_ml4q.values]), axis=1)\n",
    "print('Third model: ML + ML4Q', round(accuracy_score(y_true, y_pred),2))"
   ]
  },
  {
   "cell_type": "code",
   "execution_count": 108,
   "metadata": {},
   "outputs": [],
   "source": [
    "def custom_accuracy(y_true, y_pred):\n",
    "    count = 0\n",
    "    for i in range(len(y_pred)):\n",
    "        if y_true[i] == 1:\n",
    "            jolly = 2\n",
    "        elif y_true[i] == 2:\n",
    "            jolly = 1\n",
    "        elif y_true[i] == 0:\n",
    "            jolly = 3\n",
    "        elif y_true[i] == 3:\n",
    "            jolly = 0\n",
    "\n",
    "        if y_true[i] == y_pred[i] or y_pred[i] == jolly:\n",
    "            count += 1\n",
    "            \n",
    "    return count/len(y_pred)"
   ]
  },
  {
   "cell_type": "code",
   "execution_count": 112,
   "metadata": {},
   "outputs": [
    {
     "name": "stdout",
     "output_type": "stream",
     "text": [
      "Accuracies with Happy=Relaxed and Angry=Sad\n",
      "First model: MoodyLyrics alone 0.55\n",
      "Second model: MoodyLyrics4Q alone 0.66\n",
      "Third model: ML + ML4Q 0.66\n"
     ]
    }
   ],
   "source": [
    "'''\n",
    "We want to compute the accuracy in a particular way, i.e., in the predictions we\n",
    "consider a right answer the couple ('Happy','Relaxed') (1,2) and the couple ('Angry','Sad') (0,3)\n",
    "\n",
    "'''\n",
    "y_true_labels = [x[6] for x in predictions_ml_alone.values]\n",
    "encoder = LabelEncoder()\n",
    "y_true = encoder.fit_transform(y_true_labels)\n",
    "\n",
    "y_pred = np.argmax(np.array([x[1:5] for x in predictions_ml_alone.values]), axis=1)\n",
    "print('Accuracies with Happy=Relaxed and Angry=Sad')\n",
    "print('First model: MoodyLyrics alone', round(custom_accuracy(y_true, y_pred),2))\n",
    "\n",
    "'''\n",
    "SECOND MODEL: MoodyLyrics4q alone\n",
    "'''\n",
    "y_pred = np.argmax(np.array([x[1:5] for x in predictions_ml4q_alone.values]), axis=1)\n",
    "print('Second model: MoodyLyrics4Q alone', round(custom_accuracy(y_true, y_pred),2))\n",
    "\n",
    "'''\n",
    "THIRD MODEL: MoodyLyrics + MoodyLyrics4Q\n",
    "'''\n",
    "y_pred = np.argmax(np.array([x[1:5] for x in predictions_ml_ml4q.values]), axis=1)\n",
    "print('Third model: ML + ML4Q', round(custom_accuracy(y_true, y_pred),2))"
   ]
  },
  {
   "cell_type": "code",
   "execution_count": 152,
   "metadata": {},
   "outputs": [
    {
     "name": "stdout",
     "output_type": "stream",
     "text": [
      "(946, 41)\n",
      "Second model: MoodyLyrics4Q alone 0.43\n"
     ]
    }
   ],
   "source": [
    "'''\n",
    "And just an attempt to see if removing outliers can help\n",
    "'''\n",
    "\n",
    "prova = songsFeat_ml4q_alone[np.abs(songsFeat_ml4q_alone.angry-songsFeat_ml4q_alone.angry.mean())<=(1.6*songsFeat_ml4q_alone.angry.std())]\n",
    "prova2 = prova[np.abs(prova.happy - prova.happy.mean())<=(1.6*prova.happy.std())]\n",
    "prova3 = prova2[np.abs(prova2.relaxed - prova2.relaxed.mean()) <= (1.6*prova2.relaxed.std())]\n",
    "prova4 = prova3[np.abs(prova3.sad - prova3.sad.mean()) <= (1.6*prova3.sad.std())]\n",
    "\n",
    "print(prova4.shape)\n",
    "\n",
    "\n",
    "playlistDfprova= prova4.groupby(by='PLAYLIST_PID',as_index=False).agg(map_mean)\n",
    "join = pd.merge(playlistDfprova, playlist_testDF, how='inner',left_on=['PLAYLIST_PID'], right_on=[ 'PID']) \n",
    "\n",
    "y_true_labels = [x[6] for x in join.values]\n",
    "encoder = LabelEncoder()\n",
    "y_true = encoder.fit_transform(y_true_labels)\n",
    "\n",
    "y_pred = np.argmax(np.array([x[1:5] for x in join.values]), axis=1)\n",
    "\n",
    "print('Second model: MoodyLyrics4Q alone', round(accuracy_score(y_true, y_pred),2))"
   ]
  },
  {
   "cell_type": "markdown",
   "metadata": {},
   "source": [
    "# Classify Playlist using title\n",
    "We have soon how poor is our classification... now let's try to add the title to the classification, i.e., we'll classify playlist using 'Title, emotion_vector'."
   ]
  }
 ],
 "metadata": {
  "kernelspec": {
   "display_name": "Python 3",
   "language": "python",
   "name": "python3"
  },
  "language_info": {
   "codemirror_mode": {
    "name": "ipython",
    "version": 3
   },
   "file_extension": ".py",
   "mimetype": "text/x-python",
   "name": "python",
   "nbconvert_exporter": "python",
   "pygments_lexer": "ipython3",
   "version": "3.6.4"
  },
  "toc": {
   "base_numbering": 1,
   "nav_menu": {},
   "number_sections": true,
   "sideBar": true,
   "skip_h1_title": false,
   "title_cell": "Table of Contents",
   "title_sidebar": "Contents",
   "toc_cell": false,
   "toc_position": {},
   "toc_section_display": true,
   "toc_window_display": true
  }
 },
 "nbformat": 4,
 "nbformat_minor": 2
}
