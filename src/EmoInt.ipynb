{
 "cells": [
  {
   "cell_type": "markdown",
   "metadata": {
    "toc": true
   },
   "source": [
    "<h1>Table of Contents<span class=\"tocSkip\"></span></h1>\n",
    "<div class=\"toc\"><ul class=\"toc-item\"><li><span><a href=\"#EmoInt-dataset-for-emotion-detection-in-lyrics\" data-toc-modified-id=\"EmoInt-dataset-for-emotion-detection-in-lyrics-1\"><span class=\"toc-item-num\">1&nbsp;&nbsp;</span>EmoInt dataset for emotion detection in lyrics</a></span><ul class=\"toc-item\"><li><span><a href=\"#EmoInt-statistics\" data-toc-modified-id=\"EmoInt-statistics-1.1\"><span class=\"toc-item-num\">1.1&nbsp;&nbsp;</span>EmoInt statistics</a></span></li><li><span><a href=\"#Merge-with-MoodyLyrics\" data-toc-modified-id=\"Merge-with-MoodyLyrics-1.2\"><span class=\"toc-item-num\">1.2&nbsp;&nbsp;</span>Merge with MoodyLyrics</a></span></li></ul></li><li><span><a href=\"#Features-Selection\" data-toc-modified-id=\"Features-Selection-2\"><span class=\"toc-item-num\">2&nbsp;&nbsp;</span>Features Selection</a></span></li><li><span><a href=\"#Modeling\" data-toc-modified-id=\"Modeling-3\"><span class=\"toc-item-num\">3&nbsp;&nbsp;</span>Modeling</a></span><ul class=\"toc-item\"><li><span><a href=\"#k-Nearest-Neighbour\" data-toc-modified-id=\"k-Nearest-Neighbour-3.1\"><span class=\"toc-item-num\">3.1&nbsp;&nbsp;</span>k-Nearest Neighbour</a></span></li><li><span><a href=\"#SVM\" data-toc-modified-id=\"SVM-3.2\"><span class=\"toc-item-num\">3.2&nbsp;&nbsp;</span>SVM</a></span></li><li><span><a href=\"#Gradient-Boost\" data-toc-modified-id=\"Gradient-Boost-3.3\"><span class=\"toc-item-num\">3.3&nbsp;&nbsp;</span>Gradient Boost</a></span></li><li><span><a href=\"#Artificial-Neural-Network\" data-toc-modified-id=\"Artificial-Neural-Network-3.4\"><span class=\"toc-item-num\">3.4&nbsp;&nbsp;</span>Artificial Neural Network</a></span></li><li><span><a href=\"#Naive-Bayes-Classifier\" data-toc-modified-id=\"Naive-Bayes-Classifier-3.5\"><span class=\"toc-item-num\">3.5&nbsp;&nbsp;</span>Naive Bayes Classifier</a></span></li></ul></li><li><span><a href=\"#Conclusions\" data-toc-modified-id=\"Conclusions-4\"><span class=\"toc-item-num\">4&nbsp;&nbsp;</span>Conclusions</a></span></li><li><span><a href=\"#References\" data-toc-modified-id=\"References-5\"><span class=\"toc-item-num\">5&nbsp;&nbsp;</span>References</a></span></li></ul></div>"
   ]
  },
  {
   "cell_type": "code",
   "execution_count": 26,
   "metadata": {
    "ExecuteTime": {
     "end_time": "2018-04-26T13:03:36.551537Z",
     "start_time": "2018-04-26T13:03:36.521527Z"
    }
   },
   "outputs": [],
   "source": [
    "import spacy\n",
    "import os\n",
    "import sys\n",
    "\n",
    "import itertools\n",
    "\n",
    "import numpy as np\n",
    "import pandas as pd\n",
    "\n",
    "from sklearn.preprocessing import LabelEncoder\n",
    "\n",
    "from sklearn.model_selection import cross_val_score\n",
    "from sklearn.model_selection import GridSearchCV\n",
    "\n",
    "from sklearn.metrics import confusion_matrix\n",
    "\n",
    "from sklearn.decomposition import PCA\n",
    "\n",
    "import seaborn as sns\n",
    "sns.set()\n",
    "import matplotlib.pyplot as plt\n",
    "\n",
    "from utils.datasets import load_dataset_from_path, split_train_validation\n",
    "\n",
    "emotion_labels = ['happy', 'sad', 'angry', 'relaxed']"
   ]
  },
  {
   "cell_type": "code",
   "execution_count": 27,
   "metadata": {
    "ExecuteTime": {
     "end_time": "2018-04-26T13:03:37.237190Z",
     "start_time": "2018-04-26T13:03:37.174846Z"
    }
   },
   "outputs": [],
   "source": [
    "def plot_confusion_matrix(cm, classes = emotion_labels,\n",
    "                          normalize=False,\n",
    "                          title='Confusion matrix',\n",
    "                          cmap=plt.cm.Blues):\n",
    "    \"\"\"\n",
    "    This function prints and plots the confusion matrix.\n",
    "    Normalization can be applied by setting `normalize=True`.\n",
    "    \"\"\"\n",
    "    if normalize:\n",
    "        cm = cm.astype('float') / cm.sum(axis=1)[:, np.newaxis]\n",
    "\n",
    "    plt.imshow(cm, interpolation='nearest', cmap=cmap)\n",
    "    plt.title(title)\n",
    "    plt.colorbar()\n",
    "    tick_marks = np.arange(len(classes))\n",
    "    plt.xticks(tick_marks, classes, rotation=45)\n",
    "    plt.yticks(tick_marks, classes)\n",
    "\n",
    "    fmt = '.2f' if normalize else 'd'\n",
    "    thresh = cm.max() / 2.\n",
    "    for i, j in itertools.product(range(cm.shape[0]), range(cm.shape[1])):\n",
    "        plt.text(j, i, format(cm[i, j], fmt),\n",
    "                 horizontalalignment=\"center\",\n",
    "                 color=\"white\" if cm[i, j] > thresh else \"black\")\n",
    "\n",
    "    plt.grid(False)\n",
    "    plt.tight_layout()\n",
    "    plt.ylabel('True label')\n",
    "    plt.xlabel('Predicted label')"
   ]
  },
  {
   "cell_type": "markdown",
   "metadata": {},
   "source": [
    "# EmoInt dataset for emotion detection in lyrics\n",
    "\n",
    "Existing emotion datasets are mainly annotated categorically without an indication of degree of emotion. EmoInt, instead, provides several tweets annotated according to an emotion (anger, fear, joy, sadness) and to the degree at which the emotion is expressed in text.\n",
    "\n",
    "It is important to mention that EmoInt was manually annotated, using [Best-Worst Scaling](https://nparc.nrc-cnrc.gc.ca/eng/view/fulltext/?id=b132b0af-2ae0-4964-ac3a-493e7292a37a) (BWS), an annotation scheme shown to obtain very reliable scores.\n",
    "\n",
    "For our purpose, we will consider each tweet to be like a lyric and, on top of that, we will perform our feature engineering using spaCy and the other tools we used so far.\n",
    "\n",
    "Our original dataset, MoodyLyrics, contains \"happy\", \"sad\", \"angry\" and \"relaxed\" as labels. Therefore, in order to perform a sort of interjection with EmoInt, we will just use the tweets corresponding to the anger, joy and sadness emotions.\n",
    "\n",
    "The remaining part of this notebook assumes that we have already parsed EmoInt dataset in a .csv file which we can use to train some machine learning models as we did when we performed our feature engineering on lyrics. For more information about how this .csv was generated, please refer to the `src/emoint_parser.py` script.\n",
    "\n",
    "## EmoInt statistics\n",
    "\n",
    "As EmoInt provide intensity levels together with emotion labels, we decided to take into account only those tweets for which the intensity was greater that 0.50 (50%). Also, we dropped hashtags a remove the tag characters (e.g. \"Hey @MrTwitter how are you? #cool\" became \"Hey MrTwitter how are you?\") because we will have to compare those tweets with songs and songs do not have those kind of things. Also, this sort of preprocessing should maximize the chances that everything is recognized properly by spaCy's POS tagger."
   ]
  },
  {
   "cell_type": "code",
   "execution_count": 28,
   "metadata": {
    "ExecuteTime": {
     "end_time": "2018-04-26T13:03:38.906871Z",
     "start_time": "2018-04-26T13:03:38.776387Z"
    }
   },
   "outputs": [],
   "source": [
    "emoint = pd.read_csv('datasets/emoint_featurized.csv')"
   ]
  },
  {
   "cell_type": "code",
   "execution_count": 29,
   "metadata": {
    "ExecuteTime": {
     "end_time": "2018-04-26T13:03:39.108484Z",
     "start_time": "2018-04-26T13:03:39.100336Z"
    }
   },
   "outputs": [],
   "source": [
    "useless_columns = [ 'ID','ARTIST', 'SONG_TITLE', 'X_FREQUENCIES', 'SPACE_FREQUENCIES']\n",
    "emoint.drop(useless_columns, axis=1, inplace=True)"
   ]
  },
  {
   "cell_type": "code",
   "execution_count": 30,
   "metadata": {
    "ExecuteTime": {
     "end_time": "2018-04-26T13:03:39.668158Z",
     "start_time": "2018-04-26T13:03:39.631466Z"
    },
    "scrolled": false
   },
   "outputs": [
    {
     "data": {
      "text/html": [
       "<div>\n",
       "<style scoped>\n",
       "    .dataframe tbody tr th:only-of-type {\n",
       "        vertical-align: middle;\n",
       "    }\n",
       "\n",
       "    .dataframe tbody tr th {\n",
       "        vertical-align: top;\n",
       "    }\n",
       "\n",
       "    .dataframe thead th {\n",
       "        text-align: right;\n",
       "    }\n",
       "</style>\n",
       "<table border=\"1\" class=\"dataframe\">\n",
       "  <thead>\n",
       "    <tr style=\"text-align: right;\">\n",
       "      <th></th>\n",
       "      <th>LYRICS_VECTOR</th>\n",
       "      <th>TITLE_VECTOR</th>\n",
       "      <th>LINE_COUNT</th>\n",
       "      <th>WORD_COUNT</th>\n",
       "      <th>ECHOISMS</th>\n",
       "      <th>SELFISH_DEGREE</th>\n",
       "      <th>DUPLICATE_LINES</th>\n",
       "      <th>IS_TITLE_IN_LYRICS</th>\n",
       "      <th>RHYMES</th>\n",
       "      <th>VERB_PRESENT</th>\n",
       "      <th>...</th>\n",
       "      <th>NOUN_FREQUENCIES</th>\n",
       "      <th>NUM_FREQUENCIES</th>\n",
       "      <th>PART_FREQUENCIES</th>\n",
       "      <th>PRON_FREQUENCIES</th>\n",
       "      <th>PROPN_FREQUENCIES</th>\n",
       "      <th>PUNCT_FREQUENCIES</th>\n",
       "      <th>SCONJ_FREQUENCIES</th>\n",
       "      <th>SYM_FREQUENCIES</th>\n",
       "      <th>VERB_FREQUENCIES</th>\n",
       "      <th>EMOTION</th>\n",
       "    </tr>\n",
       "  </thead>\n",
       "  <tbody>\n",
       "    <tr>\n",
       "      <th>0</th>\n",
       "      <td>[-1.26710683e-01  1.60194725e-01 -1.36762261e-...</td>\n",
       "      <td>[0. 0. 0. 0. 0. 0. 0. 0. 0. 0. 0. 0. 0. 0. 0. ...</td>\n",
       "      <td>1</td>\n",
       "      <td>16</td>\n",
       "      <td>0.0</td>\n",
       "      <td>0.000000</td>\n",
       "      <td>0.0</td>\n",
       "      <td>False</td>\n",
       "      <td>0.0</td>\n",
       "      <td>0.750000</td>\n",
       "      <td>...</td>\n",
       "      <td>0.062500</td>\n",
       "      <td>0.0</td>\n",
       "      <td>0.000000</td>\n",
       "      <td>0.000000</td>\n",
       "      <td>0.125000</td>\n",
       "      <td>0.187500</td>\n",
       "      <td>0.0</td>\n",
       "      <td>0.0</td>\n",
       "      <td>0.250000</td>\n",
       "      <td>happy</td>\n",
       "    </tr>\n",
       "    <tr>\n",
       "      <th>1</th>\n",
       "      <td>[-6.28133714e-02  1.90393195e-01 -1.95530921e-...</td>\n",
       "      <td>[0. 0. 0. 0. 0. 0. 0. 0. 0. 0. 0. 0. 0. 0. 0. ...</td>\n",
       "      <td>1</td>\n",
       "      <td>19</td>\n",
       "      <td>0.0</td>\n",
       "      <td>1.000000</td>\n",
       "      <td>0.0</td>\n",
       "      <td>False</td>\n",
       "      <td>0.0</td>\n",
       "      <td>0.666667</td>\n",
       "      <td>...</td>\n",
       "      <td>0.157895</td>\n",
       "      <td>0.0</td>\n",
       "      <td>0.000000</td>\n",
       "      <td>0.105263</td>\n",
       "      <td>0.000000</td>\n",
       "      <td>0.052632</td>\n",
       "      <td>0.0</td>\n",
       "      <td>0.0</td>\n",
       "      <td>0.263158</td>\n",
       "      <td>happy</td>\n",
       "    </tr>\n",
       "    <tr>\n",
       "      <th>2</th>\n",
       "      <td>[ 9.66307223e-02  2.91245524e-02 -1.42218113e-...</td>\n",
       "      <td>[0. 0. 0. 0. 0. 0. 0. 0. 0. 0. 0. 0. 0. 0. 0. ...</td>\n",
       "      <td>1</td>\n",
       "      <td>11</td>\n",
       "      <td>0.0</td>\n",
       "      <td>0.000000</td>\n",
       "      <td>0.0</td>\n",
       "      <td>False</td>\n",
       "      <td>0.0</td>\n",
       "      <td>0.500000</td>\n",
       "      <td>...</td>\n",
       "      <td>0.545455</td>\n",
       "      <td>0.0</td>\n",
       "      <td>0.000000</td>\n",
       "      <td>0.000000</td>\n",
       "      <td>0.363636</td>\n",
       "      <td>0.000000</td>\n",
       "      <td>0.0</td>\n",
       "      <td>0.0</td>\n",
       "      <td>0.181818</td>\n",
       "      <td>happy</td>\n",
       "    </tr>\n",
       "    <tr>\n",
       "      <th>3</th>\n",
       "      <td>[-1.13483094e-01  3.13860744e-01 -2.05740720e-...</td>\n",
       "      <td>[0. 0. 0. 0. 0. 0. 0. 0. 0. 0. 0. 0. 0. 0. 0. ...</td>\n",
       "      <td>1</td>\n",
       "      <td>23</td>\n",
       "      <td>0.0</td>\n",
       "      <td>0.200000</td>\n",
       "      <td>0.0</td>\n",
       "      <td>False</td>\n",
       "      <td>0.0</td>\n",
       "      <td>0.750000</td>\n",
       "      <td>...</td>\n",
       "      <td>0.086957</td>\n",
       "      <td>0.0</td>\n",
       "      <td>0.000000</td>\n",
       "      <td>0.217391</td>\n",
       "      <td>0.043478</td>\n",
       "      <td>0.304348</td>\n",
       "      <td>0.0</td>\n",
       "      <td>0.0</td>\n",
       "      <td>0.173913</td>\n",
       "      <td>happy</td>\n",
       "    </tr>\n",
       "    <tr>\n",
       "      <th>4</th>\n",
       "      <td>[ 3.85632203e-03  2.41273686e-01 -1.58885673e-...</td>\n",
       "      <td>[0. 0. 0. 0. 0. 0. 0. 0. 0. 0. 0. 0. 0. 0. 0. ...</td>\n",
       "      <td>1</td>\n",
       "      <td>22</td>\n",
       "      <td>0.0</td>\n",
       "      <td>0.666667</td>\n",
       "      <td>0.0</td>\n",
       "      <td>False</td>\n",
       "      <td>0.0</td>\n",
       "      <td>1.000000</td>\n",
       "      <td>...</td>\n",
       "      <td>0.272727</td>\n",
       "      <td>0.0</td>\n",
       "      <td>0.045455</td>\n",
       "      <td>0.136364</td>\n",
       "      <td>0.045455</td>\n",
       "      <td>0.136364</td>\n",
       "      <td>0.0</td>\n",
       "      <td>0.0</td>\n",
       "      <td>0.227273</td>\n",
       "      <td>happy</td>\n",
       "    </tr>\n",
       "  </tbody>\n",
       "</table>\n",
       "<p>5 rows × 30 columns</p>\n",
       "</div>"
      ],
      "text/plain": [
       "                                       LYRICS_VECTOR  \\\n",
       "0  [-1.26710683e-01  1.60194725e-01 -1.36762261e-...   \n",
       "1  [-6.28133714e-02  1.90393195e-01 -1.95530921e-...   \n",
       "2  [ 9.66307223e-02  2.91245524e-02 -1.42218113e-...   \n",
       "3  [-1.13483094e-01  3.13860744e-01 -2.05740720e-...   \n",
       "4  [ 3.85632203e-03  2.41273686e-01 -1.58885673e-...   \n",
       "\n",
       "                                        TITLE_VECTOR  LINE_COUNT  WORD_COUNT  \\\n",
       "0  [0. 0. 0. 0. 0. 0. 0. 0. 0. 0. 0. 0. 0. 0. 0. ...           1          16   \n",
       "1  [0. 0. 0. 0. 0. 0. 0. 0. 0. 0. 0. 0. 0. 0. 0. ...           1          19   \n",
       "2  [0. 0. 0. 0. 0. 0. 0. 0. 0. 0. 0. 0. 0. 0. 0. ...           1          11   \n",
       "3  [0. 0. 0. 0. 0. 0. 0. 0. 0. 0. 0. 0. 0. 0. 0. ...           1          23   \n",
       "4  [0. 0. 0. 0. 0. 0. 0. 0. 0. 0. 0. 0. 0. 0. 0. ...           1          22   \n",
       "\n",
       "   ECHOISMS  SELFISH_DEGREE  DUPLICATE_LINES  IS_TITLE_IN_LYRICS  RHYMES  \\\n",
       "0       0.0        0.000000              0.0               False     0.0   \n",
       "1       0.0        1.000000              0.0               False     0.0   \n",
       "2       0.0        0.000000              0.0               False     0.0   \n",
       "3       0.0        0.200000              0.0               False     0.0   \n",
       "4       0.0        0.666667              0.0               False     0.0   \n",
       "\n",
       "   VERB_PRESENT   ...     NOUN_FREQUENCIES  NUM_FREQUENCIES  PART_FREQUENCIES  \\\n",
       "0      0.750000   ...             0.062500              0.0          0.000000   \n",
       "1      0.666667   ...             0.157895              0.0          0.000000   \n",
       "2      0.500000   ...             0.545455              0.0          0.000000   \n",
       "3      0.750000   ...             0.086957              0.0          0.000000   \n",
       "4      1.000000   ...             0.272727              0.0          0.045455   \n",
       "\n",
       "   PRON_FREQUENCIES  PROPN_FREQUENCIES  PUNCT_FREQUENCIES  SCONJ_FREQUENCIES  \\\n",
       "0          0.000000           0.125000           0.187500                0.0   \n",
       "1          0.105263           0.000000           0.052632                0.0   \n",
       "2          0.000000           0.363636           0.000000                0.0   \n",
       "3          0.217391           0.043478           0.304348                0.0   \n",
       "4          0.136364           0.045455           0.136364                0.0   \n",
       "\n",
       "   SYM_FREQUENCIES  VERB_FREQUENCIES  EMOTION  \n",
       "0              0.0          0.250000    happy  \n",
       "1              0.0          0.263158    happy  \n",
       "2              0.0          0.181818    happy  \n",
       "3              0.0          0.173913    happy  \n",
       "4              0.0          0.227273    happy  \n",
       "\n",
       "[5 rows x 30 columns]"
      ]
     },
     "execution_count": 30,
     "metadata": {},
     "output_type": "execute_result"
    }
   ],
   "source": [
    "emoint.head(5)"
   ]
  },
  {
   "cell_type": "markdown",
   "metadata": {},
   "source": [
    "We used the same columns naming convention we used in the past notebooks with MoodyLyrics just for compatibility reasons (we will have to put them together). Since tweets do not have title, the `TITLE_VECTOR` was just left there as a vector of 0s, with the same shape of the `LYRICS_VECTOR`."
   ]
  },
  {
   "cell_type": "markdown",
   "metadata": {},
   "source": [
    "## Merge with MoodyLyrics\n",
    "Let's now merge EmoInt and MoodyLyrics featurized datasets in order to be able to proceed with further analysis."
   ]
  },
  {
   "cell_type": "code",
   "execution_count": 31,
   "metadata": {
    "ExecuteTime": {
     "end_time": "2018-04-26T13:03:41.052427Z",
     "start_time": "2018-04-26T13:03:41.049373Z"
    }
   },
   "outputs": [],
   "source": [
    "path = 'datasets/moodylyrics_featurized.csv'"
   ]
  },
  {
   "cell_type": "code",
   "execution_count": 32,
   "metadata": {
    "ExecuteTime": {
     "end_time": "2018-04-26T13:03:41.615331Z",
     "start_time": "2018-04-26T13:03:41.392418Z"
    }
   },
   "outputs": [],
   "source": [
    "moodylyrics = pd.read_csv(path)\n",
    "moodylyrics.columns = ['ID', 'ARTIST', 'SONG_TITLE', 'LYRICS_VECTOR', 'TITLE_VECTOR', \n",
    "                   'LINE_COUNT', 'WORD_COUNT', 'ECHOISMS', 'SELFISH_DEGREE', \n",
    "                   'DUPLICATE_LINES', 'IS_TITLE_IN_LYRICS', 'RHYMES', 'VERB_PRESENT', \n",
    "                   'VERB_PAST', 'VERB_FUTURE', 'ADJ_FREQUENCIES', 'CONJUCTION_FREQUENCIES', \n",
    "                   'ADV_FREQUENCIES', 'AUX_FREQUENCIES', 'CONJ_FREQUENCIES', 'CCONJ_FREQUENCIES', \n",
    "                   'DETERMINER_FREQUENCIES', 'INTERJECTION_FREQUENCIES', 'NOUN_FREQUENCIES', \n",
    "                   'NUM_FREQUENCIES', 'PART_FREQUENCIES', 'PRON_FREQUENCIES', 'PROPN_FREQUENCIES', \n",
    "                   'PUNCT_FREQUENCIES', 'SCONJ_FREQUENCIES', 'SYM_FREQUENCIES', 'VERB_FREQUENCIES', \n",
    "                   'X_FREQUENCIES', 'SPACE_FREQUENCIES', 'EMOTION']\n",
    "moodylyrics.drop(useless_columns, axis=1, inplace=True)"
   ]
  },
  {
   "cell_type": "code",
   "execution_count": 33,
   "metadata": {
    "ExecuteTime": {
     "end_time": "2018-04-26T13:03:41.992704Z",
     "start_time": "2018-04-26T13:03:41.983347Z"
    }
   },
   "outputs": [],
   "source": [
    "dataset = emoint.append(moodylyrics)"
   ]
  },
  {
   "cell_type": "code",
   "execution_count": 34,
   "metadata": {
    "ExecuteTime": {
     "end_time": "2018-04-26T13:03:42.341383Z",
     "start_time": "2018-04-26T13:03:42.218362Z"
    },
    "scrolled": true
   },
   "outputs": [
    {
     "data": {
      "text/html": [
       "<div>\n",
       "<style scoped>\n",
       "    .dataframe tbody tr th:only-of-type {\n",
       "        vertical-align: middle;\n",
       "    }\n",
       "\n",
       "    .dataframe tbody tr th {\n",
       "        vertical-align: top;\n",
       "    }\n",
       "\n",
       "    .dataframe thead th {\n",
       "        text-align: right;\n",
       "    }\n",
       "</style>\n",
       "<table border=\"1\" class=\"dataframe\">\n",
       "  <thead>\n",
       "    <tr style=\"text-align: right;\">\n",
       "      <th></th>\n",
       "      <th>LINE_COUNT</th>\n",
       "      <th>WORD_COUNT</th>\n",
       "      <th>ECHOISMS</th>\n",
       "      <th>SELFISH_DEGREE</th>\n",
       "      <th>DUPLICATE_LINES</th>\n",
       "      <th>RHYMES</th>\n",
       "      <th>VERB_PRESENT</th>\n",
       "      <th>VERB_PAST</th>\n",
       "      <th>VERB_FUTURE</th>\n",
       "      <th>ADJ_FREQUENCIES</th>\n",
       "      <th>...</th>\n",
       "      <th>INTERJECTION_FREQUENCIES</th>\n",
       "      <th>NOUN_FREQUENCIES</th>\n",
       "      <th>NUM_FREQUENCIES</th>\n",
       "      <th>PART_FREQUENCIES</th>\n",
       "      <th>PRON_FREQUENCIES</th>\n",
       "      <th>PROPN_FREQUENCIES</th>\n",
       "      <th>PUNCT_FREQUENCIES</th>\n",
       "      <th>SCONJ_FREQUENCIES</th>\n",
       "      <th>SYM_FREQUENCIES</th>\n",
       "      <th>VERB_FREQUENCIES</th>\n",
       "    </tr>\n",
       "  </thead>\n",
       "  <tbody>\n",
       "    <tr>\n",
       "      <th>count</th>\n",
       "      <td>4706.000000</td>\n",
       "      <td>4706.000000</td>\n",
       "      <td>4706.000000</td>\n",
       "      <td>4706.000000</td>\n",
       "      <td>4706.000000</td>\n",
       "      <td>4706.000000</td>\n",
       "      <td>4706.000000</td>\n",
       "      <td>4706.000000</td>\n",
       "      <td>4706.000000</td>\n",
       "      <td>4706.000000</td>\n",
       "      <td>...</td>\n",
       "      <td>4706.000000</td>\n",
       "      <td>4706.000000</td>\n",
       "      <td>4706.000000</td>\n",
       "      <td>4706.000000</td>\n",
       "      <td>4706.000000</td>\n",
       "      <td>4706.000000</td>\n",
       "      <td>4706.000000</td>\n",
       "      <td>4706.0</td>\n",
       "      <td>4706.000000</td>\n",
       "      <td>4706.000000</td>\n",
       "    </tr>\n",
       "    <tr>\n",
       "      <th>mean</th>\n",
       "      <td>18.771143</td>\n",
       "      <td>115.487675</td>\n",
       "      <td>0.001933</td>\n",
       "      <td>0.257160</td>\n",
       "      <td>0.046589</td>\n",
       "      <td>0.034445</td>\n",
       "      <td>0.681493</td>\n",
       "      <td>0.223661</td>\n",
       "      <td>0.032797</td>\n",
       "      <td>0.103892</td>\n",
       "      <td>...</td>\n",
       "      <td>0.014189</td>\n",
       "      <td>0.190628</td>\n",
       "      <td>0.007121</td>\n",
       "      <td>0.025846</td>\n",
       "      <td>0.118723</td>\n",
       "      <td>0.046162</td>\n",
       "      <td>0.097045</td>\n",
       "      <td>0.0</td>\n",
       "      <td>0.001023</td>\n",
       "      <td>0.235702</td>\n",
       "    </tr>\n",
       "    <tr>\n",
       "      <th>std</th>\n",
       "      <td>21.636621</td>\n",
       "      <td>123.785535</td>\n",
       "      <td>0.014999</td>\n",
       "      <td>0.307920</td>\n",
       "      <td>0.062358</td>\n",
       "      <td>0.076869</td>\n",
       "      <td>0.327669</td>\n",
       "      <td>0.276698</td>\n",
       "      <td>0.102555</td>\n",
       "      <td>0.080279</td>\n",
       "      <td>...</td>\n",
       "      <td>0.031877</td>\n",
       "      <td>0.105343</td>\n",
       "      <td>0.023027</td>\n",
       "      <td>0.035716</td>\n",
       "      <td>0.085248</td>\n",
       "      <td>0.092595</td>\n",
       "      <td>0.128123</td>\n",
       "      <td>0.0</td>\n",
       "      <td>0.013569</td>\n",
       "      <td>0.104105</td>\n",
       "    </tr>\n",
       "    <tr>\n",
       "      <th>min</th>\n",
       "      <td>1.000000</td>\n",
       "      <td>1.000000</td>\n",
       "      <td>0.000000</td>\n",
       "      <td>0.000000</td>\n",
       "      <td>0.000000</td>\n",
       "      <td>0.000000</td>\n",
       "      <td>0.000000</td>\n",
       "      <td>0.000000</td>\n",
       "      <td>0.000000</td>\n",
       "      <td>0.000000</td>\n",
       "      <td>...</td>\n",
       "      <td>0.000000</td>\n",
       "      <td>0.000000</td>\n",
       "      <td>0.000000</td>\n",
       "      <td>0.000000</td>\n",
       "      <td>0.000000</td>\n",
       "      <td>0.000000</td>\n",
       "      <td>0.000000</td>\n",
       "      <td>0.0</td>\n",
       "      <td>0.000000</td>\n",
       "      <td>0.000000</td>\n",
       "    </tr>\n",
       "    <tr>\n",
       "      <th>25%</th>\n",
       "      <td>1.000000</td>\n",
       "      <td>16.000000</td>\n",
       "      <td>0.000000</td>\n",
       "      <td>0.000000</td>\n",
       "      <td>0.000000</td>\n",
       "      <td>0.000000</td>\n",
       "      <td>0.500000</td>\n",
       "      <td>0.000000</td>\n",
       "      <td>0.000000</td>\n",
       "      <td>0.051323</td>\n",
       "      <td>...</td>\n",
       "      <td>0.000000</td>\n",
       "      <td>0.127972</td>\n",
       "      <td>0.000000</td>\n",
       "      <td>0.000000</td>\n",
       "      <td>0.055556</td>\n",
       "      <td>0.000000</td>\n",
       "      <td>0.016854</td>\n",
       "      <td>0.0</td>\n",
       "      <td>0.000000</td>\n",
       "      <td>0.178571</td>\n",
       "    </tr>\n",
       "    <tr>\n",
       "      <th>50%</th>\n",
       "      <td>11.000000</td>\n",
       "      <td>64.000000</td>\n",
       "      <td>0.000000</td>\n",
       "      <td>0.142857</td>\n",
       "      <td>0.000000</td>\n",
       "      <td>0.000000</td>\n",
       "      <td>0.769231</td>\n",
       "      <td>0.125000</td>\n",
       "      <td>0.000000</td>\n",
       "      <td>0.090909</td>\n",
       "      <td>...</td>\n",
       "      <td>0.000000</td>\n",
       "      <td>0.178983</td>\n",
       "      <td>0.000000</td>\n",
       "      <td>0.011205</td>\n",
       "      <td>0.114544</td>\n",
       "      <td>0.002660</td>\n",
       "      <td>0.068182</td>\n",
       "      <td>0.0</td>\n",
       "      <td>0.000000</td>\n",
       "      <td>0.241379</td>\n",
       "    </tr>\n",
       "    <tr>\n",
       "      <th>75%</th>\n",
       "      <td>33.000000</td>\n",
       "      <td>198.000000</td>\n",
       "      <td>0.000000</td>\n",
       "      <td>0.451455</td>\n",
       "      <td>0.086786</td>\n",
       "      <td>0.031250</td>\n",
       "      <td>1.000000</td>\n",
       "      <td>0.333333</td>\n",
       "      <td>0.000000</td>\n",
       "      <td>0.142857</td>\n",
       "      <td>...</td>\n",
       "      <td>0.013502</td>\n",
       "      <td>0.240000</td>\n",
       "      <td>0.000000</td>\n",
       "      <td>0.041301</td>\n",
       "      <td>0.173913</td>\n",
       "      <td>0.060647</td>\n",
       "      <td>0.135135</td>\n",
       "      <td>0.0</td>\n",
       "      <td>0.000000</td>\n",
       "      <td>0.295567</td>\n",
       "    </tr>\n",
       "    <tr>\n",
       "      <th>max</th>\n",
       "      <td>188.000000</td>\n",
       "      <td>1149.000000</td>\n",
       "      <td>0.341463</td>\n",
       "      <td>1.000000</td>\n",
       "      <td>1.000000</td>\n",
       "      <td>0.735294</td>\n",
       "      <td>1.000000</td>\n",
       "      <td>1.000000</td>\n",
       "      <td>1.000000</td>\n",
       "      <td>0.666667</td>\n",
       "      <td>...</td>\n",
       "      <td>0.400000</td>\n",
       "      <td>1.000000</td>\n",
       "      <td>0.444444</td>\n",
       "      <td>0.333333</td>\n",
       "      <td>0.500000</td>\n",
       "      <td>1.500000</td>\n",
       "      <td>2.777778</td>\n",
       "      <td>0.0</td>\n",
       "      <td>0.714286</td>\n",
       "      <td>1.000000</td>\n",
       "    </tr>\n",
       "  </tbody>\n",
       "</table>\n",
       "<p>8 rows × 26 columns</p>\n",
       "</div>"
      ],
      "text/plain": [
       "        LINE_COUNT   WORD_COUNT     ECHOISMS  SELFISH_DEGREE  DUPLICATE_LINES  \\\n",
       "count  4706.000000  4706.000000  4706.000000     4706.000000      4706.000000   \n",
       "mean     18.771143   115.487675     0.001933        0.257160         0.046589   \n",
       "std      21.636621   123.785535     0.014999        0.307920         0.062358   \n",
       "min       1.000000     1.000000     0.000000        0.000000         0.000000   \n",
       "25%       1.000000    16.000000     0.000000        0.000000         0.000000   \n",
       "50%      11.000000    64.000000     0.000000        0.142857         0.000000   \n",
       "75%      33.000000   198.000000     0.000000        0.451455         0.086786   \n",
       "max     188.000000  1149.000000     0.341463        1.000000         1.000000   \n",
       "\n",
       "            RHYMES  VERB_PRESENT    VERB_PAST  VERB_FUTURE  ADJ_FREQUENCIES  \\\n",
       "count  4706.000000   4706.000000  4706.000000  4706.000000      4706.000000   \n",
       "mean      0.034445      0.681493     0.223661     0.032797         0.103892   \n",
       "std       0.076869      0.327669     0.276698     0.102555         0.080279   \n",
       "min       0.000000      0.000000     0.000000     0.000000         0.000000   \n",
       "25%       0.000000      0.500000     0.000000     0.000000         0.051323   \n",
       "50%       0.000000      0.769231     0.125000     0.000000         0.090909   \n",
       "75%       0.031250      1.000000     0.333333     0.000000         0.142857   \n",
       "max       0.735294      1.000000     1.000000     1.000000         0.666667   \n",
       "\n",
       "             ...         INTERJECTION_FREQUENCIES  NOUN_FREQUENCIES  \\\n",
       "count        ...                      4706.000000       4706.000000   \n",
       "mean         ...                         0.014189          0.190628   \n",
       "std          ...                         0.031877          0.105343   \n",
       "min          ...                         0.000000          0.000000   \n",
       "25%          ...                         0.000000          0.127972   \n",
       "50%          ...                         0.000000          0.178983   \n",
       "75%          ...                         0.013502          0.240000   \n",
       "max          ...                         0.400000          1.000000   \n",
       "\n",
       "       NUM_FREQUENCIES  PART_FREQUENCIES  PRON_FREQUENCIES  PROPN_FREQUENCIES  \\\n",
       "count      4706.000000       4706.000000       4706.000000        4706.000000   \n",
       "mean          0.007121          0.025846          0.118723           0.046162   \n",
       "std           0.023027          0.035716          0.085248           0.092595   \n",
       "min           0.000000          0.000000          0.000000           0.000000   \n",
       "25%           0.000000          0.000000          0.055556           0.000000   \n",
       "50%           0.000000          0.011205          0.114544           0.002660   \n",
       "75%           0.000000          0.041301          0.173913           0.060647   \n",
       "max           0.444444          0.333333          0.500000           1.500000   \n",
       "\n",
       "       PUNCT_FREQUENCIES  SCONJ_FREQUENCIES  SYM_FREQUENCIES  VERB_FREQUENCIES  \n",
       "count        4706.000000             4706.0      4706.000000       4706.000000  \n",
       "mean            0.097045                0.0         0.001023          0.235702  \n",
       "std             0.128123                0.0         0.013569          0.104105  \n",
       "min             0.000000                0.0         0.000000          0.000000  \n",
       "25%             0.016854                0.0         0.000000          0.178571  \n",
       "50%             0.068182                0.0         0.000000          0.241379  \n",
       "75%             0.135135                0.0         0.000000          0.295567  \n",
       "max             2.777778                0.0         0.714286          1.000000  \n",
       "\n",
       "[8 rows x 26 columns]"
      ]
     },
     "execution_count": 34,
     "metadata": {},
     "output_type": "execute_result"
    }
   ],
   "source": [
    "dataset.describe()"
   ]
  },
  {
   "cell_type": "markdown",
   "metadata": {},
   "source": [
    "# Features Selection\n",
    "\n",
    "Based on our experience with previous models and feature engineering strategies, we believe that building models using all our available features is a waste of time. We already noticed that the models which achieved better results were those using just the content of the lyrics. Therefore we will work on just the content of our input texts (either lyrics or tweets) plus some additional features. Among all the available features we decided to pick the followings:\n",
    "- SELFISH_DEGREE\n",
    "- VERB_PRESENT\n",
    "- VERB_PAST\n",
    "- VERB_FUTURE\n",
    "\n",
    "In fact we believe that we can not use other features which may seem to be useful for our purpose ,e.g. \"RHYMES\", because, as we are considering a broader dataset, those kind of features are not general enough (not suitable for tweets)."
   ]
  },
  {
   "cell_type": "code",
   "execution_count": 35,
   "metadata": {
    "ExecuteTime": {
     "end_time": "2018-04-26T13:03:43.720200Z",
     "start_time": "2018-04-26T13:03:43.712099Z"
    }
   },
   "outputs": [],
   "source": [
    "selected_columns = [\n",
    "   'LYRICS_VECTOR',\n",
    "   'WORD_COUNT', 'ECHOISMS', 'SELFISH_DEGREE', \n",
    "   'DUPLICATE_LINES', 'IS_TITLE_IN_LYRICS', 'VERB_PRESENT', \n",
    "   'VERB_PAST', 'VERB_FUTURE', 'ADJ_FREQUENCIES',\n",
    "   'PUNCT_FREQUENCIES', 'EMOTION'\n",
    "]\n",
    "dataset = dataset[selected_columns]"
   ]
  },
  {
   "cell_type": "code",
   "execution_count": 36,
   "metadata": {
    "ExecuteTime": {
     "end_time": "2018-04-26T13:03:44.245787Z",
     "start_time": "2018-04-26T13:03:44.213684Z"
    }
   },
   "outputs": [
    {
     "data": {
      "text/html": [
       "<div>\n",
       "<style scoped>\n",
       "    .dataframe tbody tr th:only-of-type {\n",
       "        vertical-align: middle;\n",
       "    }\n",
       "\n",
       "    .dataframe tbody tr th {\n",
       "        vertical-align: top;\n",
       "    }\n",
       "\n",
       "    .dataframe thead th {\n",
       "        text-align: right;\n",
       "    }\n",
       "</style>\n",
       "<table border=\"1\" class=\"dataframe\">\n",
       "  <thead>\n",
       "    <tr style=\"text-align: right;\">\n",
       "      <th></th>\n",
       "      <th>LYRICS_VECTOR</th>\n",
       "      <th>WORD_COUNT</th>\n",
       "      <th>ECHOISMS</th>\n",
       "      <th>SELFISH_DEGREE</th>\n",
       "      <th>DUPLICATE_LINES</th>\n",
       "      <th>IS_TITLE_IN_LYRICS</th>\n",
       "      <th>VERB_PRESENT</th>\n",
       "      <th>VERB_PAST</th>\n",
       "      <th>VERB_FUTURE</th>\n",
       "      <th>ADJ_FREQUENCIES</th>\n",
       "      <th>PUNCT_FREQUENCIES</th>\n",
       "      <th>EMOTION</th>\n",
       "    </tr>\n",
       "  </thead>\n",
       "  <tbody>\n",
       "    <tr>\n",
       "      <th>0</th>\n",
       "      <td>[-1.26710683e-01  1.60194725e-01 -1.36762261e-...</td>\n",
       "      <td>16</td>\n",
       "      <td>0.0</td>\n",
       "      <td>0.000000</td>\n",
       "      <td>0.0</td>\n",
       "      <td>False</td>\n",
       "      <td>0.750000</td>\n",
       "      <td>0.250000</td>\n",
       "      <td>0.0</td>\n",
       "      <td>0.062500</td>\n",
       "      <td>0.187500</td>\n",
       "      <td>happy</td>\n",
       "    </tr>\n",
       "    <tr>\n",
       "      <th>1</th>\n",
       "      <td>[-6.28133714e-02  1.90393195e-01 -1.95530921e-...</td>\n",
       "      <td>19</td>\n",
       "      <td>0.0</td>\n",
       "      <td>1.000000</td>\n",
       "      <td>0.0</td>\n",
       "      <td>False</td>\n",
       "      <td>0.666667</td>\n",
       "      <td>0.333333</td>\n",
       "      <td>0.0</td>\n",
       "      <td>0.105263</td>\n",
       "      <td>0.052632</td>\n",
       "      <td>happy</td>\n",
       "    </tr>\n",
       "    <tr>\n",
       "      <th>2</th>\n",
       "      <td>[ 9.66307223e-02  2.91245524e-02 -1.42218113e-...</td>\n",
       "      <td>11</td>\n",
       "      <td>0.0</td>\n",
       "      <td>0.000000</td>\n",
       "      <td>0.0</td>\n",
       "      <td>False</td>\n",
       "      <td>0.500000</td>\n",
       "      <td>0.500000</td>\n",
       "      <td>0.0</td>\n",
       "      <td>0.000000</td>\n",
       "      <td>0.000000</td>\n",
       "      <td>happy</td>\n",
       "    </tr>\n",
       "    <tr>\n",
       "      <th>3</th>\n",
       "      <td>[-1.13483094e-01  3.13860744e-01 -2.05740720e-...</td>\n",
       "      <td>23</td>\n",
       "      <td>0.0</td>\n",
       "      <td>0.200000</td>\n",
       "      <td>0.0</td>\n",
       "      <td>False</td>\n",
       "      <td>0.750000</td>\n",
       "      <td>0.250000</td>\n",
       "      <td>0.0</td>\n",
       "      <td>0.173913</td>\n",
       "      <td>0.304348</td>\n",
       "      <td>happy</td>\n",
       "    </tr>\n",
       "    <tr>\n",
       "      <th>4</th>\n",
       "      <td>[ 3.85632203e-03  2.41273686e-01 -1.58885673e-...</td>\n",
       "      <td>22</td>\n",
       "      <td>0.0</td>\n",
       "      <td>0.666667</td>\n",
       "      <td>0.0</td>\n",
       "      <td>False</td>\n",
       "      <td>1.000000</td>\n",
       "      <td>0.000000</td>\n",
       "      <td>0.0</td>\n",
       "      <td>0.090909</td>\n",
       "      <td>0.136364</td>\n",
       "      <td>happy</td>\n",
       "    </tr>\n",
       "  </tbody>\n",
       "</table>\n",
       "</div>"
      ],
      "text/plain": [
       "                                       LYRICS_VECTOR  WORD_COUNT  ECHOISMS  \\\n",
       "0  [-1.26710683e-01  1.60194725e-01 -1.36762261e-...          16       0.0   \n",
       "1  [-6.28133714e-02  1.90393195e-01 -1.95530921e-...          19       0.0   \n",
       "2  [ 9.66307223e-02  2.91245524e-02 -1.42218113e-...          11       0.0   \n",
       "3  [-1.13483094e-01  3.13860744e-01 -2.05740720e-...          23       0.0   \n",
       "4  [ 3.85632203e-03  2.41273686e-01 -1.58885673e-...          22       0.0   \n",
       "\n",
       "   SELFISH_DEGREE  DUPLICATE_LINES  IS_TITLE_IN_LYRICS  VERB_PRESENT  \\\n",
       "0        0.000000              0.0               False      0.750000   \n",
       "1        1.000000              0.0               False      0.666667   \n",
       "2        0.000000              0.0               False      0.500000   \n",
       "3        0.200000              0.0               False      0.750000   \n",
       "4        0.666667              0.0               False      1.000000   \n",
       "\n",
       "   VERB_PAST  VERB_FUTURE  ADJ_FREQUENCIES  PUNCT_FREQUENCIES EMOTION  \n",
       "0   0.250000          0.0         0.062500           0.187500   happy  \n",
       "1   0.333333          0.0         0.105263           0.052632   happy  \n",
       "2   0.500000          0.0         0.000000           0.000000   happy  \n",
       "3   0.250000          0.0         0.173913           0.304348   happy  \n",
       "4   0.000000          0.0         0.090909           0.136364   happy  "
      ]
     },
     "execution_count": 36,
     "metadata": {},
     "output_type": "execute_result"
    }
   ],
   "source": [
    "dataset.head(5)"
   ]
  },
  {
   "cell_type": "markdown",
   "metadata": {},
   "source": [
    "# Modeling\n",
    "\n",
    "Before starting we should flatten the dataset's features which are vectors at the moment (title vector and content vector). Let's do that"
   ]
  },
  {
   "cell_type": "code",
   "execution_count": 37,
   "metadata": {
    "ExecuteTime": {
     "end_time": "2018-04-26T13:03:46.448756Z",
     "start_time": "2018-04-26T13:03:45.193192Z"
    }
   },
   "outputs": [],
   "source": [
    "X_vect = list()\n",
    "for (i, row) in dataset.drop('EMOTION', axis=1).iterrows():\n",
    "    sub_list = list()\n",
    "    for field in row:\n",
    "        if type(field) == str:\n",
    "            field = field[1:-1].split()\n",
    "            sub_list += [float(x.replace('\\n','')) for x in field]\n",
    "        else:\n",
    "            sub_list.append(field)\n",
    "    X_vect.append(np.array(sub_list))\n",
    "X_vect = np.array(X_vect)"
   ]
  },
  {
   "cell_type": "code",
   "execution_count": 38,
   "metadata": {
    "ExecuteTime": {
     "end_time": "2018-04-26T13:03:46.902241Z",
     "start_time": "2018-04-26T13:03:46.897633Z"
    }
   },
   "outputs": [],
   "source": [
    "y = dataset.EMOTION.astype(\"category\").cat.codes"
   ]
  },
  {
   "cell_type": "code",
   "execution_count": 39,
   "metadata": {
    "ExecuteTime": {
     "end_time": "2018-04-26T13:03:47.151330Z",
     "start_time": "2018-04-26T13:03:47.146554Z"
    },
    "scrolled": true
   },
   "outputs": [
    {
     "name": "stdout",
     "output_type": "stream",
     "text": [
      "(4706, 310)\n",
      "(4706,)\n"
     ]
    }
   ],
   "source": [
    "print(X_vect.shape)\n",
    "print(y.shape)"
   ]
  },
  {
   "cell_type": "code",
   "execution_count": 40,
   "metadata": {
    "ExecuteTime": {
     "end_time": "2018-04-26T13:03:47.830255Z",
     "start_time": "2018-04-26T13:03:47.817910Z"
    }
   },
   "outputs": [],
   "source": [
    "from sklearn.model_selection import train_test_split\n",
    "X_train, X_test, y_train, y_test = train_test_split(X_vect, y, test_size = 0.2, random_state = 0)"
   ]
  },
  {
   "cell_type": "markdown",
   "metadata": {},
   "source": [
    "As we can see, we will have 4706 entries in our dataset, each of them having 304 different features."
   ]
  },
  {
   "cell_type": "markdown",
   "metadata": {},
   "source": [
    "## k-Nearest Neighbour"
   ]
  },
  {
   "cell_type": "code",
   "execution_count": 19,
   "metadata": {
    "ExecuteTime": {
     "end_time": "2018-04-26T12:51:48.611597Z",
     "start_time": "2018-04-26T12:51:29.246084Z"
    }
   },
   "outputs": [
    {
     "name": "stdout",
     "output_type": "stream",
     "text": [
      "Accuracy for k=1: 0.44 (+/- 0.11)\n",
      "Accuracy for k=3: 0.43 (+/- 0.09)\n",
      "Accuracy for k=5: 0.43 (+/- 0.09)\n",
      "Accuracy for k=7: 0.42 (+/- 0.10)\n",
      "Accuracy for k=9: 0.42 (+/- 0.13)\n",
      "Accuracy for k=11: 0.42 (+/- 0.13)\n",
      "Accuracy for k=13: 0.41 (+/- 0.13)\n",
      "Accuracy for k=15: 0.40 (+/- 0.14)\n",
      "Accuracy for k=17: 0.41 (+/- 0.14)\n",
      "Accuracy for k=19: 0.40 (+/- 0.15)\n",
      "Accuracy for k=21: 0.40 (+/- 0.16)\n"
     ]
    }
   ],
   "source": [
    "from sklearn.neighbors import KNeighborsClassifier\n",
    "\n",
    "ks = [1, 3, 5, 7, 9, 11, 13, 15, 17, 19, 21]\n",
    "\n",
    "for k in ks:\n",
    "    # Build model\n",
    "    clf = KNeighborsClassifier(n_neighbors=k, algorithm='auto', \n",
    "                           metric='euclidean', n_jobs=-1)\n",
    "    # Evaluate accuracy\n",
    "    scores = cross_val_score(clf, X_vect, y, cv=10)\n",
    "    print('Accuracy for k=%d: %0.2f (+/- %0.2f)' % (k, scores.mean(), scores.std() * 1.96))"
   ]
  },
  {
   "cell_type": "markdown",
   "metadata": {},
   "source": [
    "## SVM"
   ]
  },
  {
   "cell_type": "code",
   "execution_count": 19,
   "metadata": {
    "ExecuteTime": {
     "end_time": "2018-04-21T17:10:48.375783Z",
     "start_time": "2018-04-21T17:10:48.367095Z"
    },
    "deletable": false,
    "editable": false,
    "run_control": {
     "frozen": true
    }
   },
   "outputs": [],
   "source": [
    "def parameters_grid_search(classifier, params, x, y, cv=10, verbose=False):\n",
    "    \"\"\"\n",
    "    Grid Search to find best parameters for a certain classifier whose\n",
    "    performances are evaluated using cross-validation\n",
    "    \"\"\"\n",
    "    gs = GridSearchCV(classifier(), params, cv=cv, n_jobs=-1, verbose=verbose)\n",
    "    gs.fit(x, y)    \n",
    "    return (gs.best_estimator_, gs.best_params_, gs.best_score_)"
   ]
  },
  {
   "cell_type": "code",
   "execution_count": 20,
   "metadata": {
    "ExecuteTime": {
     "end_time": "2018-04-26T12:53:19.028587Z",
     "start_time": "2018-04-26T12:53:19.025039Z"
    }
   },
   "outputs": [],
   "source": [
    "from sklearn.svm import SVC"
   ]
  },
  {
   "cell_type": "code",
   "execution_count": 20,
   "metadata": {
    "ExecuteTime": {
     "end_time": "2018-04-21T17:12:15.472597Z",
     "start_time": "2018-04-21T17:10:48.380152Z"
    },
    "deletable": false,
    "editable": false,
    "run_control": {
     "frozen": true
    }
   },
   "outputs": [
    {
     "name": "stdout",
     "output_type": "stream",
     "text": [
      "Fitting 10 folds for each of 1 candidates, totalling 10 fits\n"
     ]
    },
    {
     "name": "stderr",
     "output_type": "stream",
     "text": [
      "[Parallel(n_jobs=-1)]: Done  10 out of  10 | elapsed:  1.2min finished\n"
     ]
    },
    {
     "name": "stdout",
     "output_type": "stream",
     "text": [
      "Parameters: {'kernel': 'rbf', 'C': 1}\n"
     ]
    }
   ],
   "source": [
    "# Build model\n",
    "clf = SVC()\n",
    "# Define the set of parameters we want to test on\n",
    "params = [\n",
    "    { 'kernel': ['rbf'], 'C': [ 1 ] }\n",
    "]\n",
    "\n",
    "# Perform grid search\n",
    "svm_best, best_params, best_score = parameters_grid_search(SVC, params, X_vect, y, verbose=1)\n",
    "print('Parameters:', best_params)"
   ]
  },
  {
   "cell_type": "code",
   "execution_count": 21,
   "metadata": {
    "ExecuteTime": {
     "end_time": "2018-04-21T17:13:48.196076Z",
     "start_time": "2018-04-21T17:12:15.476014Z"
    },
    "deletable": false,
    "editable": false,
    "run_control": {
     "frozen": true
    }
   },
   "outputs": [
    {
     "name": "stdout",
     "output_type": "stream",
     "text": [
      "Accuracy: 0.54 (+/- 0.08)\n"
     ]
    }
   ],
   "source": [
    "scores = cross_val_score(svm_best, X_vect, y, cv=10)\n",
    "print('Accuracy: %0.2f (+/- %0.2f)' % (scores.mean(), scores.std() * 1.96))"
   ]
  },
  {
   "cell_type": "code",
   "execution_count": 23,
   "metadata": {
    "ExecuteTime": {
     "end_time": "2018-04-26T12:56:39.530037Z",
     "start_time": "2018-04-26T12:56:30.412884Z"
    }
   },
   "outputs": [
    {
     "data": {
      "text/plain": [
       "SVC(C=1, cache_size=200, class_weight=None, coef0=0.0,\n",
       "  decision_function_shape=None, degree=3, gamma='auto', kernel='rbf',\n",
       "  max_iter=-1, probability=False, random_state=None, shrinking=True,\n",
       "  tol=0.001, verbose=False)"
      ]
     },
     "execution_count": 23,
     "metadata": {},
     "output_type": "execute_result"
    }
   ],
   "source": [
    "svm = SVC(C=1, kernel='rbf')\n",
    "svm.fit(X_train, y_train)"
   ]
  },
  {
   "cell_type": "code",
   "execution_count": 42,
   "metadata": {
    "ExecuteTime": {
     "end_time": "2018-04-26T13:04:24.078222Z",
     "start_time": "2018-04-26T13:04:21.002651Z"
    }
   },
   "outputs": [
    {
     "name": "stdout",
     "output_type": "stream",
     "text": [
      "Accuracy of SVM classifier on test set: 0.46\n"
     ]
    },
    {
     "data": {
      "image/png": "[encoded data removed]",
      "text/plain": [
       "<Figure size 432x288 with 2 Axes>"
      ]
     },
     "metadata": {},
     "output_type": "display_data"
    }
   ],
   "source": [
    "y_pred = svm.predict(X_test)\n",
    "plot_confusion_matrix(confusion_matrix(y_test, y_pred))\n",
    "print('Accuracy of SVM classifier on test set: {:.2f}'.format(svm.score(X_test, y_test)))"
   ]
  },
  {
   "cell_type": "markdown",
   "metadata": {},
   "source": [
    "## Gradient Boost"
   ]
  },
  {
   "cell_type": "code",
   "execution_count": 43,
   "metadata": {
    "ExecuteTime": {
     "end_time": "2018-04-26T13:21:12.790358Z",
     "start_time": "2018-04-26T13:04:47.416597Z"
    }
   },
   "outputs": [
    {
     "name": "stdout",
     "output_type": "stream",
     "text": [
      "Accuracy: 0.78 (+/- 0.08)\n"
     ]
    }
   ],
   "source": [
    "from sklearn.ensemble import GradientBoostingClassifier\n",
    "\n",
    "# Build model\n",
    "clf = GradientBoostingClassifier(learning_rate=0.7, n_estimators=200)\n",
    "# Evaluate accuracy\n",
    "scores = cross_val_score(clf, X_vect, y, cv=10)\n",
    "print('Accuracy: %0.2f (+/- %0.2f)' % (scores.mean(), scores.std() * 1.96))"
   ]
  },
  {
   "cell_type": "code",
   "execution_count": 44,
   "metadata": {
    "ExecuteTime": {
     "end_time": "2018-04-26T13:21:30.936158Z",
     "start_time": "2018-04-26T13:21:28.071086Z"
    }
   },
   "outputs": [
    {
     "name": "stdout",
     "output_type": "stream",
     "text": [
      "Accuracy of Gradient Boosting classifier on test set: 0.46\n"
     ]
    },
    {
     "data": {
      "image/png": "[encoded data removed]",
      "text/plain": [
       "<Figure size 432x288 with 2 Axes>"
      ]
     },
     "metadata": {},
     "output_type": "display_data"
    }
   ],
   "source": [
    "y_pred = svm.predict(X_test)\n",
    "plot_confusion_matrix(confusion_matrix(y_test, y_pred))\n",
    "print('Accuracy of Gradient Boosting classifier on test set: {:.2f}'.format(svm.score(X_test, y_test)))"
   ]
  },
  {
   "cell_type": "markdown",
   "metadata": {},
   "source": [
    "## Artificial Neural Network"
   ]
  },
  {
   "cell_type": "code",
   "execution_count": 49,
   "metadata": {
    "ExecuteTime": {
     "end_time": "2018-04-26T13:22:18.785307Z",
     "start_time": "2018-04-26T13:22:17.665379Z"
    }
   },
   "outputs": [
    {
     "name": "stderr",
     "output_type": "stream",
     "text": [
      "Using TensorFlow backend.\n"
     ]
    }
   ],
   "source": [
    "from sklearn.preprocessing import LabelEncoder\n",
    "\n",
    "#1 Splitting the dataset into the Training set and Test set\n",
    "from sklearn.model_selection import train_test_split\n",
    "X_train, X_test, y_train, y_test = train_test_split(X_vect, y, test_size = 0.2, random_state = 0)\n",
    "\n",
    "#2 y_nn should be a vector (len(X_vect),4), with a 1 in the right class\n",
    "from keras.utils import np_utils\n",
    "encoder = LabelEncoder()\n",
    "encoder.fit(y_train)\n",
    "encoded_Y = encoder.transform(y_train)\n",
    "y_nn = np_utils.to_categorical(encoded_Y)\n",
    "\n",
    "#3 Feature Scaling\n",
    "from sklearn.preprocessing import StandardScaler\n",
    "sc = StandardScaler()\n",
    "# we need to scale because we don't want one feature to predomine the others\n",
    "# Standardize features by removing the mean and scaling to unit variance\n",
    "X_train = sc.fit_transform(X_train)\n",
    "X_test = sc.transform(X_test)"
   ]
  },
  {
   "cell_type": "code",
   "execution_count": 50,
   "metadata": {
    "ExecuteTime": {
     "end_time": "2018-04-26T13:22:18.822688Z",
     "start_time": "2018-04-26T13:22:18.788325Z"
    }
   },
   "outputs": [],
   "source": [
    "#1 Importing the Keras libraries and packages\n",
    "import keras\n",
    "# Sequential module is required to initialize our ANN\n",
    "from keras.models import Sequential\n",
    "# Dense module is required to create the layers\n",
    "from keras.layers import Dense, Dropout\n",
    "    \n",
    "def build_ann(optimizer='adam', input_size=X_vect.shape[1]):\n",
    "    classifier = Sequential()\n",
    "    #2 Adding first hidden layer\n",
    "    classifier.add(Dense(units = 60, kernel_initializer = 'random_normal', activation = 'sigmoid', input_dim = input_size))\n",
    "    classifier.add(Dropout(0.5))\n",
    "    \n",
    "    #2 Adding second hidden layer\n",
    "    classifier.add(Dense(units = 60, kernel_initializer = 'random_normal', activation = 'sigmoid', input_dim = input_size))\n",
    "    classifier.add(Dropout(0.5))\n",
    "   \n",
    "\n",
    "    # Adding output layer\n",
    "    classifier.add(Dense(units = 4, kernel_initializer = 'random_normal', activation = 'softmax'))\n",
    "\n",
    "    #3 Compiling the ANN\n",
    "    classifier.compile(optimizer=optimizer, loss = 'categorical_crossentropy', metrics = ['accuracy'])\n",
    "\n",
    "    return classifier"
   ]
  },
  {
   "cell_type": "code",
   "execution_count": 51,
   "metadata": {
    "ExecuteTime": {
     "end_time": "2018-04-26T13:22:42.810726Z",
     "start_time": "2018-04-26T13:22:19.337423Z"
    },
    "scrolled": true
   },
   "outputs": [
    {
     "name": "stdout",
     "output_type": "stream",
     "text": [
      "Epoch 1/300\n",
      "3764/3764 [==============================] - 0s 95us/step - loss: 1.3495 - acc: 0.3106\n",
      "Epoch 2/300\n",
      "3764/3764 [==============================] - 0s 20us/step - loss: 1.3306 - acc: 0.3398\n",
      "Epoch 3/300\n",
      "3764/3764 [==============================] - 0s 18us/step - loss: 1.3088 - acc: 0.3871\n",
      "Epoch 4/300\n",
      "3764/3764 [==============================] - 0s 21us/step - loss: 1.2629 - acc: 0.4501\n",
      "Epoch 5/300\n",
      "3764/3764 [==============================] - 0s 21us/step - loss: 1.2020 - acc: 0.5066\n",
      "Epoch 6/300\n",
      "3764/3764 [==============================] - 0s 19us/step - loss: 1.1072 - acc: 0.5717\n",
      "Epoch 7/300\n",
      "3764/3764 [==============================] - 0s 19us/step - loss: 1.0234 - acc: 0.5871\n",
      "Epoch 8/300\n",
      "3764/3764 [==============================] - 0s 20us/step - loss: 0.9616 - acc: 0.6055\n",
      "Epoch 9/300\n",
      "3764/3764 [==============================] - 0s 21us/step - loss: 0.9179 - acc: 0.6148\n",
      "Epoch 10/300\n",
      "3764/3764 [==============================] - 0s 18us/step - loss: 0.8859 - acc: 0.6382\n",
      "Epoch 11/300\n",
      "3764/3764 [==============================] - 0s 20us/step - loss: 0.8528 - acc: 0.6512\n",
      "Epoch 12/300\n",
      "3764/3764 [==============================] - 0s 21us/step - loss: 0.8269 - acc: 0.6607\n",
      "Epoch 13/300\n",
      "3764/3764 [==============================] - 0s 19us/step - loss: 0.7958 - acc: 0.6751\n",
      "Epoch 14/300\n",
      "3764/3764 [==============================] - 0s 19us/step - loss: 0.7784 - acc: 0.6743\n",
      "Epoch 15/300\n",
      "3764/3764 [==============================] - 0s 23us/step - loss: 0.7590 - acc: 0.6876\n",
      "Epoch 16/300\n",
      "3764/3764 [==============================] - 0s 23us/step - loss: 0.7467 - acc: 0.6977\n",
      "Epoch 17/300\n",
      "3764/3764 [==============================] - 0s 24us/step - loss: 0.7208 - acc: 0.7120\n",
      "Epoch 18/300\n",
      "3764/3764 [==============================] - 0s 21us/step - loss: 0.6969 - acc: 0.7221\n",
      "Epoch 19/300\n",
      "3764/3764 [==============================] - 0s 20us/step - loss: 0.6823 - acc: 0.7279\n",
      "Epoch 20/300\n",
      "3764/3764 [==============================] - 0s 20us/step - loss: 0.6736 - acc: 0.7372\n",
      "Epoch 21/300\n",
      "3764/3764 [==============================] - 0s 21us/step - loss: 0.6579 - acc: 0.7434\n",
      "Epoch 22/300\n",
      "3764/3764 [==============================] - 0s 23us/step - loss: 0.6384 - acc: 0.7585\n",
      "Epoch 23/300\n",
      "3764/3764 [==============================] - 0s 21us/step - loss: 0.6294 - acc: 0.7630\n",
      "Epoch 24/300\n",
      "3764/3764 [==============================] - 0s 21us/step - loss: 0.6213 - acc: 0.7646\n",
      "Epoch 25/300\n",
      "3764/3764 [==============================] - 0s 20us/step - loss: 0.6091 - acc: 0.7705\n",
      "Epoch 26/300\n",
      "3764/3764 [==============================] - 0s 20us/step - loss: 0.5925 - acc: 0.7734\n",
      "Epoch 27/300\n",
      "3764/3764 [==============================] - 0s 20us/step - loss: 0.5969 - acc: 0.7742\n",
      "Epoch 28/300\n",
      "3764/3764 [==============================] - 0s 23us/step - loss: 0.5985 - acc: 0.7628\n",
      "Epoch 29/300\n",
      "3764/3764 [==============================] - 0s 21us/step - loss: 0.5810 - acc: 0.7800\n",
      "Epoch 30/300\n",
      "3764/3764 [==============================] - 0s 21us/step - loss: 0.5634 - acc: 0.7819\n",
      "Epoch 31/300\n",
      "3764/3764 [==============================] - 0s 22us/step - loss: 0.5725 - acc: 0.7776\n",
      "Epoch 32/300\n",
      "3764/3764 [==============================] - 0s 24us/step - loss: 0.5521 - acc: 0.7933\n",
      "Epoch 33/300\n",
      "3764/3764 [==============================] - 0s 25us/step - loss: 0.5637 - acc: 0.7933\n",
      "Epoch 34/300\n",
      "3764/3764 [==============================] - 0s 22us/step - loss: 0.5501 - acc: 0.7928\n",
      "Epoch 35/300\n",
      "3764/3764 [==============================] - 0s 24us/step - loss: 0.5379 - acc: 0.7973\n",
      "Epoch 36/300\n",
      "3764/3764 [==============================] - 0s 24us/step - loss: 0.5443 - acc: 0.7909\n",
      "Epoch 37/300\n",
      "3764/3764 [==============================] - 0s 19us/step - loss: 0.5250 - acc: 0.7999\n",
      "Epoch 38/300\n",
      "3764/3764 [==============================] - 0s 21us/step - loss: 0.5207 - acc: 0.8045\n",
      "Epoch 39/300\n",
      "3764/3764 [==============================] - 0s 21us/step - loss: 0.5237 - acc: 0.8055\n",
      "Epoch 40/300\n",
      "3764/3764 [==============================] - 0s 22us/step - loss: 0.5149 - acc: 0.7984\n",
      "Epoch 41/300\n",
      "3764/3764 [==============================] - 0s 24us/step - loss: 0.5055 - acc: 0.8119\n",
      "Epoch 42/300\n",
      "3764/3764 [==============================] - 0s 25us/step - loss: 0.5150 - acc: 0.8047\n",
      "Epoch 43/300\n",
      "3764/3764 [==============================] - 0s 22us/step - loss: 0.5030 - acc: 0.8183\n",
      "Epoch 44/300\n",
      "3764/3764 [==============================] - 0s 22us/step - loss: 0.5025 - acc: 0.8098\n",
      "Epoch 45/300\n",
      "3764/3764 [==============================] - 0s 21us/step - loss: 0.4877 - acc: 0.8244\n",
      "Epoch 46/300\n",
      "3764/3764 [==============================] - 0s 20us/step - loss: 0.4964 - acc: 0.8135\n",
      "Epoch 47/300\n",
      "3764/3764 [==============================] - 0s 23us/step - loss: 0.4878 - acc: 0.8217\n",
      "Epoch 48/300\n",
      "3764/3764 [==============================] - 0s 22us/step - loss: 0.4885 - acc: 0.8135\n",
      "Epoch 49/300\n",
      "3764/3764 [==============================] - 0s 23us/step - loss: 0.4833 - acc: 0.8220\n",
      "Epoch 50/300\n",
      "3764/3764 [==============================] - 0s 24us/step - loss: 0.4936 - acc: 0.8114\n",
      "Epoch 51/300\n",
      "3764/3764 [==============================] - 0s 20us/step - loss: 0.4799 - acc: 0.8225\n",
      "Epoch 52/300\n",
      "3764/3764 [==============================] - 0s 22us/step - loss: 0.4772 - acc: 0.8175\n",
      "Epoch 53/300\n",
      "3764/3764 [==============================] - 0s 22us/step - loss: 0.4866 - acc: 0.8199\n",
      "Epoch 54/300\n",
      "3764/3764 [==============================] - 0s 23us/step - loss: 0.4731 - acc: 0.8201\n",
      "Epoch 55/300\n",
      "3764/3764 [==============================] - 0s 23us/step - loss: 0.4721 - acc: 0.8231\n",
      "Epoch 56/300\n",
      "3764/3764 [==============================] - 0s 21us/step - loss: 0.4747 - acc: 0.8278\n",
      "Epoch 57/300\n",
      "3764/3764 [==============================] - 0s 26us/step - loss: 0.4637 - acc: 0.8255\n",
      "Epoch 58/300\n",
      "3764/3764 [==============================] - 0s 21us/step - loss: 0.4633 - acc: 0.8199\n",
      "Epoch 59/300\n",
      "3764/3764 [==============================] - 0s 21us/step - loss: 0.4577 - acc: 0.8334\n",
      "Epoch 60/300\n",
      "3764/3764 [==============================] - 0s 20us/step - loss: 0.4581 - acc: 0.8252\n",
      "Epoch 61/300\n",
      "3764/3764 [==============================] - 0s 22us/step - loss: 0.4566 - acc: 0.8241\n",
      "Epoch 62/300\n",
      "3764/3764 [==============================] - 0s 20us/step - loss: 0.4457 - acc: 0.8363\n",
      "Epoch 63/300\n",
      "3764/3764 [==============================] - 0s 21us/step - loss: 0.4492 - acc: 0.8278\n",
      "Epoch 64/300\n",
      "3764/3764 [==============================] - 0s 22us/step - loss: 0.4442 - acc: 0.8369\n",
      "Epoch 65/300\n",
      "3764/3764 [==============================] - 0s 22us/step - loss: 0.4446 - acc: 0.8316\n",
      "Epoch 66/300\n",
      "3764/3764 [==============================] - 0s 22us/step - loss: 0.4539 - acc: 0.8337\n",
      "Epoch 67/300\n",
      "3764/3764 [==============================] - 0s 21us/step - loss: 0.4255 - acc: 0.8385\n",
      "Epoch 68/300\n",
      "3764/3764 [==============================] - 0s 23us/step - loss: 0.4350 - acc: 0.8382\n",
      "Epoch 69/300\n",
      "3764/3764 [==============================] - 0s 21us/step - loss: 0.4283 - acc: 0.8448\n",
      "Epoch 70/300\n",
      "3764/3764 [==============================] - 0s 21us/step - loss: 0.4297 - acc: 0.8385\n",
      "Epoch 71/300\n",
      "3764/3764 [==============================] - 0s 21us/step - loss: 0.4370 - acc: 0.8401\n",
      "Epoch 72/300\n",
      "3764/3764 [==============================] - 0s 22us/step - loss: 0.4221 - acc: 0.8435\n",
      "Epoch 73/300\n",
      "3764/3764 [==============================] - 0s 20us/step - loss: 0.4365 - acc: 0.8374\n",
      "Epoch 74/300\n",
      "3764/3764 [==============================] - 0s 23us/step - loss: 0.4154 - acc: 0.8387\n",
      "Epoch 75/300\n",
      "3764/3764 [==============================] - 0s 20us/step - loss: 0.4157 - acc: 0.8451\n",
      "Epoch 76/300\n",
      "3764/3764 [==============================] - 0s 23us/step - loss: 0.4160 - acc: 0.8401\n",
      "Epoch 77/300\n",
      "3764/3764 [==============================] - 0s 20us/step - loss: 0.4155 - acc: 0.8470\n",
      "Epoch 78/300\n",
      "3764/3764 [==============================] - 0s 20us/step - loss: 0.4170 - acc: 0.8462\n",
      "Epoch 79/300\n",
      "3764/3764 [==============================] - 0s 22us/step - loss: 0.4164 - acc: 0.8419\n",
      "Epoch 80/300\n",
      "3764/3764 [==============================] - 0s 22us/step - loss: 0.4188 - acc: 0.8427\n",
      "Epoch 81/300\n",
      "3764/3764 [==============================] - 0s 23us/step - loss: 0.4116 - acc: 0.8456\n",
      "Epoch 82/300\n",
      "3764/3764 [==============================] - 0s 21us/step - loss: 0.4021 - acc: 0.8515\n",
      "Epoch 83/300\n"
     ]
    },
    {
     "name": "stdout",
     "output_type": "stream",
     "text": [
      "3764/3764 [==============================] - 0s 21us/step - loss: 0.4059 - acc: 0.8462\n",
      "Epoch 84/300\n",
      "3764/3764 [==============================] - 0s 19us/step - loss: 0.4076 - acc: 0.8433\n",
      "Epoch 85/300\n",
      "3764/3764 [==============================] - 0s 20us/step - loss: 0.4052 - acc: 0.8480\n",
      "Epoch 86/300\n",
      "3764/3764 [==============================] - 0s 17us/step - loss: 0.4005 - acc: 0.8472\n",
      "Epoch 87/300\n",
      "3764/3764 [==============================] - 0s 18us/step - loss: 0.4087 - acc: 0.8510\n",
      "Epoch 88/300\n",
      "3764/3764 [==============================] - 0s 19us/step - loss: 0.3907 - acc: 0.8502\n",
      "Epoch 89/300\n",
      "3764/3764 [==============================] - 0s 19us/step - loss: 0.3989 - acc: 0.8552\n",
      "Epoch 90/300\n",
      "3764/3764 [==============================] - 0s 19us/step - loss: 0.3876 - acc: 0.8597\n",
      "Epoch 91/300\n",
      "3764/3764 [==============================] - 0s 20us/step - loss: 0.3939 - acc: 0.8523\n",
      "Epoch 92/300\n",
      "3764/3764 [==============================] - 0s 20us/step - loss: 0.3804 - acc: 0.8560\n",
      "Epoch 93/300\n",
      "3764/3764 [==============================] - 0s 21us/step - loss: 0.3946 - acc: 0.8478\n",
      "Epoch 94/300\n",
      "3764/3764 [==============================] - 0s 20us/step - loss: 0.3917 - acc: 0.8454\n",
      "Epoch 95/300\n",
      "3764/3764 [==============================] - 0s 17us/step - loss: 0.3846 - acc: 0.8544\n",
      "Epoch 96/300\n",
      "3764/3764 [==============================] - 0s 18us/step - loss: 0.3820 - acc: 0.8571\n",
      "Epoch 97/300\n",
      "3764/3764 [==============================] - 0s 22us/step - loss: 0.3932 - acc: 0.8560\n",
      "Epoch 98/300\n",
      "3764/3764 [==============================] - 0s 19us/step - loss: 0.3834 - acc: 0.8579\n",
      "Epoch 99/300\n",
      "3764/3764 [==============================] - 0s 17us/step - loss: 0.3821 - acc: 0.8557\n",
      "Epoch 100/300\n",
      "3764/3764 [==============================] - 0s 18us/step - loss: 0.3839 - acc: 0.8475\n",
      "Epoch 101/300\n",
      "3764/3764 [==============================] - 0s 22us/step - loss: 0.3787 - acc: 0.8645\n",
      "Epoch 102/300\n",
      "3764/3764 [==============================] - 0s 20us/step - loss: 0.3836 - acc: 0.8616\n",
      "Epoch 103/300\n",
      "3764/3764 [==============================] - 0s 18us/step - loss: 0.3834 - acc: 0.8589\n",
      "Epoch 104/300\n",
      "3764/3764 [==============================] - 0s 20us/step - loss: 0.3741 - acc: 0.8626\n",
      "Epoch 105/300\n",
      "3764/3764 [==============================] - 0s 21us/step - loss: 0.3823 - acc: 0.8571\n",
      "Epoch 106/300\n",
      "3764/3764 [==============================] - 0s 18us/step - loss: 0.3569 - acc: 0.8677\n",
      "Epoch 107/300\n",
      "3764/3764 [==============================] - 0s 19us/step - loss: 0.3746 - acc: 0.8584\n",
      "Epoch 108/300\n",
      "3764/3764 [==============================] - 0s 21us/step - loss: 0.3584 - acc: 0.8595\n",
      "Epoch 109/300\n",
      "3764/3764 [==============================] - 0s 20us/step - loss: 0.3630 - acc: 0.8595\n",
      "Epoch 110/300\n",
      "3764/3764 [==============================] - 0s 20us/step - loss: 0.3550 - acc: 0.8621\n",
      "Epoch 111/300\n",
      "3764/3764 [==============================] - 0s 19us/step - loss: 0.3573 - acc: 0.8688\n",
      "Epoch 112/300\n",
      "3764/3764 [==============================] - 0s 20us/step - loss: 0.3625 - acc: 0.8632\n",
      "Epoch 113/300\n",
      "3764/3764 [==============================] - 0s 20us/step - loss: 0.3588 - acc: 0.8656\n",
      "Epoch 114/300\n",
      "3764/3764 [==============================] - 0s 21us/step - loss: 0.3635 - acc: 0.8552\n",
      "Epoch 115/300\n",
      "3764/3764 [==============================] - 0s 20us/step - loss: 0.3655 - acc: 0.8568\n",
      "Epoch 116/300\n",
      "3764/3764 [==============================] - 0s 20us/step - loss: 0.3585 - acc: 0.8642\n",
      "Epoch 117/300\n",
      "3764/3764 [==============================] - 0s 20us/step - loss: 0.3584 - acc: 0.8653\n",
      "Epoch 118/300\n",
      "3764/3764 [==============================] - 0s 20us/step - loss: 0.3518 - acc: 0.8642\n",
      "Epoch 119/300\n",
      "3764/3764 [==============================] - 0s 19us/step - loss: 0.3531 - acc: 0.8634\n",
      "Epoch 120/300\n",
      "3764/3764 [==============================] - 0s 19us/step - loss: 0.3636 - acc: 0.8645\n",
      "Epoch 121/300\n",
      "3764/3764 [==============================] - 0s 19us/step - loss: 0.3374 - acc: 0.8693\n",
      "Epoch 122/300\n",
      "3764/3764 [==============================] - 0s 21us/step - loss: 0.3385 - acc: 0.8719\n",
      "Epoch 123/300\n",
      "3764/3764 [==============================] - 0s 21us/step - loss: 0.3338 - acc: 0.8717\n",
      "Epoch 124/300\n",
      "3764/3764 [==============================] - 0s 22us/step - loss: 0.3516 - acc: 0.8656\n",
      "Epoch 125/300\n",
      "3764/3764 [==============================] - 0s 18us/step - loss: 0.3361 - acc: 0.8735\n",
      "Epoch 126/300\n",
      "3764/3764 [==============================] - 0s 19us/step - loss: 0.3418 - acc: 0.8746\n",
      "Epoch 127/300\n",
      "3764/3764 [==============================] - 0s 20us/step - loss: 0.3295 - acc: 0.8767\n",
      "Epoch 128/300\n",
      "3764/3764 [==============================] - 0s 21us/step - loss: 0.3422 - acc: 0.8677\n",
      "Epoch 129/300\n",
      "3764/3764 [==============================] - 0s 21us/step - loss: 0.3446 - acc: 0.8674\n",
      "Epoch 130/300\n",
      "3764/3764 [==============================] - 0s 18us/step - loss: 0.3399 - acc: 0.8674\n",
      "Epoch 131/300\n",
      "3764/3764 [==============================] - 0s 18us/step - loss: 0.3434 - acc: 0.8674\n",
      "Epoch 132/300\n",
      "3764/3764 [==============================] - 0s 19us/step - loss: 0.3406 - acc: 0.8661\n",
      "Epoch 133/300\n",
      "3764/3764 [==============================] - 0s 19us/step - loss: 0.3497 - acc: 0.8696\n",
      "Epoch 134/300\n",
      "3764/3764 [==============================] - 0s 19us/step - loss: 0.3307 - acc: 0.8714\n",
      "Epoch 135/300\n",
      "3764/3764 [==============================] - 0s 19us/step - loss: 0.3309 - acc: 0.8759\n",
      "Epoch 136/300\n",
      "3764/3764 [==============================] - 0s 19us/step - loss: 0.3371 - acc: 0.8688\n",
      "Epoch 137/300\n",
      "3764/3764 [==============================] - 0s 19us/step - loss: 0.3325 - acc: 0.8735\n",
      "Epoch 138/300\n",
      "3764/3764 [==============================] - 0s 19us/step - loss: 0.3379 - acc: 0.8743\n",
      "Epoch 139/300\n",
      "3764/3764 [==============================] - 0s 19us/step - loss: 0.3338 - acc: 0.8749\n",
      "Epoch 140/300\n",
      "3764/3764 [==============================] - 0s 19us/step - loss: 0.3242 - acc: 0.8812\n",
      "Epoch 141/300\n",
      "3764/3764 [==============================] - 0s 19us/step - loss: 0.3279 - acc: 0.8810\n",
      "Epoch 142/300\n",
      "3764/3764 [==============================] - 0s 18us/step - loss: 0.3243 - acc: 0.8767\n",
      "Epoch 143/300\n",
      "3764/3764 [==============================] - 0s 19us/step - loss: 0.3302 - acc: 0.8730\n",
      "Epoch 144/300\n",
      "3764/3764 [==============================] - 0s 18us/step - loss: 0.3261 - acc: 0.8799\n",
      "Epoch 145/300\n",
      "3764/3764 [==============================] - 0s 19us/step - loss: 0.3204 - acc: 0.8783\n",
      "Epoch 146/300\n",
      "3764/3764 [==============================] - 0s 20us/step - loss: 0.3282 - acc: 0.8767\n",
      "Epoch 147/300\n",
      "3764/3764 [==============================] - 0s 19us/step - loss: 0.3173 - acc: 0.8836\n",
      "Epoch 148/300\n",
      "3764/3764 [==============================] - 0s 20us/step - loss: 0.3171 - acc: 0.8789\n",
      "Epoch 149/300\n",
      "3764/3764 [==============================] - 0s 19us/step - loss: 0.3152 - acc: 0.8852\n",
      "Epoch 150/300\n",
      "3764/3764 [==============================] - 0s 19us/step - loss: 0.3227 - acc: 0.8794\n",
      "Epoch 151/300\n",
      "3764/3764 [==============================] - 0s 20us/step - loss: 0.3128 - acc: 0.8871\n",
      "Epoch 152/300\n",
      "3764/3764 [==============================] - 0s 20us/step - loss: 0.3251 - acc: 0.8762\n",
      "Epoch 153/300\n",
      "3764/3764 [==============================] - 0s 18us/step - loss: 0.3108 - acc: 0.8815\n",
      "Epoch 154/300\n",
      "3764/3764 [==============================] - 0s 21us/step - loss: 0.3079 - acc: 0.8826\n",
      "Epoch 155/300\n",
      "3764/3764 [==============================] - 0s 21us/step - loss: 0.3059 - acc: 0.8823\n",
      "Epoch 156/300\n",
      "3764/3764 [==============================] - 0s 21us/step - loss: 0.3134 - acc: 0.8871\n",
      "Epoch 157/300\n",
      "3764/3764 [==============================] - 0s 21us/step - loss: 0.3048 - acc: 0.8839\n",
      "Epoch 158/300\n",
      "3764/3764 [==============================] - 0s 20us/step - loss: 0.2946 - acc: 0.8940\n",
      "Epoch 159/300\n",
      "3764/3764 [==============================] - 0s 19us/step - loss: 0.3086 - acc: 0.8802\n",
      "Epoch 160/300\n",
      "3764/3764 [==============================] - 0s 20us/step - loss: 0.3022 - acc: 0.8927\n",
      "Epoch 161/300\n",
      "3764/3764 [==============================] - 0s 20us/step - loss: 0.3067 - acc: 0.8874\n",
      "Epoch 162/300\n",
      "3764/3764 [==============================] - 0s 21us/step - loss: 0.3055 - acc: 0.8844\n",
      "Epoch 163/300\n",
      "3764/3764 [==============================] - 0s 20us/step - loss: 0.3130 - acc: 0.8889\n",
      "Epoch 164/300\n"
     ]
    },
    {
     "name": "stdout",
     "output_type": "stream",
     "text": [
      "3764/3764 [==============================] - 0s 19us/step - loss: 0.2992 - acc: 0.8895\n",
      "Epoch 165/300\n",
      "3764/3764 [==============================] - 0s 18us/step - loss: 0.3150 - acc: 0.8831\n",
      "Epoch 166/300\n",
      "3764/3764 [==============================] - 0s 17us/step - loss: 0.3060 - acc: 0.8863\n",
      "Epoch 167/300\n",
      "3764/3764 [==============================] - 0s 18us/step - loss: 0.3083 - acc: 0.8844\n",
      "Epoch 168/300\n",
      "3764/3764 [==============================] - 0s 17us/step - loss: 0.2917 - acc: 0.8863\n",
      "Epoch 169/300\n",
      "3764/3764 [==============================] - 0s 20us/step - loss: 0.3027 - acc: 0.8844\n",
      "Epoch 170/300\n",
      "3764/3764 [==============================] - 0s 19us/step - loss: 0.3000 - acc: 0.8871\n",
      "Epoch 171/300\n",
      "3764/3764 [==============================] - 0s 17us/step - loss: 0.2919 - acc: 0.8961\n",
      "Epoch 172/300\n",
      "3764/3764 [==============================] - 0s 18us/step - loss: 0.2942 - acc: 0.8921\n",
      "Epoch 173/300\n",
      "3764/3764 [==============================] - 0s 18us/step - loss: 0.3053 - acc: 0.8868\n",
      "Epoch 174/300\n",
      "3764/3764 [==============================] - 0s 18us/step - loss: 0.3019 - acc: 0.8916\n",
      "Epoch 175/300\n",
      "3764/3764 [==============================] - 0s 17us/step - loss: 0.2996 - acc: 0.8866\n",
      "Epoch 176/300\n",
      "3764/3764 [==============================] - 0s 19us/step - loss: 0.2901 - acc: 0.8908\n",
      "Epoch 177/300\n",
      "3764/3764 [==============================] - 0s 18us/step - loss: 0.3007 - acc: 0.8900\n",
      "Epoch 178/300\n",
      "3764/3764 [==============================] - 0s 19us/step - loss: 0.2816 - acc: 0.8943\n",
      "Epoch 179/300\n",
      "3764/3764 [==============================] - 0s 20us/step - loss: 0.2901 - acc: 0.8956\n",
      "Epoch 180/300\n",
      "3764/3764 [==============================] - 0s 18us/step - loss: 0.2910 - acc: 0.8924\n",
      "Epoch 181/300\n",
      "3764/3764 [==============================] - 0s 18us/step - loss: 0.2873 - acc: 0.8932\n",
      "Epoch 182/300\n",
      "3764/3764 [==============================] - 0s 18us/step - loss: 0.2932 - acc: 0.8892\n",
      "Epoch 183/300\n",
      "3764/3764 [==============================] - 0s 18us/step - loss: 0.2795 - acc: 0.8953\n",
      "Epoch 184/300\n",
      "3764/3764 [==============================] - 0s 19us/step - loss: 0.2802 - acc: 0.8916\n",
      "Epoch 185/300\n",
      "3764/3764 [==============================] - 0s 18us/step - loss: 0.2805 - acc: 0.8985\n",
      "Epoch 186/300\n",
      "3764/3764 [==============================] - 0s 19us/step - loss: 0.2751 - acc: 0.8964\n",
      "Epoch 187/300\n",
      "3764/3764 [==============================] - 0s 18us/step - loss: 0.2784 - acc: 0.8959\n",
      "Epoch 188/300\n",
      "3764/3764 [==============================] - 0s 18us/step - loss: 0.2889 - acc: 0.8911\n",
      "Epoch 189/300\n",
      "3764/3764 [==============================] - 0s 19us/step - loss: 0.2915 - acc: 0.8919\n",
      "Epoch 190/300\n",
      "3764/3764 [==============================] - 0s 19us/step - loss: 0.2785 - acc: 0.9001\n",
      "Epoch 191/300\n",
      "3764/3764 [==============================] - 0s 19us/step - loss: 0.2823 - acc: 0.9006\n",
      "Epoch 192/300\n",
      "3764/3764 [==============================] - 0s 21us/step - loss: 0.2873 - acc: 0.8961\n",
      "Epoch 193/300\n",
      "3764/3764 [==============================] - 0s 19us/step - loss: 0.2731 - acc: 0.8988\n",
      "Epoch 194/300\n",
      "3764/3764 [==============================] - 0s 21us/step - loss: 0.2766 - acc: 0.9001\n",
      "Epoch 195/300\n",
      "3764/3764 [==============================] - 0s 20us/step - loss: 0.2665 - acc: 0.8990\n",
      "Epoch 196/300\n",
      "3764/3764 [==============================] - 0s 18us/step - loss: 0.2710 - acc: 0.9028\n",
      "Epoch 197/300\n",
      "3764/3764 [==============================] - 0s 18us/step - loss: 0.2839 - acc: 0.8940\n",
      "Epoch 198/300\n",
      "3764/3764 [==============================] - 0s 19us/step - loss: 0.2734 - acc: 0.9049\n",
      "Epoch 199/300\n",
      "3764/3764 [==============================] - 0s 19us/step - loss: 0.2751 - acc: 0.9009\n",
      "Epoch 200/300\n",
      "3764/3764 [==============================] - 0s 18us/step - loss: 0.2716 - acc: 0.8967\n",
      "Epoch 201/300\n",
      "3764/3764 [==============================] - 0s 18us/step - loss: 0.2838 - acc: 0.8937\n",
      "Epoch 202/300\n",
      "3764/3764 [==============================] - 0s 19us/step - loss: 0.2682 - acc: 0.8980\n",
      "Epoch 203/300\n",
      "3764/3764 [==============================] - 0s 18us/step - loss: 0.2654 - acc: 0.9022\n",
      "Epoch 204/300\n",
      "3764/3764 [==============================] - 0s 19us/step - loss: 0.2709 - acc: 0.9004\n",
      "Epoch 205/300\n",
      "3764/3764 [==============================] - 0s 18us/step - loss: 0.2726 - acc: 0.8953\n",
      "Epoch 206/300\n",
      "3764/3764 [==============================] - 0s 18us/step - loss: 0.2629 - acc: 0.9025\n",
      "Epoch 207/300\n",
      "3764/3764 [==============================] - 0s 19us/step - loss: 0.2568 - acc: 0.9081\n",
      "Epoch 208/300\n",
      "3764/3764 [==============================] - 0s 18us/step - loss: 0.2776 - acc: 0.9009\n",
      "Epoch 209/300\n",
      "3764/3764 [==============================] - 0s 19us/step - loss: 0.2689 - acc: 0.8985\n",
      "Epoch 210/300\n",
      "3764/3764 [==============================] - 0s 19us/step - loss: 0.2567 - acc: 0.9073\n",
      "Epoch 211/300\n",
      "3764/3764 [==============================] - 0s 19us/step - loss: 0.2582 - acc: 0.9049\n",
      "Epoch 212/300\n",
      "3764/3764 [==============================] - 0s 18us/step - loss: 0.2726 - acc: 0.8982\n",
      "Epoch 213/300\n",
      "3764/3764 [==============================] - 0s 19us/step - loss: 0.2639 - acc: 0.9001\n",
      "Epoch 214/300\n",
      "3764/3764 [==============================] - 0s 18us/step - loss: 0.2517 - acc: 0.9102\n",
      "Epoch 215/300\n",
      "3764/3764 [==============================] - 0s 19us/step - loss: 0.2576 - acc: 0.9057\n",
      "Epoch 216/300\n",
      "3764/3764 [==============================] - 0s 19us/step - loss: 0.2609 - acc: 0.8996\n",
      "Epoch 217/300\n",
      "3764/3764 [==============================] - 0s 20us/step - loss: 0.2654 - acc: 0.8982\n",
      "Epoch 218/300\n",
      "3764/3764 [==============================] - 0s 19us/step - loss: 0.2593 - acc: 0.9041\n",
      "Epoch 219/300\n",
      "3764/3764 [==============================] - 0s 19us/step - loss: 0.2549 - acc: 0.9089\n",
      "Epoch 220/300\n",
      "3764/3764 [==============================] - 0s 18us/step - loss: 0.2621 - acc: 0.9036\n",
      "Epoch 221/300\n",
      "3764/3764 [==============================] - 0s 19us/step - loss: 0.2495 - acc: 0.9012\n",
      "Epoch 222/300\n",
      "3764/3764 [==============================] - 0s 20us/step - loss: 0.2584 - acc: 0.9020\n",
      "Epoch 223/300\n",
      "3764/3764 [==============================] - 0s 19us/step - loss: 0.2497 - acc: 0.9054\n",
      "Epoch 224/300\n",
      "3764/3764 [==============================] - 0s 18us/step - loss: 0.2483 - acc: 0.9086\n",
      "Epoch 225/300\n",
      "3764/3764 [==============================] - 0s 19us/step - loss: 0.2558 - acc: 0.9070\n",
      "Epoch 226/300\n",
      "3764/3764 [==============================] - 0s 19us/step - loss: 0.2596 - acc: 0.9038\n",
      "Epoch 227/300\n",
      "3764/3764 [==============================] - 0s 18us/step - loss: 0.2391 - acc: 0.9097\n",
      "Epoch 228/300\n",
      "3764/3764 [==============================] - 0s 20us/step - loss: 0.2431 - acc: 0.9094\n",
      "Epoch 229/300\n",
      "3764/3764 [==============================] - 0s 20us/step - loss: 0.2635 - acc: 0.9070\n",
      "Epoch 230/300\n",
      "3764/3764 [==============================] - 0s 19us/step - loss: 0.2548 - acc: 0.9078\n",
      "Epoch 231/300\n",
      "3764/3764 [==============================] - 0s 19us/step - loss: 0.2583 - acc: 0.8967\n",
      "Epoch 232/300\n",
      "3764/3764 [==============================] - 0s 20us/step - loss: 0.2589 - acc: 0.9038\n",
      "Epoch 233/300\n",
      "3764/3764 [==============================] - 0s 20us/step - loss: 0.2525 - acc: 0.9052\n",
      "Epoch 234/300\n",
      "3764/3764 [==============================] - 0s 20us/step - loss: 0.2418 - acc: 0.9083\n",
      "Epoch 235/300\n",
      "3764/3764 [==============================] - 0s 18us/step - loss: 0.2620 - acc: 0.9052\n",
      "Epoch 236/300\n",
      "3764/3764 [==============================] - 0s 20us/step - loss: 0.2446 - acc: 0.9091\n",
      "Epoch 237/300\n",
      "3764/3764 [==============================] - 0s 19us/step - loss: 0.2407 - acc: 0.9145\n",
      "Epoch 238/300\n",
      "3764/3764 [==============================] - 0s 19us/step - loss: 0.2544 - acc: 0.9025\n",
      "Epoch 239/300\n",
      "3764/3764 [==============================] - 0s 18us/step - loss: 0.2643 - acc: 0.8945\n",
      "Epoch 240/300\n",
      "3764/3764 [==============================] - 0s 19us/step - loss: 0.2427 - acc: 0.9129\n",
      "Epoch 241/300\n",
      "3764/3764 [==============================] - 0s 21us/step - loss: 0.2390 - acc: 0.9129\n",
      "Epoch 242/300\n",
      "3764/3764 [==============================] - 0s 19us/step - loss: 0.2346 - acc: 0.9118\n",
      "Epoch 243/300\n",
      "3764/3764 [==============================] - 0s 20us/step - loss: 0.2412 - acc: 0.9142\n",
      "Epoch 244/300\n",
      "3764/3764 [==============================] - 0s 20us/step - loss: 0.2429 - acc: 0.9102\n",
      "Epoch 245/300\n"
     ]
    },
    {
     "name": "stdout",
     "output_type": "stream",
     "text": [
      "3764/3764 [==============================] - 0s 19us/step - loss: 0.2438 - acc: 0.9094\n",
      "Epoch 246/300\n",
      "3764/3764 [==============================] - 0s 20us/step - loss: 0.2292 - acc: 0.9145\n",
      "Epoch 247/300\n",
      "3764/3764 [==============================] - 0s 19us/step - loss: 0.2410 - acc: 0.9121\n",
      "Epoch 248/300\n",
      "3764/3764 [==============================] - 0s 19us/step - loss: 0.2367 - acc: 0.9105\n",
      "Epoch 249/300\n",
      "3764/3764 [==============================] - 0s 18us/step - loss: 0.2337 - acc: 0.9134\n",
      "Epoch 250/300\n",
      "3764/3764 [==============================] - 0s 19us/step - loss: 0.2360 - acc: 0.9139\n",
      "Epoch 251/300\n",
      "3764/3764 [==============================] - 0s 18us/step - loss: 0.2526 - acc: 0.9046\n",
      "Epoch 252/300\n",
      "3764/3764 [==============================] - 0s 18us/step - loss: 0.2447 - acc: 0.9086\n",
      "Epoch 253/300\n",
      "3764/3764 [==============================] - 0s 18us/step - loss: 0.2410 - acc: 0.9150\n",
      "Epoch 254/300\n",
      "3764/3764 [==============================] - 0s 19us/step - loss: 0.2434 - acc: 0.9086\n",
      "Epoch 255/300\n",
      "3764/3764 [==============================] - 0s 19us/step - loss: 0.2348 - acc: 0.9094\n",
      "Epoch 256/300\n",
      "3764/3764 [==============================] - 0s 17us/step - loss: 0.2474 - acc: 0.9118\n",
      "Epoch 257/300\n",
      "3764/3764 [==============================] - 0s 18us/step - loss: 0.2201 - acc: 0.9182\n",
      "Epoch 258/300\n",
      "3764/3764 [==============================] - 0s 19us/step - loss: 0.2387 - acc: 0.9160\n",
      "Epoch 259/300\n",
      "3764/3764 [==============================] - 0s 18us/step - loss: 0.2427 - acc: 0.9134\n",
      "Epoch 260/300\n",
      "3764/3764 [==============================] - 0s 19us/step - loss: 0.2482 - acc: 0.9121\n",
      "Epoch 261/300\n",
      "3764/3764 [==============================] - 0s 18us/step - loss: 0.2329 - acc: 0.9147\n",
      "Epoch 262/300\n",
      "3764/3764 [==============================] - 0s 19us/step - loss: 0.2276 - acc: 0.9171\n",
      "Epoch 263/300\n",
      "3764/3764 [==============================] - 0s 20us/step - loss: 0.2273 - acc: 0.9198\n",
      "Epoch 264/300\n",
      "3764/3764 [==============================] - 0s 18us/step - loss: 0.2281 - acc: 0.9110\n",
      "Epoch 265/300\n",
      "3764/3764 [==============================] - 0s 18us/step - loss: 0.2360 - acc: 0.9102\n",
      "Epoch 266/300\n",
      "3764/3764 [==============================] - 0s 18us/step - loss: 0.2311 - acc: 0.9145\n",
      "Epoch 267/300\n",
      "3764/3764 [==============================] - 0s 20us/step - loss: 0.2333 - acc: 0.9139\n",
      "Epoch 268/300\n",
      "3764/3764 [==============================] - 0s 17us/step - loss: 0.2358 - acc: 0.9198\n",
      "Epoch 269/300\n",
      "3764/3764 [==============================] - 0s 18us/step - loss: 0.2367 - acc: 0.9129\n",
      "Epoch 270/300\n",
      "3764/3764 [==============================] - 0s 20us/step - loss: 0.2288 - acc: 0.9145\n",
      "Epoch 271/300\n",
      "3764/3764 [==============================] - 0s 19us/step - loss: 0.2232 - acc: 0.9179\n",
      "Epoch 272/300\n",
      "3764/3764 [==============================] - 0s 19us/step - loss: 0.2330 - acc: 0.9145\n",
      "Epoch 273/300\n",
      "3764/3764 [==============================] - 0s 19us/step - loss: 0.2241 - acc: 0.9152\n",
      "Epoch 274/300\n",
      "3764/3764 [==============================] - 0s 20us/step - loss: 0.2268 - acc: 0.9182\n",
      "Epoch 275/300\n",
      "3764/3764 [==============================] - 0s 21us/step - loss: 0.2192 - acc: 0.9142\n",
      "Epoch 276/300\n",
      "3764/3764 [==============================] - 0s 20us/step - loss: 0.2248 - acc: 0.9137\n",
      "Epoch 277/300\n",
      "3764/3764 [==============================] - 0s 21us/step - loss: 0.2286 - acc: 0.9139\n",
      "Epoch 278/300\n",
      "3764/3764 [==============================] - 0s 18us/step - loss: 0.2278 - acc: 0.9139\n",
      "Epoch 279/300\n",
      "3764/3764 [==============================] - 0s 18us/step - loss: 0.2237 - acc: 0.9155\n",
      "Epoch 280/300\n",
      "3764/3764 [==============================] - 0s 19us/step - loss: 0.2283 - acc: 0.9245\n",
      "Epoch 281/300\n",
      "3764/3764 [==============================] - 0s 19us/step - loss: 0.2356 - acc: 0.9083\n",
      "Epoch 282/300\n",
      "3764/3764 [==============================] - 0s 19us/step - loss: 0.2197 - acc: 0.9174\n",
      "Epoch 283/300\n",
      "3764/3764 [==============================] - 0s 18us/step - loss: 0.2140 - acc: 0.9176\n",
      "Epoch 284/300\n",
      "3764/3764 [==============================] - 0s 18us/step - loss: 0.2113 - acc: 0.9227\n",
      "Epoch 285/300\n",
      "3764/3764 [==============================] - 0s 19us/step - loss: 0.2227 - acc: 0.9163\n",
      "Epoch 286/300\n",
      "3764/3764 [==============================] - 0s 18us/step - loss: 0.2145 - acc: 0.9240\n",
      "Epoch 287/300\n",
      "3764/3764 [==============================] - 0s 19us/step - loss: 0.2245 - acc: 0.9184\n",
      "Epoch 288/300\n",
      "3764/3764 [==============================] - 0s 19us/step - loss: 0.2295 - acc: 0.9134\n",
      "Epoch 289/300\n",
      "3764/3764 [==============================] - 0s 20us/step - loss: 0.2086 - acc: 0.9307\n",
      "Epoch 290/300\n",
      "3764/3764 [==============================] - 0s 20us/step - loss: 0.1991 - acc: 0.9272\n",
      "Epoch 291/300\n",
      "3764/3764 [==============================] - 0s 18us/step - loss: 0.2232 - acc: 0.9195\n",
      "Epoch 292/300\n",
      "3764/3764 [==============================] - 0s 19us/step - loss: 0.2137 - acc: 0.9184\n",
      "Epoch 293/300\n",
      "3764/3764 [==============================] - 0s 18us/step - loss: 0.2193 - acc: 0.9245\n",
      "Epoch 294/300\n",
      "3764/3764 [==============================] - 0s 18us/step - loss: 0.2152 - acc: 0.9163: 0s - loss: 0.2212 - acc: 0.915\n",
      "Epoch 295/300\n",
      "3764/3764 [==============================] - 0s 19us/step - loss: 0.2139 - acc: 0.9184\n",
      "Epoch 296/300\n",
      "3764/3764 [==============================] - 0s 19us/step - loss: 0.2190 - acc: 0.9195\n",
      "Epoch 297/300\n",
      "3764/3764 [==============================] - 0s 23us/step - loss: 0.2112 - acc: 0.9232\n",
      "Epoch 298/300\n",
      "3764/3764 [==============================] - 0s 23us/step - loss: 0.2078 - acc: 0.9176\n",
      "Epoch 299/300\n",
      "3764/3764 [==============================] - 0s 24us/step - loss: 0.2109 - acc: 0.9208\n",
      "Epoch 300/300\n",
      "3764/3764 [==============================] - 0s 23us/step - loss: 0.2122 - acc: 0.9243\n"
     ]
    }
   ],
   "source": [
    "classifier = build_ann('adam')\n",
    "classifier.fit(X_train, y_nn, batch_size = 256, epochs = 300, verbose=True)\n",
    "y_pred = classifier.predict(X_test)\n",
    "\n",
    "\n",
    "y_pred1 = np.argmax(y_pred,axis=1)\n",
    "\n",
    "encoder = LabelEncoder()\n",
    "encoder.fit(y_test)\n",
    "encoded_Y = encoder.transform(y_test)\n",
    "y_nn_pred = np_utils.to_categorical(encoded_Y)"
   ]
  },
  {
   "cell_type": "code",
   "execution_count": 52,
   "metadata": {
    "ExecuteTime": {
     "end_time": "2018-04-26T13:23:12.050120Z",
     "start_time": "2018-04-26T13:23:12.037987Z"
    }
   },
   "outputs": [
    {
     "name": "stdout",
     "output_type": "stream",
     "text": [
      "Accuracy: 86.41\n"
     ]
    }
   ],
   "source": [
    "from sklearn.metrics import confusion_matrix\n",
    "\n",
    "cm = confusion_matrix(y_pred1, y_nn_pred.argmax(axis=1))\n",
    "accuracy = (sum([cm[i,i] for i in range(len(cm))])) / len(y_nn_pred)\n",
    "print('Accuracy: %0.2f' % (accuracy*100))"
   ]
  },
  {
   "cell_type": "markdown",
   "metadata": {},
   "source": [
    "## Naive Bayes Classifier"
   ]
  },
  {
   "cell_type": "code",
   "execution_count": 45,
   "metadata": {
    "ExecuteTime": {
     "end_time": "2018-04-26T13:21:45.893225Z",
     "start_time": "2018-04-26T13:21:45.886509Z"
    }
   },
   "outputs": [],
   "source": [
    "from sklearn.naive_bayes import GaussianNB"
   ]
  },
  {
   "cell_type": "code",
   "execution_count": 46,
   "metadata": {
    "ExecuteTime": {
     "end_time": "2018-04-26T13:21:46.663765Z",
     "start_time": "2018-04-26T13:21:46.639622Z"
    }
   },
   "outputs": [
    {
     "data": {
      "text/plain": [
       "GaussianNB(priors=None)"
      ]
     },
     "execution_count": 46,
     "metadata": {},
     "output_type": "execute_result"
    }
   ],
   "source": [
    "clf = GaussianNB()\n",
    "clf.fit(X_train, y_train)"
   ]
  },
  {
   "cell_type": "code",
   "execution_count": 47,
   "metadata": {
    "ExecuteTime": {
     "end_time": "2018-04-26T13:21:48.182990Z",
     "start_time": "2018-04-26T13:21:47.725107Z"
    }
   },
   "outputs": [
    {
     "name": "stdout",
     "output_type": "stream",
     "text": [
      "Accuracy of Naive-Bayes classifier on test set: 0.39\n"
     ]
    },
    {
     "data": {
      "image/png": "[encoded data removed]",
      "text/plain": [
       "<Figure size 432x288 with 2 Axes>"
      ]
     },
     "metadata": {},
     "output_type": "display_data"
    }
   ],
   "source": [
    "y_pred = clf.predict(X_test)\n",
    "plot_confusion_matrix(confusion_matrix(y_test, y_pred))\n",
    "print('Accuracy of Naive-Bayes classifier on test set: {:.2f}'.format(clf.score(X_test, y_test)))"
   ]
  },
  {
   "cell_type": "markdown",
   "metadata": {},
   "source": [
    "# Conclusions\n",
    "\n",
    "Having a bigger dataset at our disposal may certainly make our predictions more stable. However EmoInt is probably too much different from what we have classify (tweets vs lyrics) and it may not improve our predictive abilities at all."
   ]
  },
  {
   "cell_type": "markdown",
   "metadata": {},
   "source": [
    "# References\n",
    "[EmoInt](http://saifmohammad.com/WebDocs/TweetEmotionIntensities-starsem2017.pdf)"
   ]
  }
 ],
 "metadata": {
  "kernelspec": {
   "display_name": "Python 3",
   "language": "python",
   "name": "python3"
  },
  "language_info": {
   "codemirror_mode": {
    "name": "ipython",
    "version": 3
   },
   "file_extension": ".py",
   "mimetype": "text/x-python",
   "name": "python",
   "nbconvert_exporter": "python",
   "pygments_lexer": "ipython3",
   "version": "3.5.2"
  },
  "toc": {
   "base_numbering": 1,
   "nav_menu": {},
   "number_sections": true,
   "sideBar": true,
   "skip_h1_title": false,
   "title_cell": "Table of Contents",
   "title_sidebar": "Contents",
   "toc_cell": true,
   "toc_position": {
    "height": "calc(100% - 180px)",
    "left": "10px",
    "top": "150px",
    "width": "165px"
   },
   "toc_section_display": true,
   "toc_window_display": true
  }
 },
 "nbformat": 4,
 "nbformat_minor": 2
}
