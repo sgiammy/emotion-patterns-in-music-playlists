{
 "cells": [
  {
   "cell_type": "markdown",
   "metadata": {},
   "source": [
    "# EmoInt dataset for emotion detection in lyrics"
   ]
  },
  {
   "cell_type": "markdown",
   "metadata": {
    "toc": true
   },
   "source": [
    "<h1>Table of Contents<span class=\"tocSkip\"></span></h1>\n",
    "<div class=\"toc\"><ul class=\"toc-item\"><li><span><a href=\"#EmoInt-dataset-for-emotion-detection-in-lyrics\" data-toc-modified-id=\"EmoInt-dataset-for-emotion-detection-in-lyrics-1\"><span class=\"toc-item-num\">1&nbsp;&nbsp;</span>EmoInt dataset for emotion detection in lyrics</a></span><ul class=\"toc-item\"><li><span><a href=\"#EmoInt-statistics\" data-toc-modified-id=\"EmoInt-statistics-1.1\"><span class=\"toc-item-num\">1.1&nbsp;&nbsp;</span>EmoInt statistics</a></span></li><li><span><a href=\"#Merge-with-MoodyLyrics\" data-toc-modified-id=\"Merge-with-MoodyLyrics-1.2\"><span class=\"toc-item-num\">1.2&nbsp;&nbsp;</span>Merge with MoodyLyrics</a></span></li></ul></li><li><span><a href=\"#Features-Selection\" data-toc-modified-id=\"Features-Selection-2\"><span class=\"toc-item-num\">2&nbsp;&nbsp;</span>Features Selection</a></span></li><li><span><a href=\"#Modeling\" data-toc-modified-id=\"Modeling-3\"><span class=\"toc-item-num\">3&nbsp;&nbsp;</span>Modeling</a></span><ul class=\"toc-item\"><li><ul class=\"toc-item\"><li><span><a href=\"#Extra-test-set\" data-toc-modified-id=\"Extra-test-set-3.0.1\"><span class=\"toc-item-num\">3.0.1&nbsp;&nbsp;</span>Extra test set</a></span></li></ul></li><li><span><a href=\"#k-Nearest-Neighbour\" data-toc-modified-id=\"k-Nearest-Neighbour-3.1\"><span class=\"toc-item-num\">3.1&nbsp;&nbsp;</span>k-Nearest Neighbour</a></span></li><li><span><a href=\"#SVM\" data-toc-modified-id=\"SVM-3.2\"><span class=\"toc-item-num\">3.2&nbsp;&nbsp;</span>SVM</a></span></li><li><span><a href=\"#Gradient-Boost\" data-toc-modified-id=\"Gradient-Boost-3.3\"><span class=\"toc-item-num\">3.3&nbsp;&nbsp;</span>Gradient Boost</a></span></li><li><span><a href=\"#Artificial-Neural-Network\" data-toc-modified-id=\"Artificial-Neural-Network-3.4\"><span class=\"toc-item-num\">3.4&nbsp;&nbsp;</span>Artificial Neural Network</a></span></li><li><span><a href=\"#Naive-Bayes-Classifier\" data-toc-modified-id=\"Naive-Bayes-Classifier-3.5\"><span class=\"toc-item-num\">3.5&nbsp;&nbsp;</span>Naive Bayes Classifier</a></span></li></ul></li><li><span><a href=\"#Conclusions\" data-toc-modified-id=\"Conclusions-4\"><span class=\"toc-item-num\">4&nbsp;&nbsp;</span>Conclusions</a></span></li><li><span><a href=\"#References\" data-toc-modified-id=\"References-5\"><span class=\"toc-item-num\">5&nbsp;&nbsp;</span>References</a></span></li></ul></div>"
   ]
  },
  {
   "cell_type": "code",
   "execution_count": 128,
   "metadata": {
    "ExecuteTime": {
     "end_time": "2018-04-30T10:45:36.268879Z",
     "start_time": "2018-04-30T10:45:36.249801Z"
    }
   },
   "outputs": [],
   "source": [
    "import spacy\n",
    "import os\n",
    "import sys\n",
    "\n",
    "import itertools\n",
    "\n",
    "import numpy as np\n",
    "import pandas as pd\n",
    "\n",
    "from sklearn.preprocessing import LabelEncoder\n",
    "\n",
    "from sklearn.model_selection import cross_val_score\n",
    "from sklearn.model_selection import GridSearchCV\n",
    "\n",
    "from sklearn.metrics import confusion_matrix\n",
    "\n",
    "from sklearn.decomposition import PCA\n",
    "\n",
    "import seaborn as sns\n",
    "sns.set()\n",
    "import matplotlib.pyplot as plt\n",
    "\n",
    "from utils.datasets import load_dataset_from_path, split_train_validation\n",
    "\n",
    "emotion_labels = ['happy', 'sad', 'angry', 'relaxed']"
   ]
  },
  {
   "cell_type": "code",
   "execution_count": 129,
   "metadata": {
    "ExecuteTime": {
     "end_time": "2018-04-30T10:45:36.334616Z",
     "start_time": "2018-04-30T10:45:36.296061Z"
    }
   },
   "outputs": [],
   "source": [
    "def plot_confusion_matrix(cm, classes = emotion_labels,\n",
    "                          normalize=False,\n",
    "                          title='Confusion matrix',\n",
    "                          cmap=plt.cm.Blues):\n",
    "    \"\"\"\n",
    "    This function prints and plots the confusion matrix.\n",
    "    Normalization can be applied by setting `normalize=True`.\n",
    "    \"\"\"\n",
    "    if normalize:\n",
    "        cm = cm.astype('float') / cm.sum(axis=1)[:, np.newaxis]\n",
    "\n",
    "    plt.imshow(cm, interpolation='nearest', cmap=cmap)\n",
    "    plt.title(title)\n",
    "    plt.colorbar()\n",
    "    tick_marks = np.arange(len(classes))\n",
    "    plt.xticks(tick_marks, classes, rotation=45)\n",
    "    plt.yticks(tick_marks, classes)\n",
    "\n",
    "    fmt = '.2f' if normalize else 'd'\n",
    "    thresh = cm.max() / 2.\n",
    "    for i, j in itertools.product(range(cm.shape[0]), range(cm.shape[1])):\n",
    "        plt.text(j, i, format(cm[i, j], fmt),\n",
    "                 horizontalalignment=\"center\",\n",
    "                 color=\"white\" if cm[i, j] > thresh else \"black\")\n",
    "\n",
    "    plt.grid(False)\n",
    "    plt.tight_layout()\n",
    "    plt.ylabel('True label')\n",
    "    plt.xlabel('Predicted label')"
   ]
  },
  {
   "cell_type": "code",
   "execution_count": 130,
   "metadata": {
    "ExecuteTime": {
     "end_time": "2018-04-30T10:45:36.365310Z",
     "start_time": "2018-04-30T10:45:36.343664Z"
    }
   },
   "outputs": [],
   "source": [
    "# Read extra test set\n",
    "extra_test_path = './datasets/extra_test.csv'\n",
    "extra_test = pd.read_csv(extra_test_path)"
   ]
  },
  {
   "cell_type": "markdown",
   "metadata": {},
   "source": [
    "Existing emotion datasets are mainly annotated categorically without an indication of degree of emotion. EmoInt, instead, provides several tweets annotated according to an emotion (anger, fear, joy, sadness) and to the degree at which the emotion is expressed in text.\n",
    "\n",
    "It is important to mention that EmoInt was manually annotated, using [Best-Worst Scaling](https://nparc.nrc-cnrc.gc.ca/eng/view/fulltext/?id=b132b0af-2ae0-4964-ac3a-493e7292a37a) (BWS), an annotation scheme shown to obtain very reliable scores.\n",
    "\n",
    "For our purpose, we will consider each tweet to be like a lyric and, on top of that, we will perform our feature engineering using spaCy and the other tools we used so far.\n",
    "\n",
    "Our original dataset, MoodyLyrics, contains \"happy\", \"sad\", \"angry\" and \"relaxed\" as labels. Therefore, in order to perform a sort of interjection with EmoInt, we will just use the tweets corresponding to the anger, joy and sadness emotions.\n",
    "\n",
    "The remaining part of this notebook assumes that we have already parsed EmoInt dataset in a .csv file which we can use to train some machine learning models as we did when we performed our feature engineering on lyrics. For more information about how this .csv was generated, please refer to the `src/emoint_parser.py` script.\n",
    "\n",
    "## EmoInt statistics\n",
    "\n",
    "As EmoInt provide intensity levels together with emotion labels, we decided to take into account only those tweets for which the intensity was greater that 0.50 (50%). Also, we dropped hashtags a remove the tag characters (e.g. \"Hey @MrTwitter how are you? #cool\" became \"Hey MrTwitter how are you?\") because we will have to compare those tweets with songs and songs do not have those kind of things. Also, this sort of preprocessing should maximize the chances that everything is recognized properly by spaCy's POS tagger."
   ]
  },
  {
   "cell_type": "code",
   "execution_count": 131,
   "metadata": {
    "ExecuteTime": {
     "end_time": "2018-04-30T10:45:36.632959Z",
     "start_time": "2018-04-30T10:45:36.506092Z"
    }
   },
   "outputs": [],
   "source": [
    "emoint = pd.read_csv('datasets/emoint_featurized.csv')"
   ]
  },
  {
   "cell_type": "code",
   "execution_count": 132,
   "metadata": {
    "ExecuteTime": {
     "end_time": "2018-04-30T10:45:36.679013Z",
     "start_time": "2018-04-30T10:45:36.635824Z"
    },
    "scrolled": false
   },
   "outputs": [
    {
     "data": {
      "text/html": [
       "<div>\n",
       "<style scoped>\n",
       "    .dataframe tbody tr th:only-of-type {\n",
       "        vertical-align: middle;\n",
       "    }\n",
       "\n",
       "    .dataframe tbody tr th {\n",
       "        vertical-align: top;\n",
       "    }\n",
       "\n",
       "    .dataframe thead th {\n",
       "        text-align: right;\n",
       "    }\n",
       "</style>\n",
       "<table border=\"1\" class=\"dataframe\">\n",
       "  <thead>\n",
       "    <tr style=\"text-align: right;\">\n",
       "      <th></th>\n",
       "      <th>ID</th>\n",
       "      <th>ARTIST</th>\n",
       "      <th>SONG_TITLE</th>\n",
       "      <th>LYRICS_VECTOR</th>\n",
       "      <th>TITLE_VECTOR</th>\n",
       "      <th>LINE_COUNT</th>\n",
       "      <th>WORD_COUNT</th>\n",
       "      <th>ECHOISMS</th>\n",
       "      <th>SELFISH_DEGREE</th>\n",
       "      <th>DUPLICATE_LINES</th>\n",
       "      <th>...</th>\n",
       "      <th>PROPN_FREQUENCIES</th>\n",
       "      <th>PUNCT_FREQUENCIES</th>\n",
       "      <th>SCONJ_FREQUENCIES</th>\n",
       "      <th>SYM_FREQUENCIES</th>\n",
       "      <th>VERB_FREQUENCIES</th>\n",
       "      <th>X_FREQUENCIES</th>\n",
       "      <th>SPACE_FREQUENCIES</th>\n",
       "      <th>SENTIMENT</th>\n",
       "      <th>SUBJECTIVITY</th>\n",
       "      <th>EMOTION</th>\n",
       "    </tr>\n",
       "  </thead>\n",
       "  <tbody>\n",
       "    <tr>\n",
       "      <th>0</th>\n",
       "      <td>EmoInt_30000</td>\n",
       "      <td>EmoInt</td>\n",
       "      <td>30000</td>\n",
       "      <td>[-1.26710683e-01  1.60194725e-01 -1.36762261e-...</td>\n",
       "      <td>[0. 0. 0. 0. 0. 0. 0. 0. 0. 0. 0. 0. 0. 0. 0. ...</td>\n",
       "      <td>1</td>\n",
       "      <td>16</td>\n",
       "      <td>0.0</td>\n",
       "      <td>0.000000</td>\n",
       "      <td>0.0</td>\n",
       "      <td>...</td>\n",
       "      <td>0.125000</td>\n",
       "      <td>0.187500</td>\n",
       "      <td>0.0</td>\n",
       "      <td>0.0</td>\n",
       "      <td>0.250000</td>\n",
       "      <td>0.0</td>\n",
       "      <td>0.000000</td>\n",
       "      <td>0.379167</td>\n",
       "      <td>0.366667</td>\n",
       "      <td>happy</td>\n",
       "    </tr>\n",
       "    <tr>\n",
       "      <th>1</th>\n",
       "      <td>EmoInt_30001</td>\n",
       "      <td>EmoInt</td>\n",
       "      <td>30001</td>\n",
       "      <td>[-6.28133714e-02  1.90393195e-01 -1.95530921e-...</td>\n",
       "      <td>[0. 0. 0. 0. 0. 0. 0. 0. 0. 0. 0. 0. 0. 0. 0. ...</td>\n",
       "      <td>1</td>\n",
       "      <td>19</td>\n",
       "      <td>0.0</td>\n",
       "      <td>1.000000</td>\n",
       "      <td>0.0</td>\n",
       "      <td>...</td>\n",
       "      <td>0.000000</td>\n",
       "      <td>0.052632</td>\n",
       "      <td>0.0</td>\n",
       "      <td>0.0</td>\n",
       "      <td>0.263158</td>\n",
       "      <td>0.0</td>\n",
       "      <td>0.000000</td>\n",
       "      <td>0.279167</td>\n",
       "      <td>0.500000</td>\n",
       "      <td>happy</td>\n",
       "    </tr>\n",
       "    <tr>\n",
       "      <th>2</th>\n",
       "      <td>EmoInt_30002</td>\n",
       "      <td>EmoInt</td>\n",
       "      <td>30002</td>\n",
       "      <td>[ 9.66307223e-02  2.91245524e-02 -1.42218113e-...</td>\n",
       "      <td>[0. 0. 0. 0. 0. 0. 0. 0. 0. 0. 0. 0. 0. 0. 0. ...</td>\n",
       "      <td>1</td>\n",
       "      <td>11</td>\n",
       "      <td>0.0</td>\n",
       "      <td>0.000000</td>\n",
       "      <td>0.0</td>\n",
       "      <td>...</td>\n",
       "      <td>0.363636</td>\n",
       "      <td>0.000000</td>\n",
       "      <td>0.0</td>\n",
       "      <td>0.0</td>\n",
       "      <td>0.181818</td>\n",
       "      <td>0.0</td>\n",
       "      <td>0.090909</td>\n",
       "      <td>-0.400000</td>\n",
       "      <td>0.400000</td>\n",
       "      <td>happy</td>\n",
       "    </tr>\n",
       "    <tr>\n",
       "      <th>3</th>\n",
       "      <td>EmoInt_30003</td>\n",
       "      <td>EmoInt</td>\n",
       "      <td>30003</td>\n",
       "      <td>[-1.13483094e-01  3.13860744e-01 -2.05740720e-...</td>\n",
       "      <td>[0. 0. 0. 0. 0. 0. 0. 0. 0. 0. 0. 0. 0. 0. 0. ...</td>\n",
       "      <td>1</td>\n",
       "      <td>23</td>\n",
       "      <td>0.0</td>\n",
       "      <td>0.200000</td>\n",
       "      <td>0.0</td>\n",
       "      <td>...</td>\n",
       "      <td>0.043478</td>\n",
       "      <td>0.304348</td>\n",
       "      <td>0.0</td>\n",
       "      <td>0.0</td>\n",
       "      <td>0.173913</td>\n",
       "      <td>0.0</td>\n",
       "      <td>0.000000</td>\n",
       "      <td>0.470000</td>\n",
       "      <td>0.490000</td>\n",
       "      <td>happy</td>\n",
       "    </tr>\n",
       "    <tr>\n",
       "      <th>4</th>\n",
       "      <td>EmoInt_30004</td>\n",
       "      <td>EmoInt</td>\n",
       "      <td>30004</td>\n",
       "      <td>[ 3.85632203e-03  2.41273686e-01 -1.58885673e-...</td>\n",
       "      <td>[0. 0. 0. 0. 0. 0. 0. 0. 0. 0. 0. 0. 0. 0. 0. ...</td>\n",
       "      <td>1</td>\n",
       "      <td>22</td>\n",
       "      <td>0.0</td>\n",
       "      <td>0.666667</td>\n",
       "      <td>0.0</td>\n",
       "      <td>...</td>\n",
       "      <td>0.045455</td>\n",
       "      <td>0.136364</td>\n",
       "      <td>0.0</td>\n",
       "      <td>0.0</td>\n",
       "      <td>0.227273</td>\n",
       "      <td>0.0</td>\n",
       "      <td>0.000000</td>\n",
       "      <td>0.400000</td>\n",
       "      <td>0.350000</td>\n",
       "      <td>happy</td>\n",
       "    </tr>\n",
       "  </tbody>\n",
       "</table>\n",
       "<p>5 rows × 37 columns</p>\n",
       "</div>"
      ],
      "text/plain": [
       "             ID  ARTIST  SONG_TITLE  \\\n",
       "0  EmoInt_30000  EmoInt       30000   \n",
       "1  EmoInt_30001  EmoInt       30001   \n",
       "2  EmoInt_30002  EmoInt       30002   \n",
       "3  EmoInt_30003  EmoInt       30003   \n",
       "4  EmoInt_30004  EmoInt       30004   \n",
       "\n",
       "                                       LYRICS_VECTOR  \\\n",
       "0  [-1.26710683e-01  1.60194725e-01 -1.36762261e-...   \n",
       "1  [-6.28133714e-02  1.90393195e-01 -1.95530921e-...   \n",
       "2  [ 9.66307223e-02  2.91245524e-02 -1.42218113e-...   \n",
       "3  [-1.13483094e-01  3.13860744e-01 -2.05740720e-...   \n",
       "4  [ 3.85632203e-03  2.41273686e-01 -1.58885673e-...   \n",
       "\n",
       "                                        TITLE_VECTOR  LINE_COUNT  WORD_COUNT  \\\n",
       "0  [0. 0. 0. 0. 0. 0. 0. 0. 0. 0. 0. 0. 0. 0. 0. ...           1          16   \n",
       "1  [0. 0. 0. 0. 0. 0. 0. 0. 0. 0. 0. 0. 0. 0. 0. ...           1          19   \n",
       "2  [0. 0. 0. 0. 0. 0. 0. 0. 0. 0. 0. 0. 0. 0. 0. ...           1          11   \n",
       "3  [0. 0. 0. 0. 0. 0. 0. 0. 0. 0. 0. 0. 0. 0. 0. ...           1          23   \n",
       "4  [0. 0. 0. 0. 0. 0. 0. 0. 0. 0. 0. 0. 0. 0. 0. ...           1          22   \n",
       "\n",
       "   ECHOISMS  SELFISH_DEGREE  DUPLICATE_LINES   ...     PROPN_FREQUENCIES  \\\n",
       "0       0.0        0.000000              0.0   ...              0.125000   \n",
       "1       0.0        1.000000              0.0   ...              0.000000   \n",
       "2       0.0        0.000000              0.0   ...              0.363636   \n",
       "3       0.0        0.200000              0.0   ...              0.043478   \n",
       "4       0.0        0.666667              0.0   ...              0.045455   \n",
       "\n",
       "   PUNCT_FREQUENCIES  SCONJ_FREQUENCIES  SYM_FREQUENCIES  VERB_FREQUENCIES  \\\n",
       "0           0.187500                0.0              0.0          0.250000   \n",
       "1           0.052632                0.0              0.0          0.263158   \n",
       "2           0.000000                0.0              0.0          0.181818   \n",
       "3           0.304348                0.0              0.0          0.173913   \n",
       "4           0.136364                0.0              0.0          0.227273   \n",
       "\n",
       "   X_FREQUENCIES  SPACE_FREQUENCIES  SENTIMENT  SUBJECTIVITY  EMOTION  \n",
       "0            0.0           0.000000   0.379167      0.366667    happy  \n",
       "1            0.0           0.000000   0.279167      0.500000    happy  \n",
       "2            0.0           0.090909  -0.400000      0.400000    happy  \n",
       "3            0.0           0.000000   0.470000      0.490000    happy  \n",
       "4            0.0           0.000000   0.400000      0.350000    happy  \n",
       "\n",
       "[5 rows x 37 columns]"
      ]
     },
     "execution_count": 132,
     "metadata": {},
     "output_type": "execute_result"
    }
   ],
   "source": [
    "emoint.head(5)"
   ]
  },
  {
   "cell_type": "markdown",
   "metadata": {},
   "source": [
    "We used the same columns naming convention we used in the past notebooks with MoodyLyrics just for compatibility reasons (we will have to put them together). Since tweets do not have title, the `TITLE_VECTOR` was just left there as a vector of 0s, with the same shape of the `LYRICS_VECTOR`."
   ]
  },
  {
   "cell_type": "markdown",
   "metadata": {},
   "source": [
    "## Merge with MoodyLyrics\n",
    "Let's now merge EmoInt and MoodyLyrics featurized datasets in order to be able to proceed with further analysis."
   ]
  },
  {
   "cell_type": "code",
   "execution_count": 133,
   "metadata": {
    "ExecuteTime": {
     "end_time": "2018-04-30T10:45:36.841299Z",
     "start_time": "2018-04-30T10:45:36.837918Z"
    }
   },
   "outputs": [],
   "source": [
    "path = 'datasets/moodylyrics_featurized.csv'"
   ]
  },
  {
   "cell_type": "code",
   "execution_count": 134,
   "metadata": {
    "ExecuteTime": {
     "end_time": "2018-04-30T10:45:37.097740Z",
     "start_time": "2018-04-30T10:45:36.864791Z"
    }
   },
   "outputs": [],
   "source": [
    "moodylyrics = pd.read_csv(path)"
   ]
  },
  {
   "cell_type": "code",
   "execution_count": 135,
   "metadata": {
    "ExecuteTime": {
     "end_time": "2018-04-30T10:45:37.106121Z",
     "start_time": "2018-04-30T10:45:37.100342Z"
    }
   },
   "outputs": [],
   "source": [
    "selected_columns = [\n",
    "   'LYRICS_VECTOR',\n",
    "   'WORD_COUNT', 'ECHOISMS', 'SELFISH_DEGREE', \n",
    "   'DUPLICATE_LINES', 'IS_TITLE_IN_LYRICS', 'VERB_PRESENT', \n",
    "   'VERB_PAST', 'VERB_FUTURE', 'ADJ_FREQUENCIES',\n",
    "   'PUNCT_FREQUENCIES',\n",
    "   'SENTIMENT', 'SUBJECTIVITY',\n",
    "   'EMOTION'\n",
    "]"
   ]
  },
  {
   "cell_type": "code",
   "execution_count": 136,
   "metadata": {
    "ExecuteTime": {
     "end_time": "2018-04-30T10:45:37.126979Z",
     "start_time": "2018-04-30T10:45:37.109505Z"
    }
   },
   "outputs": [],
   "source": [
    "moodylyrics = moodylyrics[selected_columns]\n",
    "emoint = emoint[selected_columns]"
   ]
  },
  {
   "cell_type": "code",
   "execution_count": 137,
   "metadata": {
    "ExecuteTime": {
     "end_time": "2018-04-30T10:45:37.142064Z",
     "start_time": "2018-04-30T10:45:37.129866Z"
    }
   },
   "outputs": [],
   "source": [
    "dataset = emoint.append(moodylyrics)"
   ]
  },
  {
   "cell_type": "code",
   "execution_count": 138,
   "metadata": {
    "ExecuteTime": {
     "end_time": "2018-04-30T10:45:37.230834Z",
     "start_time": "2018-04-30T10:45:37.144946Z"
    },
    "scrolled": true
   },
   "outputs": [
    {
     "data": {
      "text/html": [
       "<div>\n",
       "<style scoped>\n",
       "    .dataframe tbody tr th:only-of-type {\n",
       "        vertical-align: middle;\n",
       "    }\n",
       "\n",
       "    .dataframe tbody tr th {\n",
       "        vertical-align: top;\n",
       "    }\n",
       "\n",
       "    .dataframe thead th {\n",
       "        text-align: right;\n",
       "    }\n",
       "</style>\n",
       "<table border=\"1\" class=\"dataframe\">\n",
       "  <thead>\n",
       "    <tr style=\"text-align: right;\">\n",
       "      <th></th>\n",
       "      <th>WORD_COUNT</th>\n",
       "      <th>ECHOISMS</th>\n",
       "      <th>SELFISH_DEGREE</th>\n",
       "      <th>DUPLICATE_LINES</th>\n",
       "      <th>VERB_PRESENT</th>\n",
       "      <th>VERB_PAST</th>\n",
       "      <th>VERB_FUTURE</th>\n",
       "      <th>ADJ_FREQUENCIES</th>\n",
       "      <th>PUNCT_FREQUENCIES</th>\n",
       "      <th>SENTIMENT</th>\n",
       "      <th>SUBJECTIVITY</th>\n",
       "    </tr>\n",
       "  </thead>\n",
       "  <tbody>\n",
       "    <tr>\n",
       "      <th>count</th>\n",
       "      <td>4706.000000</td>\n",
       "      <td>4706.000000</td>\n",
       "      <td>4706.000000</td>\n",
       "      <td>4706.000000</td>\n",
       "      <td>4706.000000</td>\n",
       "      <td>4706.000000</td>\n",
       "      <td>4706.000000</td>\n",
       "      <td>4706.000000</td>\n",
       "      <td>4706.000000</td>\n",
       "      <td>4706.000000</td>\n",
       "      <td>4706.000000</td>\n",
       "    </tr>\n",
       "    <tr>\n",
       "      <th>mean</th>\n",
       "      <td>115.487675</td>\n",
       "      <td>0.001933</td>\n",
       "      <td>0.257160</td>\n",
       "      <td>0.046589</td>\n",
       "      <td>0.681493</td>\n",
       "      <td>0.223661</td>\n",
       "      <td>0.032797</td>\n",
       "      <td>0.103892</td>\n",
       "      <td>0.097045</td>\n",
       "      <td>0.097237</td>\n",
       "      <td>0.484382</td>\n",
       "    </tr>\n",
       "    <tr>\n",
       "      <th>std</th>\n",
       "      <td>123.785535</td>\n",
       "      <td>0.014999</td>\n",
       "      <td>0.307920</td>\n",
       "      <td>0.062358</td>\n",
       "      <td>0.327669</td>\n",
       "      <td>0.276698</td>\n",
       "      <td>0.102555</td>\n",
       "      <td>0.080279</td>\n",
       "      <td>0.128123</td>\n",
       "      <td>0.332293</td>\n",
       "      <td>0.284253</td>\n",
       "    </tr>\n",
       "    <tr>\n",
       "      <th>min</th>\n",
       "      <td>1.000000</td>\n",
       "      <td>0.000000</td>\n",
       "      <td>0.000000</td>\n",
       "      <td>0.000000</td>\n",
       "      <td>0.000000</td>\n",
       "      <td>0.000000</td>\n",
       "      <td>0.000000</td>\n",
       "      <td>0.000000</td>\n",
       "      <td>0.000000</td>\n",
       "      <td>-1.000000</td>\n",
       "      <td>0.000000</td>\n",
       "    </tr>\n",
       "    <tr>\n",
       "      <th>25%</th>\n",
       "      <td>16.000000</td>\n",
       "      <td>0.000000</td>\n",
       "      <td>0.000000</td>\n",
       "      <td>0.000000</td>\n",
       "      <td>0.500000</td>\n",
       "      <td>0.000000</td>\n",
       "      <td>0.000000</td>\n",
       "      <td>0.051323</td>\n",
       "      <td>0.016854</td>\n",
       "      <td>-0.045387</td>\n",
       "      <td>0.313378</td>\n",
       "    </tr>\n",
       "    <tr>\n",
       "      <th>50%</th>\n",
       "      <td>64.000000</td>\n",
       "      <td>0.000000</td>\n",
       "      <td>0.142857</td>\n",
       "      <td>0.000000</td>\n",
       "      <td>0.769231</td>\n",
       "      <td>0.125000</td>\n",
       "      <td>0.000000</td>\n",
       "      <td>0.090909</td>\n",
       "      <td>0.068182</td>\n",
       "      <td>0.050000</td>\n",
       "      <td>0.527234</td>\n",
       "    </tr>\n",
       "    <tr>\n",
       "      <th>75%</th>\n",
       "      <td>198.000000</td>\n",
       "      <td>0.000000</td>\n",
       "      <td>0.451455</td>\n",
       "      <td>0.086786</td>\n",
       "      <td>1.000000</td>\n",
       "      <td>0.333333</td>\n",
       "      <td>0.000000</td>\n",
       "      <td>0.142857</td>\n",
       "      <td>0.135135</td>\n",
       "      <td>0.322120</td>\n",
       "      <td>0.653667</td>\n",
       "    </tr>\n",
       "    <tr>\n",
       "      <th>max</th>\n",
       "      <td>1149.000000</td>\n",
       "      <td>0.341463</td>\n",
       "      <td>1.000000</td>\n",
       "      <td>1.000000</td>\n",
       "      <td>1.000000</td>\n",
       "      <td>1.000000</td>\n",
       "      <td>1.000000</td>\n",
       "      <td>0.666667</td>\n",
       "      <td>2.777778</td>\n",
       "      <td>1.000000</td>\n",
       "      <td>1.000000</td>\n",
       "    </tr>\n",
       "  </tbody>\n",
       "</table>\n",
       "</div>"
      ],
      "text/plain": [
       "        WORD_COUNT     ECHOISMS  SELFISH_DEGREE  DUPLICATE_LINES  \\\n",
       "count  4706.000000  4706.000000     4706.000000      4706.000000   \n",
       "mean    115.487675     0.001933        0.257160         0.046589   \n",
       "std     123.785535     0.014999        0.307920         0.062358   \n",
       "min       1.000000     0.000000        0.000000         0.000000   \n",
       "25%      16.000000     0.000000        0.000000         0.000000   \n",
       "50%      64.000000     0.000000        0.142857         0.000000   \n",
       "75%     198.000000     0.000000        0.451455         0.086786   \n",
       "max    1149.000000     0.341463        1.000000         1.000000   \n",
       "\n",
       "       VERB_PRESENT    VERB_PAST  VERB_FUTURE  ADJ_FREQUENCIES  \\\n",
       "count   4706.000000  4706.000000  4706.000000      4706.000000   \n",
       "mean       0.681493     0.223661     0.032797         0.103892   \n",
       "std        0.327669     0.276698     0.102555         0.080279   \n",
       "min        0.000000     0.000000     0.000000         0.000000   \n",
       "25%        0.500000     0.000000     0.000000         0.051323   \n",
       "50%        0.769231     0.125000     0.000000         0.090909   \n",
       "75%        1.000000     0.333333     0.000000         0.142857   \n",
       "max        1.000000     1.000000     1.000000         0.666667   \n",
       "\n",
       "       PUNCT_FREQUENCIES    SENTIMENT  SUBJECTIVITY  \n",
       "count        4706.000000  4706.000000   4706.000000  \n",
       "mean            0.097045     0.097237      0.484382  \n",
       "std             0.128123     0.332293      0.284253  \n",
       "min             0.000000    -1.000000      0.000000  \n",
       "25%             0.016854    -0.045387      0.313378  \n",
       "50%             0.068182     0.050000      0.527234  \n",
       "75%             0.135135     0.322120      0.653667  \n",
       "max             2.777778     1.000000      1.000000  "
      ]
     },
     "execution_count": 138,
     "metadata": {},
     "output_type": "execute_result"
    }
   ],
   "source": [
    "dataset.describe()"
   ]
  },
  {
   "cell_type": "markdown",
   "metadata": {},
   "source": [
    "# Features Selection\n",
    "\n",
    "Based on our experience with previous models and feature engineering strategies, we believe that building models using all our available features is a waste of time. We already noticed that the models which achieved better results were those using just the content of the lyrics. Therefore we will work on just the content of our input texts (either lyrics or tweets) plus some additional features. Among all the available features we decided to pick the followings:\n",
    "- SELFISH_DEGREE\n",
    "- VERB_PRESENT\n",
    "- VERB_PAST\n",
    "- VERB_FUTURE\n",
    "\n",
    "In fact we believe that we can not use other features which may seem to be useful for our purpose ,e.g. \"RHYMES\", because, as we are considering a broader dataset, those kind of features are not general enough (not suitable for tweets)."
   ]
  },
  {
   "cell_type": "code",
   "execution_count": 139,
   "metadata": {
    "ExecuteTime": {
     "end_time": "2018-04-30T10:45:37.237405Z",
     "start_time": "2018-04-30T10:45:37.232925Z"
    }
   },
   "outputs": [],
   "source": [
    "dataset = dataset[selected_columns]"
   ]
  },
  {
   "cell_type": "code",
   "execution_count": 140,
   "metadata": {
    "ExecuteTime": {
     "end_time": "2018-04-30T10:45:37.273485Z",
     "start_time": "2018-04-30T10:45:37.239515Z"
    }
   },
   "outputs": [
    {
     "data": {
      "text/html": [
       "<div>\n",
       "<style scoped>\n",
       "    .dataframe tbody tr th:only-of-type {\n",
       "        vertical-align: middle;\n",
       "    }\n",
       "\n",
       "    .dataframe tbody tr th {\n",
       "        vertical-align: top;\n",
       "    }\n",
       "\n",
       "    .dataframe thead th {\n",
       "        text-align: right;\n",
       "    }\n",
       "</style>\n",
       "<table border=\"1\" class=\"dataframe\">\n",
       "  <thead>\n",
       "    <tr style=\"text-align: right;\">\n",
       "      <th></th>\n",
       "      <th>LYRICS_VECTOR</th>\n",
       "      <th>WORD_COUNT</th>\n",
       "      <th>ECHOISMS</th>\n",
       "      <th>SELFISH_DEGREE</th>\n",
       "      <th>DUPLICATE_LINES</th>\n",
       "      <th>IS_TITLE_IN_LYRICS</th>\n",
       "      <th>VERB_PRESENT</th>\n",
       "      <th>VERB_PAST</th>\n",
       "      <th>VERB_FUTURE</th>\n",
       "      <th>ADJ_FREQUENCIES</th>\n",
       "      <th>PUNCT_FREQUENCIES</th>\n",
       "      <th>SENTIMENT</th>\n",
       "      <th>SUBJECTIVITY</th>\n",
       "      <th>EMOTION</th>\n",
       "    </tr>\n",
       "  </thead>\n",
       "  <tbody>\n",
       "    <tr>\n",
       "      <th>0</th>\n",
       "      <td>[-1.26710683e-01  1.60194725e-01 -1.36762261e-...</td>\n",
       "      <td>16</td>\n",
       "      <td>0.0</td>\n",
       "      <td>0.000000</td>\n",
       "      <td>0.0</td>\n",
       "      <td>False</td>\n",
       "      <td>0.750000</td>\n",
       "      <td>0.250000</td>\n",
       "      <td>0.0</td>\n",
       "      <td>0.062500</td>\n",
       "      <td>0.187500</td>\n",
       "      <td>0.379167</td>\n",
       "      <td>0.366667</td>\n",
       "      <td>happy</td>\n",
       "    </tr>\n",
       "    <tr>\n",
       "      <th>1</th>\n",
       "      <td>[-6.28133714e-02  1.90393195e-01 -1.95530921e-...</td>\n",
       "      <td>19</td>\n",
       "      <td>0.0</td>\n",
       "      <td>1.000000</td>\n",
       "      <td>0.0</td>\n",
       "      <td>False</td>\n",
       "      <td>0.666667</td>\n",
       "      <td>0.333333</td>\n",
       "      <td>0.0</td>\n",
       "      <td>0.105263</td>\n",
       "      <td>0.052632</td>\n",
       "      <td>0.279167</td>\n",
       "      <td>0.500000</td>\n",
       "      <td>happy</td>\n",
       "    </tr>\n",
       "    <tr>\n",
       "      <th>2</th>\n",
       "      <td>[ 9.66307223e-02  2.91245524e-02 -1.42218113e-...</td>\n",
       "      <td>11</td>\n",
       "      <td>0.0</td>\n",
       "      <td>0.000000</td>\n",
       "      <td>0.0</td>\n",
       "      <td>False</td>\n",
       "      <td>0.500000</td>\n",
       "      <td>0.500000</td>\n",
       "      <td>0.0</td>\n",
       "      <td>0.000000</td>\n",
       "      <td>0.000000</td>\n",
       "      <td>-0.400000</td>\n",
       "      <td>0.400000</td>\n",
       "      <td>happy</td>\n",
       "    </tr>\n",
       "    <tr>\n",
       "      <th>3</th>\n",
       "      <td>[-1.13483094e-01  3.13860744e-01 -2.05740720e-...</td>\n",
       "      <td>23</td>\n",
       "      <td>0.0</td>\n",
       "      <td>0.200000</td>\n",
       "      <td>0.0</td>\n",
       "      <td>False</td>\n",
       "      <td>0.750000</td>\n",
       "      <td>0.250000</td>\n",
       "      <td>0.0</td>\n",
       "      <td>0.173913</td>\n",
       "      <td>0.304348</td>\n",
       "      <td>0.470000</td>\n",
       "      <td>0.490000</td>\n",
       "      <td>happy</td>\n",
       "    </tr>\n",
       "    <tr>\n",
       "      <th>4</th>\n",
       "      <td>[ 3.85632203e-03  2.41273686e-01 -1.58885673e-...</td>\n",
       "      <td>22</td>\n",
       "      <td>0.0</td>\n",
       "      <td>0.666667</td>\n",
       "      <td>0.0</td>\n",
       "      <td>False</td>\n",
       "      <td>1.000000</td>\n",
       "      <td>0.000000</td>\n",
       "      <td>0.0</td>\n",
       "      <td>0.090909</td>\n",
       "      <td>0.136364</td>\n",
       "      <td>0.400000</td>\n",
       "      <td>0.350000</td>\n",
       "      <td>happy</td>\n",
       "    </tr>\n",
       "  </tbody>\n",
       "</table>\n",
       "</div>"
      ],
      "text/plain": [
       "                                       LYRICS_VECTOR  WORD_COUNT  ECHOISMS  \\\n",
       "0  [-1.26710683e-01  1.60194725e-01 -1.36762261e-...          16       0.0   \n",
       "1  [-6.28133714e-02  1.90393195e-01 -1.95530921e-...          19       0.0   \n",
       "2  [ 9.66307223e-02  2.91245524e-02 -1.42218113e-...          11       0.0   \n",
       "3  [-1.13483094e-01  3.13860744e-01 -2.05740720e-...          23       0.0   \n",
       "4  [ 3.85632203e-03  2.41273686e-01 -1.58885673e-...          22       0.0   \n",
       "\n",
       "   SELFISH_DEGREE  DUPLICATE_LINES  IS_TITLE_IN_LYRICS  VERB_PRESENT  \\\n",
       "0        0.000000              0.0               False      0.750000   \n",
       "1        1.000000              0.0               False      0.666667   \n",
       "2        0.000000              0.0               False      0.500000   \n",
       "3        0.200000              0.0               False      0.750000   \n",
       "4        0.666667              0.0               False      1.000000   \n",
       "\n",
       "   VERB_PAST  VERB_FUTURE  ADJ_FREQUENCIES  PUNCT_FREQUENCIES  SENTIMENT  \\\n",
       "0   0.250000          0.0         0.062500           0.187500   0.379167   \n",
       "1   0.333333          0.0         0.105263           0.052632   0.279167   \n",
       "2   0.500000          0.0         0.000000           0.000000  -0.400000   \n",
       "3   0.250000          0.0         0.173913           0.304348   0.470000   \n",
       "4   0.000000          0.0         0.090909           0.136364   0.400000   \n",
       "\n",
       "   SUBJECTIVITY EMOTION  \n",
       "0      0.366667   happy  \n",
       "1      0.500000   happy  \n",
       "2      0.400000   happy  \n",
       "3      0.490000   happy  \n",
       "4      0.350000   happy  "
      ]
     },
     "execution_count": 140,
     "metadata": {},
     "output_type": "execute_result"
    }
   ],
   "source": [
    "dataset.head(5)"
   ]
  },
  {
   "cell_type": "markdown",
   "metadata": {},
   "source": [
    "# Modeling\n",
    "\n",
    "Before starting we should flatten the dataset's features which are vectors at the moment (title vector and content vector). Let's do that"
   ]
  },
  {
   "cell_type": "code",
   "execution_count": 141,
   "metadata": {
    "ExecuteTime": {
     "end_time": "2018-04-30T10:45:38.707941Z",
     "start_time": "2018-04-30T10:45:37.336612Z"
    }
   },
   "outputs": [],
   "source": [
    "X_vect = list()\n",
    "for (i, row) in dataset.drop('EMOTION', axis=1).iterrows():\n",
    "    sub_list = list()\n",
    "    for field in row:\n",
    "        if type(field) == str:\n",
    "            field = field[1:-1].split()\n",
    "            sub_list += [float(x.replace('\\n','')) for x in field]\n",
    "        else:\n",
    "            sub_list.append(field)\n",
    "    X_vect.append(np.array(sub_list))\n",
    "X_vect = np.array(X_vect)"
   ]
  },
  {
   "cell_type": "code",
   "execution_count": 142,
   "metadata": {
    "ExecuteTime": {
     "end_time": "2018-04-30T10:45:38.715171Z",
     "start_time": "2018-04-30T10:45:38.710765Z"
    }
   },
   "outputs": [],
   "source": [
    "y = dataset['EMOTION'].as_matrix().T"
   ]
  },
  {
   "cell_type": "code",
   "execution_count": 143,
   "metadata": {
    "ExecuteTime": {
     "end_time": "2018-04-30T10:45:38.738505Z",
     "start_time": "2018-04-30T10:45:38.718561Z"
    },
    "scrolled": true
   },
   "outputs": [
    {
     "name": "stdout",
     "output_type": "stream",
     "text": [
      "(4706, 312)\n",
      "(4706,)\n"
     ]
    }
   ],
   "source": [
    "print(X_vect.shape)\n",
    "print(y.shape)"
   ]
  },
  {
   "cell_type": "code",
   "execution_count": 144,
   "metadata": {
    "ExecuteTime": {
     "end_time": "2018-04-30T10:45:38.764368Z",
     "start_time": "2018-04-30T10:45:38.741509Z"
    }
   },
   "outputs": [],
   "source": [
    "from sklearn.model_selection import train_test_split\n",
    "X_train, X_test, y_train, y_test = train_test_split(X_vect, y, test_size = 0.2, random_state = 0)"
   ]
  },
  {
   "cell_type": "markdown",
   "metadata": {},
   "source": [
    "As we can see, we will have 4706 entries in our dataset, each of them having 312 different features."
   ]
  },
  {
   "cell_type": "markdown",
   "metadata": {},
   "source": [
    "### Extra test set"
   ]
  },
  {
   "cell_type": "code",
   "execution_count": 145,
   "metadata": {
    "ExecuteTime": {
     "end_time": "2018-04-30T10:45:38.788181Z",
     "start_time": "2018-04-30T10:45:38.767047Z"
    }
   },
   "outputs": [],
   "source": [
    "extra_test = extra_test[selected_columns]"
   ]
  },
  {
   "cell_type": "code",
   "execution_count": 146,
   "metadata": {
    "ExecuteTime": {
     "end_time": "2018-04-30T10:45:38.819105Z",
     "start_time": "2018-04-30T10:45:38.790270Z"
    }
   },
   "outputs": [],
   "source": [
    "tmp_df = extra_test.drop(['EMOTION'], axis=1)\n",
    "X_test_extra = list()\n",
    "for (i, row) in tmp_df.iterrows():\n",
    "    sub_list = list()\n",
    "    for field in row:\n",
    "        if type(field) == str:\n",
    "            field = field[1:-1].split()\n",
    "            sub_list += [float(x.replace('\\n','')) for x in field]\n",
    "        else:\n",
    "            sub_list.append(field)\n",
    "    X_test_extra.append(np.array(sub_list))\n",
    "X_test_extra = np.array(X_test_extra)"
   ]
  },
  {
   "cell_type": "code",
   "execution_count": 147,
   "metadata": {
    "ExecuteTime": {
     "end_time": "2018-04-30T10:45:38.849383Z",
     "start_time": "2018-04-30T10:45:38.821496Z"
    }
   },
   "outputs": [],
   "source": [
    "y_test_extra = extra_test['EMOTION'].as_matrix().T"
   ]
  },
  {
   "cell_type": "markdown",
   "metadata": {
    "deletable": false,
    "editable": false,
    "run_control": {
     "frozen": true
    }
   },
   "source": [
    "## k-Nearest Neighbour"
   ]
  },
  {
   "cell_type": "code",
   "execution_count": 159,
   "metadata": {
    "ExecuteTime": {
     "end_time": "2018-04-30T10:46:59.533437Z",
     "start_time": "2018-04-30T10:46:40.147383Z"
    },
    "deletable": false,
    "editable": false,
    "run_control": {
     "frozen": true
    }
   },
   "outputs": [
    {
     "name": "stdout",
     "output_type": "stream",
     "text": [
      "Accuracy for k=1: 0.48 (+/- 0.10)\n",
      "Accuracy for k=3: 0.46 (+/- 0.09)\n",
      "Accuracy for k=5: 0.46 (+/- 0.10)\n",
      "Accuracy for k=7: 0.46 (+/- 0.11)\n",
      "Accuracy for k=9: 0.45 (+/- 0.13)\n",
      "Accuracy for k=11: 0.44 (+/- 0.13)\n",
      "Accuracy for k=13: 0.44 (+/- 0.13)\n",
      "Accuracy for k=15: 0.43 (+/- 0.15)\n",
      "Accuracy for k=17: 0.43 (+/- 0.16)\n",
      "Accuracy for k=19: 0.44 (+/- 0.17)\n",
      "Accuracy for k=21: 0.44 (+/- 0.18)\n"
     ]
    }
   ],
   "source": [
    "from sklearn.neighbors import KNeighborsClassifier\n",
    "\n",
    "ks = [1, 3, 5, 7, 9, 11, 13, 15, 17, 19, 21]\n",
    "\n",
    "for k in ks:\n",
    "    # Build model\n",
    "    clf = KNeighborsClassifier(n_neighbors=k, algorithm='auto', \n",
    "                           metric='euclidean', n_jobs=-1)\n",
    "    # Evaluate accuracy\n",
    "    scores = cross_val_score(clf, X_vect, y, cv=10)\n",
    "    print('Accuracy for k=%d: %0.2f (+/- %0.2f)' % (k, scores.mean(), scores.std() * 1.96))"
   ]
  },
  {
   "cell_type": "markdown",
   "metadata": {
    "deletable": false,
    "editable": false,
    "run_control": {
     "frozen": true
    }
   },
   "source": [
    "## SVM"
   ]
  },
  {
   "cell_type": "code",
   "execution_count": 19,
   "metadata": {
    "ExecuteTime": {
     "end_time": "2018-04-21T17:10:48.375783Z",
     "start_time": "2018-04-21T17:10:48.367095Z"
    },
    "deletable": false,
    "editable": false,
    "run_control": {
     "frozen": true
    }
   },
   "outputs": [],
   "source": [
    "def parameters_grid_search(classifier, params, x, y, cv=10, verbose=False):\n",
    "    \"\"\"\n",
    "    Grid Search to find best parameters for a certain classifier whose\n",
    "    performances are evaluated using cross-validation\n",
    "    \"\"\"\n",
    "    gs = GridSearchCV(classifier(), params, cv=cv, n_jobs=-1, verbose=verbose)\n",
    "    gs.fit(x, y)    \n",
    "    return (gs.best_estimator_, gs.best_params_, gs.best_score_)"
   ]
  },
  {
   "cell_type": "code",
   "execution_count": 160,
   "metadata": {
    "ExecuteTime": {
     "end_time": "2018-04-30T10:47:23.271827Z",
     "start_time": "2018-04-30T10:47:23.265984Z"
    }
   },
   "outputs": [],
   "source": [
    "from sklearn.svm import SVC"
   ]
  },
  {
   "cell_type": "code",
   "execution_count": 20,
   "metadata": {
    "ExecuteTime": {
     "end_time": "2018-04-21T17:12:15.472597Z",
     "start_time": "2018-04-21T17:10:48.380152Z"
    },
    "deletable": false,
    "editable": false,
    "run_control": {
     "frozen": true
    }
   },
   "outputs": [
    {
     "name": "stdout",
     "output_type": "stream",
     "text": [
      "Fitting 10 folds for each of 1 candidates, totalling 10 fits\n"
     ]
    },
    {
     "name": "stderr",
     "output_type": "stream",
     "text": [
      "[Parallel(n_jobs=-1)]: Done  10 out of  10 | elapsed:  1.2min finished\n"
     ]
    },
    {
     "name": "stdout",
     "output_type": "stream",
     "text": [
      "Parameters: {'kernel': 'rbf', 'C': 1}\n"
     ]
    }
   ],
   "source": [
    "# Build model\n",
    "clf = SVC()\n",
    "# Define the set of parameters we want to test on\n",
    "params = [\n",
    "    { 'kernel': ['rbf'], 'C': [ 1 ] }\n",
    "]\n",
    "\n",
    "# Perform grid search\n",
    "svm_best, best_params, best_score = parameters_grid_search(SVC, params, X_vect, y, verbose=1)\n",
    "print('Parameters:', best_params)"
   ]
  },
  {
   "cell_type": "code",
   "execution_count": 162,
   "metadata": {
    "ExecuteTime": {
     "end_time": "2018-04-30T10:47:37.907580Z",
     "start_time": "2018-04-30T10:47:29.090384Z"
    }
   },
   "outputs": [
    {
     "data": {
      "text/plain": [
       "SVC(C=1, cache_size=200, class_weight=None, coef0=0.0,\n",
       "  decision_function_shape=None, degree=3, gamma='auto', kernel='rbf',\n",
       "  max_iter=-1, probability=False, random_state=None, shrinking=True,\n",
       "  tol=0.001, verbose=False)"
      ]
     },
     "execution_count": 162,
     "metadata": {},
     "output_type": "execute_result"
    }
   ],
   "source": [
    "svm = SVC(C=1, kernel='rbf')\n",
    "svm.fit(X_train, y_train)"
   ]
  },
  {
   "cell_type": "code",
   "execution_count": 163,
   "metadata": {
    "ExecuteTime": {
     "end_time": "2018-04-30T10:47:43.579384Z",
     "start_time": "2018-04-30T10:47:40.776842Z"
    },
    "scrolled": true
   },
   "outputs": [
    {
     "name": "stdout",
     "output_type": "stream",
     "text": [
      "Accuracy of SVM classifier on test set: 0.48\n"
     ]
    },
    {
     "data": {
      "image/png": "[encoded data removed]",
      "text/plain": [
       "<Figure size 432x288 with 2 Axes>"
      ]
     },
     "metadata": {},
     "output_type": "display_data"
    }
   ],
   "source": [
    "y_pred = svm.predict(X_test)\n",
    "plot_confusion_matrix(confusion_matrix(y_test, y_pred))\n",
    "print('Accuracy of SVM classifier on test set: {:.2f}'.format(svm.score(X_test, y_test)))"
   ]
  },
  {
   "cell_type": "code",
   "execution_count": 166,
   "metadata": {
    "ExecuteTime": {
     "end_time": "2018-04-30T10:47:58.326084Z",
     "start_time": "2018-04-30T10:47:58.005052Z"
    }
   },
   "outputs": [
    {
     "name": "stdout",
     "output_type": "stream",
     "text": [
      "Accuracy of SVM classifier on extra test set: 0.30\n"
     ]
    },
    {
     "data": {
      "image/png": "[encoded data removed]",
      "text/plain": [
       "<Figure size 432x288 with 2 Axes>"
      ]
     },
     "metadata": {},
     "output_type": "display_data"
    }
   ],
   "source": [
    "y_pred_extra = svm.predict(X_test_extra)\n",
    "plot_confusion_matrix(confusion_matrix(y_test_extra, y_pred_extra), classes=cm_labels)\n",
    "print('Accuracy of SVM classifier on extra test set: {:.2f}'.format(svm.score(X_test_extra, y_test_extra)))"
   ]
  },
  {
   "cell_type": "markdown",
   "metadata": {
    "deletable": false,
    "editable": false,
    "run_control": {
     "frozen": true
    }
   },
   "source": [
    "## Gradient Boost"
   ]
  },
  {
   "cell_type": "code",
   "execution_count": 43,
   "metadata": {
    "ExecuteTime": {
     "end_time": "2018-04-26T13:21:12.790358Z",
     "start_time": "2018-04-26T13:04:47.416597Z"
    },
    "deletable": false,
    "editable": false,
    "run_control": {
     "frozen": true
    }
   },
   "outputs": [
    {
     "name": "stdout",
     "output_type": "stream",
     "text": [
      "Accuracy: 0.78 (+/- 0.08)\n"
     ]
    }
   ],
   "source": [
    "from sklearn.ensemble import GradientBoostingClassifier\n",
    "\n",
    "# Build model\n",
    "clf = GradientBoostingClassifier(learning_rate=0.7, n_estimators=200)\n",
    "# Evaluate accuracy\n",
    "scores = cross_val_score(clf, X_vect, y, cv=10)\n",
    "print('Accuracy: %0.2f (+/- %0.2f)' % (scores.mean(), scores.std() * 1.96))"
   ]
  },
  {
   "cell_type": "code",
   "execution_count": 44,
   "metadata": {
    "ExecuteTime": {
     "end_time": "2018-04-26T13:21:30.936158Z",
     "start_time": "2018-04-26T13:21:28.071086Z"
    },
    "deletable": false,
    "editable": false,
    "run_control": {
     "frozen": true
    },
    "scrolled": true
   },
   "outputs": [
    {
     "name": "stdout",
     "output_type": "stream",
     "text": [
      "Accuracy of Gradient Boosting classifier on test set: 0.46\n"
     ]
    },
    {
     "data": {
      "image/png": "[encoded data removed]",
      "text/plain": [
       "<Figure size 432x288 with 2 Axes>"
      ]
     },
     "metadata": {},
     "output_type": "display_data"
    }
   ],
   "source": [
    "y_pred = svm.predict(X_test)\n",
    "plot_confusion_matrix(confusion_matrix(y_test, y_pred))\n",
    "print('Accuracy of Gradient Boosting classifier on test set: {:.2f}'.format(svm.score(X_test, y_test)))"
   ]
  },
  {
   "cell_type": "markdown",
   "metadata": {},
   "source": [
    "## Artificial Neural Network"
   ]
  },
  {
   "cell_type": "code",
   "execution_count": 148,
   "metadata": {
    "ExecuteTime": {
     "end_time": "2018-04-30T10:45:40.877533Z",
     "start_time": "2018-04-30T10:45:40.859852Z"
    }
   },
   "outputs": [],
   "source": [
    "from keras.utils import np_utils\n",
    "\n",
    "## Encode outputs\n",
    "\n",
    "encoder = LabelEncoder()\n",
    "\n",
    "encoder.fit(y_train)\n",
    "\n",
    "encoded_Y_train = encoder.transform(y_train)\n",
    "encoded_Y_test = encoder.transform(y_test)\n",
    "encoded_Y_test_extra = encoder.transform(y_test_extra)\n",
    "\n",
    "y_train_nn = np_utils.to_categorical(encoded_Y_train)\n",
    "y_test_nn = np_utils.to_categorical(encoded_Y_test)\n",
    "y_test_extra_nn = np_utils.to_categorical(encoded_Y_test_extra)"
   ]
  },
  {
   "cell_type": "code",
   "execution_count": 149,
   "metadata": {
    "ExecuteTime": {
     "end_time": "2018-04-30T10:45:41.197487Z",
     "start_time": "2018-04-30T10:45:41.193664Z"
    }
   },
   "outputs": [
    {
     "name": "stderr",
     "output_type": "stream",
     "text": [
      "/usr/local/lib/python3.5/dist-packages/sklearn/preprocessing/label.py:171: DeprecationWarning: The truth value of an empty array is ambiguous. Returning False, but in future this will result in an error. Use `array.size > 0` to check that an array is not empty.\n",
      "  if diff:\n"
     ]
    }
   ],
   "source": [
    "cm_labels = encoder.inverse_transform([0, 1, 2, 3])"
   ]
  },
  {
   "cell_type": "code",
   "execution_count": 150,
   "metadata": {
    "ExecuteTime": {
     "end_time": "2018-04-30T10:45:41.899524Z",
     "start_time": "2018-04-30T10:45:41.870944Z"
    }
   },
   "outputs": [],
   "source": [
    "from sklearn.preprocessing import StandardScaler\n",
    "\n",
    "## Scale inputs\n",
    "\n",
    "sc = StandardScaler()\n",
    "\n",
    "sc.fit(X_train)\n",
    "\n",
    "X_train_nn = sc.transform(X_train)\n",
    "X_test_nn = sc.transform(X_test)\n",
    "X_test_extra_nn = sc.transform(X_test_extra)"
   ]
  },
  {
   "cell_type": "code",
   "execution_count": 200,
   "metadata": {
    "ExecuteTime": {
     "end_time": "2018-04-30T10:51:43.233163Z",
     "start_time": "2018-04-30T10:51:43.206384Z"
    }
   },
   "outputs": [],
   "source": [
    "import keras\n",
    "from keras.models import Sequential\n",
    "from keras.layers import Dense, Dropout\n",
    "    \n",
    "def build_ann(optimizer='adam', input_size=X_vect.shape[1]):\n",
    "    classifier = Sequential()\n",
    "    # Add input layer\n",
    "    classifier.add(Dense(units = 120, kernel_initializer = 'random_normal', activation = 'sigmoid', input_dim = input_size))\n",
    "    classifier.add(Dropout(0.5))\n",
    "    \n",
    "    # Add hidden layers\n",
    "    classifier.add(Dense(units = 60, kernel_initializer = 'random_normal', activation = 'softmax', input_dim = input_size))\n",
    "    classifier.add(Dropout(0.5))\n",
    "   \n",
    "    # Add output layer\n",
    "    classifier.add(Dense(units = 4, kernel_initializer = 'random_normal', activation = 'softmax'))\n",
    "\n",
    "    # Compiling the ANN\n",
    "    classifier.compile(optimizer=optimizer, loss = 'categorical_crossentropy', metrics = ['accuracy'])\n",
    "\n",
    "    return classifier"
   ]
  },
  {
   "cell_type": "code",
   "execution_count": 201,
   "metadata": {
    "ExecuteTime": {
     "end_time": "2018-04-30T10:51:52.683424Z",
     "start_time": "2018-04-30T10:51:43.394708Z"
    }
   },
   "outputs": [],
   "source": [
    "classifier = build_ann('adam')\n",
    "classifier.fit(X_train_nn, y_train_nn, batch_size = 256, epochs = 100, verbose=0)\n",
    "y_pred = classifier.predict(X_test_nn)\n",
    "y_pred = np.argmax(y_pred,axis=1)"
   ]
  },
  {
   "cell_type": "code",
   "execution_count": 202,
   "metadata": {
    "ExecuteTime": {
     "end_time": "2018-04-30T10:51:52.984869Z",
     "start_time": "2018-04-30T10:51:52.687615Z"
    }
   },
   "outputs": [
    {
     "name": "stdout",
     "output_type": "stream",
     "text": [
      "Accuracy: 83.23\n"
     ]
    },
    {
     "data": {
      "image/png": "[encoded data removed]",
      "text/plain": [
       "<Figure size 432x288 with 2 Axes>"
      ]
     },
     "metadata": {},
     "output_type": "display_data"
    }
   ],
   "source": [
    "cm = confusion_matrix(encoded_Y_test, y_pred)\n",
    "plot_confusion_matrix(cm, classes=cm_labels)\n",
    "accuracy = (sum([cm[i,i] for i in range(len(cm))])) / len(y_pred)\n",
    "print('Accuracy: %0.2f' % (accuracy*100))"
   ]
  },
  {
   "cell_type": "code",
   "execution_count": 203,
   "metadata": {
    "ExecuteTime": {
     "end_time": "2018-04-30T10:51:53.000353Z",
     "start_time": "2018-04-30T10:51:52.989174Z"
    }
   },
   "outputs": [],
   "source": [
    "y_pred_extra = classifier.predict(X_test_extra_nn)\n",
    "y_pred_extra = np.argmax(y_pred_extra, axis=1)"
   ]
  },
  {
   "cell_type": "code",
   "execution_count": 204,
   "metadata": {
    "ExecuteTime": {
     "end_time": "2018-04-30T10:51:53.369384Z",
     "start_time": "2018-04-30T10:51:53.004767Z"
    }
   },
   "outputs": [
    {
     "name": "stdout",
     "output_type": "stream",
     "text": [
      "Accuracy: 50.00\n"
     ]
    },
    {
     "data": {
      "image/png": "[encoded data removed]",
      "text/plain": [
       "<Figure size 432x288 with 2 Axes>"
      ]
     },
     "metadata": {},
     "output_type": "display_data"
    }
   ],
   "source": [
    "cm = confusion_matrix(encoded_Y_test_extra, y_pred_extra)\n",
    "plot_confusion_matrix(cm, classes=cm_labels)\n",
    "accuracy = (sum([cm[i,i] for i in range(len(cm))])) / len(encoded_Y_test_extra)\n",
    "print('Accuracy: %0.2f' % (accuracy*100))"
   ]
  },
  {
   "cell_type": "markdown",
   "metadata": {},
   "source": [
    "## Naive Bayes Classifier"
   ]
  },
  {
   "cell_type": "code",
   "execution_count": 167,
   "metadata": {
    "ExecuteTime": {
     "end_time": "2018-04-30T10:49:10.598240Z",
     "start_time": "2018-04-30T10:49:10.574474Z"
    }
   },
   "outputs": [],
   "source": [
    "from sklearn.preprocessing import MinMaxScaler\n",
    "\n",
    "## Scale inputs\n",
    "\n",
    "sc = MinMaxScaler()\n",
    "\n",
    "sc.fit(X_train)\n",
    "\n",
    "X_train_nb = sc.transform(X_train)\n",
    "X_test_nb = sc.transform(X_test)\n",
    "X_test_extra_nb = sc.transform(X_test_extra)"
   ]
  },
  {
   "cell_type": "code",
   "execution_count": 168,
   "metadata": {
    "ExecuteTime": {
     "end_time": "2018-04-30T10:49:10.781486Z",
     "start_time": "2018-04-30T10:49:10.777745Z"
    }
   },
   "outputs": [],
   "source": [
    "from sklearn.naive_bayes import MultinomialNB"
   ]
  },
  {
   "cell_type": "code",
   "execution_count": 178,
   "metadata": {
    "ExecuteTime": {
     "end_time": "2018-04-30T10:49:33.530865Z",
     "start_time": "2018-04-30T10:49:33.497848Z"
    }
   },
   "outputs": [
    {
     "data": {
      "text/plain": [
       "MultinomialNB(alpha=1.0, class_prior=None, fit_prior=True)"
      ]
     },
     "execution_count": 178,
     "metadata": {},
     "output_type": "execute_result"
    }
   ],
   "source": [
    "clf = MultinomialNB()\n",
    "clf.fit(X_train_nb, y_train)"
   ]
  },
  {
   "cell_type": "code",
   "execution_count": 180,
   "metadata": {
    "ExecuteTime": {
     "end_time": "2018-04-30T10:49:35.280530Z",
     "start_time": "2018-04-30T10:49:34.986051Z"
    }
   },
   "outputs": [
    {
     "name": "stdout",
     "output_type": "stream",
     "text": [
      "Accuracy of Naive-Bayes classifier on test set: 0.49\n"
     ]
    },
    {
     "data": {
      "image/png": "[encoded data removed]",
      "text/plain": [
       "<Figure size 432x288 with 2 Axes>"
      ]
     },
     "metadata": {},
     "output_type": "display_data"
    }
   ],
   "source": [
    "y_pred = clf.predict(X_test_nb)\n",
    "plot_confusion_matrix(confusion_matrix(y_test, y_pred), classes=cm_labels)\n",
    "print('Accuracy of Naive-Bayes classifier on test set: {:.2f}'.format(clf.score(X_test_nb, y_test)))"
   ]
  },
  {
   "cell_type": "code",
   "execution_count": 181,
   "metadata": {
    "ExecuteTime": {
     "end_time": "2018-04-30T10:49:35.660181Z",
     "start_time": "2018-04-30T10:49:35.356693Z"
    }
   },
   "outputs": [
    {
     "name": "stdout",
     "output_type": "stream",
     "text": [
      "Accuracy of Naive-Bayes classifier on extra test set: 0.40\n"
     ]
    },
    {
     "data": {
      "image/png": "[encoded data removed]",
      "text/plain": [
       "<Figure size 432x288 with 2 Axes>"
      ]
     },
     "metadata": {},
     "output_type": "display_data"
    }
   ],
   "source": [
    "y_pred = clf.predict(X_test_extra_nb)\n",
    "plot_confusion_matrix(confusion_matrix(y_test_extra, y_pred), classes=cm_labels)\n",
    "print('Accuracy of Naive-Bayes classifier on extra test set: {:.2f}'.format(clf.score(X_test_extra_nb, y_test_extra)))"
   ]
  },
  {
   "cell_type": "markdown",
   "metadata": {},
   "source": [
    "# Conclusions\n",
    "\n",
    "Having a bigger dataset at our disposal may certainly make our predictions more stable. However EmoInt is probably too much different from what we have classify (tweets vs lyrics) and it may not improve our predictive abilities at all."
   ]
  },
  {
   "cell_type": "markdown",
   "metadata": {},
   "source": [
    "# References\n",
    "[EmoInt](http://saifmohammad.com/WebDocs/TweetEmotionIntensities-starsem2017.pdf)"
   ]
  }
 ],
 "metadata": {
  "kernelspec": {
   "display_name": "Python 3",
   "language": "python",
   "name": "python3"
  },
  "language_info": {
   "codemirror_mode": {
    "name": "ipython",
    "version": 3
   },
   "file_extension": ".py",
   "mimetype": "text/x-python",
   "name": "python",
   "nbconvert_exporter": "python",
   "pygments_lexer": "ipython3",
   "version": "3.5.2"
  },
  "toc": {
   "base_numbering": 1,
   "nav_menu": {},
   "number_sections": true,
   "sideBar": true,
   "skip_h1_title": false,
   "title_cell": "Table of Contents",
   "title_sidebar": "Contents",
   "toc_cell": true,
   "toc_position": {
    "height": "calc(100% - 180px)",
    "left": "10px",
    "top": "150px",
    "width": "165px"
   },
   "toc_section_display": true,
   "toc_window_display": true
  }
 },
 "nbformat": 4,
 "nbformat_minor": 2
}
