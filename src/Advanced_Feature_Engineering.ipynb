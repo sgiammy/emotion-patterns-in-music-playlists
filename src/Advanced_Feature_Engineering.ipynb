{
 "cells": [
  {
   "cell_type": "markdown",
   "metadata": {},
   "source": [
    "# Advanced Feature Engineering"
   ]
  },
  {
   "cell_type": "markdown",
   "metadata": {
    "toc": true
   },
   "source": [
    "<h1>Table of Contents<span class=\"tocSkip\"></span></h1>\n",
    "<div class=\"toc\"><ul class=\"toc-item\"><li><span><a href=\"#Advanced-Feature-Engineering\" data-toc-modified-id=\"Advanced-Feature-Engineering-1\"><span class=\"toc-item-num\">1&nbsp;&nbsp;</span>Advanced Feature Engineering</a></span></li><li><span><a href=\"#Introduction\" data-toc-modified-id=\"Introduction-2\"><span class=\"toc-item-num\">2&nbsp;&nbsp;</span>Introduction</a></span></li><li><span><a href=\"#LyricsManager.py\" data-toc-modified-id=\"LyricsManager.py-3\"><span class=\"toc-item-num\">3&nbsp;&nbsp;</span>LyricsManager.py</a></span></li><li><span><a href=\"#MoodyLyrics-issue\" data-toc-modified-id=\"MoodyLyrics-issue-4\"><span class=\"toc-item-num\">4&nbsp;&nbsp;</span>MoodyLyrics issue</a></span></li><li><span><a href=\"#New-features\" data-toc-modified-id=\"New-features-5\"><span class=\"toc-item-num\">5&nbsp;&nbsp;</span>New features</a></span><ul class=\"toc-item\"><li><span><a href=\"#Dataset-Stats\" data-toc-modified-id=\"Dataset-Stats-5.1\"><span class=\"toc-item-num\">5.1&nbsp;&nbsp;</span>Dataset Stats</a></span></li><li><span><a href=\"#Feature-Selection\" data-toc-modified-id=\"Feature-Selection-5.2\"><span class=\"toc-item-num\">5.2&nbsp;&nbsp;</span>Feature Selection</a></span><ul class=\"toc-item\"><li><span><a href=\"#Extra-test-set\" data-toc-modified-id=\"Extra-test-set-5.2.1\"><span class=\"toc-item-num\">5.2.1&nbsp;&nbsp;</span>Extra test set</a></span></li></ul></li><li><span><a href=\"#Artificial-Neural-Network\" data-toc-modified-id=\"Artificial-Neural-Network-5.3\"><span class=\"toc-item-num\">5.3&nbsp;&nbsp;</span>Artificial Neural Network</a></span><ul class=\"toc-item\"><li><span><a href=\"#Playlist-Classification\" data-toc-modified-id=\"Playlist-Classification-5.3.1\"><span class=\"toc-item-num\">5.3.1&nbsp;&nbsp;</span>Playlist Classification</a></span></li></ul></li><li><span><a href=\"#Logistic-Regression\" data-toc-modified-id=\"Logistic-Regression-5.4\"><span class=\"toc-item-num\">5.4&nbsp;&nbsp;</span>Logistic Regression</a></span><ul class=\"toc-item\"><li><span><a href=\"#Playlist-Classification\" data-toc-modified-id=\"Playlist-Classification-5.4.1\"><span class=\"toc-item-num\">5.4.1&nbsp;&nbsp;</span>Playlist Classification</a></span></li></ul></li><li><span><a href=\"#SVM\" data-toc-modified-id=\"SVM-5.5\"><span class=\"toc-item-num\">5.5&nbsp;&nbsp;</span>SVM</a></span></li><li><span><a href=\"#eXtreme-Gradient-Boost\" data-toc-modified-id=\"eXtreme-Gradient-Boost-5.6\"><span class=\"toc-item-num\">5.6&nbsp;&nbsp;</span>eXtreme Gradient Boost</a></span></li><li><span><a href=\"#Naive-Bayesian-Classifier\" data-toc-modified-id=\"Naive-Bayesian-Classifier-5.7\"><span class=\"toc-item-num\">5.7&nbsp;&nbsp;</span>Naive Bayesian Classifier</a></span><ul class=\"toc-item\"><li><span><a href=\"#Playlist-Classification\" data-toc-modified-id=\"Playlist-Classification-5.7.1\"><span class=\"toc-item-num\">5.7.1&nbsp;&nbsp;</span>Playlist Classification</a></span></li></ul></li></ul></li><li><span><a href=\"#Conclusion\" data-toc-modified-id=\"Conclusion-6\"><span class=\"toc-item-num\">6&nbsp;&nbsp;</span>Conclusion</a></span></li></ul></div>"
   ]
  },
  {
   "cell_type": "code",
   "execution_count": 1,
   "metadata": {
    "ExecuteTime": {
     "end_time": "2018-05-01T07:45:59.691776Z",
     "start_time": "2018-05-01T07:45:58.201276Z"
    }
   },
   "outputs": [],
   "source": [
    "import spacy\n",
    "import os\n",
    "import sys\n",
    "import warnings\n",
    "import itertools\n",
    "\n",
    "import numpy as np\n",
    "import pandas as pd\n",
    "\n",
    "from sklearn.preprocessing import LabelEncoder\n",
    "\n",
    "from sklearn.model_selection import cross_val_score\n",
    "from sklearn.model_selection import GridSearchCV\n",
    "\n",
    "from sklearn.metrics import confusion_matrix\n",
    "\n",
    "from sklearn.decomposition import PCA\n",
    "\n",
    "import seaborn as sns\n",
    "sns.set()\n",
    "import matplotlib.pyplot as plt\n",
    "\n",
    "from utils.datasets import load_dataset_from_path, split_train_validation\n",
    "\n",
    "emotion_labels = ['happy', 'sad', 'angry', 'relaxed']"
   ]
  },
  {
   "cell_type": "code",
   "execution_count": 2,
   "metadata": {
    "ExecuteTime": {
     "end_time": "2018-05-01T07:45:59.708991Z",
     "start_time": "2018-05-01T07:45:59.694151Z"
    }
   },
   "outputs": [],
   "source": [
    "# Read extra test set\n",
    "extra_test_path = './datasets/extra_test.csv'\n",
    "extra_test = pd.read_csv(extra_test_path)"
   ]
  },
  {
   "cell_type": "code",
   "execution_count": 3,
   "metadata": {
    "ExecuteTime": {
     "end_time": "2018-05-01T07:45:59.750680Z",
     "start_time": "2018-05-01T07:45:59.711504Z"
    }
   },
   "outputs": [],
   "source": [
    "def plot_confusion_matrix(cm, classes = emotion_labels,\n",
    "                          normalize=False,\n",
    "                          title='Confusion matrix',\n",
    "                          cmap=plt.cm.Blues):\n",
    "    \"\"\"\n",
    "    This function prints and plots the confusion matrix.\n",
    "    Normalization can be applied by setting `normalize=True`.\n",
    "    \"\"\"\n",
    "    if normalize:\n",
    "        cm = cm.astype('float') / cm.sum(axis=1)[:, np.newaxis]\n",
    "\n",
    "    plt.imshow(cm, interpolation='nearest', cmap=cmap)\n",
    "    plt.title(title)\n",
    "    plt.colorbar()\n",
    "    tick_marks = np.arange(len(classes))\n",
    "    plt.xticks(tick_marks, classes, rotation=45)\n",
    "    plt.yticks(tick_marks, classes)\n",
    "\n",
    "    fmt = '.2f' if normalize else 'd'\n",
    "    thresh = cm.max() / 2.\n",
    "    for i, j in itertools.product(range(cm.shape[0]), range(cm.shape[1])):\n",
    "        plt.text(j, i, format(cm[i, j], fmt),\n",
    "                 horizontalalignment=\"center\",\n",
    "                 color=\"white\" if cm[i, j] > thresh else \"black\")\n",
    "\n",
    "    plt.grid(False)\n",
    "    plt.tight_layout()\n",
    "    plt.ylabel('True label')\n",
    "    plt.xlabel('Predicted label')"
   ]
  },
  {
   "cell_type": "markdown",
   "metadata": {},
   "source": [
    "# Introduction\n",
    "**Previously on Sara&Mario project**: \n",
    "<ol>\n",
    "    <li>*MoodyLyrics* stats analysis</li>\n",
    "    <li>Lyrics classification using the main classifiers</li>\n",
    "    <li>Emotion classification by just considering the song title</li> \n",
    "</ol>\n",
    "Now, following the last meeting discussion we: \n",
    "<ol>\n",
    "    <li>Wrote a script to create the dataset *SpotifyURI*, *List of PlaylistIDs*, *MoodyLyric_Emotion*</li>\n",
    "    <li>Wrote a script to detect all duplicated songs in MoodyLyrics to fill a bug report</li>\n",
    "    <li>Added new features for the classification task</li>\n",
    "</ol>"
   ]
  },
  {
   "cell_type": "markdown",
   "metadata": {},
   "source": [
    "# LyricsManager.py\n",
    "After downloading the Spotify RecSys Challenge dataset we wrote a script that: <br>\n",
    "<ul>\n",
    "    <li>Given as input: the *Spotify playlist dataset folder*, and an output folder, creates a data structure to store for each song:<br>\n",
    "        <*SpotifyURI*, *PlaylistIDs*, *TrackInformation*, *Emotion*><br>\n",
    "        where: \n",
    "            <ul>\n",
    "                <li>*SpotifyURI* is the songID</li>\n",
    "                <li>*PlaylistsIDs* is the list of playlist in which the song appear</li>\n",
    "                <li>*TrackInformation* is the list of information taken from Spotify dataset</li>\n",
    "                <li>*Emotion* is an optional field, present only if the song is also contained in the MoodyLyrics dataset, that contains the emotion label for the song\n",
    "    </li>\n",
    "            </ul>\n",
    "      <li>Can load Spotify songs datastructure (if already existing)</li>\n",
    "            <li>Given as input a SpotifyURI it can download lyrics from lyricwikia</li>\n",
    "</ul>"
   ]
  },
  {
   "cell_type": "markdown",
   "metadata": {},
   "source": [
    "# MoodyLyrics issue\n",
    "New week we detected duplicate information in MoodyLyrics. Now we can generate a .csv file capable of reporting those duplicates.\n",
    "\n",
    "Now it's time to fill a bug."
   ]
  },
  {
   "cell_type": "markdown",
   "metadata": {},
   "source": [
    "# New features\n",
    "Starting from MoodyLyrics we are going to create a new dataset with a lot of new features. <br>\n",
    "<ul>\n",
    "    <li>**Title_vector**</li>\n",
    "    <li>**Lyric_vector**</li>\n",
    "    <li>**%Rhymes**:<br> defined as the percentage of the number of rhymes over the number of total lines. A rhyme is defined as a rhyme between two following lines.</li>\n",
    "    <li>**%Past_tense_verbs**:<br> defined as the the percentage of the number of past tense verbs over the total number of verbs.</li>\n",
    "    <li>**%Present_tense_verbs**:<br>  defined as the the percentage of the number of present tense verbs over the total number of verbs.</li>\n",
    "    <li>**%Future_tense_verbs**:<br>  defined as the the percentage of the number of future tense verbs over the total number of verbs, where future is just will + base form.</li>\n",
    "    <li>**%ADJ**:<br> Percentage of adjectives over the total number of words.</li>\n",
    "    <li>**%ADP**:<br> Percentage of adpositions (e.g. in, to, during) over the total number of words.</li>\n",
    "    <li>**%ADV**:<br> Percentage of adverbs (e.g. very, tomorrow, down, where, there) over the total number of words.</li>\n",
    "    <li>**%AUX**:<br> Percentage of auxiliaries (e.g. is, has (done), will (do), should (do)) over the total number of words.</li>\n",
    "    <li>**%INTJ**:<br> Percentage of interjections (e.g. psst, ouch, bravo, hello) over the total number of words.</li>\n",
    "    <li>**%NOUN**:<br> Percentage of nouns over the total number of words.</li>\n",
    "    <li>**%NUM**:<br> Percentage of numerals over the total number of words.</li>\n",
    "    <li>**%PRON**:<br> Percentage of pronouns (e.g. I, you, he, she, myself, themselves, somebody,...) over the total number of words.</li> \n",
    "    <li>**%PROPN**:<br> Percentage of proper nouns (e.g. Mary, John) over the total number of words.</li>\n",
    "    <li>**%PUNCT**:<br> Percentage of puntuctuation (e.g. ., (, ), ?) over the total number of words.</li>\n",
    "    <li>**%VERB**:<br> Percentage of verbs over the total number of words.</li>\n",
    "    <li>**Selfish_degree**:<br> Percentage of 'I' pronouns over the total number of pronouns</li>\n",
    "    <li>**%Echoism**:<br> Percentage of echoism over the total number of words, where an echoism is either a sequence of two subsequent repeated words or the repetition of a vowel in a word. </li>\n",
    "    <li>**%Duplicates**:<br> Percentage of duplicate words over the total number of words</li>\n",
    "    <li>**isTitleInLyric**:<br> Boolean, true if the title string is also a substring of the lyric</li>\n",
    "    <li>**sentiment**:<br> Sentiment between -1 and 1</li>\n",
    "    <li>**subjectivity degree**:<br> Degree of subjectivity of the text</li>\n",
    "</ul>\n",
    "\n",
    "The sentiment and subjectivity analysis was done using [TextBlob](http://textblob.readthedocs.io/en/dev/index.html) Python NLP library."
   ]
  },
  {
   "cell_type": "markdown",
   "metadata": {},
   "source": [
    "## Dataset Stats"
   ]
  },
  {
   "cell_type": "code",
   "execution_count": 4,
   "metadata": {
    "ExecuteTime": {
     "end_time": "2018-05-01T07:45:59.756356Z",
     "start_time": "2018-05-01T07:45:59.753435Z"
    }
   },
   "outputs": [],
   "source": [
    "import pandas as pd"
   ]
  },
  {
   "cell_type": "code",
   "execution_count": 5,
   "metadata": {
    "ExecuteTime": {
     "end_time": "2018-05-01T07:45:59.988299Z",
     "start_time": "2018-05-01T07:45:59.758885Z"
    }
   },
   "outputs": [],
   "source": [
    "dataset = pd.read_csv('./datasets/moodylyrics_featurized.csv')               "
   ]
  },
  {
   "cell_type": "code",
   "execution_count": 6,
   "metadata": {
    "ExecuteTime": {
     "end_time": "2018-05-01T07:45:59.995430Z",
     "start_time": "2018-05-01T07:45:59.990970Z"
    }
   },
   "outputs": [],
   "source": [
    "useless_columns = [ 'ID','ARTIST', 'SONG_TITLE', 'EMOTION', 'X_FREQUENCIES', 'SPACE_FREQUENCIES']"
   ]
  },
  {
   "cell_type": "code",
   "execution_count": 7,
   "metadata": {
    "ExecuteTime": {
     "end_time": "2018-05-01T07:46:00.005160Z",
     "start_time": "2018-05-01T07:45:59.999357Z"
    }
   },
   "outputs": [
    {
     "name": "stdout",
     "output_type": "stream",
     "text": [
      "38\n"
     ]
    }
   ],
   "source": [
    "print(len(dataset.columns))"
   ]
  },
  {
   "cell_type": "code",
   "execution_count": 8,
   "metadata": {
    "ExecuteTime": {
     "end_time": "2018-05-01T07:46:00.050220Z",
     "start_time": "2018-05-01T07:46:00.008524Z"
    },
    "scrolled": true
   },
   "outputs": [
    {
     "data": {
      "text/html": [
       "<div>\n",
       "<style scoped>\n",
       "    .dataframe tbody tr th:only-of-type {\n",
       "        vertical-align: middle;\n",
       "    }\n",
       "\n",
       "    .dataframe tbody tr th {\n",
       "        vertical-align: top;\n",
       "    }\n",
       "\n",
       "    .dataframe thead th {\n",
       "        text-align: right;\n",
       "    }\n",
       "</style>\n",
       "<table border=\"1\" class=\"dataframe\">\n",
       "  <thead>\n",
       "    <tr style=\"text-align: right;\">\n",
       "      <th></th>\n",
       "      <th>Unnamed: 0</th>\n",
       "      <th>ID</th>\n",
       "      <th>ARTIST</th>\n",
       "      <th>SONG_TITLE</th>\n",
       "      <th>LYRICS_VECTOR</th>\n",
       "      <th>TITLE_VECTOR</th>\n",
       "      <th>LINE_COUNT</th>\n",
       "      <th>WORD_COUNT</th>\n",
       "      <th>ECHOISMS</th>\n",
       "      <th>SELFISH_DEGREE</th>\n",
       "      <th>...</th>\n",
       "      <th>PROPN_FREQUENCIES</th>\n",
       "      <th>PUNCT_FREQUENCIES</th>\n",
       "      <th>SCONJ_FREQUENCIES</th>\n",
       "      <th>SYM_FREQUENCIES</th>\n",
       "      <th>VERB_FREQUENCIES</th>\n",
       "      <th>X_FREQUENCIES</th>\n",
       "      <th>SPACE_FREQUENCIES</th>\n",
       "      <th>SENTIMENT</th>\n",
       "      <th>SUBJECTIVITY</th>\n",
       "      <th>EMOTION</th>\n",
       "    </tr>\n",
       "  </thead>\n",
       "  <tbody>\n",
       "    <tr>\n",
       "      <th>0</th>\n",
       "      <td>0</td>\n",
       "      <td>0</td>\n",
       "      <td>.38 Special</td>\n",
       "      <td>Fantasy Girl</td>\n",
       "      <td>[-2.59583928e-02  1.46213636e-01 -2.40031540e-...</td>\n",
       "      <td>[-0.1325517   0.07027499 -0.353215    0.047058...</td>\n",
       "      <td>35</td>\n",
       "      <td>174</td>\n",
       "      <td>0.0</td>\n",
       "      <td>0.291667</td>\n",
       "      <td>...</td>\n",
       "      <td>0.000000</td>\n",
       "      <td>0.051724</td>\n",
       "      <td>0.0</td>\n",
       "      <td>0.0</td>\n",
       "      <td>0.241379</td>\n",
       "      <td>0.0</td>\n",
       "      <td>0.0</td>\n",
       "      <td>0.137407</td>\n",
       "      <td>0.610000</td>\n",
       "      <td>relaxed</td>\n",
       "    </tr>\n",
       "    <tr>\n",
       "      <th>1</th>\n",
       "      <td>1</td>\n",
       "      <td>1</td>\n",
       "      <td>.38 Special</td>\n",
       "      <td>Second Chance</td>\n",
       "      <td>[-1.19381584e-02  2.30911389e-01 -1.93970740e-...</td>\n",
       "      <td>[-2.17199996e-02  3.36335003e-01 -1.79910004e-...</td>\n",
       "      <td>50</td>\n",
       "      <td>318</td>\n",
       "      <td>0.0</td>\n",
       "      <td>0.368421</td>\n",
       "      <td>...</td>\n",
       "      <td>0.000000</td>\n",
       "      <td>0.006289</td>\n",
       "      <td>0.0</td>\n",
       "      <td>0.0</td>\n",
       "      <td>0.345912</td>\n",
       "      <td>0.0</td>\n",
       "      <td>0.0</td>\n",
       "      <td>0.112576</td>\n",
       "      <td>0.310317</td>\n",
       "      <td>happy</td>\n",
       "    </tr>\n",
       "    <tr>\n",
       "      <th>2</th>\n",
       "      <td>2</td>\n",
       "      <td>2</td>\n",
       "      <td>22-20s</td>\n",
       "      <td>Hold On</td>\n",
       "      <td>[ 5.15404232e-02  1.07047103e-01 -2.46115208e-...</td>\n",
       "      <td>[-9.10529941e-02  1.45800002e-02 -2.31949985e-...</td>\n",
       "      <td>38</td>\n",
       "      <td>217</td>\n",
       "      <td>0.0</td>\n",
       "      <td>0.461538</td>\n",
       "      <td>...</td>\n",
       "      <td>0.000000</td>\n",
       "      <td>0.000000</td>\n",
       "      <td>0.0</td>\n",
       "      <td>0.0</td>\n",
       "      <td>0.313364</td>\n",
       "      <td>0.0</td>\n",
       "      <td>0.0</td>\n",
       "      <td>0.200000</td>\n",
       "      <td>0.400000</td>\n",
       "      <td>angry</td>\n",
       "    </tr>\n",
       "    <tr>\n",
       "      <th>3</th>\n",
       "      <td>3</td>\n",
       "      <td>3</td>\n",
       "      <td>3 Inches Of Blood</td>\n",
       "      <td>Trial Of Champions</td>\n",
       "      <td>[-7.87018538e-02  7.39747062e-02 -8.28025416e-...</td>\n",
       "      <td>[-3.40596698e-02  7.27466643e-02  2.60249972e-...</td>\n",
       "      <td>33</td>\n",
       "      <td>179</td>\n",
       "      <td>0.0</td>\n",
       "      <td>0.000000</td>\n",
       "      <td>...</td>\n",
       "      <td>0.011173</td>\n",
       "      <td>0.011173</td>\n",
       "      <td>0.0</td>\n",
       "      <td>0.0</td>\n",
       "      <td>0.245810</td>\n",
       "      <td>0.0</td>\n",
       "      <td>0.0</td>\n",
       "      <td>-0.015899</td>\n",
       "      <td>0.606838</td>\n",
       "      <td>angry</td>\n",
       "    </tr>\n",
       "    <tr>\n",
       "      <th>4</th>\n",
       "      <td>4</td>\n",
       "      <td>4</td>\n",
       "      <td>3 of Hearts</td>\n",
       "      <td>Is It Love</td>\n",
       "      <td>[-9.74312518e-03  2.82311559e-01 -1.53461650e-...</td>\n",
       "      <td>[ 1.86306313e-02  4.64353323e-01 -1.01861566e-...</td>\n",
       "      <td>45</td>\n",
       "      <td>252</td>\n",
       "      <td>0.0</td>\n",
       "      <td>0.223881</td>\n",
       "      <td>...</td>\n",
       "      <td>0.000000</td>\n",
       "      <td>0.166667</td>\n",
       "      <td>0.0</td>\n",
       "      <td>0.0</td>\n",
       "      <td>0.305556</td>\n",
       "      <td>0.0</td>\n",
       "      <td>0.0</td>\n",
       "      <td>0.479429</td>\n",
       "      <td>0.601429</td>\n",
       "      <td>happy</td>\n",
       "    </tr>\n",
       "  </tbody>\n",
       "</table>\n",
       "<p>5 rows × 38 columns</p>\n",
       "</div>"
      ],
      "text/plain": [
       "   Unnamed: 0  ID             ARTIST          SONG_TITLE  \\\n",
       "0           0   0        .38 Special        Fantasy Girl   \n",
       "1           1   1        .38 Special       Second Chance   \n",
       "2           2   2             22-20s             Hold On   \n",
       "3           3   3  3 Inches Of Blood  Trial Of Champions   \n",
       "4           4   4        3 of Hearts          Is It Love   \n",
       "\n",
       "                                       LYRICS_VECTOR  \\\n",
       "0  [-2.59583928e-02  1.46213636e-01 -2.40031540e-...   \n",
       "1  [-1.19381584e-02  2.30911389e-01 -1.93970740e-...   \n",
       "2  [ 5.15404232e-02  1.07047103e-01 -2.46115208e-...   \n",
       "3  [-7.87018538e-02  7.39747062e-02 -8.28025416e-...   \n",
       "4  [-9.74312518e-03  2.82311559e-01 -1.53461650e-...   \n",
       "\n",
       "                                        TITLE_VECTOR  LINE_COUNT  WORD_COUNT  \\\n",
       "0  [-0.1325517   0.07027499 -0.353215    0.047058...          35         174   \n",
       "1  [-2.17199996e-02  3.36335003e-01 -1.79910004e-...          50         318   \n",
       "2  [-9.10529941e-02  1.45800002e-02 -2.31949985e-...          38         217   \n",
       "3  [-3.40596698e-02  7.27466643e-02  2.60249972e-...          33         179   \n",
       "4  [ 1.86306313e-02  4.64353323e-01 -1.01861566e-...          45         252   \n",
       "\n",
       "   ECHOISMS  SELFISH_DEGREE   ...     PROPN_FREQUENCIES  PUNCT_FREQUENCIES  \\\n",
       "0       0.0        0.291667   ...              0.000000           0.051724   \n",
       "1       0.0        0.368421   ...              0.000000           0.006289   \n",
       "2       0.0        0.461538   ...              0.000000           0.000000   \n",
       "3       0.0        0.000000   ...              0.011173           0.011173   \n",
       "4       0.0        0.223881   ...              0.000000           0.166667   \n",
       "\n",
       "   SCONJ_FREQUENCIES  SYM_FREQUENCIES  VERB_FREQUENCIES  X_FREQUENCIES  \\\n",
       "0                0.0              0.0          0.241379            0.0   \n",
       "1                0.0              0.0          0.345912            0.0   \n",
       "2                0.0              0.0          0.313364            0.0   \n",
       "3                0.0              0.0          0.245810            0.0   \n",
       "4                0.0              0.0          0.305556            0.0   \n",
       "\n",
       "   SPACE_FREQUENCIES  SENTIMENT  SUBJECTIVITY  EMOTION  \n",
       "0                0.0   0.137407      0.610000  relaxed  \n",
       "1                0.0   0.112576      0.310317    happy  \n",
       "2                0.0   0.200000      0.400000    angry  \n",
       "3                0.0  -0.015899      0.606838    angry  \n",
       "4                0.0   0.479429      0.601429    happy  \n",
       "\n",
       "[5 rows x 38 columns]"
      ]
     },
     "execution_count": 8,
     "metadata": {},
     "output_type": "execute_result"
    }
   ],
   "source": [
    "dataset.head(5)"
   ]
  },
  {
   "cell_type": "code",
   "execution_count": 12,
   "metadata": {
    "ExecuteTime": {
     "end_time": "2018-04-26T12:11:35.281400Z",
     "start_time": "2018-04-26T12:11:30.508174Z"
    },
    "deletable": false,
    "editable": false,
    "run_control": {
     "frozen": true
    },
    "scrolled": true
   },
   "outputs": [
    {
     "data": {
      "image/png": "[encoded data removed]",
      "text/plain": [
       "<Figure size 1800x2880 with 29 Axes>"
      ]
     },
     "metadata": {},
     "output_type": "display_data"
    }
   ],
   "source": [
    "tmp_df = dataset.drop(useless_columns + ['LYRICS_VECTOR', 'TITLE_VECTOR'],axis=1)\n",
    "\n",
    "f, axarr = plt.subplots(8, 4, figsize=(25,40))\n",
    "k = 0\n",
    "for feature in tmp_df.columns:\n",
    "    (i, j) = divmod(k, 4)\n",
    "    axarr[i,j] = sns.boxplot(y=tmp_df[feature], ax=axarr[i,j])\n",
    "    axarr[i,j].set_title('Boxplot for {}'.format(feature), fontsize=16, weight='bold')\n",
    "    k += 1\n",
    "plt.tight_layout()\n",
    "f.delaxes(axarr[-1,-1])\n",
    "f.delaxes(axarr[-1,-2])\n",
    "f.delaxes(axarr[-1,-3])"
   ]
  },
  {
   "cell_type": "markdown",
   "metadata": {},
   "source": [
    "## Feature Selection"
   ]
  },
  {
   "cell_type": "code",
   "execution_count": 9,
   "metadata": {
    "ExecuteTime": {
     "end_time": "2018-05-01T07:46:00.060439Z",
     "start_time": "2018-05-01T07:46:00.053396Z"
    }
   },
   "outputs": [],
   "source": [
    "selected_columns = [\n",
    "   'LYRICS_VECTOR',\n",
    "   'WORD_COUNT', 'ECHOISMS', 'SELFISH_DEGREE', \n",
    "   'DUPLICATE_LINES', 'IS_TITLE_IN_LYRICS', 'VERB_PRESENT', \n",
    "   'VERB_PAST', 'VERB_FUTURE', 'ADJ_FREQUENCIES',\n",
    "   'PUNCT_FREQUENCIES',\n",
    "   'SENTIMENT', 'SUBJECTIVITY',\n",
    "   'EMOTION'\n",
    "]"
   ]
  },
  {
   "cell_type": "code",
   "execution_count": 10,
   "metadata": {
    "ExecuteTime": {
     "end_time": "2018-05-01T07:46:00.071831Z",
     "start_time": "2018-05-01T07:46:00.063601Z"
    }
   },
   "outputs": [],
   "source": [
    "dataset = dataset[selected_columns]\n",
    "extra_test = extra_test[selected_columns]"
   ]
  },
  {
   "cell_type": "code",
   "execution_count": 11,
   "metadata": {
    "ExecuteTime": {
     "end_time": "2018-05-01T07:46:00.800072Z",
     "start_time": "2018-05-01T07:46:00.074633Z"
    }
   },
   "outputs": [],
   "source": [
    "tmp_df = dataset.drop(['EMOTION'], axis=1)\n",
    "X_vect = list()\n",
    "for (i, row) in tmp_df.iterrows():\n",
    "    sub_list = list()\n",
    "    for field in row:\n",
    "        if type(field) == str:\n",
    "            field = field[1:-1].split()\n",
    "            sub_list += [float(x.replace('\\n','')) for x in field]\n",
    "        else:\n",
    "            sub_list.append(field)\n",
    "    X_vect.append(np.array(sub_list))\n",
    "X_vect = np.array(X_vect)"
   ]
  },
  {
   "cell_type": "code",
   "execution_count": 12,
   "metadata": {
    "ExecuteTime": {
     "end_time": "2018-05-01T07:46:00.806597Z",
     "start_time": "2018-05-01T07:46:00.802031Z"
    }
   },
   "outputs": [],
   "source": [
    "y = dataset['EMOTION'].as_matrix().T"
   ]
  },
  {
   "cell_type": "code",
   "execution_count": 13,
   "metadata": {
    "ExecuteTime": {
     "end_time": "2018-05-01T07:46:00.816889Z",
     "start_time": "2018-05-01T07:46:00.810351Z"
    }
   },
   "outputs": [
    {
     "name": "stdout",
     "output_type": "stream",
     "text": [
      "(2452, 312)\n",
      "(2452,)\n"
     ]
    }
   ],
   "source": [
    "print(X_vect.shape)\n",
    "print(y.shape)"
   ]
  },
  {
   "cell_type": "code",
   "execution_count": 14,
   "metadata": {
    "ExecuteTime": {
     "end_time": "2018-05-01T07:46:00.827940Z",
     "start_time": "2018-05-01T07:46:00.820144Z"
    }
   },
   "outputs": [],
   "source": [
    "from sklearn.model_selection import train_test_split\n",
    "X_train, X_test, y_train, y_test = train_test_split(X_vect, y, test_size = 0.2, random_state = 0)"
   ]
  },
  {
   "cell_type": "markdown",
   "metadata": {},
   "source": [
    "### Extra test set"
   ]
  },
  {
   "cell_type": "code",
   "execution_count": 15,
   "metadata": {
    "ExecuteTime": {
     "end_time": "2018-05-01T07:46:00.853402Z",
     "start_time": "2018-05-01T07:46:00.830396Z"
    }
   },
   "outputs": [],
   "source": [
    "tmp_df = extra_test.drop(['EMOTION'], axis=1)\n",
    "X_test_extra = list()\n",
    "for (i, row) in tmp_df.iterrows():\n",
    "    sub_list = list()\n",
    "    for field in row:\n",
    "        if type(field) == str:\n",
    "            field = field[1:-1].split()\n",
    "            sub_list += [float(x.replace('\\n','')) for x in field]\n",
    "        else:\n",
    "            sub_list.append(field)\n",
    "    X_test_extra.append(np.array(sub_list))\n",
    "X_test_extra = np.array(X_test_extra)"
   ]
  },
  {
   "cell_type": "code",
   "execution_count": 16,
   "metadata": {
    "ExecuteTime": {
     "end_time": "2018-05-01T07:46:00.858505Z",
     "start_time": "2018-05-01T07:46:00.855544Z"
    }
   },
   "outputs": [],
   "source": [
    "y_test_extra = extra_test['EMOTION'].as_matrix().T"
   ]
  },
  {
   "cell_type": "markdown",
   "metadata": {},
   "source": [
    "## Artificial Neural Network"
   ]
  },
  {
   "cell_type": "code",
   "execution_count": 286,
   "metadata": {
    "ExecuteTime": {
     "end_time": "2018-05-01T10:03:15.761298Z",
     "start_time": "2018-05-01T10:03:15.744304Z"
    }
   },
   "outputs": [],
   "source": [
    "from keras.utils import np_utils\n",
    "\n",
    "## Encode outputs\n",
    "\n",
    "encoder = LabelEncoder()\n",
    "\n",
    "encoder.fit(y_train)\n",
    "\n",
    "encoded_Y_train = encoder.transform(y_train)\n",
    "encoded_Y_test = encoder.transform(y_test)\n",
    "encoded_Y_test_extra = encoder.transform(y_test_extra)\n",
    "y_train_nn = np_utils.to_categorical(encoded_Y_train)\n",
    "y_test_nn = np_utils.to_categorical(encoded_Y_test)\n",
    "y_test_extra_nn = np_utils.to_categorical(encoded_Y_test_extra)"
   ]
  },
  {
   "cell_type": "code",
   "execution_count": 287,
   "metadata": {
    "ExecuteTime": {
     "end_time": "2018-05-01T10:03:16.164672Z",
     "start_time": "2018-05-01T10:03:16.159096Z"
    }
   },
   "outputs": [
    {
     "name": "stderr",
     "output_type": "stream",
     "text": [
      "/usr/local/lib/python3.5/dist-packages/sklearn/preprocessing/label.py:171: DeprecationWarning: The truth value of an empty array is ambiguous. Returning False, but in future this will result in an error. Use `array.size > 0` to check that an array is not empty.\n",
      "  if diff:\n"
     ]
    }
   ],
   "source": [
    "cm_labels = encoder.inverse_transform([0, 1, 2, 3])"
   ]
  },
  {
   "cell_type": "code",
   "execution_count": 288,
   "metadata": {
    "ExecuteTime": {
     "end_time": "2018-05-01T10:03:16.536631Z",
     "start_time": "2018-05-01T10:03:16.516492Z"
    }
   },
   "outputs": [],
   "source": [
    "from sklearn.preprocessing import StandardScaler\n",
    "\n",
    "## Scale inputs\n",
    "\n",
    "sc = StandardScaler()\n",
    "\n",
    "sc.fit(X_train)\n",
    "\n",
    "X_train_nn = sc.transform(X_train)\n",
    "X_test_nn = sc.transform(X_test)\n",
    "X_test_extra_nn = sc.transform(X_test_extra)"
   ]
  },
  {
   "cell_type": "code",
   "execution_count": 289,
   "metadata": {
    "ExecuteTime": {
     "end_time": "2018-05-01T10:03:16.947501Z",
     "start_time": "2018-05-01T10:03:16.912572Z"
    }
   },
   "outputs": [],
   "source": [
    "import keras\n",
    "from keras.models import Sequential\n",
    "from keras.layers import Dense, Dropout\n",
    "    \n",
    "from sklearn.utils import class_weight\n",
    "    \n",
    "def build_ann(optimizer='adam', input_size=X_vect.shape[1]):\n",
    "    classifier = Sequential()\n",
    "    # Add input layer\n",
    "    classifier.add(Dense(units = 60, kernel_initializer = 'random_normal', \n",
    "                         activation = 'sigmoid', input_dim = input_size))\n",
    "    classifier.add(Dropout(0.5))\n",
    "    \n",
    "    # Add hidden layers\n",
    "    classifier.add(Dense(units = 40, kernel_initializer = 'random_normal', activation = 'sigmoid', input_dim = input_size))\n",
    "    classifier.add(Dropout(0.5))\n",
    "       \n",
    "    # Add output layer\n",
    "    classifier.add(Dense(units = 4, kernel_initializer = 'random_normal', activation = 'softmax'))\n",
    "    \n",
    "    # Compiling the ANN\n",
    "    classifier.compile(optimizer=optimizer, loss = 'categorical_crossentropy', metrics = ['accuracy'])\n",
    "\n",
    "    return classifier"
   ]
  },
  {
   "cell_type": "code",
   "execution_count": 290,
   "metadata": {
    "ExecuteTime": {
     "end_time": "2018-05-01T10:03:17.450199Z",
     "start_time": "2018-05-01T10:03:17.443821Z"
    }
   },
   "outputs": [],
   "source": [
    "# Compute input weights to balance classes\n",
    "from sklearn.utils import class_weight\n",
    "cw = class_weight.compute_class_weight('balanced',\n",
    "                                                 np.unique(y_train),\n",
    "                                                 y_train)"
   ]
  },
  {
   "cell_type": "code",
   "execution_count": 291,
   "metadata": {
    "ExecuteTime": {
     "end_time": "2018-05-01T10:03:22.676603Z",
     "start_time": "2018-05-01T10:03:17.967294Z"
    }
   },
   "outputs": [],
   "source": [
    "classifier = build_ann('adam')\n",
    "classifier.fit(X_train_nn, y_train_nn, batch_size = 256, epochs = 100, \n",
    "               verbose=False, class_weight=cw)\n",
    "y_pred = classifier.predict(X_test_nn)\n",
    "y_pred = np.argmax(y_pred,axis=1)"
   ]
  },
  {
   "cell_type": "code",
   "execution_count": 292,
   "metadata": {
    "ExecuteTime": {
     "end_time": "2018-05-01T10:03:23.054361Z",
     "start_time": "2018-05-01T10:03:22.686082Z"
    },
    "scrolled": true
   },
   "outputs": [
    {
     "name": "stdout",
     "output_type": "stream",
     "text": [
      "Accuracy: 90.84\n"
     ]
    },
    {
     "data": {
      "image/png": "[encoded data removed]",
      "text/plain": [
       "<Figure size 432x288 with 2 Axes>"
      ]
     },
     "metadata": {},
     "output_type": "display_data"
    }
   ],
   "source": [
    "cm = confusion_matrix(encoded_Y_test, y_pred)\n",
    "plot_confusion_matrix(cm, classes=cm_labels)\n",
    "accuracy = (sum([cm[i,i] for i in range(len(cm))])) / len(y_pred)\n",
    "print('Accuracy: %0.2f' % (accuracy*100))"
   ]
  },
  {
   "cell_type": "code",
   "execution_count": 293,
   "metadata": {
    "ExecuteTime": {
     "end_time": "2018-05-01T10:03:23.069554Z",
     "start_time": "2018-05-01T10:03:23.057003Z"
    },
    "scrolled": true
   },
   "outputs": [],
   "source": [
    "y_pred_extra = classifier.predict(X_test_extra_nn)\n",
    "y_pred_extra = np.argmax(y_pred_extra, axis=1)"
   ]
  },
  {
   "cell_type": "code",
   "execution_count": 294,
   "metadata": {
    "ExecuteTime": {
     "end_time": "2018-05-01T10:03:23.446301Z",
     "start_time": "2018-05-01T10:03:23.079405Z"
    }
   },
   "outputs": [
    {
     "name": "stdout",
     "output_type": "stream",
     "text": [
      "Accuracy: 35.00\n"
     ]
    },
    {
     "data": {
      "image/png": "[encoded data removed]",
      "text/plain": [
       "<Figure size 432x288 with 2 Axes>"
      ]
     },
     "metadata": {},
     "output_type": "display_data"
    }
   ],
   "source": [
    "cm = confusion_matrix(encoded_Y_test_extra, y_pred_extra)\n",
    "plot_confusion_matrix(cm, classes=cm_labels)\n",
    "accuracy = (sum([cm[i,i] for i in range(len(cm))])) / len(encoded_Y_test_extra)\n",
    "print('Accuracy: %0.2f' % (accuracy*100))"
   ]
  },
  {
   "cell_type": "code",
   "execution_count": 25,
   "metadata": {
    "ExecuteTime": {
     "end_time": "2018-05-01T07:46:06.757252Z",
     "start_time": "2018-05-01T07:46:06.698447Z"
    },
    "scrolled": true
   },
   "outputs": [
    {
     "name": "stdout",
     "output_type": "stream",
     "text": [
      "Prediction for: \"Don't Worry, Be Happy\" from \"Bobby McFerrin\"\n",
      "\t - happy\n",
      "Prediction for: \"Don't Stop me Now\" from \"Queen\"\n",
      "\t - angry\n",
      "Prediction for: \"Happy\" from \"Pharrell Williams\"\n",
      "\t - happy\n",
      "Prediction for: \"I'm a believer\" from \"The Monkees\"\n",
      "\t - happy\n",
      "Prediction for: \"Toxic\" from \"Britney Spears\"\n",
      "\t - angry\n",
      "Prediction for: \"Buttons\" from \"The Pussycat Dolls\"\n",
      "\t - sad\n",
      "Prediction for: \"Crazy In Love\" from \"Beyoncé\"\n",
      "\t - happy\n",
      "Prediction for: \"Everybody Hurts\" from \"R.E.M.\"\n",
      "\t - sad\n",
      "Prediction for: \"Someone Like You\" from \"Adele\"\n",
      "\t - angry\n",
      "Prediction for: \"Wish you were here\" from \"Pink Floyd\"\n",
      "\t - sad\n",
      "Prediction for: \"Hurt\" from \"Johnny Cash\"\n",
      "\t - angry\n",
      "Prediction for: \"Smells like teen spirit\" from \"Nirvana\"\n",
      "\t - relaxed\n",
      "Prediction for: \"My Boo\" from \"Usher\"\n",
      "\t - happy\n",
      "Prediction for: \"Rock Your Body\" from \"Justin Timberlake\"\n",
      "\t - relaxed\n",
      "Prediction for: \"It Wasn't Me\" from \"Shaggy\"\n",
      "\t - sad\n",
      "Prediction for: \"Killing in the name\" from \"Rage Against the Machine\"\n",
      "\t - angry\n",
      "Prediction for: \"Stronger\" from \"Kanye West\"\n",
      "\t - angry\n",
      "Prediction for: \"All Star\" from \"Smash Mouth\"\n",
      "\t - relaxed\n",
      "Prediction for: \"The Ballad of Chasey Lain\" from \"Bloodhound Gang\"\n",
      "\t - happy\n",
      "Prediction for: \"Song 2\" from \"Blur\"\n",
      "\t - happy\n"
     ]
    },
    {
     "name": "stderr",
     "output_type": "stream",
     "text": [
      "/usr/local/lib/python3.5/dist-packages/sklearn/preprocessing/label.py:171: DeprecationWarning: The truth value of an empty array is ambiguous. Returning False, but in future this will result in an error. Use `array.size > 0` to check that an array is not empty.\n",
      "  if diff:\n",
      "/usr/local/lib/python3.5/dist-packages/sklearn/preprocessing/label.py:171: DeprecationWarning: The truth value of an empty array is ambiguous. Returning False, but in future this will result in an error. Use `array.size > 0` to check that an array is not empty.\n",
      "  if diff:\n",
      "/usr/local/lib/python3.5/dist-packages/sklearn/preprocessing/label.py:171: DeprecationWarning: The truth value of an empty array is ambiguous. Returning False, but in future this will result in an error. Use `array.size > 0` to check that an array is not empty.\n",
      "  if diff:\n",
      "/usr/local/lib/python3.5/dist-packages/sklearn/preprocessing/label.py:171: DeprecationWarning: The truth value of an empty array is ambiguous. Returning False, but in future this will result in an error. Use `array.size > 0` to check that an array is not empty.\n",
      "  if diff:\n",
      "/usr/local/lib/python3.5/dist-packages/sklearn/preprocessing/label.py:171: DeprecationWarning: The truth value of an empty array is ambiguous. Returning False, but in future this will result in an error. Use `array.size > 0` to check that an array is not empty.\n",
      "  if diff:\n",
      "/usr/local/lib/python3.5/dist-packages/sklearn/preprocessing/label.py:171: DeprecationWarning: The truth value of an empty array is ambiguous. Returning False, but in future this will result in an error. Use `array.size > 0` to check that an array is not empty.\n",
      "  if diff:\n",
      "/usr/local/lib/python3.5/dist-packages/sklearn/preprocessing/label.py:171: DeprecationWarning: The truth value of an empty array is ambiguous. Returning False, but in future this will result in an error. Use `array.size > 0` to check that an array is not empty.\n",
      "  if diff:\n",
      "/usr/local/lib/python3.5/dist-packages/sklearn/preprocessing/label.py:171: DeprecationWarning: The truth value of an empty array is ambiguous. Returning False, but in future this will result in an error. Use `array.size > 0` to check that an array is not empty.\n",
      "  if diff:\n",
      "/usr/local/lib/python3.5/dist-packages/sklearn/preprocessing/label.py:171: DeprecationWarning: The truth value of an empty array is ambiguous. Returning False, but in future this will result in an error. Use `array.size > 0` to check that an array is not empty.\n",
      "  if diff:\n",
      "/usr/local/lib/python3.5/dist-packages/sklearn/preprocessing/label.py:171: DeprecationWarning: The truth value of an empty array is ambiguous. Returning False, but in future this will result in an error. Use `array.size > 0` to check that an array is not empty.\n",
      "  if diff:\n",
      "/usr/local/lib/python3.5/dist-packages/sklearn/preprocessing/label.py:171: DeprecationWarning: The truth value of an empty array is ambiguous. Returning False, but in future this will result in an error. Use `array.size > 0` to check that an array is not empty.\n",
      "  if diff:\n",
      "/usr/local/lib/python3.5/dist-packages/sklearn/preprocessing/label.py:171: DeprecationWarning: The truth value of an empty array is ambiguous. Returning False, but in future this will result in an error. Use `array.size > 0` to check that an array is not empty.\n",
      "  if diff:\n",
      "/usr/local/lib/python3.5/dist-packages/sklearn/preprocessing/label.py:171: DeprecationWarning: The truth value of an empty array is ambiguous. Returning False, but in future this will result in an error. Use `array.size > 0` to check that an array is not empty.\n",
      "  if diff:\n",
      "/usr/local/lib/python3.5/dist-packages/sklearn/preprocessing/label.py:171: DeprecationWarning: The truth value of an empty array is ambiguous. Returning False, but in future this will result in an error. Use `array.size > 0` to check that an array is not empty.\n",
      "  if diff:\n",
      "/usr/local/lib/python3.5/dist-packages/sklearn/preprocessing/label.py:171: DeprecationWarning: The truth value of an empty array is ambiguous. Returning False, but in future this will result in an error. Use `array.size > 0` to check that an array is not empty.\n",
      "  if diff:\n",
      "/usr/local/lib/python3.5/dist-packages/sklearn/preprocessing/label.py:171: DeprecationWarning: The truth value of an empty array is ambiguous. Returning False, but in future this will result in an error. Use `array.size > 0` to check that an array is not empty.\n",
      "  if diff:\n",
      "/usr/local/lib/python3.5/dist-packages/sklearn/preprocessing/label.py:171: DeprecationWarning: The truth value of an empty array is ambiguous. Returning False, but in future this will result in an error. Use `array.size > 0` to check that an array is not empty.\n",
      "  if diff:\n",
      "/usr/local/lib/python3.5/dist-packages/sklearn/preprocessing/label.py:171: DeprecationWarning: The truth value of an empty array is ambiguous. Returning False, but in future this will result in an error. Use `array.size > 0` to check that an array is not empty.\n",
      "  if diff:\n",
      "/usr/local/lib/python3.5/dist-packages/sklearn/preprocessing/label.py:171: DeprecationWarning: The truth value of an empty array is ambiguous. Returning False, but in future this will result in an error. Use `array.size > 0` to check that an array is not empty.\n",
      "  if diff:\n",
      "/usr/local/lib/python3.5/dist-packages/sklearn/preprocessing/label.py:171: DeprecationWarning: The truth value of an empty array is ambiguous. Returning False, but in future this will result in an error. Use `array.size > 0` to check that an array is not empty.\n",
      "  if diff:\n"
     ]
    }
   ],
   "source": [
    "extra_test = pd.read_csv(extra_test_path)\n",
    "for (idx, row) in extra_test.iterrows():\n",
    "    print('Prediction for: \"{}\" from \"{}\"'.format(row['SONG_TITLE'], row['ARTIST']))\n",
    "    print('\\t - {}'.format(encoder.inverse_transform(y_pred_extra[idx])))"
   ]
  },
  {
   "cell_type": "markdown",
   "metadata": {},
   "source": [
    "### Playlist Classification"
   ]
  },
  {
   "cell_type": "code",
   "execution_count": 302,
   "metadata": {
    "ExecuteTime": {
     "end_time": "2018-05-01T10:05:15.109306Z",
     "start_time": "2018-05-01T10:05:14.768645Z"
    }
   },
   "outputs": [],
   "source": [
    "import json\n",
    "\n",
    "n_pl = 5\n",
    "\n",
    "data = json.load(open('./datasets/mpd.slice.0-999.json'))\n",
    "playlists = data['playlists'][:n_pl]"
   ]
  },
  {
   "cell_type": "code",
   "execution_count": 303,
   "metadata": {
    "ExecuteTime": {
     "end_time": "2018-05-01T10:05:15.117509Z",
     "start_time": "2018-05-01T10:05:15.113244Z"
    }
   },
   "outputs": [],
   "source": [
    "from utils.dataset_parsing import *\n",
    "import utils.sentiment_analysis as sa"
   ]
  },
  {
   "cell_type": "code",
   "execution_count": 304,
   "metadata": {
    "ExecuteTime": {
     "end_time": "2018-05-01T10:05:16.384490Z",
     "start_time": "2018-05-01T10:05:16.360089Z"
    }
   },
   "outputs": [],
   "source": [
    "def featurize(lyrics, pid, playlist_name, artist, title):\n",
    "    lyric_doc = nlp(lyrics)\n",
    "    title_doc = nlp(title)\n",
    "    lyric = preprocess(lyrics)\n",
    "    features = feature_extraction(lyric, title)\n",
    "\n",
    "    freq = features['frequencies'] \n",
    "    sentiment = sa.analyse(lyrics)\n",
    "    elem = [\n",
    "        pid, playlist_name, 0, artist, title,\n",
    "        lyric_doc.vector, title_doc.vector,\n",
    "        features['line_count'], features['word_count'],#get_line_count(lyric), get_word_count(lyric),\n",
    "        #get_slang_counts(lyric),\n",
    "        features['echoisms'], features['selfish'],#get_echoisms(lyric), get_selfish_degree(lyric),\n",
    "        count_duplicate_lines(lyric), features['is_title_in_lyrics'],# (row['Song'], lyric),\n",
    "        features['rhymes'],#get_rhymes(lyric),\n",
    "        features['verb_tenses']['present'], features['verb_tenses']['past'], features['verb_tenses']['future'], #verb_freq['present'], verb_freq['past'], verb_freq['future'],\n",
    "        freq['ADJ'], freq['ADP'], freq['ADV'], freq['AUX'], freq['CONJ'], \n",
    "        freq['CCONJ'], freq['DET'], freq['INTJ'], freq['NOUN'], freq['NUM'],\n",
    "        freq['PART'], freq['PRON'], freq['PROPN'], freq['PUNCT'], freq['SCONJ'],\n",
    "        freq['SYM'], freq['VERB'], freq['X'], freq['SPACE'],\n",
    "        # Sentiment analysis stuff\n",
    "        sentiment[0], sentiment[1]\n",
    "    ]\n",
    "    return elem"
   ]
  },
  {
   "cell_type": "code",
   "execution_count": 305,
   "metadata": {
    "ExecuteTime": {
     "end_time": "2018-05-01T10:05:17.320777Z",
     "start_time": "2018-05-01T10:05:17.316040Z"
    }
   },
   "outputs": [],
   "source": [
    "import lyricwikia"
   ]
  },
  {
   "cell_type": "code",
   "execution_count": 306,
   "metadata": {
    "ExecuteTime": {
     "end_time": "2018-05-01T10:11:10.207759Z",
     "start_time": "2018-05-01T10:05:22.620975Z"
    }
   },
   "outputs": [
    {
     "data": {
      "text/html": [
       "<div>\n",
       "<style scoped>\n",
       "    .dataframe tbody tr th:only-of-type {\n",
       "        vertical-align: middle;\n",
       "    }\n",
       "\n",
       "    .dataframe tbody tr th {\n",
       "        vertical-align: top;\n",
       "    }\n",
       "\n",
       "    .dataframe thead th {\n",
       "        text-align: right;\n",
       "    }\n",
       "</style>\n",
       "<table border=\"1\" class=\"dataframe\">\n",
       "  <thead>\n",
       "    <tr style=\"text-align: right;\">\n",
       "      <th></th>\n",
       "      <th>PlaylistPid</th>\n",
       "      <th>PlaylistName</th>\n",
       "      <th>TrackUri</th>\n",
       "      <th>ArtistName</th>\n",
       "      <th>TrackName</th>\n",
       "      <th>LYRICS_VECTOR</th>\n",
       "      <th>TITLE_VECTOR</th>\n",
       "      <th>LINE_COUNT</th>\n",
       "      <th>WORD_COUNT</th>\n",
       "      <th>ECHOISMS</th>\n",
       "      <th>...</th>\n",
       "      <th>PRON_FREQUENCIES</th>\n",
       "      <th>PROPN_FREQUENCIES</th>\n",
       "      <th>PUNCT_FREQUENCIES</th>\n",
       "      <th>SCONJ_FREQUENCIES</th>\n",
       "      <th>SYM_FREQUENCIES</th>\n",
       "      <th>VERB_FREQUENCIES</th>\n",
       "      <th>X_FREQUENCIES</th>\n",
       "      <th>SPACE_FREQUENCIES</th>\n",
       "      <th>SENTIMENT</th>\n",
       "      <th>SUBJECTIVITY</th>\n",
       "    </tr>\n",
       "  </thead>\n",
       "  <tbody>\n",
       "    <tr>\n",
       "      <th>0</th>\n",
       "      <td>0</td>\n",
       "      <td>Test</td>\n",
       "      <td>0</td>\n",
       "      <td>Missy Elliott</td>\n",
       "      <td>Lose Control (feat. Ciara &amp; Fat Man Scoop)</td>\n",
       "      <td>[-0.028712682, 0.17780696, -0.12608747, -0.051...</td>\n",
       "      <td>[-0.25141445, 0.24385495, 0.07654981, 0.014219...</td>\n",
       "      <td>111</td>\n",
       "      <td>503</td>\n",
       "      <td>0.0</td>\n",
       "      <td>...</td>\n",
       "      <td>0.135189</td>\n",
       "      <td>0.045726</td>\n",
       "      <td>0.349901</td>\n",
       "      <td>0.0</td>\n",
       "      <td>0.0</td>\n",
       "      <td>0.226640</td>\n",
       "      <td>0.0</td>\n",
       "      <td>0.0</td>\n",
       "      <td>0.095387</td>\n",
       "      <td>0.330568</td>\n",
       "    </tr>\n",
       "    <tr>\n",
       "      <th>1</th>\n",
       "      <td>0</td>\n",
       "      <td>Test</td>\n",
       "      <td>0</td>\n",
       "      <td>Britney Spears</td>\n",
       "      <td>Toxic</td>\n",
       "      <td>[-0.020864742, 0.19054435, -0.22505683, -0.055...</td>\n",
       "      <td>[-0.67908, 0.0347, -0.35805, 0.36178, -0.60825...</td>\n",
       "      <td>40</td>\n",
       "      <td>276</td>\n",
       "      <td>0.0</td>\n",
       "      <td>...</td>\n",
       "      <td>0.242754</td>\n",
       "      <td>0.003623</td>\n",
       "      <td>0.134058</td>\n",
       "      <td>0.0</td>\n",
       "      <td>0.0</td>\n",
       "      <td>0.304348</td>\n",
       "      <td>0.0</td>\n",
       "      <td>0.0</td>\n",
       "      <td>-0.079556</td>\n",
       "      <td>0.565389</td>\n",
       "    </tr>\n",
       "    <tr>\n",
       "      <th>2</th>\n",
       "      <td>0</td>\n",
       "      <td>Test</td>\n",
       "      <td>0</td>\n",
       "      <td>Beyoncé</td>\n",
       "      <td>Crazy In Love</td>\n",
       "      <td>[-0.03404636, 0.18371318, -0.23614396, -0.0203...</td>\n",
       "      <td>[-0.04562767, 0.23236366, -0.043523327, -0.091...</td>\n",
       "      <td>90</td>\n",
       "      <td>693</td>\n",
       "      <td>0.0</td>\n",
       "      <td>...</td>\n",
       "      <td>0.176046</td>\n",
       "      <td>0.021645</td>\n",
       "      <td>0.079365</td>\n",
       "      <td>0.0</td>\n",
       "      <td>0.0</td>\n",
       "      <td>0.277056</td>\n",
       "      <td>0.0</td>\n",
       "      <td>0.0</td>\n",
       "      <td>0.022569</td>\n",
       "      <td>0.639406</td>\n",
       "    </tr>\n",
       "  </tbody>\n",
       "</table>\n",
       "<p>3 rows × 38 columns</p>\n",
       "</div>"
      ],
      "text/plain": [
       "   PlaylistPid PlaylistName  TrackUri      ArtistName  \\\n",
       "0            0         Test         0   Missy Elliott   \n",
       "1            0         Test         0  Britney Spears   \n",
       "2            0         Test         0         Beyoncé   \n",
       "\n",
       "                                    TrackName  \\\n",
       "0  Lose Control (feat. Ciara & Fat Man Scoop)   \n",
       "1                                       Toxic   \n",
       "2                               Crazy In Love   \n",
       "\n",
       "                                       LYRICS_VECTOR  \\\n",
       "0  [-0.028712682, 0.17780696, -0.12608747, -0.051...   \n",
       "1  [-0.020864742, 0.19054435, -0.22505683, -0.055...   \n",
       "2  [-0.03404636, 0.18371318, -0.23614396, -0.0203...   \n",
       "\n",
       "                                        TITLE_VECTOR  LINE_COUNT  WORD_COUNT  \\\n",
       "0  [-0.25141445, 0.24385495, 0.07654981, 0.014219...         111         503   \n",
       "1  [-0.67908, 0.0347, -0.35805, 0.36178, -0.60825...          40         276   \n",
       "2  [-0.04562767, 0.23236366, -0.043523327, -0.091...          90         693   \n",
       "\n",
       "   ECHOISMS      ...       PRON_FREQUENCIES  PROPN_FREQUENCIES  \\\n",
       "0       0.0      ...               0.135189           0.045726   \n",
       "1       0.0      ...               0.242754           0.003623   \n",
       "2       0.0      ...               0.176046           0.021645   \n",
       "\n",
       "   PUNCT_FREQUENCIES  SCONJ_FREQUENCIES  SYM_FREQUENCIES  VERB_FREQUENCIES  \\\n",
       "0           0.349901                0.0              0.0          0.226640   \n",
       "1           0.134058                0.0              0.0          0.304348   \n",
       "2           0.079365                0.0              0.0          0.277056   \n",
       "\n",
       "   X_FREQUENCIES  SPACE_FREQUENCIES  SENTIMENT  SUBJECTIVITY  \n",
       "0            0.0                0.0   0.095387      0.330568  \n",
       "1            0.0                0.0  -0.079556      0.565389  \n",
       "2            0.0                0.0   0.022569      0.639406  \n",
       "\n",
       "[3 rows x 38 columns]"
      ]
     },
     "execution_count": 306,
     "metadata": {},
     "output_type": "execute_result"
    }
   ],
   "source": [
    "features = list()\n",
    "for playlist in playlists:\n",
    "    for track in playlist['tracks']:\n",
    "        artist = track['artist_name']\n",
    "        title = track['track_name']\n",
    "        try:\n",
    "            lyrics = lyricwikia.get_lyrics(artist, title)\n",
    "            x = featurize(lyrics, playlist['pid'], 'Test', artist, title)\n",
    "            features.append(x)\n",
    "        except lyricwikia.LyricsNotFound:\n",
    "             continue\n",
    "    df = pd.DataFrame(features, columns=['PlaylistPid','PlaylistName','TrackUri', 'ArtistName', 'TrackName','LYRICS_VECTOR', 'TITLE_VECTOR', \n",
    "            'LINE_COUNT', 'WORD_COUNT', 'ECHOISMS', 'SELFISH_DEGREE', \n",
    "            'DUPLICATE_LINES', 'IS_TITLE_IN_LYRICS', 'RHYMES', 'VERB_PRESENT', \n",
    "            'VERB_PAST', 'VERB_FUTURE', 'ADJ_FREQUENCIES', 'CONJUCTION_FREQUENCIES', \n",
    "            'ADV_FREQUENCIES', 'AUX_FREQUENCIES', 'CONJ_FREQUENCIES', 'CCONJ_FREQUENCIES', \n",
    "            'DETERMINER_FREQUENCIES', 'INTERJECTION_FREQUENCIES', 'NOUN_FREQUENCIES', \n",
    "            'NUM_FREQUENCIES', 'PART_FREQUENCIES', 'PRON_FREQUENCIES', 'PROPN_FREQUENCIES', \n",
    "            'PUNCT_FREQUENCIES', 'SCONJ_FREQUENCIES', 'SYM_FREQUENCIES', 'VERB_FREQUENCIES',\n",
    "            'X_FREQUENCIES', 'SPACE_FREQUENCIES', \n",
    "            'SENTIMENT', 'SUBJECTIVITY'])\n",
    "df.head(3)"
   ]
  },
  {
   "cell_type": "code",
   "execution_count": 307,
   "metadata": {
    "ExecuteTime": {
     "end_time": "2018-05-01T10:11:10.284920Z",
     "start_time": "2018-05-01T10:11:10.210920Z"
    }
   },
   "outputs": [
    {
     "data": {
      "text/plain": [
       "(146, 312)"
      ]
     },
     "execution_count": 307,
     "metadata": {},
     "output_type": "execute_result"
    }
   ],
   "source": [
    "tmp_df = df[[\n",
    "   'LYRICS_VECTOR',\n",
    "   'WORD_COUNT', 'ECHOISMS', 'SELFISH_DEGREE', \n",
    "   'DUPLICATE_LINES', 'IS_TITLE_IN_LYRICS', 'VERB_PRESENT', \n",
    "   'VERB_PAST', 'VERB_FUTURE', 'ADJ_FREQUENCIES',\n",
    "   'PUNCT_FREQUENCIES',\n",
    "   'SENTIMENT', 'SUBJECTIVITY']]#.drop(['PlaylistPid', 'PlaylistName', 'TrackUri', 'ArtistName', 'TrackName'], axis=1, inplace=True)\n",
    "X_vect = list()\n",
    "for (i, row) in tmp_df.iterrows():\n",
    "    sub_list = list()\n",
    "    for field in row:\n",
    "        if type(field) == np.ndarray:\n",
    "            sub_list += [float(x) for x in field]\n",
    "        else:\n",
    "            sub_list.append(field)\n",
    "    X_vect.append(np.array(sub_list))\n",
    "X_vect = np.array(X_vect)\n",
    "X_vect.shape"
   ]
  },
  {
   "cell_type": "code",
   "execution_count": 308,
   "metadata": {
    "ExecuteTime": {
     "end_time": "2018-05-01T10:11:10.296442Z",
     "start_time": "2018-05-01T10:11:10.287853Z"
    }
   },
   "outputs": [],
   "source": [
    "X_vect_nn = sc.transform(X_vect)"
   ]
  },
  {
   "cell_type": "code",
   "execution_count": 309,
   "metadata": {
    "ExecuteTime": {
     "end_time": "2018-05-01T10:11:10.349446Z",
     "start_time": "2018-05-01T10:11:10.304870Z"
    }
   },
   "outputs": [],
   "source": [
    "y_pred = classifier.predict(X_vect_nn, verbose=0)"
   ]
  },
  {
   "cell_type": "code",
   "execution_count": 310,
   "metadata": {
    "ExecuteTime": {
     "end_time": "2018-05-01T10:11:10.364041Z",
     "start_time": "2018-05-01T10:11:10.353065Z"
    }
   },
   "outputs": [],
   "source": [
    "classificationDf = pd.DataFrame(data=y_pred,columns=cm_labels)\n",
    "finalDf = pd.concat([df, classificationDf],axis=1)"
   ]
  },
  {
   "cell_type": "code",
   "execution_count": 311,
   "metadata": {
    "ExecuteTime": {
     "end_time": "2018-05-01T10:11:10.387808Z",
     "start_time": "2018-05-01T10:11:10.366943Z"
    }
   },
   "outputs": [
    {
     "data": {
      "text/html": [
       "<div>\n",
       "<style scoped>\n",
       "    .dataframe tbody tr th:only-of-type {\n",
       "        vertical-align: middle;\n",
       "    }\n",
       "\n",
       "    .dataframe tbody tr th {\n",
       "        vertical-align: top;\n",
       "    }\n",
       "\n",
       "    .dataframe thead th {\n",
       "        text-align: right;\n",
       "    }\n",
       "</style>\n",
       "<table border=\"1\" class=\"dataframe\">\n",
       "  <thead>\n",
       "    <tr style=\"text-align: right;\">\n",
       "      <th></th>\n",
       "      <th>angry</th>\n",
       "      <th>happy</th>\n",
       "      <th>relaxed</th>\n",
       "      <th>sad</th>\n",
       "    </tr>\n",
       "  </thead>\n",
       "  <tbody>\n",
       "    <tr>\n",
       "      <th>0</th>\n",
       "      <td>0.133965</td>\n",
       "      <td>0.001857</td>\n",
       "      <td>0.058588</td>\n",
       "      <td>0.805590</td>\n",
       "    </tr>\n",
       "    <tr>\n",
       "      <th>1</th>\n",
       "      <td>0.898911</td>\n",
       "      <td>0.004431</td>\n",
       "      <td>0.004110</td>\n",
       "      <td>0.092547</td>\n",
       "    </tr>\n",
       "    <tr>\n",
       "      <th>2</th>\n",
       "      <td>0.518446</td>\n",
       "      <td>0.331931</td>\n",
       "      <td>0.041477</td>\n",
       "      <td>0.108146</td>\n",
       "    </tr>\n",
       "    <tr>\n",
       "      <th>3</th>\n",
       "      <td>0.013696</td>\n",
       "      <td>0.020714</td>\n",
       "      <td>0.870789</td>\n",
       "      <td>0.094801</td>\n",
       "    </tr>\n",
       "    <tr>\n",
       "      <th>4</th>\n",
       "      <td>0.093781</td>\n",
       "      <td>0.001780</td>\n",
       "      <td>0.073430</td>\n",
       "      <td>0.831010</td>\n",
       "    </tr>\n",
       "  </tbody>\n",
       "</table>\n",
       "</div>"
      ],
      "text/plain": [
       "      angry     happy   relaxed       sad\n",
       "0  0.133965  0.001857  0.058588  0.805590\n",
       "1  0.898911  0.004431  0.004110  0.092547\n",
       "2  0.518446  0.331931  0.041477  0.108146\n",
       "3  0.013696  0.020714  0.870789  0.094801\n",
       "4  0.093781  0.001780  0.073430  0.831010"
      ]
     },
     "execution_count": 311,
     "metadata": {},
     "output_type": "execute_result"
    }
   ],
   "source": [
    "finalDf[['angry', 'happy', 'relaxed', 'sad']].head(5)"
   ]
  },
  {
   "cell_type": "code",
   "execution_count": 312,
   "metadata": {
    "ExecuteTime": {
     "end_time": "2018-05-01T10:11:10.398446Z",
     "start_time": "2018-05-01T10:11:10.389779Z"
    }
   },
   "outputs": [],
   "source": [
    "playlistDf = finalDf.groupby(by='PlaylistPid').agg({'happy': 'mean', 'sad': 'mean', 'angry': 'mean', 'relaxed': 'mean'})"
   ]
  },
  {
   "cell_type": "code",
   "execution_count": 313,
   "metadata": {
    "ExecuteTime": {
     "end_time": "2018-05-01T10:11:10.413813Z",
     "start_time": "2018-05-01T10:11:10.400849Z"
    }
   },
   "outputs": [
    {
     "data": {
      "text/html": [
       "<div>\n",
       "<style scoped>\n",
       "    .dataframe tbody tr th:only-of-type {\n",
       "        vertical-align: middle;\n",
       "    }\n",
       "\n",
       "    .dataframe tbody tr th {\n",
       "        vertical-align: top;\n",
       "    }\n",
       "\n",
       "    .dataframe thead th {\n",
       "        text-align: right;\n",
       "    }\n",
       "</style>\n",
       "<table border=\"1\" class=\"dataframe\">\n",
       "  <thead>\n",
       "    <tr style=\"text-align: right;\">\n",
       "      <th></th>\n",
       "      <th>sad</th>\n",
       "      <th>happy</th>\n",
       "      <th>relaxed</th>\n",
       "      <th>angry</th>\n",
       "    </tr>\n",
       "    <tr>\n",
       "      <th>PlaylistPid</th>\n",
       "      <th></th>\n",
       "      <th></th>\n",
       "      <th></th>\n",
       "      <th></th>\n",
       "    </tr>\n",
       "  </thead>\n",
       "  <tbody>\n",
       "    <tr>\n",
       "      <th>0</th>\n",
       "      <td>0.322220</td>\n",
       "      <td>0.205436</td>\n",
       "      <td>0.214933</td>\n",
       "      <td>0.257411</td>\n",
       "    </tr>\n",
       "    <tr>\n",
       "      <th>1</th>\n",
       "      <td>0.334601</td>\n",
       "      <td>0.077030</td>\n",
       "      <td>0.342805</td>\n",
       "      <td>0.245564</td>\n",
       "    </tr>\n",
       "    <tr>\n",
       "      <th>2</th>\n",
       "      <td>0.541647</td>\n",
       "      <td>0.149624</td>\n",
       "      <td>0.070165</td>\n",
       "      <td>0.238564</td>\n",
       "    </tr>\n",
       "    <tr>\n",
       "      <th>3</th>\n",
       "      <td>0.551395</td>\n",
       "      <td>0.116639</td>\n",
       "      <td>0.125314</td>\n",
       "      <td>0.206652</td>\n",
       "    </tr>\n",
       "    <tr>\n",
       "      <th>4</th>\n",
       "      <td>0.557120</td>\n",
       "      <td>0.040193</td>\n",
       "      <td>0.144124</td>\n",
       "      <td>0.258564</td>\n",
       "    </tr>\n",
       "  </tbody>\n",
       "</table>\n",
       "</div>"
      ],
      "text/plain": [
       "                  sad     happy   relaxed     angry\n",
       "PlaylistPid                                        \n",
       "0            0.322220  0.205436  0.214933  0.257411\n",
       "1            0.334601  0.077030  0.342805  0.245564\n",
       "2            0.541647  0.149624  0.070165  0.238564\n",
       "3            0.551395  0.116639  0.125314  0.206652\n",
       "4            0.557120  0.040193  0.144124  0.258564"
      ]
     },
     "execution_count": 313,
     "metadata": {},
     "output_type": "execute_result"
    }
   ],
   "source": [
    "playlistDf.head(n_pl)"
   ]
  },
  {
   "cell_type": "markdown",
   "metadata": {},
   "source": [
    "## Logistic Regression"
   ]
  },
  {
   "cell_type": "code",
   "execution_count": 295,
   "metadata": {
    "ExecuteTime": {
     "end_time": "2018-05-01T10:03:23.465965Z",
     "start_time": "2018-05-01T10:03:23.448908Z"
    }
   },
   "outputs": [],
   "source": [
    "from sklearn.linear_model import LogisticRegression\n",
    "def evaluate_logreg(X_train, y_train, X_test, y_test):\n",
    "    classifier = LogisticRegression(penalty='l2', dual=False, C=0.15, \n",
    "                                    solver='newton-cg', multi_class='multinomial', random_state=0)\n",
    "    classifier.fit(X_train, y_train)\n",
    "    y_pred = classifier.predict(X_test)\n",
    "    cm = confusion_matrix(y_test, y_pred)\n",
    "    plot_confusion_matrix(cm, classes=cm_labels)\n",
    "    print('Accuracy of logistic regression classifier on test set: {:.2f}'.format(classifier.score(X_test, y_test)))"
   ]
  },
  {
   "cell_type": "code",
   "execution_count": 300,
   "metadata": {
    "ExecuteTime": {
     "end_time": "2018-05-01T10:04:31.120731Z",
     "start_time": "2018-05-01T10:04:30.119124Z"
    },
    "scrolled": false
   },
   "outputs": [
    {
     "name": "stdout",
     "output_type": "stream",
     "text": [
      "Accuracy of logistic regression classifier on test set: 0.80\n"
     ]
    },
    {
     "data": {
      "image/png": "[encoded data removed]",
      "text/plain": [
       "<Figure size 432x288 with 2 Axes>"
      ]
     },
     "metadata": {},
     "output_type": "display_data"
    }
   ],
   "source": [
    "evaluate_logreg(X_train, y_train, X_test, y_test)"
   ]
  },
  {
   "cell_type": "code",
   "execution_count": 301,
   "metadata": {
    "ExecuteTime": {
     "end_time": "2018-05-01T10:04:32.684720Z",
     "start_time": "2018-05-01T10:04:31.570114Z"
    },
    "scrolled": true
   },
   "outputs": [
    {
     "name": "stdout",
     "output_type": "stream",
     "text": [
      "Accuracy of logistic regression classifier on test set: 0.55\n"
     ]
    },
    {
     "data": {
      "image/png": "[encoded data removed]",
      "text/plain": [
       "<Figure size 432x288 with 2 Axes>"
      ]
     },
     "metadata": {},
     "output_type": "display_data"
    }
   ],
   "source": [
    "evaluate_logreg(X_train, y_train, X_test_extra, y_test_extra)"
   ]
  },
  {
   "cell_type": "markdown",
   "metadata": {},
   "source": [
    "### Playlist Classification"
   ]
  },
  {
   "cell_type": "code",
   "execution_count": 314,
   "metadata": {
    "ExecuteTime": {
     "end_time": "2018-05-01T10:16:19.821485Z",
     "start_time": "2018-05-01T10:16:19.096260Z"
    }
   },
   "outputs": [
    {
     "data": {
      "text/plain": [
       "LogisticRegression(C=0.15, class_weight=None, dual=False, fit_intercept=True,\n",
       "          intercept_scaling=1, max_iter=100, multi_class='multinomial',\n",
       "          n_jobs=1, penalty='l2', random_state=0, solver='newton-cg',\n",
       "          tol=0.0001, verbose=0, warm_start=False)"
      ]
     },
     "execution_count": 314,
     "metadata": {},
     "output_type": "execute_result"
    }
   ],
   "source": [
    "clf = LogisticRegression(penalty='l2', dual=False, C=0.15, \n",
    "                         solver='newton-cg', multi_class='multinomial', random_state=0)\n",
    "clf.fit(X_train, y_train)"
   ]
  },
  {
   "cell_type": "code",
   "execution_count": 315,
   "metadata": {
    "ExecuteTime": {
     "end_time": "2018-05-01T10:16:20.247681Z",
     "start_time": "2018-05-01T10:16:19.868366Z"
    }
   },
   "outputs": [],
   "source": [
    "import json\n",
    "\n",
    "n_pl = 5\n",
    "\n",
    "data = json.load(open('./datasets/mpd.slice.0-999.json'))\n",
    "playlists = data['playlists'][:n_pl]"
   ]
  },
  {
   "cell_type": "code",
   "execution_count": 316,
   "metadata": {
    "ExecuteTime": {
     "end_time": "2018-05-01T10:16:20.452536Z",
     "start_time": "2018-05-01T10:16:20.448591Z"
    }
   },
   "outputs": [],
   "source": [
    "from utils.dataset_parsing import *\n",
    "import utils.sentiment_analysis as sa"
   ]
  },
  {
   "cell_type": "code",
   "execution_count": 317,
   "metadata": {
    "ExecuteTime": {
     "end_time": "2018-05-01T10:16:25.202989Z",
     "start_time": "2018-05-01T10:16:25.168132Z"
    }
   },
   "outputs": [],
   "source": [
    "def featurize(lyrics, pid, playlist_name, artist, title):\n",
    "    lyric_doc = nlp(lyrics)\n",
    "    title_doc = nlp(title)\n",
    "    lyric = preprocess(lyrics)\n",
    "    features = feature_extraction(lyric, title)\n",
    "\n",
    "    freq = features['frequencies'] \n",
    "    sentiment = sa.analyse(lyrics)\n",
    "    elem = [\n",
    "        pid, playlist_name, 0, artist, title,\n",
    "        lyric_doc.vector, title_doc.vector,\n",
    "        features['line_count'], features['word_count'],#get_line_count(lyric), get_word_count(lyric),\n",
    "        #get_slang_counts(lyric),\n",
    "        features['echoisms'], features['selfish'],#get_echoisms(lyric), get_selfish_degree(lyric),\n",
    "        count_duplicate_lines(lyric), features['is_title_in_lyrics'],# (row['Song'], lyric),\n",
    "        features['rhymes'],#get_rhymes(lyric),\n",
    "        features['verb_tenses']['present'], features['verb_tenses']['past'], features['verb_tenses']['future'], #verb_freq['present'], verb_freq['past'], verb_freq['future'],\n",
    "        freq['ADJ'], freq['ADP'], freq['ADV'], freq['AUX'], freq['CONJ'], \n",
    "        freq['CCONJ'], freq['DET'], freq['INTJ'], freq['NOUN'], freq['NUM'],\n",
    "        freq['PART'], freq['PRON'], freq['PROPN'], freq['PUNCT'], freq['SCONJ'],\n",
    "        freq['SYM'], freq['VERB'], freq['X'], freq['SPACE'],\n",
    "        # Sentiment analysis stuff\n",
    "        sentiment[0], sentiment[1]\n",
    "    ]\n",
    "    return elem"
   ]
  },
  {
   "cell_type": "code",
   "execution_count": 318,
   "metadata": {
    "ExecuteTime": {
     "end_time": "2018-05-01T10:16:25.344300Z",
     "start_time": "2018-05-01T10:16:25.341126Z"
    }
   },
   "outputs": [],
   "source": [
    "import lyricwikia"
   ]
  },
  {
   "cell_type": "code",
   "execution_count": null,
   "metadata": {
    "ExecuteTime": {
     "start_time": "2018-05-01T09:40:49.491Z"
    },
    "deletable": false,
    "editable": false,
    "run_control": {
     "frozen": true
    }
   },
   "outputs": [],
   "source": [
    "features = list()\n",
    "for playlist in playlists:\n",
    "    for track in playlist['tracks']:\n",
    "        artist = track['artist_name']\n",
    "        title = track['track_name']\n",
    "        try:\n",
    "            lyrics = lyricwikia.get_lyrics(artist, title)\n",
    "            x = featurize(lyrics, playlist['pid'], 'Test', artist, title)\n",
    "            features.append(x)\n",
    "        except lyricwikia.LyricsNotFound:\n",
    "             continue\n",
    "    df = pd.DataFrame(features, columns=['PlaylistPid','PlaylistName','TrackUri', 'ArtistName', 'TrackName','LYRICS_VECTOR', 'TITLE_VECTOR', \n",
    "            'LINE_COUNT', 'WORD_COUNT', 'ECHOISMS', 'SELFISH_DEGREE', \n",
    "            'DUPLICATE_LINES', 'IS_TITLE_IN_LYRICS', 'RHYMES', 'VERB_PRESENT', \n",
    "            'VERB_PAST', 'VERB_FUTURE', 'ADJ_FREQUENCIES', 'CONJUCTION_FREQUENCIES', \n",
    "            'ADV_FREQUENCIES', 'AUX_FREQUENCIES', 'CONJ_FREQUENCIES', 'CCONJ_FREQUENCIES', \n",
    "            'DETERMINER_FREQUENCIES', 'INTERJECTION_FREQUENCIES', 'NOUN_FREQUENCIES', \n",
    "            'NUM_FREQUENCIES', 'PART_FREQUENCIES', 'PRON_FREQUENCIES', 'PROPN_FREQUENCIES', \n",
    "            'PUNCT_FREQUENCIES', 'SCONJ_FREQUENCIES', 'SYM_FREQUENCIES', 'VERB_FREQUENCIES',\n",
    "            'X_FREQUENCIES', 'SPACE_FREQUENCIES', \n",
    "            'SENTIMENT', 'SUBJECTIVITY'])\n",
    "df.head(3)"
   ]
  },
  {
   "cell_type": "code",
   "execution_count": 319,
   "metadata": {
    "ExecuteTime": {
     "end_time": "2018-05-01T10:16:28.231665Z",
     "start_time": "2018-05-01T10:16:28.169941Z"
    }
   },
   "outputs": [
    {
     "data": {
      "text/plain": [
       "(146, 312)"
      ]
     },
     "execution_count": 319,
     "metadata": {},
     "output_type": "execute_result"
    }
   ],
   "source": [
    "tmp_df = df[[\n",
    "   'LYRICS_VECTOR',\n",
    "   'WORD_COUNT', 'ECHOISMS', 'SELFISH_DEGREE', \n",
    "   'DUPLICATE_LINES', 'IS_TITLE_IN_LYRICS', 'VERB_PRESENT', \n",
    "   'VERB_PAST', 'VERB_FUTURE', 'ADJ_FREQUENCIES',\n",
    "   'PUNCT_FREQUENCIES',\n",
    "   'SENTIMENT', 'SUBJECTIVITY']]#.drop(['PlaylistPid', 'PlaylistName', 'TrackUri', 'ArtistName', 'TrackName'], axis=1, inplace=True)\n",
    "X_vect = list()\n",
    "for (i, row) in tmp_df.iterrows():\n",
    "    sub_list = list()\n",
    "    for field in row:\n",
    "        if type(field) == np.ndarray:\n",
    "            sub_list += [float(x) for x in field]\n",
    "        else:\n",
    "            sub_list.append(field)\n",
    "    X_vect.append(np.array(sub_list))\n",
    "X_vect = np.array(X_vect)\n",
    "X_vect.shape"
   ]
  },
  {
   "cell_type": "code",
   "execution_count": 320,
   "metadata": {
    "ExecuteTime": {
     "end_time": "2018-05-01T10:16:28.918918Z",
     "start_time": "2018-05-01T10:16:28.915472Z"
    }
   },
   "outputs": [],
   "source": [
    "y_pred = clf.predict_proba(X_vect)"
   ]
  },
  {
   "cell_type": "code",
   "execution_count": 321,
   "metadata": {
    "ExecuteTime": {
     "end_time": "2018-05-01T10:16:30.812694Z",
     "start_time": "2018-05-01T10:16:30.801886Z"
    }
   },
   "outputs": [],
   "source": [
    "classificationDf = pd.DataFrame(data=y_pred,columns=cm_labels)\n",
    "finalDf = pd.concat([df, classificationDf],axis=1)"
   ]
  },
  {
   "cell_type": "code",
   "execution_count": 322,
   "metadata": {
    "ExecuteTime": {
     "end_time": "2018-05-01T10:16:31.789118Z",
     "start_time": "2018-05-01T10:16:31.767096Z"
    }
   },
   "outputs": [
    {
     "data": {
      "text/html": [
       "<div>\n",
       "<style scoped>\n",
       "    .dataframe tbody tr th:only-of-type {\n",
       "        vertical-align: middle;\n",
       "    }\n",
       "\n",
       "    .dataframe tbody tr th {\n",
       "        vertical-align: top;\n",
       "    }\n",
       "\n",
       "    .dataframe thead th {\n",
       "        text-align: right;\n",
       "    }\n",
       "</style>\n",
       "<table border=\"1\" class=\"dataframe\">\n",
       "  <thead>\n",
       "    <tr style=\"text-align: right;\">\n",
       "      <th></th>\n",
       "      <th>angry</th>\n",
       "      <th>happy</th>\n",
       "      <th>relaxed</th>\n",
       "      <th>sad</th>\n",
       "    </tr>\n",
       "  </thead>\n",
       "  <tbody>\n",
       "    <tr>\n",
       "      <th>0</th>\n",
       "      <td>0.312753</td>\n",
       "      <td>0.108469</td>\n",
       "      <td>0.331739</td>\n",
       "      <td>0.247038</td>\n",
       "    </tr>\n",
       "    <tr>\n",
       "      <th>1</th>\n",
       "      <td>0.396905</td>\n",
       "      <td>0.143597</td>\n",
       "      <td>0.187042</td>\n",
       "      <td>0.272456</td>\n",
       "    </tr>\n",
       "    <tr>\n",
       "      <th>2</th>\n",
       "      <td>0.270989</td>\n",
       "      <td>0.379825</td>\n",
       "      <td>0.200085</td>\n",
       "      <td>0.149100</td>\n",
       "    </tr>\n",
       "    <tr>\n",
       "      <th>3</th>\n",
       "      <td>0.230710</td>\n",
       "      <td>0.332525</td>\n",
       "      <td>0.277543</td>\n",
       "      <td>0.159222</td>\n",
       "    </tr>\n",
       "    <tr>\n",
       "      <th>4</th>\n",
       "      <td>0.356662</td>\n",
       "      <td>0.129403</td>\n",
       "      <td>0.310281</td>\n",
       "      <td>0.203654</td>\n",
       "    </tr>\n",
       "  </tbody>\n",
       "</table>\n",
       "</div>"
      ],
      "text/plain": [
       "      angry     happy   relaxed       sad\n",
       "0  0.312753  0.108469  0.331739  0.247038\n",
       "1  0.396905  0.143597  0.187042  0.272456\n",
       "2  0.270989  0.379825  0.200085  0.149100\n",
       "3  0.230710  0.332525  0.277543  0.159222\n",
       "4  0.356662  0.129403  0.310281  0.203654"
      ]
     },
     "execution_count": 322,
     "metadata": {},
     "output_type": "execute_result"
    }
   ],
   "source": [
    "finalDf[['angry', 'happy', 'relaxed', 'sad']].head(5)"
   ]
  },
  {
   "cell_type": "code",
   "execution_count": 323,
   "metadata": {
    "ExecuteTime": {
     "end_time": "2018-05-01T10:16:35.274204Z",
     "start_time": "2018-05-01T10:16:35.260146Z"
    }
   },
   "outputs": [],
   "source": [
    "playlistDf = finalDf.groupby(by='PlaylistPid').agg({'happy': 'mean', 'sad': 'mean', 'angry': 'mean', 'relaxed': 'mean'})"
   ]
  },
  {
   "cell_type": "code",
   "execution_count": 324,
   "metadata": {
    "ExecuteTime": {
     "end_time": "2018-05-01T10:16:35.435940Z",
     "start_time": "2018-05-01T10:16:35.420278Z"
    },
    "scrolled": true
   },
   "outputs": [
    {
     "data": {
      "text/html": [
       "<div>\n",
       "<style scoped>\n",
       "    .dataframe tbody tr th:only-of-type {\n",
       "        vertical-align: middle;\n",
       "    }\n",
       "\n",
       "    .dataframe tbody tr th {\n",
       "        vertical-align: top;\n",
       "    }\n",
       "\n",
       "    .dataframe thead th {\n",
       "        text-align: right;\n",
       "    }\n",
       "</style>\n",
       "<table border=\"1\" class=\"dataframe\">\n",
       "  <thead>\n",
       "    <tr style=\"text-align: right;\">\n",
       "      <th></th>\n",
       "      <th>sad</th>\n",
       "      <th>happy</th>\n",
       "      <th>relaxed</th>\n",
       "      <th>angry</th>\n",
       "    </tr>\n",
       "    <tr>\n",
       "      <th>PlaylistPid</th>\n",
       "      <th></th>\n",
       "      <th></th>\n",
       "      <th></th>\n",
       "      <th></th>\n",
       "    </tr>\n",
       "  </thead>\n",
       "  <tbody>\n",
       "    <tr>\n",
       "      <th>0</th>\n",
       "      <td>0.189035</td>\n",
       "      <td>0.272832</td>\n",
       "      <td>0.250399</td>\n",
       "      <td>0.287734</td>\n",
       "    </tr>\n",
       "    <tr>\n",
       "      <th>1</th>\n",
       "      <td>0.231740</td>\n",
       "      <td>0.172384</td>\n",
       "      <td>0.270675</td>\n",
       "      <td>0.325201</td>\n",
       "    </tr>\n",
       "    <tr>\n",
       "      <th>2</th>\n",
       "      <td>0.387876</td>\n",
       "      <td>0.176501</td>\n",
       "      <td>0.164940</td>\n",
       "      <td>0.270683</td>\n",
       "    </tr>\n",
       "    <tr>\n",
       "      <th>3</th>\n",
       "      <td>0.287450</td>\n",
       "      <td>0.176249</td>\n",
       "      <td>0.243194</td>\n",
       "      <td>0.293106</td>\n",
       "    </tr>\n",
       "    <tr>\n",
       "      <th>4</th>\n",
       "      <td>0.250735</td>\n",
       "      <td>0.183312</td>\n",
       "      <td>0.220035</td>\n",
       "      <td>0.345918</td>\n",
       "    </tr>\n",
       "  </tbody>\n",
       "</table>\n",
       "</div>"
      ],
      "text/plain": [
       "                  sad     happy   relaxed     angry\n",
       "PlaylistPid                                        \n",
       "0            0.189035  0.272832  0.250399  0.287734\n",
       "1            0.231740  0.172384  0.270675  0.325201\n",
       "2            0.387876  0.176501  0.164940  0.270683\n",
       "3            0.287450  0.176249  0.243194  0.293106\n",
       "4            0.250735  0.183312  0.220035  0.345918"
      ]
     },
     "execution_count": 324,
     "metadata": {},
     "output_type": "execute_result"
    }
   ],
   "source": [
    "playlistDf.head(n_pl)"
   ]
  },
  {
   "cell_type": "markdown",
   "metadata": {},
   "source": [
    "## SVM "
   ]
  },
  {
   "cell_type": "code",
   "execution_count": 856,
   "metadata": {
    "ExecuteTime": {
     "end_time": "2018-04-30T10:24:20.267626Z",
     "start_time": "2018-04-30T10:24:20.260478Z"
    }
   },
   "outputs": [],
   "source": [
    "def parameters_grid_search(classifier, params, x, y, cv=10, verbose=False):\n",
    "    \"\"\"\n",
    "    Grid Search to find best parameters for a certain classifier whose\n",
    "    performances are evaluated using cross-validation\n",
    "    \"\"\"\n",
    "    gs = GridSearchCV(classifier(), params, cv=cv, n_jobs=-1, verbose=verbose)\n",
    "    gs.fit(x, y)    \n",
    "    return (gs.best_estimator_, gs.best_params_)"
   ]
  },
  {
   "cell_type": "code",
   "execution_count": 857,
   "metadata": {
    "ExecuteTime": {
     "end_time": "2018-04-30T10:24:20.420832Z",
     "start_time": "2018-04-30T10:24:20.416723Z"
    }
   },
   "outputs": [],
   "source": [
    "from sklearn.svm import SVC"
   ]
  },
  {
   "cell_type": "code",
   "execution_count": 858,
   "metadata": {
    "ExecuteTime": {
     "end_time": "2018-04-30T10:24:22.759494Z",
     "start_time": "2018-04-30T10:24:20.810813Z"
    }
   },
   "outputs": [
    {
     "data": {
      "text/plain": [
       "SVC(C=100, cache_size=200, class_weight=None, coef0=0.0,\n",
       "  decision_function_shape=None, degree=3, gamma='auto', kernel='rbf',\n",
       "  max_iter=-1, probability=False, random_state=None, shrinking=True,\n",
       "  tol=0.001, verbose=False)"
      ]
     },
     "execution_count": 858,
     "metadata": {},
     "output_type": "execute_result"
    }
   ],
   "source": [
    "clf = SVC(C=100, kernel='rbf', shrinking=True, probability=False, )\n",
    "clf.fit(X_train, y_train)"
   ]
  },
  {
   "cell_type": "code",
   "execution_count": 859,
   "metadata": {
    "ExecuteTime": {
     "end_time": "2018-04-30T10:24:23.722881Z",
     "start_time": "2018-04-30T10:24:22.762368Z"
    }
   },
   "outputs": [
    {
     "name": "stdout",
     "output_type": "stream",
     "text": [
      "Accuracy of SVM classifier on test set: 0.70\n"
     ]
    },
    {
     "data": {
      "image/png": "[encoded data removed]",
      "text/plain": [
       "<Figure size 432x288 with 2 Axes>"
      ]
     },
     "metadata": {},
     "output_type": "display_data"
    }
   ],
   "source": [
    "y_pred = clf.predict(X_test)\n",
    "plot_confusion_matrix(confusion_matrix(y_test, y_pred), classes=cm_labels)\n",
    "print('Accuracy of SVM classifier on test set: {:.2f}'.format(clf.score(X_test, y_test)))"
   ]
  },
  {
   "cell_type": "code",
   "execution_count": 860,
   "metadata": {
    "ExecuteTime": {
     "end_time": "2018-04-30T10:24:24.082367Z",
     "start_time": "2018-04-30T10:24:23.731679Z"
    }
   },
   "outputs": [
    {
     "name": "stdout",
     "output_type": "stream",
     "text": [
      "Accuracy of SVM classifier on extra test set: 0.40\n"
     ]
    },
    {
     "data": {
      "image/png": "[encoded data removed]",
      "text/plain": [
       "<Figure size 432x288 with 2 Axes>"
      ]
     },
     "metadata": {},
     "output_type": "display_data"
    }
   ],
   "source": [
    "y_pred_extra = clf.predict(X_test_extra)\n",
    "plot_confusion_matrix(confusion_matrix(y_test_extra, y_pred_extra), classes=cm_labels)\n",
    "print('Accuracy of SVM classifier on extra test set: {:.2f}'.format(clf.score(X_test_extra, y_test_extra)))"
   ]
  },
  {
   "cell_type": "markdown",
   "metadata": {},
   "source": [
    "## eXtreme Gradient Boost"
   ]
  },
  {
   "cell_type": "code",
   "execution_count": 707,
   "metadata": {
    "ExecuteTime": {
     "end_time": "2018-04-30T09:18:20.042383Z",
     "start_time": "2018-04-30T09:14:00.804075Z"
    }
   },
   "outputs": [
    {
     "name": "stdout",
     "output_type": "stream",
     "text": [
      "Accuracy: 0.83 (+/- 0.04)\n"
     ]
    }
   ],
   "source": [
    "from sklearn.ensemble import GradientBoostingClassifier\n",
    "\n",
    "# Build model\n",
    "clf = GradientBoostingClassifier(learning_rate=0.7, n_estimators=200)\n",
    "# Evaluate accuracy\n",
    "scores = cross_val_score(clf, X_vect, y, cv=10)\n",
    "print('Accuracy: %0.2f (+/- %0.2f)' % (scores.mean(), scores.std() * 1.96))"
   ]
  },
  {
   "cell_type": "code",
   "execution_count": 715,
   "metadata": {
    "ExecuteTime": {
     "end_time": "2018-04-30T09:20:42.210558Z",
     "start_time": "2018-04-30T09:20:26.671521Z"
    }
   },
   "outputs": [],
   "source": [
    "clf = GradientBoostingClassifier(learning_rate=1.0)\n",
    "clf.fit(X_train, y_train)\n",
    "y_pred = clf.predict(X_test)"
   ]
  },
  {
   "cell_type": "code",
   "execution_count": 716,
   "metadata": {
    "ExecuteTime": {
     "end_time": "2018-04-30T09:20:42.544411Z",
     "start_time": "2018-04-30T09:20:42.213072Z"
    }
   },
   "outputs": [
    {
     "name": "stdout",
     "output_type": "stream",
     "text": [
      "Accuracy of Gradient Boost classifier on test set: 0.81\n"
     ]
    },
    {
     "data": {
      "image/png": "[encoded data removed]",
      "text/plain": [
       "<Figure size 432x288 with 2 Axes>"
      ]
     },
     "metadata": {},
     "output_type": "display_data"
    }
   ],
   "source": [
    "y_pred = clf.predict(X_test)\n",
    "plot_confusion_matrix(confusion_matrix(y_test, y_pred))\n",
    "print('Accuracy of Gradient Boost classifier on test set: {:.2f}'.format(clf.score(X_test, y_test)))"
   ]
  },
  {
   "cell_type": "code",
   "execution_count": 717,
   "metadata": {
    "ExecuteTime": {
     "end_time": "2018-04-30T09:20:42.878773Z",
     "start_time": "2018-04-30T09:20:42.553222Z"
    }
   },
   "outputs": [
    {
     "name": "stdout",
     "output_type": "stream",
     "text": [
      "Accuracy of Gradient Boosting classifier on extra test set: 0.41\n"
     ]
    },
    {
     "data": {
      "image/png": "[encoded data removed]",
      "text/plain": [
       "<Figure size 432x288 with 2 Axes>"
      ]
     },
     "metadata": {},
     "output_type": "display_data"
    }
   ],
   "source": [
    "y_pred = clf.predict(X_test_extra)\n",
    "plot_confusion_matrix(confusion_matrix(y_test_extra, y_pred))\n",
    "print('Accuracy of Gradient Boosting classifier on extra test set: {:.2f}'.format(clf.score(X_test_extra, y_test_extra)))"
   ]
  },
  {
   "cell_type": "markdown",
   "metadata": {},
   "source": [
    "## Naive Bayesian Classifier"
   ]
  },
  {
   "cell_type": "code",
   "execution_count": 214,
   "metadata": {
    "ExecuteTime": {
     "end_time": "2018-05-01T09:49:06.135688Z",
     "start_time": "2018-05-01T09:49:06.096061Z"
    }
   },
   "outputs": [],
   "source": [
    "from sklearn.preprocessing import MinMaxScaler\n",
    "\n",
    "## Scale inputs\n",
    "\n",
    "sc = MinMaxScaler()\n",
    "\n",
    "sc.fit(X_train)\n",
    "\n",
    "X_train_nb = sc.transform(X_train)\n",
    "X_test_nb = sc.transform(X_test)\n",
    "X_test_extra_nb = sc.transform(X_test_extra)"
   ]
  },
  {
   "cell_type": "code",
   "execution_count": 215,
   "metadata": {
    "ExecuteTime": {
     "end_time": "2018-05-01T09:49:06.734887Z",
     "start_time": "2018-05-01T09:49:06.727290Z"
    }
   },
   "outputs": [],
   "source": [
    "from sklearn.naive_bayes import MultinomialNB"
   ]
  },
  {
   "cell_type": "code",
   "execution_count": 216,
   "metadata": {
    "ExecuteTime": {
     "end_time": "2018-05-01T09:49:07.019456Z",
     "start_time": "2018-05-01T09:49:06.990484Z"
    }
   },
   "outputs": [
    {
     "data": {
      "text/plain": [
       "MultinomialNB(alpha=0.0, class_prior=None, fit_prior=False)"
      ]
     },
     "execution_count": 216,
     "metadata": {},
     "output_type": "execute_result"
    }
   ],
   "source": [
    "clf = MultinomialNB(alpha=0.0, fit_prior=False)\n",
    "clf.fit(X_train_nb, y_train)"
   ]
  },
  {
   "cell_type": "code",
   "execution_count": 217,
   "metadata": {
    "ExecuteTime": {
     "end_time": "2018-05-01T09:49:07.614333Z",
     "start_time": "2018-05-01T09:49:07.252285Z"
    }
   },
   "outputs": [
    {
     "name": "stdout",
     "output_type": "stream",
     "text": [
      "Accuracy of Naive-Bayes classifier on test set: 0.65\n"
     ]
    },
    {
     "data": {
      "image/png": "[encoded data removed]",
      "text/plain": [
       "<Figure size 432x288 with 2 Axes>"
      ]
     },
     "metadata": {},
     "output_type": "display_data"
    }
   ],
   "source": [
    "y_pred = clf.predict(X_test_nb)\n",
    "plot_confusion_matrix(confusion_matrix(y_test, y_pred), classes=cm_labels)\n",
    "print('Accuracy of Naive-Bayes classifier on test set: {:.2f}'.format(clf.score(X_test_nb, y_test)))"
   ]
  },
  {
   "cell_type": "code",
   "execution_count": 218,
   "metadata": {
    "ExecuteTime": {
     "end_time": "2018-05-01T09:49:08.048755Z",
     "start_time": "2018-05-01T09:49:07.722847Z"
    }
   },
   "outputs": [
    {
     "name": "stdout",
     "output_type": "stream",
     "text": [
      "Accuracy of Naive-Bayes classifier on extra test set: 0.55\n"
     ]
    },
    {
     "data": {
      "image/png": "[encoded data removed]",
      "text/plain": [
       "<Figure size 432x288 with 2 Axes>"
      ]
     },
     "metadata": {},
     "output_type": "display_data"
    }
   ],
   "source": [
    "y_pred = clf.predict(X_test_extra_nb)\n",
    "plot_confusion_matrix(confusion_matrix(y_test_extra, y_pred), classes=cm_labels)\n",
    "print('Accuracy of Naive-Bayes classifier on extra test set: {:.2f}'.format(clf.score(X_test_extra_nb, y_test_extra)))"
   ]
  },
  {
   "cell_type": "markdown",
   "metadata": {},
   "source": [
    "### Playlist Classification"
   ]
  },
  {
   "cell_type": "code",
   "execution_count": 219,
   "metadata": {
    "ExecuteTime": {
     "end_time": "2018-05-01T09:49:15.164813Z",
     "start_time": "2018-05-01T09:49:14.831285Z"
    }
   },
   "outputs": [],
   "source": [
    "import json\n",
    "\n",
    "n_pl = 5\n",
    "\n",
    "data = json.load(open('./datasets/mpd.slice.0-999.json'))\n",
    "playlists = data['playlists'][:n_pl]"
   ]
  },
  {
   "cell_type": "code",
   "execution_count": 220,
   "metadata": {
    "ExecuteTime": {
     "end_time": "2018-05-01T09:49:15.304653Z",
     "start_time": "2018-05-01T09:49:15.299768Z"
    }
   },
   "outputs": [],
   "source": [
    "from utils.dataset_parsing import *\n",
    "import utils.sentiment_analysis as sa"
   ]
  },
  {
   "cell_type": "code",
   "execution_count": 221,
   "metadata": {
    "ExecuteTime": {
     "end_time": "2018-05-01T09:49:24.861124Z",
     "start_time": "2018-05-01T09:49:24.837350Z"
    }
   },
   "outputs": [],
   "source": [
    "def featurize(lyrics, pid, playlist_name, artist, title):\n",
    "    lyric_doc = nlp(lyrics)\n",
    "    title_doc = nlp(title)\n",
    "    lyric = preprocess(lyrics)\n",
    "    features = feature_extraction(lyric, title)\n",
    "\n",
    "    freq = features['frequencies'] \n",
    "    sentiment = sa.analyse(lyrics)\n",
    "    elem = [\n",
    "        pid, playlist_name, 0, artist, title,\n",
    "        lyric_doc.vector, title_doc.vector,\n",
    "        features['line_count'], features['word_count'],#get_line_count(lyric), get_word_count(lyric),\n",
    "        #get_slang_counts(lyric),\n",
    "        features['echoisms'], features['selfish'],#get_echoisms(lyric), get_selfish_degree(lyric),\n",
    "        count_duplicate_lines(lyric), features['is_title_in_lyrics'],# (row['Song'], lyric),\n",
    "        features['rhymes'],#get_rhymes(lyric),\n",
    "        features['verb_tenses']['present'], features['verb_tenses']['past'], features['verb_tenses']['future'], #verb_freq['present'], verb_freq['past'], verb_freq['future'],\n",
    "        freq['ADJ'], freq['ADP'], freq['ADV'], freq['AUX'], freq['CONJ'], \n",
    "        freq['CCONJ'], freq['DET'], freq['INTJ'], freq['NOUN'], freq['NUM'],\n",
    "        freq['PART'], freq['PRON'], freq['PROPN'], freq['PUNCT'], freq['SCONJ'],\n",
    "        freq['SYM'], freq['VERB'], freq['X'], freq['SPACE'],\n",
    "        # Sentiment analysis stuff\n",
    "        sentiment[0], sentiment[1]\n",
    "    ]\n",
    "    return elem"
   ]
  },
  {
   "cell_type": "code",
   "execution_count": 222,
   "metadata": {
    "ExecuteTime": {
     "end_time": "2018-05-01T09:49:25.355556Z",
     "start_time": "2018-05-01T09:49:25.351454Z"
    }
   },
   "outputs": [],
   "source": [
    "import lyricwikia"
   ]
  },
  {
   "cell_type": "code",
   "execution_count": null,
   "metadata": {
    "ExecuteTime": {
     "start_time": "2018-05-01T09:40:49.491Z"
    },
    "deletable": false,
    "editable": false,
    "run_control": {
     "frozen": true
    }
   },
   "outputs": [],
   "source": [
    "features = list()\n",
    "for playlist in playlists:\n",
    "    for track in playlist['tracks']:\n",
    "        artist = track['artist_name']\n",
    "        title = track['track_name']\n",
    "        try:\n",
    "            lyrics = lyricwikia.get_lyrics(artist, title)\n",
    "            x = featurize(lyrics, playlist['pid'], 'Test', artist, title)\n",
    "            features.append(x)\n",
    "        except lyricwikia.LyricsNotFound:\n",
    "             continue\n",
    "    df = pd.DataFrame(features, columns=['PlaylistPid','PlaylistName','TrackUri', 'ArtistName', 'TrackName','LYRICS_VECTOR', 'TITLE_VECTOR', \n",
    "            'LINE_COUNT', 'WORD_COUNT', 'ECHOISMS', 'SELFISH_DEGREE', \n",
    "            'DUPLICATE_LINES', 'IS_TITLE_IN_LYRICS', 'RHYMES', 'VERB_PRESENT', \n",
    "            'VERB_PAST', 'VERB_FUTURE', 'ADJ_FREQUENCIES', 'CONJUCTION_FREQUENCIES', \n",
    "            'ADV_FREQUENCIES', 'AUX_FREQUENCIES', 'CONJ_FREQUENCIES', 'CCONJ_FREQUENCIES', \n",
    "            'DETERMINER_FREQUENCIES', 'INTERJECTION_FREQUENCIES', 'NOUN_FREQUENCIES', \n",
    "            'NUM_FREQUENCIES', 'PART_FREQUENCIES', 'PRON_FREQUENCIES', 'PROPN_FREQUENCIES', \n",
    "            'PUNCT_FREQUENCIES', 'SCONJ_FREQUENCIES', 'SYM_FREQUENCIES', 'VERB_FREQUENCIES',\n",
    "            'X_FREQUENCIES', 'SPACE_FREQUENCIES', \n",
    "            'SENTIMENT', 'SUBJECTIVITY'])\n",
    "df.head(3)"
   ]
  },
  {
   "cell_type": "code",
   "execution_count": 223,
   "metadata": {
    "ExecuteTime": {
     "end_time": "2018-05-01T09:49:28.486550Z",
     "start_time": "2018-05-01T09:49:28.405382Z"
    }
   },
   "outputs": [
    {
     "data": {
      "text/plain": [
       "(146, 312)"
      ]
     },
     "execution_count": 223,
     "metadata": {},
     "output_type": "execute_result"
    }
   ],
   "source": [
    "tmp_df = df[[\n",
    "   'LYRICS_VECTOR',\n",
    "   'WORD_COUNT', 'ECHOISMS', 'SELFISH_DEGREE', \n",
    "   'DUPLICATE_LINES', 'IS_TITLE_IN_LYRICS', 'VERB_PRESENT', \n",
    "   'VERB_PAST', 'VERB_FUTURE', 'ADJ_FREQUENCIES',\n",
    "   'PUNCT_FREQUENCIES',\n",
    "   'SENTIMENT', 'SUBJECTIVITY']]#.drop(['PlaylistPid', 'PlaylistName', 'TrackUri', 'ArtistName', 'TrackName'], axis=1, inplace=True)\n",
    "X_vect = list()\n",
    "for (i, row) in tmp_df.iterrows():\n",
    "    sub_list = list()\n",
    "    for field in row:\n",
    "        if type(field) == np.ndarray:\n",
    "            sub_list += [float(x) for x in field]\n",
    "        else:\n",
    "            sub_list.append(field)\n",
    "    X_vect.append(np.array(sub_list))\n",
    "X_vect = np.array(X_vect)\n",
    "X_vect.shape"
   ]
  },
  {
   "cell_type": "code",
   "execution_count": 224,
   "metadata": {
    "ExecuteTime": {
     "end_time": "2018-05-01T09:49:29.214993Z",
     "start_time": "2018-05-01T09:49:29.211588Z"
    }
   },
   "outputs": [],
   "source": [
    "X_vect_scaled = sc.transform(X_vect)"
   ]
  },
  {
   "cell_type": "code",
   "execution_count": 227,
   "metadata": {
    "ExecuteTime": {
     "end_time": "2018-05-01T09:49:36.191634Z",
     "start_time": "2018-05-01T09:49:36.178754Z"
    }
   },
   "outputs": [],
   "source": [
    "y_pred = clf.predict_proba(X_vect_scaled)"
   ]
  },
  {
   "cell_type": "code",
   "execution_count": 228,
   "metadata": {
    "ExecuteTime": {
     "end_time": "2018-05-01T09:49:38.454776Z",
     "start_time": "2018-05-01T09:49:38.446868Z"
    }
   },
   "outputs": [],
   "source": [
    "classificationDf = pd.DataFrame(data=y_pred,columns=cm_labels)\n",
    "finalDf = pd.concat([df, classificationDf],axis=1)"
   ]
  },
  {
   "cell_type": "code",
   "execution_count": 229,
   "metadata": {
    "ExecuteTime": {
     "end_time": "2018-05-01T09:49:39.217703Z",
     "start_time": "2018-05-01T09:49:39.197152Z"
    }
   },
   "outputs": [
    {
     "data": {
      "text/html": [
       "<div>\n",
       "<style scoped>\n",
       "    .dataframe tbody tr th:only-of-type {\n",
       "        vertical-align: middle;\n",
       "    }\n",
       "\n",
       "    .dataframe tbody tr th {\n",
       "        vertical-align: top;\n",
       "    }\n",
       "\n",
       "    .dataframe thead th {\n",
       "        text-align: right;\n",
       "    }\n",
       "</style>\n",
       "<table border=\"1\" class=\"dataframe\">\n",
       "  <thead>\n",
       "    <tr style=\"text-align: right;\">\n",
       "      <th></th>\n",
       "      <th>angry</th>\n",
       "      <th>happy</th>\n",
       "      <th>relaxed</th>\n",
       "      <th>sad</th>\n",
       "    </tr>\n",
       "  </thead>\n",
       "  <tbody>\n",
       "    <tr>\n",
       "      <th>0</th>\n",
       "      <td>0.001581</td>\n",
       "      <td>0.998419</td>\n",
       "      <td>8.397054e-29</td>\n",
       "      <td>1.170221e-30</td>\n",
       "    </tr>\n",
       "    <tr>\n",
       "      <th>1</th>\n",
       "      <td>0.012917</td>\n",
       "      <td>0.987083</td>\n",
       "      <td>1.876200e-16</td>\n",
       "      <td>2.684193e-18</td>\n",
       "    </tr>\n",
       "    <tr>\n",
       "      <th>2</th>\n",
       "      <td>0.000114</td>\n",
       "      <td>0.999886</td>\n",
       "      <td>1.668742e-39</td>\n",
       "      <td>5.793295e-42</td>\n",
       "    </tr>\n",
       "    <tr>\n",
       "      <th>3</th>\n",
       "      <td>0.001007</td>\n",
       "      <td>0.998993</td>\n",
       "      <td>9.990588e-29</td>\n",
       "      <td>7.160484e-31</td>\n",
       "    </tr>\n",
       "    <tr>\n",
       "      <th>4</th>\n",
       "      <td>0.000587</td>\n",
       "      <td>0.999413</td>\n",
       "      <td>2.526268e-33</td>\n",
       "      <td>1.522402e-35</td>\n",
       "    </tr>\n",
       "  </tbody>\n",
       "</table>\n",
       "</div>"
      ],
      "text/plain": [
       "      angry     happy       relaxed           sad\n",
       "0  0.001581  0.998419  8.397054e-29  1.170221e-30\n",
       "1  0.012917  0.987083  1.876200e-16  2.684193e-18\n",
       "2  0.000114  0.999886  1.668742e-39  5.793295e-42\n",
       "3  0.001007  0.998993  9.990588e-29  7.160484e-31\n",
       "4  0.000587  0.999413  2.526268e-33  1.522402e-35"
      ]
     },
     "execution_count": 229,
     "metadata": {},
     "output_type": "execute_result"
    }
   ],
   "source": [
    "finalDf[['angry', 'happy', 'relaxed', 'sad']].head(5)"
   ]
  },
  {
   "cell_type": "code",
   "execution_count": 230,
   "metadata": {
    "ExecuteTime": {
     "end_time": "2018-05-01T09:49:40.158480Z",
     "start_time": "2018-05-01T09:49:40.147090Z"
    }
   },
   "outputs": [],
   "source": [
    "playlistDf = finalDf.groupby(by='PlaylistPid').agg({'happy': 'mean', 'sad': 'mean', 'angry': 'mean', 'relaxed': 'mean'})"
   ]
  },
  {
   "cell_type": "code",
   "execution_count": 231,
   "metadata": {
    "ExecuteTime": {
     "end_time": "2018-05-01T09:49:40.900950Z",
     "start_time": "2018-05-01T09:49:40.887369Z"
    }
   },
   "outputs": [
    {
     "data": {
      "text/html": [
       "<div>\n",
       "<style scoped>\n",
       "    .dataframe tbody tr th:only-of-type {\n",
       "        vertical-align: middle;\n",
       "    }\n",
       "\n",
       "    .dataframe tbody tr th {\n",
       "        vertical-align: top;\n",
       "    }\n",
       "\n",
       "    .dataframe thead th {\n",
       "        text-align: right;\n",
       "    }\n",
       "</style>\n",
       "<table border=\"1\" class=\"dataframe\">\n",
       "  <thead>\n",
       "    <tr style=\"text-align: right;\">\n",
       "      <th></th>\n",
       "      <th>sad</th>\n",
       "      <th>happy</th>\n",
       "      <th>relaxed</th>\n",
       "      <th>angry</th>\n",
       "    </tr>\n",
       "    <tr>\n",
       "      <th>PlaylistPid</th>\n",
       "      <th></th>\n",
       "      <th></th>\n",
       "      <th></th>\n",
       "      <th></th>\n",
       "    </tr>\n",
       "  </thead>\n",
       "  <tbody>\n",
       "    <tr>\n",
       "      <th>0</th>\n",
       "      <td>1.975040e-12</td>\n",
       "      <td>0.993345</td>\n",
       "      <td>7.635374e-11</td>\n",
       "      <td>0.006655</td>\n",
       "    </tr>\n",
       "    <tr>\n",
       "      <th>1</th>\n",
       "      <td>2.049313e-02</td>\n",
       "      <td>0.941977</td>\n",
       "      <td>5.333429e-03</td>\n",
       "      <td>0.032197</td>\n",
       "    </tr>\n",
       "    <tr>\n",
       "      <th>2</th>\n",
       "      <td>9.735730e-13</td>\n",
       "      <td>0.974682</td>\n",
       "      <td>1.963632e-12</td>\n",
       "      <td>0.025318</td>\n",
       "    </tr>\n",
       "    <tr>\n",
       "      <th>3</th>\n",
       "      <td>5.368889e-07</td>\n",
       "      <td>0.951358</td>\n",
       "      <td>1.789475e-05</td>\n",
       "      <td>0.048624</td>\n",
       "    </tr>\n",
       "    <tr>\n",
       "      <th>4</th>\n",
       "      <td>4.542883e-14</td>\n",
       "      <td>0.979711</td>\n",
       "      <td>2.536567e-12</td>\n",
       "      <td>0.020289</td>\n",
       "    </tr>\n",
       "  </tbody>\n",
       "</table>\n",
       "</div>"
      ],
      "text/plain": [
       "                      sad     happy       relaxed     angry\n",
       "PlaylistPid                                                \n",
       "0            1.975040e-12  0.993345  7.635374e-11  0.006655\n",
       "1            2.049313e-02  0.941977  5.333429e-03  0.032197\n",
       "2            9.735730e-13  0.974682  1.963632e-12  0.025318\n",
       "3            5.368889e-07  0.951358  1.789475e-05  0.048624\n",
       "4            4.542883e-14  0.979711  2.536567e-12  0.020289"
      ]
     },
     "execution_count": 231,
     "metadata": {},
     "output_type": "execute_result"
    }
   ],
   "source": [
    "playlistDf.head(n_pl)"
   ]
  },
  {
   "cell_type": "markdown",
   "metadata": {},
   "source": [
    "# Conclusion\n",
    "- The neural network is certainly the best classifier for our purpose\n",
    "- We are always quite good at classifying sad songs but we often lack in performances while classifying other emotions"
   ]
  }
 ],
 "metadata": {
  "kernelspec": {
   "display_name": "Python 3",
   "language": "python",
   "name": "python3"
  },
  "language_info": {
   "codemirror_mode": {
    "name": "ipython",
    "version": 3
   },
   "file_extension": ".py",
   "mimetype": "text/x-python",
   "name": "python",
   "nbconvert_exporter": "python",
   "pygments_lexer": "ipython3",
   "version": "3.5.2"
  },
  "notify_time": "5",
  "toc": {
   "base_numbering": 1,
   "nav_menu": {
    "height": "316px",
    "width": "287px"
   },
   "number_sections": true,
   "sideBar": true,
   "skip_h1_title": false,
   "title_cell": "Table of Contents",
   "title_sidebar": "Contents",
   "toc_cell": true,
   "toc_position": {
    "height": "calc(100% - 180px)",
    "left": "10px",
    "top": "150px",
    "width": "232px"
   },
   "toc_section_display": true,
   "toc_window_display": true
  }
 },
 "nbformat": 4,
 "nbformat_minor": 2
}
