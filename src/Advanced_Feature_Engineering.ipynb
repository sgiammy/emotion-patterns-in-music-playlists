{
 "cells": [
  {
   "cell_type": "markdown",
   "metadata": {},
   "source": [
    "# Advanced Feature Engineering"
   ]
  },
  {
   "cell_type": "markdown",
   "metadata": {
    "toc": true
   },
   "source": [
    "<h1>Table of Contents<span class=\"tocSkip\"></span></h1>\n",
    "<div class=\"toc\"><ul class=\"toc-item\"><li><span><a href=\"#Advanced-Feature-Engineering\" data-toc-modified-id=\"Advanced-Feature-Engineering-1\"><span class=\"toc-item-num\">1&nbsp;&nbsp;</span>Advanced Feature Engineering</a></span></li><li><span><a href=\"#Introduction\" data-toc-modified-id=\"Introduction-2\"><span class=\"toc-item-num\">2&nbsp;&nbsp;</span>Introduction</a></span></li><li><span><a href=\"#LyricsManager.py\" data-toc-modified-id=\"LyricsManager.py-3\"><span class=\"toc-item-num\">3&nbsp;&nbsp;</span>LyricsManager.py</a></span></li><li><span><a href=\"#MoodyLyrics-issue\" data-toc-modified-id=\"MoodyLyrics-issue-4\"><span class=\"toc-item-num\">4&nbsp;&nbsp;</span>MoodyLyrics issue</a></span></li><li><span><a href=\"#New-features\" data-toc-modified-id=\"New-features-5\"><span class=\"toc-item-num\">5&nbsp;&nbsp;</span>New features</a></span><ul class=\"toc-item\"><li><span><a href=\"#Dataset-Stats\" data-toc-modified-id=\"Dataset-Stats-5.1\"><span class=\"toc-item-num\">5.1&nbsp;&nbsp;</span>Dataset Stats</a></span></li><li><span><a href=\"#Feature-Selection\" data-toc-modified-id=\"Feature-Selection-5.2\"><span class=\"toc-item-num\">5.2&nbsp;&nbsp;</span>Feature Selection</a></span><ul class=\"toc-item\"><li><span><a href=\"#Extra-test-set\" data-toc-modified-id=\"Extra-test-set-5.2.1\"><span class=\"toc-item-num\">5.2.1&nbsp;&nbsp;</span>Extra test set</a></span></li></ul></li></ul></li><li><span><a href=\"#Dimensionality-Reduction\" data-toc-modified-id=\"Dimensionality-Reduction-6\"><span class=\"toc-item-num\">6&nbsp;&nbsp;</span>Dimensionality Reduction</a></span></li><li><span><a href=\"#Classification\" data-toc-modified-id=\"Classification-7\"><span class=\"toc-item-num\">7&nbsp;&nbsp;</span>Classification</a></span><ul class=\"toc-item\"><li><span><a href=\"#Artificial-Neural-Network\" data-toc-modified-id=\"Artificial-Neural-Network-7.1\"><span class=\"toc-item-num\">7.1&nbsp;&nbsp;</span>Artificial Neural Network</a></span><ul class=\"toc-item\"><li><span><a href=\"#Playlist-Classification\" data-toc-modified-id=\"Playlist-Classification-7.1.1\"><span class=\"toc-item-num\">7.1.1&nbsp;&nbsp;</span>Playlist Classification</a></span></li></ul></li><li><span><a href=\"#Logistic-Regression\" data-toc-modified-id=\"Logistic-Regression-7.2\"><span class=\"toc-item-num\">7.2&nbsp;&nbsp;</span>Logistic Regression</a></span><ul class=\"toc-item\"><li><span><a href=\"#Playlist-Classification\" data-toc-modified-id=\"Playlist-Classification-7.2.1\"><span class=\"toc-item-num\">7.2.1&nbsp;&nbsp;</span>Playlist Classification</a></span></li></ul></li><li><span><a href=\"#SVM\" data-toc-modified-id=\"SVM-7.3\"><span class=\"toc-item-num\">7.3&nbsp;&nbsp;</span>SVM</a></span></li><li><span><a href=\"#eXtreme-Gradient-Boost\" data-toc-modified-id=\"eXtreme-Gradient-Boost-7.4\"><span class=\"toc-item-num\">7.4&nbsp;&nbsp;</span>eXtreme Gradient Boost</a></span></li><li><span><a href=\"#Naive-Bayesian-Classifier\" data-toc-modified-id=\"Naive-Bayesian-Classifier-7.5\"><span class=\"toc-item-num\">7.5&nbsp;&nbsp;</span>Naive Bayesian Classifier</a></span><ul class=\"toc-item\"><li><span><a href=\"#Playlist-Classification\" data-toc-modified-id=\"Playlist-Classification-7.5.1\"><span class=\"toc-item-num\">7.5.1&nbsp;&nbsp;</span>Playlist Classification</a></span></li></ul></li></ul></li><li><span><a href=\"#Conclusion\" data-toc-modified-id=\"Conclusion-8\"><span class=\"toc-item-num\">8&nbsp;&nbsp;</span>Conclusion</a></span></li></ul></div>"
   ]
  },
  {
   "cell_type": "code",
   "execution_count": 548,
   "metadata": {
    "ExecuteTime": {
     "end_time": "2018-05-15T16:21:41.252204Z",
     "start_time": "2018-05-15T16:21:41.214666Z"
    }
   },
   "outputs": [],
   "source": [
    "import spacy\n",
    "import os\n",
    "import sys\n",
    "import warnings\n",
    "import itertools\n",
    "\n",
    "import numpy as np\n",
    "import pandas as pd\n",
    "\n",
    "from sklearn.preprocessing import LabelEncoder\n",
    "\n",
    "from sklearn.model_selection import cross_val_score\n",
    "from sklearn.model_selection import GridSearchCV\n",
    "\n",
    "from sklearn.metrics import confusion_matrix\n",
    "from sklearn.metrics import accuracy_score\n",
    "\n",
    "from sklearn.decomposition import PCA\n",
    "\n",
    "import seaborn as sns\n",
    "sns.set()\n",
    "import matplotlib.pyplot as plt\n",
    "\n",
    "from utils.datasets import load_dataset_from_path, split_train_validation\n",
    "\n",
    "emotion_labels = ['happy', 'sad', 'angry', 'relaxed']\n",
    "\n",
    "use_both = True"
   ]
  },
  {
   "cell_type": "code",
   "execution_count": 549,
   "metadata": {
    "ExecuteTime": {
     "end_time": "2018-05-15T16:21:41.354687Z",
     "start_time": "2018-05-15T16:21:41.342598Z"
    }
   },
   "outputs": [],
   "source": [
    "# Read extra test set\n",
    "extra_test_path = './datasets/extra_test.csv'\n",
    "extra_test = pd.read_csv(extra_test_path)"
   ]
  },
  {
   "cell_type": "code",
   "execution_count": 550,
   "metadata": {
    "ExecuteTime": {
     "end_time": "2018-05-15T16:21:41.704781Z",
     "start_time": "2018-05-15T16:21:41.662478Z"
    }
   },
   "outputs": [],
   "source": [
    "def plot_confusion_matrix(cm, classes = emotion_labels,\n",
    "                          normalize=False,\n",
    "                          title='Confusion matrix',\n",
    "                          cmap=plt.cm.Blues):\n",
    "    \"\"\"\n",
    "    This function prints and plots the confusion matrix.\n",
    "    Normalization can be applied by setting `normalize=True`.\n",
    "    \"\"\"\n",
    "    if normalize:\n",
    "        cm = cm.astype('float') / cm.sum(axis=1)[:, np.newaxis]\n",
    "\n",
    "    plt.imshow(cm, interpolation='nearest', cmap=cmap)\n",
    "    plt.title(title)\n",
    "    plt.colorbar()\n",
    "    tick_marks = np.arange(len(classes))\n",
    "    plt.xticks(tick_marks, classes, rotation=45)\n",
    "    plt.yticks(tick_marks, classes)\n",
    "\n",
    "    fmt = '.2f' if normalize else 'd'\n",
    "    thresh = cm.max() / 2.\n",
    "    for i, j in itertools.product(range(cm.shape[0]), range(cm.shape[1])):\n",
    "        plt.text(j, i, format(cm[i, j], fmt),\n",
    "                 horizontalalignment=\"center\",\n",
    "                 color=\"white\" if cm[i, j] > thresh else \"black\")\n",
    "\n",
    "    plt.grid(False)\n",
    "    plt.tight_layout()\n",
    "    plt.ylabel('True label')\n",
    "    plt.xlabel('Predicted label')"
   ]
  },
  {
   "cell_type": "code",
   "execution_count": 551,
   "metadata": {
    "ExecuteTime": {
     "end_time": "2018-05-15T16:21:41.949388Z",
     "start_time": "2018-05-15T16:21:41.864468Z"
    }
   },
   "outputs": [],
   "source": [
    "def plot_pca_exp_var(x, dim):\n",
    "    '''\n",
    "    Utility function used to plot the explained variance\n",
    "    variation by doing dimensionality reduction\n",
    "    '''\n",
    "    # Perform PCA and get explained variance\n",
    "    pca = PCA(n_components=dim)\n",
    "    x_pca = pca.fit_transform(x)\n",
    "    exvar = (pca.explained_variance_ratio_)\n",
    "    exvar.sort()\n",
    "    exvar = exvar[::-1]\n",
    "    \n",
    "    # Compute CDF\n",
    "    cdf = np.zeros_like(exvar)\n",
    "    for i in range(len(exvar)):\n",
    "        cdf[i] = exvar[0] if i == 0 else cdf[i-1]+exvar[i]\n",
    "    cdf = np.insert(cdf, 0, 0)\n",
    "    \n",
    "    # Plot\n",
    "    ax = plt.gca()\n",
    "\n",
    "    # Find point in which we have 75% information\n",
    "    #f = np.where(cdf >= 0.75)[0][0]\n",
    "    #ax.axhline(0.75, color='orange', linestyle='-.',lw=2, alpha=0.5)\n",
    "    #ax.axvline(f, linestyle='-.', color='orange', lw=2, alpha=0.5)\n",
    "    #ax.text(f+5, 0.1, '%s features' % f)\n",
    "\n",
    "    # Find point in which we have 99% information\n",
    "    f = np.where(cdf >= 0.99)[0][0]\n",
    "    ax.axhline(0.99, color='green', linestyle='-.',lw=2, alpha=0.5)\n",
    "    ax.axvline(f, linestyle='-.', color='green', lw=2, alpha=0.5)\n",
    "    ax.text(f+5, 0.1, '%s features' % f)\n",
    "\n",
    "    plt.title('Explained Variance')\n",
    "    plt.xlabel('Number of Components')\n",
    "    plt.plot(np.arange(dim + 1), cdf, lw=2.5)\n",
    "    plt.show()"
   ]
  },
  {
   "cell_type": "markdown",
   "metadata": {},
   "source": [
    "# Introduction\n",
    "**Previously on Sara&Mario project**: \n",
    "<ol>\n",
    "    <li>*MoodyLyrics* stats analysis</li>\n",
    "    <li>Lyrics classification using the main classifiers</li>\n",
    "    <li>Emotion classification by just considering the song title</li> \n",
    "</ol>\n",
    "Now, following the last meeting discussion we: \n",
    "<ol>\n",
    "    <li>Wrote a script to create the dataset *SpotifyURI*, *List of PlaylistIDs*, *MoodyLyric_Emotion*</li>\n",
    "    <li>Wrote a script to detect all duplicated songs in MoodyLyrics to fill a bug report</li>\n",
    "    <li>Added new features for the classification task</li>\n",
    "</ol>"
   ]
  },
  {
   "cell_type": "markdown",
   "metadata": {},
   "source": [
    "# LyricsManager.py\n",
    "After downloading the Spotify RecSys Challenge dataset we wrote a script that: <br>\n",
    "<ul>\n",
    "    <li>Given as input: the *Spotify playlist dataset folder*, and an output folder, creates a data structure to store for each song:<br>\n",
    "        <*SpotifyURI*, *PlaylistIDs*, *TrackInformation*, *Emotion*><br>\n",
    "        where: \n",
    "            <ul>\n",
    "                <li>*SpotifyURI* is the songID</li>\n",
    "                <li>*PlaylistsIDs* is the list of playlist in which the song appear</li>\n",
    "                <li>*TrackInformation* is the list of information taken from Spotify dataset</li>\n",
    "                <li>*Emotion* is an optional field, present only if the song is also contained in the MoodyLyrics dataset, that contains the emotion label for the song\n",
    "    </li>\n",
    "            </ul>\n",
    "      <li>Can load Spotify songs datastructure (if already existing)</li>\n",
    "            <li>Given as input a SpotifyURI it can download lyrics from lyricwikia</li>\n",
    "</ul>"
   ]
  },
  {
   "cell_type": "markdown",
   "metadata": {},
   "source": [
    "# MoodyLyrics issue\n",
    "New week we detected duplicate information in MoodyLyrics. Now we can generate a .csv file capable of reporting those duplicates.\n",
    "\n",
    "Now it's time to fill a bug."
   ]
  },
  {
   "cell_type": "markdown",
   "metadata": {},
   "source": [
    "# New features\n",
    "Starting from MoodyLyrics we are going to create a new dataset with a lot of new features. <br>\n",
    "<ul>\n",
    "    <li>**Title_vector**</li>\n",
    "    <li>**Lyric_vector**</li>\n",
    "    <li>**%Rhymes**:<br> defined as the percentage of the number of rhymes over the number of total lines. A rhyme is defined as a rhyme between two following lines.</li>\n",
    "    <li>**%Past_tense_verbs**:<br> defined as the the percentage of the number of past tense verbs over the total number of verbs.</li>\n",
    "    <li>**%Present_tense_verbs**:<br>  defined as the the percentage of the number of present tense verbs over the total number of verbs.</li>\n",
    "    <li>**%Future_tense_verbs**:<br>  defined as the the percentage of the number of future tense verbs over the total number of verbs, where future is just will + base form.</li>\n",
    "    <li>**%ADJ**:<br> Percentage of adjectives over the total number of words.</li>\n",
    "    <li>**%ADP**:<br> Percentage of adpositions (e.g. in, to, during) over the total number of words.</li>\n",
    "    <li>**%ADV**:<br> Percentage of adverbs (e.g. very, tomorrow, down, where, there) over the total number of words.</li>\n",
    "    <li>**%AUX**:<br> Percentage of auxiliaries (e.g. is, has (done), will (do), should (do)) over the total number of words.</li>\n",
    "    <li>**%INTJ**:<br> Percentage of interjections (e.g. psst, ouch, bravo, hello) over the total number of words.</li>\n",
    "    <li>**%NOUN**:<br> Percentage of nouns over the total number of words.</li>\n",
    "    <li>**%NUM**:<br> Percentage of numerals over the total number of words.</li>\n",
    "    <li>**%PRON**:<br> Percentage of pronouns (e.g. I, you, he, she, myself, themselves, somebody,...) over the total number of words.</li> \n",
    "    <li>**%PROPN**:<br> Percentage of proper nouns (e.g. Mary, John) over the total number of words.</li>\n",
    "    <li>**%PUNCT**:<br> Percentage of puntuctuation (e.g. ., (, ), ?) over the total number of words.</li>\n",
    "    <li>**%VERB**:<br> Percentage of verbs over the total number of words.</li>\n",
    "    <li>**Selfish_degree**:<br> Percentage of 'I' pronouns over the total number of pronouns</li>\n",
    "    <li>**%Echoism**:<br> Percentage of echoism over the total number of words, where an echoism is either a sequence of two subsequent repeated words or the repetition of a vowel in a word. </li>\n",
    "    <li>**%Duplicates**:<br> Percentage of duplicate words over the total number of words</li>\n",
    "    <li>**isTitleInLyric**:<br> Boolean, true if the title string is also a substring of the lyric</li>\n",
    "    <li>**sentiment**:<br> Sentiment between -1 and 1</li>\n",
    "    <li>**subjectivity degree**:<br> Degree of subjectivity of the text</li>\n",
    "</ul>\n",
    "\n",
    "The sentiment and subjectivity analysis was done using [TextBlob](http://textblob.readthedocs.io/en/dev/index.html) Python NLP library."
   ]
  },
  {
   "cell_type": "markdown",
   "metadata": {},
   "source": [
    "## Dataset Stats"
   ]
  },
  {
   "cell_type": "code",
   "execution_count": 552,
   "metadata": {
    "ExecuteTime": {
     "end_time": "2018-05-15T16:21:44.047744Z",
     "start_time": "2018-05-15T16:21:44.044577Z"
    }
   },
   "outputs": [],
   "source": [
    "import pandas as pd"
   ]
  },
  {
   "cell_type": "code",
   "execution_count": 553,
   "metadata": {
    "ExecuteTime": {
     "end_time": "2018-05-15T16:21:45.061685Z",
     "start_time": "2018-05-15T16:21:44.662921Z"
    }
   },
   "outputs": [
    {
     "name": "stdout",
     "output_type": "stream",
     "text": [
      "Columns contained in both datasets: 46\n"
     ]
    }
   ],
   "source": [
    "dataset = pd.read_csv('./datasets/moodylyrics4q_featurized.csv')\n",
    "if use_both:\n",
    "    dataset2 = pd.read_csv('./datasets/moodylyrics_featurized.csv')\n",
    "    l = len(dataset) + len(dataset2)\n",
    "    dataset = pd.concat([dataset, dataset2])\n",
    "    dataset.drop_duplicates(['ARTIST', 'SONG_TITLE'], inplace=True)\n",
    "    print('Columns contained in both datasets:',l - len(dataset))"
   ]
  },
  {
   "cell_type": "code",
   "execution_count": 554,
   "metadata": {
    "ExecuteTime": {
     "end_time": "2018-05-15T16:21:45.158203Z",
     "start_time": "2018-05-15T16:21:45.155456Z"
    }
   },
   "outputs": [],
   "source": [
    "useless_columns = [ 'ID','ARTIST', 'SONG_TITLE', 'EMOTION', 'X_FREQUENCIES', 'SPACE_FREQUENCIES']"
   ]
  },
  {
   "cell_type": "code",
   "execution_count": 555,
   "metadata": {
    "ExecuteTime": {
     "end_time": "2018-05-15T16:21:45.838650Z",
     "start_time": "2018-05-15T16:21:45.832329Z"
    }
   },
   "outputs": [
    {
     "name": "stdout",
     "output_type": "stream",
     "text": [
      "38\n"
     ]
    }
   ],
   "source": [
    "print(len(dataset.columns))"
   ]
  },
  {
   "cell_type": "code",
   "execution_count": 556,
   "metadata": {
    "ExecuteTime": {
     "end_time": "2018-05-15T16:21:46.217355Z",
     "start_time": "2018-05-15T16:21:46.183505Z"
    },
    "scrolled": true
   },
   "outputs": [
    {
     "data": {
      "text/html": [
       "<div>\n",
       "<style scoped>\n",
       "    .dataframe tbody tr th:only-of-type {\n",
       "        vertical-align: middle;\n",
       "    }\n",
       "\n",
       "    .dataframe tbody tr th {\n",
       "        vertical-align: top;\n",
       "    }\n",
       "\n",
       "    .dataframe thead th {\n",
       "        text-align: right;\n",
       "    }\n",
       "</style>\n",
       "<table border=\"1\" class=\"dataframe\">\n",
       "  <thead>\n",
       "    <tr style=\"text-align: right;\">\n",
       "      <th></th>\n",
       "      <th>Unnamed: 0</th>\n",
       "      <th>ID</th>\n",
       "      <th>ARTIST</th>\n",
       "      <th>SONG_TITLE</th>\n",
       "      <th>LYRICS_VECTOR</th>\n",
       "      <th>TITLE_VECTOR</th>\n",
       "      <th>LINE_COUNT</th>\n",
       "      <th>WORD_COUNT</th>\n",
       "      <th>ECHOISMS</th>\n",
       "      <th>SELFISH_DEGREE</th>\n",
       "      <th>...</th>\n",
       "      <th>PROPN_FREQUENCIES</th>\n",
       "      <th>PUNCT_FREQUENCIES</th>\n",
       "      <th>SCONJ_FREQUENCIES</th>\n",
       "      <th>SYM_FREQUENCIES</th>\n",
       "      <th>VERB_FREQUENCIES</th>\n",
       "      <th>X_FREQUENCIES</th>\n",
       "      <th>SPACE_FREQUENCIES</th>\n",
       "      <th>SENTIMENT</th>\n",
       "      <th>SUBJECTIVITY</th>\n",
       "      <th>EMOTION</th>\n",
       "    </tr>\n",
       "  </thead>\n",
       "  <tbody>\n",
       "    <tr>\n",
       "      <th>0</th>\n",
       "      <td>0</td>\n",
       "      <td>0</td>\n",
       "      <td>George Michael</td>\n",
       "      <td>I Want Your Sex</td>\n",
       "      <td>[-5.66669777e-02  1.93739146e-01 -2.36738548e-...</td>\n",
       "      <td>[-4.32439968e-02  2.35226482e-01 -3.88222516e-...</td>\n",
       "      <td>71</td>\n",
       "      <td>368</td>\n",
       "      <td>0.000000</td>\n",
       "      <td>0.317647</td>\n",
       "      <td>...</td>\n",
       "      <td>0.005435</td>\n",
       "      <td>0.040761</td>\n",
       "      <td>0.0</td>\n",
       "      <td>0.0</td>\n",
       "      <td>0.334239</td>\n",
       "      <td>0.0</td>\n",
       "      <td>0.000000</td>\n",
       "      <td>0.194792</td>\n",
       "      <td>0.497917</td>\n",
       "      <td>happy</td>\n",
       "    </tr>\n",
       "    <tr>\n",
       "      <th>1</th>\n",
       "      <td>1</td>\n",
       "      <td>1</td>\n",
       "      <td>Rob Zombie</td>\n",
       "      <td>Pussy Liquor</td>\n",
       "      <td>[-1.04138955e-01  1.12780936e-01 -1.97507262e-...</td>\n",
       "      <td>[-2.96456993e-01 -4.45510000e-01  1.91705018e-...</td>\n",
       "      <td>70</td>\n",
       "      <td>353</td>\n",
       "      <td>0.000000</td>\n",
       "      <td>0.488372</td>\n",
       "      <td>...</td>\n",
       "      <td>0.042493</td>\n",
       "      <td>0.186969</td>\n",
       "      <td>0.0</td>\n",
       "      <td>0.0</td>\n",
       "      <td>0.274788</td>\n",
       "      <td>0.0</td>\n",
       "      <td>0.000000</td>\n",
       "      <td>-0.432963</td>\n",
       "      <td>0.623796</td>\n",
       "      <td>angry</td>\n",
       "    </tr>\n",
       "    <tr>\n",
       "      <th>2</th>\n",
       "      <td>2</td>\n",
       "      <td>2</td>\n",
       "      <td>Katatonia</td>\n",
       "      <td>12</td>\n",
       "      <td>[ 2.06664652e-02  1.38426125e-01 -1.25962764e-...</td>\n",
       "      <td>[-4.9697e-01  7.5841e-01  5.5408e-01 -2.1904e-...</td>\n",
       "      <td>20</td>\n",
       "      <td>88</td>\n",
       "      <td>0.000000</td>\n",
       "      <td>0.400000</td>\n",
       "      <td>...</td>\n",
       "      <td>0.022727</td>\n",
       "      <td>0.000000</td>\n",
       "      <td>0.0</td>\n",
       "      <td>0.0</td>\n",
       "      <td>0.215909</td>\n",
       "      <td>0.0</td>\n",
       "      <td>0.000000</td>\n",
       "      <td>0.083333</td>\n",
       "      <td>0.570833</td>\n",
       "      <td>sad</td>\n",
       "    </tr>\n",
       "    <tr>\n",
       "      <th>3</th>\n",
       "      <td>3</td>\n",
       "      <td>3</td>\n",
       "      <td>Bing Crosby</td>\n",
       "      <td>Swinging On A Star</td>\n",
       "      <td>[-5.10253236e-02  1.10397667e-01 -1.82846352e-...</td>\n",
       "      <td>[ 2.16670498e-01  5.32097518e-02 -1.99138999e-...</td>\n",
       "      <td>36</td>\n",
       "      <td>285</td>\n",
       "      <td>0.000000</td>\n",
       "      <td>0.000000</td>\n",
       "      <td>...</td>\n",
       "      <td>0.000000</td>\n",
       "      <td>0.024561</td>\n",
       "      <td>0.0</td>\n",
       "      <td>0.0</td>\n",
       "      <td>0.252632</td>\n",
       "      <td>0.0</td>\n",
       "      <td>0.000000</td>\n",
       "      <td>-0.063312</td>\n",
       "      <td>0.628247</td>\n",
       "      <td>happy</td>\n",
       "    </tr>\n",
       "    <tr>\n",
       "      <th>4</th>\n",
       "      <td>4</td>\n",
       "      <td>4</td>\n",
       "      <td>Ludacris</td>\n",
       "      <td>Get Back</td>\n",
       "      <td>[-4.41129357e-02  1.29719913e-01 -1.68546975e-...</td>\n",
       "      <td>[ 4.08100039e-02  1.84709996e-01 -3.87395024e-...</td>\n",
       "      <td>92</td>\n",
       "      <td>773</td>\n",
       "      <td>0.020699</td>\n",
       "      <td>0.363636</td>\n",
       "      <td>...</td>\n",
       "      <td>0.055627</td>\n",
       "      <td>0.107374</td>\n",
       "      <td>0.0</td>\n",
       "      <td>0.0</td>\n",
       "      <td>0.240621</td>\n",
       "      <td>0.0</td>\n",
       "      <td>0.006468</td>\n",
       "      <td>-0.002072</td>\n",
       "      <td>0.353314</td>\n",
       "      <td>angry</td>\n",
       "    </tr>\n",
       "  </tbody>\n",
       "</table>\n",
       "<p>5 rows × 38 columns</p>\n",
       "</div>"
      ],
      "text/plain": [
       "   Unnamed: 0  ID          ARTIST          SONG_TITLE  \\\n",
       "0           0   0  George Michael     I Want Your Sex   \n",
       "1           1   1      Rob Zombie        Pussy Liquor   \n",
       "2           2   2       Katatonia                  12   \n",
       "3           3   3     Bing Crosby  Swinging On A Star   \n",
       "4           4   4        Ludacris            Get Back   \n",
       "\n",
       "                                       LYRICS_VECTOR  \\\n",
       "0  [-5.66669777e-02  1.93739146e-01 -2.36738548e-...   \n",
       "1  [-1.04138955e-01  1.12780936e-01 -1.97507262e-...   \n",
       "2  [ 2.06664652e-02  1.38426125e-01 -1.25962764e-...   \n",
       "3  [-5.10253236e-02  1.10397667e-01 -1.82846352e-...   \n",
       "4  [-4.41129357e-02  1.29719913e-01 -1.68546975e-...   \n",
       "\n",
       "                                        TITLE_VECTOR  LINE_COUNT  WORD_COUNT  \\\n",
       "0  [-4.32439968e-02  2.35226482e-01 -3.88222516e-...          71         368   \n",
       "1  [-2.96456993e-01 -4.45510000e-01  1.91705018e-...          70         353   \n",
       "2  [-4.9697e-01  7.5841e-01  5.5408e-01 -2.1904e-...          20          88   \n",
       "3  [ 2.16670498e-01  5.32097518e-02 -1.99138999e-...          36         285   \n",
       "4  [ 4.08100039e-02  1.84709996e-01 -3.87395024e-...          92         773   \n",
       "\n",
       "   ECHOISMS  SELFISH_DEGREE   ...     PROPN_FREQUENCIES  PUNCT_FREQUENCIES  \\\n",
       "0  0.000000        0.317647   ...              0.005435           0.040761   \n",
       "1  0.000000        0.488372   ...              0.042493           0.186969   \n",
       "2  0.000000        0.400000   ...              0.022727           0.000000   \n",
       "3  0.000000        0.000000   ...              0.000000           0.024561   \n",
       "4  0.020699        0.363636   ...              0.055627           0.107374   \n",
       "\n",
       "   SCONJ_FREQUENCIES  SYM_FREQUENCIES  VERB_FREQUENCIES  X_FREQUENCIES  \\\n",
       "0                0.0              0.0          0.334239            0.0   \n",
       "1                0.0              0.0          0.274788            0.0   \n",
       "2                0.0              0.0          0.215909            0.0   \n",
       "3                0.0              0.0          0.252632            0.0   \n",
       "4                0.0              0.0          0.240621            0.0   \n",
       "\n",
       "   SPACE_FREQUENCIES  SENTIMENT  SUBJECTIVITY  EMOTION  \n",
       "0           0.000000   0.194792      0.497917    happy  \n",
       "1           0.000000  -0.432963      0.623796    angry  \n",
       "2           0.000000   0.083333      0.570833      sad  \n",
       "3           0.000000  -0.063312      0.628247    happy  \n",
       "4           0.006468  -0.002072      0.353314    angry  \n",
       "\n",
       "[5 rows x 38 columns]"
      ]
     },
     "execution_count": 556,
     "metadata": {},
     "output_type": "execute_result"
    }
   ],
   "source": [
    "dataset.head(5)"
   ]
  },
  {
   "cell_type": "code",
   "execution_count": 12,
   "metadata": {
    "ExecuteTime": {
     "end_time": "2018-04-26T12:11:35.281400Z",
     "start_time": "2018-04-26T12:11:30.508174Z"
    },
    "deletable": false,
    "editable": false,
    "run_control": {
     "frozen": true
    },
    "scrolled": true
   },
   "outputs": [
    {
     "data": {
      "image/png": "[encoded data removed]",
      "text/plain": [
       "<Figure size 1800x2880 with 29 Axes>"
      ]
     },
     "metadata": {},
     "output_type": "display_data"
    }
   ],
   "source": [
    "tmp_df = dataset.drop(useless_columns + ['LYRICS_VECTOR', 'TITLE_VECTOR'],axis=1)\n",
    "\n",
    "f, axarr = plt.subplots(8, 4, figsize=(25,40))\n",
    "k = 0\n",
    "for feature in tmp_df.columns:\n",
    "    (i, j) = divmod(k, 4)\n",
    "    axarr[i,j] = sns.boxplot(y=tmp_df[feature], ax=axarr[i,j])\n",
    "    axarr[i,j].set_title('Boxplot for {}'.format(feature), fontsize=16, weight='bold')\n",
    "    k += 1\n",
    "plt.tight_layout()\n",
    "f.delaxes(axarr[-1,-1])\n",
    "f.delaxes(axarr[-1,-2])\n",
    "f.delaxes(axarr[-1,-3])"
   ]
  },
  {
   "cell_type": "markdown",
   "metadata": {},
   "source": [
    "## Feature Selection"
   ]
  },
  {
   "cell_type": "code",
   "execution_count": 557,
   "metadata": {
    "ExecuteTime": {
     "end_time": "2018-05-15T16:21:47.944052Z",
     "start_time": "2018-05-15T16:21:47.937356Z"
    }
   },
   "outputs": [],
   "source": [
    "selected_columns = [\n",
    "   'LYRICS_VECTOR',\n",
    "   #'WORD_COUNT', \n",
    "   'ECHOISMS',\n",
    "   #'SELFISH_DEGREE', \n",
    "   'DUPLICATE_LINES', 'IS_TITLE_IN_LYRICS', \n",
    "   'VERB_PRESENT', \n",
    "   'VERB_PAST', 'VERB_FUTURE', 'ADJ_FREQUENCIES',\n",
    "   'PUNCT_FREQUENCIES',\n",
    "   'SENTIMENT', 'SUBJECTIVITY',\n",
    "   'EMOTION'\n",
    "]"
   ]
  },
  {
   "cell_type": "code",
   "execution_count": 558,
   "metadata": {
    "ExecuteTime": {
     "end_time": "2018-05-15T16:21:48.355985Z",
     "start_time": "2018-05-15T16:21:48.348898Z"
    }
   },
   "outputs": [],
   "source": [
    "dataset = dataset[selected_columns]\n",
    "extra_test = extra_test[selected_columns]"
   ]
  },
  {
   "cell_type": "code",
   "execution_count": 559,
   "metadata": {
    "ExecuteTime": {
     "end_time": "2018-05-15T16:21:51.822672Z",
     "start_time": "2018-05-15T16:21:50.649360Z"
    }
   },
   "outputs": [],
   "source": [
    "tmp_df = dataset.drop(['EMOTION'], axis=1)\n",
    "X_vect = list()\n",
    "for (i, row) in tmp_df.iterrows():\n",
    "    sub_list = list()\n",
    "    for field in row:\n",
    "        if type(field) == str:\n",
    "            field = field[1:-1].split()\n",
    "            sub_list += [float(x.replace('\\n','')) for x in field]\n",
    "        else:\n",
    "            sub_list.append(field)\n",
    "    X_vect.append(np.array(sub_list))\n",
    "X_vect = np.array(X_vect)"
   ]
  },
  {
   "cell_type": "code",
   "execution_count": 537,
   "metadata": {
    "ExecuteTime": {
     "end_time": "2018-05-15T16:15:28.729611Z",
     "start_time": "2018-05-15T16:15:28.118332Z"
    }
   },
   "outputs": [
    {
     "data": {
      "image/png": "[encoded data removed]",
      "text/plain": [
       "<Figure size 432x288 with 1 Axes>"
      ]
     },
     "metadata": {},
     "output_type": "display_data"
    }
   ],
   "source": [
    "plot_pca_exp_var(X_vect[:,:300], 300)"
   ]
  },
  {
   "cell_type": "code",
   "execution_count": 538,
   "metadata": {
    "ExecuteTime": {
     "end_time": "2018-05-15T16:15:29.435271Z",
     "start_time": "2018-05-15T16:15:28.742164Z"
    }
   },
   "outputs": [],
   "source": [
    "pca = PCA(n_components=195)\n",
    "X_vect_pca = pca.fit_transform(X_vect[:,:300])\n",
    "X_vect = np.hstack([X_vect_pca, X_vect[:, 300:]])"
   ]
  },
  {
   "cell_type": "code",
   "execution_count": 560,
   "metadata": {
    "ExecuteTime": {
     "end_time": "2018-05-15T16:21:56.920529Z",
     "start_time": "2018-05-15T16:21:56.916792Z"
    }
   },
   "outputs": [],
   "source": [
    "y = dataset['EMOTION'].as_matrix().T"
   ]
  },
  {
   "cell_type": "code",
   "execution_count": 561,
   "metadata": {
    "ExecuteTime": {
     "end_time": "2018-05-15T16:21:57.165017Z",
     "start_time": "2018-05-15T16:21:57.159048Z"
    }
   },
   "outputs": [
    {
     "name": "stdout",
     "output_type": "stream",
     "text": [
      "(4378, 310)\n",
      "(4378,)\n"
     ]
    }
   ],
   "source": [
    "print(X_vect.shape)\n",
    "print(y.shape)"
   ]
  },
  {
   "cell_type": "code",
   "execution_count": 541,
   "metadata": {
    "ExecuteTime": {
     "end_time": "2018-05-15T16:15:35.609928Z",
     "start_time": "2018-05-15T16:15:35.601579Z"
    }
   },
   "outputs": [],
   "source": [
    "from sklearn.model_selection import train_test_split\n",
    "X_train, X_test, y_train, y_test = train_test_split(X_vect, y, test_size = 0.1, random_state = 13)"
   ]
  },
  {
   "cell_type": "markdown",
   "metadata": {},
   "source": [
    "### Extra test set"
   ]
  },
  {
   "cell_type": "code",
   "execution_count": 519,
   "metadata": {
    "ExecuteTime": {
     "end_time": "2018-05-15T16:13:00.655205Z",
     "start_time": "2018-05-15T16:13:00.630659Z"
    }
   },
   "outputs": [],
   "source": [
    "tmp_df = extra_test.drop(['EMOTION'], axis=1)\n",
    "X_test_extra = list()\n",
    "for (i, row) in tmp_df.iterrows():\n",
    "    sub_list = list()\n",
    "    for field in row:\n",
    "        if type(field) == str:\n",
    "            field = field[1:-1].split()\n",
    "            sub_list += [float(x.replace('\\n','')) for x in field]\n",
    "        else:\n",
    "            sub_list.append(field)\n",
    "    X_test_extra.append(np.array(sub_list))\n",
    "X_test_extra = np.array(X_test_extra)"
   ]
  },
  {
   "cell_type": "code",
   "execution_count": 446,
   "metadata": {
    "ExecuteTime": {
     "end_time": "2018-05-15T15:51:07.652450Z",
     "start_time": "2018-05-15T15:51:07.649067Z"
    }
   },
   "outputs": [],
   "source": [
    "y_test_extra = extra_test['EMOTION'].as_matrix().T"
   ]
  },
  {
   "cell_type": "markdown",
   "metadata": {},
   "source": [
    "# Dimensionality Reduction"
   ]
  },
  {
   "cell_type": "code",
   "execution_count": 455,
   "metadata": {
    "ExecuteTime": {
     "end_time": "2018-05-15T15:52:13.709466Z",
     "start_time": "2018-05-15T15:52:13.236782Z"
    }
   },
   "outputs": [
    {
     "data": {
      "image/png": "[encoded data removed]",
      "text/plain": [
       "<Figure size 432x288 with 1 Axes>"
      ]
     },
     "metadata": {},
     "output_type": "display_data"
    }
   ],
   "source": [
    "plot_pca_exp_var(X_train_nn, X_train_nn.shape[1])"
   ]
  },
  {
   "cell_type": "code",
   "execution_count": 462,
   "metadata": {
    "ExecuteTime": {
     "end_time": "2018-05-15T15:54:18.638308Z",
     "start_time": "2018-05-15T15:54:18.077538Z"
    }
   },
   "outputs": [],
   "source": [
    "pca = PCA(n_components=216)\n",
    "X_train_pca = pca.fit_transform(X_train_nn)\n",
    "X_test_pca = pca.transform(X_test_nn)\n",
    "X_test_extra_pca = pca.transform(X_test_extra_nn)"
   ]
  },
  {
   "cell_type": "markdown",
   "metadata": {},
   "source": [
    "# Classification"
   ]
  },
  {
   "cell_type": "markdown",
   "metadata": {},
   "source": [
    "## Artificial Neural Network"
   ]
  },
  {
   "cell_type": "code",
   "execution_count": 542,
   "metadata": {
    "ExecuteTime": {
     "end_time": "2018-05-15T16:15:39.540401Z",
     "start_time": "2018-05-15T16:15:39.516095Z"
    }
   },
   "outputs": [],
   "source": [
    "from keras.utils import np_utils\n",
    "\n",
    "## Encode outputs\n",
    "\n",
    "encoder = LabelEncoder()\n",
    "\n",
    "encoder.fit(y_train)\n",
    "\n",
    "encoded_Y = encoder.transform(y)\n",
    "encoded_Y_train = encoder.transform(y_train)\n",
    "encoded_Y_test = encoder.transform(y_test)\n",
    "encoded_Y_test_extra = encoder.transform(y_test_extra)\n",
    "y_nn = np_utils.to_categorical(encoded_Y)\n",
    "y_train_nn = np_utils.to_categorical(encoded_Y_train)\n",
    "y_test_nn = np_utils.to_categorical(encoded_Y_test)\n",
    "y_test_extra_nn = np_utils.to_categorical(encoded_Y_test_extra)"
   ]
  },
  {
   "cell_type": "code",
   "execution_count": 543,
   "metadata": {
    "ExecuteTime": {
     "end_time": "2018-05-15T16:15:39.724982Z",
     "start_time": "2018-05-15T16:15:39.720770Z"
    }
   },
   "outputs": [
    {
     "name": "stderr",
     "output_type": "stream",
     "text": [
      "/usr/local/lib/python3.5/dist-packages/sklearn/preprocessing/label.py:171: DeprecationWarning: The truth value of an empty array is ambiguous. Returning False, but in future this will result in an error. Use `array.size > 0` to check that an array is not empty.\n",
      "  if diff:\n"
     ]
    }
   ],
   "source": [
    "cm_labels = encoder.inverse_transform([0, 1, 2, 3])"
   ]
  },
  {
   "cell_type": "code",
   "execution_count": 562,
   "metadata": {
    "ExecuteTime": {
     "end_time": "2018-05-15T16:22:05.589487Z",
     "start_time": "2018-05-15T16:22:05.552911Z"
    }
   },
   "outputs": [],
   "source": [
    "from sklearn.preprocessing import StandardScaler, MinMaxScaler, RobustScaler\n",
    "\n",
    "## Scale inputs\n",
    "\n",
    "sc = StandardScaler()#MinMaxScaler(feature_range=(0,1))\n",
    "\n",
    "sc.fit(X_vect)\n",
    "\n",
    "X_vect_nn = sc.transform(X_vect)\n",
    "#X_train_nn = sc.transform(X_train)\n",
    "#X_test_nn = sc.transform(X_test)\n",
    "#X_test_extra_nn = sc.transform(X_test_extra)"
   ]
  },
  {
   "cell_type": "code",
   "execution_count": 566,
   "metadata": {
    "ExecuteTime": {
     "end_time": "2018-05-15T16:29:12.212804Z",
     "start_time": "2018-05-15T16:29:12.150136Z"
    }
   },
   "outputs": [],
   "source": [
    "import keras\n",
    "from keras.models import Sequential\n",
    "from keras.layers import Dense, Dropout\n",
    "from keras.optimizers import SGD\n",
    "    \n",
    "from sklearn.utils import class_weight\n",
    "    \n",
    "def build_ann(optimizer='adam', input_size=X_vect_nn.shape[1]):\n",
    "    classifier = Sequential()\n",
    "    \n",
    "    # Add input layer\n",
    "    classifier = Sequential()\n",
    "    # Add input layer\n",
    "    classifier.add(Dense(units = 175, kernel_initializer = 'random_normal', activation = 'sigmoid', input_dim = input_size))\n",
    "    classifier.add(Dropout(0.1))\n",
    "    \n",
    "    # Add hidden layers\n",
    "    classifier.add(Dense(units = 175, kernel_initializer = 'random_normal', activation = 'sigmoid'))\n",
    "    classifier.add(Dropout(0.1))\n",
    "                \n",
    "    #classifier.add(Dense(units = 150, kernel_initializer = 'random_normal', activation = 'sigmoid'))\n",
    "    #classifier.add(Dropout(0.5))\n",
    "        \n",
    "    # Add output layer\n",
    "    classifier.add(Dense(units = 4, kernel_initializer = 'random_normal', activation = 'softmax'))\n",
    "    \n",
    "    # Compiling the ANN\n",
    "    classifier.compile(optimizer=optimizer, loss = 'categorical_crossentropy', metrics = ['accuracy'])\n",
    "\n",
    "    return classifier"
   ]
  },
  {
   "cell_type": "code",
   "execution_count": 568,
   "metadata": {
    "ExecuteTime": {
     "end_time": "2018-05-15T16:30:42.370384Z",
     "start_time": "2018-05-15T16:30:18.535828Z"
    }
   },
   "outputs": [
    {
     "data": {
      "text/plain": [
       "<keras.callbacks.History at 0x7fccf73b39e8>"
      ]
     },
     "execution_count": 568,
     "metadata": {},
     "output_type": "execute_result"
    }
   ],
   "source": [
    "from keras.callbacks import EarlyStopping\n",
    "\n",
    "classifier = build_ann('adam', X_vect_nn.shape[1])\n",
    "early_stop = EarlyStopping(monitor='val_acc', min_delta=1e-3, patience=5, verbose=1, mode='auto')\n",
    "\n",
    "classifier.fit(X_vect_nn, y_nn, batch_size = 128, epochs = 100, \n",
    "               validation_split=0.1, verbose=False)"
   ]
  },
  {
   "cell_type": "code",
   "execution_count": 569,
   "metadata": {
    "ExecuteTime": {
     "end_time": "2018-05-15T16:30:58.199358Z",
     "start_time": "2018-05-15T16:30:55.851665Z"
    }
   },
   "outputs": [],
   "source": [
    "classifier.save('test.h5')"
   ]
  },
  {
   "cell_type": "code",
   "execution_count": 465,
   "metadata": {
    "ExecuteTime": {
     "end_time": "2018-05-15T15:54:34.063098Z",
     "start_time": "2018-05-15T15:54:32.922998Z"
    },
    "scrolled": true
   },
   "outputs": [],
   "source": [
    "y_pred = classifier.predict(X_test_pca)\n",
    "y_pred = np.argmax(y_pred,axis=1)"
   ]
  },
  {
   "cell_type": "code",
   "execution_count": 466,
   "metadata": {
    "ExecuteTime": {
     "end_time": "2018-05-15T15:54:34.423097Z",
     "start_time": "2018-05-15T15:54:34.069421Z"
    },
    "scrolled": true
   },
   "outputs": [
    {
     "name": "stdout",
     "output_type": "stream",
     "text": [
      "Accuracy: 68.72\n"
     ]
    },
    {
     "data": {
      "image/png": "[encoded data removed]",
      "text/plain": [
       "<Figure size 432x288 with 2 Axes>"
      ]
     },
     "metadata": {},
     "output_type": "display_data"
    }
   ],
   "source": [
    "cm = confusion_matrix(encoded_Y_test, y_pred)\n",
    "plot_confusion_matrix(cm, classes=cm_labels)\n",
    "accuracy = (sum([cm[i,i] for i in range(len(cm))])) / len(y_pred)\n",
    "print('Accuracy: %0.2f' % (accuracy*100))"
   ]
  },
  {
   "cell_type": "code",
   "execution_count": 564,
   "metadata": {
    "ExecuteTime": {
     "end_time": "2018-05-15T16:24:54.878279Z",
     "start_time": "2018-05-15T16:22:13.138514Z"
    },
    "scrolled": true
   },
   "outputs": [
    {
     "name": "stdout",
     "output_type": "stream",
     "text": [
      "Epoch 1/100\n",
      "3502/3502 [==============================] - 4s 1ms/step - loss: 1.2390 - acc: 0.4615\n",
      "Epoch 2/100\n",
      "3502/3502 [==============================] - 0s 61us/step - loss: 0.9493 - acc: 0.6296\n",
      "Epoch 3/100\n",
      "3502/3502 [==============================] - 0s 60us/step - loss: 0.8075 - acc: 0.6859\n",
      "Epoch 4/100\n",
      "3502/3502 [==============================] - 0s 60us/step - loss: 0.7334 - acc: 0.7090\n",
      "Epoch 5/100\n",
      "3502/3502 [==============================] - 0s 57us/step - loss: 0.6848 - acc: 0.7347\n",
      "Epoch 6/100\n",
      "3502/3502 [==============================] - 0s 59us/step - loss: 0.6552 - acc: 0.7410\n",
      "Epoch 7/100\n",
      "3502/3502 [==============================] - 0s 58us/step - loss: 0.6336 - acc: 0.7567\n",
      "Epoch 8/100\n",
      "3502/3502 [==============================] - 0s 60us/step - loss: 0.6153 - acc: 0.7658\n",
      "Epoch 9/100\n",
      "3502/3502 [==============================] - 0s 58us/step - loss: 0.5989 - acc: 0.7738\n",
      "Epoch 10/100\n",
      "3502/3502 [==============================] - 0s 56us/step - loss: 0.5867 - acc: 0.7816\n",
      "Epoch 11/100\n",
      "3502/3502 [==============================] - 0s 62us/step - loss: 0.5743 - acc: 0.7895\n",
      "Epoch 12/100\n",
      "3502/3502 [==============================] - 0s 62us/step - loss: 0.5704 - acc: 0.7878\n",
      "Epoch 13/100\n",
      "3502/3502 [==============================] - 0s 62us/step - loss: 0.5604 - acc: 0.7838\n",
      "Epoch 14/100\n",
      "3502/3502 [==============================] - 0s 67us/step - loss: 0.5493 - acc: 0.8027\n",
      "Epoch 15/100\n",
      "3502/3502 [==============================] - 0s 60us/step - loss: 0.5453 - acc: 0.7953\n",
      "Epoch 16/100\n",
      "3502/3502 [==============================] - 0s 60us/step - loss: 0.5321 - acc: 0.8038\n",
      "Epoch 17/100\n",
      "3502/3502 [==============================] - 0s 68us/step - loss: 0.5243 - acc: 0.8073\n",
      "Epoch 18/100\n",
      "3502/3502 [==============================] - 0s 64us/step - loss: 0.5172 - acc: 0.8087\n",
      "Epoch 19/100\n",
      "3502/3502 [==============================] - 0s 64us/step - loss: 0.5197 - acc: 0.8061\n",
      "Epoch 20/100\n",
      "3502/3502 [==============================] - 0s 71us/step - loss: 0.5136 - acc: 0.8115\n",
      "Epoch 21/100\n",
      "3502/3502 [==============================] - 0s 73us/step - loss: 0.4937 - acc: 0.8192\n",
      "Epoch 22/100\n",
      "3502/3502 [==============================] - 0s 73us/step - loss: 0.4978 - acc: 0.8138\n",
      "Epoch 23/100\n",
      "3502/3502 [==============================] - 0s 66us/step - loss: 0.4876 - acc: 0.8204\n",
      "Epoch 24/100\n",
      "3502/3502 [==============================] - 0s 61us/step - loss: 0.4862 - acc: 0.8235\n",
      "Epoch 25/100\n",
      "3502/3502 [==============================] - 0s 59us/step - loss: 0.4859 - acc: 0.8158\n",
      "Epoch 26/100\n",
      "3502/3502 [==============================] - 0s 61us/step - loss: 0.4731 - acc: 0.8238\n",
      "Epoch 27/100\n",
      "3502/3502 [==============================] - 0s 64us/step - loss: 0.4713 - acc: 0.8292\n",
      "Epoch 28/100\n",
      "3502/3502 [==============================] - 0s 59us/step - loss: 0.4623 - acc: 0.8281\n",
      "Epoch 29/100\n",
      "3502/3502 [==============================] - 0s 63us/step - loss: 0.4618 - acc: 0.8244\n",
      "Epoch 30/100\n",
      "3502/3502 [==============================] - 0s 62us/step - loss: 0.4544 - acc: 0.8361\n",
      "Epoch 31/100\n",
      "3502/3502 [==============================] - 0s 64us/step - loss: 0.4496 - acc: 0.8324\n",
      "Epoch 32/100\n",
      "3502/3502 [==============================] - 0s 59us/step - loss: 0.4421 - acc: 0.8344\n",
      "Epoch 33/100\n",
      "3502/3502 [==============================] - 0s 63us/step - loss: 0.4362 - acc: 0.8415\n",
      "Epoch 34/100\n",
      "3502/3502 [==============================] - 0s 62us/step - loss: 0.4330 - acc: 0.8389\n",
      "Epoch 35/100\n",
      "3502/3502 [==============================] - 0s 66us/step - loss: 0.4291 - acc: 0.8449\n",
      "Epoch 36/100\n",
      "3502/3502 [==============================] - 0s 62us/step - loss: 0.4257 - acc: 0.8438\n",
      "Epoch 37/100\n",
      "3502/3502 [==============================] - 0s 66us/step - loss: 0.4139 - acc: 0.8495\n",
      "Epoch 38/100\n",
      "3502/3502 [==============================] - 0s 62us/step - loss: 0.4152 - acc: 0.8487\n",
      "Epoch 39/100\n",
      "3502/3502 [==============================] - 0s 60us/step - loss: 0.4031 - acc: 0.8544\n",
      "Epoch 40/100\n",
      "3502/3502 [==============================] - 0s 64us/step - loss: 0.3977 - acc: 0.8612\n",
      "Epoch 41/100\n",
      "3502/3502 [==============================] - 0s 62us/step - loss: 0.3946 - acc: 0.8564\n",
      "Epoch 42/100\n",
      "3502/3502 [==============================] - 0s 63us/step - loss: 0.3929 - acc: 0.8592\n",
      "Epoch 43/100\n",
      "3502/3502 [==============================] - 0s 64us/step - loss: 0.3881 - acc: 0.8549\n",
      "Epoch 44/100\n",
      "3502/3502 [==============================] - 0s 67us/step - loss: 0.3869 - acc: 0.8604\n",
      "Epoch 45/100\n",
      "3502/3502 [==============================] - 0s 63us/step - loss: 0.3841 - acc: 0.8592\n",
      "Epoch 46/100\n",
      "3502/3502 [==============================] - 0s 64us/step - loss: 0.3736 - acc: 0.8672\n",
      "Epoch 47/100\n",
      "3502/3502 [==============================] - 0s 63us/step - loss: 0.3608 - acc: 0.8666\n",
      "Epoch 48/100\n",
      "3502/3502 [==============================] - 0s 69us/step - loss: 0.3643 - acc: 0.8718\n",
      "Epoch 49/100\n",
      "3502/3502 [==============================] - 0s 61us/step - loss: 0.3469 - acc: 0.8781\n",
      "Epoch 50/100\n",
      "3502/3502 [==============================] - 0s 66us/step - loss: 0.3508 - acc: 0.8761\n",
      "Epoch 51/100\n",
      "3502/3502 [==============================] - 0s 62us/step - loss: 0.3451 - acc: 0.8778\n",
      "Epoch 52/100\n",
      "3502/3502 [==============================] - 0s 62us/step - loss: 0.3386 - acc: 0.8801\n",
      "Epoch 53/100\n",
      "3502/3502 [==============================] - 0s 65us/step - loss: 0.3299 - acc: 0.8826\n",
      "Epoch 54/100\n",
      "3502/3502 [==============================] - 0s 67us/step - loss: 0.3230 - acc: 0.8829\n",
      "Epoch 55/100\n",
      "3502/3502 [==============================] - 0s 62us/step - loss: 0.3099 - acc: 0.8872\n",
      "Epoch 56/100\n",
      "3502/3502 [==============================] - 0s 62us/step - loss: 0.3110 - acc: 0.8906\n",
      "Epoch 57/100\n",
      "3502/3502 [==============================] - 0s 68us/step - loss: 0.3054 - acc: 0.8901\n",
      "Epoch 58/100\n",
      "3502/3502 [==============================] - 0s 65us/step - loss: 0.3006 - acc: 0.8938\n",
      "Epoch 59/100\n",
      "3502/3502 [==============================] - 0s 64us/step - loss: 0.3050 - acc: 0.8921\n",
      "Epoch 60/100\n",
      "3502/3502 [==============================] - 0s 65us/step - loss: 0.2977 - acc: 0.8969\n",
      "Epoch 61/100\n",
      "3502/3502 [==============================] - 0s 65us/step - loss: 0.2885 - acc: 0.9018\n",
      "Epoch 62/100\n",
      "3502/3502 [==============================] - 0s 65us/step - loss: 0.2889 - acc: 0.8961\n",
      "Epoch 63/100\n",
      "3502/3502 [==============================] - 0s 66us/step - loss: 0.2906 - acc: 0.8975\n",
      "Epoch 64/100\n",
      "3502/3502 [==============================] - 0s 66us/step - loss: 0.2742 - acc: 0.9043\n",
      "Epoch 65/100\n",
      "3502/3502 [==============================] - 0s 63us/step - loss: 0.2662 - acc: 0.9081\n",
      "Epoch 66/100\n",
      "3502/3502 [==============================] - 0s 63us/step - loss: 0.2651 - acc: 0.9098\n",
      "Epoch 67/100\n",
      "3502/3502 [==============================] - 0s 64us/step - loss: 0.2631 - acc: 0.9075\n",
      "Epoch 68/100\n",
      "3502/3502 [==============================] - 0s 64us/step - loss: 0.2505 - acc: 0.9121\n",
      "Epoch 69/100\n",
      "3502/3502 [==============================] - 0s 66us/step - loss: 0.2444 - acc: 0.9135\n",
      "Epoch 70/100\n",
      "3502/3502 [==============================] - 0s 68us/step - loss: 0.2387 - acc: 0.9186\n",
      "Epoch 71/100\n",
      "3502/3502 [==============================] - 0s 67us/step - loss: 0.2387 - acc: 0.9129\n",
      "Epoch 72/100\n",
      "3502/3502 [==============================] - 0s 62us/step - loss: 0.2398 - acc: 0.9175\n",
      "Epoch 73/100\n",
      "3502/3502 [==============================] - 0s 66us/step - loss: 0.2154 - acc: 0.9283\n",
      "Epoch 74/100\n",
      "3502/3502 [==============================] - 0s 64us/step - loss: 0.2183 - acc: 0.9295\n",
      "Epoch 75/100\n",
      "3502/3502 [==============================] - 0s 61us/step - loss: 0.2140 - acc: 0.9255\n",
      "Epoch 76/100\n",
      "3502/3502 [==============================] - 0s 63us/step - loss: 0.2043 - acc: 0.9292\n",
      "Epoch 77/100\n",
      "3502/3502 [==============================] - 0s 64us/step - loss: 0.2040 - acc: 0.9300\n",
      "Epoch 78/100\n",
      "3502/3502 [==============================] - 0s 63us/step - loss: 0.2028 - acc: 0.9306\n",
      "Epoch 79/100\n",
      "3502/3502 [==============================] - 0s 66us/step - loss: 0.1995 - acc: 0.9289\n",
      "Epoch 80/100\n",
      "3502/3502 [==============================] - 0s 65us/step - loss: 0.1934 - acc: 0.9315\n",
      "Epoch 81/100\n",
      "3502/3502 [==============================] - 0s 61us/step - loss: 0.1831 - acc: 0.9389\n",
      "Epoch 82/100\n",
      "3502/3502 [==============================] - 0s 62us/step - loss: 0.1913 - acc: 0.9338\n",
      "Epoch 83/100\n"
     ]
    },
    {
     "name": "stdout",
     "output_type": "stream",
     "text": [
      "3502/3502 [==============================] - 0s 63us/step - loss: 0.1796 - acc: 0.9377\n",
      "Epoch 84/100\n",
      "3502/3502 [==============================] - 0s 60us/step - loss: 0.1729 - acc: 0.9352\n",
      "Epoch 85/100\n",
      "3502/3502 [==============================] - 0s 57us/step - loss: 0.1783 - acc: 0.9335\n",
      "Epoch 86/100\n",
      "3502/3502 [==============================] - 0s 58us/step - loss: 0.1716 - acc: 0.9412\n",
      "Epoch 87/100\n",
      "3502/3502 [==============================] - 0s 60us/step - loss: 0.1585 - acc: 0.9440\n",
      "Epoch 88/100\n",
      "3502/3502 [==============================] - 0s 58us/step - loss: 0.1617 - acc: 0.9475\n",
      "Epoch 89/100\n",
      "3502/3502 [==============================] - 0s 56us/step - loss: 0.1602 - acc: 0.9477\n",
      "Epoch 90/100\n",
      "3502/3502 [==============================] - 0s 59us/step - loss: 0.1499 - acc: 0.9492\n",
      "Epoch 91/100\n",
      "3502/3502 [==============================] - 0s 63us/step - loss: 0.1481 - acc: 0.9500\n",
      "Epoch 92/100\n",
      "3502/3502 [==============================] - 0s 61us/step - loss: 0.1466 - acc: 0.9477\n",
      "Epoch 93/100\n",
      "3502/3502 [==============================] - 0s 72us/step - loss: 0.1427 - acc: 0.9512\n",
      "Epoch 94/100\n",
      "3502/3502 [==============================] - 0s 70us/step - loss: 0.1386 - acc: 0.9526\n",
      "Epoch 95/100\n",
      "3502/3502 [==============================] - 0s 64us/step - loss: 0.1344 - acc: 0.9583\n",
      "Epoch 96/100\n",
      "3502/3502 [==============================] - 0s 59us/step - loss: 0.1471 - acc: 0.9520\n",
      "Epoch 97/100\n",
      "3502/3502 [==============================] - 0s 59us/step - loss: 0.1290 - acc: 0.9566\n",
      "Epoch 98/100\n",
      "3502/3502 [==============================] - 0s 63us/step - loss: 0.1244 - acc: 0.9546\n",
      "Epoch 99/100\n",
      "3502/3502 [==============================] - 0s 61us/step - loss: 0.1225 - acc: 0.9606\n",
      "Epoch 100/100\n",
      "3502/3502 [==============================] - 0s 64us/step - loss: 0.1212 - acc: 0.9583\n",
      "876/876 [==============================] - 1s 2ms/step\n",
      "3502/3502 [==============================] - 0s 31us/step\n",
      "Epoch 1/100\n",
      "3502/3502 [==============================] - 3s 966us/step - loss: 1.2299 - acc: 0.4583\n",
      "Epoch 2/100\n",
      "3502/3502 [==============================] - 0s 63us/step - loss: 0.9422 - acc: 0.6436\n",
      "Epoch 3/100\n",
      "3502/3502 [==============================] - 0s 60us/step - loss: 0.7934 - acc: 0.6982\n",
      "Epoch 4/100\n",
      "3502/3502 [==============================] - 0s 61us/step - loss: 0.7102 - acc: 0.7267\n",
      "Epoch 5/100\n",
      "3502/3502 [==============================] - 0s 66us/step - loss: 0.6692 - acc: 0.7384\n",
      "Epoch 6/100\n",
      "3502/3502 [==============================] - 0s 61us/step - loss: 0.6324 - acc: 0.7536\n",
      "Epoch 7/100\n",
      "3502/3502 [==============================] - 0s 62us/step - loss: 0.6143 - acc: 0.7610\n",
      "Epoch 8/100\n",
      "3502/3502 [==============================] - 0s 60us/step - loss: 0.5994 - acc: 0.7690\n",
      "Epoch 9/100\n",
      "3502/3502 [==============================] - 0s 66us/step - loss: 0.5817 - acc: 0.7756\n",
      "Epoch 10/100\n",
      "3502/3502 [==============================] - 0s 68us/step - loss: 0.5719 - acc: 0.7813\n",
      "Epoch 11/100\n",
      "3502/3502 [==============================] - 0s 66us/step - loss: 0.5558 - acc: 0.7873\n",
      "Epoch 12/100\n",
      "3502/3502 [==============================] - 0s 85us/step - loss: 0.5480 - acc: 0.7950\n",
      "Epoch 13/100\n",
      "3502/3502 [==============================] - 0s 60us/step - loss: 0.5387 - acc: 0.7967\n",
      "Epoch 14/100\n",
      "3502/3502 [==============================] - 0s 59us/step - loss: 0.5342 - acc: 0.8035\n",
      "Epoch 15/100\n",
      "3502/3502 [==============================] - 0s 83us/step - loss: 0.5243 - acc: 0.8027\n",
      "Epoch 16/100\n",
      "3502/3502 [==============================] - 0s 66us/step - loss: 0.5206 - acc: 0.8081\n",
      "Epoch 17/100\n",
      "3502/3502 [==============================] - 0s 54us/step - loss: 0.5104 - acc: 0.8144\n",
      "Epoch 18/100\n",
      "3502/3502 [==============================] - 0s 52us/step - loss: 0.5069 - acc: 0.8127\n",
      "Epoch 19/100\n",
      "3502/3502 [==============================] - 0s 53us/step - loss: 0.5042 - acc: 0.8158\n",
      "Epoch 20/100\n",
      "3502/3502 [==============================] - 0s 53us/step - loss: 0.4936 - acc: 0.8187\n",
      "Epoch 21/100\n",
      "3502/3502 [==============================] - 0s 52us/step - loss: 0.4874 - acc: 0.8192\n",
      "Epoch 22/100\n",
      "3502/3502 [==============================] - 0s 50us/step - loss: 0.4814 - acc: 0.8270\n",
      "Epoch 23/100\n",
      "3502/3502 [==============================] - 0s 45us/step - loss: 0.4785 - acc: 0.8210\n",
      "Epoch 24/100\n",
      "3502/3502 [==============================] - 0s 49us/step - loss: 0.4693 - acc: 0.8327\n",
      "Epoch 25/100\n",
      "3502/3502 [==============================] - 0s 52us/step - loss: 0.4666 - acc: 0.8358\n",
      "Epoch 26/100\n",
      "3502/3502 [==============================] - 0s 51us/step - loss: 0.4719 - acc: 0.8218\n",
      "Epoch 27/100\n",
      "3502/3502 [==============================] - 0s 46us/step - loss: 0.4535 - acc: 0.8344\n",
      "Epoch 28/100\n",
      "3502/3502 [==============================] - 0s 48us/step - loss: 0.4552 - acc: 0.8321\n",
      "Epoch 29/100\n",
      "3502/3502 [==============================] - 0s 46us/step - loss: 0.4512 - acc: 0.8341\n",
      "Epoch 30/100\n",
      "3502/3502 [==============================] - 0s 52us/step - loss: 0.4426 - acc: 0.8350\n",
      "Epoch 31/100\n",
      "3502/3502 [==============================] - 0s 46us/step - loss: 0.4433 - acc: 0.8395\n",
      "Epoch 32/100\n",
      "3502/3502 [==============================] - 0s 51us/step - loss: 0.4377 - acc: 0.8412\n",
      "Epoch 33/100\n",
      "3502/3502 [==============================] - 0s 48us/step - loss: 0.4294 - acc: 0.8487\n",
      "Epoch 34/100\n",
      "3502/3502 [==============================] - 0s 65us/step - loss: 0.4286 - acc: 0.8449\n",
      "Epoch 35/100\n",
      "3502/3502 [==============================] - 0s 51us/step - loss: 0.4231 - acc: 0.8487\n",
      "Epoch 36/100\n",
      "3502/3502 [==============================] - 0s 49us/step - loss: 0.4171 - acc: 0.8464\n",
      "Epoch 37/100\n",
      "3502/3502 [==============================] - 0s 48us/step - loss: 0.4086 - acc: 0.8521\n",
      "Epoch 38/100\n",
      "3502/3502 [==============================] - 0s 47us/step - loss: 0.4017 - acc: 0.8595\n",
      "Epoch 39/100\n",
      "3502/3502 [==============================] - 0s 48us/step - loss: 0.4023 - acc: 0.8558\n",
      "Epoch 40/100\n",
      "3502/3502 [==============================] - 0s 48us/step - loss: 0.3964 - acc: 0.8589\n",
      "Epoch 41/100\n",
      "3502/3502 [==============================] - 0s 61us/step - loss: 0.3820 - acc: 0.8638\n",
      "Epoch 42/100\n",
      "3502/3502 [==============================] - 0s 75us/step - loss: 0.3820 - acc: 0.8635\n",
      "Epoch 43/100\n",
      "3502/3502 [==============================] - 0s 65us/step - loss: 0.3774 - acc: 0.8632\n",
      "Epoch 44/100\n",
      "3502/3502 [==============================] - 0s 67us/step - loss: 0.3808 - acc: 0.8658\n",
      "Epoch 45/100\n",
      "3502/3502 [==============================] - 0s 72us/step - loss: 0.3636 - acc: 0.8735\n",
      "Epoch 46/100\n",
      "3502/3502 [==============================] - 0s 67us/step - loss: 0.3556 - acc: 0.8735\n",
      "Epoch 47/100\n",
      "3502/3502 [==============================] - 0s 51us/step - loss: 0.3589 - acc: 0.8746\n",
      "Epoch 48/100\n",
      "3502/3502 [==============================] - 0s 49us/step - loss: 0.3490 - acc: 0.8758\n",
      "Epoch 49/100\n",
      "3502/3502 [==============================] - 0s 50us/step - loss: 0.3501 - acc: 0.8715\n",
      "Epoch 50/100\n",
      "3502/3502 [==============================] - 0s 55us/step - loss: 0.3403 - acc: 0.8766\n",
      "Epoch 51/100\n",
      "3502/3502 [==============================] - 0s 52us/step - loss: 0.3377 - acc: 0.8784\n",
      "Epoch 52/100\n",
      "3502/3502 [==============================] - 0s 62us/step - loss: 0.3236 - acc: 0.8878\n",
      "Epoch 53/100\n",
      "3502/3502 [==============================] - 0s 52us/step - loss: 0.3291 - acc: 0.8841\n",
      "Epoch 54/100\n",
      "3502/3502 [==============================] - 0s 60us/step - loss: 0.3182 - acc: 0.8889\n",
      "Epoch 55/100\n",
      "3502/3502 [==============================] - 0s 66us/step - loss: 0.3212 - acc: 0.8821\n",
      "Epoch 56/100\n",
      "3502/3502 [==============================] - 0s 57us/step - loss: 0.3101 - acc: 0.8901\n",
      "Epoch 57/100\n",
      "3502/3502 [==============================] - 0s 52us/step - loss: 0.3109 - acc: 0.8918\n",
      "Epoch 58/100\n",
      "3502/3502 [==============================] - 0s 52us/step - loss: 0.3008 - acc: 0.8963\n",
      "Epoch 59/100\n",
      "3502/3502 [==============================] - 0s 55us/step - loss: 0.2940 - acc: 0.8983\n",
      "Epoch 60/100\n",
      "3502/3502 [==============================] - 0s 51us/step - loss: 0.2879 - acc: 0.8946\n",
      "Epoch 61/100\n",
      "3502/3502 [==============================] - 0s 47us/step - loss: 0.2905 - acc: 0.9018\n",
      "Epoch 62/100\n",
      "3502/3502 [==============================] - 0s 56us/step - loss: 0.2814 - acc: 0.9061\n",
      "Epoch 63/100\n",
      "3502/3502 [==============================] - 0s 47us/step - loss: 0.2688 - acc: 0.9066\n"
     ]
    },
    {
     "name": "stdout",
     "output_type": "stream",
     "text": [
      "Epoch 64/100\n",
      "3502/3502 [==============================] - 0s 46us/step - loss: 0.2672 - acc: 0.9081\n",
      "Epoch 65/100\n",
      "3502/3502 [==============================] - 0s 48us/step - loss: 0.2666 - acc: 0.9115\n",
      "Epoch 66/100\n",
      "3502/3502 [==============================] - 0s 52us/step - loss: 0.2582 - acc: 0.9109\n",
      "Epoch 67/100\n",
      "3502/3502 [==============================] - 0s 54us/step - loss: 0.2496 - acc: 0.9152\n",
      "Epoch 68/100\n",
      "3502/3502 [==============================] - 0s 51us/step - loss: 0.2465 - acc: 0.9138\n",
      "Epoch 69/100\n",
      "3502/3502 [==============================] - 0s 65us/step - loss: 0.2414 - acc: 0.9189\n",
      "Epoch 70/100\n",
      "3502/3502 [==============================] - 0s 63us/step - loss: 0.2464 - acc: 0.9135\n",
      "Epoch 71/100\n",
      "3502/3502 [==============================] - 0s 64us/step - loss: 0.2295 - acc: 0.9209\n",
      "Epoch 72/100\n",
      "3502/3502 [==============================] - 0s 69us/step - loss: 0.2250 - acc: 0.9220\n",
      "Epoch 73/100\n",
      "3502/3502 [==============================] - 0s 53us/step - loss: 0.2306 - acc: 0.9209\n",
      "Epoch 74/100\n",
      "3502/3502 [==============================] - 0s 49us/step - loss: 0.2152 - acc: 0.9243\n",
      "Epoch 75/100\n",
      "3502/3502 [==============================] - 0s 50us/step - loss: 0.2187 - acc: 0.9255\n",
      "Epoch 76/100\n",
      "3502/3502 [==============================] - 0s 46us/step - loss: 0.2074 - acc: 0.9298\n",
      "Epoch 77/100\n",
      "3502/3502 [==============================] - 0s 47us/step - loss: 0.2109 - acc: 0.9275\n",
      "Epoch 78/100\n",
      "3502/3502 [==============================] - 0s 48us/step - loss: 0.2020 - acc: 0.9280\n",
      "Epoch 79/100\n",
      "3502/3502 [==============================] - 0s 51us/step - loss: 0.1869 - acc: 0.9355\n",
      "Epoch 80/100\n",
      "3502/3502 [==============================] - 0s 49us/step - loss: 0.1896 - acc: 0.9363\n",
      "Epoch 81/100\n",
      "3502/3502 [==============================] - 0s 47us/step - loss: 0.1784 - acc: 0.9395\n",
      "Epoch 82/100\n",
      "3502/3502 [==============================] - 0s 58us/step - loss: 0.1801 - acc: 0.9409\n",
      "Epoch 83/100\n",
      "3502/3502 [==============================] - 0s 54us/step - loss: 0.1773 - acc: 0.9435\n",
      "Epoch 84/100\n",
      "3502/3502 [==============================] - 0s 51us/step - loss: 0.1764 - acc: 0.9372\n",
      "Epoch 85/100\n",
      "3502/3502 [==============================] - 0s 48us/step - loss: 0.1747 - acc: 0.9358\n",
      "Epoch 86/100\n",
      "3502/3502 [==============================] - 0s 89us/step - loss: 0.1642 - acc: 0.9466\n",
      "Epoch 87/100\n",
      "3502/3502 [==============================] - 0s 53us/step - loss: 0.1608 - acc: 0.9475\n",
      "Epoch 88/100\n",
      "3502/3502 [==============================] - 0s 51us/step - loss: 0.1537 - acc: 0.9480\n",
      "Epoch 89/100\n",
      "3502/3502 [==============================] - 0s 47us/step - loss: 0.1557 - acc: 0.9435\n",
      "Epoch 90/100\n",
      "3502/3502 [==============================] - 0s 47us/step - loss: 0.1476 - acc: 0.9466\n",
      "Epoch 91/100\n",
      "3502/3502 [==============================] - 0s 47us/step - loss: 0.1423 - acc: 0.9509\n",
      "Epoch 92/100\n",
      "3502/3502 [==============================] - 0s 49us/step - loss: 0.1374 - acc: 0.9523\n",
      "Epoch 93/100\n",
      "3502/3502 [==============================] - 0s 46us/step - loss: 0.1514 - acc: 0.9440\n",
      "Epoch 94/100\n",
      "3502/3502 [==============================] - 0s 48us/step - loss: 0.1459 - acc: 0.9506\n",
      "Epoch 95/100\n",
      "3502/3502 [==============================] - 0s 47us/step - loss: 0.1365 - acc: 0.9529\n",
      "Epoch 96/100\n",
      "3502/3502 [==============================] - 0s 46us/step - loss: 0.1354 - acc: 0.9532\n",
      "Epoch 97/100\n",
      "3502/3502 [==============================] - 0s 45us/step - loss: 0.1205 - acc: 0.9595\n",
      "Epoch 98/100\n",
      "3502/3502 [==============================] - 0s 46us/step - loss: 0.1301 - acc: 0.9549\n",
      "Epoch 99/100\n",
      "3502/3502 [==============================] - 0s 45us/step - loss: 0.1157 - acc: 0.9615\n",
      "Epoch 100/100\n",
      "3502/3502 [==============================] - 0s 45us/step - loss: 0.1250 - acc: 0.9595\n",
      "876/876 [==============================] - 2s 2ms/step\n",
      "3502/3502 [==============================] - 0s 34us/step\n",
      "Epoch 1/100\n",
      "3502/3502 [==============================] - 3s 962us/step - loss: 1.2981 - acc: 0.4103\n",
      "Epoch 2/100\n",
      "3502/3502 [==============================] - 0s 49us/step - loss: 1.0683 - acc: 0.5757\n",
      "Epoch 3/100\n",
      "3502/3502 [==============================] - 0s 47us/step - loss: 0.9247 - acc: 0.6294\n",
      "Epoch 4/100\n",
      "3502/3502 [==============================] - 0s 51us/step - loss: 0.8641 - acc: 0.6431\n",
      "Epoch 5/100\n",
      "3502/3502 [==============================] - 0s 50us/step - loss: 0.8247 - acc: 0.6593\n",
      "Epoch 6/100\n",
      "3502/3502 [==============================] - 0s 49us/step - loss: 0.7934 - acc: 0.6696\n",
      "Epoch 7/100\n",
      "3502/3502 [==============================] - 0s 51us/step - loss: 0.7769 - acc: 0.6850\n",
      "Epoch 8/100\n",
      "3502/3502 [==============================] - 0s 49us/step - loss: 0.7602 - acc: 0.6953\n",
      "Epoch 9/100\n",
      "3502/3502 [==============================] - 0s 48us/step - loss: 0.7527 - acc: 0.6925\n",
      "Epoch 10/100\n",
      "3502/3502 [==============================] - 0s 50us/step - loss: 0.7353 - acc: 0.7050\n",
      "Epoch 11/100\n",
      "3502/3502 [==============================] - 0s 50us/step - loss: 0.7290 - acc: 0.7076\n",
      "Epoch 12/100\n",
      "3502/3502 [==============================] - 0s 50us/step - loss: 0.7153 - acc: 0.7139\n",
      "Epoch 13/100\n",
      "3502/3502 [==============================] - 0s 50us/step - loss: 0.7011 - acc: 0.7264\n",
      "Epoch 14/100\n",
      "3502/3502 [==============================] - 0s 47us/step - loss: 0.6952 - acc: 0.7282\n",
      "Epoch 15/100\n",
      "3502/3502 [==============================] - 0s 48us/step - loss: 0.6901 - acc: 0.7219\n",
      "Epoch 16/100\n",
      "3502/3502 [==============================] - 0s 47us/step - loss: 0.6876 - acc: 0.7224\n",
      "Epoch 17/100\n",
      "3502/3502 [==============================] - 0s 51us/step - loss: 0.6831 - acc: 0.7273\n",
      "Epoch 18/100\n",
      "3502/3502 [==============================] - 0s 50us/step - loss: 0.6719 - acc: 0.7404\n",
      "Epoch 19/100\n",
      "3502/3502 [==============================] - 0s 48us/step - loss: 0.6730 - acc: 0.7353\n",
      "Epoch 20/100\n",
      "3502/3502 [==============================] - 0s 48us/step - loss: 0.6591 - acc: 0.7473\n",
      "Epoch 21/100\n",
      "3502/3502 [==============================] - 0s 51us/step - loss: 0.6582 - acc: 0.7430\n",
      "Epoch 22/100\n",
      "3502/3502 [==============================] - 0s 48us/step - loss: 0.6481 - acc: 0.7459\n",
      "Epoch 23/100\n",
      "3502/3502 [==============================] - 0s 49us/step - loss: 0.6528 - acc: 0.7496\n",
      "Epoch 24/100\n",
      "3502/3502 [==============================] - 0s 50us/step - loss: 0.6326 - acc: 0.7576\n",
      "Epoch 25/100\n",
      "3502/3502 [==============================] - 0s 47us/step - loss: 0.6323 - acc: 0.7561\n",
      "Epoch 26/100\n",
      "3502/3502 [==============================] - 0s 48us/step - loss: 0.6301 - acc: 0.7607\n",
      "Epoch 27/100\n",
      "3502/3502 [==============================] - 0s 49us/step - loss: 0.6244 - acc: 0.7599\n",
      "Epoch 28/100\n",
      "3502/3502 [==============================] - 0s 56us/step - loss: 0.6116 - acc: 0.7633\n",
      "Epoch 29/100\n",
      "3502/3502 [==============================] - 0s 53us/step - loss: 0.6099 - acc: 0.7633\n",
      "Epoch 30/100\n",
      "3502/3502 [==============================] - 0s 47us/step - loss: 0.6067 - acc: 0.7644\n",
      "Epoch 31/100\n",
      "3502/3502 [==============================] - 0s 68us/step - loss: 0.6031 - acc: 0.7638\n",
      "Epoch 32/100\n",
      "3502/3502 [==============================] - 0s 64us/step - loss: 0.5995 - acc: 0.7658\n",
      "Epoch 33/100\n",
      "3502/3502 [==============================] - 0s 48us/step - loss: 0.5979 - acc: 0.7647\n",
      "Epoch 34/100\n",
      "3502/3502 [==============================] - 0s 47us/step - loss: 0.5896 - acc: 0.7701\n",
      "Epoch 35/100\n",
      "3502/3502 [==============================] - 0s 48us/step - loss: 0.5772 - acc: 0.7778\n",
      "Epoch 36/100\n",
      "3502/3502 [==============================] - 0s 47us/step - loss: 0.5758 - acc: 0.7778\n",
      "Epoch 37/100\n",
      "3502/3502 [==============================] - 0s 48us/step - loss: 0.5743 - acc: 0.7773\n",
      "Epoch 38/100\n",
      "3502/3502 [==============================] - 0s 49us/step - loss: 0.5616 - acc: 0.7861\n",
      "Epoch 39/100\n",
      "3502/3502 [==============================] - 0s 59us/step - loss: 0.5491 - acc: 0.7918\n",
      "Epoch 40/100\n",
      "3502/3502 [==============================] - 0s 47us/step - loss: 0.5475 - acc: 0.7935\n",
      "Epoch 41/100\n",
      "3502/3502 [==============================] - 0s 54us/step - loss: 0.5467 - acc: 0.7941\n",
      "Epoch 42/100\n",
      "3502/3502 [==============================] - 0s 48us/step - loss: 0.5372 - acc: 0.7944\n",
      "Epoch 43/100\n",
      "3502/3502 [==============================] - 0s 47us/step - loss: 0.5325 - acc: 0.8001\n",
      "Epoch 44/100\n"
     ]
    },
    {
     "name": "stdout",
     "output_type": "stream",
     "text": [
      "3502/3502 [==============================] - 0s 46us/step - loss: 0.5258 - acc: 0.8004\n",
      "Epoch 45/100\n",
      "3502/3502 [==============================] - 0s 102us/step - loss: 0.5119 - acc: 0.8050\n",
      "Epoch 46/100\n",
      "3502/3502 [==============================] - 0s 65us/step - loss: 0.5165 - acc: 0.8030\n",
      "Epoch 47/100\n",
      "3502/3502 [==============================] - 0s 56us/step - loss: 0.5048 - acc: 0.8113\n",
      "Epoch 48/100\n",
      "3502/3502 [==============================] - 0s 63us/step - loss: 0.5119 - acc: 0.8070\n",
      "Epoch 49/100\n",
      "3502/3502 [==============================] - 0s 57us/step - loss: 0.5035 - acc: 0.8124\n",
      "Epoch 50/100\n",
      "3502/3502 [==============================] - 0s 54us/step - loss: 0.4933 - acc: 0.8132\n",
      "Epoch 51/100\n",
      "3502/3502 [==============================] - 0s 48us/step - loss: 0.4848 - acc: 0.8115\n",
      "Epoch 52/100\n",
      "3502/3502 [==============================] - 0s 50us/step - loss: 0.4832 - acc: 0.8155\n",
      "Epoch 53/100\n",
      "3502/3502 [==============================] - 0s 49us/step - loss: 0.4700 - acc: 0.8192\n",
      "Epoch 54/100\n",
      "3502/3502 [==============================] - 0s 51us/step - loss: 0.4631 - acc: 0.8258\n",
      "Epoch 55/100\n",
      "3502/3502 [==============================] - 0s 49us/step - loss: 0.4639 - acc: 0.8252\n",
      "Epoch 56/100\n",
      "3502/3502 [==============================] - 0s 52us/step - loss: 0.4478 - acc: 0.8395\n",
      "Epoch 57/100\n",
      "3502/3502 [==============================] - 0s 49us/step - loss: 0.4374 - acc: 0.8324\n",
      "Epoch 58/100\n",
      "3502/3502 [==============================] - 0s 47us/step - loss: 0.4421 - acc: 0.8364\n",
      "Epoch 59/100\n",
      "3502/3502 [==============================] - 0s 49us/step - loss: 0.4260 - acc: 0.8418\n",
      "Epoch 60/100\n",
      "3502/3502 [==============================] - 0s 50us/step - loss: 0.4308 - acc: 0.8375\n",
      "Epoch 61/100\n",
      "3502/3502 [==============================] - 0s 58us/step - loss: 0.4172 - acc: 0.8432\n",
      "Epoch 62/100\n",
      "3502/3502 [==============================] - 0s 50us/step - loss: 0.4045 - acc: 0.8484\n",
      "Epoch 63/100\n",
      "3502/3502 [==============================] - 0s 51us/step - loss: 0.4078 - acc: 0.8515\n",
      "Epoch 64/100\n",
      "3502/3502 [==============================] - 0s 53us/step - loss: 0.3960 - acc: 0.8509\n",
      "Epoch 65/100\n",
      "3502/3502 [==============================] - 0s 52us/step - loss: 0.3965 - acc: 0.8518\n",
      "Epoch 66/100\n",
      "3502/3502 [==============================] - 0s 51us/step - loss: 0.3905 - acc: 0.8578\n",
      "Epoch 67/100\n",
      "3502/3502 [==============================] - 0s 52us/step - loss: 0.3813 - acc: 0.8609\n",
      "Epoch 68/100\n",
      "3502/3502 [==============================] - 0s 67us/step - loss: 0.3680 - acc: 0.8695\n",
      "Epoch 69/100\n",
      "3502/3502 [==============================] - 0s 78us/step - loss: 0.3713 - acc: 0.8626\n",
      "Epoch 70/100\n",
      "3502/3502 [==============================] - 0s 59us/step - loss: 0.3668 - acc: 0.8629\n",
      "Epoch 71/100\n",
      "3502/3502 [==============================] - 0s 51us/step - loss: 0.3468 - acc: 0.8706\n",
      "Epoch 72/100\n",
      "3502/3502 [==============================] - 0s 50us/step - loss: 0.3395 - acc: 0.8724\n",
      "Epoch 73/100\n",
      "3502/3502 [==============================] - 0s 55us/step - loss: 0.3454 - acc: 0.8721\n",
      "Epoch 74/100\n",
      "3502/3502 [==============================] - 0s 50us/step - loss: 0.3336 - acc: 0.8738\n",
      "Epoch 75/100\n",
      "3502/3502 [==============================] - 0s 51us/step - loss: 0.3376 - acc: 0.8732\n",
      "Epoch 76/100\n",
      "3502/3502 [==============================] - 0s 49us/step - loss: 0.3184 - acc: 0.8844\n",
      "Epoch 77/100\n",
      "3502/3502 [==============================] - 0s 51us/step - loss: 0.3206 - acc: 0.8829\n",
      "Epoch 78/100\n",
      "3502/3502 [==============================] - 0s 51us/step - loss: 0.3149 - acc: 0.8824\n",
      "Epoch 79/100\n",
      "3502/3502 [==============================] - 0s 50us/step - loss: 0.3082 - acc: 0.8835\n",
      "Epoch 80/100\n",
      "3502/3502 [==============================] - 0s 50us/step - loss: 0.3103 - acc: 0.8858\n",
      "Epoch 81/100\n",
      "3502/3502 [==============================] - 0s 61us/step - loss: 0.2938 - acc: 0.8915\n",
      "Epoch 82/100\n",
      "3502/3502 [==============================] - 0s 52us/step - loss: 0.2905 - acc: 0.8966\n",
      "Epoch 83/100\n",
      "3502/3502 [==============================] - 0s 53us/step - loss: 0.2914 - acc: 0.8952\n",
      "Epoch 84/100\n",
      "3502/3502 [==============================] - 0s 53us/step - loss: 0.2804 - acc: 0.9003\n",
      "Epoch 85/100\n",
      "3502/3502 [==============================] - 0s 68us/step - loss: 0.2741 - acc: 0.9009\n",
      "Epoch 86/100\n",
      "3502/3502 [==============================] - 0s 67us/step - loss: 0.2629 - acc: 0.9032\n",
      "Epoch 87/100\n",
      "3502/3502 [==============================] - 0s 67us/step - loss: 0.2643 - acc: 0.9081\n",
      "Epoch 88/100\n",
      "3502/3502 [==============================] - 0s 70us/step - loss: 0.2574 - acc: 0.9072\n",
      "Epoch 89/100\n",
      "3502/3502 [==============================] - 0s 58us/step - loss: 0.2571 - acc: 0.9061\n",
      "Epoch 90/100\n",
      "3502/3502 [==============================] - 0s 54us/step - loss: 0.2492 - acc: 0.9063\n",
      "Epoch 91/100\n",
      "3502/3502 [==============================] - 0s 48us/step - loss: 0.2336 - acc: 0.9135\n",
      "Epoch 92/100\n",
      "3502/3502 [==============================] - 0s 48us/step - loss: 0.2356 - acc: 0.9166\n",
      "Epoch 93/100\n",
      "3502/3502 [==============================] - 0s 48us/step - loss: 0.2363 - acc: 0.9126\n",
      "Epoch 94/100\n",
      "3502/3502 [==============================] - 0s 47us/step - loss: 0.2416 - acc: 0.9135\n",
      "Epoch 95/100\n",
      "3502/3502 [==============================] - 0s 48us/step - loss: 0.2292 - acc: 0.9160\n",
      "Epoch 96/100\n",
      "3502/3502 [==============================] - 0s 50us/step - loss: 0.2272 - acc: 0.9163\n",
      "Epoch 97/100\n",
      "3502/3502 [==============================] - 0s 48us/step - loss: 0.2193 - acc: 0.9189\n",
      "Epoch 98/100\n",
      "3502/3502 [==============================] - 0s 47us/step - loss: 0.2113 - acc: 0.9240\n",
      "Epoch 99/100\n",
      "3502/3502 [==============================] - 0s 51us/step - loss: 0.2083 - acc: 0.9252\n",
      "Epoch 100/100\n",
      "3502/3502 [==============================] - 0s 59us/step - loss: 0.2070 - acc: 0.9292\n",
      "876/876 [==============================] - 2s 2ms/step\n",
      "3502/3502 [==============================] - 0s 26us/step\n",
      "Epoch 1/100\n",
      "3503/3503 [==============================] - 4s 1ms/step - loss: 1.2858 - acc: 0.4131\n",
      "Epoch 2/100\n",
      "3503/3503 [==============================] - 0s 52us/step - loss: 1.0540 - acc: 0.5761\n",
      "Epoch 3/100\n",
      "3503/3503 [==============================] - 0s 53us/step - loss: 0.9334 - acc: 0.6160\n",
      "Epoch 4/100\n",
      "3503/3503 [==============================] - 0s 52us/step - loss: 0.8778 - acc: 0.6377\n",
      "Epoch 5/100\n",
      "3503/3503 [==============================] - 0s 50us/step - loss: 0.8398 - acc: 0.6569\n",
      "Epoch 6/100\n",
      "3503/3503 [==============================] - 0s 50us/step - loss: 0.8176 - acc: 0.6623\n",
      "Epoch 7/100\n",
      "3503/3503 [==============================] - 0s 52us/step - loss: 0.8000 - acc: 0.6703\n",
      "Epoch 8/100\n",
      "3503/3503 [==============================] - 0s 52us/step - loss: 0.7871 - acc: 0.6780\n",
      "Epoch 9/100\n",
      "3503/3503 [==============================] - 0s 49us/step - loss: 0.7757 - acc: 0.6800\n",
      "Epoch 10/100\n",
      "3503/3503 [==============================] - 0s 51us/step - loss: 0.7587 - acc: 0.6928\n",
      "Epoch 11/100\n",
      "3503/3503 [==============================] - 0s 50us/step - loss: 0.7483 - acc: 0.6948\n",
      "Epoch 12/100\n",
      "3503/3503 [==============================] - 0s 53us/step - loss: 0.7432 - acc: 0.7054\n",
      "Epoch 13/100\n",
      "3503/3503 [==============================] - 0s 49us/step - loss: 0.7250 - acc: 0.7080\n",
      "Epoch 14/100\n",
      "3503/3503 [==============================] - 0s 53us/step - loss: 0.7251 - acc: 0.7071\n",
      "Epoch 15/100\n",
      "3503/3503 [==============================] - 0s 51us/step - loss: 0.7121 - acc: 0.7142\n",
      "Epoch 16/100\n",
      "3503/3503 [==============================] - 0s 59us/step - loss: 0.7086 - acc: 0.7154\n",
      "Epoch 17/100\n",
      "3503/3503 [==============================] - 0s 51us/step - loss: 0.7090 - acc: 0.7165\n",
      "Epoch 18/100\n",
      "3503/3503 [==============================] - 0s 54us/step - loss: 0.6878 - acc: 0.7299\n",
      "Epoch 19/100\n",
      "3503/3503 [==============================] - 0s 50us/step - loss: 0.6861 - acc: 0.7319\n",
      "Epoch 20/100\n",
      "3503/3503 [==============================] - 0s 53us/step - loss: 0.6860 - acc: 0.7331\n",
      "Epoch 21/100\n",
      "3503/3503 [==============================] - 0s 49us/step - loss: 0.6725 - acc: 0.7397\n",
      "Epoch 22/100\n",
      "3503/3503 [==============================] - 0s 49us/step - loss: 0.6610 - acc: 0.7431\n",
      "Epoch 23/100\n",
      "3503/3503 [==============================] - 0s 48us/step - loss: 0.6628 - acc: 0.7345\n",
      "Epoch 24/100\n",
      "3503/3503 [==============================] - 0s 49us/step - loss: 0.6648 - acc: 0.7365\n",
      "Epoch 25/100\n"
     ]
    },
    {
     "name": "stdout",
     "output_type": "stream",
     "text": [
      "3503/3503 [==============================] - 0s 49us/step - loss: 0.6509 - acc: 0.7451\n",
      "Epoch 26/100\n",
      "3503/3503 [==============================] - 0s 49us/step - loss: 0.6501 - acc: 0.7459\n",
      "Epoch 27/100\n",
      "3503/3503 [==============================] - 0s 50us/step - loss: 0.6493 - acc: 0.7514\n",
      "Epoch 28/100\n",
      "3503/3503 [==============================] - 0s 50us/step - loss: 0.6347 - acc: 0.7536\n",
      "Epoch 29/100\n",
      "3503/3503 [==============================] - 0s 49us/step - loss: 0.6343 - acc: 0.7505\n",
      "Epoch 30/100\n",
      "3503/3503 [==============================] - 0s 52us/step - loss: 0.6250 - acc: 0.7576\n",
      "Epoch 31/100\n",
      "3503/3503 [==============================] - 0s 51us/step - loss: 0.6224 - acc: 0.7571\n",
      "Epoch 32/100\n",
      "3503/3503 [==============================] - 0s 51us/step - loss: 0.6120 - acc: 0.7619\n",
      "Epoch 33/100\n",
      "3503/3503 [==============================] - 0s 50us/step - loss: 0.6120 - acc: 0.7648\n",
      "Epoch 34/100\n",
      "3503/3503 [==============================] - 0s 51us/step - loss: 0.5996 - acc: 0.7708\n",
      "Epoch 35/100\n",
      "3503/3503 [==============================] - 0s 54us/step - loss: 0.6001 - acc: 0.7728\n",
      "Epoch 36/100\n",
      "3503/3503 [==============================] - 0s 57us/step - loss: 0.5963 - acc: 0.7711\n",
      "Epoch 37/100\n",
      "3503/3503 [==============================] - 0s 58us/step - loss: 0.5931 - acc: 0.7736\n",
      "Epoch 38/100\n",
      "3503/3503 [==============================] - 0s 51us/step - loss: 0.5842 - acc: 0.7733\n",
      "Epoch 39/100\n",
      "3503/3503 [==============================] - 0s 49us/step - loss: 0.5790 - acc: 0.7802\n",
      "Epoch 40/100\n",
      "3503/3503 [==============================] - 0s 49us/step - loss: 0.5761 - acc: 0.7808\n",
      "Epoch 41/100\n",
      "3503/3503 [==============================] - 0s 50us/step - loss: 0.5658 - acc: 0.7825\n",
      "Epoch 42/100\n",
      "3503/3503 [==============================] - 0s 49us/step - loss: 0.5627 - acc: 0.7793\n",
      "Epoch 43/100\n",
      "3503/3503 [==============================] - 0s 59us/step - loss: 0.5561 - acc: 0.7913\n",
      "Epoch 44/100\n",
      "3503/3503 [==============================] - 0s 58us/step - loss: 0.5540 - acc: 0.7853\n",
      "Epoch 45/100\n",
      "3503/3503 [==============================] - 0s 50us/step - loss: 0.5441 - acc: 0.7979\n",
      "Epoch 46/100\n",
      "3503/3503 [==============================] - 0s 54us/step - loss: 0.5427 - acc: 0.7905\n",
      "Epoch 47/100\n",
      "3503/3503 [==============================] - 0s 53us/step - loss: 0.5268 - acc: 0.7996\n",
      "Epoch 48/100\n",
      "3503/3503 [==============================] - 0s 50us/step - loss: 0.5269 - acc: 0.8022\n",
      "Epoch 49/100\n",
      "3503/3503 [==============================] - 0s 51us/step - loss: 0.5231 - acc: 0.8070\n",
      "Epoch 50/100\n",
      "3503/3503 [==============================] - 0s 60us/step - loss: 0.5094 - acc: 0.8062\n",
      "Epoch 51/100\n",
      "3503/3503 [==============================] - 0s 51us/step - loss: 0.5114 - acc: 0.8030\n",
      "Epoch 52/100\n",
      "3503/3503 [==============================] - 0s 50us/step - loss: 0.5069 - acc: 0.8113\n",
      "Epoch 53/100\n",
      "3503/3503 [==============================] - 0s 50us/step - loss: 0.4989 - acc: 0.8119\n",
      "Epoch 54/100\n",
      "3503/3503 [==============================] - 0s 54us/step - loss: 0.4945 - acc: 0.8136\n",
      "Epoch 55/100\n",
      "3503/3503 [==============================] - 0s 55us/step - loss: 0.4840 - acc: 0.8110\n",
      "Epoch 56/100\n",
      "3503/3503 [==============================] - 0s 52us/step - loss: 0.4756 - acc: 0.8176\n",
      "Epoch 57/100\n",
      "3503/3503 [==============================] - 0s 49us/step - loss: 0.4730 - acc: 0.8190\n",
      "Epoch 58/100\n",
      "3503/3503 [==============================] - 0s 59us/step - loss: 0.4725 - acc: 0.8184\n",
      "Epoch 59/100\n",
      "3503/3503 [==============================] - 0s 57us/step - loss: 0.4556 - acc: 0.8270\n",
      "Epoch 60/100\n",
      "3503/3503 [==============================] - 0s 54us/step - loss: 0.4575 - acc: 0.8321\n",
      "Epoch 61/100\n",
      "3503/3503 [==============================] - 0s 50us/step - loss: 0.4435 - acc: 0.8333\n",
      "Epoch 62/100\n",
      "3503/3503 [==============================] - 0s 53us/step - loss: 0.4500 - acc: 0.8279\n",
      "Epoch 63/100\n",
      "3503/3503 [==============================] - 0s 53us/step - loss: 0.4350 - acc: 0.8396\n",
      "Epoch 64/100\n",
      "3503/3503 [==============================] - 0s 52us/step - loss: 0.4294 - acc: 0.8361\n",
      "Epoch 65/100\n",
      "3503/3503 [==============================] - 0s 55us/step - loss: 0.4239 - acc: 0.8333\n",
      "Epoch 66/100\n",
      "3503/3503 [==============================] - 0s 68us/step - loss: 0.4230 - acc: 0.8376\n",
      "Epoch 67/100\n",
      "3503/3503 [==============================] - 0s 59us/step - loss: 0.4120 - acc: 0.8498\n",
      "Epoch 68/100\n",
      "3503/3503 [==============================] - 0s 59us/step - loss: 0.4026 - acc: 0.8527\n",
      "Epoch 69/100\n",
      "3503/3503 [==============================] - 0s 57us/step - loss: 0.4021 - acc: 0.8470\n",
      "Epoch 70/100\n",
      "3503/3503 [==============================] - 0s 58us/step - loss: 0.4000 - acc: 0.8510\n",
      "Epoch 71/100\n",
      "3503/3503 [==============================] - 0s 59us/step - loss: 0.3969 - acc: 0.8498\n",
      "Epoch 72/100\n",
      "3503/3503 [==============================] - 0s 60us/step - loss: 0.3765 - acc: 0.8613\n",
      "Epoch 73/100\n",
      "3503/3503 [==============================] - 0s 68us/step - loss: 0.3792 - acc: 0.8627\n",
      "Epoch 74/100\n",
      "3503/3503 [==============================] - 0s 66us/step - loss: 0.3679 - acc: 0.8613\n",
      "Epoch 75/100\n",
      "3503/3503 [==============================] - 0s 59us/step - loss: 0.3640 - acc: 0.8658\n",
      "Epoch 76/100\n",
      "3503/3503 [==============================] - 0s 59us/step - loss: 0.3684 - acc: 0.8615\n",
      "Epoch 77/100\n",
      "3503/3503 [==============================] - 0s 63us/step - loss: 0.3551 - acc: 0.8727\n",
      "Epoch 78/100\n",
      "3503/3503 [==============================] - ETA: 0s - loss: 0.3485 - acc: 0.872 - 0s 58us/step - loss: 0.3495 - acc: 0.8721\n",
      "Epoch 79/100\n",
      "3503/3503 [==============================] - 0s 66us/step - loss: 0.3411 - acc: 0.8687\n",
      "Epoch 80/100\n",
      "3503/3503 [==============================] - 0s 66us/step - loss: 0.3338 - acc: 0.8761\n",
      "Epoch 81/100\n",
      "3503/3503 [==============================] - 0s 66us/step - loss: 0.3328 - acc: 0.8781\n",
      "Epoch 82/100\n",
      "3503/3503 [==============================] - 0s 63us/step - loss: 0.3355 - acc: 0.8752\n",
      "Epoch 83/100\n",
      "3503/3503 [==============================] - 0s 63us/step - loss: 0.3176 - acc: 0.8812\n",
      "Epoch 84/100\n",
      "3503/3503 [==============================] - 0s 64us/step - loss: 0.3044 - acc: 0.8867\n",
      "Epoch 85/100\n",
      "3503/3503 [==============================] - 0s 70us/step - loss: 0.3206 - acc: 0.8841\n",
      "Epoch 86/100\n",
      "3503/3503 [==============================] - 0s 68us/step - loss: 0.2919 - acc: 0.8904\n",
      "Epoch 87/100\n",
      "3503/3503 [==============================] - 0s 66us/step - loss: 0.2861 - acc: 0.8975\n",
      "Epoch 88/100\n",
      "3503/3503 [==============================] - 0s 63us/step - loss: 0.2842 - acc: 0.8918\n",
      "Epoch 89/100\n",
      "3503/3503 [==============================] - 0s 60us/step - loss: 0.2809 - acc: 0.9009\n",
      "Epoch 90/100\n",
      "3503/3503 [==============================] - 0s 65us/step - loss: 0.2888 - acc: 0.8904\n",
      "Epoch 91/100\n",
      "3503/3503 [==============================] - 0s 66us/step - loss: 0.2787 - acc: 0.8941\n",
      "Epoch 92/100\n",
      "3503/3503 [==============================] - 0s 66us/step - loss: 0.2704 - acc: 0.9007\n",
      "Epoch 93/100\n",
      "3503/3503 [==============================] - 0s 62us/step - loss: 0.2723 - acc: 0.9004\n",
      "Epoch 94/100\n",
      "3503/3503 [==============================] - 0s 65us/step - loss: 0.2573 - acc: 0.9058\n",
      "Epoch 95/100\n",
      "3503/3503 [==============================] - 0s 63us/step - loss: 0.2626 - acc: 0.9009\n",
      "Epoch 96/100\n",
      "3503/3503 [==============================] - 0s 64us/step - loss: 0.2599 - acc: 0.9041\n",
      "Epoch 97/100\n",
      "3503/3503 [==============================] - 0s 63us/step - loss: 0.2541 - acc: 0.9064\n",
      "Epoch 98/100\n",
      "3503/3503 [==============================] - 0s 62us/step - loss: 0.2554 - acc: 0.9055\n",
      "Epoch 99/100\n",
      "3503/3503 [==============================] - 0s 67us/step - loss: 0.2316 - acc: 0.9152\n",
      "Epoch 100/100\n",
      "3503/3503 [==============================] - 0s 65us/step - loss: 0.2469 - acc: 0.9072\n",
      "875/875 [==============================] - 1s 2ms/step\n",
      "3503/3503 [==============================] - 0s 33us/step\n",
      "Epoch 1/100\n",
      "3503/3503 [==============================] - 4s 1ms/step - loss: 1.2808 - acc: 0.4168\n",
      "Epoch 2/100\n",
      "3503/3503 [==============================] - 0s 68us/step - loss: 1.0478 - acc: 0.5761\n",
      "Epoch 3/100\n",
      "3503/3503 [==============================] - 0s 65us/step - loss: 0.9221 - acc: 0.6255\n",
      "Epoch 4/100\n",
      "3503/3503 [==============================] - 0s 66us/step - loss: 0.8582 - acc: 0.6432\n",
      "Epoch 5/100\n"
     ]
    },
    {
     "name": "stdout",
     "output_type": "stream",
     "text": [
      "3503/3503 [==============================] - 0s 61us/step - loss: 0.8182 - acc: 0.6674\n",
      "Epoch 6/100\n",
      "3503/3503 [==============================] - 0s 66us/step - loss: 0.7937 - acc: 0.6803\n",
      "Epoch 7/100\n",
      "3503/3503 [==============================] - 0s 62us/step - loss: 0.7779 - acc: 0.6894\n",
      "Epoch 8/100\n",
      "3503/3503 [==============================] - 0s 56us/step - loss: 0.7572 - acc: 0.6951\n",
      "Epoch 9/100\n",
      "3503/3503 [==============================] - 0s 57us/step - loss: 0.7479 - acc: 0.6980\n",
      "Epoch 10/100\n",
      "3503/3503 [==============================] - 0s 54us/step - loss: 0.7327 - acc: 0.7114\n",
      "Epoch 11/100\n",
      "3503/3503 [==============================] - 0s 55us/step - loss: 0.7313 - acc: 0.7094\n",
      "Epoch 12/100\n",
      "3503/3503 [==============================] - 0s 59us/step - loss: 0.7186 - acc: 0.7188\n",
      "Epoch 13/100\n",
      "3503/3503 [==============================] - 0s 56us/step - loss: 0.7082 - acc: 0.7242\n",
      "Epoch 14/100\n",
      "3503/3503 [==============================] - 0s 56us/step - loss: 0.6979 - acc: 0.7294\n",
      "Epoch 15/100\n",
      "3503/3503 [==============================] - 0s 56us/step - loss: 0.6933 - acc: 0.7251\n",
      "Epoch 16/100\n",
      "3503/3503 [==============================] - 0s 55us/step - loss: 0.6958 - acc: 0.7257\n",
      "Epoch 17/100\n",
      "3503/3503 [==============================] - 0s 58us/step - loss: 0.6758 - acc: 0.7422\n",
      "Epoch 18/100\n",
      "3503/3503 [==============================] - 0s 60us/step - loss: 0.6777 - acc: 0.7382\n",
      "Epoch 19/100\n",
      "3503/3503 [==============================] - 0s 58us/step - loss: 0.6716 - acc: 0.7417\n",
      "Epoch 20/100\n",
      "3503/3503 [==============================] - 0s 53us/step - loss: 0.6691 - acc: 0.7411\n",
      "Epoch 21/100\n",
      "3503/3503 [==============================] - 0s 55us/step - loss: 0.6567 - acc: 0.7456\n",
      "Epoch 22/100\n",
      "3503/3503 [==============================] - 0s 56us/step - loss: 0.6542 - acc: 0.7451\n",
      "Epoch 23/100\n",
      "3503/3503 [==============================] - 0s 55us/step - loss: 0.6532 - acc: 0.7545\n",
      "Epoch 24/100\n",
      "3503/3503 [==============================] - 0s 57us/step - loss: 0.6400 - acc: 0.7556\n",
      "Epoch 25/100\n",
      "3503/3503 [==============================] - 0s 57us/step - loss: 0.6393 - acc: 0.7576\n",
      "Epoch 26/100\n",
      "3503/3503 [==============================] - 0s 68us/step - loss: 0.6298 - acc: 0.7568\n",
      "Epoch 27/100\n",
      "3503/3503 [==============================] - 0s 65us/step - loss: 0.6265 - acc: 0.7565\n",
      "Epoch 28/100\n",
      "3503/3503 [==============================] - 0s 72us/step - loss: 0.6275 - acc: 0.7611\n",
      "Epoch 29/100\n",
      "3503/3503 [==============================] - 0s 75us/step - loss: 0.6182 - acc: 0.7605\n",
      "Epoch 30/100\n",
      "3503/3503 [==============================] - 0s 67us/step - loss: 0.6069 - acc: 0.7671\n",
      "Epoch 31/100\n",
      "3503/3503 [==============================] - 0s 76us/step - loss: 0.6111 - acc: 0.7673\n",
      "Epoch 32/100\n",
      "3503/3503 [==============================] - 0s 73us/step - loss: 0.6074 - acc: 0.7693\n",
      "Epoch 33/100\n",
      "3503/3503 [==============================] - 0s 67us/step - loss: 0.5977 - acc: 0.7688\n",
      "Epoch 34/100\n",
      "3503/3503 [==============================] - 0s 69us/step - loss: 0.5971 - acc: 0.7756\n",
      "Epoch 35/100\n",
      "3503/3503 [==============================] - 0s 70us/step - loss: 0.5832 - acc: 0.7825\n",
      "Epoch 36/100\n",
      "3503/3503 [==============================] - 0s 63us/step - loss: 0.5850 - acc: 0.7776\n",
      "Epoch 37/100\n",
      "3503/3503 [==============================] - 0s 67us/step - loss: 0.5704 - acc: 0.7759\n",
      "Epoch 38/100\n",
      "3503/3503 [==============================] - 0s 77us/step - loss: 0.5624 - acc: 0.7939\n",
      "Epoch 39/100\n",
      "3503/3503 [==============================] - 0s 67us/step - loss: 0.5659 - acc: 0.7848\n",
      "Epoch 40/100\n",
      "3503/3503 [==============================] - 0s 70us/step - loss: 0.5601 - acc: 0.7902\n",
      "Epoch 41/100\n",
      "3503/3503 [==============================] - 0s 61us/step - loss: 0.5509 - acc: 0.7919\n",
      "Epoch 42/100\n",
      "3503/3503 [==============================] - 0s 65us/step - loss: 0.5544 - acc: 0.7939\n",
      "Epoch 43/100\n",
      "3503/3503 [==============================] - 0s 62us/step - loss: 0.5413 - acc: 0.7959\n",
      "Epoch 44/100\n",
      "3503/3503 [==============================] - 0s 66us/step - loss: 0.5347 - acc: 0.8030\n",
      "Epoch 45/100\n",
      "3503/3503 [==============================] - 0s 65us/step - loss: 0.5341 - acc: 0.7942\n",
      "Epoch 46/100\n",
      "3503/3503 [==============================] - 0s 61us/step - loss: 0.5298 - acc: 0.8039\n",
      "Epoch 47/100\n",
      "3503/3503 [==============================] - 0s 61us/step - loss: 0.5290 - acc: 0.7927\n",
      "Epoch 48/100\n",
      "3503/3503 [==============================] - 0s 65us/step - loss: 0.5157 - acc: 0.8036\n",
      "Epoch 49/100\n",
      "3503/3503 [==============================] - 0s 61us/step - loss: 0.5107 - acc: 0.8056\n",
      "Epoch 50/100\n",
      "3503/3503 [==============================] - 0s 68us/step - loss: 0.4982 - acc: 0.8184\n",
      "Epoch 51/100\n",
      "3503/3503 [==============================] - 0s 66us/step - loss: 0.4984 - acc: 0.8193\n",
      "Epoch 52/100\n",
      "3503/3503 [==============================] - 0s 62us/step - loss: 0.4931 - acc: 0.8210\n",
      "Epoch 53/100\n",
      "3503/3503 [==============================] - 0s 61us/step - loss: 0.4908 - acc: 0.8164\n",
      "Epoch 54/100\n",
      "3503/3503 [==============================] - 0s 64us/step - loss: 0.4780 - acc: 0.8147\n",
      "Epoch 55/100\n",
      "3503/3503 [==============================] - 0s 62us/step - loss: 0.4660 - acc: 0.8244\n",
      "Epoch 56/100\n",
      "3503/3503 [==============================] - 0s 70us/step - loss: 0.4643 - acc: 0.8253\n",
      "Epoch 57/100\n",
      "3503/3503 [==============================] - 0s 61us/step - loss: 0.4620 - acc: 0.8330\n",
      "Epoch 58/100\n",
      "3503/3503 [==============================] - 0s 64us/step - loss: 0.4540 - acc: 0.8287\n",
      "Epoch 59/100\n",
      "3503/3503 [==============================] - 0s 67us/step - loss: 0.4394 - acc: 0.8413\n",
      "Epoch 60/100\n",
      "3503/3503 [==============================] - 0s 62us/step - loss: 0.4365 - acc: 0.8361\n",
      "Epoch 61/100\n",
      "3503/3503 [==============================] - 0s 69us/step - loss: 0.4247 - acc: 0.8413\n",
      "Epoch 62/100\n",
      "3503/3503 [==============================] - 0s 64us/step - loss: 0.4179 - acc: 0.8487\n",
      "Epoch 63/100\n",
      "3503/3503 [==============================] - 0s 64us/step - loss: 0.4208 - acc: 0.8461\n",
      "Epoch 64/100\n",
      "3503/3503 [==============================] - 0s 68us/step - loss: 0.4121 - acc: 0.8399\n",
      "Epoch 65/100\n",
      "3503/3503 [==============================] - 0s 74us/step - loss: 0.4124 - acc: 0.8467\n",
      "Epoch 66/100\n",
      "3503/3503 [==============================] - 0s 68us/step - loss: 0.3999 - acc: 0.8578\n",
      "Epoch 67/100\n",
      "3503/3503 [==============================] - 0s 66us/step - loss: 0.3871 - acc: 0.8530\n",
      "Epoch 68/100\n",
      "3503/3503 [==============================] - 0s 67us/step - loss: 0.3902 - acc: 0.8590\n",
      "Epoch 69/100\n",
      "3503/3503 [==============================] - 0s 70us/step - loss: 0.3794 - acc: 0.8621\n",
      "Epoch 70/100\n",
      "3503/3503 [==============================] - 0s 70us/step - loss: 0.3697 - acc: 0.8670\n",
      "Epoch 71/100\n",
      "3503/3503 [==============================] - 0s 70us/step - loss: 0.3646 - acc: 0.8635\n",
      "Epoch 72/100\n",
      "3503/3503 [==============================] - 0s 63us/step - loss: 0.3728 - acc: 0.8638\n",
      "Epoch 73/100\n",
      "3503/3503 [==============================] - 0s 61us/step - loss: 0.3534 - acc: 0.8684\n",
      "Epoch 74/100\n",
      "3503/3503 [==============================] - 0s 63us/step - loss: 0.3368 - acc: 0.8747\n",
      "Epoch 75/100\n",
      "3503/3503 [==============================] - 0s 63us/step - loss: 0.3470 - acc: 0.8741\n",
      "Epoch 76/100\n",
      "3503/3503 [==============================] - 0s 68us/step - loss: 0.3394 - acc: 0.8741\n",
      "Epoch 77/100\n",
      "3503/3503 [==============================] - 0s 71us/step - loss: 0.3382 - acc: 0.8798\n",
      "Epoch 78/100\n",
      "3503/3503 [==============================] - 0s 69us/step - loss: 0.3185 - acc: 0.8804\n",
      "Epoch 79/100\n",
      "3503/3503 [==============================] - 0s 65us/step - loss: 0.3253 - acc: 0.8852\n",
      "Epoch 80/100\n",
      "3503/3503 [==============================] - 0s 64us/step - loss: 0.3164 - acc: 0.8815\n",
      "Epoch 81/100\n",
      "3503/3503 [==============================] - 0s 71us/step - loss: 0.3152 - acc: 0.8884\n",
      "Epoch 82/100\n",
      "3503/3503 [==============================] - 0s 68us/step - loss: 0.3156 - acc: 0.8838\n",
      "Epoch 83/100\n",
      "3503/3503 [==============================] - 0s 67us/step - loss: 0.3023 - acc: 0.8915\n",
      "Epoch 84/100\n",
      "3503/3503 [==============================] - 0s 65us/step - loss: 0.2856 - acc: 0.8927\n",
      "Epoch 85/100\n",
      "3503/3503 [==============================] - 0s 67us/step - loss: 0.2785 - acc: 0.9012\n",
      "Epoch 86/100\n",
      "3503/3503 [==============================] - 0s 63us/step - loss: 0.2841 - acc: 0.8952\n",
      "Epoch 87/100\n"
     ]
    },
    {
     "name": "stdout",
     "output_type": "stream",
     "text": [
      "3503/3503 [==============================] - 0s 62us/step - loss: 0.2765 - acc: 0.9035\n",
      "Epoch 88/100\n",
      "3503/3503 [==============================] - 0s 56us/step - loss: 0.2752 - acc: 0.8978\n",
      "Epoch 89/100\n",
      "3503/3503 [==============================] - 0s 54us/step - loss: 0.2738 - acc: 0.8975\n",
      "Epoch 90/100\n",
      "3503/3503 [==============================] - 0s 55us/step - loss: 0.2595 - acc: 0.9098\n",
      "Epoch 91/100\n",
      "3503/3503 [==============================] - 0s 55us/step - loss: 0.2527 - acc: 0.9069\n",
      "Epoch 92/100\n",
      "3503/3503 [==============================] - 0s 57us/step - loss: 0.2512 - acc: 0.9092\n",
      "Epoch 93/100\n",
      "3503/3503 [==============================] - 0s 56us/step - loss: 0.2574 - acc: 0.9078\n",
      "Epoch 94/100\n",
      "3503/3503 [==============================] - 0s 55us/step - loss: 0.2453 - acc: 0.9098\n",
      "Epoch 95/100\n",
      "3503/3503 [==============================] - 0s 70us/step - loss: 0.2351 - acc: 0.9169\n",
      "Epoch 96/100\n",
      "3503/3503 [==============================] - 0s 75us/step - loss: 0.2429 - acc: 0.9084\n",
      "Epoch 97/100\n",
      "3503/3503 [==============================] - 0s 80us/step - loss: 0.2432 - acc: 0.9149\n",
      "Epoch 98/100\n",
      "3503/3503 [==============================] - 0s 81us/step - loss: 0.2287 - acc: 0.9166\n",
      "Epoch 99/100\n",
      "3503/3503 [==============================] - 0s 81us/step - loss: 0.2314 - acc: 0.9149\n",
      "Epoch 100/100\n",
      "3503/3503 [==============================] - 0s 83us/step - loss: 0.2170 - acc: 0.9192\n",
      "875/875 [==============================] - 2s 2ms/step\n",
      "3503/3503 [==============================] - 0s 44us/step\n",
      "Epoch 1/100\n",
      "4378/4378 [==============================] - 4s 999us/step - loss: 1.2442 - acc: 0.4461\n",
      "Epoch 2/100\n",
      "4378/4378 [==============================] - 0s 66us/step - loss: 0.9743 - acc: 0.6122\n",
      "Epoch 3/100\n",
      "4378/4378 [==============================] - 0s 62us/step - loss: 0.8489 - acc: 0.6530\n",
      "Epoch 4/100\n",
      "4378/4378 [==============================] - 0s 59us/step - loss: 0.7953 - acc: 0.6761\n",
      "Epoch 5/100\n",
      "4378/4378 [==============================] - 0s 64us/step - loss: 0.7539 - acc: 0.6914\n",
      "Epoch 6/100\n",
      "4378/4378 [==============================] - 0s 62us/step - loss: 0.7344 - acc: 0.6989\n",
      "Epoch 7/100\n",
      "4378/4378 [==============================] - 0s 61us/step - loss: 0.7207 - acc: 0.7085\n",
      "Epoch 8/100\n",
      "4378/4378 [==============================] - 0s 65us/step - loss: 0.6984 - acc: 0.7243\n",
      "Epoch 9/100\n",
      "4378/4378 [==============================] - 0s 61us/step - loss: 0.6887 - acc: 0.7270\n",
      "Epoch 10/100\n",
      "4378/4378 [==============================] - 0s 61us/step - loss: 0.6784 - acc: 0.7348\n",
      "Epoch 11/100\n",
      "4378/4378 [==============================] - 0s 60us/step - loss: 0.6705 - acc: 0.7355\n",
      "Epoch 12/100\n",
      "4378/4378 [==============================] - 0s 61us/step - loss: 0.6680 - acc: 0.7401\n",
      "Epoch 13/100\n",
      "4378/4378 [==============================] - 0s 62us/step - loss: 0.6495 - acc: 0.7526\n",
      "Epoch 14/100\n",
      "4378/4378 [==============================] - 0s 61us/step - loss: 0.6479 - acc: 0.7506\n",
      "Epoch 15/100\n",
      "4378/4378 [==============================] - 0s 62us/step - loss: 0.6420 - acc: 0.7508\n",
      "Epoch 16/100\n",
      "4378/4378 [==============================] - 0s 63us/step - loss: 0.6348 - acc: 0.7618\n",
      "Epoch 17/100\n",
      "4378/4378 [==============================] - 0s 62us/step - loss: 0.6271 - acc: 0.7602\n",
      "Epoch 18/100\n",
      "4378/4378 [==============================] - 0s 65us/step - loss: 0.6202 - acc: 0.7613\n",
      "Epoch 19/100\n",
      "4378/4378 [==============================] - 0s 62us/step - loss: 0.6118 - acc: 0.7634\n",
      "Epoch 20/100\n",
      "4378/4378 [==============================] - 0s 65us/step - loss: 0.6103 - acc: 0.7645\n",
      "Epoch 21/100\n",
      "4378/4378 [==============================] - 0s 62us/step - loss: 0.6024 - acc: 0.7714\n",
      "Epoch 22/100\n",
      "4378/4378 [==============================] - 0s 63us/step - loss: 0.6005 - acc: 0.7732\n",
      "Epoch 23/100\n",
      "4378/4378 [==============================] - 0s 63us/step - loss: 0.5918 - acc: 0.7746\n",
      "Epoch 24/100\n",
      "4378/4378 [==============================] - 0s 65us/step - loss: 0.5937 - acc: 0.7748\n",
      "Epoch 25/100\n",
      "4378/4378 [==============================] - 0s 62us/step - loss: 0.5873 - acc: 0.7780\n",
      "Epoch 26/100\n",
      "4378/4378 [==============================] - 0s 63us/step - loss: 0.5794 - acc: 0.7796\n",
      "Epoch 27/100\n",
      "4378/4378 [==============================] - 0s 64us/step - loss: 0.5767 - acc: 0.7775\n",
      "Epoch 28/100\n",
      "4378/4378 [==============================] - 0s 64us/step - loss: 0.5727 - acc: 0.7812\n",
      "Epoch 29/100\n",
      "4378/4378 [==============================] - 0s 63us/step - loss: 0.5684 - acc: 0.7860\n",
      "Epoch 30/100\n",
      "4378/4378 [==============================] - 0s 63us/step - loss: 0.5660 - acc: 0.7798\n",
      "Epoch 31/100\n",
      "4378/4378 [==============================] - 0s 64us/step - loss: 0.5557 - acc: 0.7883\n",
      "Epoch 32/100\n",
      "4378/4378 [==============================] - 0s 62us/step - loss: 0.5451 - acc: 0.7969\n",
      "Epoch 33/100\n",
      "4378/4378 [==============================] - 0s 61us/step - loss: 0.5433 - acc: 0.7958\n",
      "Epoch 34/100\n",
      "4378/4378 [==============================] - 0s 66us/step - loss: 0.5372 - acc: 0.7933\n",
      "Epoch 35/100\n",
      "4378/4378 [==============================] - 0s 63us/step - loss: 0.5238 - acc: 0.8070\n",
      "Epoch 36/100\n",
      "4378/4378 [==============================] - 0s 65us/step - loss: 0.5273 - acc: 0.8024\n",
      "Epoch 37/100\n",
      "4378/4378 [==============================] - 0s 66us/step - loss: 0.5211 - acc: 0.8020\n",
      "Epoch 38/100\n",
      "4378/4378 [==============================] - 0s 60us/step - loss: 0.5118 - acc: 0.8084\n",
      "Epoch 39/100\n",
      "4378/4378 [==============================] - 0s 66us/step - loss: 0.5160 - acc: 0.8077\n",
      "Epoch 40/100\n",
      "4378/4378 [==============================] - 0s 61us/step - loss: 0.5000 - acc: 0.8152\n",
      "Epoch 41/100\n",
      "4378/4378 [==============================] - 0s 64us/step - loss: 0.4977 - acc: 0.8150\n",
      "Epoch 42/100\n",
      "4378/4378 [==============================] - 0s 63us/step - loss: 0.4882 - acc: 0.8212\n",
      "Epoch 43/100\n",
      "4378/4378 [==============================] - 0s 66us/step - loss: 0.4872 - acc: 0.8145\n",
      "Epoch 44/100\n",
      "4378/4378 [==============================] - 0s 61us/step - loss: 0.4825 - acc: 0.8170\n",
      "Epoch 45/100\n",
      "4378/4378 [==============================] - 0s 67us/step - loss: 0.4717 - acc: 0.8239\n",
      "Epoch 46/100\n",
      "4378/4378 [==============================] - 0s 72us/step - loss: 0.4721 - acc: 0.8259\n",
      "Epoch 47/100\n",
      "4378/4378 [==============================] - 0s 70us/step - loss: 0.4635 - acc: 0.8314\n",
      "Epoch 48/100\n",
      "4378/4378 [==============================] - 0s 63us/step - loss: 0.4575 - acc: 0.8346\n",
      "Epoch 49/100\n",
      "4378/4378 [==============================] - 0s 63us/step - loss: 0.4497 - acc: 0.8358\n",
      "Epoch 50/100\n",
      "4378/4378 [==============================] - 0s 65us/step - loss: 0.4405 - acc: 0.8351\n",
      "Epoch 51/100\n",
      "4378/4378 [==============================] - 0s 62us/step - loss: 0.4486 - acc: 0.8333\n",
      "Epoch 52/100\n",
      "4378/4378 [==============================] - 0s 67us/step - loss: 0.4371 - acc: 0.8344\n",
      "Epoch 53/100\n",
      "4378/4378 [==============================] - 0s 62us/step - loss: 0.4271 - acc: 0.8451\n",
      "Epoch 54/100\n",
      "4378/4378 [==============================] - 0s 68us/step - loss: 0.4288 - acc: 0.8371\n",
      "Epoch 55/100\n",
      "4378/4378 [==============================] - 0s 64us/step - loss: 0.4189 - acc: 0.8431\n",
      "Epoch 56/100\n",
      "4378/4378 [==============================] - 0s 63us/step - loss: 0.4097 - acc: 0.8536\n",
      "Epoch 57/100\n",
      "4378/4378 [==============================] - 0s 63us/step - loss: 0.4082 - acc: 0.8527\n",
      "Epoch 58/100\n",
      "4378/4378 [==============================] - 0s 65us/step - loss: 0.3973 - acc: 0.8492\n",
      "Epoch 59/100\n",
      "4378/4378 [==============================] - 0s 61us/step - loss: 0.3899 - acc: 0.8579\n",
      "Epoch 60/100\n",
      "4378/4378 [==============================] - 0s 66us/step - loss: 0.3869 - acc: 0.8591\n",
      "Epoch 61/100\n",
      "4378/4378 [==============================] - 0s 64us/step - loss: 0.3816 - acc: 0.8604\n",
      "Epoch 62/100\n",
      "4378/4378 [==============================] - 0s 64us/step - loss: 0.3704 - acc: 0.8620\n",
      "Epoch 63/100\n",
      "4378/4378 [==============================] - 0s 66us/step - loss: 0.3658 - acc: 0.8687\n",
      "Epoch 64/100\n",
      "4378/4378 [==============================] - 0s 60us/step - loss: 0.3583 - acc: 0.8714\n",
      "Epoch 65/100\n",
      "4378/4378 [==============================] - 0s 64us/step - loss: 0.3583 - acc: 0.8703\n",
      "Epoch 66/100\n",
      "4378/4378 [==============================] - 0s 61us/step - loss: 0.3534 - acc: 0.8673\n",
      "Epoch 67/100\n",
      "4378/4378 [==============================] - 0s 66us/step - loss: 0.3379 - acc: 0.8732\n"
     ]
    },
    {
     "name": "stdout",
     "output_type": "stream",
     "text": [
      "Epoch 68/100\n",
      "4378/4378 [==============================] - 0s 60us/step - loss: 0.3417 - acc: 0.8799\n",
      "Epoch 69/100\n",
      "4378/4378 [==============================] - 0s 54us/step - loss: 0.3396 - acc: 0.8744\n",
      "Epoch 70/100\n",
      "4378/4378 [==============================] - 0s 54us/step - loss: 0.3290 - acc: 0.8815\n",
      "Epoch 71/100\n",
      "4378/4378 [==============================] - 0s 53us/step - loss: 0.3194 - acc: 0.8847\n",
      "Epoch 72/100\n",
      "4378/4378 [==============================] - 0s 56us/step - loss: 0.3234 - acc: 0.8835\n",
      "Epoch 73/100\n",
      "4378/4378 [==============================] - 0s 55us/step - loss: 0.3110 - acc: 0.8874\n",
      "Epoch 74/100\n",
      "4378/4378 [==============================] - 0s 55us/step - loss: 0.3084 - acc: 0.8892\n",
      "Epoch 75/100\n",
      "4378/4378 [==============================] - 0s 53us/step - loss: 0.3117 - acc: 0.8920\n",
      "Epoch 76/100\n",
      "4378/4378 [==============================] - 0s 55us/step - loss: 0.2955 - acc: 0.8929\n",
      "Epoch 77/100\n",
      "4378/4378 [==============================] - 0s 55us/step - loss: 0.2955 - acc: 0.8947\n",
      "Epoch 78/100\n",
      "4378/4378 [==============================] - 0s 53us/step - loss: 0.2841 - acc: 0.8993\n",
      "Epoch 79/100\n",
      "4378/4378 [==============================] - 0s 53us/step - loss: 0.2795 - acc: 0.8972\n",
      "Epoch 80/100\n",
      "4378/4378 [==============================] - 0s 55us/step - loss: 0.2792 - acc: 0.9018\n",
      "Epoch 81/100\n",
      "4378/4378 [==============================] - 0s 55us/step - loss: 0.2670 - acc: 0.9043\n",
      "Epoch 82/100\n",
      "4378/4378 [==============================] - 0s 55us/step - loss: 0.2718 - acc: 0.9002\n",
      "Epoch 83/100\n",
      "4378/4378 [==============================] - 0s 56us/step - loss: 0.2656 - acc: 0.9018\n",
      "Epoch 84/100\n",
      "4378/4378 [==============================] - 0s 65us/step - loss: 0.2604 - acc: 0.9086\n",
      "Epoch 85/100\n",
      "4378/4378 [==============================] - 0s 76us/step - loss: 0.2561 - acc: 0.9077\n",
      "Epoch 86/100\n",
      "4378/4378 [==============================] - 0s 72us/step - loss: 0.2555 - acc: 0.9045\n",
      "Epoch 87/100\n",
      "4378/4378 [==============================] - 0s 72us/step - loss: 0.2397 - acc: 0.9162\n",
      "Epoch 88/100\n",
      "4378/4378 [==============================] - 0s 57us/step - loss: 0.2494 - acc: 0.9102\n",
      "Epoch 89/100\n",
      "4378/4378 [==============================] - 0s 58us/step - loss: 0.2248 - acc: 0.9205\n",
      "Epoch 90/100\n",
      "4378/4378 [==============================] - 0s 57us/step - loss: 0.2236 - acc: 0.9189\n",
      "Epoch 91/100\n",
      "4378/4378 [==============================] - 0s 59us/step - loss: 0.2261 - acc: 0.9212\n",
      "Epoch 92/100\n",
      "4378/4378 [==============================] - 0s 68us/step - loss: 0.2253 - acc: 0.9132\n",
      "Epoch 93/100\n",
      "4378/4378 [==============================] - 0s 74us/step - loss: 0.2072 - acc: 0.9290\n",
      "Epoch 94/100\n",
      "4378/4378 [==============================] - 0s 70us/step - loss: 0.2137 - acc: 0.9280\n",
      "Epoch 95/100\n",
      "4378/4378 [==============================] - 0s 66us/step - loss: 0.2093 - acc: 0.9228\n",
      "Epoch 96/100\n",
      "4378/4378 [==============================] - 0s 62us/step - loss: 0.2046 - acc: 0.9265\n",
      "Epoch 97/100\n",
      "4378/4378 [==============================] - 0s 66us/step - loss: 0.2047 - acc: 0.9271\n",
      "Epoch 98/100\n",
      "4378/4378 [==============================] - 0s 69us/step - loss: 0.1965 - acc: 0.9317\n",
      "Epoch 99/100\n",
      "4378/4378 [==============================] - 0s 71us/step - loss: 0.2026 - acc: 0.9246\n",
      "Epoch 100/100\n",
      "4378/4378 [==============================] - 0s 69us/step - loss: 0.1891 - acc: 0.9344\n",
      "Accuracy: 67.91\n"
     ]
    }
   ],
   "source": [
    "from keras.wrappers.scikit_learn import KerasClassifier\n",
    "\n",
    "keras_classifier = KerasClassifier(build_fn=build_ann)\n",
    "parameters = {'batch_size': [128],\n",
    "              'epochs': [100],\n",
    "              'optimizer': ['rmsprop']}\n",
    "grid_search = GridSearchCV(estimator = keras_classifier,\n",
    "                           param_grid = parameters,\n",
    "                           cv = 5)\n",
    "grid_search = grid_search.fit(X_vect_nn, y_nn)\n",
    "best_parameters = grid_search.best_params_\n",
    "best_accuracy = grid_search.best_score_\n",
    "best_classifier = grid_search.best_estimator_\n",
    "print('Accuracy: %0.2f' % (best_accuracy*100))"
   ]
  },
  {
   "cell_type": "code",
   "execution_count": 424,
   "metadata": {
    "ExecuteTime": {
     "end_time": "2018-05-15T15:43:27.145442Z",
     "start_time": "2018-05-15T15:43:27.140029Z"
    }
   },
   "outputs": [
    {
     "data": {
      "text/plain": [
       "{'batch_size': 128, 'epochs': 50, 'optimizer': 'adam'}"
      ]
     },
     "execution_count": 424,
     "metadata": {},
     "output_type": "execute_result"
    }
   ],
   "source": [
    "best_parameters"
   ]
  },
  {
   "cell_type": "code",
   "execution_count": 421,
   "metadata": {
    "ExecuteTime": {
     "end_time": "2018-05-15T15:32:55.938693Z",
     "start_time": "2018-05-15T15:32:55.934087Z"
    }
   },
   "outputs": [
    {
     "data": {
      "text/plain": [
       "((3940, 4), (3940, 195))"
      ]
     },
     "execution_count": 421,
     "metadata": {},
     "output_type": "execute_result"
    }
   ],
   "source": [
    "y_train_nn.shape, X_train_nn.shape"
   ]
  },
  {
   "cell_type": "code",
   "execution_count": 290,
   "metadata": {
    "ExecuteTime": {
     "end_time": "2018-05-13T09:25:13.340412Z",
     "start_time": "2018-05-13T09:25:13.329810Z"
    },
    "scrolled": true
   },
   "outputs": [],
   "source": [
    "y_pred_extra = classifier.predict(X_test_extra_nn)\n",
    "y_pred_extra = np.argmax(y_pred_extra, axis=1)"
   ]
  },
  {
   "cell_type": "code",
   "execution_count": 584,
   "metadata": {
    "ExecuteTime": {
     "end_time": "2018-05-06T10:25:54.905981Z",
     "start_time": "2018-05-06T10:25:54.577561Z"
    }
   },
   "outputs": [
    {
     "name": "stdout",
     "output_type": "stream",
     "text": [
      "Accuracy: 45.00\n"
     ]
    },
    {
     "data": {
      "image/png": "[encoded data removed]",
      "text/plain": [
       "<Figure size 432x288 with 2 Axes>"
      ]
     },
     "metadata": {},
     "output_type": "display_data"
    }
   ],
   "source": [
    "cm = confusion_matrix(encoded_Y_test_extra, y_pred_extra)\n",
    "plot_confusion_matrix(cm, classes=cm_labels)\n",
    "accuracy = (sum([cm[i,i] for i in range(len(cm))])) / len(encoded_Y_test_extra)\n",
    "print('Accuracy: %0.2f' % (accuracy*100))"
   ]
  },
  {
   "cell_type": "code",
   "execution_count": 25,
   "metadata": {
    "ExecuteTime": {
     "end_time": "2018-05-04T08:13:50.892783Z",
     "start_time": "2018-05-04T08:13:50.849336Z"
    },
    "scrolled": true
   },
   "outputs": [
    {
     "name": "stdout",
     "output_type": "stream",
     "text": [
      "Prediction for: \"Don't Worry, Be Happy\" from \"Bobby McFerrin\"\n",
      "\t - angry\n",
      "Prediction for: \"Don't Stop me Now\" from \"Queen\"\n",
      "\t - angry\n",
      "Prediction for: \"Happy\" from \"Pharrell Williams\"\n",
      "\t - angry\n",
      "Prediction for: \"I'm a believer\" from \"The Monkees\"\n",
      "\t - happy\n",
      "Prediction for: \"Toxic\" from \"Britney Spears\"\n",
      "\t - happy\n",
      "Prediction for: \"Buttons\" from \"The Pussycat Dolls\"\n",
      "\t - angry\n",
      "Prediction for: \"Crazy In Love\" from \"Beyoncé\"\n",
      "\t - happy\n",
      "Prediction for: \"Everybody Hurts\" from \"R.E.M.\"\n",
      "\t - angry\n",
      "Prediction for: \"Someone Like You\" from \"Adele\"\n",
      "\t - angry\n",
      "Prediction for: \"Wish you were here\" from \"Pink Floyd\"\n",
      "\t - relaxed\n",
      "Prediction for: \"Hurt\" from \"Johnny Cash\"\n",
      "\t - relaxed\n",
      "Prediction for: \"Smells like teen spirit\" from \"Nirvana\"\n",
      "\t - angry\n",
      "Prediction for: \"My Boo\" from \"Usher\"\n",
      "\t - happy\n",
      "Prediction for: \"Rock Your Body\" from \"Justin Timberlake\"\n",
      "\t - angry\n",
      "Prediction for: \"It Wasn't Me\" from \"Shaggy\"\n",
      "\t - happy\n",
      "Prediction for: \"Killing in the name\" from \"Rage Against the Machine\"\n",
      "\t - angry\n",
      "Prediction for: \"Stronger\" from \"Kanye West\"\n",
      "\t - angry\n",
      "Prediction for: \"All Star\" from \"Smash Mouth\"\n",
      "\t - happy\n",
      "Prediction for: \"The Ballad of Chasey Lain\" from \"Bloodhound Gang\"\n",
      "\t - happy\n",
      "Prediction for: \"Song 2\" from \"Blur\"\n",
      "\t - relaxed\n"
     ]
    },
    {
     "name": "stderr",
     "output_type": "stream",
     "text": [
      "/usr/local/lib/python3.5/dist-packages/sklearn/preprocessing/label.py:171: DeprecationWarning: The truth value of an empty array is ambiguous. Returning False, but in future this will result in an error. Use `array.size > 0` to check that an array is not empty.\n",
      "  if diff:\n",
      "/usr/local/lib/python3.5/dist-packages/sklearn/preprocessing/label.py:171: DeprecationWarning: The truth value of an empty array is ambiguous. Returning False, but in future this will result in an error. Use `array.size > 0` to check that an array is not empty.\n",
      "  if diff:\n",
      "/usr/local/lib/python3.5/dist-packages/sklearn/preprocessing/label.py:171: DeprecationWarning: The truth value of an empty array is ambiguous. Returning False, but in future this will result in an error. Use `array.size > 0` to check that an array is not empty.\n",
      "  if diff:\n",
      "/usr/local/lib/python3.5/dist-packages/sklearn/preprocessing/label.py:171: DeprecationWarning: The truth value of an empty array is ambiguous. Returning False, but in future this will result in an error. Use `array.size > 0` to check that an array is not empty.\n",
      "  if diff:\n",
      "/usr/local/lib/python3.5/dist-packages/sklearn/preprocessing/label.py:171: DeprecationWarning: The truth value of an empty array is ambiguous. Returning False, but in future this will result in an error. Use `array.size > 0` to check that an array is not empty.\n",
      "  if diff:\n",
      "/usr/local/lib/python3.5/dist-packages/sklearn/preprocessing/label.py:171: DeprecationWarning: The truth value of an empty array is ambiguous. Returning False, but in future this will result in an error. Use `array.size > 0` to check that an array is not empty.\n",
      "  if diff:\n",
      "/usr/local/lib/python3.5/dist-packages/sklearn/preprocessing/label.py:171: DeprecationWarning: The truth value of an empty array is ambiguous. Returning False, but in future this will result in an error. Use `array.size > 0` to check that an array is not empty.\n",
      "  if diff:\n",
      "/usr/local/lib/python3.5/dist-packages/sklearn/preprocessing/label.py:171: DeprecationWarning: The truth value of an empty array is ambiguous. Returning False, but in future this will result in an error. Use `array.size > 0` to check that an array is not empty.\n",
      "  if diff:\n",
      "/usr/local/lib/python3.5/dist-packages/sklearn/preprocessing/label.py:171: DeprecationWarning: The truth value of an empty array is ambiguous. Returning False, but in future this will result in an error. Use `array.size > 0` to check that an array is not empty.\n",
      "  if diff:\n",
      "/usr/local/lib/python3.5/dist-packages/sklearn/preprocessing/label.py:171: DeprecationWarning: The truth value of an empty array is ambiguous. Returning False, but in future this will result in an error. Use `array.size > 0` to check that an array is not empty.\n",
      "  if diff:\n",
      "/usr/local/lib/python3.5/dist-packages/sklearn/preprocessing/label.py:171: DeprecationWarning: The truth value of an empty array is ambiguous. Returning False, but in future this will result in an error. Use `array.size > 0` to check that an array is not empty.\n",
      "  if diff:\n",
      "/usr/local/lib/python3.5/dist-packages/sklearn/preprocessing/label.py:171: DeprecationWarning: The truth value of an empty array is ambiguous. Returning False, but in future this will result in an error. Use `array.size > 0` to check that an array is not empty.\n",
      "  if diff:\n",
      "/usr/local/lib/python3.5/dist-packages/sklearn/preprocessing/label.py:171: DeprecationWarning: The truth value of an empty array is ambiguous. Returning False, but in future this will result in an error. Use `array.size > 0` to check that an array is not empty.\n",
      "  if diff:\n",
      "/usr/local/lib/python3.5/dist-packages/sklearn/preprocessing/label.py:171: DeprecationWarning: The truth value of an empty array is ambiguous. Returning False, but in future this will result in an error. Use `array.size > 0` to check that an array is not empty.\n",
      "  if diff:\n",
      "/usr/local/lib/python3.5/dist-packages/sklearn/preprocessing/label.py:171: DeprecationWarning: The truth value of an empty array is ambiguous. Returning False, but in future this will result in an error. Use `array.size > 0` to check that an array is not empty.\n",
      "  if diff:\n",
      "/usr/local/lib/python3.5/dist-packages/sklearn/preprocessing/label.py:171: DeprecationWarning: The truth value of an empty array is ambiguous. Returning False, but in future this will result in an error. Use `array.size > 0` to check that an array is not empty.\n",
      "  if diff:\n",
      "/usr/local/lib/python3.5/dist-packages/sklearn/preprocessing/label.py:171: DeprecationWarning: The truth value of an empty array is ambiguous. Returning False, but in future this will result in an error. Use `array.size > 0` to check that an array is not empty.\n",
      "  if diff:\n",
      "/usr/local/lib/python3.5/dist-packages/sklearn/preprocessing/label.py:171: DeprecationWarning: The truth value of an empty array is ambiguous. Returning False, but in future this will result in an error. Use `array.size > 0` to check that an array is not empty.\n",
      "  if diff:\n",
      "/usr/local/lib/python3.5/dist-packages/sklearn/preprocessing/label.py:171: DeprecationWarning: The truth value of an empty array is ambiguous. Returning False, but in future this will result in an error. Use `array.size > 0` to check that an array is not empty.\n",
      "  if diff:\n",
      "/usr/local/lib/python3.5/dist-packages/sklearn/preprocessing/label.py:171: DeprecationWarning: The truth value of an empty array is ambiguous. Returning False, but in future this will result in an error. Use `array.size > 0` to check that an array is not empty.\n",
      "  if diff:\n"
     ]
    }
   ],
   "source": [
    "extra_test = pd.read_csv(extra_test_path)\n",
    "for (idx, row) in extra_test.iterrows():\n",
    "    print('Prediction for: \"{}\" from \"{}\"'.format(row['SONG_TITLE'], row['ARTIST']))\n",
    "    print('\\t - {}'.format(encoder.inverse_transform(y_pred_extra[idx])))"
   ]
  },
  {
   "cell_type": "markdown",
   "metadata": {},
   "source": [
    "### Playlist Classification"
   ]
  },
  {
   "cell_type": "code",
   "execution_count": 595,
   "metadata": {
    "ExecuteTime": {
     "end_time": "2018-05-15T16:58:44.572415Z",
     "start_time": "2018-05-15T16:58:44.187279Z"
    }
   },
   "outputs": [],
   "source": [
    "import json\n",
    "\n",
    "n_pl = 3\n",
    "\n",
    "data = json.load(open('./datasets/mpd.slice.0-999.json'))\n",
    "pids = [612]#12, 87, 94, 656, 821, 863, 612, 669, 728, 387, 578]\n",
    "playlists = [p for p in data['playlists'] if p['pid'] in pids]"
   ]
  },
  {
   "cell_type": "code",
   "execution_count": 596,
   "metadata": {
    "ExecuteTime": {
     "end_time": "2018-05-15T16:58:44.662534Z",
     "start_time": "2018-05-15T16:58:44.659154Z"
    }
   },
   "outputs": [],
   "source": [
    "from utils.dataset_parsing import *\n",
    "import utils.sentiment_analysis as sa"
   ]
  },
  {
   "cell_type": "code",
   "execution_count": 597,
   "metadata": {
    "ExecuteTime": {
     "end_time": "2018-05-15T16:58:45.207079Z",
     "start_time": "2018-05-15T16:58:45.179639Z"
    }
   },
   "outputs": [],
   "source": [
    "def featurize(lyrics, pid, playlist_name, artist, title):\n",
    "    lyric_doc = nlp(lyrics)\n",
    "    title_doc = nlp(title)\n",
    "    lyric = preprocess(lyrics)\n",
    "    features = feature_extraction(lyric, title)\n",
    "\n",
    "    freq = features['frequencies'] \n",
    "    sentiment = sa.analyse(lyrics)\n",
    "    elem = [\n",
    "        pid, playlist_name, 0, artist, title,\n",
    "        lyric_doc.vector, title_doc.vector,\n",
    "        features['line_count'], features['word_count'],#get_line_count(lyric), get_word_count(lyric),\n",
    "        #get_slang_counts(lyric),\n",
    "        features['echoisms'], features['selfish'],#get_echoisms(lyric), get_selfish_degree(lyric),\n",
    "        count_duplicate_lines(lyric), features['is_title_in_lyrics'],# (row['Song'], lyric),\n",
    "        features['rhymes'],#get_rhymes(lyric),\n",
    "        features['verb_tenses']['present'], features['verb_tenses']['past'], features['verb_tenses']['future'], #verb_freq['present'], verb_freq['past'], verb_freq['future'],\n",
    "        freq['ADJ'], freq['ADP'], freq['ADV'], freq['AUX'], freq['CONJ'], \n",
    "        freq['CCONJ'], freq['DET'], freq['INTJ'], freq['NOUN'], freq['NUM'],\n",
    "        freq['PART'], freq['PRON'], freq['PROPN'], freq['PUNCT'], freq['SCONJ'],\n",
    "        freq['SYM'], freq['VERB'], freq['X'], freq['SPACE'],\n",
    "        # Sentiment analysis stuff\n",
    "        sentiment[0], sentiment[1]\n",
    "    ]\n",
    "    return elem"
   ]
  },
  {
   "cell_type": "code",
   "execution_count": 598,
   "metadata": {
    "ExecuteTime": {
     "end_time": "2018-05-15T16:58:45.693233Z",
     "start_time": "2018-05-15T16:58:45.690196Z"
    }
   },
   "outputs": [],
   "source": [
    "import lyricwikia"
   ]
  },
  {
   "cell_type": "code",
   "execution_count": 599,
   "metadata": {
    "ExecuteTime": {
     "end_time": "2018-05-15T17:00:39.623615Z",
     "start_time": "2018-05-15T16:58:46.251269Z"
    }
   },
   "outputs": [
    {
     "data": {
      "text/html": [
       "<div>\n",
       "<style scoped>\n",
       "    .dataframe tbody tr th:only-of-type {\n",
       "        vertical-align: middle;\n",
       "    }\n",
       "\n",
       "    .dataframe tbody tr th {\n",
       "        vertical-align: top;\n",
       "    }\n",
       "\n",
       "    .dataframe thead th {\n",
       "        text-align: right;\n",
       "    }\n",
       "</style>\n",
       "<table border=\"1\" class=\"dataframe\">\n",
       "  <thead>\n",
       "    <tr style=\"text-align: right;\">\n",
       "      <th></th>\n",
       "      <th>PlaylistPid</th>\n",
       "      <th>PlaylistName</th>\n",
       "      <th>TrackUri</th>\n",
       "      <th>ArtistName</th>\n",
       "      <th>TrackName</th>\n",
       "      <th>LYRICS_VECTOR</th>\n",
       "      <th>TITLE_VECTOR</th>\n",
       "      <th>LINE_COUNT</th>\n",
       "      <th>WORD_COUNT</th>\n",
       "      <th>ECHOISMS</th>\n",
       "      <th>...</th>\n",
       "      <th>PRON_FREQUENCIES</th>\n",
       "      <th>PROPN_FREQUENCIES</th>\n",
       "      <th>PUNCT_FREQUENCIES</th>\n",
       "      <th>SCONJ_FREQUENCIES</th>\n",
       "      <th>SYM_FREQUENCIES</th>\n",
       "      <th>VERB_FREQUENCIES</th>\n",
       "      <th>X_FREQUENCIES</th>\n",
       "      <th>SPACE_FREQUENCIES</th>\n",
       "      <th>SENTIMENT</th>\n",
       "      <th>SUBJECTIVITY</th>\n",
       "    </tr>\n",
       "  </thead>\n",
       "  <tbody>\n",
       "    <tr>\n",
       "      <th>0</th>\n",
       "      <td>612</td>\n",
       "      <td>Test</td>\n",
       "      <td>0</td>\n",
       "      <td>blackbear</td>\n",
       "      <td>do re mi</td>\n",
       "      <td>[-0.060807034, 0.10102596, -0.24047479, -0.076...</td>\n",
       "      <td>[0.15788434, -0.04598233, -0.22609265, -0.2653...</td>\n",
       "      <td>51</td>\n",
       "      <td>374</td>\n",
       "      <td>0.0</td>\n",
       "      <td>...</td>\n",
       "      <td>0.133690</td>\n",
       "      <td>0.021390</td>\n",
       "      <td>0.008021</td>\n",
       "      <td>0.0</td>\n",
       "      <td>0.0</td>\n",
       "      <td>0.243316</td>\n",
       "      <td>0.048128</td>\n",
       "      <td>0.0</td>\n",
       "      <td>-0.227652</td>\n",
       "      <td>0.580808</td>\n",
       "    </tr>\n",
       "    <tr>\n",
       "      <th>1</th>\n",
       "      <td>612</td>\n",
       "      <td>Test</td>\n",
       "      <td>0</td>\n",
       "      <td>Post Malone</td>\n",
       "      <td>Go Flex</td>\n",
       "      <td>[-0.0051151467, 0.17242686, -0.18923114, -0.02...</td>\n",
       "      <td>[0.14533, 0.100967005, 0.20689498, 0.288135, 0...</td>\n",
       "      <td>31</td>\n",
       "      <td>266</td>\n",
       "      <td>0.0</td>\n",
       "      <td>...</td>\n",
       "      <td>0.131579</td>\n",
       "      <td>0.000000</td>\n",
       "      <td>0.067669</td>\n",
       "      <td>0.0</td>\n",
       "      <td>0.0</td>\n",
       "      <td>0.244361</td>\n",
       "      <td>0.000000</td>\n",
       "      <td>0.0</td>\n",
       "      <td>-0.271364</td>\n",
       "      <td>0.625455</td>\n",
       "    </tr>\n",
       "    <tr>\n",
       "      <th>2</th>\n",
       "      <td>612</td>\n",
       "      <td>Test</td>\n",
       "      <td>0</td>\n",
       "      <td>Drake</td>\n",
       "      <td>Madiba Riddim</td>\n",
       "      <td>[-0.021780357, 0.17223118, -0.23054837, -0.082...</td>\n",
       "      <td>[0.008369, 0.0218645, 0.25986, -0.48902, 0.218...</td>\n",
       "      <td>45</td>\n",
       "      <td>292</td>\n",
       "      <td>0.0</td>\n",
       "      <td>...</td>\n",
       "      <td>0.215753</td>\n",
       "      <td>0.044521</td>\n",
       "      <td>0.061644</td>\n",
       "      <td>0.0</td>\n",
       "      <td>0.0</td>\n",
       "      <td>0.332192</td>\n",
       "      <td>0.000000</td>\n",
       "      <td>0.0</td>\n",
       "      <td>0.315760</td>\n",
       "      <td>0.450113</td>\n",
       "    </tr>\n",
       "  </tbody>\n",
       "</table>\n",
       "<p>3 rows × 38 columns</p>\n",
       "</div>"
      ],
      "text/plain": [
       "   PlaylistPid PlaylistName  TrackUri   ArtistName      TrackName  \\\n",
       "0          612         Test         0    blackbear       do re mi   \n",
       "1          612         Test         0  Post Malone        Go Flex   \n",
       "2          612         Test         0        Drake  Madiba Riddim   \n",
       "\n",
       "                                       LYRICS_VECTOR  \\\n",
       "0  [-0.060807034, 0.10102596, -0.24047479, -0.076...   \n",
       "1  [-0.0051151467, 0.17242686, -0.18923114, -0.02...   \n",
       "2  [-0.021780357, 0.17223118, -0.23054837, -0.082...   \n",
       "\n",
       "                                        TITLE_VECTOR  LINE_COUNT  WORD_COUNT  \\\n",
       "0  [0.15788434, -0.04598233, -0.22609265, -0.2653...          51         374   \n",
       "1  [0.14533, 0.100967005, 0.20689498, 0.288135, 0...          31         266   \n",
       "2  [0.008369, 0.0218645, 0.25986, -0.48902, 0.218...          45         292   \n",
       "\n",
       "   ECHOISMS      ...       PRON_FREQUENCIES  PROPN_FREQUENCIES  \\\n",
       "0       0.0      ...               0.133690           0.021390   \n",
       "1       0.0      ...               0.131579           0.000000   \n",
       "2       0.0      ...               0.215753           0.044521   \n",
       "\n",
       "   PUNCT_FREQUENCIES  SCONJ_FREQUENCIES  SYM_FREQUENCIES  VERB_FREQUENCIES  \\\n",
       "0           0.008021                0.0              0.0          0.243316   \n",
       "1           0.067669                0.0              0.0          0.244361   \n",
       "2           0.061644                0.0              0.0          0.332192   \n",
       "\n",
       "   X_FREQUENCIES  SPACE_FREQUENCIES  SENTIMENT  SUBJECTIVITY  \n",
       "0       0.048128                0.0  -0.227652      0.580808  \n",
       "1       0.000000                0.0  -0.271364      0.625455  \n",
       "2       0.000000                0.0   0.315760      0.450113  \n",
       "\n",
       "[3 rows x 38 columns]"
      ]
     },
     "execution_count": 599,
     "metadata": {},
     "output_type": "execute_result"
    }
   ],
   "source": [
    "features = list()\n",
    "for playlist in playlists:\n",
    "    for track in playlist['tracks']:\n",
    "        artist = track['artist_name']\n",
    "        title = track['track_name']\n",
    "        try:\n",
    "            lyrics = lyricwikia.get_lyrics(artist, title)\n",
    "            x = featurize(lyrics, playlist['pid'], 'Test', artist, title)\n",
    "            features.append(x)\n",
    "        except lyricwikia.LyricsNotFound:\n",
    "             continue\n",
    "    df = pd.DataFrame(features, columns=['PlaylistPid','PlaylistName','TrackUri', 'ArtistName', 'TrackName','LYRICS_VECTOR', 'TITLE_VECTOR', \n",
    "            'LINE_COUNT', 'WORD_COUNT', 'ECHOISMS', 'SELFISH_DEGREE', \n",
    "            'DUPLICATE_LINES', 'IS_TITLE_IN_LYRICS', 'RHYMES', 'VERB_PRESENT', \n",
    "            'VERB_PAST', 'VERB_FUTURE', 'ADJ_FREQUENCIES', 'CONJUCTION_FREQUENCIES', \n",
    "            'ADV_FREQUENCIES', 'AUX_FREQUENCIES', 'CONJ_FREQUENCIES', 'CCONJ_FREQUENCIES', \n",
    "            'DETERMINER_FREQUENCIES', 'INTERJECTION_FREQUENCIES', 'NOUN_FREQUENCIES', \n",
    "            'NUM_FREQUENCIES', 'PART_FREQUENCIES', 'PRON_FREQUENCIES', 'PROPN_FREQUENCIES', \n",
    "            'PUNCT_FREQUENCIES', 'SCONJ_FREQUENCIES', 'SYM_FREQUENCIES', 'VERB_FREQUENCIES',\n",
    "            'X_FREQUENCIES', 'SPACE_FREQUENCIES', \n",
    "            'SENTIMENT', 'SUBJECTIVITY'])\n",
    "df.head(3)"
   ]
  },
  {
   "cell_type": "code",
   "execution_count": 600,
   "metadata": {
    "ExecuteTime": {
     "end_time": "2018-05-15T17:00:39.672846Z",
     "start_time": "2018-05-15T17:00:39.626689Z"
    }
   },
   "outputs": [
    {
     "data": {
      "text/plain": [
       "(57, 310)"
      ]
     },
     "execution_count": 600,
     "metadata": {},
     "output_type": "execute_result"
    }
   ],
   "source": [
    "tmp_df = df[[\n",
    "   'LYRICS_VECTOR',\n",
    "   'ECHOISMS', \n",
    "   'DUPLICATE_LINES', 'IS_TITLE_IN_LYRICS', 'VERB_PRESENT', \n",
    "   'VERB_PAST', 'VERB_FUTURE', 'ADJ_FREQUENCIES',\n",
    "   'PUNCT_FREQUENCIES',\n",
    "   'SENTIMENT', 'SUBJECTIVITY']]#.drop(['PlaylistPid', 'PlaylistName', 'TrackUri', 'ArtistName', 'TrackName'], axis=1, inplace=True)\n",
    "X_vect = list()\n",
    "for (i, row) in tmp_df.iterrows():\n",
    "    sub_list = list()\n",
    "    for field in row:\n",
    "        if type(field) == np.ndarray:\n",
    "            sub_list += [float(x) for x in field]\n",
    "        else:\n",
    "            sub_list.append(field)\n",
    "    X_vect.append(np.array(sub_list))\n",
    "X_vect = np.array(X_vect)\n",
    "X_vect.shape"
   ]
  },
  {
   "cell_type": "code",
   "execution_count": 601,
   "metadata": {
    "ExecuteTime": {
     "end_time": "2018-05-15T17:00:39.680020Z",
     "start_time": "2018-05-15T17:00:39.676232Z"
    }
   },
   "outputs": [],
   "source": [
    "X_vect_nn = sc.transform(X_vect)"
   ]
  },
  {
   "cell_type": "code",
   "execution_count": 602,
   "metadata": {
    "ExecuteTime": {
     "end_time": "2018-05-15T17:00:39.696298Z",
     "start_time": "2018-05-15T17:00:39.683523Z"
    }
   },
   "outputs": [],
   "source": [
    "y_pred = classifier.predict(X_vect_nn, verbose=0)"
   ]
  },
  {
   "cell_type": "code",
   "execution_count": 603,
   "metadata": {
    "ExecuteTime": {
     "end_time": "2018-05-15T17:00:39.710598Z",
     "start_time": "2018-05-15T17:00:39.702697Z"
    }
   },
   "outputs": [],
   "source": [
    "classificationDf = pd.DataFrame(data=y_pred,columns=cm_labels)\n",
    "finalDf = pd.concat([df, classificationDf],axis=1)"
   ]
  },
  {
   "cell_type": "code",
   "execution_count": 604,
   "metadata": {
    "ExecuteTime": {
     "end_time": "2018-05-15T17:00:39.732561Z",
     "start_time": "2018-05-15T17:00:39.714037Z"
    }
   },
   "outputs": [
    {
     "data": {
      "text/html": [
       "<div>\n",
       "<style scoped>\n",
       "    .dataframe tbody tr th:only-of-type {\n",
       "        vertical-align: middle;\n",
       "    }\n",
       "\n",
       "    .dataframe tbody tr th {\n",
       "        vertical-align: top;\n",
       "    }\n",
       "\n",
       "    .dataframe thead th {\n",
       "        text-align: right;\n",
       "    }\n",
       "</style>\n",
       "<table border=\"1\" class=\"dataframe\">\n",
       "  <thead>\n",
       "    <tr style=\"text-align: right;\">\n",
       "      <th></th>\n",
       "      <th>angry</th>\n",
       "      <th>happy</th>\n",
       "      <th>relaxed</th>\n",
       "      <th>sad</th>\n",
       "    </tr>\n",
       "  </thead>\n",
       "  <tbody>\n",
       "    <tr>\n",
       "      <th>0</th>\n",
       "      <td>0.090471</td>\n",
       "      <td>0.004921</td>\n",
       "      <td>0.902696</td>\n",
       "      <td>0.001912</td>\n",
       "    </tr>\n",
       "    <tr>\n",
       "      <th>1</th>\n",
       "      <td>0.991460</td>\n",
       "      <td>0.002359</td>\n",
       "      <td>0.000440</td>\n",
       "      <td>0.005741</td>\n",
       "    </tr>\n",
       "    <tr>\n",
       "      <th>2</th>\n",
       "      <td>0.109958</td>\n",
       "      <td>0.051137</td>\n",
       "      <td>0.817349</td>\n",
       "      <td>0.021557</td>\n",
       "    </tr>\n",
       "    <tr>\n",
       "      <th>3</th>\n",
       "      <td>0.366557</td>\n",
       "      <td>0.118908</td>\n",
       "      <td>0.049511</td>\n",
       "      <td>0.465023</td>\n",
       "    </tr>\n",
       "    <tr>\n",
       "      <th>4</th>\n",
       "      <td>0.794785</td>\n",
       "      <td>0.145631</td>\n",
       "      <td>0.055512</td>\n",
       "      <td>0.004072</td>\n",
       "    </tr>\n",
       "  </tbody>\n",
       "</table>\n",
       "</div>"
      ],
      "text/plain": [
       "      angry     happy   relaxed       sad\n",
       "0  0.090471  0.004921  0.902696  0.001912\n",
       "1  0.991460  0.002359  0.000440  0.005741\n",
       "2  0.109958  0.051137  0.817349  0.021557\n",
       "3  0.366557  0.118908  0.049511  0.465023\n",
       "4  0.794785  0.145631  0.055512  0.004072"
      ]
     },
     "execution_count": 604,
     "metadata": {},
     "output_type": "execute_result"
    }
   ],
   "source": [
    "finalDf[cm_labels].head(5)"
   ]
  },
  {
   "cell_type": "code",
   "execution_count": 605,
   "metadata": {
    "ExecuteTime": {
     "end_time": "2018-05-15T17:00:39.743691Z",
     "start_time": "2018-05-15T17:00:39.734837Z"
    }
   },
   "outputs": [],
   "source": [
    "map_mean = dict()\n",
    "for emo in cm_labels:\n",
    "    map_mean[emo] = 'mean'\n",
    "playlistDf = finalDf.groupby(by='PlaylistPid').agg(map_mean)"
   ]
  },
  {
   "cell_type": "code",
   "execution_count": 606,
   "metadata": {
    "ExecuteTime": {
     "end_time": "2018-05-15T17:00:45.197456Z",
     "start_time": "2018-05-15T17:00:45.182900Z"
    }
   },
   "outputs": [
    {
     "data": {
      "text/html": [
       "<div>\n",
       "<style scoped>\n",
       "    .dataframe tbody tr th:only-of-type {\n",
       "        vertical-align: middle;\n",
       "    }\n",
       "\n",
       "    .dataframe tbody tr th {\n",
       "        vertical-align: top;\n",
       "    }\n",
       "\n",
       "    .dataframe thead th {\n",
       "        text-align: right;\n",
       "    }\n",
       "</style>\n",
       "<table border=\"1\" class=\"dataframe\">\n",
       "  <thead>\n",
       "    <tr style=\"text-align: right;\">\n",
       "      <th></th>\n",
       "      <th>angry</th>\n",
       "      <th>relaxed</th>\n",
       "      <th>happy</th>\n",
       "      <th>sad</th>\n",
       "    </tr>\n",
       "    <tr>\n",
       "      <th>PlaylistPid</th>\n",
       "      <th></th>\n",
       "      <th></th>\n",
       "      <th></th>\n",
       "      <th></th>\n",
       "    </tr>\n",
       "  </thead>\n",
       "  <tbody>\n",
       "    <tr>\n",
       "      <th>612</th>\n",
       "      <td>0.371769</td>\n",
       "      <td>0.174252</td>\n",
       "      <td>0.382049</td>\n",
       "      <td>0.07193</td>\n",
       "    </tr>\n",
       "  </tbody>\n",
       "</table>\n",
       "</div>"
      ],
      "text/plain": [
       "                angry   relaxed     happy      sad\n",
       "PlaylistPid                                       \n",
       "612          0.371769  0.174252  0.382049  0.07193"
      ]
     },
     "execution_count": 606,
     "metadata": {},
     "output_type": "execute_result"
    }
   ],
   "source": [
    "playlistDf.head(n_pl)"
   ]
  },
  {
   "cell_type": "markdown",
   "metadata": {},
   "source": [
    "## Logistic Regression"
   ]
  },
  {
   "cell_type": "code",
   "execution_count": 359,
   "metadata": {
    "ExecuteTime": {
     "end_time": "2018-05-15T15:20:17.111332Z",
     "start_time": "2018-05-15T15:20:17.095346Z"
    }
   },
   "outputs": [],
   "source": [
    "from sklearn.linear_model import LogisticRegression\n",
    "def evaluate_logreg(X_train, y_train, X_test, y_test):\n",
    "    classifier = LogisticRegression(penalty='l2', dual=False, C=25,\n",
    "                                    solver='newton-cg', multi_class='multinomial', random_state=0)\n",
    "    classifier.fit(X_train, y_train)\n",
    "    y_pred = classifier.predict(X_test)\n",
    "    cm = confusion_matrix(y_test, y_pred)\n",
    "    plot_confusion_matrix(cm, classes=cm_labels)\n",
    "    print('Accuracy of logistic regression classifier on test set: {:.2f}'.format(classifier.score(X_test, y_test)))"
   ]
  },
  {
   "cell_type": "code",
   "execution_count": 360,
   "metadata": {
    "ExecuteTime": {
     "end_time": "2018-05-15T15:20:21.440303Z",
     "start_time": "2018-05-15T15:20:17.353386Z"
    },
    "scrolled": false
   },
   "outputs": [
    {
     "name": "stdout",
     "output_type": "stream",
     "text": [
      "Accuracy of logistic regression classifier on test set: 0.68\n"
     ]
    },
    {
     "data": {
      "image/png": "[encoded data removed]",
      "text/plain": [
       "<Figure size 432x288 with 2 Axes>"
      ]
     },
     "metadata": {},
     "output_type": "display_data"
    }
   ],
   "source": [
    "evaluate_logreg(X_train, y_train, X_test, y_test)"
   ]
  },
  {
   "cell_type": "code",
   "execution_count": 65,
   "metadata": {
    "ExecuteTime": {
     "end_time": "2018-05-03T13:31:58.248593Z",
     "start_time": "2018-05-03T13:31:57.143904Z"
    },
    "scrolled": true
   },
   "outputs": [
    {
     "name": "stdout",
     "output_type": "stream",
     "text": [
      "Accuracy of logistic regression classifier on test set: 0.40\n"
     ]
    },
    {
     "data": {
      "image/png": "[encoded data removed]",
      "text/plain": [
       "<Figure size 432x288 with 2 Axes>"
      ]
     },
     "metadata": {},
     "output_type": "display_data"
    }
   ],
   "source": [
    "evaluate_logreg(X_train, y_train, X_test_extra, y_test_extra)"
   ]
  },
  {
   "cell_type": "markdown",
   "metadata": {},
   "source": [
    "### Playlist Classification"
   ]
  },
  {
   "cell_type": "code",
   "execution_count": null,
   "metadata": {
    "ExecuteTime": {
     "end_time": "2018-05-03T13:27:06.072055Z",
     "start_time": "2018-05-03T13:26:31.833Z"
    }
   },
   "outputs": [],
   "source": [
    "clf = LogisticRegression(penalty='l2', dual=False, C=0.15, \n",
    "                         solver='newton-cg', multi_class='multinomial', random_state=0)\n",
    "clf.fit(X_train, y_train)"
   ]
  },
  {
   "cell_type": "code",
   "execution_count": null,
   "metadata": {
    "ExecuteTime": {
     "end_time": "2018-05-03T13:27:06.073794Z",
     "start_time": "2018-05-03T13:26:32.054Z"
    }
   },
   "outputs": [],
   "source": [
    "import json\n",
    "\n",
    "n_pl = 5\n",
    "\n",
    "data = json.load(open('./datasets/mpd.slice.0-999.json'))\n",
    "playlists = data['playlists'][:n_pl]"
   ]
  },
  {
   "cell_type": "code",
   "execution_count": null,
   "metadata": {
    "ExecuteTime": {
     "end_time": "2018-05-03T13:27:06.075490Z",
     "start_time": "2018-05-03T13:26:32.256Z"
    }
   },
   "outputs": [],
   "source": [
    "from utils.dataset_parsing import *\n",
    "import utils.sentiment_analysis as sa"
   ]
  },
  {
   "cell_type": "code",
   "execution_count": null,
   "metadata": {
    "ExecuteTime": {
     "end_time": "2018-05-03T13:27:06.077230Z",
     "start_time": "2018-05-03T13:26:32.438Z"
    }
   },
   "outputs": [],
   "source": [
    "def featurize(lyrics, pid, playlist_name, artist, title):\n",
    "    lyric_doc = nlp(lyrics)\n",
    "    title_doc = nlp(title)\n",
    "    lyric = preprocess(lyrics)\n",
    "    features = feature_extraction(lyric, title)\n",
    "\n",
    "    freq = features['frequencies'] \n",
    "    sentiment = sa.analyse(lyrics)\n",
    "    elem = [\n",
    "        pid, playlist_name, 0, artist, title,\n",
    "        lyric_doc.vector, title_doc.vector,\n",
    "        features['line_count'], features['word_count'],#get_line_count(lyric), get_word_count(lyric),\n",
    "        #get_slang_counts(lyric),\n",
    "        features['echoisms'], features['selfish'],#get_echoisms(lyric), get_selfish_degree(lyric),\n",
    "        count_duplicate_lines(lyric), features['is_title_in_lyrics'],# (row['Song'], lyric),\n",
    "        features['rhymes'],#get_rhymes(lyric),\n",
    "        features['verb_tenses']['present'], features['verb_tenses']['past'], features['verb_tenses']['future'], #verb_freq['present'], verb_freq['past'], verb_freq['future'],\n",
    "        freq['ADJ'], freq['ADP'], freq['ADV'], freq['AUX'], freq['CONJ'], \n",
    "        freq['CCONJ'], freq['DET'], freq['INTJ'], freq['NOUN'], freq['NUM'],\n",
    "        freq['PART'], freq['PRON'], freq['PROPN'], freq['PUNCT'], freq['SCONJ'],\n",
    "        freq['SYM'], freq['VERB'], freq['X'], freq['SPACE'],\n",
    "        # Sentiment analysis stuff\n",
    "        sentiment[0], sentiment[1]\n",
    "    ]\n",
    "    return elem"
   ]
  },
  {
   "cell_type": "code",
   "execution_count": null,
   "metadata": {
    "ExecuteTime": {
     "end_time": "2018-05-03T13:27:06.078924Z",
     "start_time": "2018-05-03T13:26:32.735Z"
    }
   },
   "outputs": [],
   "source": [
    "import lyricwikia"
   ]
  },
  {
   "cell_type": "code",
   "execution_count": null,
   "metadata": {
    "ExecuteTime": {
     "start_time": "2018-05-01T09:40:49.491Z"
    },
    "deletable": false,
    "editable": false,
    "run_control": {
     "frozen": true
    }
   },
   "outputs": [],
   "source": [
    "features = list()\n",
    "for playlist in playlists:\n",
    "    for track in playlist['tracks']:\n",
    "        artist = track['artist_name']\n",
    "        title = track['track_name']\n",
    "        try:\n",
    "            lyrics = lyricwikia.get_lyrics(artist, title)\n",
    "            x = featurize(lyrics, playlist['pid'], 'Test', artist, title)\n",
    "            features.append(x)\n",
    "        except lyricwikia.LyricsNotFound:\n",
    "             continue\n",
    "    df = pd.DataFrame(features, columns=['PlaylistPid','PlaylistName','TrackUri', 'ArtistName', 'TrackName','LYRICS_VECTOR', 'TITLE_VECTOR', \n",
    "            'LINE_COUNT', 'WORD_COUNT', 'ECHOISMS', 'SELFISH_DEGREE', \n",
    "            'DUPLICATE_LINES', 'IS_TITLE_IN_LYRICS', 'RHYMES', 'VERB_PRESENT', \n",
    "            'VERB_PAST', 'VERB_FUTURE', 'ADJ_FREQUENCIES', 'CONJUCTION_FREQUENCIES', \n",
    "            'ADV_FREQUENCIES', 'AUX_FREQUENCIES', 'CONJ_FREQUENCIES', 'CCONJ_FREQUENCIES', \n",
    "            'DETERMINER_FREQUENCIES', 'INTERJECTION_FREQUENCIES', 'NOUN_FREQUENCIES', \n",
    "            'NUM_FREQUENCIES', 'PART_FREQUENCIES', 'PRON_FREQUENCIES', 'PROPN_FREQUENCIES', \n",
    "            'PUNCT_FREQUENCIES', 'SCONJ_FREQUENCIES', 'SYM_FREQUENCIES', 'VERB_FREQUENCIES',\n",
    "            'X_FREQUENCIES', 'SPACE_FREQUENCIES', \n",
    "            'SENTIMENT', 'SUBJECTIVITY'])\n",
    "df.head(3)"
   ]
  },
  {
   "cell_type": "code",
   "execution_count": null,
   "metadata": {
    "ExecuteTime": {
     "end_time": "2018-05-03T13:27:06.080644Z",
     "start_time": "2018-05-03T13:26:33.798Z"
    }
   },
   "outputs": [],
   "source": [
    "tmp_df = df[[\n",
    "   'LYRICS_VECTOR',\n",
    "   'WORD_COUNT', 'ECHOISMS', 'SELFISH_DEGREE', \n",
    "   'DUPLICATE_LINES', 'IS_TITLE_IN_LYRICS', 'VERB_PRESENT', \n",
    "   'VERB_PAST', 'VERB_FUTURE', 'ADJ_FREQUENCIES',\n",
    "   'PUNCT_FREQUENCIES',\n",
    "   'SENTIMENT', 'SUBJECTIVITY']]#.drop(['PlaylistPid', 'PlaylistName', 'TrackUri', 'ArtistName', 'TrackName'], axis=1, inplace=True)\n",
    "X_vect = list()\n",
    "for (i, row) in tmp_df.iterrows():\n",
    "    sub_list = list()\n",
    "    for field in row:\n",
    "        if type(field) == np.ndarray:\n",
    "            sub_list += [float(x) for x in field]\n",
    "        else:\n",
    "            sub_list.append(field)\n",
    "    X_vect.append(np.array(sub_list))\n",
    "X_vect = np.array(X_vect)\n",
    "X_vect.shape"
   ]
  },
  {
   "cell_type": "code",
   "execution_count": null,
   "metadata": {
    "ExecuteTime": {
     "end_time": "2018-05-03T13:27:06.082306Z",
     "start_time": "2018-05-03T13:26:34.116Z"
    }
   },
   "outputs": [],
   "source": [
    "y_pred = clf.predict_proba(X_vect)"
   ]
  },
  {
   "cell_type": "code",
   "execution_count": null,
   "metadata": {
    "ExecuteTime": {
     "end_time": "2018-05-03T13:27:06.084009Z",
     "start_time": "2018-05-03T13:26:34.361Z"
    }
   },
   "outputs": [],
   "source": [
    "classificationDf = pd.DataFrame(data=y_pred,columns=cm_labels)\n",
    "finalDf = pd.concat([df, classificationDf],axis=1)"
   ]
  },
  {
   "cell_type": "code",
   "execution_count": null,
   "metadata": {
    "ExecuteTime": {
     "end_time": "2018-05-03T13:27:06.085854Z",
     "start_time": "2018-05-03T13:26:34.544Z"
    }
   },
   "outputs": [],
   "source": [
    "finalDf[['angry', 'happy', 'relaxed', 'sad']].head(5)"
   ]
  },
  {
   "cell_type": "code",
   "execution_count": null,
   "metadata": {
    "ExecuteTime": {
     "end_time": "2018-05-03T13:27:06.087631Z",
     "start_time": "2018-05-03T13:26:34.741Z"
    }
   },
   "outputs": [],
   "source": [
    "playlistDf = finalDf.groupby(by='PlaylistPid').agg({'happy': 'mean', 'sad': 'mean', 'angry': 'mean', 'relaxed': 'mean'})"
   ]
  },
  {
   "cell_type": "code",
   "execution_count": null,
   "metadata": {
    "ExecuteTime": {
     "end_time": "2018-05-03T13:27:06.089451Z",
     "start_time": "2018-05-03T13:26:34.947Z"
    },
    "scrolled": true
   },
   "outputs": [],
   "source": [
    "playlistDf.head(n_pl)"
   ]
  },
  {
   "cell_type": "markdown",
   "metadata": {},
   "source": [
    "## SVM "
   ]
  },
  {
   "cell_type": "code",
   "execution_count": 310,
   "metadata": {
    "ExecuteTime": {
     "end_time": "2018-05-15T15:04:12.500982Z",
     "start_time": "2018-05-15T15:04:12.490409Z"
    }
   },
   "outputs": [],
   "source": [
    "def parameters_grid_search(classifier, params, x, y, cv=10, verbose=False):\n",
    "    \"\"\"\n",
    "    Grid Search to find best parameters for a certain classifier whose\n",
    "    performances are evaluated using cross-validation\n",
    "    \"\"\"\n",
    "    gs = GridSearchCV(classifier(), params, cv=cv, n_jobs=-1, verbose=verbose)\n",
    "    gs.fit(x, y)    \n",
    "    return (gs.best_estimator_, gs.best_params_)"
   ]
  },
  {
   "cell_type": "code",
   "execution_count": 345,
   "metadata": {
    "ExecuteTime": {
     "end_time": "2018-05-15T15:12:54.331560Z",
     "start_time": "2018-05-15T15:12:54.327315Z"
    }
   },
   "outputs": [],
   "source": [
    "from sklearn.svm import SVC"
   ]
  },
  {
   "cell_type": "code",
   "execution_count": 346,
   "metadata": {
    "ExecuteTime": {
     "end_time": "2018-05-15T15:12:57.576228Z",
     "start_time": "2018-05-15T15:12:54.535156Z"
    }
   },
   "outputs": [
    {
     "data": {
      "text/plain": [
       "SVC(C=220, cache_size=200, class_weight=None, coef0=0.0,\n",
       "  decision_function_shape=None, degree=3, gamma='auto', kernel='rbf',\n",
       "  max_iter=-1, probability=False, random_state=None, shrinking=True,\n",
       "  tol=0.001, verbose=False)"
      ]
     },
     "execution_count": 346,
     "metadata": {},
     "output_type": "execute_result"
    }
   ],
   "source": [
    "clf = SVC(C=220, kernel='rbf')\n",
    "clf.fit(X_train_pca, y_train)"
   ]
  },
  {
   "cell_type": "code",
   "execution_count": 347,
   "metadata": {
    "ExecuteTime": {
     "end_time": "2018-05-15T15:12:58.490572Z",
     "start_time": "2018-05-15T15:12:57.579955Z"
    }
   },
   "outputs": [
    {
     "name": "stdout",
     "output_type": "stream",
     "text": [
      "Accuracy of SVM classifier on test set: 71.005 %\n"
     ]
    },
    {
     "data": {
      "image/png": "[encoded data removed]",
      "text/plain": [
       "<Figure size 432x288 with 2 Axes>"
      ]
     },
     "metadata": {},
     "output_type": "display_data"
    }
   ],
   "source": [
    "y_pred = clf.predict(X_test_pca)\n",
    "plot_confusion_matrix(confusion_matrix(y_test, y_pred), classes=cm_labels)\n",
    "print('Accuracy of SVM classifier on test set: {:.3f} %'.format(clf.score(X_test_pca, y_test) * 100))"
   ]
  },
  {
   "cell_type": "code",
   "execution_count": 240,
   "metadata": {
    "ExecuteTime": {
     "end_time": "2018-05-15T14:58:39.760898Z",
     "start_time": "2018-05-15T14:58:39.441641Z"
    }
   },
   "outputs": [
    {
     "name": "stdout",
     "output_type": "stream",
     "text": [
      "Accuracy of SVM classifier on extra test set: 0.55\n"
     ]
    },
    {
     "data": {
      "image/png": "[encoded data removed]",
      "text/plain": [
       "<Figure size 432x288 with 2 Axes>"
      ]
     },
     "metadata": {},
     "output_type": "display_data"
    }
   ],
   "source": [
    "y_pred_extra = clf.predict(X_test_extra_pca)\n",
    "plot_confusion_matrix(confusion_matrix(y_test_extra, y_pred_extra), classes=cm_labels)\n",
    "print('Accuracy of SVM classifier on extra test set: {:.2f}'.format(clf.score(X_test_extra_pca, y_test_extra)))"
   ]
  },
  {
   "cell_type": "markdown",
   "metadata": {},
   "source": [
    "## eXtreme Gradient Boost"
   ]
  },
  {
   "cell_type": "code",
   "execution_count": 210,
   "metadata": {
    "ExecuteTime": {
     "end_time": "2018-05-15T14:53:13.891523Z",
     "start_time": "2018-05-15T14:53:13.888278Z"
    }
   },
   "outputs": [],
   "source": [
    "import xgboost"
   ]
  },
  {
   "cell_type": "code",
   "execution_count": 211,
   "metadata": {
    "ExecuteTime": {
     "end_time": "2018-05-15T14:53:22.059186Z",
     "start_time": "2018-05-15T14:53:14.359306Z"
    }
   },
   "outputs": [
    {
     "data": {
      "text/plain": [
       "XGBClassifier(base_score=0.5, booster='gbtree', colsample_bylevel=1,\n",
       "       colsample_bytree=1, gamma=0, learning_rate=0.1, max_delta_step=0,\n",
       "       max_depth=3, min_child_weight=1, missing=None, n_estimators=100,\n",
       "       n_jobs=1, nthread=None, objective='multi:softprob', random_state=0,\n",
       "       reg_alpha=0, reg_lambda=1, scale_pos_weight=1, seed=None,\n",
       "       silent=True, subsample=1)"
      ]
     },
     "execution_count": 211,
     "metadata": {},
     "output_type": "execute_result"
    }
   ],
   "source": [
    "xgb = xgboost.XGBClassifier()\n",
    "xgb.fit(X_train_pca, y_train)"
   ]
  },
  {
   "cell_type": "code",
   "execution_count": 212,
   "metadata": {
    "ExecuteTime": {
     "end_time": "2018-05-15T14:53:22.073132Z",
     "start_time": "2018-05-15T14:53:22.061829Z"
    }
   },
   "outputs": [
    {
     "name": "stdout",
     "output_type": "stream",
     "text": [
      "Accuracy: 54.12%\n"
     ]
    },
    {
     "name": "stderr",
     "output_type": "stream",
     "text": [
      "/usr/local/lib/python3.5/dist-packages/sklearn/preprocessing/label.py:171: DeprecationWarning: The truth value of an empty array is ambiguous. Returning False, but in future this will result in an error. Use `array.size > 0` to check that an array is not empty.\n",
      "  if diff:\n"
     ]
    }
   ],
   "source": [
    "predictions = xgb.predict(X_test_pca)\n",
    "accuracy = accuracy_score(y_test, predictions)\n",
    "print(\"Accuracy: %.2f%%\" % (accuracy * 100.0))"
   ]
  },
  {
   "cell_type": "markdown",
   "metadata": {},
   "source": [
    "## Naive Bayesian Classifier"
   ]
  },
  {
   "cell_type": "code",
   "execution_count": 168,
   "metadata": {
    "ExecuteTime": {
     "end_time": "2018-05-15T14:49:44.941245Z",
     "start_time": "2018-05-15T14:49:44.921477Z"
    }
   },
   "outputs": [],
   "source": [
    "from sklearn.preprocessing import MinMaxScaler\n",
    "\n",
    "## Scale inputs\n",
    "\n",
    "sc = MinMaxScaler((0,1))\n",
    "\n",
    "sc.fit(X_train_pca)\n",
    "\n",
    "X_train_nb = sc.transform(X_train_pca)\n",
    "X_test_nb = sc.transform(X_test_pca)\n",
    "X_test_extra_nb = sc.transform(X_test_extra_pca)"
   ]
  },
  {
   "cell_type": "code",
   "execution_count": 341,
   "metadata": {
    "ExecuteTime": {
     "end_time": "2018-05-15T15:12:24.608200Z",
     "start_time": "2018-05-15T15:12:24.604925Z"
    }
   },
   "outputs": [],
   "source": [
    "from sklearn.naive_bayes import MultinomialNB, GaussianNB"
   ]
  },
  {
   "cell_type": "code",
   "execution_count": 342,
   "metadata": {
    "ExecuteTime": {
     "end_time": "2018-05-15T15:12:25.385192Z",
     "start_time": "2018-05-15T15:12:25.352360Z"
    }
   },
   "outputs": [
    {
     "data": {
      "text/plain": [
       "GaussianNB(priors=None)"
      ]
     },
     "execution_count": 342,
     "metadata": {},
     "output_type": "execute_result"
    }
   ],
   "source": [
    "clf = GaussianNB()\n",
    "clf.fit(X_train, y_train)"
   ]
  },
  {
   "cell_type": "code",
   "execution_count": 343,
   "metadata": {
    "ExecuteTime": {
     "end_time": "2018-05-15T15:12:35.005906Z",
     "start_time": "2018-05-15T15:12:34.314442Z"
    }
   },
   "outputs": [
    {
     "name": "stdout",
     "output_type": "stream",
     "text": [
      "Accuracy of Naive-Bayes classifier on test set: 0.39\n"
     ]
    },
    {
     "data": {
      "image/png": "[encoded data removed]",
      "text/plain": [
       "<Figure size 432x288 with 2 Axes>"
      ]
     },
     "metadata": {},
     "output_type": "display_data"
    }
   ],
   "source": [
    "y_pred = clf.predict(X_test)\n",
    "plot_confusion_matrix(confusion_matrix(y_test, y_pred), classes=cm_labels)\n",
    "print('Accuracy of Naive-Bayes classifier on test set: {:.2f}'.format(clf.score(X_test, y_test)))"
   ]
  },
  {
   "cell_type": "code",
   "execution_count": 133,
   "metadata": {
    "ExecuteTime": {
     "end_time": "2018-05-13T09:14:12.051847Z",
     "start_time": "2018-05-13T09:14:11.756477Z"
    }
   },
   "outputs": [
    {
     "name": "stdout",
     "output_type": "stream",
     "text": [
      "Accuracy of Naive-Bayes classifier on extra test set: 0.55\n"
     ]
    },
    {
     "data": {
      "image/png": "[encoded data removed]",
      "text/plain": [
       "<Figure size 432x288 with 2 Axes>"
      ]
     },
     "metadata": {},
     "output_type": "display_data"
    }
   ],
   "source": [
    "y_pred = clf.predict(X_test_extra_nb)\n",
    "plot_confusion_matrix(confusion_matrix(y_test_extra, y_pred), classes=cm_labels)\n",
    "print('Accuracy of Naive-Bayes classifier on extra test set: {:.2f}'.format(clf.score(X_test_extra_nb, y_test_extra)))"
   ]
  },
  {
   "cell_type": "markdown",
   "metadata": {},
   "source": [
    "### Playlist Classification"
   ]
  },
  {
   "cell_type": "code",
   "execution_count": null,
   "metadata": {
    "ExecuteTime": {
     "end_time": "2018-05-03T13:27:06.118633Z",
     "start_time": "2018-05-03T13:26:41.019Z"
    }
   },
   "outputs": [],
   "source": [
    "import json\n",
    "\n",
    "n_pl = 5\n",
    "\n",
    "data = json.load(open('./datasets/mpd.slice.0-999.json'))\n",
    "playlists = data['playlists'][:n_pl]"
   ]
  },
  {
   "cell_type": "code",
   "execution_count": null,
   "metadata": {
    "ExecuteTime": {
     "end_time": "2018-05-03T13:27:06.121232Z",
     "start_time": "2018-05-03T13:26:41.876Z"
    }
   },
   "outputs": [],
   "source": [
    "from utils.dataset_parsing import *\n",
    "import utils.sentiment_analysis as sa"
   ]
  },
  {
   "cell_type": "code",
   "execution_count": null,
   "metadata": {
    "ExecuteTime": {
     "end_time": "2018-05-03T13:27:06.123673Z",
     "start_time": "2018-05-03T13:26:42.438Z"
    }
   },
   "outputs": [],
   "source": [
    "def featurize(lyrics, pid, playlist_name, artist, title):\n",
    "    lyric_doc = nlp(lyrics)\n",
    "    title_doc = nlp(title)\n",
    "    lyric = preprocess(lyrics)\n",
    "    features = feature_extraction(lyric, title)\n",
    "\n",
    "    freq = features['frequencies'] \n",
    "    sentiment = sa.analyse(lyrics)\n",
    "    elem = [\n",
    "        pid, playlist_name, 0, artist, title,\n",
    "        lyric_doc.vector, title_doc.vector,\n",
    "        features['line_count'], features['word_count'],#get_line_count(lyric), get_word_count(lyric),\n",
    "        #get_slang_counts(lyric),\n",
    "        features['echoisms'], features['selfish'],#get_echoisms(lyric), get_selfish_degree(lyric),\n",
    "        count_duplicate_lines(lyric), features['is_title_in_lyrics'],# (row['Song'], lyric),\n",
    "        features['rhymes'],#get_rhymes(lyric),\n",
    "        features['verb_tenses']['present'], features['verb_tenses']['past'], features['verb_tenses']['future'], #verb_freq['present'], verb_freq['past'], verb_freq['future'],\n",
    "        freq['ADJ'], freq['ADP'], freq['ADV'], freq['AUX'], freq['CONJ'], \n",
    "        freq['CCONJ'], freq['DET'], freq['INTJ'], freq['NOUN'], freq['NUM'],\n",
    "        freq['PART'], freq['PRON'], freq['PROPN'], freq['PUNCT'], freq['SCONJ'],\n",
    "        freq['SYM'], freq['VERB'], freq['X'], freq['SPACE'],\n",
    "        # Sentiment analysis stuff\n",
    "        sentiment[0], sentiment[1]\n",
    "    ]\n",
    "    return elem"
   ]
  },
  {
   "cell_type": "code",
   "execution_count": null,
   "metadata": {
    "ExecuteTime": {
     "end_time": "2018-05-03T13:27:06.126036Z",
     "start_time": "2018-05-03T13:26:42.811Z"
    }
   },
   "outputs": [],
   "source": [
    "import lyricwikia"
   ]
  },
  {
   "cell_type": "code",
   "execution_count": null,
   "metadata": {
    "ExecuteTime": {
     "start_time": "2018-05-01T09:40:49.491Z"
    },
    "deletable": false,
    "editable": false,
    "run_control": {
     "frozen": true
    }
   },
   "outputs": [],
   "source": [
    "features = list()\n",
    "for playlist in playlists:\n",
    "    for track in playlist['tracks']:\n",
    "        artist = track['artist_name']\n",
    "        title = track['track_name']\n",
    "        try:\n",
    "            lyrics = lyricwikia.get_lyrics(artist, title)\n",
    "            x = featurize(lyrics, playlist['pid'], 'Test', artist, title)\n",
    "            features.append(x)\n",
    "        except lyricwikia.LyricsNotFound:\n",
    "             continue\n",
    "    df = pd.DataFrame(features, columns=['PlaylistPid','PlaylistName','TrackUri', 'ArtistName', 'TrackName','LYRICS_VECTOR', 'TITLE_VECTOR', \n",
    "            'LINE_COUNT', 'WORD_COUNT', 'ECHOISMS', 'SELFISH_DEGREE', \n",
    "            'DUPLICATE_LINES', 'IS_TITLE_IN_LYRICS', 'RHYMES', 'VERB_PRESENT', \n",
    "            'VERB_PAST', 'VERB_FUTURE', 'ADJ_FREQUENCIES', 'CONJUCTION_FREQUENCIES', \n",
    "            'ADV_FREQUENCIES', 'AUX_FREQUENCIES', 'CONJ_FREQUENCIES', 'CCONJ_FREQUENCIES', \n",
    "            'DETERMINER_FREQUENCIES', 'INTERJECTION_FREQUENCIES', 'NOUN_FREQUENCIES', \n",
    "            'NUM_FREQUENCIES', 'PART_FREQUENCIES', 'PRON_FREQUENCIES', 'PROPN_FREQUENCIES', \n",
    "            'PUNCT_FREQUENCIES', 'SCONJ_FREQUENCIES', 'SYM_FREQUENCIES', 'VERB_FREQUENCIES',\n",
    "            'X_FREQUENCIES', 'SPACE_FREQUENCIES', \n",
    "            'SENTIMENT', 'SUBJECTIVITY'])\n",
    "df.head(3)"
   ]
  },
  {
   "cell_type": "code",
   "execution_count": null,
   "metadata": {
    "ExecuteTime": {
     "end_time": "2018-05-03T13:27:06.128448Z",
     "start_time": "2018-05-03T13:26:43.534Z"
    }
   },
   "outputs": [],
   "source": [
    "tmp_df = df[[\n",
    "   'LYRICS_VECTOR',\n",
    "   'WORD_COUNT', 'ECHOISMS', 'SELFISH_DEGREE', \n",
    "   'DUPLICATE_LINES', 'IS_TITLE_IN_LYRICS', 'VERB_PRESENT', \n",
    "   'VERB_PAST', 'VERB_FUTURE', 'ADJ_FREQUENCIES',\n",
    "   'PUNCT_FREQUENCIES',\n",
    "   'SENTIMENT', 'SUBJECTIVITY']]#.drop(['PlaylistPid', 'PlaylistName', 'TrackUri', 'ArtistName', 'TrackName'], axis=1, inplace=True)\n",
    "X_vect = list()\n",
    "for (i, row) in tmp_df.iterrows():\n",
    "    sub_list = list()\n",
    "    for field in row:\n",
    "        if type(field) == np.ndarray:\n",
    "            sub_list += [float(x) for x in field]\n",
    "        else:\n",
    "            sub_list.append(field)\n",
    "    X_vect.append(np.array(sub_list))\n",
    "X_vect = np.array(X_vect)\n",
    "X_vect.shape"
   ]
  },
  {
   "cell_type": "code",
   "execution_count": null,
   "metadata": {
    "ExecuteTime": {
     "end_time": "2018-05-03T13:27:06.130801Z",
     "start_time": "2018-05-03T13:26:43.959Z"
    }
   },
   "outputs": [],
   "source": [
    "X_vect_scaled = sc.transform(X_vect)"
   ]
  },
  {
   "cell_type": "code",
   "execution_count": null,
   "metadata": {
    "ExecuteTime": {
     "end_time": "2018-05-03T13:27:06.133067Z",
     "start_time": "2018-05-03T13:26:44.427Z"
    }
   },
   "outputs": [],
   "source": [
    "y_pred = clf.predict_proba(X_vect_scaled)"
   ]
  },
  {
   "cell_type": "code",
   "execution_count": null,
   "metadata": {
    "ExecuteTime": {
     "end_time": "2018-05-03T13:27:06.135403Z",
     "start_time": "2018-05-03T13:26:44.887Z"
    }
   },
   "outputs": [],
   "source": [
    "classificationDf = pd.DataFrame(data=y_pred,columns=cm_labels)\n",
    "finalDf = pd.concat([df, classificationDf],axis=1)"
   ]
  },
  {
   "cell_type": "code",
   "execution_count": null,
   "metadata": {
    "ExecuteTime": {
     "end_time": "2018-05-03T13:27:06.138048Z",
     "start_time": "2018-05-03T13:26:45.428Z"
    }
   },
   "outputs": [],
   "source": [
    "finalDf[['angry', 'happy', 'relaxed', 'sad']].head(5)"
   ]
  },
  {
   "cell_type": "code",
   "execution_count": null,
   "metadata": {
    "ExecuteTime": {
     "end_time": "2018-05-03T13:27:06.140235Z",
     "start_time": "2018-05-03T13:26:45.879Z"
    }
   },
   "outputs": [],
   "source": [
    "playlistDf = finalDf.groupby(by='PlaylistPid').agg({'happy': 'mean', 'sad': 'mean', 'angry': 'mean', 'relaxed': 'mean'})"
   ]
  },
  {
   "cell_type": "code",
   "execution_count": null,
   "metadata": {
    "ExecuteTime": {
     "end_time": "2018-05-03T13:27:06.142420Z",
     "start_time": "2018-05-03T13:26:46.184Z"
    }
   },
   "outputs": [],
   "source": [
    "playlistDf.head(n_pl)"
   ]
  },
  {
   "cell_type": "markdown",
   "metadata": {},
   "source": [
    "# Conclusion\n",
    "- The neural network is certainly the best classifier for our purpose\n",
    "- We are always quite good at classifying sad songs but we often lack in performances while classifying other emotions"
   ]
  }
 ],
 "metadata": {
  "kernelspec": {
   "display_name": "Python 3",
   "language": "python",
   "name": "python3"
  },
  "language_info": {
   "codemirror_mode": {
    "name": "ipython",
    "version": 3
   },
   "file_extension": ".py",
   "mimetype": "text/x-python",
   "name": "python",
   "nbconvert_exporter": "python",
   "pygments_lexer": "ipython3",
   "version": "3.5.2"
  },
  "notify_time": "5",
  "toc": {
   "base_numbering": 1,
   "nav_menu": {
    "height": "316px",
    "width": "287px"
   },
   "number_sections": true,
   "sideBar": true,
   "skip_h1_title": false,
   "title_cell": "Table of Contents",
   "title_sidebar": "Contents",
   "toc_cell": true,
   "toc_position": {
    "height": "calc(100% - 180px)",
    "left": "10px",
    "top": "150px",
    "width": "205px"
   },
   "toc_section_display": true,
   "toc_window_display": true
  }
 },
 "nbformat": 4,
 "nbformat_minor": 2
}
