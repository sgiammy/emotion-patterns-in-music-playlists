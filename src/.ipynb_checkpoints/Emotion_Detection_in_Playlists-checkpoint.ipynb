{
 "cells": [
  {
   "cell_type": "markdown",
   "metadata": {},
   "source": [
    "# Emotion Patterns in Music Playlists\n",
    "\n",
    "Please refer to [https://github.com/sgiammy/emotion-patterns-in-music-playlists](https://github.com/sgiammy/emotion-patterns-in-music-playlists) for more details on the code which is used in this notebook."
   ]
  },
  {
   "cell_type": "code",
   "execution_count": 41,
   "metadata": {},
   "outputs": [],
   "source": [
    "import spacy\n",
    "import os\n",
    "import sys\n",
    "\n",
    "import numpy as np\n",
    "import pandas as pd\n",
    "\n",
    "from sklearn.model_selection import cross_val_score\n",
    "\n",
    "from sklearn.model_selection import GridSearchCV\n",
    "\n",
    "import seaborn as sns\n",
    "import matplotlib.pyplot as plt\n",
    "\n",
    "from utils.datasets import load_dataset_from_path, split_train_validation\n",
    "\n",
    "lyrics_path = './ml_lyrics'\n",
    "\n",
    "emotion_labels = ['happy', 'sad', 'relaxed', 'angry']"
   ]
  },
  {
   "cell_type": "code",
   "execution_count": 42,
   "metadata": {},
   "outputs": [],
   "source": [
    "def parameters_grid_search(classifier, params, x, y, cv=10, verbose=False):\n",
    "    \"\"\"\n",
    "    Grid Search to find best parameters for a certain classifier whose\n",
    "    performances are evaluated using cross-validation\n",
    "    \"\"\"\n",
    "    gs = GridSearchCV(classifier(), params, cv=cv, n_jobs=-1, verbose=verbose)\n",
    "    gs.fit(x, y)    \n",
    "    return (gs.best_estimator_, gs.best_params_)"
   ]
  },
  {
   "cell_type": "markdown",
   "metadata": {},
   "source": [
    "This notebook has the sole purpose of providing us an experimental environment in which we can quickly test our intuitions and ideas. Therefore, even though for the final algorithm we will use FastText, for this notebook we will use a pre-trainend language model available in spaCy containing 20k unique vectors trained on Common Crawl.\n",
    "\n",
    "For more information about the language model we are using, please refer to [this](https://spacy.io/models/en) link."
   ]
  },
  {
   "cell_type": "code",
   "execution_count": 43,
   "metadata": {},
   "outputs": [],
   "source": [
    "# For this notebook we will use a simple spacy vocabulary\n",
    "# because we just need to do some experiments\n",
    "nlp = spacy.load('en_core_web_md')"
   ]
  },
  {
   "cell_type": "code",
   "execution_count": 44,
   "metadata": {},
   "outputs": [
    {
     "data": {
      "text/plain": [
       "12"
      ]
     },
     "execution_count": 44,
     "metadata": {},
     "output_type": "execute_result"
    }
   ],
   "source": [
    "# The language model we are using has some issues with stop words.\n",
    "# https://github.com/explosion/spaCy/issues/922\n",
    "nlp.vocab.add_flag(lambda s: s.lower() in spacy.lang.en.stop_words.STOP_WORDS, spacy.attrs.IS_STOP)"
   ]
  },
  {
   "cell_type": "markdown",
   "metadata": {},
   "source": [
    "# 1. The Dataset: MoodyLyrics\n",
    "\n",
    "In the followign section we will provide some interesting statistics on the dataset we will be using throughtout the notebook: MoodyLyrics.\n",
    "\n",
    "**DISCLAIMER**: this notebook assumes that MoodyLyrics song lyrics have been downloaded using the script provided with this notebook into a folder named `ml_lyrics`."
   ]
  },
  {
   "cell_type": "markdown",
   "metadata": {},
   "source": [
    "Firstly, let's see how many lyrics we have in our dataset."
   ]
  },
  {
   "cell_type": "code",
   "execution_count": 45,
   "metadata": {},
   "outputs": [
    {
     "name": "stdout",
     "output_type": "stream",
     "text": [
      "2453\n"
     ]
    }
   ],
   "source": [
    "%%bash\n",
    "ls -1 ml_lyrics/ | wc -l"
   ]
  },
  {
   "cell_type": "markdown",
   "metadata": {},
   "source": [
    "In MoodyLyrics we have 4 different emotion labels for our songs: happy, sad, relaxed and angry. Let's see how those 4 classes are distributed."
   ]
  },
  {
   "cell_type": "code",
   "execution_count": 46,
   "metadata": {},
   "outputs": [],
   "source": [
    "count = dict(list(zip(emotion_labels, [0 for x in range(len(emotion_labels))])))\n",
    "\n",
    "# Traverse the dataset directory\n",
    "for root, dirs, files in os.walk(lyrics_path):\n",
    "    for f in files:\n",
    "        fields = f.split('_')\n",
    "        if len(fields) > 0:\n",
    "            count[fields[0]] += 1"
   ]
  },
  {
   "cell_type": "code",
   "execution_count": 47,
   "metadata": {
    "scrolled": true
   },
   "outputs": [
    {
     "data": {
      "image/png": "[encoded data removed]",
      "text/plain": [
       "<Figure size 720x504 with 1 Axes>"
      ]
     },
     "metadata": {},
     "output_type": "display_data"
    }
   ],
   "source": [
    "# Plot the obtained counts\n",
    "# Plot\n",
    "fig, ax = plt.subplots()\n",
    "fig.set_size_inches(10, 7)\n",
    "ax = sns.barplot(x=list(count.keys()), y=list(count.values()), ax=ax)\n",
    "ax.set_title('Amount of lyrics for each label')\n",
    "plt.tight_layout()\n",
    "plt.show()"
   ]
  },
  {
   "cell_type": "markdown",
   "metadata": {},
   "source": [
    "As we can see our lyrics are quite balanced among the 4 different classes. Only the happy class has some more lyrics with respect to the other threes. However we believe that it is not going to be a problem as the different between happy and other lyrics should not be too relevant."
   ]
  },
  {
   "cell_type": "markdown",
   "metadata": {},
   "source": [
    "# 2. Lyrics Preprocessing\n",
    "\n",
    "Now we will move on analyzing several techniques for lyrics preprocessing, eventually evaluating their effects and their performances."
   ]
  },
  {
   "cell_type": "markdown",
   "metadata": {},
   "source": [
    "## 2.1. Stopwords deletion\n",
    "\n",
    "In one of our meetings for our project an interesting question was raised: does it really make sense to remove stopwords from lyrics? Would we have enough words after removing stopwords? Let's see what is the percentage change in the amount of words in our lyrics after removing stopwords. "
   ]
  },
  {
   "cell_type": "code",
   "execution_count": 48,
   "metadata": {},
   "outputs": [],
   "source": [
    "def remove_stopwords(doc):\n",
    "    tks = list(filter(lambda tk: not tk.is_stop, doc))\n",
    "    return spacy.tokens.Doc(nlp.vocab, words=[tk.text for tk in tks])"
   ]
  },
  {
   "cell_type": "code",
   "execution_count": 49,
   "metadata": {},
   "outputs": [],
   "source": [
    "paths = load_dataset_from_path(lyrics_path)['Lyric_Path'].as_matrix()\n",
    "\n",
    "# Build a dataframe with the following schema:\n",
    "# <song, words, words_after_stopwords_removal, percentage_change>\n",
    "rows = list()\n",
    "\n",
    "for path in paths:\n",
    "    with open(path, 'r') as f:\n",
    "        doc = nlp(f.read())\n",
    "        n_words_before = len(doc)\n",
    "        doc = remove_stopwords(doc)\n",
    "        n_words_after = len(doc)\n",
    "        perc = (n_words_before - n_words_after) / n_words_before * 100\n",
    "        row = (path, n_words_before, n_words_after, perc)\n",
    "        rows.append(row)\n",
    "\n",
    "# Create a dataframe with the found information\n",
    "df = pd.DataFrame(rows, columns=['Lyric', 'Word_Count', \n",
    "                  'Word_Count_After', 'Percentage_Change'])"
   ]
  },
  {
   "cell_type": "code",
   "execution_count": 60,
   "metadata": {},
   "outputs": [
    {
     "name": "stdout",
     "output_type": "stream",
     "text": [
      "Percentage of change in lyrics after removing stopwords:\n",
      " - < 25: 226\n",
      " - between 25 and 30: 74\n",
      " - between 30 and 40: 497\n",
      " - between 40 and 50: 1010\n",
      " - between 50 and 60: 587\n",
      " - between 60 and 75: 59\n",
      " - >= 75: 0\n",
      "                0     1\n",
      "0            < 25   226\n",
      "1  >= 25 and < 30    74\n",
      "2  >= 30 and < 40   497\n",
      "3  >= 40 and < 50  1010\n",
      "4  >= 50 and < 60   587\n",
      "5  >= 60 and < 75    59\n",
      "6           >= 75     0\n"
     ]
    }
   ],
   "source": [
    "# Print some statistics\n",
    "percs = [ 25, 30, 40, 50, 60, 75 ]\n",
    "print('Percentage of change in lyrics after removing stopwords:')\n",
    "it = enumerate(percs)\n",
    "plt_data = list()\n",
    "for (i, perc) in it:\n",
    "    if i == 0: \n",
    "        count = len(df[df['Percentage_Change'] < perc])\n",
    "        print(' - < {}: {}'.format(perc, count))\n",
    "        plt_data.append(('< {}'.format(perc), count))\n",
    "    elif i == len(percs) - 1:\n",
    "        prev_p = percs[i-1]\n",
    "        count = len(df[(df['Percentage_Change'] >= prev_p) & (df['Percentage_Change'] < perc)])\n",
    "        print(' - between {} and {}: {}'.format(prev_p, perc, count))\n",
    "        plt_data.append(('>= {} and < {}'.format(prev_p, perc, count), count))\n",
    "        \n",
    "        count = len(df[df['Percentage_Change'] >= perc])\n",
    "        print(' - >= {}: {}'.format(perc, count))\n",
    "        plt_data.append(('>= {}'.format(perc), count))\n",
    "    else:\n",
    "        prev_p = percs[i-1]\n",
    "        count = len(df[(df['Percentage_Change'] >= prev_p) & (df['Percentage_Change'] < perc)])\n",
    "        print(' - between {} and {}: {}'.format(prev_p, perc, count))\n",
    "        plt_data.append(('>= {} and < {}'.format(prev_p, perc, count), count))\n",
    "\n",
    "pltDf = pd.DataFrame(plt_data)\n",
    "print(pltDf)"
   ]
  },
  {
   "cell_type": "code",
   "execution_count": 61,
   "metadata": {},
   "outputs": [
    {
     "data": {
      "image/png": "[encoded data removed]",
      "text/plain": [
       "<Figure size 720x504 with 1 Axes>"
      ]
     },
     "metadata": {},
     "output_type": "display_data"
    }
   ],
   "source": [
    "# Plot\n",
    "fig, ax = plt.subplots()\n",
    "fig.set_size_inches(10, 7)\n",
    "ax = sns.barplot(pltDf[0], pltDf[1], ax=ax)\n",
    "ax.set_title('Percentage change in number of words after stopwords pruning')\n",
    "plt.tight_layout()\n",
    "plt.show()"
   ]
  },
  {
   "cell_type": "markdown",
   "metadata": {},
   "source": [
    "As we can see from the above plot, there is a minimum (but still relevant to our purpose) impact on lyrics, which still have a large number of words to be analyzed. Very few songs reduced their size of more then the 50% and for those songs we may probably have some issues. However this is a really small amount of lyrics that does not prevent us from saying that stopword deletion can be used as a good pre-processing technique for our model."
   ]
  },
  {
   "cell_type": "markdown",
   "metadata": {},
   "source": [
    "## 2.2. Preprocessing Function\n",
    "Now that we have defined which kind of preprocessing is good to apply to the text of our songs, let's define a function which will be used throughout the notebook to perform lyrics preprocessing."
   ]
  },
  {
   "cell_type": "code",
   "execution_count": 52,
   "metadata": {},
   "outputs": [],
   "source": [
    "def doc_preprocess(doc):\n",
    "    d = remove_stopwords(doc)\n",
    "    return d"
   ]
  },
  {
   "cell_type": "markdown",
   "metadata": {},
   "source": [
    "# 3. Feature Engineering\n",
    "We will now move on trying to extract some interesting feature from our dataset. \n",
    "\n",
    "An important thing we need to state before starting analyzing this section, is that, by using spaCy's language model, each document has a word vector of length 300."
   ]
  },
  {
   "cell_type": "markdown",
   "metadata": {},
   "source": [
    "## 3.1. Principal Component Analysis (PCA)"
   ]
  },
  {
   "cell_type": "markdown",
   "metadata": {},
   "source": [
    "## 3.2 Feature Engineering Function\n",
    "Now that we have defined which kind of feature engineering we want to, let's define a function which will be used throughout the notebook to perform the desired operations on the dataset."
   ]
  },
  {
   "cell_type": "code",
   "execution_count": 53,
   "metadata": {},
   "outputs": [],
   "source": [
    "def feature_engineer(dataset):\n",
    "    return dataset"
   ]
  },
  {
   "cell_type": "markdown",
   "metadata": {},
   "source": [
    "# 3. Classifiers\n",
    "In the next sections we will provide the implementation of several classification algorithms we used.\n",
    "\n",
    "First, let's prepare the data for those classifiers."
   ]
  },
  {
   "cell_type": "code",
   "execution_count": 54,
   "metadata": {},
   "outputs": [
    {
     "data": {
      "text/html": [
       "<div>\n",
       "<style scoped>\n",
       "    .dataframe tbody tr th:only-of-type {\n",
       "        vertical-align: middle;\n",
       "    }\n",
       "\n",
       "    .dataframe tbody tr th {\n",
       "        vertical-align: top;\n",
       "    }\n",
       "\n",
       "    .dataframe thead th {\n",
       "        text-align: right;\n",
       "    }\n",
       "</style>\n",
       "<table border=\"1\" class=\"dataframe\">\n",
       "  <thead>\n",
       "    <tr style=\"text-align: right;\">\n",
       "      <th></th>\n",
       "      <th>Lyric_Path</th>\n",
       "      <th>Emotion</th>\n",
       "      <th>Vector</th>\n",
       "      <th>Vector_Norm</th>\n",
       "    </tr>\n",
       "  </thead>\n",
       "  <tbody>\n",
       "    <tr>\n",
       "      <th>0</th>\n",
       "      <td>/home/mario/dev/emotion-patterns-in-music-play...</td>\n",
       "      <td>3</td>\n",
       "      <td>[0.025941279, 0.18059678, -0.14707115, -0.0399...</td>\n",
       "      <td>2.904835</td>\n",
       "    </tr>\n",
       "    <tr>\n",
       "      <th>1</th>\n",
       "      <td>/home/mario/dev/emotion-patterns-in-music-play...</td>\n",
       "      <td>0</td>\n",
       "      <td>[-0.016685478, 0.1802195, -0.15435816, -0.0183...</td>\n",
       "      <td>2.646879</td>\n",
       "    </tr>\n",
       "    <tr>\n",
       "      <th>2</th>\n",
       "      <td>/home/mario/dev/emotion-patterns-in-music-play...</td>\n",
       "      <td>0</td>\n",
       "      <td>[-0.04253745, 0.3000751, -0.15238562, -0.02462...</td>\n",
       "      <td>3.039323</td>\n",
       "    </tr>\n",
       "    <tr>\n",
       "      <th>3</th>\n",
       "      <td>/home/mario/dev/emotion-patterns-in-music-play...</td>\n",
       "      <td>1</td>\n",
       "      <td>[0.041181944, 0.10158193, -0.10573607, -0.0914...</td>\n",
       "      <td>2.546361</td>\n",
       "    </tr>\n",
       "    <tr>\n",
       "      <th>4</th>\n",
       "      <td>/home/mario/dev/emotion-patterns-in-music-play...</td>\n",
       "      <td>3</td>\n",
       "      <td>[-0.08405734, 0.17629445, -0.18070756, -0.0349...</td>\n",
       "      <td>2.777074</td>\n",
       "    </tr>\n",
       "  </tbody>\n",
       "</table>\n",
       "</div>"
      ],
      "text/plain": [
       "                                          Lyric_Path  Emotion  \\\n",
       "0  /home/mario/dev/emotion-patterns-in-music-play...        3   \n",
       "1  /home/mario/dev/emotion-patterns-in-music-play...        0   \n",
       "2  /home/mario/dev/emotion-patterns-in-music-play...        0   \n",
       "3  /home/mario/dev/emotion-patterns-in-music-play...        1   \n",
       "4  /home/mario/dev/emotion-patterns-in-music-play...        3   \n",
       "\n",
       "                                              Vector  Vector_Norm  \n",
       "0  [0.025941279, 0.18059678, -0.14707115, -0.0399...     2.904835  \n",
       "1  [-0.016685478, 0.1802195, -0.15435816, -0.0183...     2.646879  \n",
       "2  [-0.04253745, 0.3000751, -0.15238562, -0.02462...     3.039323  \n",
       "3  [0.041181944, 0.10158193, -0.10573607, -0.0914...     2.546361  \n",
       "4  [-0.08405734, 0.17629445, -0.18070756, -0.0349...     2.777074  "
      ]
     },
     "execution_count": 54,
     "metadata": {},
     "output_type": "execute_result"
    }
   ],
   "source": [
    "# Read dataset into pandas dataframe\n",
    "dataset = load_dataset_from_path(lyrics_path)\n",
    "\n",
    "# Turn emotion labels into numerical features\n",
    "mapping = dict(zip(emotion_labels, range(len(emotion_labels)))) # { 'happy' : 0, 'sad': 1, 'relaxed': 2, 'angry': 3 }\n",
    "dataset['Emotion'] = dataset['Emotion'].map(mapping)\n",
    "\n",
    "# Make the dataset to follow this scema:\n",
    "# <Lyric_Path, Emotion, Vector, Vector_Norm>\n",
    "rows = list()\n",
    "dataset['Vector'] = np.nan\n",
    "dataset['Vector_Norm'] = np.nan\n",
    "for index, row in dataset.iterrows():\n",
    "    lyric = row['Lyric_Path']\n",
    "    emotion = row['Emotion']\n",
    "    with open(lyric, 'r') as lyric_file: \n",
    "        doc = nlp(lyric_file.read())\n",
    "        doc = doc_preprocess(doc) # Preprocessing step\n",
    "        # Consider only those vectors with the same length\n",
    "        # This will be avoided when we will have proper PCA\n",
    "        if len(doc.vector) == 300:\n",
    "            rows.append((\n",
    "                lyric,\n",
    "                emotion, doc.vector,\n",
    "                doc.vector_norm\n",
    "            ))\n",
    "dataset = pd.DataFrame(rows, columns=['Lyric_Path', 'Emotion', 'Vector', 'Vector_Norm'])\n",
    "dataset = feature_engineer(dataset) # Do feature engineering\n",
    "# Show some dataset's values\n",
    "dataset.head()"
   ]
  },
  {
   "cell_type": "code",
   "execution_count": 55,
   "metadata": {},
   "outputs": [],
   "source": [
    "# Prepare array for sklearn classifiers\n",
    "X_vect = dataset['Vector'].as_matrix().T\n",
    "X_vect = np.array([np.array(x) for x in X_vect])\n",
    "X_norm = dataset['Vector_Norm'].as_matrix()\n",
    "y = dataset['Emotion'].as_matrix()"
   ]
  },
  {
   "cell_type": "markdown",
   "metadata": {},
   "source": [
    "## 3.1. Supervised K-Means\n",
    "This is the first and the easieast classifier idea we came up. We used this idea just to verify what we could do and if we were on the right path. \n",
    "\n",
    "The name we gave to this classifier could sound ambiguous but we believe that, once its functioning is explained, the name will sound more decent.\n",
    "\n",
    "The idea behind this classifier is quite simple. The first thing we do is to compute the centroids for each emotion class. Then, to classify a lyric, we simply compare its word vector norm to the 4 centroids. At the end we will assign our lyric with the label of the closest \"cluster\"."
   ]
  },
  {
   "cell_type": "code",
   "execution_count": 56,
   "metadata": {},
   "outputs": [
    {
     "name": "stdout",
     "output_type": "stream",
     "text": [
      "Accuracy: 0.31\n"
     ]
    }
   ],
   "source": [
    "from classifier.LyricsSupervisedKMeans import LyricsSupervisedKMeans\n",
    "\n",
    "clf = LyricsSupervisedKMeans()\n",
    "clf.set_lang(nlp)\n",
    "\n",
    "# Split dataset into training and test sets\n",
    "trainDf, testDf = split_train_validation(dataset)\n",
    "\n",
    "X_sup_kmeans_train = trainDf['Vector_Norm'].as_matrix().T\n",
    "X_sup_kmeans_train = np.array([np.array(x) for x in X_sup_kmeans_train])\n",
    "\n",
    "y_sup_kmeans_train = trainDf['Emotion'].as_matrix()\n",
    "\n",
    "# Train our model\n",
    "clf.train(X_sup_kmeans_train, y_sup_kmeans_train)\n",
    "\n",
    "# Evaluate accuracy\n",
    "acc = clf.score(testDf)\n",
    "print('Accuracy: %0.2f' % (acc))"
   ]
  },
  {
   "cell_type": "markdown",
   "metadata": {},
   "source": [
    "For this model we did not even implement cross-validation. We just split the dataset into a training set (90%) and a test set (10%) and we evaluated the classification accuracy on that test set. We decided not to implement cross-validation for this classifier as we believe it is not worth to spend time on it.\n",
    "\n",
    "We were expecting poor results from this classifier but at least it served to the purpose of giving us a hint of which direction to follow."
   ]
  },
  {
   "cell_type": "markdown",
   "metadata": {},
   "source": [
    "## 3.2. k-Nearest Neighbour\n",
    "We will now build a k-NN model which is basically a generalization of what we called \"Supervised K-Means\". We will evaluate our model for several different k values. The parameters passed to our model are quite self-explicative."
   ]
  },
  {
   "cell_type": "code",
   "execution_count": 57,
   "metadata": {},
   "outputs": [
    {
     "name": "stdout",
     "output_type": "stream",
     "text": [
      "Accuracy for k=1: 0.81 (+/- 0.04)\n",
      "Accuracy for k=3: 0.82 (+/- 0.04)\n",
      "Accuracy for k=5: 0.81 (+/- 0.06)\n",
      "Accuracy for k=7: 0.82 (+/- 0.05)\n",
      "Accuracy for k=9: 0.81 (+/- 0.04)\n",
      "Accuracy for k=11: 0.81 (+/- 0.04)\n",
      "Accuracy for k=13: 0.81 (+/- 0.04)\n",
      "Accuracy for k=15: 0.81 (+/- 0.05)\n",
      "Accuracy for k=17: 0.81 (+/- 0.05)\n",
      "Accuracy for k=19: 0.81 (+/- 0.05)\n",
      "Accuracy for k=21: 0.81 (+/- 0.05)\n"
     ]
    }
   ],
   "source": [
    "from sklearn.neighbors import KNeighborsClassifier\n",
    "\n",
    "ks = [1, 3, 5, 7, 9, 11, 13, 15, 17, 19, 21]\n",
    "\n",
    "for k in ks:\n",
    "    # Build model\n",
    "    clf = KNeighborsClassifier(n_neighbors=k, algorithm='auto', \n",
    "                           metric='euclidean', n_jobs=-1)\n",
    "    # Evaluate accuracy\n",
    "    scores = cross_val_score(clf, X_vect, y, cv=10)\n",
    "    print('Accuracy for k=%d: %0.2f (+/- %0.2f)' % (k, scores.mean(), scores.std() * 2))"
   ]
  },
  {
   "cell_type": "markdown",
   "metadata": {},
   "source": [
    "The k-NN algorithm produced unexpectedly good results. As we can see the algorithm never reaches an accuracy value higher than 82%. From our observations we can conclude that `k=7` could be an good parameter for that model.\n",
    "\n",
    "Those results are encouraging and make us believe that we can certainly do even better."
   ]
  },
  {
   "cell_type": "markdown",
   "metadata": {},
   "source": [
    "## 3.3. SVM\n",
    "We will now train a Support Vector Machine using the algorithm available in sklearn. For this first experiment we did not change the default parameters of the SVM algorithm provided in sklearn."
   ]
  },
  {
   "cell_type": "code",
   "execution_count": 58,
   "metadata": {},
   "outputs": [
    {
     "name": "stdout",
     "output_type": "stream",
     "text": [
      "Accuracy: 0.58 (+/- 0.04)\n"
     ]
    }
   ],
   "source": [
    "from sklearn.svm import SVC\n",
    "\n",
    "# Build model\n",
    "clf = SVC()\n",
    "# Evaluate accuracy\n",
    "scores = cross_val_score(clf, X_vect, y, cv=10)\n",
    "print('Accuracy: %0.2f (+/- %0.2f)' % (scores.mean(), scores.std() * 2))"
   ]
  },
  {
   "cell_type": "markdown",
   "metadata": {},
   "source": [
    "Now let's see if we can improve our model's accuracy just my properly tuning our parameters. We will perform a [Grid Search](http://scikit-learn.org/stable/modules/grid_search.html) to properly tune our model using a cross validation approach to evaluating accuracy. We will operate on both the kernel function and the penalty parameter C.\n",
    "\n",
    "Beware that the below cell takes quite a long time to run as the `SVC` train function complexity is more than quadratic and, having to run it several times, is quite expensive."
   ]
  },
  {
   "cell_type": "code",
   "execution_count": 62,
   "metadata": {},
   "outputs": [
    {
     "name": "stdout",
     "output_type": "stream",
     "text": [
      "Fitting 10 folds for each of 29 candidates, totalling 290 fits\n"
     ]
    },
    {
     "name": "stderr",
     "output_type": "stream",
     "text": [
      "[Parallel(n_jobs=-1)]: Done  42 tasks      | elapsed:   48.0s\n",
      "[Parallel(n_jobs=-1)]: Done 192 tasks      | elapsed:  5.7min\n",
      "[Parallel(n_jobs=-1)]: Done 290 out of 290 | elapsed:  7.3min finished\n"
     ]
    },
    {
     "name": "stdout",
     "output_type": "stream",
     "text": [
      "Parameters: {'kernel': 'linear', 'C': 10}\n"
     ]
    }
   ],
   "source": [
    "# Define the set of parameters we want to test on\n",
    "params = [\n",
    "    { 'kernel': ['linear'], 'C': [ 0.01, 0.05, 1, 10, 100 ]},\n",
    "    { 'kernel': ['rbf', 'sigmoid'], 'C': [ 0.01, 0.05, 0.1, 0.3, 0.8, 1, 3, 10, 50, 100, 150, 200 ] }\n",
    "]\n",
    "\n",
    "# Perform grid search\n",
    "svm_best, best_params = parameters_grid_search(SVC, params, X_vect, y, verbose=1)\n",
    "print('Parameters:', best_params)"
   ]
  },
  {
   "cell_type": "code",
   "execution_count": 63,
   "metadata": {
    "scrolled": true
   },
   "outputs": [
    {
     "name": "stdout",
     "output_type": "stream",
     "text": [
      "Accuracy: 0.91 (+/- 0.04)\n"
     ]
    }
   ],
   "source": [
    "scores = cross_val_score(svm_best, X_vect, y, cv=10)\n",
    "print('Accuracy: %0.2f (+/- %0.2f)' % (scores.mean(), scores.std() * 2))"
   ]
  },
  {
   "cell_type": "markdown",
   "metadata": {},
   "source": [
    "Honestly we were not expecting the SVM model to be so good. However we will now move on to some ensemble methods which are supposed to be even better."
   ]
  },
  {
   "cell_type": "markdown",
   "metadata": {},
   "source": [
    "## 3.4. Gradient Boost\n",
    "Gradient boosting is a machine learning technique for regression and classification problems, which produces a prediction model in the form of an ensemble of weak prediction models, typically decision trees. It builds the model in a stage-wise fashion like other boosting methods do, and it generalizes them by allowing optimization of an arbitrary differentiable loss function ([reference link](https://en.wikipedia.org/wiki/Gradient_boosting)).\n",
    "\n",
    "Since we already obtained great results using our SVM model, we will omit any grid search for parameters tuning on this model. In fact, a grid search on a Gradient Boosting Classifier would be quite expensive and would slow down our experiments a lot. Instead, some manual tuning is done."
   ]
  },
  {
   "cell_type": "code",
   "execution_count": null,
   "metadata": {},
   "outputs": [],
   "source": [
    "from sklearn.ensemble import GradientBoostingClassifier\n",
    "\n",
    "# Build model\n",
    "clf = GradientBoostingClassifier(learning_rate=0.7, n_estimators=200)\n",
    "# Evaluate accuracy\n",
    "scores = cross_val_score(clf, X_vect, y, cv=10)\n",
    "print('Accuracy: %0.2f (+/- %0.2f)' % (scores.mean(), scores.std() * 2))"
   ]
  },
  {
   "cell_type": "markdown",
   "metadata": {},
   "source": [
    "After several attempts we did never succeed in obtaining higher accuracy values w.r.t. our SVM model. Therefore, given the slow training time for the GradientBoostingClassifier algorithm, we will keep using the SVM model."
   ]
  }
 ],
 "metadata": {
  "kernelspec": {
   "display_name": "Python 3",
   "language": "python",
   "name": "python3"
  },
  "language_info": {
   "codemirror_mode": {
    "name": "ipython",
    "version": 3
   },
   "file_extension": ".py",
   "mimetype": "text/x-python",
   "name": "python",
   "nbconvert_exporter": "python",
   "pygments_lexer": "ipython3",
   "version": "3.5.2"
  }
 },
 "nbformat": 4,
 "nbformat_minor": 2
}
