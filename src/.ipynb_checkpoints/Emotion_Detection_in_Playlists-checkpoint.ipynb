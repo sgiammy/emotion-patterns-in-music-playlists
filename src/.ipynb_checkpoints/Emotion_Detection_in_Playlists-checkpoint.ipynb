{
 "cells": [
  {
   "cell_type": "markdown",
   "metadata": {},
   "source": [
    "# Emotion Patterns in Music Playlists\n",
    "\n",
    "Please refer to [https://github.com/sgiammy/emotion-patterns-in-music-playlists](https://github.com/sgiammy/emotion-patterns-in-music-playlists) for more details on the code which is used in this notebook."
   ]
  },
  {
   "cell_type": "code",
   "execution_count": 1,
   "metadata": {
    "ExecuteTime": {
     "end_time": "2018-04-10T17:27:46.977114Z",
     "start_time": "2018-04-10T17:27:45.502340Z"
    }
   },
   "outputs": [],
   "source": [
    "import spacy\n",
    "import os\n",
    "import sys\n",
    "\n",
    "import numpy as np\n",
    "import pandas as pd\n",
    "\n",
    "from sklearn.model_selection import cross_val_score\n",
    "from sklearn.model_selection import GridSearchCV\n",
    "\n",
    "from sklearn.decomposition import PCA\n",
    "\n",
    "import seaborn as sns\n",
    "sns.set()\n",
    "import matplotlib.pyplot as plt\n",
    "\n",
    "from utils.datasets import load_dataset_from_path, split_train_validation\n",
    "\n",
    "lyrics_path = './ml_lyrics'\n",
    "\n",
    "emotion_labels = ['happy', 'sad', 'relaxed', 'angry']"
   ]
  },
  {
   "cell_type": "code",
   "execution_count": 2,
   "metadata": {
    "ExecuteTime": {
     "end_time": "2018-04-10T17:27:46.987226Z",
     "start_time": "2018-04-10T17:27:46.979707Z"
    }
   },
   "outputs": [],
   "source": [
    "def parameters_grid_search(classifier, params, x, y, cv=10, verbose=False):\n",
    "    \"\"\"\n",
    "    Grid Search to find best parameters for a certain classifier whose\n",
    "    performances are evaluated using cross-validation\n",
    "    \"\"\"\n",
    "    gs = GridSearchCV(classifier(), params, cv=cv, n_jobs=-1, verbose=verbose)\n",
    "    gs.fit(x, y)    \n",
    "    return (gs.best_estimator_, gs.best_params_)"
   ]
  },
  {
   "cell_type": "markdown",
   "metadata": {},
   "source": [
    "This notebook has the sole purpose of providing us an experimental environment in which we can quickly test our intuitions and ideas. Therefore, even though for the final algorithm we plan to use FastText, for this notebook we will use a pre-trainend language model available in spaCy containing 685k unique vectors trained on Common Crawl.\n",
    "\n",
    "For more information about the language model we are using, please refer to [this](https://spacy.io/models/en) link."
   ]
  },
  {
   "cell_type": "code",
   "execution_count": 3,
   "metadata": {
    "ExecuteTime": {
     "end_time": "2018-04-10T17:27:59.803976Z",
     "start_time": "2018-04-10T17:27:48.366847Z"
    }
   },
   "outputs": [],
   "source": [
    "# For this notebook we will use a simple spacy vocabulary\n",
    "# because we just need to do some experiments\n",
    "spacy_lang = 'en_core_web_lg'\n",
    "nlp = spacy.load(spacy_lang)"
   ]
  },
  {
   "cell_type": "code",
   "execution_count": 4,
   "metadata": {
    "ExecuteTime": {
     "end_time": "2018-04-10T17:28:03.582402Z",
     "start_time": "2018-04-10T17:27:59.806499Z"
    }
   },
   "outputs": [
    {
     "data": {
      "text/plain": [
       "12"
      ]
     },
     "execution_count": 4,
     "metadata": {},
     "output_type": "execute_result"
    }
   ],
   "source": [
    "# The language model we are using has some issues with stop words.\n",
    "# Basically we need to grab stopwords from the 'en' language model\n",
    "# and add them back to the model we are using.\n",
    "# https://github.com/explosion/spaCy/issues/922\n",
    "nlp.vocab.add_flag(lambda s: s.lower() in spacy.lang.en.stop_words.STOP_WORDS, spacy.attrs.IS_STOP)"
   ]
  },
  {
   "cell_type": "markdown",
   "metadata": {
    "toc": true
   },
   "source": [
    "<h1>Table of Contents<span class=\"tocSkip\"></span></h1>\n",
    "<div class=\"toc\"><ul class=\"toc-item\"><li><span><a href=\"#Emotion-Patterns-in-Music-Playlists\" data-toc-modified-id=\"Emotion-Patterns-in-Music-Playlists-1\"><span class=\"toc-item-num\">1&nbsp;&nbsp;</span>Emotion Patterns in Music Playlists</a></span></li><li><span><a href=\"#The-Dataset:-MoodyLyrics\" data-toc-modified-id=\"The-Dataset:-MoodyLyrics-2\"><span class=\"toc-item-num\">2&nbsp;&nbsp;</span>The Dataset: MoodyLyrics</a></span></li><li><span><a href=\"#Lyrics-Preprocessing\" data-toc-modified-id=\"Lyrics-Preprocessing-3\"><span class=\"toc-item-num\">3&nbsp;&nbsp;</span>Lyrics Preprocessing</a></span><ul class=\"toc-item\"><li><span><a href=\"#Lyrics-Download\" data-toc-modified-id=\"Lyrics-Download-3.1\"><span class=\"toc-item-num\">3.1&nbsp;&nbsp;</span>Lyrics Download</a></span></li><li><span><a href=\"#Stopwords-deletion\" data-toc-modified-id=\"Stopwords-deletion-3.2\"><span class=\"toc-item-num\">3.2&nbsp;&nbsp;</span>Stopwords deletion</a></span></li><li><span><a href=\"#Preprocessing-Function\" data-toc-modified-id=\"Preprocessing-Function-3.3\"><span class=\"toc-item-num\">3.3&nbsp;&nbsp;</span>Preprocessing Function</a></span></li></ul></li><li><span><a href=\"#Feature-Engineering\" data-toc-modified-id=\"Feature-Engineering-4\"><span class=\"toc-item-num\">4&nbsp;&nbsp;</span>Feature Engineering</a></span><ul class=\"toc-item\"><li><span><a href=\"#Principal-Component-Analysis\" data-toc-modified-id=\"Principal-Component-Analysis-4.1\"><span class=\"toc-item-num\">4.1&nbsp;&nbsp;</span>Principal Component Analysis</a></span></li><li><span><a href=\"#Feature-Engineering-Function\" data-toc-modified-id=\"Feature-Engineering-Function-4.2\"><span class=\"toc-item-num\">4.2&nbsp;&nbsp;</span>Feature Engineering Function</a></span></li></ul></li><li><span><a href=\"#Classifiers\" data-toc-modified-id=\"Classifiers-5\"><span class=\"toc-item-num\">5&nbsp;&nbsp;</span>Classifiers</a></span><ul class=\"toc-item\"><li><span><a href=\"#Supervised-K-Means\" data-toc-modified-id=\"Supervised-K-Means-5.1\"><span class=\"toc-item-num\">5.1&nbsp;&nbsp;</span>Supervised K-Means</a></span></li><li><span><a href=\"#k-Nearest-Neighbour\" data-toc-modified-id=\"k-Nearest-Neighbour-5.2\"><span class=\"toc-item-num\">5.2&nbsp;&nbsp;</span>k-Nearest Neighbour</a></span></li><li><span><a href=\"#SVM\" data-toc-modified-id=\"SVM-5.3\"><span class=\"toc-item-num\">5.3&nbsp;&nbsp;</span>SVM</a></span></li><li><span><a href=\"#Gradient-Boost\" data-toc-modified-id=\"Gradient-Boost-5.4\"><span class=\"toc-item-num\">5.4&nbsp;&nbsp;</span>Gradient Boost</a></span></li><li><span><a href=\"#Artifical-Neural-Network\" data-toc-modified-id=\"Artifical-Neural-Network-5.5\"><span class=\"toc-item-num\">5.5&nbsp;&nbsp;</span>Artifical Neural Network</a></span></li></ul></li><li><span><a href=\"#What-if-we-just-consider-the-song-title?\" data-toc-modified-id=\"What-if-we-just-consider-the-song-title?-6\"><span class=\"toc-item-num\">6&nbsp;&nbsp;</span>What if we just consider the song title?</a></span><ul class=\"toc-item\"><li><span><a href=\"#SVM-with-title-only\" data-toc-modified-id=\"SVM-with-title-only-6.1\"><span class=\"toc-item-num\">6.1&nbsp;&nbsp;</span>SVM with title only</a></span></li><li><span><a href=\"#Gradient-Boost-with-title-only\" data-toc-modified-id=\"Gradient-Boost-with-title-only-6.2\"><span class=\"toc-item-num\">6.2&nbsp;&nbsp;</span>Gradient Boost with title only</a></span></li></ul></li></ul></div>"
   ]
  },
  {
   "cell_type": "markdown",
   "metadata": {},
   "source": [
    "# The Dataset: MoodyLyrics\n",
    "\n",
    "In the followign section we will provide some interesting statistics on the dataset we will be using throughtout the notebook: MoodyLyrics.<br>\n",
    "ModdyLyrics has the following header: <br>\n",
    "*<Index, Artist, Song, Emotion>*\n",
    "where:\n",
    "<ul>\n",
    "    <li>*Index*: monotonically increasing ID</li>\n",
    "    <li>*Artist*: name of the artist</li>\n",
    "    <li>*Song*: title of the song</li>\n",
    "    <li>*Emotion*: one between ['happy', 'sad', 'relaxed', 'angry']</li>\n",
    "</ul>"
   ]
  },
  {
   "cell_type": "markdown",
   "metadata": {},
   "source": [
    "Firstly, let's see how many rows we have in our dataset."
   ]
  },
  {
   "cell_type": "code",
   "execution_count": 168,
   "metadata": {},
   "outputs": [
    {
     "name": "stdout",
     "output_type": "stream",
     "text": [
      "(2595, 4)\n"
     ]
    }
   ],
   "source": [
    "moodyLyricsDF = pd.read_csv('./datasets/moodylyrics_raw.csv')\n",
    "print(moodyLyricsDF.shape)"
   ]
  },
  {
   "cell_type": "markdown",
   "metadata": {},
   "source": [
    "So we have 2596 rows, but the first one of course is the header. <br>"
   ]
  },
  {
   "cell_type": "markdown",
   "metadata": {},
   "source": [
    "In MoodyLyrics we have 4 different emotion labels for our songs: happy, sad, relaxed and angry. Let's see how those 4 classes are distributed."
   ]
  },
  {
   "cell_type": "code",
   "execution_count": 169,
   "metadata": {},
   "outputs": [
    {
     "data": {
      "text/html": [
       "<div>\n",
       "<style scoped>\n",
       "    .dataframe tbody tr th:only-of-type {\n",
       "        vertical-align: middle;\n",
       "    }\n",
       "\n",
       "    .dataframe tbody tr th {\n",
       "        vertical-align: top;\n",
       "    }\n",
       "\n",
       "    .dataframe thead th {\n",
       "        text-align: right;\n",
       "    }\n",
       "</style>\n",
       "<table border=\"1\" class=\"dataframe\">\n",
       "  <thead>\n",
       "    <tr style=\"text-align: right;\">\n",
       "      <th></th>\n",
       "      <th>Index</th>\n",
       "      <th>Artist</th>\n",
       "      <th>Song</th>\n",
       "      <th>Emotion</th>\n",
       "    </tr>\n",
       "  </thead>\n",
       "  <tbody>\n",
       "    <tr>\n",
       "      <th>count</th>\n",
       "      <td>2595</td>\n",
       "      <td>2595</td>\n",
       "      <td>2595</td>\n",
       "      <td>2595</td>\n",
       "    </tr>\n",
       "    <tr>\n",
       "      <th>unique</th>\n",
       "      <td>2595</td>\n",
       "      <td>1672</td>\n",
       "      <td>2229</td>\n",
       "      <td>4</td>\n",
       "    </tr>\n",
       "    <tr>\n",
       "      <th>top</th>\n",
       "      <td>ML2096</td>\n",
       "      <td>The Beatles</td>\n",
       "      <td>Silent Night</td>\n",
       "      <td>happy</td>\n",
       "    </tr>\n",
       "    <tr>\n",
       "      <th>freq</th>\n",
       "      <td>1</td>\n",
       "      <td>52</td>\n",
       "      <td>24</td>\n",
       "      <td>819</td>\n",
       "    </tr>\n",
       "  </tbody>\n",
       "</table>\n",
       "</div>"
      ],
      "text/plain": [
       "         Index       Artist          Song Emotion\n",
       "count     2595         2595          2595    2595\n",
       "unique    2595         1672          2229       4\n",
       "top     ML2096  The Beatles  Silent Night   happy\n",
       "freq         1           52            24     819"
      ]
     },
     "execution_count": 169,
     "metadata": {},
     "output_type": "execute_result"
    }
   ],
   "source": [
    "moodyLyricsDF.describe()"
   ]
  },
  {
   "cell_type": "markdown",
   "metadata": {},
   "source": [
    "We can notice something weird! Some songs, such as \"Silent Night\" appear more than once.<br>\n",
    "Let's check if this is because there are duplicated rows or just because there are songs with the same title but different artist. "
   ]
  },
  {
   "cell_type": "code",
   "execution_count": 170,
   "metadata": {},
   "outputs": [
    {
     "name": "stdout",
     "output_type": "stream",
     "text": [
      "(2509, 3)\n",
      "(82, 3)\n"
     ]
    },
    {
     "data": {
      "text/html": [
       "<div>\n",
       "<style scoped>\n",
       "    .dataframe tbody tr th:only-of-type {\n",
       "        vertical-align: middle;\n",
       "    }\n",
       "\n",
       "    .dataframe tbody tr th {\n",
       "        vertical-align: top;\n",
       "    }\n",
       "\n",
       "    .dataframe thead th {\n",
       "        text-align: right;\n",
       "    }\n",
       "</style>\n",
       "<table border=\"1\" class=\"dataframe\">\n",
       "  <thead>\n",
       "    <tr style=\"text-align: right;\">\n",
       "      <th></th>\n",
       "      <th>Index</th>\n",
       "      <th>Artist</th>\n",
       "      <th>Song</th>\n",
       "      <th>Emotion</th>\n",
       "    </tr>\n",
       "  </thead>\n",
       "  <tbody>\n",
       "    <tr>\n",
       "      <th>653</th>\n",
       "      <td>ML654</td>\n",
       "      <td>Akon</td>\n",
       "      <td>Don't Matter</td>\n",
       "      <td>angry</td>\n",
       "    </tr>\n",
       "    <tr>\n",
       "      <th>961</th>\n",
       "      <td>ML962</td>\n",
       "      <td>Akon</td>\n",
       "      <td>Lonely</td>\n",
       "      <td>sad</td>\n",
       "    </tr>\n",
       "    <tr>\n",
       "      <th>2417</th>\n",
       "      <td>ML2418</td>\n",
       "      <td>Akon</td>\n",
       "      <td>Lonely</td>\n",
       "      <td>sad</td>\n",
       "    </tr>\n",
       "    <tr>\n",
       "      <th>2538</th>\n",
       "      <td>ML2539</td>\n",
       "      <td>Akon</td>\n",
       "      <td>Don't Matter</td>\n",
       "      <td>angry</td>\n",
       "    </tr>\n",
       "  </tbody>\n",
       "</table>\n",
       "</div>"
      ],
      "text/plain": [
       "       Index Artist          Song Emotion\n",
       "653    ML654   Akon  Don't Matter   angry\n",
       "961    ML962   Akon        Lonely     sad\n",
       "2417  ML2418   Akon        Lonely     sad\n",
       "2538  ML2539   Akon  Don't Matter   angry"
      ]
     },
     "execution_count": 170,
     "metadata": {},
     "output_type": "execute_result"
    }
   ],
   "source": [
    "#print(moodyLyricsDF.Song.value_counts()[:10])\n",
    "duplicatedCheck = moodyLyricsDF.groupby(['Artist','Song']).size().reset_index(name='count')\n",
    "print(duplicatedCheck.shape)\n",
    "duplicatedRows = duplicatedCheck [(duplicatedCheck ['count']>1)]\n",
    "print(duplicatedRows.shape)\n",
    "moodyLyricsDF[(moodyLyricsDF['Artist']=='Akon')]"
   ]
  },
  {
   "cell_type": "markdown",
   "metadata": {},
   "source": [
    "There are 82 duplicated rows. <br>\n",
    "We now group by 'Artist' and 'Song', and we label each song with the most frequent emotion."
   ]
  },
  {
   "cell_type": "code",
   "execution_count": 171,
   "metadata": {},
   "outputs": [
    {
     "name": "stdout",
     "output_type": "stream",
     "text": [
      "(2509, 3)\n"
     ]
    },
    {
     "data": {
      "text/html": [
       "<div>\n",
       "<style scoped>\n",
       "    .dataframe tbody tr th:only-of-type {\n",
       "        vertical-align: middle;\n",
       "    }\n",
       "\n",
       "    .dataframe tbody tr th {\n",
       "        vertical-align: top;\n",
       "    }\n",
       "\n",
       "    .dataframe thead th {\n",
       "        text-align: right;\n",
       "    }\n",
       "</style>\n",
       "<table border=\"1\" class=\"dataframe\">\n",
       "  <thead>\n",
       "    <tr style=\"text-align: right;\">\n",
       "      <th></th>\n",
       "      <th>Artist</th>\n",
       "      <th>Song</th>\n",
       "      <th>Emotion</th>\n",
       "    </tr>\n",
       "  </thead>\n",
       "  <tbody>\n",
       "    <tr>\n",
       "      <th>34</th>\n",
       "      <td>Akon</td>\n",
       "      <td>Don't Matter</td>\n",
       "      <td>angry</td>\n",
       "    </tr>\n",
       "    <tr>\n",
       "      <th>35</th>\n",
       "      <td>Akon</td>\n",
       "      <td>Lonely</td>\n",
       "      <td>sad</td>\n",
       "    </tr>\n",
       "  </tbody>\n",
       "</table>\n",
       "</div>"
      ],
      "text/plain": [
       "   Artist          Song Emotion\n",
       "34   Akon  Don't Matter   angry\n",
       "35   Akon        Lonely     sad"
      ]
     },
     "execution_count": 171,
     "metadata": {},
     "output_type": "execute_result"
    }
   ],
   "source": [
    "moodyLyricsDF = moodyLyricsDF.groupby(['Artist','Song'],as_index=False)['Emotion'].agg(lambda x:x.value_counts().index[0])\n",
    "print(moodyLyricsDF.shape)\n",
    "moodyLyricsDF[(moodyLyricsDF['Artist']==\"Akon\")]"
   ]
  },
  {
   "cell_type": "code",
   "execution_count": 187,
   "metadata": {},
   "outputs": [
    {
     "name": "stdout",
     "output_type": "stream",
     "text": [
      "happy      790\n",
      "sad        584\n",
      "relaxed    579\n",
      "angry      556\n",
      "Name: Emotion, dtype: int64\n"
     ]
    },
    {
     "data": {
      "image/png": "[encoded data removed]",
      "text/plain": [
       "<matplotlib.figure.Figure at 0x1a34c35278>"
      ]
     },
     "metadata": {},
     "output_type": "display_data"
    }
   ],
   "source": [
    "emotionDistribution = moodyLyricsDF.Emotion.value_counts()\n",
    "print(emotionDistribution)\n",
    "ax = sns.barplot(x=np.array(range(4)),y=emotionDistribution,palette='magma')\n",
    "ax.set_title('Emotion distribution',fontsize=20)\n",
    "ax.set_xticklabels(emotion_labels)\n",
    "plt.show()"
   ]
  },
  {
   "cell_type": "markdown",
   "metadata": {},
   "source": [
    "As we can see our lyrics are quite balanced among the 4 different classes. Only the happy class has some more lyrics with respect to the other threes. However we believe that it is not going to be a problem as the different between happy and other lyrics should not be too relevant."
   ]
  },
  {
   "cell_type": "markdown",
   "metadata": {},
   "source": [
    "Let's save the cleaned dataset into a csv file."
   ]
  },
  {
   "cell_type": "code",
   "execution_count": 173,
   "metadata": {},
   "outputs": [],
   "source": [
    "moodyLyricsDF.to_csv('./datasets/moodylyrics_cleaned.csv')"
   ]
  },
  {
   "cell_type": "markdown",
   "metadata": {},
   "source": [
    "# Lyrics Preprocessing\n",
    "\n",
    "Now we will move on analyzing several techniques for lyrics preprocessing, eventually evaluating their effects and their performances."
   ]
  },
  {
   "cell_type": "markdown",
   "metadata": {},
   "source": [
    "## Lyrics Download"
   ]
  },
  {
   "cell_type": "markdown",
   "metadata": {},
   "source": [
    "First, let's download the lyrics from lyricwikia"
   ]
  },
  {
   "cell_type": "code",
   "execution_count": 174,
   "metadata": {},
   "outputs": [],
   "source": [
    "import lyricwikia\n",
    "import argparse\n",
    "import sys\n",
    "import os\n",
    "import shutil\n",
    "\n",
    "from utils.progress import progress\n",
    "\n",
    "def download_lyrics(input,output,skipHeader=True):\n",
    "\n",
    "    def songs_count(path):\n",
    "        with open(path) as f:\n",
    "            count = len(f.readlines()) - 1\n",
    "            if skipHeader:\n",
    "                count -= 1\n",
    "            return count\n",
    "\n",
    "    # Generator function which reads the lyrics from a csv file line by line\n",
    "    def lyric_entries_generator(path):\n",
    "        with open(path) as lp:\n",
    "            l = lp.readline()\n",
    "            if skipHeader:\n",
    "                l = lp.readline()\n",
    "            while l:\n",
    "                yield l.rstrip().split(',')\n",
    "                l = lp.readline()\n",
    "\n",
    "    def create_output_dir(path):\n",
    "        if os.path.exists(path) and os.path.isdir(path):\n",
    "            shutil.rmtree(path)\n",
    "        os.makedirs(path)\n",
    "\n",
    "\n",
    "    LOG_FILE = '.'.join([input, 'log'])\n",
    "    try:\n",
    "        os.remove(os.path.join('.', LOG_FILE))\n",
    "    except OSError:\n",
    "      # Log file did not exists...not too bad\n",
    "        pass\n",
    "\n",
    "    def err(msg):\n",
    "        with open(os.path.join('.', LOG_FILE), 'a') as log:\n",
    "            log.write(msg)\n",
    "            log.write('\\n')\n",
    "\n",
    "    def download_lyric(song):\n",
    "        try:\n",
    "            lyric = lyricwikia.get_lyrics(song[1], song[2])\n",
    "            filename = '_'.join([song[3], song[1], song[2]])\n",
    "            filename = filename.replace('/', '-') # The '/' should never appear\n",
    "            with open(os.path.join(output, filename), 'w') as sfile:\n",
    "                sfile.write(lyric)\n",
    "                return True\n",
    "        except lyricwikia.LyricsNotFound:\n",
    "            err('Could not download {}'.format(song))\n",
    "            return False\n",
    "\n",
    "\n",
    "    # Get the number of songs we are going to download\n",
    "    totalSongs = songs_count(input)\n",
    "\n",
    "    # Create output directory\n",
    "    create_output_dir(output)\n",
    "\n",
    "    # Download songs\n",
    "    count = 0 \n",
    "    errCount = 0\n",
    "    for lyric in lyric_entries_generator(input):\n",
    "        progress(count, totalSongs, 'Errors encountered: {}'.format(errCount))\n",
    "        if not download_lyric(lyric):\n",
    "            errCount += 1\n",
    "        count += 1"
   ]
  },
  {
   "cell_type": "code",
   "execution_count": 175,
   "metadata": {},
   "outputs": [],
   "source": [
    "inputCsv = './datasets/moodylyrics_cleaned.csv'\n",
    "outputDir = './ml_lyrics'\n",
    "if os.path.exists(outputDir) and os.path.isdir(outputDir):\n",
    "    pass\n",
    "else:\n",
    "    download_lyrics(inputCsv,outputDir)"
   ]
  },
  {
   "cell_type": "markdown",
   "metadata": {},
   "source": [
    "Now let's see how many lyrics we have actually downloaded."
   ]
  },
  {
   "cell_type": "code",
   "execution_count": 176,
   "metadata": {},
   "outputs": [
    {
     "name": "stdout",
     "output_type": "stream",
     "text": [
      "    2447\n"
     ]
    }
   ],
   "source": [
    "%%bash\n",
    "ls -1 ml_lyrics/ | wc -l"
   ]
  },
  {
   "cell_type": "markdown",
   "metadata": {},
   "source": [
    "And let's analyse the emotion distribution considering only the song for which we have downloaded the lyrics."
   ]
  },
  {
   "cell_type": "code",
   "execution_count": 185,
   "metadata": {},
   "outputs": [],
   "source": [
    "count = dict(list(zip(emotion_labels, [0 for x in range(len(emotion_labels))])))\n",
    "\n",
    "# Traverse the dataset directory\n",
    "for root, dirs, files in os.walk(lyrics_path):\n",
    "    for f in files:\n",
    "        fields = f.split('_')\n",
    "        if len(fields) > 0:\n",
    "            count[fields[0]] += 1"
   ]
  },
  {
   "cell_type": "code",
   "execution_count": 186,
   "metadata": {},
   "outputs": [
    {
     "data": {
      "image/png": "[encoded data removed]",
      "text/plain": [
       "<matplotlib.figure.Figure at 0x1a3429a358>"
      ]
     },
     "metadata": {},
     "output_type": "display_data"
    }
   ],
   "source": [
    "# Plot the obtained counts\n",
    "# Plot\n",
    "fig, ax = plt.subplots()\n",
    "#fig.set_size_inches(10, 7)\n",
    "ax = sns.barplot(x=list(count.keys()), y=list(count.values()), ax=ax,palette='magma')\n",
    "ax.set_title('Amount of lyrics for each emotion',fontsize=20)\n",
    "plt.tight_layout()\n",
    "plt.show()"
   ]
  },
  {
   "cell_type": "markdown",
   "metadata": {},
   "source": [
    "We can see that the emotion distribution looks alike the previous one.  "
   ]
  },
  {
   "cell_type": "markdown",
   "metadata": {},
   "source": [
    "## Stopwords deletion\n",
    "\n",
    "In one of our meetings for our project an interesting question was raised: does it really make sense to remove stopwords from lyrics? Would we have enough words after removing stopwords? Let's see what is the percentage change in the amount of words in our lyrics after removing stopwords. "
   ]
  },
  {
   "cell_type": "code",
   "execution_count": 11,
   "metadata": {
    "ExecuteTime": {
     "end_time": "2018-04-10T17:28:58.613749Z",
     "start_time": "2018-04-10T17:28:58.607358Z"
    }
   },
   "outputs": [],
   "source": [
    "def remove_stopwords(doc):\n",
    "    tks = list(filter(lambda tk: not tk.is_stop, doc))\n",
    "    return spacy.tokens.Doc(nlp.vocab, words=[tk.text for tk in tks])"
   ]
  },
  {
   "cell_type": "code",
   "execution_count": 180,
   "metadata": {
    "ExecuteTime": {
     "end_time": "2018-04-09T21:07:54.824595Z",
     "start_time": "2018-04-09T21:04:20.501798Z"
    },
    "scrolled": true
   },
   "outputs": [
    {
     "name": "stdout",
     "output_type": "stream",
     "text": [
      "                                               Lyric  Word_Count  \\\n",
      "0  /Users/saragiammusso/Desktop/Project/src/ml_ly...         266   \n",
      "1  /Users/saragiammusso/Desktop/Project/src/ml_ly...         214   \n",
      "2  /Users/saragiammusso/Desktop/Project/src/ml_ly...         339   \n",
      "3  /Users/saragiammusso/Desktop/Project/src/ml_ly...         169   \n",
      "4  /Users/saragiammusso/Desktop/Project/src/ml_ly...         352   \n",
      "\n",
      "   Word_Count_After  Percentage_Change  \n",
      "0               133          50.000000  \n",
      "1               116          45.794393  \n",
      "2               245          27.728614  \n",
      "3                98          42.011834  \n",
      "4               213          39.488636  \n"
     ]
    }
   ],
   "source": [
    "paths = load_dataset_from_path(lyrics_path)['Lyric_Path'].as_matrix()\n",
    "\n",
    "# Build a dataframe with the following schema:\n",
    "# <Song, word_count, words_after_stopwords_removal, percentage_change>\n",
    "rows = list()\n",
    "\n",
    "for path in paths:\n",
    "    with open(path, 'r') as f:\n",
    "        doc = nlp(f.read())\n",
    "        n_words_before = len(doc)\n",
    "        doc = remove_stopwords(doc)\n",
    "        n_words_after = len(doc)\n",
    "        perc = (n_words_before - n_words_after) / n_words_before * 100\n",
    "        row = (path, n_words_before, n_words_after, perc)\n",
    "        rows.append(row)\n",
    "\n",
    "# Create a dataframe with the found information\n",
    "df = pd.DataFrame(rows, columns=['Lyric', 'Word_Count', \n",
    "                  'Word_Count_After', 'Percentage_Change'])\n",
    "print(df[:5])"
   ]
  },
  {
   "cell_type": "code",
   "execution_count": 181,
   "metadata": {
    "ExecuteTime": {
     "end_time": "2018-04-09T21:08:06.633245Z",
     "start_time": "2018-04-09T21:08:06.530430Z"
    }
   },
   "outputs": [
    {
     "name": "stdout",
     "output_type": "stream",
     "text": [
      "Percentage of change in lyrics after removing stopwords:\n",
      "                0     1\n",
      "0            < 25   225\n",
      "1  >= 25 and < 30    74\n",
      "2  >= 30 and < 40   495\n",
      "3  >= 40 and < 50  1009\n",
      "4  >= 50 and < 60   585\n",
      "5  >= 60 and < 75    59\n",
      "6           >= 75     0\n"
     ]
    }
   ],
   "source": [
    "# Print some statistics\n",
    "percs = [ 25, 30, 40, 50, 60, 75 ]\n",
    "print('Percentage of change in lyrics after removing stopwords:')\n",
    "it = enumerate(percs)\n",
    "plt_data = list()\n",
    "for (i, perc) in it:\n",
    "    if i == 0: \n",
    "        count = len(df[df['Percentage_Change'] < perc])\n",
    "        #print(' - < {}:\\t\\t\\t{}'.format(perc, count))\n",
    "        plt_data.append(('< {}'.format(perc), count))\n",
    "    elif i == len(percs) - 1:\n",
    "        prev_p = percs[i-1]\n",
    "        count = len(df[(df['Percentage_Change'] >= prev_p) & (df['Percentage_Change'] < perc)])\n",
    "        #print(' - between {} and {}:\\t{}'.format(prev_p, perc, count))\n",
    "        plt_data.append(('>= {} and < {}'.format(prev_p, perc, count), count))\n",
    "        \n",
    "        count = len(df[df['Percentage_Change'] >= perc])\n",
    "        #print(' - >= {}:\\t\\t\\t{}'.format(perc, count))\n",
    "        plt_data.append(('>= {}'.format(perc), count))\n",
    "    else:\n",
    "        prev_p = percs[i-1]\n",
    "        count = len(df[(df['Percentage_Change'] >= prev_p) & (df['Percentage_Change'] < perc)])\n",
    "        #print(' - between {} and {}:\\t{}'.format(prev_p, perc, count))\n",
    "        plt_data.append(('>= {} and < {}'.format(prev_p, perc, count), count))\n",
    "\n",
    "pltDf = pd.DataFrame(plt_data)\n",
    "print(pltDf)"
   ]
  },
  {
   "cell_type": "code",
   "execution_count": 183,
   "metadata": {
    "ExecuteTime": {
     "end_time": "2018-04-09T21:08:13.872095Z",
     "start_time": "2018-04-09T21:08:13.482903Z"
    }
   },
   "outputs": [
    {
     "data": {
      "image/png": "[encoded data removed]",
      "text/plain": [
       "<matplotlib.figure.Figure at 0x1a12b7d9e8>"
      ]
     },
     "metadata": {},
     "output_type": "display_data"
    }
   ],
   "source": [
    "# Plot\n",
    "fig, ax = plt.subplots()\n",
    "fig.set_size_inches(10, 7)\n",
    "ax = sns.barplot(pltDf[0], pltDf[1], ax=ax, palette='magma')\n",
    "ax.set_title('Percentage change in number of words after stopwords pruning')\n",
    "plt.tight_layout()\n",
    "plt.show()"
   ]
  },
  {
   "cell_type": "markdown",
   "metadata": {},
   "source": [
    "As we can see from the above plot, there is a minimum (but still relevant to our purpose) impact on lyrics, which still have a large number of words to be analyzed. Very few songs reduced their size of more then the 50% and for those songs we may probably have some issues. However this is a really small amount of lyrics that does not prevent us from saying that stopword deletion can be used as a good pre-processing technique for our model."
   ]
  },
  {
   "cell_type": "markdown",
   "metadata": {},
   "source": [
    "## Preprocessing Function\n",
    "Now that we have defined which kind of preprocessing is good to apply to the text of our songs, let's define a function which will be used throughout the notebook to perform lyrics preprocessing."
   ]
  },
  {
   "cell_type": "code",
   "execution_count": 7,
   "metadata": {
    "ExecuteTime": {
     "end_time": "2018-04-10T17:28:34.396151Z",
     "start_time": "2018-04-10T17:28:34.391074Z"
    }
   },
   "outputs": [],
   "source": [
    "def doc_preprocess(doc):\n",
    "    d = remove_stopwords(doc)\n",
    "    return d"
   ]
  },
  {
   "cell_type": "markdown",
   "metadata": {},
   "source": [
    "# Feature Engineering\n",
    "We will now move on trying to extract some interesting feature from our dataset. \n",
    "\n",
    "An important thing we need to state before starting analyzing this section, is that, by using spaCy's language model, each document has a word vector of length 300."
   ]
  },
  {
   "cell_type": "markdown",
   "metadata": {},
   "source": [
    "## Principal Component Analysis\n",
    "As we already said, the language model we are usin assigns word vectors of length 300 to documents and words. However this dimension may be too huge for our problem. In fact it is possible that, by performing some dimensionality reduction, we could still obtain good results from our model.\n",
    "\n",
    "First of all we will perform PCA with 2 components, just because we want to visualize the effect of dimensionality reduction on our dataset."
   ]
  },
  {
   "cell_type": "code",
   "execution_count": 14,
   "metadata": {
    "ExecuteTime": {
     "end_time": "2018-04-10T09:21:45.451666Z",
     "start_time": "2018-04-10T09:17:50.610098Z"
    }
   },
   "outputs": [],
   "source": [
    "# Read dataset into pandas dataframe\n",
    "pca_dataset = load_dataset_from_path(lyrics_path)\n",
    "\n",
    "# Turn emotion labels into numerical features\n",
    "mapping = dict(zip(emotion_labels, range(len(emotion_labels)))) # { 'happy' : 0, 'sad': 1, 'relaxed': 2, 'angry': 3 }\n",
    "pca_dataset['Emotion'] = pca_dataset['Emotion'].map(mapping)\n",
    "\n",
    "# Make the dataset to follow this scema:\n",
    "# <Lyric_Path, Emotion, Vector, Vector_Norm>\n",
    "rows = list()\n",
    "pca_dataset['Vector'] = np.nan\n",
    "for index, row in pca_dataset.iterrows():\n",
    "    lyric = row['Lyric_Path']\n",
    "    emotion = row['Emotion']\n",
    "    with open(lyric, 'r') as lyric_file: \n",
    "        doc = nlp(lyric_file.read())\n",
    "        doc = doc_preprocess(doc)\n",
    "        # Consider only those vectors with the same length\n",
    "        # This will be avoided when we will have proper PCA\n",
    "        if len(doc.vector) == 300:\n",
    "            rows.append((\n",
    "                emotion, doc.vector\n",
    "            ))\n",
    "pca_dataset = pd.DataFrame(rows, columns=['Emotion', 'Vector'])"
   ]
  },
  {
   "cell_type": "code",
   "execution_count": 42,
   "metadata": {
    "ExecuteTime": {
     "end_time": "2018-04-10T09:25:53.867997Z",
     "start_time": "2018-04-10T09:25:53.853728Z"
    }
   },
   "outputs": [],
   "source": [
    "pca_X_vect = pca_dataset['Vector'].as_matrix()\n",
    "pca_X_vect = np.array([np.array(x) for x in pca_X_vect])\n",
    "pca_y = pca_dataset['Emotion'].as_matrix()"
   ]
  },
  {
   "cell_type": "code",
   "execution_count": 122,
   "metadata": {
    "ExecuteTime": {
     "end_time": "2018-04-10T09:43:31.949650Z",
     "start_time": "2018-04-10T09:43:31.945004Z"
    }
   },
   "outputs": [],
   "source": [
    "def pca(n_components):\n",
    "    pca = PCA(n_components=n_components)\n",
    "    pca.fit(pca_X_vect.T)\n",
    "    return pca.components_.T"
   ]
  },
  {
   "cell_type": "code",
   "execution_count": 123,
   "metadata": {
    "ExecuteTime": {
     "end_time": "2018-04-10T09:43:33.202250Z",
     "start_time": "2018-04-10T09:43:33.103201Z"
    }
   },
   "outputs": [],
   "source": [
    "components = pca(2)"
   ]
  },
  {
   "cell_type": "code",
   "execution_count": null,
   "metadata": {
    "ExecuteTime": {
     "end_time": "2018-04-10T09:33:27.544088Z",
     "start_time": "2018-04-10T09:33:27.536973Z"
    }
   },
   "outputs": [],
   "source": [
    "# Put reduced components and labels together for plotting\n",
    "comps = list(zip(components, pca_y))\n",
    "pca_df = pd.DataFrame(comps, columns=['Vector', 'Emotion'])"
   ]
  },
  {
   "cell_type": "code",
   "execution_count": 120,
   "metadata": {
    "ExecuteTime": {
     "end_time": "2018-04-10T09:38:54.939714Z",
     "start_time": "2018-04-10T09:38:54.640207Z"
    }
   },
   "outputs": [
    {
     "data": {
      "image/png": "[encoded data removed]",
      "text/plain": [
       "<Figure size 432x288 with 1 Axes>"
      ]
     },
     "metadata": {},
     "output_type": "display_data"
    }
   ],
   "source": [
    "# Plot points for each class\n",
    "for i in range(4):\n",
    "    emo_df = df[df['Emotion'] == i]\n",
    "    x = emo_df['Vector'].as_matrix()\n",
    "    x = np.array([np.array(k) for k in x])\n",
    "    plt.scatter(x[:,0], x[:,1])\n",
    "plt.legend(emotion_labels)\n",
    "plt.show()"
   ]
  },
  {
   "cell_type": "markdown",
   "metadata": {},
   "source": [
    "Certainly this approximation is quite bad. Of course we are assuming a too simplistic hypotesis. Let's not try with 3 components:"
   ]
  },
  {
   "cell_type": "code",
   "execution_count": 135,
   "metadata": {
    "ExecuteTime": {
     "end_time": "2018-04-10T09:49:45.198313Z",
     "start_time": "2018-04-10T09:49:45.042667Z"
    }
   },
   "outputs": [
    {
     "name": "stdout",
     "output_type": "stream",
     "text": [
      "(766, 2)\n",
      "(766, 1, 2)\n"
     ]
    },
    {
     "ename": "IndexError",
     "evalue": "index 1 is out of bounds for axis 1 with size 1",
     "output_type": "error",
     "traceback": [
      "\u001b[0;31m---------------------------------------------------------------------------\u001b[0m",
      "\u001b[0;31mIndexError\u001b[0m                                Traceback (most recent call last)",
      "\u001b[0;32m<ipython-input-135-8341b6ce772e>\u001b[0m in \u001b[0;36m<module>\u001b[0;34m()\u001b[0m\n\u001b[1;32m     11\u001b[0m     \u001b[0mx\u001b[0m \u001b[0;34m=\u001b[0m \u001b[0mnp\u001b[0m\u001b[0;34m.\u001b[0m\u001b[0marray\u001b[0m\u001b[0;34m(\u001b[0m\u001b[0;34m[\u001b[0m\u001b[0mnp\u001b[0m\u001b[0;34m.\u001b[0m\u001b[0marray\u001b[0m\u001b[0;34m(\u001b[0m\u001b[0mk\u001b[0m\u001b[0;34m)\u001b[0m \u001b[0;32mfor\u001b[0m \u001b[0mk\u001b[0m \u001b[0;32min\u001b[0m \u001b[0mx\u001b[0m\u001b[0;34m]\u001b[0m\u001b[0;34m)\u001b[0m\u001b[0;34m\u001b[0m\u001b[0m\n\u001b[1;32m     12\u001b[0m     \u001b[0mprint\u001b[0m\u001b[0;34m(\u001b[0m\u001b[0mx\u001b[0m\u001b[0;34m.\u001b[0m\u001b[0mshape\u001b[0m\u001b[0;34m)\u001b[0m\u001b[0;34m\u001b[0m\u001b[0m\n\u001b[0;32m---> 13\u001b[0;31m     \u001b[0mplt\u001b[0m\u001b[0;34m.\u001b[0m\u001b[0mscatter\u001b[0m\u001b[0;34m(\u001b[0m\u001b[0mx\u001b[0m\u001b[0;34m[\u001b[0m\u001b[0;34m:\u001b[0m\u001b[0;34m,\u001b[0m\u001b[0;36m0\u001b[0m\u001b[0;34m]\u001b[0m\u001b[0;34m,\u001b[0m \u001b[0mx\u001b[0m\u001b[0;34m[\u001b[0m\u001b[0;34m:\u001b[0m\u001b[0;34m,\u001b[0m\u001b[0;36m1\u001b[0m\u001b[0;34m]\u001b[0m\u001b[0;34m,\u001b[0m \u001b[0mx\u001b[0m\u001b[0;34m[\u001b[0m\u001b[0;34m:\u001b[0m\u001b[0;34m,\u001b[0m\u001b[0;36m2\u001b[0m\u001b[0;34m]\u001b[0m\u001b[0;34m)\u001b[0m\u001b[0;34m\u001b[0m\u001b[0m\n\u001b[0m\u001b[1;32m     14\u001b[0m \u001b[0mplt\u001b[0m\u001b[0;34m.\u001b[0m\u001b[0mlegend\u001b[0m\u001b[0;34m(\u001b[0m\u001b[0memotion_labels\u001b[0m\u001b[0;34m)\u001b[0m\u001b[0;34m\u001b[0m\u001b[0m\n\u001b[1;32m     15\u001b[0m \u001b[0mplt\u001b[0m\u001b[0;34m.\u001b[0m\u001b[0mshow\u001b[0m\u001b[0;34m(\u001b[0m\u001b[0;34m)\u001b[0m\u001b[0;34m\u001b[0m\u001b[0m\n",
      "\u001b[0;31mIndexError\u001b[0m: index 1 is out of bounds for axis 1 with size 1"
     ]
    }
   ],
   "source": [
    "components = pca(3)\n",
    "# Put reduced components and labels together for plotting\n",
    "comps = list(zip(components, pca_y))\n",
    "pca_df = pd.DataFrame(comps, columns=['Vector', 'Emotion'])\n",
    "# Plot points for each class\n",
    "for i in range(4):\n",
    "    emo_df = df[df['Emotion'] == i]\n",
    "    x = list(emo_df['Vector'].as_matrix())\n",
    "\n",
    "    x = np.array([np.array(k) for k in x])\n",
    "    print(x.shape)\n",
    "    plt.scatter(x[:,0], x[:,1], x[:,2])\n",
    "plt.legend(emotion_labels)\n",
    "plt.show()"
   ]
  },
  {
   "cell_type": "markdown",
   "metadata": {
    "variables": {
     "emotion_labels": "[&#39;happy&#39;, &#39;sad&#39;, &#39;relaxed&#39;, &#39;angry&#39;]"
    }
   },
   "source": [
    "We are using a model with for emotions ({{emotion_labels}})"
   ]
  },
  {
   "cell_type": "markdown",
   "metadata": {},
   "source": [
    "## Feature Engineering Function\n",
    "Now that we have defined which kind of feature engineering we want to, let's define a function which will be used throughout the notebook to perform the desired operations on the dataset."
   ]
  },
  {
   "cell_type": "code",
   "execution_count": 8,
   "metadata": {
    "ExecuteTime": {
     "end_time": "2018-04-10T17:28:40.682969Z",
     "start_time": "2018-04-10T17:28:40.678759Z"
    }
   },
   "outputs": [],
   "source": [
    "def feature_engineer(dataset):\n",
    "    return dataset"
   ]
  },
  {
   "cell_type": "markdown",
   "metadata": {},
   "source": [
    "# Classifiers\n",
    "In the next sections we will provide the implementation of several classification algorithms we used.\n",
    "\n",
    "First, let's prepare the data for those classifiers."
   ]
  },
  {
   "cell_type": "code",
   "execution_count": 12,
   "metadata": {
    "ExecuteTime": {
     "end_time": "2018-04-10T17:29:03.345799Z",
     "start_time": "2018-04-10T17:29:03.300182Z"
    }
   },
   "outputs": [],
   "source": [
    "def load_dataset(lyrics_path):\n",
    "    # Read dataset into pandas dataframe\n",
    "    dataset = load_dataset_from_path(lyrics_path)\n",
    "\n",
    "    # Turn emotion labels into numerical features\n",
    "    mapping = dict(zip(emotion_labels, range(len(emotion_labels)))) # { 'happy' : 0, 'sad': 1, 'relaxed': 2, 'angry': 3 }\n",
    "    dataset['Emotion'] = dataset['Emotion'].map(mapping)\n",
    "\n",
    "    # Make the dataset to follow this scema:\n",
    "    # <Lyric_Path, Emotion, Vector, Vector_Norm>\n",
    "    rows = list()\n",
    "    dataset['Vector'] = np.nan\n",
    "    dataset['Vector_Norm'] = np.nan\n",
    "    for index, row in dataset.iterrows():\n",
    "        lyric = row['Lyric_Path']\n",
    "        emotion = row['Emotion']\n",
    "        with open(lyric, 'r') as lyric_file: \n",
    "            doc = nlp(lyric_file.read())\n",
    "            doc = doc_preprocess(doc) # Preprocessing step\n",
    "            # Consider only those vectors with the same length\n",
    "            # This will be avoided when we will have proper PCA\n",
    "            if len(doc.vector) == 300:\n",
    "                rows.append((\n",
    "                    lyric,\n",
    "                    emotion, doc.vector,\n",
    "                    doc.vector_norm\n",
    "                ))\n",
    "    dataset = pd.DataFrame(rows, columns=['Lyric_Path', 'Emotion', 'Vector', 'Vector_Norm'])\n",
    "    #dataset = feature_engineer(dataset) # Do feature engineering\n",
    "    return dataset"
   ]
  },
  {
   "cell_type": "code",
   "execution_count": 13,
   "metadata": {
    "ExecuteTime": {
     "end_time": "2018-04-10T17:32:56.112434Z",
     "start_time": "2018-04-10T17:29:03.586011Z"
    },
    "scrolled": true
   },
   "outputs": [
    {
     "data": {
      "text/html": [
       "<div>\n",
       "<style scoped>\n",
       "    .dataframe tbody tr th:only-of-type {\n",
       "        vertical-align: middle;\n",
       "    }\n",
       "\n",
       "    .dataframe tbody tr th {\n",
       "        vertical-align: top;\n",
       "    }\n",
       "\n",
       "    .dataframe thead th {\n",
       "        text-align: right;\n",
       "    }\n",
       "</style>\n",
       "<table border=\"1\" class=\"dataframe\">\n",
       "  <thead>\n",
       "    <tr style=\"text-align: right;\">\n",
       "      <th></th>\n",
       "      <th>Lyric_Path</th>\n",
       "      <th>Emotion</th>\n",
       "      <th>Vector</th>\n",
       "      <th>Vector_Norm</th>\n",
       "    </tr>\n",
       "  </thead>\n",
       "  <tbody>\n",
       "    <tr>\n",
       "      <th>0</th>\n",
       "      <td>/home/mario/dev/emotion-patterns-in-music-play...</td>\n",
       "      <td>3</td>\n",
       "      <td>[0.05747938, 0.18501352, -0.14104907, -0.04625...</td>\n",
       "      <td>2.859903</td>\n",
       "    </tr>\n",
       "    <tr>\n",
       "      <th>1</th>\n",
       "      <td>/home/mario/dev/emotion-patterns-in-music-play...</td>\n",
       "      <td>0</td>\n",
       "      <td>[-0.013439501, 0.17781271, -0.1585186, -0.0208...</td>\n",
       "      <td>2.633056</td>\n",
       "    </tr>\n",
       "    <tr>\n",
       "      <th>2</th>\n",
       "      <td>/home/mario/dev/emotion-patterns-in-music-play...</td>\n",
       "      <td>0</td>\n",
       "      <td>[-0.030751104, 0.31046307, -0.15142494, -0.013...</td>\n",
       "      <td>3.019833</td>\n",
       "    </tr>\n",
       "    <tr>\n",
       "      <th>3</th>\n",
       "      <td>/home/mario/dev/emotion-patterns-in-music-play...</td>\n",
       "      <td>1</td>\n",
       "      <td>[0.062542394, 0.08743761, -0.08960157, -0.0961...</td>\n",
       "      <td>2.446515</td>\n",
       "    </tr>\n",
       "    <tr>\n",
       "      <th>4</th>\n",
       "      <td>/home/mario/dev/emotion-patterns-in-music-play...</td>\n",
       "      <td>3</td>\n",
       "      <td>[-0.0777918, 0.1709495, -0.16516578, -0.032506...</td>\n",
       "      <td>2.737937</td>\n",
       "    </tr>\n",
       "  </tbody>\n",
       "</table>\n",
       "</div>"
      ],
      "text/plain": [
       "                                          Lyric_Path  Emotion  \\\n",
       "0  /home/mario/dev/emotion-patterns-in-music-play...        3   \n",
       "1  /home/mario/dev/emotion-patterns-in-music-play...        0   \n",
       "2  /home/mario/dev/emotion-patterns-in-music-play...        0   \n",
       "3  /home/mario/dev/emotion-patterns-in-music-play...        1   \n",
       "4  /home/mario/dev/emotion-patterns-in-music-play...        3   \n",
       "\n",
       "                                              Vector  Vector_Norm  \n",
       "0  [0.05747938, 0.18501352, -0.14104907, -0.04625...     2.859903  \n",
       "1  [-0.013439501, 0.17781271, -0.1585186, -0.0208...     2.633056  \n",
       "2  [-0.030751104, 0.31046307, -0.15142494, -0.013...     3.019833  \n",
       "3  [0.062542394, 0.08743761, -0.08960157, -0.0961...     2.446515  \n",
       "4  [-0.0777918, 0.1709495, -0.16516578, -0.032506...     2.737937  "
      ]
     },
     "execution_count": 13,
     "metadata": {},
     "output_type": "execute_result"
    }
   ],
   "source": [
    "dataset = load_dataset(lyrics_path)\n",
    "# Show some dataset's values\n",
    "dataset.head()"
   ]
  },
  {
   "cell_type": "code",
   "execution_count": 14,
   "metadata": {
    "ExecuteTime": {
     "end_time": "2018-04-10T17:32:56.151210Z",
     "start_time": "2018-04-10T17:32:56.114917Z"
    }
   },
   "outputs": [],
   "source": [
    "# Prepare array for sklearn classifiers\n",
    "X_vect = dataset['Vector'].as_matrix().T\n",
    "X_vect = np.array([np.array(x) for x in X_vect])\n",
    "X_norm = dataset['Vector_Norm'].as_matrix()\n",
    "y = dataset['Emotion'].as_matrix()"
   ]
  },
  {
   "cell_type": "code",
   "execution_count": 245,
   "metadata": {},
   "outputs": [
    {
     "name": "stdout",
     "output_type": "stream",
     "text": [
      "(2447, 300)\n",
      "(2447,)\n"
     ]
    }
   ],
   "source": [
    "print(np.shape(X_vect))\n",
    "print(np.shape(y))"
   ]
  },
  {
   "cell_type": "markdown",
   "metadata": {},
   "source": [
    "## Supervised K-Means\n",
    "This is the first and the easieast classifier idea we came up. We used this idea just to verify what we could do and if we were on the right path. \n",
    "\n",
    "The name we gave to this classifier could sound ambiguous but we believe that, once its functioning is explained, the name will sound more decent.\n",
    "\n",
    "The idea behind this classifier is quite simple. The first thing we do is to compute the centroids for each emotion class. Then, to classify a lyric, we simply compare its word vector norm to the 4 centroids. At the end we will assign our lyric with the label of the closest \"cluster\"."
   ]
  },
  {
   "cell_type": "code",
   "execution_count": 199,
   "metadata": {
    "ExecuteTime": {
     "end_time": "2018-04-09T21:14:42.492782Z",
     "start_time": "2018-04-09T21:14:17.429570Z"
    }
   },
   "outputs": [
    {
     "name": "stdout",
     "output_type": "stream",
     "text": [
      "Accuracy: 0.27\n"
     ]
    }
   ],
   "source": [
    "from classifier.LyricsSupervisedKMeans import LyricsSupervisedKMeans\n",
    "\n",
    "clf = LyricsSupervisedKMeans()\n",
    "clf.set_lang(nlp)\n",
    "\n",
    "# Split dataset into training and test sets\n",
    "trainDf, testDf = split_train_validation(dataset)\n",
    "\n",
    "X_sup_kmeans_train = trainDf['Vector_Norm'].as_matrix().T\n",
    "X_sup_kmeans_train = np.array([np.array(x) for x in X_sup_kmeans_train])\n",
    "\n",
    "y_sup_kmeans_train = trainDf['Emotion'].as_matrix()\n",
    "\n",
    "# Train our model\n",
    "clf.train(X_sup_kmeans_train, y_sup_kmeans_train)\n",
    "\n",
    "# Evaluate accuracy\n",
    "acc = clf.score(testDf)\n",
    "print('Accuracy: %0.2f' % (acc))"
   ]
  },
  {
   "cell_type": "markdown",
   "metadata": {},
   "source": [
    "For this model we did not even implement cross-validation. We just split the dataset into a training set (90%) and a test set (10%) and we evaluated the classification accuracy on that test set. We decided not to implement cross-validation for this classifier as we believe it is not worth to spend time on it.\n",
    "\n",
    "We were expecting poor results from this classifier but at least it served to the purpose of giving us a hint of which direction to follow."
   ]
  },
  {
   "cell_type": "markdown",
   "metadata": {},
   "source": [
    "## k-Nearest Neighbour\n",
    "We will now build a k-NN model which is basically a generalization of what we called \"Supervised K-Means\". We will evaluate our model for several different k values. The parameters passed to our model are quite self-explicative."
   ]
  },
  {
   "cell_type": "code",
   "execution_count": 202,
   "metadata": {
    "ExecuteTime": {
     "end_time": "2018-04-09T21:13:32.705729Z",
     "start_time": "2018-04-09T21:13:06.458942Z"
    }
   },
   "outputs": [
    {
     "name": "stdout",
     "output_type": "stream",
     "text": [
      "Accuracy for k=1: 0.80 (+/- 0.05)\n",
      "Accuracy for k=3: 0.81 (+/- 0.05)\n",
      "Accuracy for k=5: 0.81 (+/- 0.03)\n",
      "Accuracy for k=7: 0.81 (+/- 0.04)\n",
      "Accuracy for k=9: 0.81 (+/- 0.03)\n",
      "Accuracy for k=11: 0.82 (+/- 0.05)\n",
      "Accuracy for k=13: 0.82 (+/- 0.04)\n",
      "Accuracy for k=15: 0.82 (+/- 0.04)\n",
      "Accuracy for k=17: 0.81 (+/- 0.03)\n",
      "Accuracy for k=19: 0.81 (+/- 0.03)\n",
      "Accuracy for k=21: 0.81 (+/- 0.03)\n"
     ]
    }
   ],
   "source": [
    "from sklearn.neighbors import KNeighborsClassifier\n",
    "\n",
    "ks = [1, 3, 5, 7, 9, 11, 13, 15, 17, 19, 21]\n",
    "\n",
    "for k in ks:\n",
    "    # Build model\n",
    "    clf = KNeighborsClassifier(n_neighbors=k, algorithm='auto', \n",
    "                           metric='euclidean', n_jobs=-1)\n",
    "    # Evaluate accuracy\n",
    "    scores = cross_val_score(clf, X_vect, y, cv=10)\n",
    "    print('Accuracy for k=%d: %0.2f (+/- %0.2f)' % (k, scores.mean(), scores.std() * 1.96))"
   ]
  },
  {
   "cell_type": "markdown",
   "metadata": {},
   "source": [
    "The k-NN algorithm produced unexpectedly good results. As we can see the algorithm never reaches an accuracy value higher than 82%. From our observations we can conclude that `k=9` could be an good parameter for that model.\n",
    "\n",
    "An interesting thing we noticed while running our experiments is that, when we read our dataset without preprocessing our lyrics, the accuracy was around 10% lower.\n",
    "\n",
    "Those results are encouraging and make us believe that we can certainly do even better."
   ]
  },
  {
   "cell_type": "markdown",
   "metadata": {},
   "source": [
    "## SVM\n",
    "We will now train a Support Vector Machine using the algorithm available in sklearn. For this first experiment we did not change the default parameters of the SVM algorithm provided in sklearn."
   ]
  },
  {
   "cell_type": "code",
   "execution_count": 203,
   "metadata": {
    "ExecuteTime": {
     "end_time": "2018-04-09T21:15:16.369778Z",
     "start_time": "2018-04-09T21:14:50.158328Z"
    }
   },
   "outputs": [
    {
     "name": "stdout",
     "output_type": "stream",
     "text": [
      "Accuracy: 0.59 (+/- 0.08)\n"
     ]
    }
   ],
   "source": [
    "from sklearn.svm import SVC\n",
    "\n",
    "# Build model\n",
    "clf = SVC()\n",
    "# Evaluate accuracy\n",
    "scores = cross_val_score(clf, X_vect, y, cv=10)\n",
    "print('Accuracy: %0.2f (+/- %0.2f)' % (scores.mean(), scores.std() * 1.96))"
   ]
  },
  {
   "cell_type": "markdown",
   "metadata": {},
   "source": [
    "Now let's see if we can improve our model's accuracy just my properly tuning our parameters. We will perform a [Grid Search](http://scikit-learn.org/stable/modules/grid_search.html) to properly tune our model using a cross validation approach to evaluating accuracy. We will operate on both the kernel function and the penalty parameter C.\n",
    "\n",
    "Beware that the below cell takes quite a long time to run as the `SVC` train function complexity is more than quadratic and, having to run it several times, is quite expensive."
   ]
  },
  {
   "cell_type": "code",
   "execution_count": 205,
   "metadata": {
    "ExecuteTime": {
     "end_time": "2018-04-09T21:22:15.533515Z",
     "start_time": "2018-04-09T21:15:21.742694Z"
    }
   },
   "outputs": [
    {
     "name": "stdout",
     "output_type": "stream",
     "text": [
      "Fitting 10 folds for each of 29 candidates, totalling 290 fits\n"
     ]
    },
    {
     "name": "stderr",
     "output_type": "stream",
     "text": [
      "[Parallel(n_jobs=-1)]: Done  42 tasks      | elapsed:   37.4s\n",
      "[Parallel(n_jobs=-1)]: Done 192 tasks      | elapsed:  4.4min\n",
      "[Parallel(n_jobs=-1)]: Done 290 out of 290 | elapsed:  5.6min finished\n"
     ]
    },
    {
     "name": "stdout",
     "output_type": "stream",
     "text": [
      "Parameters: {'C': 10, 'kernel': 'linear'}\n"
     ]
    }
   ],
   "source": [
    "# Define the set of parameters we want to test on\n",
    "params = [\n",
    "    { 'kernel': ['linear'], 'C': [ 0.01, 0.05, 1, 10, 100 ]},\n",
    "    { 'kernel': ['rbf', 'sigmoid'], 'C': [ 0.01, 0.05, 0.1, 0.3, 0.8, 1, 3, 10, 50, 100, 150, 200 ] }\n",
    "]\n",
    "\n",
    "# Perform grid search\n",
    "svm_best, best_params = parameters_grid_search(SVC, params, X_vect, y, verbose=1)\n",
    "print('Parameters:', best_params)"
   ]
  },
  {
   "cell_type": "code",
   "execution_count": 206,
   "metadata": {
    "ExecuteTime": {
     "end_time": "2018-04-09T21:22:26.843539Z",
     "start_time": "2018-04-09T21:22:20.992884Z"
    },
    "scrolled": true
   },
   "outputs": [
    {
     "name": "stdout",
     "output_type": "stream",
     "text": [
      "Accuracy: 0.90 (+/- 0.04)\n"
     ]
    }
   ],
   "source": [
    "scores = cross_val_score(svm_best, X_vect, y, cv=10)\n",
    "print('Accuracy: %0.2f (+/- %0.2f)' % (scores.mean(), scores.std() * 1.96))"
   ]
  },
  {
   "cell_type": "markdown",
   "metadata": {},
   "source": [
    "Honestly we were not expecting the SVM model to be so good. Let's do some more tests and see if this classifier is really that good. We will now try to classify some very popular songs which were labelled according to our personal tastes and to [IBM Tone Analyzer](https://tone-analyzer-demo.ng.bluemix.net/?cm_mc_uid=56761301373215210511228&cm_mc_sid_50200000=91001461523311389617&cm_mc_sid_52640000=29317781523311389622) ones. Those songs we are trying to classify are not available in MoodyLyrics. Let's see how our optimal SVM performs."
   ]
  },
  {
   "cell_type": "code",
   "execution_count": 207,
   "metadata": {
    "ExecuteTime": {
     "end_time": "2018-04-09T22:14:33.710546Z",
     "start_time": "2018-04-09T22:14:33.621351Z"
    }
   },
   "outputs": [],
   "source": [
    "import lyricwikia\n",
    "\n",
    "def extra_test(classifier):\n",
    "    songs = [\n",
    "        ('Bobby McFerrin', 'Don\\'t Worry, Be Happy', 'happy'),\n",
    "        ('Queen', 'Don\\'t Stop me Now', 'happy'),\n",
    "        ('Pharrell Williams', 'Happy', 'happy'),\n",
    "        ('The Monkees', 'I\\'m a believer', 'happy'),\n",
    "        \n",
    "        ('R.E.M.', 'Everybody Hurts', 'sad'),\n",
    "        ('Adele', 'Someone Like You', 'sad'),\n",
    "        ('Pink Floyd', 'Wish you were here', 'sad'),\n",
    "        ('Johnny Cash', 'Hurt', 'sad'),\n",
    "        ('Nirvana', 'Smells like teen spirit', 'sad'),\n",
    "        \n",
    "        ('Rage Against the Machine', 'Killing in the name', 'angry'),\n",
    "        ('Kanye West', 'Stronger', 'angry'),\n",
    "        ('Smash Mouth', 'All Star', 'angry'),\n",
    "        ('Bloodhound Gang', 'The Ballad of Chasey Lain', 'angry'),\n",
    "        \n",
    "        ('Blur', 'Song 2', 'relaxed') # I'm not quite confident about this labeling\n",
    "    ]\n",
    "\n",
    "    count_correct = 0\n",
    "    for s in songs:\n",
    "        # Download the lyric\n",
    "        lyric = lyricwikia.get_lyrics(s[0], s[1])\n",
    "        # Convert lyric to spacy Doc and preproces it\n",
    "        doc = nlp(lyric)\n",
    "        doc = doc_preprocess(doc)\n",
    "        # Classify\n",
    "        vect = np.array([doc.vector])\n",
    "        label = classifier.predict(vect)\n",
    "        if emotion_labels[label[0]] == s[2]:\n",
    "            count_correct += 1\n",
    "        print(s, '->', emotion_labels[label[0]], '(was supposed to be {})'.format(s[2]))\n",
    "    print('We got {} predictions our of {} songs'.format(count_correct, len(songs)))\n",
    "    print('Accuracy: %0.2f' % (count_correct / len(songs)))"
   ]
  },
  {
   "cell_type": "code",
   "execution_count": 208,
   "metadata": {
    "ExecuteTime": {
     "end_time": "2018-04-09T22:14:54.516665Z",
     "start_time": "2018-04-09T22:14:36.130397Z"
    }
   },
   "outputs": [
    {
     "name": "stdout",
     "output_type": "stream",
     "text": [
      "('Bobby McFerrin', \"Don't Worry, Be Happy\", 'happy') -> angry (was supposed to be happy)\n",
      "('Queen', \"Don't Stop me Now\", 'happy') -> sad (was supposed to be happy)\n",
      "('Pharrell Williams', 'Happy', 'happy') -> happy (was supposed to be happy)\n",
      "('The Monkees', \"I'm a believer\", 'happy') -> angry (was supposed to be happy)\n",
      "('R.E.M.', 'Everybody Hurts', 'sad') -> angry (was supposed to be sad)\n",
      "('Adele', 'Someone Like You', 'sad') -> angry (was supposed to be sad)\n",
      "('Pink Floyd', 'Wish you were here', 'sad') -> sad (was supposed to be sad)\n",
      "('Johnny Cash', 'Hurt', 'sad') -> angry (was supposed to be sad)\n",
      "('Nirvana', 'Smells like teen spirit', 'sad') -> sad (was supposed to be sad)\n",
      "('Rage Against the Machine', 'Killing in the name', 'angry') -> sad (was supposed to be angry)\n",
      "('Kanye West', 'Stronger', 'angry') -> sad (was supposed to be angry)\n",
      "('Smash Mouth', 'All Star', 'angry') -> sad (was supposed to be angry)\n",
      "('Bloodhound Gang', 'The Ballad of Chasey Lain', 'angry') -> happy (was supposed to be angry)\n",
      "('Blur', 'Song 2', 'relaxed') -> sad (was supposed to be relaxed)\n",
      "We got 3 predictions our of 14 songs\n",
      "Accuracy: 0.21\n"
     ]
    }
   ],
   "source": [
    "extra_test(svm_best)"
   ]
  },
  {
   "cell_type": "markdown",
   "metadata": {},
   "source": [
    "That's not properly what we would expect from a predictor having 91% accuracy. Probably (you don't say?) we are overfitting. In fact, we would get better results even by using a random classifier instead of our \"optimal\" SVM.\n",
    "\n",
    "One interesting thing we can notice is that a \"Don't Worry, Be Happy\" is labelled as angry. However it is quite explicit from the title (and also from the lyrics) that the song is about happiness. This obeservation suggests us that we should probably be considering also the song's title when computing our word vectors.\n",
    "\n",
    "Let's now move on to some ensemble methods which are supposed to be even better."
   ]
  },
  {
   "cell_type": "markdown",
   "metadata": {},
   "source": [
    "## Gradient Boost\n",
    "Gradient boosting is a machine learning technique for regression and classification problems, which produces a prediction model in the form of an ensemble of weak prediction models, typically decision trees. It builds the model in a stage-wise fashion like other boosting methods do, and it generalizes them by allowing optimization of an arbitrary differentiable loss function ([reference link](https://en.wikipedia.org/wiki/Gradient_boosting)).\n",
    "\n",
    "Since we already obtained great results using our SVM model, we will omit any grid search for parameters tuning on this model. In fact, a grid search on a Gradient Boosting Classifier would be quite expensive and would slow down our experiments a lot. Instead, some manual tuning is done."
   ]
  },
  {
   "cell_type": "code",
   "execution_count": 209,
   "metadata": {
    "ExecuteTime": {
     "end_time": "2018-04-09T21:26:35.695954Z",
     "start_time": "2018-04-09T21:22:32.508973Z"
    }
   },
   "outputs": [
    {
     "name": "stdout",
     "output_type": "stream",
     "text": [
      "Accuracy: 0.86 (+/- 0.05)\n"
     ]
    }
   ],
   "source": [
    "from sklearn.ensemble import GradientBoostingClassifier\n",
    "\n",
    "# Build model\n",
    "clf = GradientBoostingClassifier(learning_rate=0.7, n_estimators=200)\n",
    "# Evaluate accuracy\n",
    "scores = cross_val_score(clf, X_vect, y, cv=10)\n",
    "print('Accuracy: %0.2f (+/- %0.2f)' % (scores.mean(), scores.std() * 1.96))"
   ]
  },
  {
   "cell_type": "markdown",
   "metadata": {},
   "source": [
    "After several attempts we did never succeed in obtaining higher accuracy values w.r.t. our SVM model. Therefore, given the slow training time for the GradientBoostingClassifier algorithm, we will keep using the SVM model.\n",
    "\n",
    "However, let's have a look on Gradient Boost performances on our \"extra\" test set."
   ]
  },
  {
   "cell_type": "code",
   "execution_count": 210,
   "metadata": {
    "ExecuteTime": {
     "end_time": "2018-04-09T21:57:55.163898Z",
     "start_time": "2018-04-09T21:57:26.262125Z"
    }
   },
   "outputs": [
    {
     "data": {
      "text/plain": [
       "GradientBoostingClassifier(criterion='friedman_mse', init=None,\n",
       "              learning_rate=0.7, loss='deviance', max_depth=3,\n",
       "              max_features=None, max_leaf_nodes=None,\n",
       "              min_impurity_decrease=0.0, min_impurity_split=None,\n",
       "              min_samples_leaf=1, min_samples_split=2,\n",
       "              min_weight_fraction_leaf=0.0, n_estimators=200,\n",
       "              presort='auto', random_state=None, subsample=1.0, verbose=0,\n",
       "              warm_start=False)"
      ]
     },
     "execution_count": 210,
     "metadata": {},
     "output_type": "execute_result"
    }
   ],
   "source": [
    "clf.fit(X_vect, y)"
   ]
  },
  {
   "cell_type": "code",
   "execution_count": 211,
   "metadata": {
    "ExecuteTime": {
     "end_time": "2018-04-09T22:16:54.795941Z",
     "start_time": "2018-04-09T22:16:43.952136Z"
    }
   },
   "outputs": [
    {
     "name": "stdout",
     "output_type": "stream",
     "text": [
      "('Bobby McFerrin', \"Don't Worry, Be Happy\", 'happy') -> happy (was supposed to be happy)\n",
      "('Queen', \"Don't Stop me Now\", 'happy') -> angry (was supposed to be happy)\n",
      "('Pharrell Williams', 'Happy', 'happy') -> happy (was supposed to be happy)\n",
      "('The Monkees', \"I'm a believer\", 'happy') -> angry (was supposed to be happy)\n",
      "('R.E.M.', 'Everybody Hurts', 'sad') -> angry (was supposed to be sad)\n",
      "('Adele', 'Someone Like You', 'sad') -> sad (was supposed to be sad)\n",
      "('Pink Floyd', 'Wish you were here', 'sad') -> sad (was supposed to be sad)\n",
      "('Johnny Cash', 'Hurt', 'sad') -> angry (was supposed to be sad)\n",
      "('Nirvana', 'Smells like teen spirit', 'sad') -> angry (was supposed to be sad)\n",
      "('Rage Against the Machine', 'Killing in the name', 'angry') -> angry (was supposed to be angry)\n",
      "('Kanye West', 'Stronger', 'angry') -> angry (was supposed to be angry)\n",
      "('Smash Mouth', 'All Star', 'angry') -> sad (was supposed to be angry)\n",
      "('Bloodhound Gang', 'The Ballad of Chasey Lain', 'angry') -> sad (was supposed to be angry)\n",
      "('Blur', 'Song 2', 'relaxed') -> angry (was supposed to be relaxed)\n",
      "We got 6 predictions our of 14 songs\n",
      "Accuracy: 0.43\n"
     ]
    }
   ],
   "source": [
    "extra_test(clf)"
   ]
  },
  {
   "cell_type": "markdown",
   "metadata": {},
   "source": [
    "Thst's definitivelly better but we still need to improve a lot."
   ]
  },
  {
   "cell_type": "markdown",
   "metadata": {},
   "source": [
    "## Artifical Neural Network"
   ]
  },
  {
   "cell_type": "code",
   "execution_count": 40,
   "metadata": {
    "ExecuteTime": {
     "end_time": "2018-04-10T17:51:42.403589Z",
     "start_time": "2018-04-10T17:51:42.391423Z"
    }
   },
   "outputs": [
    {
     "name": "stdout",
     "output_type": "stream",
     "text": [
      "(1962, 4)\n"
     ]
    }
   ],
   "source": [
    "# y_nn should be a vector (len(X_vect),4), with a 1 in the right class\n",
    "train_len = len(X_train)\n",
    "y_nn = np.zeros((train_len, len(emotion_labels)))\n",
    "for (i, (label, vect)) in enumerate(zip(y[:train_len], y_nn)):\n",
    "    y_nn[i][label] = 1"
   ]
  },
  {
   "cell_type": "code",
   "execution_count": 41,
   "metadata": {
    "ExecuteTime": {
     "end_time": "2018-04-10T17:51:48.013899Z",
     "start_time": "2018-04-10T17:51:47.997004Z"
    }
   },
   "outputs": [],
   "source": [
    "#1 Splitting the dataset into the Training set and Test set\n",
    "from sklearn.model_selection import train_test_split\n",
    "X_train, X_test, y_train, y_test = train_test_split(X_vect, y, test_size = 0.2, random_state = 0)\n",
    "\n",
    "#2 Feature Scaling\n",
    "from sklearn.preprocessing import StandardScaler\n",
    "sc = StandardScaler()\n",
    "# we need to scale because we don't want one feature to predomine the others\n",
    "# Standardize features by removing the mean and scaling to unit variance\n",
    "X_train = sc.fit_transform(X_train)\n",
    "X_test = sc.transform(X_test)"
   ]
  },
  {
   "cell_type": "code",
   "execution_count": 42,
   "metadata": {
    "ExecuteTime": {
     "end_time": "2018-04-10T17:51:53.064137Z",
     "start_time": "2018-04-10T17:51:50.588242Z"
    }
   },
   "outputs": [
    {
     "name": "stdout",
     "output_type": "stream",
     "text": [
      "Epoch 1/20\n",
      "1962/1962 [==============================] - 1s 256us/step - loss: 1.3818 - acc: 0.3048\n",
      "Epoch 2/20\n",
      "1962/1962 [==============================] - 0s 40us/step - loss: 1.3568 - acc: 0.3211\n",
      "Epoch 3/20\n",
      "1962/1962 [==============================] - 0s 41us/step - loss: 1.3343 - acc: 0.3491\n",
      "Epoch 4/20\n",
      "1962/1962 [==============================] - 0s 46us/step - loss: 1.2962 - acc: 0.3879\n",
      "Epoch 5/20\n",
      "1962/1962 [==============================] - 0s 41us/step - loss: 1.2537 - acc: 0.4348\n",
      "Epoch 6/20\n",
      "1962/1962 [==============================] - 0s 41us/step - loss: 1.2000 - acc: 0.4715\n",
      "Epoch 7/20\n",
      "1962/1962 [==============================] - 0s 44us/step - loss: 1.1456 - acc: 0.5097\n",
      "Epoch 8/20\n",
      "1962/1962 [==============================] - 0s 43us/step - loss: 1.0842 - acc: 0.5408\n",
      "Epoch 9/20\n",
      "1962/1962 [==============================] - 0s 43us/step - loss: 1.0196 - acc: 0.5770\n",
      "Epoch 10/20\n",
      "1962/1962 [==============================] - 0s 37us/step - loss: 0.9726 - acc: 0.6121\n",
      "Epoch 11/20\n",
      "1962/1962 [==============================] - 0s 41us/step - loss: 0.9046 - acc: 0.6412\n",
      "Epoch 12/20\n",
      "1962/1962 [==============================] - 0s 44us/step - loss: 0.8597 - acc: 0.6600\n",
      "Epoch 13/20\n",
      "1962/1962 [==============================] - 0s 46us/step - loss: 0.7946 - acc: 0.6871\n",
      "Epoch 14/20\n",
      "1962/1962 [==============================] - 0s 46us/step - loss: 0.7527 - acc: 0.7166\n",
      "Epoch 15/20\n",
      "1962/1962 [==============================] - 0s 41us/step - loss: 0.6924 - acc: 0.7380\n",
      "Epoch 16/20\n",
      "1962/1962 [==============================] - 0s 41us/step - loss: 0.6577 - acc: 0.7579\n",
      "Epoch 17/20\n",
      "1962/1962 [==============================] - 0s 44us/step - loss: 0.6084 - acc: 0.7895\n",
      "Epoch 18/20\n",
      "1962/1962 [==============================] - 0s 43us/step - loss: 0.5703 - acc: 0.8063\n",
      "Epoch 19/20\n",
      "1962/1962 [==============================] - 0s 43us/step - loss: 0.5393 - acc: 0.8114\n",
      "Epoch 20/20\n",
      "1962/1962 [==============================] - 0s 42us/step - loss: 0.4931 - acc: 0.8318\n"
     ]
    },
    {
     "data": {
      "text/plain": [
       "<keras.callbacks.History at 0x7fa232691d30>"
      ]
     },
     "execution_count": 42,
     "metadata": {},
     "output_type": "execute_result"
    }
   ],
   "source": [
    "#1 Importing the Keras libraries and packages\n",
    "import keras\n",
    "# Sequential module is required to initialize our ANN\n",
    "from keras.models import Sequential\n",
    "# Dense module is required to create the layers\n",
    "from keras.layers import Dense\n",
    "classifier = Sequential()\n",
    "#2 Adding first hidden layer\n",
    "classifier.add(Dense(units = 152, kernel_initializer = 'uniform', activation = 'relu', input_dim = 300))\n",
    "# Adding second hidden layer\n",
    "classifier.add(Dense(units = 152, kernel_initializer = 'uniform', activation = 'relu'))\n",
    "# Adding output layer\n",
    "classifier.add(Dense(units = 4, kernel_initializer = 'uniform', activation = 'softmax'))\n",
    "\n",
    "#3 Compiling the ANN\n",
    "classifier.compile(optimizer = 'rmsprop', loss = 'categorical_crossentropy', metrics = ['accuracy'])\n",
    "\n",
    "#4 Fitting the ANN to the Training set\n",
    "classifier.fit(X_train, y_nn, batch_size = 128, epochs = 20)"
   ]
  },
  {
   "cell_type": "code",
   "execution_count": 55,
   "metadata": {
    "ExecuteTime": {
     "end_time": "2018-04-10T17:56:46.470883Z",
     "start_time": "2018-04-10T17:56:46.433694Z"
    }
   },
   "outputs": [
    {
     "name": "stdout",
     "output_type": "stream",
     "text": [
      "Accuracy on test set is 3.818737270875764 %\n"
     ]
    }
   ],
   "source": [
    "#1 Predicting the Test set results\n",
    "y_pred = classifier.predict(X_test)\n",
    "\n",
    "# Convert probabilities into true or false\n",
    "#y_pred = (y_pred > 0.5)\n",
    "\n",
    "#2 Making the Confusion Matrix\n",
    "from sklearn.metrics import confusion_matrix\n",
    "\n",
    "test_len= len(X_test)\n",
    "y_test_nn = np.zeros((test_len, len(emotion_labels)))\n",
    "for (i, (label, vect)) in enumerate(zip(y[train_len:train_len+test_len], y_test_nn)):\n",
    "    y_test_nn[i][label] = 1\n",
    "\n",
    "cm = confusion_matrix(y_test_nn.argmax(axis=1), y_pred.argmax(axis=1))\n",
    "# accuracy = number of correct predictions / total number of predictions\n",
    "accuracy = (cm[0,0] + cm[1,1])/y_pred.size\n",
    "print(\"Accuracy on test set is\", accuracy*100, \"%\")"
   ]
  },
  {
   "cell_type": "markdown",
   "metadata": {},
   "source": [
    "# What if we just consider the song title? \n",
    "Now let's try to perform the classification just considering the song title. We'll try SVM, Gradient Boost and an ANN to compare the accuracy."
   ]
  },
  {
   "cell_type": "code",
   "execution_count": 212,
   "metadata": {},
   "outputs": [
    {
     "name": "stdout",
     "output_type": "stream",
     "text": [
      "              Artist                Song  Emotion\n",
      "0        .38 Special        Fantasy Girl  relaxed\n",
      "1        .38 Special       Second Chance    happy\n",
      "2             22-20s             Hold On    angry\n",
      "3  3 Inches Of Blood  Trial Of Champions    angry\n"
     ]
    }
   ],
   "source": [
    "print(moodyLyricsDF[:4])"
   ]
  },
  {
   "cell_type": "code",
   "execution_count": 214,
   "metadata": {},
   "outputs": [
    {
     "name": "stdout",
     "output_type": "stream",
     "text": [
      "              Artist                Song  Emotion\n",
      "0        .38 Special        Fantasy Girl        2\n",
      "1        .38 Special       Second Chance        0\n",
      "2             22-20s             Hold On        3\n",
      "3  3 Inches Of Blood  Trial Of Champions        3\n"
     ]
    }
   ],
   "source": [
    "# First we map the emotion labels into number: Happy=0, Sad=1, Relaxed=2, Angry=3\n",
    "mapping = dict(zip(emotion_labels, range(len(emotion_labels)))) \n",
    "moodyLyricsDF['Emotion'] = moodyLyricsDF['Emotion'].map(mapping)\n",
    "print(moodyLyricsDF[:4])"
   ]
  },
  {
   "cell_type": "code",
   "execution_count": 224,
   "metadata": {},
   "outputs": [],
   "source": [
    "# Then we transform the Song title with spaCy\n",
    "rows = list()\n",
    "for index,row in moodyLyricsDF.iterrows():\n",
    "    doc = nlp(row['Song'])\n",
    "    rows.append((\n",
    "                    row['Artist'],\n",
    "                    row['Song'],\n",
    "                    row['Emotion'], doc.vector,\n",
    "                    doc.vector_norm\n",
    "                ))\n",
    "\n",
    "dataset = pd.DataFrame(rows, columns=['Artist', 'Song', 'Emotion','Vector', 'Vector_Norm'])"
   ]
  },
  {
   "cell_type": "code",
   "execution_count": 226,
   "metadata": {},
   "outputs": [
    {
     "name": "stdout",
     "output_type": "stream",
     "text": [
      "        Artist           Song  Emotion  \\\n",
      "0  .38 Special   Fantasy Girl        2   \n",
      "1  .38 Special  Second Chance        0   \n",
      "\n",
      "                                              Vector  Vector_Norm  \n",
      "0  [-0.1325517, 0.070274994, -0.353215, 0.0470585...     5.674618  \n",
      "1  [-0.02172, 0.336335, -0.17991, 0.38281, 0.1225...     4.670355  \n"
     ]
    }
   ],
   "source": [
    "print(dataset[:2])"
   ]
  },
  {
   "cell_type": "code",
   "execution_count": 227,
   "metadata": {},
   "outputs": [],
   "source": [
    "# Prepare array for sklearn classifiers\n",
    "X_vect = dataset['Vector'].as_matrix().T\n",
    "X_vect = np.array([np.array(x) for x in X_vect])\n",
    "X_norm = dataset['Vector_Norm'].as_matrix()\n",
    "y = dataset['Emotion'].as_matrix()"
   ]
  },
  {
   "cell_type": "markdown",
   "metadata": {},
   "source": [
    "## SVM with title only"
   ]
  },
  {
   "cell_type": "code",
   "execution_count": 230,
   "metadata": {},
   "outputs": [
    {
     "name": "stdout",
     "output_type": "stream",
     "text": [
      "Fitting 10 folds for each of 29 candidates, totalling 290 fits\n"
     ]
    },
    {
     "name": "stderr",
     "output_type": "stream",
     "text": [
      "[Parallel(n_jobs=-1)]: Done  42 tasks      | elapsed:  1.7min\n",
      "[Parallel(n_jobs=-1)]: Done 192 tasks      | elapsed:  6.9min\n",
      "[Parallel(n_jobs=-1)]: Done 290 out of 290 | elapsed:  9.0min finished\n"
     ]
    },
    {
     "name": "stdout",
     "output_type": "stream",
     "text": [
      "Parameters: {'C': 100, 'kernel': 'sigmoid'}\n",
      "Accuracy: 0.67 (+/- 0.05)\n"
     ]
    }
   ],
   "source": [
    "# Define the set of parameters we want to test on\n",
    "params = [\n",
    "    { 'kernel': ['linear'], 'C': [ 0.01, 0.05, 1, 10, 100 ]},\n",
    "    { 'kernel': ['rbf', 'sigmoid'], 'C': [ 0.01, 0.05, 0.1, 0.3, 0.8, 1, 3, 10, 50, 100, 150, 200 ] }\n",
    "]\n",
    "\n",
    "# Perform grid search\n",
    "svm_best, best_params = parameters_grid_search(SVC, params, X_vect, y, verbose=1)\n",
    "print('Parameters:', best_params)\n",
    "scores = cross_val_score(svm_best, X_vect, y, cv=10)\n",
    "print('Accuracy: %0.2f (+/- %0.2f)' % (scores.mean(), scores.std() * 1.96))"
   ]
  },
  {
   "cell_type": "code",
   "execution_count": 231,
   "metadata": {},
   "outputs": [
    {
     "name": "stdout",
     "output_type": "stream",
     "text": [
      "('Bobby McFerrin', \"Don't Worry, Be Happy\", 'happy') -> happy (was supposed to be happy)\n",
      "('Queen', \"Don't Stop me Now\", 'happy') -> sad (was supposed to be happy)\n",
      "('Pharrell Williams', 'Happy', 'happy') -> sad (was supposed to be happy)\n",
      "('The Monkees', \"I'm a believer\", 'happy') -> happy (was supposed to be happy)\n",
      "('R.E.M.', 'Everybody Hurts', 'sad') -> sad (was supposed to be sad)\n",
      "('Adele', 'Someone Like You', 'sad') -> sad (was supposed to be sad)\n",
      "('Pink Floyd', 'Wish you were here', 'sad') -> angry (was supposed to be sad)\n",
      "('Johnny Cash', 'Hurt', 'sad') -> sad (was supposed to be sad)\n",
      "('Nirvana', 'Smells like teen spirit', 'sad') -> relaxed (was supposed to be sad)\n",
      "('Rage Against the Machine', 'Killing in the name', 'angry') -> angry (was supposed to be angry)\n",
      "('Kanye West', 'Stronger', 'angry') -> sad (was supposed to be angry)\n",
      "('Smash Mouth', 'All Star', 'angry') -> sad (was supposed to be angry)\n",
      "('Bloodhound Gang', 'The Ballad of Chasey Lain', 'angry') -> sad (was supposed to be angry)\n",
      "('Blur', 'Song 2', 'relaxed') -> sad (was supposed to be relaxed)\n",
      "We got 6 predictions our of 14 songs\n",
      "Accuracy: 0.43\n"
     ]
    }
   ],
   "source": [
    "extra_test(svm_best)"
   ]
  },
  {
   "cell_type": "markdown",
   "metadata": {},
   "source": [
    "## Gradient Boost with title only"
   ]
  },
  {
   "cell_type": "code",
   "execution_count": 235,
   "metadata": {},
   "outputs": [
    {
     "name": "stdout",
     "output_type": "stream",
     "text": [
      "Accuracy: 0.65 (+/- 0.05)\n"
     ]
    }
   ],
   "source": [
    "# Build model\n",
    "clf = GradientBoostingClassifier(learning_rate=0.7, n_estimators=50)\n",
    "# Evaluate accuracy\n",
    "scores = cross_val_score(clf, X_vect, y, cv=10)\n",
    "print('Accuracy: %0.2f (+/- %0.2f)' % (scores.mean(), scores.std() * 1.96))"
   ]
  },
  {
   "cell_type": "code",
   "execution_count": 236,
   "metadata": {},
   "outputs": [
    {
     "data": {
      "text/plain": [
       "GradientBoostingClassifier(criterion='friedman_mse', init=None,\n",
       "              learning_rate=0.7, loss='deviance', max_depth=3,\n",
       "              max_features=None, max_leaf_nodes=None,\n",
       "              min_impurity_decrease=0.0, min_impurity_split=None,\n",
       "              min_samples_leaf=1, min_samples_split=2,\n",
       "              min_weight_fraction_leaf=0.0, n_estimators=50,\n",
       "              presort='auto', random_state=None, subsample=1.0, verbose=0,\n",
       "              warm_start=False)"
      ]
     },
     "execution_count": 236,
     "metadata": {},
     "output_type": "execute_result"
    }
   ],
   "source": [
    "clf.fit(X_vect, y)"
   ]
  },
  {
   "cell_type": "code",
   "execution_count": 237,
   "metadata": {},
   "outputs": [
    {
     "name": "stdout",
     "output_type": "stream",
     "text": [
      "('Bobby McFerrin', \"Don't Worry, Be Happy\", 'happy') -> happy (was supposed to be happy)\n",
      "('Queen', \"Don't Stop me Now\", 'happy') -> sad (was supposed to be happy)\n",
      "('Pharrell Williams', 'Happy', 'happy') -> happy (was supposed to be happy)\n",
      "('The Monkees', \"I'm a believer\", 'happy') -> happy (was supposed to be happy)\n",
      "('R.E.M.', 'Everybody Hurts', 'sad') -> relaxed (was supposed to be sad)\n",
      "('Adele', 'Someone Like You', 'sad') -> angry (was supposed to be sad)\n",
      "('Pink Floyd', 'Wish you were here', 'sad') -> sad (was supposed to be sad)\n",
      "('Johnny Cash', 'Hurt', 'sad') -> angry (was supposed to be sad)\n",
      "('Nirvana', 'Smells like teen spirit', 'sad') -> relaxed (was supposed to be sad)\n",
      "('Rage Against the Machine', 'Killing in the name', 'angry') -> angry (was supposed to be angry)\n",
      "('Kanye West', 'Stronger', 'angry') -> angry (was supposed to be angry)\n",
      "('Smash Mouth', 'All Star', 'angry') -> happy (was supposed to be angry)\n",
      "('Bloodhound Gang', 'The Ballad of Chasey Lain', 'angry') -> happy (was supposed to be angry)\n",
      "('Blur', 'Song 2', 'relaxed') -> sad (was supposed to be relaxed)\n",
      "We got 6 predictions our of 14 songs\n",
      "Accuracy: 0.43\n"
     ]
    }
   ],
   "source": [
    "extra_test(clf)"
   ]
  },
  {
   "cell_type": "code",
   "execution_count": null,
   "metadata": {},
   "outputs": [],
   "source": []
  }
 ],
 "metadata": {
  "kernelspec": {
   "display_name": "Python 3",
   "language": "python",
   "name": "python3"
  },
  "language_info": {
   "codemirror_mode": {
    "name": "ipython",
    "version": 3
   },
   "file_extension": ".py",
   "mimetype": "text/x-python",
   "name": "python",
   "nbconvert_exporter": "python",
   "pygments_lexer": "ipython3",
   "version": "3.5.2"
  },
  "notify_time": "5",
  "toc": {
   "base_numbering": "1",
   "nav_menu": {
    "height": "260px",
    "width": "346px"
   },
   "number_sections": true,
   "sideBar": true,
   "skip_h1_title": false,
   "title_cell": "Table of Contents",
   "title_sidebar": "Contents",
   "toc_cell": true,
   "toc_position": {
    "height": "calc(100% - 180px)",
    "left": "10px",
    "top": "150px",
    "width": "183px"
   },
   "toc_section_display": true,
   "toc_window_display": true
  }
 },
 "nbformat": 4,
 "nbformat_minor": 2
}
