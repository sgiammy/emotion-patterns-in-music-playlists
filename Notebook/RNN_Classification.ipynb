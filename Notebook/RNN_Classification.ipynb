{
 "cells": [
  {
   "cell_type": "markdown",
   "metadata": {},
   "source": [
    "Inspired by [https://www.kaggle.com/kredy10/simple-lstm-for-text-classification](https://www.kaggle.com/kredy10/simple-lstm-for-text-classification)\n",
    "\n",
    "Data augmentation based on: [https://www.kaggle.com/c/jigsaw-toxic-comment-classification-challenge/discussion/48038](https://www.kaggle.com/c/jigsaw-toxic-comment-classification-challenge/discussion/48038)"
   ]
  },
  {
   "cell_type": "code",
   "execution_count": 63,
   "metadata": {
    "ExecuteTime": {
     "end_time": "2018-07-22T19:59:08.627689Z",
     "start_time": "2018-07-22T19:59:08.584490Z"
    }
   },
   "outputs": [],
   "source": [
    "import pandas as pd\n",
    "import numpy as np\n",
    "import matplotlib.pyplot as plt\n",
    "import seaborn as sns\n",
    "from sklearn.model_selection import train_test_split\n",
    "from sklearn.preprocessing import LabelEncoder\n",
    "from keras.models import Model, Sequential\n",
    "from keras.layers import LSTM, Activation, Dense, Dropout, Input, Embedding\n",
    "from keras.optimizers import RMSprop\n",
    "from keras.preprocessing.text import Tokenizer\n",
    "from keras.preprocessing import sequence\n",
    "from keras.utils import to_categorical, np_utils\n",
    "from keras.callbacks import EarlyStopping\n",
    "%matplotlib inline\n",
    "\n",
    "import os\n",
    "\n",
    "DATASET_PATH = './../src/datasets/MoodyLyrics4Q.csv'\n",
    "LYRICS_DATASET_PATH = './ml4q_lyrics.csv'\n",
    "AUGMENTED_LYRICS_DATASET_PATH = './ml4q_lyrics_augmented.csv'"
   ]
  },
  {
   "cell_type": "markdown",
   "metadata": {},
   "source": [
    "# Dataset\n",
    "\n",
    "The first thing this time will be to download lyrics and put them in a table form. Our dataset will have two columns: the lyrics and the releated emotion."
   ]
  },
  {
   "cell_type": "code",
   "execution_count": 2,
   "metadata": {
    "ExecuteTime": {
     "end_time": "2018-07-22T18:15:19.617504Z",
     "start_time": "2018-07-22T18:15:19.574351Z"
    }
   },
   "outputs": [
    {
     "data": {
      "text/html": [
       "<div>\n",
       "<style scoped>\n",
       "    .dataframe tbody tr th:only-of-type {\n",
       "        vertical-align: middle;\n",
       "    }\n",
       "\n",
       "    .dataframe tbody tr th {\n",
       "        vertical-align: top;\n",
       "    }\n",
       "\n",
       "    .dataframe thead th {\n",
       "        text-align: right;\n",
       "    }\n",
       "</style>\n",
       "<table border=\"1\" class=\"dataframe\">\n",
       "  <thead>\n",
       "    <tr style=\"text-align: right;\">\n",
       "      <th></th>\n",
       "      <th>Index</th>\n",
       "      <th>Artist</th>\n",
       "      <th>Title</th>\n",
       "      <th>Mood</th>\n",
       "    </tr>\n",
       "  </thead>\n",
       "  <tbody>\n",
       "    <tr>\n",
       "      <th>0</th>\n",
       "      <td>ML1</td>\n",
       "      <td>George Michael</td>\n",
       "      <td>I Want Your Sex</td>\n",
       "      <td>happy</td>\n",
       "    </tr>\n",
       "    <tr>\n",
       "      <th>1</th>\n",
       "      <td>ML2</td>\n",
       "      <td>Rob Zombie</td>\n",
       "      <td>Pussy Liquor</td>\n",
       "      <td>angry</td>\n",
       "    </tr>\n",
       "    <tr>\n",
       "      <th>2</th>\n",
       "      <td>ML3</td>\n",
       "      <td>Katatonia</td>\n",
       "      <td>12</td>\n",
       "      <td>sad</td>\n",
       "    </tr>\n",
       "    <tr>\n",
       "      <th>3</th>\n",
       "      <td>ML4</td>\n",
       "      <td>Bing Crosby</td>\n",
       "      <td>Swinging On A Star</td>\n",
       "      <td>happy</td>\n",
       "    </tr>\n",
       "    <tr>\n",
       "      <th>4</th>\n",
       "      <td>ML5</td>\n",
       "      <td>Ludacris</td>\n",
       "      <td>Get Back</td>\n",
       "      <td>angry</td>\n",
       "    </tr>\n",
       "  </tbody>\n",
       "</table>\n",
       "</div>"
      ],
      "text/plain": [
       "  Index          Artist               Title   Mood\n",
       "0   ML1  George Michael     I Want Your Sex  happy\n",
       "1   ML2      Rob Zombie        Pussy Liquor  angry\n",
       "2   ML3       Katatonia                  12    sad\n",
       "3   ML4     Bing Crosby  Swinging On A Star  happy\n",
       "4   ML5        Ludacris            Get Back  angry"
      ]
     },
     "execution_count": 2,
     "metadata": {},
     "output_type": "execute_result"
    }
   ],
   "source": [
    "ml4q = pd.read_csv(DATASET_PATH)\n",
    "ml4q.head()"
   ]
  },
  {
   "cell_type": "code",
   "execution_count": 3,
   "metadata": {
    "ExecuteTime": {
     "end_time": "2018-07-22T18:15:19.731679Z",
     "start_time": "2018-07-22T18:15:19.622371Z"
    }
   },
   "outputs": [],
   "source": [
    "import lyricwikia\n",
    "\n",
    "def download_lyric(song):\n",
    "    try:\n",
    "        return lyricwikia.get_lyrics(song['Artist'], song['Title'])\n",
    "    except lyricwikia.LyricsNotFound:\n",
    "        print('Could not download {}: {}, {}'.format(song['Index'], song['Artist'], song['Title']))\n",
    "        return False"
   ]
  },
  {
   "cell_type": "code",
   "execution_count": 4,
   "metadata": {
    "ExecuteTime": {
     "end_time": "2018-07-22T18:15:19.834366Z",
     "start_time": "2018-07-22T18:15:19.735186Z"
    }
   },
   "outputs": [],
   "source": [
    "if os.path.exists(LYRICS_DATASET_PATH):\n",
    "    ml4q_lyrics = pd.read_csv(LYRICS_DATASET_PATH)\n",
    "else:\n",
    "    lyrics_rows = list()\n",
    "\n",
    "    for (i, row) in ml4q.iterrows():\n",
    "        lyrics = download_lyric(row)\n",
    "        if lyrics:\n",
    "            lyrics_rows.append((\n",
    "                row['Index'], lyrics, row['Mood']\n",
    "            ))\n",
    "\n",
    "    ml4q_lyrics = pd.DataFrame(lyrics_rows, columns=['ID', 'Lyrics', 'Emotion'])\n",
    "    ml4q_lyrics.to_csv(LYRICSC_DATASET_PATH)"
   ]
  },
  {
   "cell_type": "code",
   "execution_count": 5,
   "metadata": {
    "ExecuteTime": {
     "end_time": "2018-07-22T18:15:19.867062Z",
     "start_time": "2018-07-22T18:15:19.837707Z"
    }
   },
   "outputs": [
    {
     "data": {
      "text/html": [
       "<div>\n",
       "<style scoped>\n",
       "    .dataframe tbody tr th:only-of-type {\n",
       "        vertical-align: middle;\n",
       "    }\n",
       "\n",
       "    .dataframe tbody tr th {\n",
       "        vertical-align: top;\n",
       "    }\n",
       "\n",
       "    .dataframe thead th {\n",
       "        text-align: right;\n",
       "    }\n",
       "</style>\n",
       "<table border=\"1\" class=\"dataframe\">\n",
       "  <thead>\n",
       "    <tr style=\"text-align: right;\">\n",
       "      <th></th>\n",
       "      <th>Unnamed: 0</th>\n",
       "      <th>ID</th>\n",
       "      <th>Lyrics</th>\n",
       "      <th>Emotion</th>\n",
       "    </tr>\n",
       "  </thead>\n",
       "  <tbody>\n",
       "    <tr>\n",
       "      <th>0</th>\n",
       "      <td>0</td>\n",
       "      <td>ML1</td>\n",
       "      <td>There's things that you guess\\nAnd things that...</td>\n",
       "      <td>happy</td>\n",
       "    </tr>\n",
       "    <tr>\n",
       "      <th>1</th>\n",
       "      <td>1</td>\n",
       "      <td>ML2</td>\n",
       "      <td>Baby:\\nGimme a B\\nGimme a A\\nGimme a B\\nGimme ...</td>\n",
       "      <td>angry</td>\n",
       "    </tr>\n",
       "    <tr>\n",
       "      <th>2</th>\n",
       "      <td>2</td>\n",
       "      <td>ML3</td>\n",
       "      <td>Black theatre of love\\nViolet dancers cast the...</td>\n",
       "      <td>sad</td>\n",
       "    </tr>\n",
       "    <tr>\n",
       "      <th>3</th>\n",
       "      <td>3</td>\n",
       "      <td>ML4</td>\n",
       "      <td>Would you like to swing on a star\\nCarry moonb...</td>\n",
       "      <td>happy</td>\n",
       "    </tr>\n",
       "    <tr>\n",
       "      <th>4</th>\n",
       "      <td>4</td>\n",
       "      <td>ML5</td>\n",
       "      <td>Hands up! Hands up\\nHere's another one\\nAnd a ...</td>\n",
       "      <td>angry</td>\n",
       "    </tr>\n",
       "  </tbody>\n",
       "</table>\n",
       "</div>"
      ],
      "text/plain": [
       "   Unnamed: 0   ID                                             Lyrics Emotion\n",
       "0           0  ML1  There's things that you guess\\nAnd things that...   happy\n",
       "1           1  ML2  Baby:\\nGimme a B\\nGimme a A\\nGimme a B\\nGimme ...   angry\n",
       "2           2  ML3  Black theatre of love\\nViolet dancers cast the...     sad\n",
       "3           3  ML4  Would you like to swing on a star\\nCarry moonb...   happy\n",
       "4           4  ML5  Hands up! Hands up\\nHere's another one\\nAnd a ...   angry"
      ]
     },
     "execution_count": 5,
     "metadata": {},
     "output_type": "execute_result"
    }
   ],
   "source": [
    "ml4q_lyrics.head()"
   ]
  },
  {
   "cell_type": "code",
   "execution_count": 6,
   "metadata": {
    "ExecuteTime": {
     "end_time": "2018-07-22T18:15:19.899279Z",
     "start_time": "2018-07-22T18:15:19.870273Z"
    },
    "scrolled": true
   },
   "outputs": [
    {
     "data": {
      "text/html": [
       "<div>\n",
       "<style scoped>\n",
       "    .dataframe tbody tr th:only-of-type {\n",
       "        vertical-align: middle;\n",
       "    }\n",
       "\n",
       "    .dataframe tbody tr th {\n",
       "        vertical-align: top;\n",
       "    }\n",
       "\n",
       "    .dataframe thead th {\n",
       "        text-align: right;\n",
       "    }\n",
       "</style>\n",
       "<table border=\"1\" class=\"dataframe\">\n",
       "  <thead>\n",
       "    <tr style=\"text-align: right;\">\n",
       "      <th></th>\n",
       "      <th>Unnamed: 0</th>\n",
       "    </tr>\n",
       "  </thead>\n",
       "  <tbody>\n",
       "    <tr>\n",
       "      <th>count</th>\n",
       "      <td>1948.000000</td>\n",
       "    </tr>\n",
       "    <tr>\n",
       "      <th>mean</th>\n",
       "      <td>973.500000</td>\n",
       "    </tr>\n",
       "    <tr>\n",
       "      <th>std</th>\n",
       "      <td>562.483481</td>\n",
       "    </tr>\n",
       "    <tr>\n",
       "      <th>min</th>\n",
       "      <td>0.000000</td>\n",
       "    </tr>\n",
       "    <tr>\n",
       "      <th>25%</th>\n",
       "      <td>486.750000</td>\n",
       "    </tr>\n",
       "    <tr>\n",
       "      <th>50%</th>\n",
       "      <td>973.500000</td>\n",
       "    </tr>\n",
       "    <tr>\n",
       "      <th>75%</th>\n",
       "      <td>1460.250000</td>\n",
       "    </tr>\n",
       "    <tr>\n",
       "      <th>max</th>\n",
       "      <td>1947.000000</td>\n",
       "    </tr>\n",
       "  </tbody>\n",
       "</table>\n",
       "</div>"
      ],
      "text/plain": [
       "        Unnamed: 0\n",
       "count  1948.000000\n",
       "mean    973.500000\n",
       "std     562.483481\n",
       "min       0.000000\n",
       "25%     486.750000\n",
       "50%     973.500000\n",
       "75%    1460.250000\n",
       "max    1947.000000"
      ]
     },
     "execution_count": 6,
     "metadata": {},
     "output_type": "execute_result"
    }
   ],
   "source": [
    "ml4q_lyrics.describe()"
   ]
  },
  {
   "cell_type": "code",
   "execution_count": 7,
   "metadata": {
    "ExecuteTime": {
     "end_time": "2018-07-22T18:15:20.428390Z",
     "start_time": "2018-07-22T18:15:20.412351Z"
    }
   },
   "outputs": [
    {
     "name": "stdout",
     "output_type": "stream",
     "text": [
      "<class 'pandas.core.frame.DataFrame'>\n",
      "RangeIndex: 1948 entries, 0 to 1947\n",
      "Data columns (total 4 columns):\n",
      "Unnamed: 0    1948 non-null int64\n",
      "ID            1948 non-null object\n",
      "Lyrics        1948 non-null object\n",
      "Emotion       1948 non-null object\n",
      "dtypes: int64(1), object(3)\n",
      "memory usage: 61.0+ KB\n"
     ]
    }
   ],
   "source": [
    "ml4q_lyrics.info()"
   ]
  },
  {
   "cell_type": "markdown",
   "metadata": {
    "ExecuteTime": {
     "end_time": "2018-07-22T11:51:06.754507Z",
     "start_time": "2018-07-22T11:51:06.749033Z"
    }
   },
   "source": [
    "## Data Agumentation"
   ]
  },
  {
   "cell_type": "markdown",
   "metadata": {},
   "source": [
    "To improve the size of the dataset a peculiar data augmentation technique is emploied here. Specifically, while parsing each song, we add to the dataset the original lyrics and the lyrics obtained by applying the following translations:\n",
    "- EN -> IT -> EN\n",
    "- EN -> FR -> EN\n",
    "- EN -> DE -> EN"
   ]
  },
  {
   "cell_type": "code",
   "execution_count": 10,
   "metadata": {
    "ExecuteTime": {
     "end_time": "2018-07-22T18:16:05.315224Z",
     "start_time": "2018-07-22T18:16:05.295992Z"
    }
   },
   "outputs": [],
   "source": [
    "from textblob import TextBlob\n",
    "from textblob.translate import NotTranslated\n",
    "\n",
    "from googletrans import Translator\n",
    "\n",
    "trans = Translator()\n",
    "\n",
    "def translate(lyrics, language):\n",
    "    if hasattr(lyrics, \"decode\"):\n",
    "        lyrics = lyrics.decode(\"utf-8\")\n",
    "\n",
    "    #text = TextBlob(lyrics)\n",
    "    \n",
    "    try:\n",
    "        #text = text.translate(to=language)\n",
    "        #text = text.translate(to=\"en\")\n",
    "        text = trans.translate(lyrics, dest=language).text\n",
    "        text = trans.translate(text, dest='en').text\n",
    "    except:#NotTranslated:\n",
    "        return False\n",
    "\n",
    "    return str(text)"
   ]
  },
  {
   "cell_type": "code",
   "execution_count": 11,
   "metadata": {
    "ExecuteTime": {
     "end_time": "2018-07-22T19:39:32.482727Z",
     "start_time": "2018-07-22T18:16:05.887546Z"
    },
    "scrolled": true
   },
   "outputs": [],
   "source": [
    "languages = ['it', 'fr', 'de']\n",
    "\n",
    "if os.path.exists(AUGMENTED_LYRICS_DATASET_PATH):\n",
    "    ml4q_lyrics_agumented = pd.read_csv(AUGMENTED_LYRICS_DATASET_PATH)\n",
    "else:\n",
    "    lyrics_rows = list()\n",
    "\n",
    "    for (i, row) in ml4q_lyrics.iterrows():\n",
    "        lyrics = row['Lyrics']\n",
    "        lyrics_rows.append((\n",
    "            row['ID'], lyrics, row['Emotion']\n",
    "        ))\n",
    "        for l in languages:\n",
    "            tr = translate(lyrics, l)\n",
    "            if tr:\n",
    "                lyrics_rows.append((\n",
    "                    row['ID'] + l, tr, row['Emotion']\n",
    "                ))\n",
    "\n",
    "    ml4q_lyrics_augmented = pd.DataFrame(lyrics_rows, columns=['ID', 'Lyrics', 'Emotion'])\n",
    "    ml4q_lyrics_augmented.to_csv(AUGMENTED_LYRICS_DATASET_PATH)"
   ]
  },
  {
   "cell_type": "code",
   "execution_count": 12,
   "metadata": {
    "ExecuteTime": {
     "end_time": "2018-07-22T19:39:32.498001Z",
     "start_time": "2018-07-22T19:39:32.486441Z"
    }
   },
   "outputs": [
    {
     "name": "stdout",
     "output_type": "stream",
     "text": [
      "<class 'pandas.core.frame.DataFrame'>\n",
      "RangeIndex: 7002 entries, 0 to 7001\n",
      "Data columns (total 3 columns):\n",
      "ID         7002 non-null object\n",
      "Lyrics     7002 non-null object\n",
      "Emotion    7002 non-null object\n",
      "dtypes: object(3)\n",
      "memory usage: 164.2+ KB\n"
     ]
    }
   ],
   "source": [
    "ml4q_lyrics_augmented.info()"
   ]
  },
  {
   "cell_type": "markdown",
   "metadata": {},
   "source": [
    "# Modeling"
   ]
  },
  {
   "cell_type": "code",
   "execution_count": 13,
   "metadata": {
    "ExecuteTime": {
     "end_time": "2018-07-22T19:39:32.508247Z",
     "start_time": "2018-07-22T19:39:32.501119Z"
    }
   },
   "outputs": [],
   "source": [
    "X = ml4q_lyrics['Lyrics']\n",
    "Y = ml4q_lyrics['Emotion']"
   ]
  },
  {
   "cell_type": "code",
   "execution_count": 14,
   "metadata": {
    "ExecuteTime": {
     "end_time": "2018-07-22T19:39:32.516067Z",
     "start_time": "2018-07-22T19:39:32.510365Z"
    }
   },
   "outputs": [],
   "source": [
    "le = LabelEncoder()\n",
    "Y = le.fit_transform(Y)\n",
    "Y =  np_utils.to_categorical(Y)"
   ]
  },
  {
   "cell_type": "code",
   "execution_count": 15,
   "metadata": {
    "ExecuteTime": {
     "end_time": "2018-07-22T19:39:32.527991Z",
     "start_time": "2018-07-22T19:39:32.518975Z"
    }
   },
   "outputs": [],
   "source": [
    "X_train,X_test,Y_train,Y_test = train_test_split(X, Y, test_size=0.2)"
   ]
  },
  {
   "cell_type": "markdown",
   "metadata": {},
   "source": [
    "## Data Preprocessing"
   ]
  },
  {
   "cell_type": "markdown",
   "metadata": {},
   "source": [
    "- Tokenize the data and convert the text to sequences.\n",
    "- Add padding to ensure that all the sequences have the same shape.\n",
    "- There are many ways of taking the max_len and here an arbitrary length of 300 is chosen."
   ]
  },
  {
   "cell_type": "code",
   "execution_count": 98,
   "metadata": {
    "ExecuteTime": {
     "end_time": "2018-07-22T20:08:13.193108Z",
     "start_time": "2018-07-22T20:08:12.663510Z"
    }
   },
   "outputs": [],
   "source": [
    "max_words = 150\n",
    "max_len = 200\n",
    "tok = Tokenizer(num_words=max_words)\n",
    "tok.fit_on_texts(X_train)\n",
    "sequences = tok.texts_to_sequences(X_train)\n",
    "sequences_matrix = sequence.pad_sequences(sequences,maxlen=max_len)"
   ]
  },
  {
   "cell_type": "markdown",
   "metadata": {},
   "source": [
    "## Model training\n",
    "\n",
    "### RNN"
   ]
  },
  {
   "cell_type": "code",
   "execution_count": 105,
   "metadata": {
    "ExecuteTime": {
     "end_time": "2018-07-22T20:10:41.953380Z",
     "start_time": "2018-07-22T20:10:41.924192Z"
    }
   },
   "outputs": [],
   "source": [
    "def RNN():\n",
    "    inputs = Input(name='inputs',shape=[max_len])\n",
    "    layer = Embedding(max_words,50,input_length=max_len)(inputs)\n",
    "    #layer = LSTM(128, return_sequences=True)(layer)\n",
    "    layer = LSTM(32)(layer)\n",
    "    layer = Dense(256, name='FC1')(layer)\n",
    "    layer = Activation('relu')(layer)\n",
    "    layer = Dropout(0.2)(layer)\n",
    "    #layer = Dense(128, name='FC2')(layer)\n",
    "    #layer = Activation('tanh')(layer)\n",
    "    #layer = Dropout(0.5)(layer)\n",
    "    layer = Dense(4,name='out_layer')(layer)\n",
    "    layer = Activation('softmax')(layer)\n",
    "    model = Model(inputs=inputs,outputs=layer)\n",
    "    return model"
   ]
  },
  {
   "cell_type": "code",
   "execution_count": 106,
   "metadata": {
    "ExecuteTime": {
     "end_time": "2018-07-22T20:10:42.576516Z",
     "start_time": "2018-07-22T20:10:42.324813Z"
    }
   },
   "outputs": [
    {
     "name": "stdout",
     "output_type": "stream",
     "text": [
      "_________________________________________________________________\n",
      "Layer (type)                 Output Shape              Param #   \n",
      "=================================================================\n",
      "inputs (InputLayer)          (None, 200)               0         \n",
      "_________________________________________________________________\n",
      "embedding_13 (Embedding)     (None, 200, 50)           7500      \n",
      "_________________________________________________________________\n",
      "lstm_18 (LSTM)               (None, 32)                10624     \n",
      "_________________________________________________________________\n",
      "FC1 (Dense)                  (None, 256)               8448      \n",
      "_________________________________________________________________\n",
      "activation_27 (Activation)   (None, 256)               0         \n",
      "_________________________________________________________________\n",
      "dropout_17 (Dropout)         (None, 256)               0         \n",
      "_________________________________________________________________\n",
      "out_layer (Dense)            (None, 4)                 1028      \n",
      "_________________________________________________________________\n",
      "activation_28 (Activation)   (None, 4)                 0         \n",
      "=================================================================\n",
      "Total params: 27,600\n",
      "Trainable params: 27,600\n",
      "Non-trainable params: 0\n",
      "_________________________________________________________________\n"
     ]
    }
   ],
   "source": [
    "model = RNN()\n",
    "model.summary()\n",
    "model.compile(loss='categorical_crossentropy',optimizer=RMSprop(),metrics=['accuracy'])"
   ]
  },
  {
   "cell_type": "code",
   "execution_count": 107,
   "metadata": {
    "ExecuteTime": {
     "end_time": "2018-07-22T20:12:35.099909Z",
     "start_time": "2018-07-22T20:10:42.785101Z"
    },
    "scrolled": false
   },
   "outputs": [
    {
     "name": "stdout",
     "output_type": "stream",
     "text": [
      "Train on 1246 samples, validate on 312 samples\n",
      "Epoch 1/50\n",
      "1246/1246 [==============================] - 4s 3ms/step - loss: 1.3861 - acc: 0.2616 - val_loss: 1.3847 - val_acc: 0.2821\n",
      "Epoch 2/50\n",
      "1246/1246 [==============================] - 2s 2ms/step - loss: 1.3767 - acc: 0.3395 - val_loss: 1.3733 - val_acc: 0.3365\n",
      "Epoch 3/50\n",
      "1246/1246 [==============================] - 2s 2ms/step - loss: 1.3501 - acc: 0.3820 - val_loss: 1.3627 - val_acc: 0.3718\n",
      "Epoch 4/50\n",
      "1246/1246 [==============================] - 2s 2ms/step - loss: 1.3051 - acc: 0.4189 - val_loss: 1.3103 - val_acc: 0.4071\n",
      "Epoch 5/50\n",
      "1246/1246 [==============================] - 2s 2ms/step - loss: 1.2729 - acc: 0.4262 - val_loss: 1.2924 - val_acc: 0.3846\n",
      "Epoch 6/50\n",
      "1246/1246 [==============================] - 2s 2ms/step - loss: 1.2167 - acc: 0.4583 - val_loss: 1.3091 - val_acc: 0.3718\n",
      "Epoch 7/50\n",
      "1246/1246 [==============================] - 2s 2ms/step - loss: 1.1998 - acc: 0.4486 - val_loss: 1.2731 - val_acc: 0.4391\n",
      "Epoch 8/50\n",
      "1246/1246 [==============================] - 2s 2ms/step - loss: 1.1729 - acc: 0.4783 - val_loss: 1.2653 - val_acc: 0.4231\n",
      "Epoch 9/50\n",
      "1246/1246 [==============================] - 2s 2ms/step - loss: 1.1529 - acc: 0.4839 - val_loss: 1.2699 - val_acc: 0.4103\n",
      "Epoch 10/50\n",
      "1246/1246 [==============================] - 2s 2ms/step - loss: 1.1360 - acc: 0.5064 - val_loss: 1.2897 - val_acc: 0.3942\n",
      "Epoch 11/50\n",
      "1246/1246 [==============================] - 2s 2ms/step - loss: 1.1390 - acc: 0.4823 - val_loss: 1.2445 - val_acc: 0.4647\n",
      "Epoch 12/50\n",
      "1246/1246 [==============================] - 2s 2ms/step - loss: 1.1049 - acc: 0.5193 - val_loss: 1.2639 - val_acc: 0.4423\n",
      "Epoch 13/50\n",
      "1246/1246 [==============================] - 2s 2ms/step - loss: 1.1224 - acc: 0.5169 - val_loss: 1.2859 - val_acc: 0.4071\n",
      "Epoch 14/50\n",
      "1246/1246 [==============================] - 2s 2ms/step - loss: 1.0969 - acc: 0.5385 - val_loss: 1.2785 - val_acc: 0.4359\n",
      "Epoch 15/50\n",
      "1246/1246 [==============================] - 2s 2ms/step - loss: 1.0912 - acc: 0.5136 - val_loss: 1.2986 - val_acc: 0.3878\n",
      "Epoch 16/50\n",
      "1246/1246 [==============================] - 2s 2ms/step - loss: 1.0810 - acc: 0.5337 - val_loss: 1.2324 - val_acc: 0.4615\n",
      "Epoch 17/50\n",
      "1246/1246 [==============================] - 2s 2ms/step - loss: 1.0755 - acc: 0.5289 - val_loss: 1.2510 - val_acc: 0.4103\n",
      "Epoch 18/50\n",
      "1246/1246 [==============================] - 2s 2ms/step - loss: 1.0602 - acc: 0.5305 - val_loss: 1.2835 - val_acc: 0.4199\n",
      "Epoch 19/50\n",
      "1246/1246 [==============================] - 3s 3ms/step - loss: 1.0760 - acc: 0.5289 - val_loss: 1.2512 - val_acc: 0.4391\n",
      "Epoch 20/50\n",
      "1246/1246 [==============================] - 2s 2ms/step - loss: 1.0635 - acc: 0.5417 - val_loss: 1.2713 - val_acc: 0.4647\n",
      "Epoch 21/50\n",
      "1246/1246 [==============================] - 2s 2ms/step - loss: 1.0408 - acc: 0.5594 - val_loss: 1.2731 - val_acc: 0.4263\n",
      "Epoch 22/50\n",
      "1246/1246 [==============================] - 2s 2ms/step - loss: 1.0595 - acc: 0.5433 - val_loss: 1.2809 - val_acc: 0.4263\n",
      "Epoch 23/50\n",
      "1246/1246 [==============================] - 2s 2ms/step - loss: 1.0553 - acc: 0.5506 - val_loss: 1.2438 - val_acc: 0.4551\n",
      "Epoch 24/50\n",
      "1246/1246 [==============================] - 2s 2ms/step - loss: 1.0273 - acc: 0.5730 - val_loss: 1.3145 - val_acc: 0.4359\n",
      "Epoch 25/50\n",
      "1246/1246 [==============================] - 2s 2ms/step - loss: 1.0291 - acc: 0.5449 - val_loss: 1.3160 - val_acc: 0.4103\n",
      "Epoch 26/50\n",
      "1246/1246 [==============================] - 2s 2ms/step - loss: 1.0112 - acc: 0.5674 - val_loss: 1.3593 - val_acc: 0.3942\n",
      "Epoch 27/50\n",
      "1246/1246 [==============================] - 2s 2ms/step - loss: 1.0223 - acc: 0.5457 - val_loss: 1.2924 - val_acc: 0.4840\n",
      "Epoch 28/50\n",
      "1246/1246 [==============================] - 2s 2ms/step - loss: 1.0287 - acc: 0.5618 - val_loss: 1.2966 - val_acc: 0.4776\n",
      "Epoch 29/50\n",
      "1246/1246 [==============================] - 2s 2ms/step - loss: 1.0189 - acc: 0.5618 - val_loss: 1.3004 - val_acc: 0.4712\n",
      "Epoch 30/50\n",
      "1246/1246 [==============================] - 2s 2ms/step - loss: 0.9969 - acc: 0.5746 - val_loss: 1.2980 - val_acc: 0.4423\n",
      "Epoch 31/50\n",
      "1246/1246 [==============================] - 2s 2ms/step - loss: 0.9870 - acc: 0.5835 - val_loss: 1.3329 - val_acc: 0.4327\n",
      "Epoch 32/50\n",
      "1246/1246 [==============================] - 2s 2ms/step - loss: 0.9954 - acc: 0.5859 - val_loss: 1.3207 - val_acc: 0.4647\n",
      "Epoch 33/50\n",
      "1246/1246 [==============================] - 2s 2ms/step - loss: 1.0017 - acc: 0.5811 - val_loss: 1.3084 - val_acc: 0.4647\n",
      "Epoch 34/50\n",
      "1246/1246 [==============================] - 2s 2ms/step - loss: 0.9843 - acc: 0.5923 - val_loss: 1.3794 - val_acc: 0.3974\n",
      "Epoch 35/50\n",
      "1246/1246 [==============================] - 2s 2ms/step - loss: 0.9732 - acc: 0.5939 - val_loss: 1.3512 - val_acc: 0.4712\n",
      "Epoch 36/50\n",
      "1246/1246 [==============================] - 2s 2ms/step - loss: 0.9934 - acc: 0.5835 - val_loss: 1.3554 - val_acc: 0.4712\n",
      "Epoch 37/50\n",
      "1246/1246 [==============================] - 2s 2ms/step - loss: 0.9675 - acc: 0.5963 - val_loss: 1.3454 - val_acc: 0.4455\n",
      "Epoch 38/50\n",
      "1246/1246 [==============================] - 2s 2ms/step - loss: 0.9847 - acc: 0.5883 - val_loss: 1.3352 - val_acc: 0.4487\n",
      "Epoch 39/50\n",
      "1246/1246 [==============================] - 2s 2ms/step - loss: 0.9353 - acc: 0.6083 - val_loss: 1.4268 - val_acc: 0.3942\n",
      "Epoch 40/50\n",
      "1246/1246 [==============================] - 2s 2ms/step - loss: 0.9567 - acc: 0.6019 - val_loss: 1.3348 - val_acc: 0.4423\n",
      "Epoch 41/50\n",
      "1246/1246 [==============================] - 2s 2ms/step - loss: 0.9439 - acc: 0.6108 - val_loss: 1.4889 - val_acc: 0.4327\n",
      "Epoch 42/50\n",
      "1246/1246 [==============================] - 2s 2ms/step - loss: 0.9647 - acc: 0.6051 - val_loss: 1.3621 - val_acc: 0.4679\n",
      "Epoch 43/50\n",
      "1246/1246 [==============================] - 2s 2ms/step - loss: 0.9578 - acc: 0.6083 - val_loss: 1.3619 - val_acc: 0.4647\n",
      "Epoch 44/50\n",
      "1246/1246 [==============================] - 2s 2ms/step - loss: 0.9280 - acc: 0.6156 - val_loss: 1.4293 - val_acc: 0.4551\n",
      "Epoch 45/50\n",
      "1246/1246 [==============================] - 2s 2ms/step - loss: 0.9502 - acc: 0.6148 - val_loss: 1.3682 - val_acc: 0.4359\n",
      "Epoch 46/50\n",
      "1246/1246 [==============================] - 2s 2ms/step - loss: 0.9578 - acc: 0.5859 - val_loss: 1.3797 - val_acc: 0.4391\n",
      "Epoch 47/50\n",
      "1246/1246 [==============================] - 2s 2ms/step - loss: 0.9085 - acc: 0.6316 - val_loss: 1.3915 - val_acc: 0.4712\n",
      "Epoch 48/50\n",
      "1246/1246 [==============================] - 2s 2ms/step - loss: 0.9130 - acc: 0.6196 - val_loss: 1.4035 - val_acc: 0.4295\n",
      "Epoch 49/50\n",
      "1246/1246 [==============================] - 2s 2ms/step - loss: 0.9256 - acc: 0.6300 - val_loss: 1.4258 - val_acc: 0.4295\n",
      "Epoch 50/50\n",
      "1246/1246 [==============================] - 2s 2ms/step - loss: 0.9204 - acc: 0.6236 - val_loss: 1.4151 - val_acc: 0.4391\n"
     ]
    },
    {
     "data": {
      "text/plain": [
       "<keras.callbacks.History at 0x7fdfc1b3ff60>"
      ]
     },
     "execution_count": 107,
     "metadata": {},
     "output_type": "execute_result"
    }
   ],
   "source": [
    "model.fit(sequences_matrix,Y_train,batch_size=128,epochs=50,\n",
    "          validation_split=0.2)"
   ]
  },
  {
   "cell_type": "markdown",
   "metadata": {},
   "source": [
    "Evaluate model on test"
   ]
  },
  {
   "cell_type": "code",
   "execution_count": 108,
   "metadata": {
    "ExecuteTime": {
     "end_time": "2018-07-22T20:12:35.171516Z",
     "start_time": "2018-07-22T20:12:35.102212Z"
    }
   },
   "outputs": [],
   "source": [
    "test_sequences = tok.texts_to_sequences(X_test)\n",
    "test_sequences_matrix = sequence.pad_sequences(test_sequences,maxlen=max_len)"
   ]
  },
  {
   "cell_type": "code",
   "execution_count": 109,
   "metadata": {
    "ExecuteTime": {
     "end_time": "2018-07-22T20:12:35.551551Z",
     "start_time": "2018-07-22T20:12:35.173900Z"
    }
   },
   "outputs": [
    {
     "name": "stdout",
     "output_type": "stream",
     "text": [
      "390/390 [==============================] - 0s 959us/step\n"
     ]
    }
   ],
   "source": [
    "accr = model.evaluate(test_sequences_matrix,Y_test)"
   ]
  },
  {
   "cell_type": "code",
   "execution_count": 110,
   "metadata": {
    "ExecuteTime": {
     "end_time": "2018-07-22T20:12:50.912794Z",
     "start_time": "2018-07-22T20:12:50.908838Z"
    }
   },
   "outputs": [
    {
     "name": "stdout",
     "output_type": "stream",
     "text": [
      "Test set\n",
      "  Loss: 1.423\n",
      "  Accuracy: 0.438\n"
     ]
    }
   ],
   "source": [
    "print('Test set\\n  Loss: {:0.3f}\\n  Accuracy: {:0.3f}'.format(accr[0],accr[1]))"
   ]
  },
  {
   "cell_type": "markdown",
   "metadata": {},
   "source": [
    "### Feedforward NN"
   ]
  },
  {
   "cell_type": "code",
   "execution_count": 69,
   "metadata": {
    "ExecuteTime": {
     "end_time": "2018-07-22T20:00:00.814539Z",
     "start_time": "2018-07-22T20:00:00.804684Z"
    }
   },
   "outputs": [],
   "source": [
    "def feedforward_nn():\n",
    "    classifier = Sequential()\n",
    "    classifier = Sequential()\n",
    "    classifier.add(Dense(units = 256, kernel_initializer = 'random_normal', \n",
    "                         activation = 'sigmoid', input_dim = max_len))\n",
    "    classifier.add(Dropout(0.5))\n",
    "    classifier.add(Dense(units = 4, kernel_initializer = 'glorot_normal', activation = 'softmax'))\n",
    "    classifier.compile(optimizer='adam', loss='categorical_crossentropy', metrics = ['accuracy'])\n",
    "    return classifier"
   ]
  },
  {
   "cell_type": "code",
   "execution_count": 70,
   "metadata": {
    "ExecuteTime": {
     "end_time": "2018-07-22T20:00:01.506125Z",
     "start_time": "2018-07-22T20:00:01.376221Z"
    }
   },
   "outputs": [
    {
     "name": "stdout",
     "output_type": "stream",
     "text": [
      "_________________________________________________________________\n",
      "Layer (type)                 Output Shape              Param #   \n",
      "=================================================================\n",
      "dense_3 (Dense)              (None, 256)               77056     \n",
      "_________________________________________________________________\n",
      "dropout_10 (Dropout)         (None, 256)               0         \n",
      "_________________________________________________________________\n",
      "dense_4 (Dense)              (None, 4)                 1028      \n",
      "=================================================================\n",
      "Total params: 78,084\n",
      "Trainable params: 78,084\n",
      "Non-trainable params: 0\n",
      "_________________________________________________________________\n"
     ]
    }
   ],
   "source": [
    "model = feedforward_nn()\n",
    "model.summary()\n",
    "model.compile(loss='categorical_crossentropy',optimizer=RMSprop(),metrics=['accuracy'])"
   ]
  }
 ],
 "metadata": {
  "kernelspec": {
   "display_name": "Python 3",
   "language": "python",
   "name": "python3"
  },
  "language_info": {
   "codemirror_mode": {
    "name": "ipython",
    "version": 3
   },
   "file_extension": ".py",
   "mimetype": "text/x-python",
   "name": "python",
   "nbconvert_exporter": "python",
   "pygments_lexer": "ipython3",
   "version": "3.5.2"
  },
  "toc": {
   "base_numbering": 1,
   "nav_menu": {},
   "number_sections": true,
   "sideBar": true,
   "skip_h1_title": false,
   "title_cell": "Table of Contents",
   "title_sidebar": "Contents",
   "toc_cell": false,
   "toc_position": {},
   "toc_section_display": true,
   "toc_window_display": true
  }
 },
 "nbformat": 4,
 "nbformat_minor": 2
}
